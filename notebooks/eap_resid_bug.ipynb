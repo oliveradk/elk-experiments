{
 "cells": [
  {
   "cell_type": "markdown",
   "metadata": {},
   "source": [
    "I believe there is a bug in the eap minimal implementation with the resid pre and post \n",
    "\n",
    "In particular, if you pass the 0th layer resid pre and final layer resid post, there are no connections to the resid pre and connections between final layer nodes and resid post are absent\n",
    "\n",
    "I suppose this could also be a design decision (in particular the lack of connection between final layer nodes and resid post)\n",
    "\n",
    "I guess the question is does this perist in other layers of the model too?"
   ]
  }
 ],
 "metadata": {
  "language_info": {
   "name": "python"
  }
 },
 "nbformat": 4,
 "nbformat_minor": 2
}
