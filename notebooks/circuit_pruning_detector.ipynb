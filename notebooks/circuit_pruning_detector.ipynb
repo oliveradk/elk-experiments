{
 "cells": [
  {
   "cell_type": "code",
   "execution_count": 1,
   "metadata": {},
   "outputs": [],
   "source": [
    "from pathlib import Path\n",
    "from typing import Tuple, Callable, Any\n",
    "from abc import abstractmethod, ABC\n",
    "from functools import partial\n",
    "from collections import defaultdict\n",
    "\n",
    "import torch \n",
    "\n",
    "from transformer_lens import HookedTransformer\n",
    "\n",
    "from cupbearer import tasks\n",
    "from cupbearer import utils\n",
    "from cupbearer.detectors import AnomalyDetector, ActivationBasedDetector\n",
    "from cupbearer.tasks.tiny_natural_mechanisms import get_effect_tokens\n",
    "from cupbearer.data import MixedData\n",
    "\n",
    "from elk_experiments.eap_detector import set_model\n",
    "from elk_experiments.tiny_natural_mechanisms_utils import get_task_subset\n",
    "\n",
    "from auto_circuit.prune_algos.mask_gradient import mask_gradient_prune_scores\n",
    "from auto_circuit.data import PromptDataset, PromptDataLoader\n",
    "from auto_circuit.types import AblationType, PatchType, PruneScores, CircuitOutputs, PatchWrapper\n",
    "from auto_circuit.utils.ablation_activations import src_ablations, batch_src_ablations\n",
    "from auto_circuit.utils.graph_utils import patch_mode, patchable_model\n",
    "from auto_circuit.utils.tensor_ops import desc_prune_scores, prune_scores_threshold\n",
    "from auto_circuit.utils.misc import module_by_name"
   ]
  },
  {
   "cell_type": "code",
   "execution_count": 2,
   "metadata": {},
   "outputs": [
    {
     "name": "stdout",
     "output_type": "stream",
     "text": [
      "Loaded pretrained model attn-only-1l into HookedTransformer\n",
      "Moving model to device:  cpu\n"
     ]
    },
    {
     "name": "stderr",
     "output_type": "stream",
     "text": [
      "/Users/oliverdaniels-koch/Library/Caches/pypoetry/virtualenvs/elk-experiments-AZ2LBS3Q-py3.10/lib/python3.10/site-packages/huggingface_hub/file_download.py:1132: FutureWarning: `resume_download` is deprecated and will be removed in version 1.0.0. Downloads always resume when possible. If you want to force a new download, use `force_download=True`.\n",
      "  warnings.warn(\n"
     ]
    },
    {
     "name": "stdout",
     "output_type": "stream",
     "text": [
      "Loaded pretrained model gpt2-small into HookedTransformer\n",
      "Moving model to device:  cpu\n"
     ]
    }
   ],
   "source": [
    "model_name = \"gpt2-small\"\n",
    "device = \"cpu\"\n",
    "task_name = \"hex\"\n",
    "task = get_task_subset(tasks.tiny_natural_mechanisms(task_name, device, model_name), 16, 8, 8)"
   ]
  },
  {
   "cell_type": "code",
   "execution_count": 3,
   "metadata": {},
   "outputs": [],
   "source": [
    "def make_prompt_dataset(data, effect_tokens, vocab_size):\n",
    "    clean_prompts = [x[0] for x in data]\n",
    "    answers = [effect_tokens] * len(clean_prompts)\n",
    "    wrong_answers = [list(set(range(vocab_size)) - set(answer)) for answer in answers]\n",
    "    \n",
    "    # put into torch tensors\n",
    "    clean_prompts = torch.stack(clean_prompts, dim=0)\n",
    "    corrupt_prompts = torch.stack([torch.zeros_like(clean_prompts[0], dtype=int)] * len(clean_prompts), dim=0)\n",
    "    answers = [torch.tensor(answer, dtype=int) for answer in answers]\n",
    "    wrong_answers= [torch.tensor(answer, dtype=int) for answer in wrong_answers]\n",
    "\n",
    "    return PromptDataset(clean_prompts, corrupt_prompts, answers, wrong_answers)"
   ]
  },
  {
   "cell_type": "code",
   "execution_count": 5,
   "metadata": {},
   "outputs": [],
   "source": [
    "# get mixed data to work with prompt dataloader"
   ]
  },
  {
   "cell_type": "code",
   "execution_count": 6,
   "metadata": {},
   "outputs": [],
   "source": [
    "test_data = task.test_data\n",
    "prompt_normal_data = make_prompt_dataset(test_data.normal_data, get_effect_tokens(task_name, task.model), task.model.tokenizer.vocab_size)\n",
    "prompt_anomalous_data = make_prompt_dataset(test_data.anomalous_data, get_effect_tokens(task_name, task.model), task.model.tokenizer.vocab_size)\n",
    "prompt_mixed_data = MixedData(prompt_normal_data, prompt_anomalous_data)"
   ]
  },
  {
   "cell_type": "code",
   "execution_count": 7,
   "metadata": {},
   "outputs": [],
   "source": [
    "from typing import List\n",
    "Label = int\n",
    "from auto_circuit.data import PromptPair, PromptPairBatch\n",
    "import torch as t"
   ]
  },
  {
   "cell_type": "code",
   "execution_count": 17,
   "metadata": {},
   "outputs": [],
   "source": [
    "def collate_fn(batch: List[Tuple[PromptPair, Label]]) -> Tuple[PromptPairBatch, t.Tensor]:\n",
    "    clean = t.stack([p.clean for p, y in batch])\n",
    "    corrupt = t.stack([p.corrupt for p, y in batch])\n",
    "    labels = t.tensor([y for p, y in batch], dtype=t.int)\n",
    "    if all([p.answers.shape == batch[0][0].answers.shape for p, y in batch]):\n",
    "        answers = t.stack([p.answers for p, y in batch])\n",
    "    else:  # Sometimes each prompt has a different number of answers\n",
    "        answers = [p.answers for p, y in batch]\n",
    "    if all([p.wrong_answers.shape == batch[0][0].wrong_answers.shape for p, y in batch]):\n",
    "        wrong_answers = t.stack([p.wrong_answers for p, y in batch])\n",
    "    else:  # Sometimes each prompt has a different number of wrong answers\n",
    "        wrong_answers = [p.wrong_answers for p, y in batch]\n",
    "    key = hash((str(clean.tolist()), str(corrupt.tolist())))\n",
    "\n",
    "    diverge_idxs = (~(clean == corrupt)).int().argmax(dim=1)\n",
    "    batch_dvrg_idx: int = int(diverge_idxs.min().item())\n",
    "    return PromptPairBatch(key, batch_dvrg_idx, clean, corrupt, answers, wrong_answers), labels\n"
   ]
  },
  {
   "cell_type": "code",
   "execution_count": 25,
   "metadata": {},
   "outputs": [],
   "source": [
    "prompt_dataloader = PromptDataLoader(\n",
    "    prompt_mixed_data,\n",
    "    16, \n",
    "    0,\n",
    "    batch_size=2,\n",
    "    collate_fn=collate_fn,\n",
    ")"
   ]
  },
  {
   "cell_type": "code",
   "execution_count": 26,
   "metadata": {},
   "outputs": [],
   "source": [
    "prompt_pair_batch, y = next(iter(prompt_dataloader))"
   ]
  },
  {
   "cell_type": "code",
   "execution_count": 27,
   "metadata": {},
   "outputs": [
    {
     "data": {
      "text/plain": [
       "(torch.Size([2, 16]), torch.Size([2]))"
      ]
     },
     "execution_count": 27,
     "metadata": {},
     "output_type": "execute_result"
    }
   ],
   "source": [
    "prompt_pair_batch.clean.shape, y.shape"
   ]
  },
  {
   "cell_type": "code",
   "execution_count": null,
   "metadata": {},
   "outputs": [],
   "source": [
    "# ok so the ideal thing is we create a mixedData object with prompt datasets, then we use the prompt dataloader \n",
    "# the problem I think its that the prompt dataloader doesnt' expect labels?"
   ]
  },
  {
   "cell_type": "code",
   "execution_count": 89,
   "metadata": {},
   "outputs": [],
   "source": [
    "class AutoCircuitDetector(AnomalyDetector, ABC):\n",
    "\n",
    "    def __init__(\n",
    "        self, \n",
    "        effect_tokens: list[int],\n",
    "        prune_scores_func: Callable[[HookedTransformer, PromptDataLoader], Tuple[PruneScores, torch.Tensor]], \n",
    "        layer_aggregation: str = \"mean\"\n",
    "    ):\n",
    "        self.effect_tokens = effect_tokens\n",
    "        self.prune_scores_func = prune_scores_func\n",
    "        self.pruning_scores: PruneScores\n",
    "        self.patch_src_outs: torch.Tensor\n",
    "        super().__init__(layer_aggregation=layer_aggregation)\n",
    "\n",
    "    def set_model(self, model: HookedTransformer, device=\"cpu\"):\n",
    "        # apply tl hooks\n",
    "        set_model(model)\n",
    "        # apply patching wrapper\n",
    "        self.model = patchable_model(\n",
    "            model, \n",
    "            factorized=True, \n",
    "            slice_output=\"last_seq\",\n",
    "            separate_qkv=True, \n",
    "            device=device\n",
    "        )\n",
    "    \n",
    "    \n",
    "    def train(\n",
    "        self,\n",
    "        trusted_data,\n",
    "        untrusted_data,\n",
    "        save_path: Path | str,\n",
    "        *,\n",
    "        batch_size: int = 64,\n",
    "        **trainer_kwargs,\n",
    "    ):\n",
    "        # construct prompt datasets and loaders\n",
    "        trusted_dataset = make_prompt_dataset(trusted_data, self.effect_tokens, self.model.tokenizer.vocab_size)\n",
    "        seq_len = trusted_dataset.clean_prompts.size(1)\n",
    "        trusted_dataloader = PromptDataLoader(\n",
    "            trusted_dataset, \n",
    "            seq_len=seq_len, \n",
    "            diverge_idx=0, \n",
    "            batch_size=batch_size, \n",
    "            shuffle=False\n",
    "        )\n",
    "\n",
    "        self.pruning_scores, self.patch_src_outs = self.prune_scores_func(\n",
    "            model=self.model,\n",
    "            dataloader=trusted_dataloader\n",
    "        )\n",
    "\n",
    "    def _get_trained_variables(self, saving: bool = False):\n",
    "        return {\n",
    "            \"pruning_scores\": self.pruning_scores,\n",
    "            \"patch_src_outs\": self.patch_src_outs\n",
    "        }.update(super()._get_trained_variables(saving))\n",
    "    \n",
    "    \n",
    "    def _set_trained_variables(self, variables):\n",
    "        self.pruning_scores = variables[\"pruning_scores\"]\n",
    "        self.patch_src_outs = variables[\"patch_src_outs\"]\n",
    "        super()._set_trained_variables(variables)\n",
    "\n",
    "    \n",
    "    def layerwise_scores(self, batch):\n",
    "        raise NotImplementedError(\n",
    "            \"Layerwise scores don't exist for finetuning detector\"\n",
    "        )\n",
    "    \n",
    "    def eval(\n",
    "        self,\n",
    "        dataset: MixedData, \n",
    "        batch_size: int = 1024,\n",
    "        histogram_percentile: float = 95,\n",
    "        save_path: Path | str | None = None,\n",
    "        num_bins: int = 100,\n",
    "        pbar: bool = False,\n",
    "        layerwise: bool = False,\n",
    "        log_yaxis: bool = True,\n",
    "    ):\n",
    "        #TODO: iterate over multiple k values (logaritmatically?) to get AUROC over thresholds\n",
    "        # construct data loader\n",
    "        normal_dataset = make_prompt_dataset(dataset.normal_data, self.effect_tokens, self.model.tokenizer.vocab_size)\n",
    "        anomalous_dataset = make_prompt_dataset(dataset.anomalous_data, self.effect_tokens, self.model.tokenizer.vocab_size)\n",
    "        prompt_dataset = MixedData(normal_dataset, anomalous_dataset, dataset.normal_weight, dataset.return_anomaly_labels)\n",
    "        seq_len = normal_dataset.clean_prompts.size(1)\n",
    "        dataloader = PromptDataLoader(\n",
    "            prompt_dataset,\n",
    "            seq_len=seq_len,\n",
    "            diverge_idx=0,\n",
    "            batch_size=batch_size,\n",
    "            shuffle=False, \n",
    "            collate_fn=collate_fn\n",
    "        )\n",
    "        return super().eval(\n",
    "            dataset=None,\n",
    "            test_loader=dataloader,\n",
    "            batch_size=batch_size,\n",
    "            histogram_percentile=histogram_percentile,\n",
    "            save_path=save_path,\n",
    "            num_bins=num_bins,\n",
    "            pbar=pbar,\n",
    "            layerwise=layerwise,\n",
    "            log_yaxis=log_yaxis,\n",
    "        )\n",
    "    \n",
    "    @abstractmethod\n",
    "    def scores(self, batch):\n",
    "        raise NotImplementedError\n",
    "\n",
    "\n"
   ]
  },
  {
   "cell_type": "code",
   "execution_count": 90,
   "metadata": {},
   "outputs": [],
   "source": [
    "def kl_div(patched_logits: torch.Tensor, logits: torch.Tensor):\n",
    "    # batch x vocab\n",
    "    log_probs = torch.nn.functional.log_softmax(logits, dim=-1)\n",
    "    patched_log_probs = torch.nn.functional.log_softmax(patched_logits, dim=-1)\n",
    "    kl = torch.nn.functional.kl_div(\n",
    "        patched_log_probs, \n",
    "        log_probs,\n",
    "        reduction=\"none\",\n",
    "        log_target=True\n",
    "    ) # batch x vocab\n",
    "    kl = kl.sum(dim=-1) # batch\n",
    "    return kl\n"
   ]
  },
  {
   "cell_type": "code",
   "execution_count": 91,
   "metadata": {},
   "outputs": [],
   "source": [
    "class AutoCircuitPruningDetector(AutoCircuitDetector):\n",
    "    def __init__(\n",
    "        self, \n",
    "        effect_tokens: list[int],\n",
    "        prune_scores_func: Callable[[HookedTransformer, PromptDataLoader], Tuple[PruneScores, CircuitOutputs]], \n",
    "        scores_func: Callable[[torch.Tensor, torch.Tensor], torch.Tensor],\n",
    "        k: int | None = None, \n",
    "        threshold: float | None = None,\n",
    "        layer_aggregation: str = \"mean\",\n",
    "    ): \n",
    "        assert (k is not None) ^ (threshold is not None), \"Either k or threshold must be specified\"\n",
    "        self.scores_func = scores_func\n",
    "        self.k = k\n",
    "        self.threshold = threshold\n",
    "        super().__init__(effect_tokens, prune_scores_func, layer_aggregation)\n",
    "\n",
    "    def scores(self, batch):\n",
    "        # for now, assume we're reusing the patch src outs, mean over tokens\n",
    "        print(type(batch))\n",
    "        input = utils.inputs_from_batch(batch)\n",
    "        print(\"input\", input)\n",
    "        input = input.clean\n",
    "        \n",
    "        circ_outs: CircuitOutputs = defaultdict(dict)\n",
    "        desc_ps = desc_prune_scores(self.pruning_scores) #TODO: look back at the other method they had\n",
    "        threshold = prune_scores_threshold(desc_ps, self.k) if self.threshold is None else self.threshold\n",
    "\n",
    "        # run patched model \n",
    "        with patch_mode(self.model, self.patch_src_outs):\n",
    "            # set patch masks according to threshold\n",
    "            patch_edge_count = 0 \n",
    "            for mod_name, patch_mask in self.pruning_scores.items():\n",
    "                dest = module_by_name(self.model, mod_name)\n",
    "                assert isinstance(dest, PatchWrapper)\n",
    "                assert dest.is_dest and dest.patch_mask is not None \n",
    "                # \"Tree patch\" patching all edges below threshold\n",
    "                dest.patch_mask.data = (patch_mask.abs() < threshold).float()\n",
    "                patch_edge_count += (1 - dest.patch_mask.int()).sum().item()\n",
    "            # run model\n",
    "            with torch.inference_mode():\n",
    "                patched_logits = self.model(input)[self.model.out_slice]\n",
    "\n",
    "        # normal output \n",
    "        with torch.inference_mode():\n",
    "            normal_logits = self.model(input)[self.model.out_slice]\n",
    "        \n",
    "        # compute scores\n",
    "        scores = self.scores_func(patched_logits, normal_logits)\n",
    "        return scores\n",
    "\n"
   ]
  },
  {
   "cell_type": "code",
   "execution_count": 93,
   "metadata": {},
   "outputs": [],
   "source": [
    "def kl_div_on_effects(patched_logits: torch.Tensor, logits: torch.Tensor, effect_tokens: list[int]):\n",
    "    # batch x vocab\n",
    "    # don't need to worry about numerical stability as much b/c not taking gradients, I guess...\n",
    "    patched_probs = torch.nn.functional.softmax(patched_logits, dim=-1)\n",
    "    probs = torch.nn.functional.softmax(logits, dim=-1)\n",
    "    # compute probability and inverse probability of effect tokens on patched and normal\n",
    "    patched_effect_prob = patched_probs[:, effect_tokens].sum(dim=-1)\n",
    "    effect_prob = probs[:, effect_tokens].sum(dim=-1)\n",
    "    patched_no_effect_prob = 1 - patched_effect_prob\n",
    "    no_effect_prob = 1 - effect_prob\n",
    "    # stack probabilities into distribution\n",
    "    patched_effect_log_dist = torch.stack([patched_effect_prob.log(), patched_no_effect_prob.log()], dim=1)\n",
    "    effect_log_dist = torch.stack([effect_prob.log(), no_effect_prob.log()], dim=1)\n",
    "    # take kl divergence betweeen patched and normal\n",
    "    kl = torch.nn.functional.kl_div(\n",
    "        patched_effect_log_dist, \n",
    "        effect_log_dist,\n",
    "        reduction=\"none\",\n",
    "        log_target=True\n",
    "    ) # batch x 2\n",
    "    assert kl.shape == (patched_logits.size(0), 2)\n",
    "    return kl.sum(dim=-1) # batch"
   ]
  },
  {
   "cell_type": "code",
   "execution_count": 94,
   "metadata": {},
   "outputs": [],
   "source": [
    "from cupbearer import scripts"
   ]
  },
  {
   "cell_type": "code",
   "execution_count": 95,
   "metadata": {},
   "outputs": [],
   "source": [
    "def concat_batch_src_outs(prune_scores, batch_src_outs: dict[str, torch.Tensor]):\n",
    "    # concatenate batch src outs\n",
    "    src_outs = torch.concat([src_out for src_out in batch_src_outs.values()], dim=0)\n",
    "    return prune_scores, src_outs"
   ]
  },
  {
   "cell_type": "code",
   "execution_count": 97,
   "metadata": {},
   "outputs": [],
   "source": [
    "effect_tokens = get_effect_tokens(task_name, task.model)\n",
    "other_tokens = list(set(range(task.model.tokenizer.vocab_size)) - set(effect_tokens))\n",
    "detector = AutoCircuitPruningDetector(\n",
    "    effect_tokens=effect_tokens,\n",
    "    prune_scores_func=lambda model, dataloader: concat_batch_src_outs(\n",
    "        *mask_gradient_prune_scores(\n",
    "            model=model, \n",
    "            dataloader=dataloader,\n",
    "            official_edges=None, \n",
    "            grad_function=\"logit\", \n",
    "            answer_function=\"avg_diff\", \n",
    "            ablation_type=AblationType.TOKENWISE_MEAN_CLEAN,\n",
    "            clean_corrupt=None,\n",
    "            mask_val=0, \n",
    "            return_src_outs=True\n",
    "        )\n",
    "    ),\n",
    "    scores_func=partial(\n",
    "        kl_div_on_effects, \n",
    "        effect_tokens=effect_tokens, \n",
    "    ),\n",
    "    k=20,\n",
    "    layer_aggregation=\"mean\"\n",
    ")"
   ]
  },
  {
   "cell_type": "code",
   "execution_count": 98,
   "metadata": {},
   "outputs": [
    {
     "name": "stdout",
     "output_type": "stream",
     "text": [
      "src_outs dict_keys([5857410530662190917, -605978729801072426, -934547301692912597, 2361803275780668003, 4940035353330599140, -935879827585170790, 6712016544468027373, -7318089697969660953])\n"
     ]
    },
    {
     "data": {
      "application/vnd.jupyter.widget-view+json": {
       "model_id": "4ad34aff1bc5405e8b17d716b4d86885",
       "version_major": 2,
       "version_minor": 0
      },
      "text/plain": [
       "VBox(children=(          | 0/1 [00:00<?, ?it/s],))"
      ]
     },
     "metadata": {},
     "output_type": "display_data"
    },
    {
     "data": {
      "application/vnd.jupyter.widget-view+json": {
       "model_id": "0cf82fefe46e4ebf8abfd281ec714949",
       "version_major": 2,
       "version_minor": 0
      },
      "text/plain": [
       "VBox(children=(Evaluating: 0it [00:00, ?it/s],))"
      ]
     },
     "metadata": {},
     "output_type": "display_data"
    },
    {
     "data": {
      "text/plain": [
       "(defaultdict(dict, {}), {})"
      ]
     },
     "execution_count": 98,
     "metadata": {},
     "output_type": "execute_result"
    }
   ],
   "source": [
    "scripts.train_detector(\n",
    "    task=task,\n",
    "    detector=detector,\n",
    "    save_path=None,\n",
    "    batch_size=16,\n",
    "    epochs=1\n",
    ")"
   ]
  },
  {
   "cell_type": "code",
   "execution_count": 99,
   "metadata": {},
   "outputs": [
    {
     "data": {
      "application/vnd.jupyter.widget-view+json": {
       "model_id": "25dbc8f7a138438d97399baa7552c819",
       "version_major": 2,
       "version_minor": 0
      },
      "text/plain": [
       "VBox(children=(Evaluating:   0%|          | 0/8 [00:00<?, ?it/s],))"
      ]
     },
     "metadata": {},
     "output_type": "display_data"
    },
    {
     "name": "stdout",
     "output_type": "stream",
     "text": [
      "<class 'auto_circuit.data.PromptPairBatch'>\n",
      "input PromptPairBatch(key=5135123883762927614, batch_diverge_idx=0, clean=tensor([[  220,   220,   220,   220,   220,   220,   471, 27586, 10786,  6659,\n",
      "          1120,    67,  5705,    66,    12,    17],\n",
      "        [    2,     2,     2,     2,     2,     2,    18,    14,  1731,  1795,\n",
      "         25644, 47493,    62,    67, 10210,    16]]), corrupt=tensor([[0, 0, 0, 0, 0, 0, 0, 0, 0, 0, 0, 0, 0, 0, 0, 0],\n",
      "        [0, 0, 0, 0, 0, 0, 0, 0, 0, 0, 0, 0, 0, 0, 0, 0]]), answers=tensor([[47106, 20483, 28676,  ..., 38907, 47101, 49150],\n",
      "        [47106, 20483, 28676,  ..., 38907, 47101, 49150]]), wrong_answers=tensor([[    0,     1,     2,  ..., 50254, 50255, 50256],\n",
      "        [    0,     1,     2,  ..., 50254, 50255, 50256]]))\n",
      "<class 'auto_circuit.data.PromptPairBatch'>\n",
      "input PromptPairBatch(key=-2789892314061927833, batch_diverge_idx=0, clean=tensor([[  220,   220,   220,   220,   220,   220,   220,   220,   220,   220,\n",
      "           220, 37250,  4059,  1899,    65,    15],\n",
      "        [    2,     2,     2,     2,     2,  3084,  2779,  1241,   362,    68,\n",
      "          2713,  7568,    66,  3023, 18742,  2231]]), corrupt=tensor([[0, 0, 0, 0, 0, 0, 0, 0, 0, 0, 0, 0, 0, 0, 0, 0],\n",
      "        [0, 0, 0, 0, 0, 0, 0, 0, 0, 0, 0, 0, 0, 0, 0, 0]]), answers=tensor([[47106, 20483, 28676,  ..., 38907, 47101, 49150],\n",
      "        [47106, 20483, 28676,  ..., 38907, 47101, 49150]]), wrong_answers=tensor([[    0,     1,     2,  ..., 50254, 50255, 50256],\n",
      "        [    0,     1,     2,  ..., 50254, 50255, 50256]]))\n",
      "<class 'auto_circuit.data.PromptPairBatch'>\n",
      "input PromptPairBatch(key=1449178056376683175, batch_diverge_idx=0, clean=tensor([[    2,     2,     2,     2, 11698,  5188,    62, 23683, 26087,    62,\n",
      "         20373,   796,   705,    67,  5999, 29173],\n",
      "        [  530,  2095,   318,  4938,   986,   198,   220,   220,   220,  4938,\n",
      "          1925,    81,   796,   705,    62, 30206]]), corrupt=tensor([[0, 0, 0, 0, 0, 0, 0, 0, 0, 0, 0, 0, 0, 0, 0, 0],\n",
      "        [0, 0, 0, 0, 0, 0, 0, 0, 0, 0, 0, 0, 0, 0, 0, 0]]), answers=tensor([[47106, 20483, 28676,  ..., 38907, 47101, 49150],\n",
      "        [47106, 20483, 28676,  ..., 38907, 47101, 49150]]), wrong_answers=tensor([[    0,     1,     2,  ..., 50254, 50255, 50256],\n",
      "        [    0,     1,     2,  ..., 50254, 50255, 50256]]))\n",
      "<class 'auto_circuit.data.PromptPairBatch'>\n",
      "input PromptPairBatch(key=1651163711936358371, batch_diverge_idx=0, clean=tensor([[   62,   260,  7501,    62, 21943,    62, 41509,   796, 47125,    22,\n",
      "          2624,   324,    23,    65,    17,   276],\n",
      "        [    2,     2,     2,  2398,    14, 13155,  7535,    14, 18218,    14,\n",
      "            23,    66,  3070,  5036,  1954,  1507]]), corrupt=tensor([[0, 0, 0, 0, 0, 0, 0, 0, 0, 0, 0, 0, 0, 0, 0, 0],\n",
      "        [0, 0, 0, 0, 0, 0, 0, 0, 0, 0, 0, 0, 0, 0, 0, 0]]), answers=tensor([[47106, 20483, 28676,  ..., 38907, 47101, 49150],\n",
      "        [47106, 20483, 28676,  ..., 38907, 47101, 49150]]), wrong_answers=tensor([[    0,     1,     2,  ..., 50254, 50255, 50256],\n",
      "        [    0,     1,     2,  ..., 50254, 50255, 50256]]))\n",
      "<class 'auto_circuit.data.PromptPairBatch'>\n",
      "input PromptPairBatch(key=-3833843708588786866, batch_diverge_idx=0, clean=tensor([[    2,     2,     2,     2,  1821,   535,  1600, 25113,   487,  1821,\n",
      "          1821,  1600, 25113,  1821,   487,    19],\n",
      "        [   15,  4357,  7110,    62,  9521,    58,    72,    11,    16,  4357,\n",
      "          7577, 11639,     2,  1453,    21,    64]]), corrupt=tensor([[0, 0, 0, 0, 0, 0, 0, 0, 0, 0, 0, 0, 0, 0, 0, 0],\n",
      "        [0, 0, 0, 0, 0, 0, 0, 0, 0, 0, 0, 0, 0, 0, 0, 0]]), answers=tensor([[47106, 20483, 28676,  ..., 38907, 47101, 49150],\n",
      "        [47106, 20483, 28676,  ..., 38907, 47101, 49150]]), wrong_answers=tensor([[    0,     1,     2,  ..., 50254, 50255, 50256],\n",
      "        [    0,     1,     2,  ..., 50254, 50255, 50256]]))\n",
      "<class 'auto_circuit.data.PromptPairBatch'>\n",
      "input PromptPairBatch(key=3552093607309422317, batch_diverge_idx=0, clean=tensor([[    2,     2,    16, 19881,  3256,   705,     2,    64, 37466,  2078,\n",
      "          3256,   705,     2,  4089,    19, 18213],\n",
      "        [    2,    33,    17,    33,    18,    33,    22,     6,   198,  9148,\n",
      "          8924,   796,   705,     2,  2791,  2079]]), corrupt=tensor([[0, 0, 0, 0, 0, 0, 0, 0, 0, 0, 0, 0, 0, 0, 0, 0],\n",
      "        [0, 0, 0, 0, 0, 0, 0, 0, 0, 0, 0, 0, 0, 0, 0, 0]]), answers=tensor([[47106, 20483, 28676,  ..., 38907, 47101, 49150],\n",
      "        [47106, 20483, 28676,  ..., 38907, 47101, 49150]]), wrong_answers=tensor([[    0,     1,     2,  ..., 50254, 50255, 50256],\n",
      "        [    0,     1,     2,  ..., 50254, 50255, 50256]]))\n",
      "<class 'auto_circuit.data.PromptPairBatch'>\n",
      "input PromptPairBatch(key=498189576156047776, batch_diverge_idx=0, clean=tensor([[ 8300,    13,  1475,    13,   366,  8043,    25,   445,     1,  2427,\n",
      "           286,   366,  8043, 43922,   487,    15],\n",
      "        [  220,   220,   220,   220,   366,   220,   220,   220,  4865,    25,\n",
      "           657,  8416,  4735,  1303,    69,    15]]), corrupt=tensor([[0, 0, 0, 0, 0, 0, 0, 0, 0, 0, 0, 0, 0, 0, 0, 0],\n",
      "        [0, 0, 0, 0, 0, 0, 0, 0, 0, 0, 0, 0, 0, 0, 0, 0]]), answers=tensor([[47106, 20483, 28676,  ..., 38907, 47101, 49150],\n",
      "        [47106, 20483, 28676,  ..., 38907, 47101, 49150]]), wrong_answers=tensor([[    0,     1,     2,  ..., 50254, 50255, 50256],\n",
      "        [    0,     1,     2,  ..., 50254, 50255, 50256]]))\n",
      "<class 'auto_circuit.data.PromptPairBatch'>\n",
      "input PromptPairBatch(key=1431937263903645852, batch_diverge_idx=0, clean=tensor([[  220,   220,   220,   220,   220,   220,   705,  2704, 18994, 10354,\n",
      "             6,    27, 10331,  3124, 25698,    15],\n",
      "        [ 2116,    13, 46118,    62, 16794,    13, 11250,   495,     7,  5275,\n",
      "         25249, 25698,    67,    24,    67,    24]]), corrupt=tensor([[0, 0, 0, 0, 0, 0, 0, 0, 0, 0, 0, 0, 0, 0, 0, 0],\n",
      "        [0, 0, 0, 0, 0, 0, 0, 0, 0, 0, 0, 0, 0, 0, 0, 0]]), answers=tensor([[47106, 20483, 28676,  ..., 38907, 47101, 49150],\n",
      "        [47106, 20483, 28676,  ..., 38907, 47101, 49150]]), wrong_answers=tensor([[    0,     1,     2,  ..., 50254, 50255, 50256],\n",
      "        [    0,     1,     2,  ..., 50254, 50255, 50256]]))\n"
     ]
    },
    {
     "name": "stderr",
     "output_type": "stream",
     "text": [
      "\u001b[32m2024-07-10 11:03:46.649\u001b[0m | \u001b[1mINFO    \u001b[0m | \u001b[36m__main__\u001b[0m:\u001b[36meval\u001b[0m:\u001b[36m154\u001b[0m - \u001b[1mAUC_ROC (all): 0.6562\u001b[0m\n",
      "\u001b[32m2024-07-10 11:03:46.650\u001b[0m | \u001b[1mINFO    \u001b[0m | \u001b[36m__main__\u001b[0m:\u001b[36meval\u001b[0m:\u001b[36m155\u001b[0m - \u001b[1mAP (all): 0.6230\u001b[0m\n"
     ]
    },
    {
     "data": {
      "text/plain": [
       "(defaultdict(dict, {'all': {'AUC_ROC': 0.65625, 'AP': 0.6229978354978355}}),\n",
       " {'all': <Figure size 640x480 with 1 Axes>})"
      ]
     },
     "execution_count": 99,
     "metadata": {},
     "output_type": "execute_result"
    },
    {
     "data": {
      "image/png": "[encoded data removed]",
      "text/plain": [
       "<Figure size 640x480 with 1 Axes>"
      ]
     },
     "metadata": {},
     "output_type": "display_data"
    }
   ],
   "source": [
    "scripts.eval_detector(\n",
    "    task=task,\n",
    "    detector=detector,\n",
    "    save_path=None,\n",
    "    batch_size=2,\n",
    "    pbar=True,\n",
    "    layerwise=False,\n",
    ")"
   ]
  },
  {
   "cell_type": "code",
   "execution_count": null,
   "metadata": {},
   "outputs": [],
   "source": [
    "class AutoCircuitScoresDetector(AutoCircuitDetector, ActivationBasedDetector):\n",
    "    #TODO:\n",
    "    pass"
   ]
  }
 ],
 "metadata": {
  "kernelspec": {
   "display_name": "elk-experiments-AZ2LBS3Q-py3.10",
   "language": "python",
   "name": "python3"
  },
  "language_info": {
   "codemirror_mode": {
    "name": "ipython",
    "version": 3
   },
   "file_extension": ".py",
   "mimetype": "text/x-python",
   "name": "python",
   "nbconvert_exporter": "python",
   "pygments_lexer": "ipython3",
   "version": "3.10.14"
  }
 },
 "nbformat": 4,
 "nbformat_minor": 2
}
