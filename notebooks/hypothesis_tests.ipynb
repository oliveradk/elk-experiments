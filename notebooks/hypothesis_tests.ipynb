{
 "cells": [
  {
   "cell_type": "code",
   "execution_count": 1,
   "metadata": {},
   "outputs": [],
   "source": [
    "# set cuda visible devices\n",
    "def is_notebook() -> bool:\n",
    "    try:\n",
    "        shell = get_ipython().__class__.__name__\n",
    "        if shell == 'ZMQInteractiveShell':\n",
    "            return True   # Jupyter notebook or qtconsole\n",
    "        elif shell == 'TerminalInteractiveShell':\n",
    "            return False  # Terminal running IPython\n",
    "        else:\n",
    "            return False  # Other type (?)\n",
    "    except NameError:\n",
    "        return False      # Probably standard Python interpreter\n",
    "\n",
    "import os\n",
    "if is_notebook():\n",
    "    os.environ[\"CUDA_VISIBLE_DEVICES\"] = \"7\" #\"1\"\n",
    "    # os.environ['CUDA_LAUNCH_BLOCKING']=\"1\"\n",
    "    # os.environ['TORCH_USE_CUDA_DSA'] = \"1\""
   ]
  },
  {
   "cell_type": "code",
   "execution_count": 2,
   "metadata": {},
   "outputs": [
    {
     "data": {
      "text/plain": [
       "True"
      ]
     },
     "execution_count": 2,
     "metadata": {},
     "output_type": "execute_result"
    }
   ],
   "source": [
    "import torch \n",
    "torch.cuda.is_available()"
   ]
  },
  {
   "cell_type": "markdown",
   "metadata": {},
   "source": [
    "# Hypothesis Testing Automatically Discovered Circuits\n",
    "\n",
    "Procedure: \n",
    "- Compute prune scores (via attribution patching) \n",
    "- Search over different thresholds to find the smallest circuit where the null hypotheis of Equivalence / Dominance cannot be rejected \n",
    "- Prune edges from circuit that are not in paths to the output, or in the case of resample ablation cannot be reached from the input\n",
    "- Test whether each edge in the circuit is minimal \n",
    "- Test whether the circuit is complete (by seeing if the null hypothesis on the independence test can be rejected)\n",
    "\n"
   ]
  },
  {
   "cell_type": "markdown",
   "metadata": {},
   "source": [
    "#  Minimal Faithful Circuit According to Prune Score Ordering"
   ]
  },
  {
   "cell_type": "code",
   "execution_count": 3,
   "metadata": {},
   "outputs": [],
   "source": [
    "import os\n",
    "from typing import Callable, Dict, Tuple, Union, Optional, Any, Literal, NamedTuple\n",
    "from itertools import product\n",
    "from copy import deepcopy\n",
    "import random\n",
    "import math\n",
    "from collections import defaultdict\n",
    "from dataclasses import dataclass\n",
    "from pathlib import Path\n",
    "\n",
    "import torch\n",
    "import numpy as np\n",
    "from scipy.stats import binom, beta\n",
    "\n",
    "import matplotlib.pyplot as plt\n",
    "\n",
    "from omegaconf import OmegaConf\n",
    "\n",
    "from auto_circuit.types import BatchKey, AblationType\n",
    "from auto_circuit.prune_algos.mask_gradient import mask_gradient_prune_scores\n",
    "from auto_circuit.visualize import draw_seq_graph\n",
    "from auto_circuit.utils.custom_tqdm import tqdm\n",
    "\n",
    "from elk_experiments.auto_circuit.auto_circuit_utils import (\n",
    "    desc_prune_scores, \n",
    "    prune_scores_threshold, \n",
    ")\n",
    "from elk_experiments.auto_circuit.score_funcs import GradFunc, AnswerFunc\n",
    "\n",
    "from elk_experiments.auto_circuit.hypo_tests.equiv_test import (\n",
    "    Side,\n",
    "    get_edge_idx, \n",
    "    edges_from_mask,\n",
    "    equiv_test,\n",
    "    sweep_search_smallest_equiv,\n",
    "    plot_num_ablated_C_gt_M, \n",
    "    plot_circuit_and_model_scores,\n",
    "    compute_knees, \n",
    "    plot_edge_scores_and_knees,\n",
    ")\n",
    "from elk_experiments.auto_circuit.hypo_tests.minimality_test import (\n",
    "    minimality_test, \n",
    "    plot_p_values, \n",
    "    plot_edge_k, \n",
    "    plot_score_quantiles,\n",
    ")\n",
    "from elk_experiments.auto_circuit.hypo_tests.indep_test import independence_test\n",
    "from elk_experiments.auto_circuit.hypo_tests.utils import (\n",
    "    get_edge_idx, \n",
    "    edges_from_mask, \n",
    "    set_score,\n",
    "    result_to_json\n",
    ")\n",
    "from elk_experiments.auto_circuit.node_graph import (\n",
    "    NodeGraph, \n",
    "    SeqNode, \n",
    "    NodeIdx,\n",
    "    SampleType,\n",
    "    get_node_idx, \n",
    "    sample_paths, \n",
    "    visualize_graph, \n",
    "    edge_in_path\n",
    ")\n",
    "from elk_experiments.auto_circuit.tasks import TASK_DICT\n",
    "from elk_experiments.utils import OUTPUT_DIR, repo_path_to_abs_path, load_cache, save_cache, save_json"
   ]
  },
  {
   "cell_type": "code",
   "execution_count": 103,
   "metadata": {},
   "outputs": [],
   "source": [
    "# config class\n",
    "@dataclass \n",
    "class Config: \n",
    "    task: str = \"Docstring Token Circuit\"\n",
    "    use_abs: bool = False\n",
    "    ablation_type: Union[AblationType, str] = AblationType.TOKENWISE_MEAN_CORRUPT \n",
    "    grad_func: Optional[Union[GradFunc, str]] = None\n",
    "    answer_func: Optional[Union[AnswerFunc, str]] = None\n",
    "    ig_samples: int = 10\n",
    "    alpha: float = 0.05\n",
    "    epsilon: Optional[float] = None\n",
    "    q_star: float = 0.9 \n",
    "    grad_func_mask: Optional[Union[GradFunc, str]] = None\n",
    "    answer_func_mask: Optional[Union[AnswerFunc, str]] = None\n",
    "    clean_corrupt: Optional[str] = None #TODO: make enum\n",
    "    side: Optional[Union[Side, str]] = None\n",
    "    max_edges_to_test_in_order: int = 100 #TODO: change to 125\n",
    "    max_edges_to_sample: int = 100 # TODO: change to 125\n",
    "    save_cache: bool = True\n",
    "    \n",
    "    def __post_init__(self):\n",
    "        if isinstance(self.ablation_type, str):\n",
    "            self.ablation_type = AblationType[self.ablation_type.upper()]\n",
    "        if isinstance(self.grad_func, str):\n",
    "            self.grad_func = GradFunc[self.grad_func.upper()]\n",
    "        elif self.grad_func is None:\n",
    "            self.grad_func = GradFunc.LOGPROB if not self.use_abs else GradFunc.LOGIT\n",
    "        if isinstance(self.answer_func, str):\n",
    "            self.answer_func = AnswerFunc[self.answer_func.upper()]\n",
    "        elif self.answer_func is None:\n",
    "            self.answer_func = AnswerFunc.AVG_VAL if not self.use_abs else AnswerFunc.AVG_DIFF\n",
    "        if self.epsilon is None:\n",
    "            self.epsilon = 0.1 if self.use_abs else 0.0\n",
    "        if isinstance(self.grad_func_mask, str):\n",
    "            self.grad_func_mask = GradFunc[self.grad_func_mask.upper()]\n",
    "        elif self.grad_func_mask is None:\n",
    "            self.grad_func_mask = self.grad_func\n",
    "        if isinstance(self.answer_func_mask, str):\n",
    "            self.answer_func_mask = AnswerFunc[self.answer_func_mask.upper()]\n",
    "        elif self.answer_func_mask is None:\n",
    "            self.answer_func_mask = self.answer_func\n",
    "        if self.clean_corrupt is None:\n",
    "            self.clean_corrupt = \"corrupt\" if self.ablation_type == AblationType.RESAMPLE else None\n",
    "        if isinstance(self.side, str):\n",
    "            self.side = Side[self.side.upper()]\n",
    "        if self.side is None:\n",
    "            self.side = Side.NONE if self.use_abs else Side.LEFT"
   ]
  },
  {
   "cell_type": "code",
   "execution_count": 104,
   "metadata": {},
   "outputs": [],
   "source": [
    "# initialize config \n",
    "conf = Config()\n",
    "# get config overrides if runnign from command line\n",
    "if not is_notebook():\n",
    "    import sys \n",
    "    conf_dict = OmegaConf.merge(OmegaConf.structured(conf), OmegaConf.from_cli(sys.argv[1:]))\n",
    "    conf = Config(**conf_dict)"
   ]
  },
  {
   "cell_type": "code",
   "execution_count": 105,
   "metadata": {},
   "outputs": [],
   "source": [
    "# handle directories\n",
    "out_dir = repo_path_to_abs_path(OUTPUT_DIR / \"hypo_test_results\")\n",
    "out_dir.mkdir(exist_ok=True)\n",
    "score_dir = out_dir / f\"{conf.task.replace(' ', '_')}_{conf.ablation_type.name}_{conf.grad_func.name}_{conf.answer_func.name}_{conf.ig_samples}\" \n",
    "score_dir.mkdir(exist_ok=True)\n",
    "exp_dir = score_dir / f\"{conf.use_abs}_{conf.alpha}_{conf.epsilon}_{conf.q_star}\"\n",
    "if not is_notebook() and exp_dir.exists():\n",
    "    print(f\"Experiment directory {exp_dir} already exists. Exiting.\")\n",
    "    exit()\n",
    "exp_dir.mkdir(exist_ok=True)"
   ]
  },
  {
   "cell_type": "code",
   "execution_count": 106,
   "metadata": {},
   "outputs": [],
   "source": [
    "# initialize task\n",
    "task = TASK_DICT[conf.task]\n",
    "task.init_task()"
   ]
  },
  {
   "cell_type": "code",
   "execution_count": 107,
   "metadata": {},
   "outputs": [
    {
     "data": {
      "application/vnd.jupyter.widget-view+json": {
       "model_id": "2d8a5a3edc8e429d81ab82ce69a7a3c4",
       "version_major": 2,
       "version_minor": 0
      },
      "text/plain": [
       "VBox(children=(          | 0/11 [00:00<?, ?it/s],))"
      ]
     },
     "metadata": {},
     "output_type": "display_data"
    },
    {
     "name": "stdout",
     "output_type": "stream",
     "text": [
      "Saving cache to /nas/ucb/oliveradk/elk-experiments/output/hypo_test_results/Docstring_Token_Circuit_TOKENWISE_MEAN_CORRUPT_LOGPROB_AVG_VAL_10/False_0.05_0.0_0.9/prune_scores-08-08-2024_16-22-18.pkl\n"
     ]
    }
   ],
   "source": [
    "# compute edge scores\n",
    "# TODO: pass full model\n",
    "prune_scores = mask_gradient_prune_scores(\n",
    "    model=task.model, \n",
    "    dataloader=task.train_loader,\n",
    "    official_edges=None,\n",
    "    grad_function=conf.grad_func_mask.value, \n",
    "    answer_function=conf.answer_func_mask.value, #answer_function,\n",
    "    mask_val=None, \n",
    "    ablation_type=conf.ablation_type,\n",
    "    integrated_grad_samples=conf.ig_samples, \n",
    "    clean_corrupt=conf.clean_corrupt,\n",
    ")\n",
    "if conf.save_cache:\n",
    "    save_cache(prune_scores, exp_dir, \"prune_scores\")"
   ]
  },
  {
   "cell_type": "code",
   "execution_count": 108,
   "metadata": {},
   "outputs": [],
   "source": [
    "model_out_train: dict[BatchKey, torch.Tensor] = {\n",
    "    batch.key: task.model(batch.clean)[task.model.out_slice] \n",
    "    for batch in task.train_loader\n",
    "}\n",
    "model_out_test: dict[BatchKey, torch.Tensor] = {\n",
    "    batch.key: task.model(batch.clean)[task.model.out_slice] \n",
    "    for batch in task.test_loader\n",
    "}"
   ]
  },
  {
   "cell_type": "code",
   "execution_count": 109,
   "metadata": {},
   "outputs": [
    {
     "name": "stdout",
     "output_type": "stream",
     "text": [
      "interval: 0 - 38430\n",
      "width 1000\n"
     ]
    },
    {
     "data": {
      "application/vnd.jupyter.widget-view+json": {
       "model_id": "8cf4f3a1dd244ac08c7429d48efe429e",
       "version_major": 2,
       "version_minor": 0
      },
      "text/plain": [
       "VBox(children=(          | 0/2 [00:00<?, ?it/s],))"
      ]
     },
     "metadata": {},
     "output_type": "display_data"
    },
    {
     "name": "stdout",
     "output_type": "stream",
     "text": [
      "interval: 0 - 1000\n",
      "width 100\n"
     ]
    },
    {
     "data": {
      "application/vnd.jupyter.widget-view+json": {
       "model_id": "64caefde2779486e9c6f6db79e3a2289",
       "version_major": 2,
       "version_minor": 0
      },
      "text/plain": [
       "VBox(children=(          | 0/2 [00:00<?, ?it/s],))"
      ]
     },
     "metadata": {},
     "output_type": "display_data"
    },
    {
     "name": "stdout",
     "output_type": "stream",
     "text": [
      "interval: 0 - 100\n",
      "width 10\n"
     ]
    },
    {
     "data": {
      "application/vnd.jupyter.widget-view+json": {
       "model_id": "c4c1bc08c6c34690abb90cc60d9000d4",
       "version_major": 2,
       "version_minor": 0
      },
      "text/plain": [
       "VBox(children=(          | 0/2 [00:00<?, ?it/s],))"
      ]
     },
     "metadata": {},
     "output_type": "display_data"
    },
    {
     "name": "stdout",
     "output_type": "stream",
     "text": [
      "interval: 20 - 30\n",
      "width 1\n"
     ]
    },
    {
     "data": {
      "application/vnd.jupyter.widget-view+json": {
       "model_id": "95af2681fab34e5895e62a45a0a3db54",
       "version_major": 2,
       "version_minor": 0
      },
      "text/plain": [
       "VBox(children=(          | 0/2 [00:00<?, ?it/s],))"
      ]
     },
     "metadata": {},
     "output_type": "display_data"
    },
    {
     "name": "stdout",
     "output_type": "stream",
     "text": [
      "Saving json to /nas/ucb/oliveradk/elk-experiments/output/hypo_test_results/Docstring_Token_Circuit_TOKENWISE_MEAN_CORRUPT_LOGPROB_AVG_VAL_10/False_0.05_0.0_0.9/equiv_results.json\n"
     ]
    }
   ],
   "source": [
    "equiv_results, min_equiv = sweep_search_smallest_equiv(\n",
    "    model=task.model, \n",
    "    dataloader=task.train_loader,\n",
    "    prune_scores=prune_scores,\n",
    "    grad_function=conf.grad_func, \n",
    "    answer_function=conf.answer_func,\n",
    "    ablation_type=conf.ablation_type,\n",
    "    use_abs=conf.use_abs,\n",
    "    side=conf.side,\n",
    "    alpha=conf.alpha,\n",
    "    epsilon=conf.epsilon,\n",
    "    model_out=model_out_train,\n",
    ")\n",
    "save_json({k: result_to_json(v) for k, v in equiv_results.items()}, exp_dir, \"equiv_results\")"
   ]
  },
  {
   "cell_type": "code",
   "execution_count": 110,
   "metadata": {},
   "outputs": [
    {
     "data": {
      "application/vnd.jupyter.widget-view+json": {
       "model_id": "052694d169f645f09814a39f96342412",
       "version_major": 2,
       "version_minor": 0
      },
      "text/plain": [
       "VBox(children=(          | 0/2 [00:00<?, ?it/s],))"
      ]
     },
     "metadata": {},
     "output_type": "display_data"
    },
    {
     "name": "stdout",
     "output_type": "stream",
     "text": [
      "Saving json to /nas/ucb/oliveradk/elk-experiments/output/hypo_test_results/Docstring_Token_Circuit_TOKENWISE_MEAN_CORRUPT_LOGPROB_AVG_VAL_10/False_0.05_0.0_0.9/equiv_test_result.json\n"
     ]
    }
   ],
   "source": [
    "equiv_test_result = equiv_test(\n",
    "    model=task.model, \n",
    "    dataloader=task.test_loader,\n",
    "    prune_scores=prune_scores,\n",
    "    grad_function=conf.grad_func, \n",
    "    answer_function=conf.answer_func,\n",
    "    ablation_type=conf.ablation_type,\n",
    "    edge_counts=[min_equiv],\n",
    "    use_abs=conf.use_abs,\n",
    "    side=conf.side,\n",
    "    alpha=conf.alpha,\n",
    "    epsilon=conf.epsilon,\n",
    "    model_out=model_out_test\n",
    ")[min_equiv]\n",
    "save_json(result_to_json(equiv_test_result), exp_dir, \"equiv_test_result\")"
   ]
  },
  {
   "cell_type": "code",
   "execution_count": 111,
   "metadata": {},
   "outputs": [
    {
     "name": "stdout",
     "output_type": "stream",
     "text": [
      "Saving json to /nas/ucb/oliveradk/elk-experiments/output/hypo_test_results/Docstring_Token_Circuit_TOKENWISE_MEAN_CORRUPT_LOGPROB_AVG_VAL_10/False_0.05_0.0_0.9/edges.json\n"
     ]
    }
   ],
   "source": [
    "threshold = prune_scores_threshold(prune_scores, min_equiv, use_abs=conf.use_abs)\n",
    "edge_mask = {k: (torch.abs(v) if conf.use_abs else v) >= threshold for k, v in prune_scores.items()}\n",
    "edges = edges_from_mask(task.model.srcs, task.model.dests, edge_mask, token=task.token_circuit)\n",
    "save_json([edge.name for edge in edges], exp_dir, \"edges\")"
   ]
  },
  {
   "cell_type": "code",
   "execution_count": 112,
   "metadata": {},
   "outputs": [
    {
     "data": {
      "application/vnd.jupyter.widget-view+json": {
       "model_id": "2fd629b8584b4f51a338cafb3464a096",
       "version_major": 2,
       "version_minor": 0
      },
      "text/plain": [
       "VBox(children=(          | 0/28 [00:00<?, ?it/s],))"
      ]
     },
     "metadata": {},
     "output_type": "display_data"
    },
    {
     "data": {
      "application/vnd.jupyter.widget-view+json": {
       "model_id": "ee4a91810cec4b0a8a002fe1dbe729ab",
       "version_major": 2,
       "version_minor": 0
      },
      "text/plain": [
       "VBox(children=(          | 0/28 [00:00<?, ?it/s],))"
      ]
     },
     "metadata": {},
     "output_type": "display_data"
    }
   ],
   "source": [
    "# contruct a graph from the pruned circuit, to further prune\n",
    "node_circ_graph = NodeGraph(edges, token=task.token_circuit, attn_only=task.model.cfg.attn_only)\n",
    "node_circ_graph.build_graph()\n",
    "assert set(node_circ_graph.parents.keys()) == set([k for k in node_circ_graph.children.keys() if k.name != \"Resid Start\"])"
   ]
  },
  {
   "cell_type": "code",
   "execution_count": 134,
   "metadata": {},
   "outputs": [],
   "source": [
    "valid_edges = [\n",
    "    edge for edge in edges \n",
    "    if edge_in_path(\n",
    "        edge, \n",
    "        node_circ_graph, \n",
    "        reach_req=conf.ablation_type == AblationType.RESAMPLE, # only works for sample b/c E[f(X)] != f(E[X])\n",
    "        in_path_req=True\n",
    "    )\n",
    "]\n",
    "min_equiv_valid_edges = len(valid_edges)\n",
    "#save_json([edge.name for edge in valid_edges], exp_dir, \"valid_edges\")\n",
    "# mask out all edges not in edges to dest\n",
    "# edge_score_mask = {k: ((torch.abs(v) if conf.use_abs else v) >= threshold).to(torch.int) for k, v in prune_scores.items()}\n",
    "invalid_edge_score_mask = task.model.circuit_prune_scores(set(edges) - set(valid_edges)) # edges to remove\n",
    "valid_edge_scores = {k: prune_scores[k] * (1-invalid_edge_score_mask[k]) for k in prune_scores.keys()}\n",
    "assert sum([torch.sum(((torch.abs(v) if conf.use_abs else v) >= threshold) & (v != 0)) for v in valid_edge_scores.values()]) == len(valid_edges)"
   ]
  },
  {
   "cell_type": "code",
   "execution_count": 114,
   "metadata": {},
   "outputs": [
    {
     "data": {
      "application/vnd.jupyter.widget-view+json": {
       "model_id": "db057395f2af431b9527eb7c61b406a4",
       "version_major": 2,
       "version_minor": 0
      },
      "text/plain": [
       "VBox(children=(          | 0/2 [00:00<?, ?it/s],))"
      ]
     },
     "metadata": {},
     "output_type": "display_data"
    },
    {
     "name": "stdout",
     "output_type": "stream",
     "text": [
      "Saving json to /nas/ucb/oliveradk/elk-experiments/output/hypo_test_results/Docstring_Token_Circuit_TOKENWISE_MEAN_CORRUPT_LOGPROB_AVG_VAL_10/False_0.05_0.0_0.9/valid_edges_equiv_result.json\n"
     ]
    }
   ],
   "source": [
    "# from elk_experiments.auto_circuit.circuit_hypotests import equiv_test\n",
    "# recompute equivalence \n",
    "valid_edges_equiv_result = equiv_test(\n",
    "    task.model, \n",
    "    task.train_loader,\n",
    "    valid_edge_scores,\n",
    "    conf.grad_func,\n",
    "    conf.answer_func,\n",
    "    conf.ablation_type,\n",
    "    edge_counts=[min_equiv_valid_edges],\n",
    "    model_out=model_out_train,\n",
    "    full_model=None,\n",
    "    use_abs=conf.use_abs,\n",
    "    side=conf.side,\n",
    "    alpha=conf.alpha,\n",
    "    epsilon=conf.epsilon,\n",
    ")[min_equiv_valid_edges]\n",
    "save_json(result_to_json(valid_edges_equiv_result), exp_dir, \"valid_edges_equiv_result\")"
   ]
  },
  {
   "cell_type": "code",
   "execution_count": 135,
   "metadata": {},
   "outputs": [],
   "source": [
    "# set cicuit under test\n",
    "if valid_edges_equiv_result.not_equiv:\n",
    "    edges_under_test = edges \n",
    "    circuit_prune_scores = prune_scores\n",
    "else: \n",
    "    edges_under_test = valid_edges\n",
    "    circuit_prune_scores = valid_edge_scores\n",
    "edges_under_test_scores = {edge: prune_scores[edge.dest.module_name][get_edge_idx(edge, tokens=task.token_circuit)] for edge in edges_under_test}\n",
    "edges_under_test = sorted(edges_under_test_scores.keys(), key=lambda x: abs(edges_under_test_scores[x]), reverse=False)"
   ]
  },
  {
   "cell_type": "code",
   "execution_count": 136,
   "metadata": {},
   "outputs": [
    {
     "data": {
      "application/vnd.plotly.v1+json": {
       "config": {
        "plotlyServerURL": "https://plot.ly"
       },
       "data": [
        {
         "arrangement": "perpendicular",
         "domain": {
          "y": [
           0.9814445917640827,
           0.999999
          ]
         },
         "link": {
          "arrowlen": 25,
          "color": [
           "rgba(0,0,255,0.3)",
           "rgba(0,0,255,0.3)",
           "rgba(0,0,255,0.3)"
          ],
          "label": [
           "Resid Start->A3.0.K<br>None<br>6.24",
           "A2.0->A3.0.K<br>None<br>3.57",
           "Resid Start->A3.6.K<br>None<br>3.33"
          ],
          "source": [
           21,
           25,
           21
          ],
          "target": [
           19,
           19,
           9
          ],
          "value": [
           6.235858917236328,
           3.5691113471984863,
           3.3275229930877686
          ]
         },
         "node": {
          "color": [
           "rgba(0,0,0,0.0)",
           "rgba(0,0,0,0.0)",
           "rgba(0,0,0,0.0)",
           "rgba(0,0,0,0.0)",
           "rgba(0,0,0,0.0)",
           "rgba(0,0,0,0.0)",
           "rgba(0,0,0,0.0)",
           "rgba(0,0,0,0.0)",
           "rgba(0,0,0,0.0)",
           "rgb(77, 175, 74)",
           "rgba(0,0,0,0.0)",
           "rgba(0,0,0,0.0)",
           "rgba(0,0,0,0.0)",
           "rgba(0,0,0,0.0)",
           "rgba(0,0,0,0.0)",
           "rgba(0,0,0,0.0)",
           "rgba(0,0,0,0.0)",
           "rgba(0,0,0,0.0)",
           "rgba(0,0,0,0.0)",
           "rgb(255, 127, 0)",
           "rgba(0,0,0,0.0)",
           "rgb(77, 175, 74)",
           "rgba(0,0,0,0.0)",
           "rgba(0,0,0,0.0)",
           "rgba(0,0,0,0.0)",
           "rgb(255, 127, 0)",
           "rgba(0,0,0,0.0)",
           "rgba(0,0,0,0.0)",
           "rgba(0,0,0,0.0)",
           "rgba(0,0,0,0.0)",
           "rgba(0,0,0,0.0)",
           "rgba(0,0,0,0.0)",
           "rgba(0,0,0,0.0)",
           "rgba(0,0,0,0.0)"
          ],
          "label": [
           "",
           "",
           "",
           "",
           "",
           "",
           "",
           "",
           "",
           "A3.6",
           "",
           "",
           "",
           "",
           "",
           "",
           "",
           "",
           "",
           "A3.0",
           "",
           "Embed",
           "",
           "",
           "",
           "A2.0",
           "",
           "",
           "",
           "",
           "",
           "",
           "",
           ""
          ],
          "line": {
           "width": 0
          }
         },
         "orientation": "h",
         "type": "sankey"
        },
        {
         "arrangement": "perpendicular",
         "domain": {
          "y": [
           0.9639687868975308,
           0.9727066893308067
          ]
         },
         "link": {
          "arrowlen": 25,
          "color": [],
          "label": [],
          "source": [],
          "target": [],
          "value": []
         },
         "node": {
          "color": [
           "rgba(0,0,0,0.0)",
           "rgba(0,0,0,0.0)",
           "rgba(0,0,0,0.0)",
           "rgba(0,0,0,0.0)",
           "rgba(0,0,0,0.0)",
           "rgba(0,0,0,0.0)",
           "rgba(0,0,0,0.0)",
           "rgba(0,0,0,0.0)",
           "rgba(0,0,0,0.0)",
           "rgba(0,0,0,0.0)",
           "rgba(0,0,0,0.0)",
           "rgba(0,0,0,0.0)",
           "rgba(0,0,0,0.0)",
           "rgba(0,0,0,0.0)",
           "rgba(0,0,0,0.0)",
           "rgba(0,0,0,0.0)",
           "rgba(0,0,0,0.0)",
           "rgba(0,0,0,0.0)",
           "rgba(0,0,0,0.0)",
           "rgba(0,0,0,0.0)",
           "rgba(0,0,0,0.0)",
           "rgba(0,0,0,0.0)",
           "rgba(0,0,0,0.0)",
           "rgba(0,0,0,0.0)",
           "rgba(0,0,0,0.0)",
           "rgba(0,0,0,0.0)",
           "rgba(0,0,0,0.0)",
           "rgba(0,0,0,0.0)",
           "rgba(0,0,0,0.0)",
           "rgba(0,0,0,0.0)",
           "rgba(0,0,0,0.0)",
           "rgba(0,0,0,0.0)",
           "rgba(0,0,0,0.0)",
           "rgba(0,0,0,0.0)"
          ],
          "label": [
           "",
           "",
           "",
           "",
           "",
           "",
           "",
           "",
           "",
           "",
           "",
           "",
           "",
           "",
           "",
           "",
           "",
           "",
           "",
           "",
           "",
           "",
           "",
           "",
           "",
           "",
           "",
           "",
           "",
           "",
           "",
           "",
           "",
           ""
          ],
          "line": {
           "width": 0
          }
         },
         "orientation": "h",
         "type": "sankey"
        },
        {
         "arrangement": "perpendicular",
         "domain": {
          "y": [
           0.9137192654953418,
           0.9552308844642549
          ]
         },
         "link": {
          "arrowlen": 25,
          "color": [
           "rgba(0,0,255,0.3)",
           "rgba(0,0,255,0.3)"
          ],
          "label": [
           "Resid Start->A3.0.K<br>None<br>8.09",
           "Resid Start->A3.6.K<br>None<br>5.61"
          ],
          "source": [
           21,
           21
          ],
          "target": [
           19,
           9
          ],
          "value": [
           8.09392261505127,
           5.608042240142822
          ]
         },
         "node": {
          "color": [
           "rgba(0,0,0,0.0)",
           "rgba(0,0,0,0.0)",
           "rgba(0,0,0,0.0)",
           "rgba(0,0,0,0.0)",
           "rgba(0,0,0,0.0)",
           "rgba(0,0,0,0.0)",
           "rgba(0,0,0,0.0)",
           "rgba(0,0,0,0.0)",
           "rgba(0,0,0,0.0)",
           "rgb(255, 127, 0)",
           "rgba(0,0,0,0.0)",
           "rgba(0,0,0,0.0)",
           "rgba(0,0,0,0.0)",
           "rgba(0,0,0,0.0)",
           "rgba(0,0,0,0.0)",
           "rgba(0,0,0,0.0)",
           "rgba(0,0,0,0.0)",
           "rgba(0,0,0,0.0)",
           "rgba(0,0,0,0.0)",
           "rgb(55, 126, 184)",
           "rgba(0,0,0,0.0)",
           "rgb(255, 127, 0)",
           "rgba(0,0,0,0.0)",
           "rgba(0,0,0,0.0)",
           "rgba(0,0,0,0.0)",
           "rgba(0,0,0,0.0)",
           "rgba(0,0,0,0.0)",
           "rgba(0,0,0,0.0)",
           "rgba(0,0,0,0.0)",
           "rgba(0,0,0,0.0)",
           "rgba(0,0,0,0.0)",
           "rgba(0,0,0,0.0)",
           "rgba(0,0,0,0.0)",
           "rgba(0,0,0,0.0)"
          ],
          "label": [
           "",
           "",
           "",
           "",
           "",
           "",
           "",
           "",
           "",
           "A3.6",
           "",
           "",
           "",
           "",
           "",
           "",
           "",
           "",
           "",
           "A3.0",
           "",
           "Embed",
           "",
           "",
           "",
           "",
           "",
           "",
           "",
           "",
           "",
           "",
           "",
           ""
          ],
          "line": {
           "width": 0
          }
         },
         "orientation": "h",
         "type": "sankey"
        },
        {
         "arrangement": "perpendicular",
         "domain": {
          "y": [
           0.8962434606287898,
           0.9049813630620658
          ]
         },
         "link": {
          "arrowlen": 25,
          "color": [],
          "label": [],
          "source": [],
          "target": [],
          "value": []
         },
         "node": {
          "color": [
           "rgba(0,0,0,0.0)",
           "rgba(0,0,0,0.0)",
           "rgba(0,0,0,0.0)",
           "rgba(0,0,0,0.0)",
           "rgba(0,0,0,0.0)",
           "rgba(0,0,0,0.0)",
           "rgba(0,0,0,0.0)",
           "rgba(0,0,0,0.0)",
           "rgba(0,0,0,0.0)",
           "rgba(0,0,0,0.0)",
           "rgba(0,0,0,0.0)",
           "rgba(0,0,0,0.0)",
           "rgba(0,0,0,0.0)",
           "rgba(0,0,0,0.0)",
           "rgba(0,0,0,0.0)",
           "rgba(0,0,0,0.0)",
           "rgba(0,0,0,0.0)",
           "rgba(0,0,0,0.0)",
           "rgba(0,0,0,0.0)",
           "rgba(0,0,0,0.0)",
           "rgba(0,0,0,0.0)",
           "rgba(0,0,0,0.0)",
           "rgba(0,0,0,0.0)",
           "rgba(0,0,0,0.0)",
           "rgba(0,0,0,0.0)",
           "rgba(0,0,0,0.0)",
           "rgba(0,0,0,0.0)",
           "rgba(0,0,0,0.0)",
           "rgba(0,0,0,0.0)",
           "rgba(0,0,0,0.0)",
           "rgba(0,0,0,0.0)",
           "rgba(0,0,0,0.0)",
           "rgba(0,0,0,0.0)",
           "rgba(0,0,0,0.0)"
          ],
          "label": [
           "",
           "",
           "",
           "",
           "",
           "",
           "",
           "",
           "",
           "",
           "",
           "",
           "",
           "",
           "",
           "",
           "",
           "",
           "",
           "",
           "",
           "",
           "",
           "",
           "",
           "",
           "",
           "",
           "",
           "",
           "",
           "",
           "",
           ""
          ],
          "line": {
           "width": 0
          }
         },
         "orientation": "h",
         "type": "sankey"
        },
        {
         "arrangement": "perpendicular",
         "domain": {
          "y": [
           0.565013122312687,
           0.8875055581955138
          ]
         },
         "link": {
          "arrowlen": 25,
          "color": [
           "rgba(0,0,255,0.3)",
           "rgba(0,0,255,0.3)",
           "rgba(0,0,255,0.3)",
           "rgba(0,0,255,0.3)",
           "rgba(0,0,255,0.3)"
          ],
          "label": [
           "A0.4->A3.0.K<br>None<br>3.76",
           "Resid Start->A3.6.V<br>None<br>13.23",
           "Resid Start->A0.4.Q<br>None<br>37.13",
           "Resid Start->A3.0.V<br>None<br>13.58",
           "Resid Start->A0.4.V<br>None<br>3.68"
          ],
          "source": [
           27,
           21,
           21,
           21,
           21
          ],
          "target": [
           19,
           9,
           27,
           19,
           27
          ],
          "value": [
           3.757087469100952,
           13.225234031677246,
           37.13483810424805,
           13.58181095123291,
           3.6842331886291504
          ]
         },
         "node": {
          "color": [
           "rgba(0,0,0,0.0)",
           "rgba(0,0,0,0.0)",
           "rgba(0,0,0,0.0)",
           "rgba(0,0,0,0.0)",
           "rgba(0,0,0,0.0)",
           "rgba(0,0,0,0.0)",
           "rgba(0,0,0,0.0)",
           "rgba(0,0,0,0.0)",
           "rgba(0,0,0,0.0)",
           "rgb(255, 127, 0)",
           "rgba(0,0,0,0.0)",
           "rgba(0,0,0,0.0)",
           "rgba(0,0,0,0.0)",
           "rgba(0,0,0,0.0)",
           "rgba(0,0,0,0.0)",
           "rgba(0,0,0,0.0)",
           "rgba(0,0,0,0.0)",
           "rgba(0,0,0,0.0)",
           "rgba(0,0,0,0.0)",
           "rgb(247, 129, 191)",
           "rgba(0,0,0,0.0)",
           "rgb(228, 26, 28)",
           "rgba(0,0,0,0.0)",
           "rgba(0,0,0,0.0)",
           "rgba(0,0,0,0.0)",
           "rgba(0,0,0,0.0)",
           "rgba(0,0,0,0.0)",
           "rgb(228, 26, 28)",
           "rgba(0,0,0,0.0)",
           "rgba(0,0,0,0.0)",
           "rgba(0,0,0,0.0)",
           "rgba(0,0,0,0.0)",
           "rgba(0,0,0,0.0)",
           "rgba(0,0,0,0.0)"
          ],
          "label": [
           "",
           "",
           "",
           "",
           "",
           "",
           "",
           "",
           "",
           "A3.6",
           "",
           "",
           "",
           "",
           "",
           "",
           "",
           "",
           "",
           "A3.0",
           "",
           "Embed",
           "",
           "",
           "",
           "",
           "",
           "A0.4",
           "",
           "",
           "",
           "",
           "",
           ""
          ],
          "line": {
           "width": 0
          }
         },
         "orientation": "h",
         "type": "sankey"
        },
        {
         "arrangement": "perpendicular",
         "domain": {
          "y": [
           0.5475373174461349,
           0.556275219879411
          ]
         },
         "link": {
          "arrowlen": 25,
          "color": [],
          "label": [],
          "source": [],
          "target": [],
          "value": []
         },
         "node": {
          "color": [
           "rgba(0,0,0,0.0)",
           "rgba(0,0,0,0.0)",
           "rgba(0,0,0,0.0)",
           "rgba(0,0,0,0.0)",
           "rgba(0,0,0,0.0)",
           "rgba(0,0,0,0.0)",
           "rgba(0,0,0,0.0)",
           "rgba(0,0,0,0.0)",
           "rgba(0,0,0,0.0)",
           "rgba(0,0,0,0.0)",
           "rgba(0,0,0,0.0)",
           "rgba(0,0,0,0.0)",
           "rgba(0,0,0,0.0)",
           "rgba(0,0,0,0.0)",
           "rgba(0,0,0,0.0)",
           "rgba(0,0,0,0.0)",
           "rgba(0,0,0,0.0)",
           "rgba(0,0,0,0.0)",
           "rgba(0,0,0,0.0)",
           "rgba(0,0,0,0.0)",
           "rgba(0,0,0,0.0)",
           "rgba(0,0,0,0.0)",
           "rgba(0,0,0,0.0)",
           "rgba(0,0,0,0.0)",
           "rgba(0,0,0,0.0)",
           "rgba(0,0,0,0.0)",
           "rgba(0,0,0,0.0)",
           "rgba(0,0,0,0.0)",
           "rgba(0,0,0,0.0)",
           "rgba(0,0,0,0.0)",
           "rgba(0,0,0,0.0)",
           "rgba(0,0,0,0.0)",
           "rgba(0,0,0,0.0)",
           "rgba(0,0,0,0.0)"
          ],
          "label": [
           "",
           "",
           "",
           "",
           "",
           "",
           "",
           "",
           "",
           "",
           "",
           "",
           "",
           "",
           "",
           "",
           "",
           "",
           "",
           "",
           "",
           "",
           "",
           "",
           "",
           "",
           "",
           "",
           "",
           "",
           "",
           "",
           "",
           ""
          ],
          "line": {
           "width": 0
          }
         },
         "orientation": "h",
         "type": "sankey"
        },
        {
         "arrangement": "perpendicular",
         "domain": {
          "y": [
           0.5300615125795828,
           0.5387994150128589
          ]
         },
         "link": {
          "arrowlen": 25,
          "color": [],
          "label": [],
          "source": [],
          "target": [],
          "value": []
         },
         "node": {
          "color": [
           "rgba(0,0,0,0.0)",
           "rgba(0,0,0,0.0)",
           "rgba(0,0,0,0.0)",
           "rgba(0,0,0,0.0)",
           "rgba(0,0,0,0.0)",
           "rgba(0,0,0,0.0)",
           "rgba(0,0,0,0.0)",
           "rgba(0,0,0,0.0)",
           "rgba(0,0,0,0.0)",
           "rgba(0,0,0,0.0)",
           "rgba(0,0,0,0.0)",
           "rgba(0,0,0,0.0)",
           "rgba(0,0,0,0.0)",
           "rgba(0,0,0,0.0)",
           "rgba(0,0,0,0.0)",
           "rgba(0,0,0,0.0)",
           "rgba(0,0,0,0.0)",
           "rgba(0,0,0,0.0)",
           "rgba(0,0,0,0.0)",
           "rgba(0,0,0,0.0)",
           "rgba(0,0,0,0.0)",
           "rgba(0,0,0,0.0)",
           "rgba(0,0,0,0.0)",
           "rgba(0,0,0,0.0)",
           "rgba(0,0,0,0.0)",
           "rgba(0,0,0,0.0)",
           "rgba(0,0,0,0.0)",
           "rgba(0,0,0,0.0)",
           "rgba(0,0,0,0.0)",
           "rgba(0,0,0,0.0)",
           "rgba(0,0,0,0.0)",
           "rgba(0,0,0,0.0)",
           "rgba(0,0,0,0.0)",
           "rgba(0,0,0,0.0)"
          ],
          "label": [
           "",
           "",
           "",
           "",
           "",
           "",
           "",
           "",
           "",
           "",
           "",
           "",
           "",
           "",
           "",
           "",
           "",
           "",
           "",
           "",
           "",
           "",
           "",
           "",
           "",
           "",
           "",
           "",
           "",
           "",
           "",
           "",
           "",
           ""
          ],
          "line": {
           "width": 0
          }
         },
         "orientation": "h",
         "type": "sankey"
        },
        {
         "arrangement": "perpendicular",
         "domain": {
          "y": [
           0.5125857077130307,
           0.5213236101463067
          ]
         },
         "link": {
          "arrowlen": 25,
          "color": [],
          "label": [],
          "source": [],
          "target": [],
          "value": []
         },
         "node": {
          "color": [
           "rgba(0,0,0,0.0)",
           "rgba(0,0,0,0.0)",
           "rgba(0,0,0,0.0)",
           "rgba(0,0,0,0.0)",
           "rgba(0,0,0,0.0)",
           "rgba(0,0,0,0.0)",
           "rgba(0,0,0,0.0)",
           "rgba(0,0,0,0.0)",
           "rgba(0,0,0,0.0)",
           "rgba(0,0,0,0.0)",
           "rgba(0,0,0,0.0)",
           "rgba(0,0,0,0.0)",
           "rgba(0,0,0,0.0)",
           "rgba(0,0,0,0.0)",
           "rgba(0,0,0,0.0)",
           "rgba(0,0,0,0.0)",
           "rgba(0,0,0,0.0)",
           "rgba(0,0,0,0.0)",
           "rgba(0,0,0,0.0)",
           "rgba(0,0,0,0.0)",
           "rgba(0,0,0,0.0)",
           "rgba(0,0,0,0.0)",
           "rgba(0,0,0,0.0)",
           "rgba(0,0,0,0.0)",
           "rgba(0,0,0,0.0)",
           "rgba(0,0,0,0.0)",
           "rgba(0,0,0,0.0)",
           "rgba(0,0,0,0.0)",
           "rgba(0,0,0,0.0)",
           "rgba(0,0,0,0.0)",
           "rgba(0,0,0,0.0)",
           "rgba(0,0,0,0.0)",
           "rgba(0,0,0,0.0)",
           "rgba(0,0,0,0.0)"
          ],
          "label": [
           "",
           "",
           "",
           "",
           "",
           "",
           "",
           "",
           "",
           "",
           "",
           "",
           "",
           "",
           "",
           "",
           "",
           "",
           "",
           "",
           "",
           "",
           "",
           "",
           "",
           "",
           "",
           "",
           "",
           "",
           "",
           "",
           "",
           ""
          ],
          "line": {
           "width": 0
          }
         },
         "orientation": "h",
         "type": "sankey"
        },
        {
         "arrangement": "perpendicular",
         "domain": {
          "y": [
           0.49510990284647854,
           0.5038478052797546
          ]
         },
         "link": {
          "arrowlen": 25,
          "color": [],
          "label": [],
          "source": [],
          "target": [],
          "value": []
         },
         "node": {
          "color": [
           "rgba(0,0,0,0.0)",
           "rgba(0,0,0,0.0)",
           "rgba(0,0,0,0.0)",
           "rgba(0,0,0,0.0)",
           "rgba(0,0,0,0.0)",
           "rgba(0,0,0,0.0)",
           "rgba(0,0,0,0.0)",
           "rgba(0,0,0,0.0)",
           "rgba(0,0,0,0.0)",
           "rgba(0,0,0,0.0)",
           "rgba(0,0,0,0.0)",
           "rgba(0,0,0,0.0)",
           "rgba(0,0,0,0.0)",
           "rgba(0,0,0,0.0)",
           "rgba(0,0,0,0.0)",
           "rgba(0,0,0,0.0)",
           "rgba(0,0,0,0.0)",
           "rgba(0,0,0,0.0)",
           "rgba(0,0,0,0.0)",
           "rgba(0,0,0,0.0)",
           "rgba(0,0,0,0.0)",
           "rgba(0,0,0,0.0)",
           "rgba(0,0,0,0.0)",
           "rgba(0,0,0,0.0)",
           "rgba(0,0,0,0.0)",
           "rgba(0,0,0,0.0)",
           "rgba(0,0,0,0.0)",
           "rgba(0,0,0,0.0)",
           "rgba(0,0,0,0.0)",
           "rgba(0,0,0,0.0)",
           "rgba(0,0,0,0.0)",
           "rgba(0,0,0,0.0)",
           "rgba(0,0,0,0.0)",
           "rgba(0,0,0,0.0)"
          ],
          "label": [
           "",
           "",
           "",
           "",
           "",
           "",
           "",
           "",
           "",
           "",
           "",
           "",
           "",
           "",
           "",
           "",
           "",
           "",
           "",
           "",
           "",
           "",
           "",
           "",
           "",
           "",
           "",
           "",
           "",
           "",
           "",
           "",
           "",
           ""
          ],
          "line": {
           "width": 0
          }
         },
         "orientation": "h",
         "type": "sankey"
        },
        {
         "arrangement": "perpendicular",
         "domain": {
          "y": [
           0.4776340979799264,
           0.48637200041320244
          ]
         },
         "link": {
          "arrowlen": 25,
          "color": [],
          "label": [],
          "source": [],
          "target": [],
          "value": []
         },
         "node": {
          "color": [
           "rgba(0,0,0,0.0)",
           "rgba(0,0,0,0.0)",
           "rgba(0,0,0,0.0)",
           "rgba(0,0,0,0.0)",
           "rgba(0,0,0,0.0)",
           "rgba(0,0,0,0.0)",
           "rgba(0,0,0,0.0)",
           "rgba(0,0,0,0.0)",
           "rgba(0,0,0,0.0)",
           "rgba(0,0,0,0.0)",
           "rgba(0,0,0,0.0)",
           "rgba(0,0,0,0.0)",
           "rgba(0,0,0,0.0)",
           "rgba(0,0,0,0.0)",
           "rgba(0,0,0,0.0)",
           "rgba(0,0,0,0.0)",
           "rgba(0,0,0,0.0)",
           "rgba(0,0,0,0.0)",
           "rgba(0,0,0,0.0)",
           "rgba(0,0,0,0.0)",
           "rgba(0,0,0,0.0)",
           "rgba(0,0,0,0.0)",
           "rgba(0,0,0,0.0)",
           "rgba(0,0,0,0.0)",
           "rgba(0,0,0,0.0)",
           "rgba(0,0,0,0.0)",
           "rgba(0,0,0,0.0)",
           "rgba(0,0,0,0.0)",
           "rgba(0,0,0,0.0)",
           "rgba(0,0,0,0.0)",
           "rgba(0,0,0,0.0)",
           "rgba(0,0,0,0.0)",
           "rgba(0,0,0,0.0)",
           "rgba(0,0,0,0.0)"
          ],
          "label": [
           "",
           "",
           "",
           "",
           "",
           "",
           "",
           "",
           "",
           "",
           "",
           "",
           "",
           "",
           "",
           "",
           "",
           "",
           "",
           "",
           "",
           "",
           "",
           "",
           "",
           "",
           "",
           "",
           "",
           "",
           "",
           "",
           "",
           ""
          ],
          "line": {
           "width": 0
          }
         },
         "orientation": "h",
         "type": "sankey"
        },
        {
         "arrangement": "perpendicular",
         "domain": {
          "y": [
           0.4601582931133743,
           0.46889619554665035
          ]
         },
         "link": {
          "arrowlen": 25,
          "color": [],
          "label": [],
          "source": [],
          "target": [],
          "value": []
         },
         "node": {
          "color": [
           "rgba(0,0,0,0.0)",
           "rgba(0,0,0,0.0)",
           "rgba(0,0,0,0.0)",
           "rgba(0,0,0,0.0)",
           "rgba(0,0,0,0.0)",
           "rgba(0,0,0,0.0)",
           "rgba(0,0,0,0.0)",
           "rgba(0,0,0,0.0)",
           "rgba(0,0,0,0.0)",
           "rgba(0,0,0,0.0)",
           "rgba(0,0,0,0.0)",
           "rgba(0,0,0,0.0)",
           "rgba(0,0,0,0.0)",
           "rgba(0,0,0,0.0)",
           "rgba(0,0,0,0.0)",
           "rgba(0,0,0,0.0)",
           "rgba(0,0,0,0.0)",
           "rgba(0,0,0,0.0)",
           "rgba(0,0,0,0.0)",
           "rgba(0,0,0,0.0)",
           "rgba(0,0,0,0.0)",
           "rgba(0,0,0,0.0)",
           "rgba(0,0,0,0.0)",
           "rgba(0,0,0,0.0)",
           "rgba(0,0,0,0.0)",
           "rgba(0,0,0,0.0)",
           "rgba(0,0,0,0.0)",
           "rgba(0,0,0,0.0)",
           "rgba(0,0,0,0.0)",
           "rgba(0,0,0,0.0)",
           "rgba(0,0,0,0.0)",
           "rgba(0,0,0,0.0)",
           "rgba(0,0,0,0.0)",
           "rgba(0,0,0,0.0)"
          ],
          "label": [
           "",
           "",
           "",
           "",
           "",
           "",
           "",
           "",
           "",
           "",
           "",
           "",
           "",
           "",
           "",
           "",
           "",
           "",
           "",
           "",
           "",
           "",
           "",
           "",
           "",
           "",
           "",
           "",
           "",
           "",
           "",
           "",
           "",
           ""
          ],
          "line": {
           "width": 0
          }
         },
         "orientation": "h",
         "type": "sankey"
        },
        {
         "arrangement": "perpendicular",
         "domain": {
          "y": [
           0.44268248824682216,
           0.4514203906800982
          ]
         },
         "link": {
          "arrowlen": 25,
          "color": [],
          "label": [],
          "source": [],
          "target": [],
          "value": []
         },
         "node": {
          "color": [
           "rgba(0,0,0,0.0)",
           "rgba(0,0,0,0.0)",
           "rgba(0,0,0,0.0)",
           "rgba(0,0,0,0.0)",
           "rgba(0,0,0,0.0)",
           "rgba(0,0,0,0.0)",
           "rgba(0,0,0,0.0)",
           "rgba(0,0,0,0.0)",
           "rgba(0,0,0,0.0)",
           "rgba(0,0,0,0.0)",
           "rgba(0,0,0,0.0)",
           "rgba(0,0,0,0.0)",
           "rgba(0,0,0,0.0)",
           "rgba(0,0,0,0.0)",
           "rgba(0,0,0,0.0)",
           "rgba(0,0,0,0.0)",
           "rgba(0,0,0,0.0)",
           "rgba(0,0,0,0.0)",
           "rgba(0,0,0,0.0)",
           "rgba(0,0,0,0.0)",
           "rgba(0,0,0,0.0)",
           "rgba(0,0,0,0.0)",
           "rgba(0,0,0,0.0)",
           "rgba(0,0,0,0.0)",
           "rgba(0,0,0,0.0)",
           "rgba(0,0,0,0.0)",
           "rgba(0,0,0,0.0)",
           "rgba(0,0,0,0.0)",
           "rgba(0,0,0,0.0)",
           "rgba(0,0,0,0.0)",
           "rgba(0,0,0,0.0)",
           "rgba(0,0,0,0.0)",
           "rgba(0,0,0,0.0)",
           "rgba(0,0,0,0.0)"
          ],
          "label": [
           "",
           "",
           "",
           "",
           "",
           "",
           "",
           "",
           "",
           "",
           "",
           "",
           "",
           "",
           "",
           "",
           "",
           "",
           "",
           "",
           "",
           "",
           "",
           "",
           "",
           "",
           "",
           "",
           "",
           "",
           "",
           "",
           "",
           ""
          ],
          "line": {
           "width": 0
          }
         },
         "orientation": "h",
         "type": "sankey"
        },
        {
         "arrangement": "perpendicular",
         "domain": {
          "y": [
           0.42520668338027007,
           0.4339445858135461
          ]
         },
         "link": {
          "arrowlen": 25,
          "color": [],
          "label": [],
          "source": [],
          "target": [],
          "value": []
         },
         "node": {
          "color": [
           "rgba(0,0,0,0.0)",
           "rgba(0,0,0,0.0)",
           "rgba(0,0,0,0.0)",
           "rgba(0,0,0,0.0)",
           "rgba(0,0,0,0.0)",
           "rgba(0,0,0,0.0)",
           "rgba(0,0,0,0.0)",
           "rgba(0,0,0,0.0)",
           "rgba(0,0,0,0.0)",
           "rgba(0,0,0,0.0)",
           "rgba(0,0,0,0.0)",
           "rgba(0,0,0,0.0)",
           "rgba(0,0,0,0.0)",
           "rgba(0,0,0,0.0)",
           "rgba(0,0,0,0.0)",
           "rgba(0,0,0,0.0)",
           "rgba(0,0,0,0.0)",
           "rgba(0,0,0,0.0)",
           "rgba(0,0,0,0.0)",
           "rgba(0,0,0,0.0)",
           "rgba(0,0,0,0.0)",
           "rgba(0,0,0,0.0)",
           "rgba(0,0,0,0.0)",
           "rgba(0,0,0,0.0)",
           "rgba(0,0,0,0.0)",
           "rgba(0,0,0,0.0)",
           "rgba(0,0,0,0.0)",
           "rgba(0,0,0,0.0)",
           "rgba(0,0,0,0.0)",
           "rgba(0,0,0,0.0)",
           "rgba(0,0,0,0.0)",
           "rgba(0,0,0,0.0)",
           "rgba(0,0,0,0.0)",
           "rgba(0,0,0,0.0)"
          ],
          "label": [
           "",
           "",
           "",
           "",
           "",
           "",
           "",
           "",
           "",
           "",
           "",
           "",
           "",
           "",
           "",
           "",
           "",
           "",
           "",
           "",
           "",
           "",
           "",
           "",
           "",
           "",
           "",
           "",
           "",
           "",
           "",
           "",
           "",
           ""
          ],
          "line": {
           "width": 0
          }
         },
         "orientation": "h",
         "type": "sankey"
        },
        {
         "arrangement": "perpendicular",
         "domain": {
          "y": [
           0.4077308785137179,
           0.41646878094699397
          ]
         },
         "link": {
          "arrowlen": 25,
          "color": [],
          "label": [],
          "source": [],
          "target": [],
          "value": []
         },
         "node": {
          "color": [
           "rgba(0,0,0,0.0)",
           "rgba(0,0,0,0.0)",
           "rgba(0,0,0,0.0)",
           "rgba(0,0,0,0.0)",
           "rgba(0,0,0,0.0)",
           "rgba(0,0,0,0.0)",
           "rgba(0,0,0,0.0)",
           "rgba(0,0,0,0.0)",
           "rgba(0,0,0,0.0)",
           "rgba(0,0,0,0.0)",
           "rgba(0,0,0,0.0)",
           "rgba(0,0,0,0.0)",
           "rgba(0,0,0,0.0)",
           "rgba(0,0,0,0.0)",
           "rgba(0,0,0,0.0)",
           "rgba(0,0,0,0.0)",
           "rgba(0,0,0,0.0)",
           "rgba(0,0,0,0.0)",
           "rgba(0,0,0,0.0)",
           "rgba(0,0,0,0.0)",
           "rgba(0,0,0,0.0)",
           "rgba(0,0,0,0.0)",
           "rgba(0,0,0,0.0)",
           "rgba(0,0,0,0.0)",
           "rgba(0,0,0,0.0)",
           "rgba(0,0,0,0.0)",
           "rgba(0,0,0,0.0)",
           "rgba(0,0,0,0.0)",
           "rgba(0,0,0,0.0)",
           "rgba(0,0,0,0.0)",
           "rgba(0,0,0,0.0)",
           "rgba(0,0,0,0.0)",
           "rgba(0,0,0,0.0)",
           "rgba(0,0,0,0.0)"
          ],
          "label": [
           "",
           "",
           "",
           "",
           "",
           "",
           "",
           "",
           "",
           "",
           "",
           "",
           "",
           "",
           "",
           "",
           "",
           "",
           "",
           "",
           "",
           "",
           "",
           "",
           "",
           "",
           "",
           "",
           "",
           "",
           "",
           "",
           "",
           ""
          ],
          "line": {
           "width": 0
          }
         },
         "orientation": "h",
         "type": "sankey"
        },
        {
         "arrangement": "perpendicular",
         "domain": {
          "y": [
           0.39025507364716583,
           0.3989929760804419
          ]
         },
         "link": {
          "arrowlen": 25,
          "color": [],
          "label": [],
          "source": [],
          "target": [],
          "value": []
         },
         "node": {
          "color": [
           "rgba(0,0,0,0.0)",
           "rgba(0,0,0,0.0)",
           "rgba(0,0,0,0.0)",
           "rgba(0,0,0,0.0)",
           "rgba(0,0,0,0.0)",
           "rgba(0,0,0,0.0)",
           "rgba(0,0,0,0.0)",
           "rgba(0,0,0,0.0)",
           "rgba(0,0,0,0.0)",
           "rgba(0,0,0,0.0)",
           "rgba(0,0,0,0.0)",
           "rgba(0,0,0,0.0)",
           "rgba(0,0,0,0.0)",
           "rgba(0,0,0,0.0)",
           "rgba(0,0,0,0.0)",
           "rgba(0,0,0,0.0)",
           "rgba(0,0,0,0.0)",
           "rgba(0,0,0,0.0)",
           "rgba(0,0,0,0.0)",
           "rgba(0,0,0,0.0)",
           "rgba(0,0,0,0.0)",
           "rgba(0,0,0,0.0)",
           "rgba(0,0,0,0.0)",
           "rgba(0,0,0,0.0)",
           "rgba(0,0,0,0.0)",
           "rgba(0,0,0,0.0)",
           "rgba(0,0,0,0.0)",
           "rgba(0,0,0,0.0)",
           "rgba(0,0,0,0.0)",
           "rgba(0,0,0,0.0)",
           "rgba(0,0,0,0.0)",
           "rgba(0,0,0,0.0)",
           "rgba(0,0,0,0.0)",
           "rgba(0,0,0,0.0)"
          ],
          "label": [
           "",
           "",
           "",
           "",
           "",
           "",
           "",
           "",
           "",
           "",
           "",
           "",
           "",
           "",
           "",
           "",
           "",
           "",
           "",
           "",
           "",
           "",
           "",
           "",
           "",
           "",
           "",
           "",
           "",
           "",
           "",
           "",
           "",
           ""
          ],
          "line": {
           "width": 0
          }
         },
         "orientation": "h",
         "type": "sankey"
        },
        {
         "arrangement": "perpendicular",
         "domain": {
          "y": [
           0.37277926878061374,
           0.3815171712138897
          ]
         },
         "link": {
          "arrowlen": 25,
          "color": [],
          "label": [],
          "source": [],
          "target": [],
          "value": []
         },
         "node": {
          "color": [
           "rgba(0,0,0,0.0)",
           "rgba(0,0,0,0.0)",
           "rgba(0,0,0,0.0)",
           "rgba(0,0,0,0.0)",
           "rgba(0,0,0,0.0)",
           "rgba(0,0,0,0.0)",
           "rgba(0,0,0,0.0)",
           "rgba(0,0,0,0.0)",
           "rgba(0,0,0,0.0)",
           "rgba(0,0,0,0.0)",
           "rgba(0,0,0,0.0)",
           "rgba(0,0,0,0.0)",
           "rgba(0,0,0,0.0)",
           "rgba(0,0,0,0.0)",
           "rgba(0,0,0,0.0)",
           "rgba(0,0,0,0.0)",
           "rgba(0,0,0,0.0)",
           "rgba(0,0,0,0.0)",
           "rgba(0,0,0,0.0)",
           "rgba(0,0,0,0.0)",
           "rgba(0,0,0,0.0)",
           "rgba(0,0,0,0.0)",
           "rgba(0,0,0,0.0)",
           "rgba(0,0,0,0.0)",
           "rgba(0,0,0,0.0)",
           "rgba(0,0,0,0.0)",
           "rgba(0,0,0,0.0)",
           "rgba(0,0,0,0.0)",
           "rgba(0,0,0,0.0)",
           "rgba(0,0,0,0.0)",
           "rgba(0,0,0,0.0)",
           "rgba(0,0,0,0.0)",
           "rgba(0,0,0,0.0)",
           "rgba(0,0,0,0.0)"
          ],
          "label": [
           "",
           "",
           "",
           "",
           "",
           "",
           "",
           "",
           "",
           "",
           "",
           "",
           "",
           "",
           "",
           "",
           "",
           "",
           "",
           "",
           "",
           "",
           "",
           "",
           "",
           "",
           "",
           "",
           "",
           "",
           "",
           "",
           "",
           ""
          ],
          "line": {
           "width": 0
          }
         },
         "orientation": "h",
         "type": "sankey"
        },
        {
         "arrangement": "perpendicular",
         "domain": {
          "y": [
           0.3553034639140617,
           0.3640413663473377
          ]
         },
         "link": {
          "arrowlen": 25,
          "color": [],
          "label": [],
          "source": [],
          "target": [],
          "value": []
         },
         "node": {
          "color": [
           "rgba(0,0,0,0.0)",
           "rgba(0,0,0,0.0)",
           "rgba(0,0,0,0.0)",
           "rgba(0,0,0,0.0)",
           "rgba(0,0,0,0.0)",
           "rgba(0,0,0,0.0)",
           "rgba(0,0,0,0.0)",
           "rgba(0,0,0,0.0)",
           "rgba(0,0,0,0.0)",
           "rgba(0,0,0,0.0)",
           "rgba(0,0,0,0.0)",
           "rgba(0,0,0,0.0)",
           "rgba(0,0,0,0.0)",
           "rgba(0,0,0,0.0)",
           "rgba(0,0,0,0.0)",
           "rgba(0,0,0,0.0)",
           "rgba(0,0,0,0.0)",
           "rgba(0,0,0,0.0)",
           "rgba(0,0,0,0.0)",
           "rgba(0,0,0,0.0)",
           "rgba(0,0,0,0.0)",
           "rgba(0,0,0,0.0)",
           "rgba(0,0,0,0.0)",
           "rgba(0,0,0,0.0)",
           "rgba(0,0,0,0.0)",
           "rgba(0,0,0,0.0)",
           "rgba(0,0,0,0.0)",
           "rgba(0,0,0,0.0)",
           "rgba(0,0,0,0.0)",
           "rgba(0,0,0,0.0)",
           "rgba(0,0,0,0.0)",
           "rgba(0,0,0,0.0)",
           "rgba(0,0,0,0.0)",
           "rgba(0,0,0,0.0)"
          ],
          "label": [
           "",
           "",
           "",
           "",
           "",
           "",
           "",
           "",
           "",
           "",
           "",
           "",
           "",
           "",
           "",
           "",
           "",
           "",
           "",
           "",
           "",
           "",
           "",
           "",
           "",
           "",
           "",
           "",
           "",
           "",
           "",
           "",
           "",
           ""
          ],
          "line": {
           "width": 0
          }
         },
         "orientation": "h",
         "type": "sankey"
        },
        {
         "arrangement": "perpendicular",
         "domain": {
          "y": [
           0.33782765904750967,
           0.34656556148078566
          ]
         },
         "link": {
          "arrowlen": 25,
          "color": [],
          "label": [],
          "source": [],
          "target": [],
          "value": []
         },
         "node": {
          "color": [
           "rgba(0,0,0,0.0)",
           "rgba(0,0,0,0.0)",
           "rgba(0,0,0,0.0)",
           "rgba(0,0,0,0.0)",
           "rgba(0,0,0,0.0)",
           "rgba(0,0,0,0.0)",
           "rgba(0,0,0,0.0)",
           "rgba(0,0,0,0.0)",
           "rgba(0,0,0,0.0)",
           "rgba(0,0,0,0.0)",
           "rgba(0,0,0,0.0)",
           "rgba(0,0,0,0.0)",
           "rgba(0,0,0,0.0)",
           "rgba(0,0,0,0.0)",
           "rgba(0,0,0,0.0)",
           "rgba(0,0,0,0.0)",
           "rgba(0,0,0,0.0)",
           "rgba(0,0,0,0.0)",
           "rgba(0,0,0,0.0)",
           "rgba(0,0,0,0.0)",
           "rgba(0,0,0,0.0)",
           "rgba(0,0,0,0.0)",
           "rgba(0,0,0,0.0)",
           "rgba(0,0,0,0.0)",
           "rgba(0,0,0,0.0)",
           "rgba(0,0,0,0.0)",
           "rgba(0,0,0,0.0)",
           "rgba(0,0,0,0.0)",
           "rgba(0,0,0,0.0)",
           "rgba(0,0,0,0.0)",
           "rgba(0,0,0,0.0)",
           "rgba(0,0,0,0.0)",
           "rgba(0,0,0,0.0)",
           "rgba(0,0,0,0.0)"
          ],
          "label": [
           "",
           "",
           "",
           "",
           "",
           "",
           "",
           "",
           "",
           "",
           "",
           "",
           "",
           "",
           "",
           "",
           "",
           "",
           "",
           "",
           "",
           "",
           "",
           "",
           "",
           "",
           "",
           "",
           "",
           "",
           "",
           "",
           "",
           ""
          ],
          "line": {
           "width": 0
          }
         },
         "orientation": "h",
         "type": "sankey"
        },
        {
         "arrangement": "perpendicular",
         "domain": {
          "y": [
           0.32035185418095763,
           0.3290897566142336
          ]
         },
         "link": {
          "arrowlen": 25,
          "color": [],
          "label": [],
          "source": [],
          "target": [],
          "value": []
         },
         "node": {
          "color": [
           "rgba(0,0,0,0.0)",
           "rgba(0,0,0,0.0)",
           "rgba(0,0,0,0.0)",
           "rgba(0,0,0,0.0)",
           "rgba(0,0,0,0.0)",
           "rgba(0,0,0,0.0)",
           "rgba(0,0,0,0.0)",
           "rgba(0,0,0,0.0)",
           "rgba(0,0,0,0.0)",
           "rgba(0,0,0,0.0)",
           "rgba(0,0,0,0.0)",
           "rgba(0,0,0,0.0)",
           "rgba(0,0,0,0.0)",
           "rgba(0,0,0,0.0)",
           "rgba(0,0,0,0.0)",
           "rgba(0,0,0,0.0)",
           "rgba(0,0,0,0.0)",
           "rgba(0,0,0,0.0)",
           "rgba(0,0,0,0.0)",
           "rgba(0,0,0,0.0)",
           "rgba(0,0,0,0.0)",
           "rgba(0,0,0,0.0)",
           "rgba(0,0,0,0.0)",
           "rgba(0,0,0,0.0)",
           "rgba(0,0,0,0.0)",
           "rgba(0,0,0,0.0)",
           "rgba(0,0,0,0.0)",
           "rgba(0,0,0,0.0)",
           "rgba(0,0,0,0.0)",
           "rgba(0,0,0,0.0)",
           "rgba(0,0,0,0.0)",
           "rgba(0,0,0,0.0)",
           "rgba(0,0,0,0.0)",
           "rgba(0,0,0,0.0)"
          ],
          "label": [
           "",
           "",
           "",
           "",
           "",
           "",
           "",
           "",
           "",
           "",
           "",
           "",
           "",
           "",
           "",
           "",
           "",
           "",
           "",
           "",
           "",
           "",
           "",
           "",
           "",
           "",
           "",
           "",
           "",
           "",
           "",
           "",
           "",
           ""
          ],
          "line": {
           "width": 0
          }
         },
         "orientation": "h",
         "type": "sankey"
        },
        {
         "arrangement": "perpendicular",
         "domain": {
          "y": [
           0.3028760493144056,
           0.3116139517476816
          ]
         },
         "link": {
          "arrowlen": 25,
          "color": [],
          "label": [],
          "source": [],
          "target": [],
          "value": []
         },
         "node": {
          "color": [
           "rgba(0,0,0,0.0)",
           "rgba(0,0,0,0.0)",
           "rgba(0,0,0,0.0)",
           "rgba(0,0,0,0.0)",
           "rgba(0,0,0,0.0)",
           "rgba(0,0,0,0.0)",
           "rgba(0,0,0,0.0)",
           "rgba(0,0,0,0.0)",
           "rgba(0,0,0,0.0)",
           "rgba(0,0,0,0.0)",
           "rgba(0,0,0,0.0)",
           "rgba(0,0,0,0.0)",
           "rgba(0,0,0,0.0)",
           "rgba(0,0,0,0.0)",
           "rgba(0,0,0,0.0)",
           "rgba(0,0,0,0.0)",
           "rgba(0,0,0,0.0)",
           "rgba(0,0,0,0.0)",
           "rgba(0,0,0,0.0)",
           "rgba(0,0,0,0.0)",
           "rgba(0,0,0,0.0)",
           "rgba(0,0,0,0.0)",
           "rgba(0,0,0,0.0)",
           "rgba(0,0,0,0.0)",
           "rgba(0,0,0,0.0)",
           "rgba(0,0,0,0.0)",
           "rgba(0,0,0,0.0)",
           "rgba(0,0,0,0.0)",
           "rgba(0,0,0,0.0)",
           "rgba(0,0,0,0.0)",
           "rgba(0,0,0,0.0)",
           "rgba(0,0,0,0.0)",
           "rgba(0,0,0,0.0)",
           "rgba(0,0,0,0.0)"
          ],
          "label": [
           "",
           "",
           "",
           "",
           "",
           "",
           "",
           "",
           "",
           "",
           "",
           "",
           "",
           "",
           "",
           "",
           "",
           "",
           "",
           "",
           "",
           "",
           "",
           "",
           "",
           "",
           "",
           "",
           "",
           "",
           "",
           "",
           "",
           ""
          ],
          "line": {
           "width": 0
          }
         },
         "orientation": "h",
         "type": "sankey"
        },
        {
         "arrangement": "perpendicular",
         "domain": {
          "y": [
           0.28540024444785356,
           0.29413814688112955
          ]
         },
         "link": {
          "arrowlen": 25,
          "color": [],
          "label": [],
          "source": [],
          "target": [],
          "value": []
         },
         "node": {
          "color": [
           "rgba(0,0,0,0.0)",
           "rgba(0,0,0,0.0)",
           "rgba(0,0,0,0.0)",
           "rgba(0,0,0,0.0)",
           "rgba(0,0,0,0.0)",
           "rgba(0,0,0,0.0)",
           "rgba(0,0,0,0.0)",
           "rgba(0,0,0,0.0)",
           "rgba(0,0,0,0.0)",
           "rgba(0,0,0,0.0)",
           "rgba(0,0,0,0.0)",
           "rgba(0,0,0,0.0)",
           "rgba(0,0,0,0.0)",
           "rgba(0,0,0,0.0)",
           "rgba(0,0,0,0.0)",
           "rgba(0,0,0,0.0)",
           "rgba(0,0,0,0.0)",
           "rgba(0,0,0,0.0)",
           "rgba(0,0,0,0.0)",
           "rgba(0,0,0,0.0)",
           "rgba(0,0,0,0.0)",
           "rgba(0,0,0,0.0)",
           "rgba(0,0,0,0.0)",
           "rgba(0,0,0,0.0)",
           "rgba(0,0,0,0.0)",
           "rgba(0,0,0,0.0)",
           "rgba(0,0,0,0.0)",
           "rgba(0,0,0,0.0)",
           "rgba(0,0,0,0.0)",
           "rgba(0,0,0,0.0)",
           "rgba(0,0,0,0.0)",
           "rgba(0,0,0,0.0)",
           "rgba(0,0,0,0.0)",
           "rgba(0,0,0,0.0)"
          ],
          "label": [
           "",
           "",
           "",
           "",
           "",
           "",
           "",
           "",
           "",
           "",
           "",
           "",
           "",
           "",
           "",
           "",
           "",
           "",
           "",
           "",
           "",
           "",
           "",
           "",
           "",
           "",
           "",
           "",
           "",
           "",
           "",
           "",
           "",
           ""
          ],
          "line": {
           "width": 0
          }
         },
         "orientation": "h",
         "type": "sankey"
        },
        {
         "arrangement": "perpendicular",
         "domain": {
          "y": [
           0.2679244395813015,
           0.2766623420145775
          ]
         },
         "link": {
          "arrowlen": 25,
          "color": [],
          "label": [],
          "source": [],
          "target": [],
          "value": []
         },
         "node": {
          "color": [
           "rgba(0,0,0,0.0)",
           "rgba(0,0,0,0.0)",
           "rgba(0,0,0,0.0)",
           "rgba(0,0,0,0.0)",
           "rgba(0,0,0,0.0)",
           "rgba(0,0,0,0.0)",
           "rgba(0,0,0,0.0)",
           "rgba(0,0,0,0.0)",
           "rgba(0,0,0,0.0)",
           "rgba(0,0,0,0.0)",
           "rgba(0,0,0,0.0)",
           "rgba(0,0,0,0.0)",
           "rgba(0,0,0,0.0)",
           "rgba(0,0,0,0.0)",
           "rgba(0,0,0,0.0)",
           "rgba(0,0,0,0.0)",
           "rgba(0,0,0,0.0)",
           "rgba(0,0,0,0.0)",
           "rgba(0,0,0,0.0)",
           "rgba(0,0,0,0.0)",
           "rgba(0,0,0,0.0)",
           "rgba(0,0,0,0.0)",
           "rgba(0,0,0,0.0)",
           "rgba(0,0,0,0.0)",
           "rgba(0,0,0,0.0)",
           "rgba(0,0,0,0.0)",
           "rgba(0,0,0,0.0)",
           "rgba(0,0,0,0.0)",
           "rgba(0,0,0,0.0)",
           "rgba(0,0,0,0.0)",
           "rgba(0,0,0,0.0)",
           "rgba(0,0,0,0.0)",
           "rgba(0,0,0,0.0)",
           "rgba(0,0,0,0.0)"
          ],
          "label": [
           "",
           "",
           "",
           "",
           "",
           "",
           "",
           "",
           "",
           "",
           "",
           "",
           "",
           "",
           "",
           "",
           "",
           "",
           "",
           "",
           "",
           "",
           "",
           "",
           "",
           "",
           "",
           "",
           "",
           "",
           "",
           "",
           "",
           ""
          ],
          "line": {
           "width": 0
          }
         },
         "orientation": "h",
         "type": "sankey"
        },
        {
         "arrangement": "perpendicular",
         "domain": {
          "y": [
           0.2504486347147495,
           0.2591865371480255
          ]
         },
         "link": {
          "arrowlen": 25,
          "color": [],
          "label": [],
          "source": [],
          "target": [],
          "value": []
         },
         "node": {
          "color": [
           "rgba(0,0,0,0.0)",
           "rgba(0,0,0,0.0)",
           "rgba(0,0,0,0.0)",
           "rgba(0,0,0,0.0)",
           "rgba(0,0,0,0.0)",
           "rgba(0,0,0,0.0)",
           "rgba(0,0,0,0.0)",
           "rgba(0,0,0,0.0)",
           "rgba(0,0,0,0.0)",
           "rgba(0,0,0,0.0)",
           "rgba(0,0,0,0.0)",
           "rgba(0,0,0,0.0)",
           "rgba(0,0,0,0.0)",
           "rgba(0,0,0,0.0)",
           "rgba(0,0,0,0.0)",
           "rgba(0,0,0,0.0)",
           "rgba(0,0,0,0.0)",
           "rgba(0,0,0,0.0)",
           "rgba(0,0,0,0.0)",
           "rgba(0,0,0,0.0)",
           "rgba(0,0,0,0.0)",
           "rgba(0,0,0,0.0)",
           "rgba(0,0,0,0.0)",
           "rgba(0,0,0,0.0)",
           "rgba(0,0,0,0.0)",
           "rgba(0,0,0,0.0)",
           "rgba(0,0,0,0.0)",
           "rgba(0,0,0,0.0)",
           "rgba(0,0,0,0.0)",
           "rgba(0,0,0,0.0)",
           "rgba(0,0,0,0.0)",
           "rgba(0,0,0,0.0)",
           "rgba(0,0,0,0.0)",
           "rgba(0,0,0,0.0)"
          ],
          "label": [
           "",
           "",
           "",
           "",
           "",
           "",
           "",
           "",
           "",
           "",
           "",
           "",
           "",
           "",
           "",
           "",
           "",
           "",
           "",
           "",
           "",
           "",
           "",
           "",
           "",
           "",
           "",
           "",
           "",
           "",
           "",
           "",
           "",
           ""
          ],
          "line": {
           "width": 0
          }
         },
         "orientation": "h",
         "type": "sankey"
        },
        {
         "arrangement": "perpendicular",
         "domain": {
          "y": [
           0.23297282984819742,
           0.24171073228147344
          ]
         },
         "link": {
          "arrowlen": 25,
          "color": [
           "rgba(0,0,255,0.3)",
           "rgba(0,0,255,0.3)"
          ],
          "label": [
           "Resid Start->A3.0.K<br>None<br>3.94",
           "Resid Start->A1.4.V<br>None<br>3.54"
          ],
          "source": [
           21,
           21
          ],
          "target": [
           19,
           20
          ],
          "value": [
           3.9423582553863525,
           3.5375027656555176
          ]
         },
         "node": {
          "color": [
           "rgba(0,0,0,0.0)",
           "rgba(0,0,0,0.0)",
           "rgba(0,0,0,0.0)",
           "rgba(0,0,0,0.0)",
           "rgba(0,0,0,0.0)",
           "rgba(0,0,0,0.0)",
           "rgba(0,0,0,0.0)",
           "rgba(0,0,0,0.0)",
           "rgba(0,0,0,0.0)",
           "rgba(0,0,0,0.0)",
           "rgba(0,0,0,0.0)",
           "rgba(0,0,0,0.0)",
           "rgba(0,0,0,0.0)",
           "rgba(0,0,0,0.0)",
           "rgba(0,0,0,0.0)",
           "rgba(0,0,0,0.0)",
           "rgba(0,0,0,0.0)",
           "rgba(0,0,0,0.0)",
           "rgba(0,0,0,0.0)",
           "rgb(55, 126, 184)",
           "rgb(255, 127, 0)",
           "rgb(255, 127, 0)",
           "rgba(0,0,0,0.0)",
           "rgba(0,0,0,0.0)",
           "rgba(0,0,0,0.0)",
           "rgba(0,0,0,0.0)",
           "rgba(0,0,0,0.0)",
           "rgba(0,0,0,0.0)",
           "rgba(0,0,0,0.0)",
           "rgba(0,0,0,0.0)",
           "rgba(0,0,0,0.0)",
           "rgba(0,0,0,0.0)",
           "rgba(0,0,0,0.0)",
           "rgba(0,0,0,0.0)"
          ],
          "label": [
           "",
           "",
           "",
           "",
           "",
           "",
           "",
           "",
           "",
           "",
           "",
           "",
           "",
           "",
           "",
           "",
           "",
           "",
           "",
           "A3.0",
           "A1.4",
           "Embed",
           "",
           "",
           "",
           "",
           "",
           "",
           "",
           "",
           "",
           "",
           "",
           ""
          ],
          "line": {
           "width": 0
          }
         },
         "orientation": "h",
         "type": "sankey"
        },
        {
         "arrangement": "perpendicular",
         "domain": {
          "y": [
           0.21549702498164539,
           0.2242349274149214
          ]
         },
         "link": {
          "arrowlen": 25,
          "color": [],
          "label": [],
          "source": [],
          "target": [],
          "value": []
         },
         "node": {
          "color": [
           "rgba(0,0,0,0.0)",
           "rgba(0,0,0,0.0)",
           "rgba(0,0,0,0.0)",
           "rgba(0,0,0,0.0)",
           "rgba(0,0,0,0.0)",
           "rgba(0,0,0,0.0)",
           "rgba(0,0,0,0.0)",
           "rgba(0,0,0,0.0)",
           "rgba(0,0,0,0.0)",
           "rgba(0,0,0,0.0)",
           "rgba(0,0,0,0.0)",
           "rgba(0,0,0,0.0)",
           "rgba(0,0,0,0.0)",
           "rgba(0,0,0,0.0)",
           "rgba(0,0,0,0.0)",
           "rgba(0,0,0,0.0)",
           "rgba(0,0,0,0.0)",
           "rgba(0,0,0,0.0)",
           "rgba(0,0,0,0.0)",
           "rgba(0,0,0,0.0)",
           "rgba(0,0,0,0.0)",
           "rgba(0,0,0,0.0)",
           "rgba(0,0,0,0.0)",
           "rgba(0,0,0,0.0)",
           "rgba(0,0,0,0.0)",
           "rgba(0,0,0,0.0)",
           "rgba(0,0,0,0.0)",
           "rgba(0,0,0,0.0)",
           "rgba(0,0,0,0.0)",
           "rgba(0,0,0,0.0)",
           "rgba(0,0,0,0.0)",
           "rgba(0,0,0,0.0)",
           "rgba(0,0,0,0.0)",
           "rgba(0,0,0,0.0)"
          ],
          "label": [
           "",
           "",
           "",
           "",
           "",
           "",
           "",
           "",
           "",
           "",
           "",
           "",
           "",
           "",
           "",
           "",
           "",
           "",
           "",
           "",
           "",
           "",
           "",
           "",
           "",
           "",
           "",
           "",
           "",
           "",
           "",
           "",
           "",
           ""
          ],
          "line": {
           "width": 0
          }
         },
         "orientation": "h",
         "type": "sankey"
        },
        {
         "arrangement": "perpendicular",
         "domain": {
          "y": [
           0.19802122011509335,
           0.20675912254836937
          ]
         },
         "link": {
          "arrowlen": 25,
          "color": [],
          "label": [],
          "source": [],
          "target": [],
          "value": []
         },
         "node": {
          "color": [
           "rgba(0,0,0,0.0)",
           "rgba(0,0,0,0.0)",
           "rgba(0,0,0,0.0)",
           "rgba(0,0,0,0.0)",
           "rgba(0,0,0,0.0)",
           "rgba(0,0,0,0.0)",
           "rgba(0,0,0,0.0)",
           "rgba(0,0,0,0.0)",
           "rgba(0,0,0,0.0)",
           "rgba(0,0,0,0.0)",
           "rgba(0,0,0,0.0)",
           "rgba(0,0,0,0.0)",
           "rgba(0,0,0,0.0)",
           "rgba(0,0,0,0.0)",
           "rgba(0,0,0,0.0)",
           "rgba(0,0,0,0.0)",
           "rgba(0,0,0,0.0)",
           "rgba(0,0,0,0.0)",
           "rgba(0,0,0,0.0)",
           "rgba(0,0,0,0.0)",
           "rgba(0,0,0,0.0)",
           "rgba(0,0,0,0.0)",
           "rgba(0,0,0,0.0)",
           "rgba(0,0,0,0.0)",
           "rgba(0,0,0,0.0)",
           "rgba(0,0,0,0.0)",
           "rgba(0,0,0,0.0)",
           "rgba(0,0,0,0.0)",
           "rgba(0,0,0,0.0)",
           "rgba(0,0,0,0.0)",
           "rgba(0,0,0,0.0)",
           "rgba(0,0,0,0.0)",
           "rgba(0,0,0,0.0)",
           "rgba(0,0,0,0.0)"
          ],
          "label": [
           "",
           "",
           "",
           "",
           "",
           "",
           "",
           "",
           "",
           "",
           "",
           "",
           "",
           "",
           "",
           "",
           "",
           "",
           "",
           "",
           "",
           "",
           "",
           "",
           "",
           "",
           "",
           "",
           "",
           "",
           "",
           "",
           "",
           ""
          ],
          "line": {
           "width": 0
          }
         },
         "orientation": "h",
         "type": "sankey"
        },
        {
         "arrangement": "perpendicular",
         "domain": {
          "y": [
           0.1805454152485413,
           0.18928331768181733
          ]
         },
         "link": {
          "arrowlen": 25,
          "color": [],
          "label": [],
          "source": [],
          "target": [],
          "value": []
         },
         "node": {
          "color": [
           "rgba(0,0,0,0.0)",
           "rgba(0,0,0,0.0)",
           "rgba(0,0,0,0.0)",
           "rgba(0,0,0,0.0)",
           "rgba(0,0,0,0.0)",
           "rgba(0,0,0,0.0)",
           "rgba(0,0,0,0.0)",
           "rgba(0,0,0,0.0)",
           "rgba(0,0,0,0.0)",
           "rgba(0,0,0,0.0)",
           "rgba(0,0,0,0.0)",
           "rgba(0,0,0,0.0)",
           "rgba(0,0,0,0.0)",
           "rgba(0,0,0,0.0)",
           "rgba(0,0,0,0.0)",
           "rgba(0,0,0,0.0)",
           "rgba(0,0,0,0.0)",
           "rgba(0,0,0,0.0)",
           "rgba(0,0,0,0.0)",
           "rgba(0,0,0,0.0)",
           "rgba(0,0,0,0.0)",
           "rgba(0,0,0,0.0)",
           "rgba(0,0,0,0.0)",
           "rgba(0,0,0,0.0)",
           "rgba(0,0,0,0.0)",
           "rgba(0,0,0,0.0)",
           "rgba(0,0,0,0.0)",
           "rgba(0,0,0,0.0)",
           "rgba(0,0,0,0.0)",
           "rgba(0,0,0,0.0)",
           "rgba(0,0,0,0.0)",
           "rgba(0,0,0,0.0)",
           "rgba(0,0,0,0.0)",
           "rgba(0,0,0,0.0)"
          ],
          "label": [
           "",
           "",
           "",
           "",
           "",
           "",
           "",
           "",
           "",
           "",
           "",
           "",
           "",
           "",
           "",
           "",
           "",
           "",
           "",
           "",
           "",
           "",
           "",
           "",
           "",
           "",
           "",
           "",
           "",
           "",
           "",
           "",
           "",
           ""
          ],
          "line": {
           "width": 0
          }
         },
         "orientation": "h",
         "type": "sankey"
        },
        {
         "arrangement": "perpendicular",
         "domain": {
          "y": [
           0.16306961038198928,
           0.1718075128152653
          ]
         },
         "link": {
          "arrowlen": 25,
          "color": [],
          "label": [],
          "source": [],
          "target": [],
          "value": []
         },
         "node": {
          "color": [
           "rgba(0,0,0,0.0)",
           "rgba(0,0,0,0.0)",
           "rgba(0,0,0,0.0)",
           "rgba(0,0,0,0.0)",
           "rgba(0,0,0,0.0)",
           "rgba(0,0,0,0.0)",
           "rgba(0,0,0,0.0)",
           "rgba(0,0,0,0.0)",
           "rgba(0,0,0,0.0)",
           "rgba(0,0,0,0.0)",
           "rgba(0,0,0,0.0)",
           "rgba(0,0,0,0.0)",
           "rgba(0,0,0,0.0)",
           "rgba(0,0,0,0.0)",
           "rgba(0,0,0,0.0)",
           "rgba(0,0,0,0.0)",
           "rgba(0,0,0,0.0)",
           "rgba(0,0,0,0.0)",
           "rgba(0,0,0,0.0)",
           "rgba(0,0,0,0.0)",
           "rgba(0,0,0,0.0)",
           "rgba(0,0,0,0.0)",
           "rgba(0,0,0,0.0)",
           "rgba(0,0,0,0.0)",
           "rgba(0,0,0,0.0)",
           "rgba(0,0,0,0.0)",
           "rgba(0,0,0,0.0)",
           "rgba(0,0,0,0.0)",
           "rgba(0,0,0,0.0)",
           "rgba(0,0,0,0.0)",
           "rgba(0,0,0,0.0)",
           "rgba(0,0,0,0.0)",
           "rgba(0,0,0,0.0)",
           "rgba(0,0,0,0.0)"
          ],
          "label": [
           "",
           "",
           "",
           "",
           "",
           "",
           "",
           "",
           "",
           "",
           "",
           "",
           "",
           "",
           "",
           "",
           "",
           "",
           "",
           "",
           "",
           "",
           "",
           "",
           "",
           "",
           "",
           "",
           "",
           "",
           "",
           "",
           "",
           ""
          ],
          "line": {
           "width": 0
          }
         },
         "orientation": "h",
         "type": "sankey"
        },
        {
         "arrangement": "perpendicular",
         "domain": {
          "y": [
           0.14559380551543724,
           0.15433170794871326
          ]
         },
         "link": {
          "arrowlen": 25,
          "color": [],
          "label": [],
          "source": [],
          "target": [],
          "value": []
         },
         "node": {
          "color": [
           "rgba(0,0,0,0.0)",
           "rgba(0,0,0,0.0)",
           "rgba(0,0,0,0.0)",
           "rgba(0,0,0,0.0)",
           "rgba(0,0,0,0.0)",
           "rgba(0,0,0,0.0)",
           "rgba(0,0,0,0.0)",
           "rgba(0,0,0,0.0)",
           "rgba(0,0,0,0.0)",
           "rgba(0,0,0,0.0)",
           "rgba(0,0,0,0.0)",
           "rgba(0,0,0,0.0)",
           "rgba(0,0,0,0.0)",
           "rgba(0,0,0,0.0)",
           "rgba(0,0,0,0.0)",
           "rgba(0,0,0,0.0)",
           "rgba(0,0,0,0.0)",
           "rgba(0,0,0,0.0)",
           "rgba(0,0,0,0.0)",
           "rgba(0,0,0,0.0)",
           "rgba(0,0,0,0.0)",
           "rgba(0,0,0,0.0)",
           "rgba(0,0,0,0.0)",
           "rgba(0,0,0,0.0)",
           "rgba(0,0,0,0.0)",
           "rgba(0,0,0,0.0)",
           "rgba(0,0,0,0.0)",
           "rgba(0,0,0,0.0)",
           "rgba(0,0,0,0.0)",
           "rgba(0,0,0,0.0)",
           "rgba(0,0,0,0.0)",
           "rgba(0,0,0,0.0)",
           "rgba(0,0,0,0.0)",
           "rgba(0,0,0,0.0)"
          ],
          "label": [
           "",
           "",
           "",
           "",
           "",
           "",
           "",
           "",
           "",
           "",
           "",
           "",
           "",
           "",
           "",
           "",
           "",
           "",
           "",
           "",
           "",
           "",
           "",
           "",
           "",
           "",
           "",
           "",
           "",
           "",
           "",
           "",
           "",
           ""
          ],
          "line": {
           "width": 0
          }
         },
         "orientation": "h",
         "type": "sankey"
        },
        {
         "arrangement": "perpendicular",
         "domain": {
          "y": [
           0.000001,
           0.13685590308216122
          ]
         },
         "link": {
          "arrowlen": 25,
          "color": [
           "rgba(0,0,255,0.3)",
           "rgba(0,0,255,0.3)",
           "rgba(0,0,255,0.3)"
          ],
          "label": [
           "A1.4->A3.0.Q<br>None<br>5.78",
           "A3.0->Resid End<br>None<br>14.20",
           "A3.6->Resid End<br>None<br>13.24"
          ],
          "source": [
           20,
           19,
           9
          ],
          "target": [
           19,
           31,
           31
          ],
          "value": [
           5.776816368103027,
           14.201309204101562,
           13.236793518066406
          ]
         },
         "node": {
          "color": [
           "rgba(0,0,0,0.0)",
           "rgba(0,0,0,0.0)",
           "rgba(0,0,0,0.0)",
           "rgba(0,0,0,0.0)",
           "rgba(0,0,0,0.0)",
           "rgba(0,0,0,0.0)",
           "rgba(0,0,0,0.0)",
           "rgba(0,0,0,0.0)",
           "rgba(0,0,0,0.0)",
           "rgb(77, 175, 74)",
           "rgba(0,0,0,0.0)",
           "rgba(0,0,0,0.0)",
           "rgba(0,0,0,0.0)",
           "rgba(0,0,0,0.0)",
           "rgba(0,0,0,0.0)",
           "rgba(0,0,0,0.0)",
           "rgba(0,0,0,0.0)",
           "rgba(0,0,0,0.0)",
           "rgba(0,0,0,0.0)",
           "rgb(255, 127, 0)",
           "rgb(55, 126, 184)",
           "rgba(0,0,0,0.0)",
           "rgba(0,0,0,0.0)",
           "rgba(0,0,0,0.0)",
           "rgba(0,0,0,0.0)",
           "rgba(0,0,0,0.0)",
           "rgba(0,0,0,0.0)",
           "rgba(0,0,0,0.0)",
           "rgba(0,0,0,0.0)",
           "rgba(0,0,0,0.0)",
           "rgba(0,0,0,0.0)",
           "rgb(77, 175, 74)",
           "rgba(0,0,0,0.0)",
           "rgba(0,0,0,0.0)"
          ],
          "label": [
           "",
           "",
           "",
           "",
           "",
           "",
           "",
           "",
           "",
           "A3.6",
           "",
           "",
           "",
           "",
           "",
           "",
           "",
           "",
           "",
           "A3.0",
           "A1.4",
           "",
           "",
           "",
           "",
           "",
           "",
           "",
           "",
           "",
           "",
           "",
           "",
           ""
          ],
          "line": {
           "width": 0
          }
         },
         "orientation": "h",
         "type": "sankey"
        }
       ],
       "layout": {
        "annotations": [
         {
          "showarrow": false,
          "text": "<b>A_def</b>",
          "x": -0.17,
          "xref": "paper",
          "y": 0.9907217958820413,
          "yref": "paper"
         },
         {
          "showarrow": false,
          "text": "<b>,_A</b>",
          "x": -0.17,
          "xref": "paper",
          "y": 0.9683377381141688,
          "yref": "paper"
         },
         {
          "showarrow": false,
          "text": "<b>B_def</b>",
          "x": -0.17,
          "xref": "paper",
          "y": 0.9344750749797983,
          "yref": "paper"
         },
         {
          "showarrow": false,
          "text": "<b>,_B</b>",
          "x": -0.17,
          "xref": "paper",
          "y": 0.9006124118454277,
          "yref": "paper"
         },
         {
          "showarrow": false,
          "text": "<b>C_def</b>",
          "x": -0.17,
          "xref": "paper",
          "y": 0.7262593402541004,
          "yref": "paper"
         },
         {
          "showarrow": false,
          "text": "<b>,_C</b>",
          "x": -0.17,
          "xref": "paper",
          "y": 0.5519062686627729,
          "yref": "paper"
         },
         {
          "showarrow": false,
          "text": "<b> number</b>",
          "x": -0.17,
          "xref": "paper",
          "y": 0.5344304637962208,
          "yref": "paper"
         },
         {
          "showarrow": false,
          "text": "<b>):</b>",
          "x": -0.17,
          "xref": "paper",
          "y": 0.5169546589296687,
          "yref": "paper"
         },
         {
          "showarrow": false,
          "text": "<b>\n   </b>",
          "x": -0.17,
          "xref": "paper",
          "y": 0.49947885406311654,
          "yref": "paper"
         },
         {
          "showarrow": false,
          "text": "<b> \"\"\"</b>",
          "x": -0.17,
          "xref": "paper",
          "y": 0.48200304919656445,
          "yref": "paper"
         },
         {
          "showarrow": false,
          "text": "<b>unit</b>",
          "x": -0.17,
          "xref": "paper",
          "y": 0.46452724433001236,
          "yref": "paper"
         },
         {
          "showarrow": false,
          "text": "<b> bone</b>",
          "x": -0.17,
          "xref": "paper",
          "y": 0.44705143946346015,
          "yref": "paper"
         },
         {
          "showarrow": false,
          "text": "<b> paper</b>",
          "x": -0.17,
          "xref": "paper",
          "y": 0.42957563459690806,
          "yref": "paper"
         },
         {
          "showarrow": false,
          "text": "<b>\n\n   </b>",
          "x": -0.17,
          "xref": "paper",
          "y": 0.41209982973035597,
          "yref": "paper"
         },
         {
          "showarrow": false,
          "text": "<b> :</b>",
          "x": -0.17,
          "xref": "paper",
          "y": 0.3946240248638039,
          "yref": "paper"
         },
         {
          "showarrow": false,
          "text": "<b>param_1</b>",
          "x": -0.17,
          "xref": "paper",
          "y": 0.37714821999725173,
          "yref": "paper"
         },
         {
          "showarrow": false,
          "text": "<b>A_doc</b>",
          "x": -0.17,
          "xref": "paper",
          "y": 0.3596724151306997,
          "yref": "paper"
         },
         {
          "showarrow": false,
          "text": "<b>:</b>",
          "x": -0.17,
          "xref": "paper",
          "y": 0.34219661026414766,
          "yref": "paper"
         },
         {
          "showarrow": false,
          "text": "<b> selection</b>",
          "x": -0.17,
          "xref": "paper",
          "y": 0.3247208053975956,
          "yref": "paper"
         },
         {
          "showarrow": false,
          "text": "<b> sky</b>",
          "x": -0.17,
          "xref": "paper",
          "y": 0.3072450005310436,
          "yref": "paper"
         },
         {
          "showarrow": false,
          "text": "<b>\n   </b>",
          "x": -0.17,
          "xref": "paper",
          "y": 0.28976919566449155,
          "yref": "paper"
         },
         {
          "showarrow": false,
          "text": "<b> :</b>",
          "x": -0.17,
          "xref": "paper",
          "y": 0.2722933907979395,
          "yref": "paper"
         },
         {
          "showarrow": false,
          "text": "<b>param_2</b>",
          "x": -0.17,
          "xref": "paper",
          "y": 0.2548175859313875,
          "yref": "paper"
         },
         {
          "showarrow": false,
          "text": "<b>B_doc</b>",
          "x": -0.17,
          "xref": "paper",
          "y": 0.23734178106483544,
          "yref": "paper"
         },
         {
          "showarrow": false,
          "text": "<b>:</b>",
          "x": -0.17,
          "xref": "paper",
          "y": 0.2198659761982834,
          "yref": "paper"
         },
         {
          "showarrow": false,
          "text": "<b> host</b>",
          "x": -0.17,
          "xref": "paper",
          "y": 0.20239017133173137,
          "yref": "paper"
         },
         {
          "showarrow": false,
          "text": "<b> action</b>",
          "x": -0.17,
          "xref": "paper",
          "y": 0.18491436646517934,
          "yref": "paper"
         },
         {
          "showarrow": false,
          "text": "<b>\n   </b>",
          "x": -0.17,
          "xref": "paper",
          "y": 0.1674385615986273,
          "yref": "paper"
         },
         {
          "showarrow": false,
          "text": "<b> :</b>",
          "x": -0.17,
          "xref": "paper",
          "y": 0.14996275673207526,
          "yref": "paper"
         },
         {
          "showarrow": false,
          "text": "<b>param_3</b>",
          "x": -0.17,
          "xref": "paper",
          "y": 0.06842845154108061,
          "yref": "paper"
         }
        ],
        "height": 7500,
        "plot_bgcolor": "blue",
        "template": {
         "data": {
          "bar": [
           {
            "error_x": {
             "color": "#2a3f5f"
            },
            "error_y": {
             "color": "#2a3f5f"
            },
            "marker": {
             "line": {
              "color": "#E5ECF6",
              "width": 0.5
             },
             "pattern": {
              "fillmode": "overlay",
              "size": 10,
              "solidity": 0.2
             }
            },
            "type": "bar"
           }
          ],
          "barpolar": [
           {
            "marker": {
             "line": {
              "color": "#E5ECF6",
              "width": 0.5
             },
             "pattern": {
              "fillmode": "overlay",
              "size": 10,
              "solidity": 0.2
             }
            },
            "type": "barpolar"
           }
          ],
          "carpet": [
           {
            "aaxis": {
             "endlinecolor": "#2a3f5f",
             "gridcolor": "white",
             "linecolor": "white",
             "minorgridcolor": "white",
             "startlinecolor": "#2a3f5f"
            },
            "baxis": {
             "endlinecolor": "#2a3f5f",
             "gridcolor": "white",
             "linecolor": "white",
             "minorgridcolor": "white",
             "startlinecolor": "#2a3f5f"
            },
            "type": "carpet"
           }
          ],
          "choropleth": [
           {
            "colorbar": {
             "outlinewidth": 0,
             "ticks": ""
            },
            "type": "choropleth"
           }
          ],
          "contour": [
           {
            "colorbar": {
             "outlinewidth": 0,
             "ticks": ""
            },
            "colorscale": [
             [
              0,
              "#0d0887"
             ],
             [
              0.1111111111111111,
              "#46039f"
             ],
             [
              0.2222222222222222,
              "#7201a8"
             ],
             [
              0.3333333333333333,
              "#9c179e"
             ],
             [
              0.4444444444444444,
              "#bd3786"
             ],
             [
              0.5555555555555556,
              "#d8576b"
             ],
             [
              0.6666666666666666,
              "#ed7953"
             ],
             [
              0.7777777777777778,
              "#fb9f3a"
             ],
             [
              0.8888888888888888,
              "#fdca26"
             ],
             [
              1,
              "#f0f921"
             ]
            ],
            "type": "contour"
           }
          ],
          "contourcarpet": [
           {
            "colorbar": {
             "outlinewidth": 0,
             "ticks": ""
            },
            "type": "contourcarpet"
           }
          ],
          "heatmap": [
           {
            "colorbar": {
             "outlinewidth": 0,
             "ticks": ""
            },
            "colorscale": [
             [
              0,
              "#0d0887"
             ],
             [
              0.1111111111111111,
              "#46039f"
             ],
             [
              0.2222222222222222,
              "#7201a8"
             ],
             [
              0.3333333333333333,
              "#9c179e"
             ],
             [
              0.4444444444444444,
              "#bd3786"
             ],
             [
              0.5555555555555556,
              "#d8576b"
             ],
             [
              0.6666666666666666,
              "#ed7953"
             ],
             [
              0.7777777777777778,
              "#fb9f3a"
             ],
             [
              0.8888888888888888,
              "#fdca26"
             ],
             [
              1,
              "#f0f921"
             ]
            ],
            "type": "heatmap"
           }
          ],
          "heatmapgl": [
           {
            "colorbar": {
             "outlinewidth": 0,
             "ticks": ""
            },
            "colorscale": [
             [
              0,
              "#0d0887"
             ],
             [
              0.1111111111111111,
              "#46039f"
             ],
             [
              0.2222222222222222,
              "#7201a8"
             ],
             [
              0.3333333333333333,
              "#9c179e"
             ],
             [
              0.4444444444444444,
              "#bd3786"
             ],
             [
              0.5555555555555556,
              "#d8576b"
             ],
             [
              0.6666666666666666,
              "#ed7953"
             ],
             [
              0.7777777777777778,
              "#fb9f3a"
             ],
             [
              0.8888888888888888,
              "#fdca26"
             ],
             [
              1,
              "#f0f921"
             ]
            ],
            "type": "heatmapgl"
           }
          ],
          "histogram": [
           {
            "marker": {
             "pattern": {
              "fillmode": "overlay",
              "size": 10,
              "solidity": 0.2
             }
            },
            "type": "histogram"
           }
          ],
          "histogram2d": [
           {
            "colorbar": {
             "outlinewidth": 0,
             "ticks": ""
            },
            "colorscale": [
             [
              0,
              "#0d0887"
             ],
             [
              0.1111111111111111,
              "#46039f"
             ],
             [
              0.2222222222222222,
              "#7201a8"
             ],
             [
              0.3333333333333333,
              "#9c179e"
             ],
             [
              0.4444444444444444,
              "#bd3786"
             ],
             [
              0.5555555555555556,
              "#d8576b"
             ],
             [
              0.6666666666666666,
              "#ed7953"
             ],
             [
              0.7777777777777778,
              "#fb9f3a"
             ],
             [
              0.8888888888888888,
              "#fdca26"
             ],
             [
              1,
              "#f0f921"
             ]
            ],
            "type": "histogram2d"
           }
          ],
          "histogram2dcontour": [
           {
            "colorbar": {
             "outlinewidth": 0,
             "ticks": ""
            },
            "colorscale": [
             [
              0,
              "#0d0887"
             ],
             [
              0.1111111111111111,
              "#46039f"
             ],
             [
              0.2222222222222222,
              "#7201a8"
             ],
             [
              0.3333333333333333,
              "#9c179e"
             ],
             [
              0.4444444444444444,
              "#bd3786"
             ],
             [
              0.5555555555555556,
              "#d8576b"
             ],
             [
              0.6666666666666666,
              "#ed7953"
             ],
             [
              0.7777777777777778,
              "#fb9f3a"
             ],
             [
              0.8888888888888888,
              "#fdca26"
             ],
             [
              1,
              "#f0f921"
             ]
            ],
            "type": "histogram2dcontour"
           }
          ],
          "mesh3d": [
           {
            "colorbar": {
             "outlinewidth": 0,
             "ticks": ""
            },
            "type": "mesh3d"
           }
          ],
          "parcoords": [
           {
            "line": {
             "colorbar": {
              "outlinewidth": 0,
              "ticks": ""
             }
            },
            "type": "parcoords"
           }
          ],
          "pie": [
           {
            "automargin": true,
            "type": "pie"
           }
          ],
          "scatter": [
           {
            "fillpattern": {
             "fillmode": "overlay",
             "size": 10,
             "solidity": 0.2
            },
            "type": "scatter"
           }
          ],
          "scatter3d": [
           {
            "line": {
             "colorbar": {
              "outlinewidth": 0,
              "ticks": ""
             }
            },
            "marker": {
             "colorbar": {
              "outlinewidth": 0,
              "ticks": ""
             }
            },
            "type": "scatter3d"
           }
          ],
          "scattercarpet": [
           {
            "marker": {
             "colorbar": {
              "outlinewidth": 0,
              "ticks": ""
             }
            },
            "type": "scattercarpet"
           }
          ],
          "scattergeo": [
           {
            "marker": {
             "colorbar": {
              "outlinewidth": 0,
              "ticks": ""
             }
            },
            "type": "scattergeo"
           }
          ],
          "scattergl": [
           {
            "marker": {
             "colorbar": {
              "outlinewidth": 0,
              "ticks": ""
             }
            },
            "type": "scattergl"
           }
          ],
          "scattermapbox": [
           {
            "marker": {
             "colorbar": {
              "outlinewidth": 0,
              "ticks": ""
             }
            },
            "type": "scattermapbox"
           }
          ],
          "scatterpolar": [
           {
            "marker": {
             "colorbar": {
              "outlinewidth": 0,
              "ticks": ""
             }
            },
            "type": "scatterpolar"
           }
          ],
          "scatterpolargl": [
           {
            "marker": {
             "colorbar": {
              "outlinewidth": 0,
              "ticks": ""
             }
            },
            "type": "scatterpolargl"
           }
          ],
          "scatterternary": [
           {
            "marker": {
             "colorbar": {
              "outlinewidth": 0,
              "ticks": ""
             }
            },
            "type": "scatterternary"
           }
          ],
          "surface": [
           {
            "colorbar": {
             "outlinewidth": 0,
             "ticks": ""
            },
            "colorscale": [
             [
              0,
              "#0d0887"
             ],
             [
              0.1111111111111111,
              "#46039f"
             ],
             [
              0.2222222222222222,
              "#7201a8"
             ],
             [
              0.3333333333333333,
              "#9c179e"
             ],
             [
              0.4444444444444444,
              "#bd3786"
             ],
             [
              0.5555555555555556,
              "#d8576b"
             ],
             [
              0.6666666666666666,
              "#ed7953"
             ],
             [
              0.7777777777777778,
              "#fb9f3a"
             ],
             [
              0.8888888888888888,
              "#fdca26"
             ],
             [
              1,
              "#f0f921"
             ]
            ],
            "type": "surface"
           }
          ],
          "table": [
           {
            "cells": {
             "fill": {
              "color": "#EBF0F8"
             },
             "line": {
              "color": "white"
             }
            },
            "header": {
             "fill": {
              "color": "#C8D4E3"
             },
             "line": {
              "color": "white"
             }
            },
            "type": "table"
           }
          ]
         },
         "layout": {
          "annotationdefaults": {
           "arrowcolor": "#2a3f5f",
           "arrowhead": 0,
           "arrowwidth": 1
          },
          "autotypenumbers": "strict",
          "coloraxis": {
           "colorbar": {
            "outlinewidth": 0,
            "ticks": ""
           }
          },
          "colorscale": {
           "diverging": [
            [
             0,
             "#8e0152"
            ],
            [
             0.1,
             "#c51b7d"
            ],
            [
             0.2,
             "#de77ae"
            ],
            [
             0.3,
             "#f1b6da"
            ],
            [
             0.4,
             "#fde0ef"
            ],
            [
             0.5,
             "#f7f7f7"
            ],
            [
             0.6,
             "#e6f5d0"
            ],
            [
             0.7,
             "#b8e186"
            ],
            [
             0.8,
             "#7fbc41"
            ],
            [
             0.9,
             "#4d9221"
            ],
            [
             1,
             "#276419"
            ]
           ],
           "sequential": [
            [
             0,
             "#0d0887"
            ],
            [
             0.1111111111111111,
             "#46039f"
            ],
            [
             0.2222222222222222,
             "#7201a8"
            ],
            [
             0.3333333333333333,
             "#9c179e"
            ],
            [
             0.4444444444444444,
             "#bd3786"
            ],
            [
             0.5555555555555556,
             "#d8576b"
            ],
            [
             0.6666666666666666,
             "#ed7953"
            ],
            [
             0.7777777777777778,
             "#fb9f3a"
            ],
            [
             0.8888888888888888,
             "#fdca26"
            ],
            [
             1,
             "#f0f921"
            ]
           ],
           "sequentialminus": [
            [
             0,
             "#0d0887"
            ],
            [
             0.1111111111111111,
             "#46039f"
            ],
            [
             0.2222222222222222,
             "#7201a8"
            ],
            [
             0.3333333333333333,
             "#9c179e"
            ],
            [
             0.4444444444444444,
             "#bd3786"
            ],
            [
             0.5555555555555556,
             "#d8576b"
            ],
            [
             0.6666666666666666,
             "#ed7953"
            ],
            [
             0.7777777777777778,
             "#fb9f3a"
            ],
            [
             0.8888888888888888,
             "#fdca26"
            ],
            [
             1,
             "#f0f921"
            ]
           ]
          },
          "colorway": [
           "rgb(55, 126, 184)",
           "rgb(255, 127, 0)",
           "rgb(77, 175, 74)",
           "rgb(247, 129, 191)",
           "rgb(228, 26, 28)",
           "rgb(152, 78, 163)",
           "rgb(166, 86, 40)",
           "rgb(153, 153, 153)",
           "rgb(222, 222, 0)"
          ],
          "font": {
           "color": "#2a3f5f",
           "size": 19
          },
          "geo": {
           "bgcolor": "white",
           "lakecolor": "white",
           "landcolor": "#E5ECF6",
           "showlakes": true,
           "showland": true,
           "subunitcolor": "white"
          },
          "hoverlabel": {
           "align": "left"
          },
          "hovermode": "closest",
          "mapbox": {
           "style": "light"
          },
          "paper_bgcolor": "white",
          "plot_bgcolor": "#E5ECF6",
          "polar": {
           "angularaxis": {
            "gridcolor": "white",
            "linecolor": "white",
            "ticks": ""
           },
           "bgcolor": "#E5ECF6",
           "radialaxis": {
            "gridcolor": "white",
            "linecolor": "white",
            "ticks": ""
           }
          },
          "scene": {
           "xaxis": {
            "backgroundcolor": "#E5ECF6",
            "gridcolor": "white",
            "gridwidth": 2,
            "linecolor": "white",
            "showbackground": true,
            "ticks": "",
            "zerolinecolor": "white"
           },
           "yaxis": {
            "backgroundcolor": "#E5ECF6",
            "gridcolor": "white",
            "gridwidth": 2,
            "linecolor": "white",
            "showbackground": true,
            "ticks": "",
            "zerolinecolor": "white"
           },
           "zaxis": {
            "backgroundcolor": "#E5ECF6",
            "gridcolor": "white",
            "gridwidth": 2,
            "linecolor": "white",
            "showbackground": true,
            "ticks": "",
            "zerolinecolor": "white"
           }
          },
          "shapedefaults": {
           "line": {
            "color": "#2a3f5f"
           }
          },
          "ternary": {
           "aaxis": {
            "gridcolor": "white",
            "linecolor": "white",
            "ticks": ""
           },
           "baxis": {
            "gridcolor": "white",
            "linecolor": "white",
            "ticks": ""
           },
           "bgcolor": "#E5ECF6",
           "caxis": {
            "gridcolor": "white",
            "linecolor": "white",
            "ticks": ""
           }
          },
          "title": {
           "x": 0.05
          },
          "xaxis": {
           "automargin": true,
           "gridcolor": "white",
           "linecolor": "white",
           "ticks": "",
           "title": {
            "standoff": 15
           },
           "zerolinecolor": "white",
           "zerolinewidth": 2
          },
          "yaxis": {
           "automargin": true,
           "gridcolor": "white",
           "linecolor": "white",
           "ticks": "",
           "title": {
            "standoff": 15
           },
           "zerolinecolor": "white",
           "zerolinewidth": 2
          }
         }
        },
        "width": 600
       }
      },
      "text/html": [
       "<div>                            <div id=\"92a940bc-e74e-488f-9b91-dbae072a84c7\" class=\"plotly-graph-div\" style=\"height:7500px; width:600px;\"></div>            <script type=\"text/javascript\">                require([\"plotly\"], function(Plotly) {                    window.PLOTLYENV=window.PLOTLYENV || {};                                    if (document.getElementById(\"92a940bc-e74e-488f-9b91-dbae072a84c7\")) {                    Plotly.newPlot(                        \"92a940bc-e74e-488f-9b91-dbae072a84c7\",                        [{\"arrangement\":\"perpendicular\",\"domain\":{\"y\":[0.9814445917640827,0.999999]},\"link\":{\"arrowlen\":25,\"color\":[\"rgba(0,0,255,0.3)\",\"rgba(0,0,255,0.3)\",\"rgba(0,0,255,0.3)\"],\"label\":[\"Resid Start-\\u003eA3.0.K\\u003cbr\\u003eNone\\u003cbr\\u003e6.24\",\"A2.0-\\u003eA3.0.K\\u003cbr\\u003eNone\\u003cbr\\u003e3.57\",\"Resid Start-\\u003eA3.6.K\\u003cbr\\u003eNone\\u003cbr\\u003e3.33\"],\"source\":[21,25,21],\"target\":[19,19,9],\"value\":[6.235858917236328,3.5691113471984863,3.3275229930877686]},\"node\":{\"color\":[\"rgba(0,0,0,0.0)\",\"rgba(0,0,0,0.0)\",\"rgba(0,0,0,0.0)\",\"rgba(0,0,0,0.0)\",\"rgba(0,0,0,0.0)\",\"rgba(0,0,0,0.0)\",\"rgba(0,0,0,0.0)\",\"rgba(0,0,0,0.0)\",\"rgba(0,0,0,0.0)\",\"rgb(77, 175, 74)\",\"rgba(0,0,0,0.0)\",\"rgba(0,0,0,0.0)\",\"rgba(0,0,0,0.0)\",\"rgba(0,0,0,0.0)\",\"rgba(0,0,0,0.0)\",\"rgba(0,0,0,0.0)\",\"rgba(0,0,0,0.0)\",\"rgba(0,0,0,0.0)\",\"rgba(0,0,0,0.0)\",\"rgb(255, 127, 0)\",\"rgba(0,0,0,0.0)\",\"rgb(77, 175, 74)\",\"rgba(0,0,0,0.0)\",\"rgba(0,0,0,0.0)\",\"rgba(0,0,0,0.0)\",\"rgb(255, 127, 0)\",\"rgba(0,0,0,0.0)\",\"rgba(0,0,0,0.0)\",\"rgba(0,0,0,0.0)\",\"rgba(0,0,0,0.0)\",\"rgba(0,0,0,0.0)\",\"rgba(0,0,0,0.0)\",\"rgba(0,0,0,0.0)\",\"rgba(0,0,0,0.0)\"],\"label\":[\"\",\"\",\"\",\"\",\"\",\"\",\"\",\"\",\"\",\"A3.6\",\"\",\"\",\"\",\"\",\"\",\"\",\"\",\"\",\"\",\"A3.0\",\"\",\"Embed\",\"\",\"\",\"\",\"A2.0\",\"\",\"\",\"\",\"\",\"\",\"\",\"\",\"\"],\"line\":{\"width\":0.0}},\"orientation\":\"h\",\"type\":\"sankey\"},{\"arrangement\":\"perpendicular\",\"domain\":{\"y\":[0.9639687868975308,0.9727066893308067]},\"link\":{\"arrowlen\":25,\"color\":[],\"label\":[],\"source\":[],\"target\":[],\"value\":[]},\"node\":{\"color\":[\"rgba(0,0,0,0.0)\",\"rgba(0,0,0,0.0)\",\"rgba(0,0,0,0.0)\",\"rgba(0,0,0,0.0)\",\"rgba(0,0,0,0.0)\",\"rgba(0,0,0,0.0)\",\"rgba(0,0,0,0.0)\",\"rgba(0,0,0,0.0)\",\"rgba(0,0,0,0.0)\",\"rgba(0,0,0,0.0)\",\"rgba(0,0,0,0.0)\",\"rgba(0,0,0,0.0)\",\"rgba(0,0,0,0.0)\",\"rgba(0,0,0,0.0)\",\"rgba(0,0,0,0.0)\",\"rgba(0,0,0,0.0)\",\"rgba(0,0,0,0.0)\",\"rgba(0,0,0,0.0)\",\"rgba(0,0,0,0.0)\",\"rgba(0,0,0,0.0)\",\"rgba(0,0,0,0.0)\",\"rgba(0,0,0,0.0)\",\"rgba(0,0,0,0.0)\",\"rgba(0,0,0,0.0)\",\"rgba(0,0,0,0.0)\",\"rgba(0,0,0,0.0)\",\"rgba(0,0,0,0.0)\",\"rgba(0,0,0,0.0)\",\"rgba(0,0,0,0.0)\",\"rgba(0,0,0,0.0)\",\"rgba(0,0,0,0.0)\",\"rgba(0,0,0,0.0)\",\"rgba(0,0,0,0.0)\",\"rgba(0,0,0,0.0)\"],\"label\":[\"\",\"\",\"\",\"\",\"\",\"\",\"\",\"\",\"\",\"\",\"\",\"\",\"\",\"\",\"\",\"\",\"\",\"\",\"\",\"\",\"\",\"\",\"\",\"\",\"\",\"\",\"\",\"\",\"\",\"\",\"\",\"\",\"\",\"\"],\"line\":{\"width\":0.0}},\"orientation\":\"h\",\"type\":\"sankey\"},{\"arrangement\":\"perpendicular\",\"domain\":{\"y\":[0.9137192654953418,0.9552308844642549]},\"link\":{\"arrowlen\":25,\"color\":[\"rgba(0,0,255,0.3)\",\"rgba(0,0,255,0.3)\"],\"label\":[\"Resid Start-\\u003eA3.0.K\\u003cbr\\u003eNone\\u003cbr\\u003e8.09\",\"Resid Start-\\u003eA3.6.K\\u003cbr\\u003eNone\\u003cbr\\u003e5.61\"],\"source\":[21,21],\"target\":[19,9],\"value\":[8.09392261505127,5.608042240142822]},\"node\":{\"color\":[\"rgba(0,0,0,0.0)\",\"rgba(0,0,0,0.0)\",\"rgba(0,0,0,0.0)\",\"rgba(0,0,0,0.0)\",\"rgba(0,0,0,0.0)\",\"rgba(0,0,0,0.0)\",\"rgba(0,0,0,0.0)\",\"rgba(0,0,0,0.0)\",\"rgba(0,0,0,0.0)\",\"rgb(255, 127, 0)\",\"rgba(0,0,0,0.0)\",\"rgba(0,0,0,0.0)\",\"rgba(0,0,0,0.0)\",\"rgba(0,0,0,0.0)\",\"rgba(0,0,0,0.0)\",\"rgba(0,0,0,0.0)\",\"rgba(0,0,0,0.0)\",\"rgba(0,0,0,0.0)\",\"rgba(0,0,0,0.0)\",\"rgb(55, 126, 184)\",\"rgba(0,0,0,0.0)\",\"rgb(255, 127, 0)\",\"rgba(0,0,0,0.0)\",\"rgba(0,0,0,0.0)\",\"rgba(0,0,0,0.0)\",\"rgba(0,0,0,0.0)\",\"rgba(0,0,0,0.0)\",\"rgba(0,0,0,0.0)\",\"rgba(0,0,0,0.0)\",\"rgba(0,0,0,0.0)\",\"rgba(0,0,0,0.0)\",\"rgba(0,0,0,0.0)\",\"rgba(0,0,0,0.0)\",\"rgba(0,0,0,0.0)\"],\"label\":[\"\",\"\",\"\",\"\",\"\",\"\",\"\",\"\",\"\",\"A3.6\",\"\",\"\",\"\",\"\",\"\",\"\",\"\",\"\",\"\",\"A3.0\",\"\",\"Embed\",\"\",\"\",\"\",\"\",\"\",\"\",\"\",\"\",\"\",\"\",\"\",\"\"],\"line\":{\"width\":0.0}},\"orientation\":\"h\",\"type\":\"sankey\"},{\"arrangement\":\"perpendicular\",\"domain\":{\"y\":[0.8962434606287898,0.9049813630620658]},\"link\":{\"arrowlen\":25,\"color\":[],\"label\":[],\"source\":[],\"target\":[],\"value\":[]},\"node\":{\"color\":[\"rgba(0,0,0,0.0)\",\"rgba(0,0,0,0.0)\",\"rgba(0,0,0,0.0)\",\"rgba(0,0,0,0.0)\",\"rgba(0,0,0,0.0)\",\"rgba(0,0,0,0.0)\",\"rgba(0,0,0,0.0)\",\"rgba(0,0,0,0.0)\",\"rgba(0,0,0,0.0)\",\"rgba(0,0,0,0.0)\",\"rgba(0,0,0,0.0)\",\"rgba(0,0,0,0.0)\",\"rgba(0,0,0,0.0)\",\"rgba(0,0,0,0.0)\",\"rgba(0,0,0,0.0)\",\"rgba(0,0,0,0.0)\",\"rgba(0,0,0,0.0)\",\"rgba(0,0,0,0.0)\",\"rgba(0,0,0,0.0)\",\"rgba(0,0,0,0.0)\",\"rgba(0,0,0,0.0)\",\"rgba(0,0,0,0.0)\",\"rgba(0,0,0,0.0)\",\"rgba(0,0,0,0.0)\",\"rgba(0,0,0,0.0)\",\"rgba(0,0,0,0.0)\",\"rgba(0,0,0,0.0)\",\"rgba(0,0,0,0.0)\",\"rgba(0,0,0,0.0)\",\"rgba(0,0,0,0.0)\",\"rgba(0,0,0,0.0)\",\"rgba(0,0,0,0.0)\",\"rgba(0,0,0,0.0)\",\"rgba(0,0,0,0.0)\"],\"label\":[\"\",\"\",\"\",\"\",\"\",\"\",\"\",\"\",\"\",\"\",\"\",\"\",\"\",\"\",\"\",\"\",\"\",\"\",\"\",\"\",\"\",\"\",\"\",\"\",\"\",\"\",\"\",\"\",\"\",\"\",\"\",\"\",\"\",\"\"],\"line\":{\"width\":0.0}},\"orientation\":\"h\",\"type\":\"sankey\"},{\"arrangement\":\"perpendicular\",\"domain\":{\"y\":[0.565013122312687,0.8875055581955138]},\"link\":{\"arrowlen\":25,\"color\":[\"rgba(0,0,255,0.3)\",\"rgba(0,0,255,0.3)\",\"rgba(0,0,255,0.3)\",\"rgba(0,0,255,0.3)\",\"rgba(0,0,255,0.3)\"],\"label\":[\"A0.4-\\u003eA3.0.K\\u003cbr\\u003eNone\\u003cbr\\u003e3.76\",\"Resid Start-\\u003eA3.6.V\\u003cbr\\u003eNone\\u003cbr\\u003e13.23\",\"Resid Start-\\u003eA0.4.Q\\u003cbr\\u003eNone\\u003cbr\\u003e37.13\",\"Resid Start-\\u003eA3.0.V\\u003cbr\\u003eNone\\u003cbr\\u003e13.58\",\"Resid Start-\\u003eA0.4.V\\u003cbr\\u003eNone\\u003cbr\\u003e3.68\"],\"source\":[27,21,21,21,21],\"target\":[19,9,27,19,27],\"value\":[3.757087469100952,13.225234031677246,37.13483810424805,13.58181095123291,3.6842331886291504]},\"node\":{\"color\":[\"rgba(0,0,0,0.0)\",\"rgba(0,0,0,0.0)\",\"rgba(0,0,0,0.0)\",\"rgba(0,0,0,0.0)\",\"rgba(0,0,0,0.0)\",\"rgba(0,0,0,0.0)\",\"rgba(0,0,0,0.0)\",\"rgba(0,0,0,0.0)\",\"rgba(0,0,0,0.0)\",\"rgb(255, 127, 0)\",\"rgba(0,0,0,0.0)\",\"rgba(0,0,0,0.0)\",\"rgba(0,0,0,0.0)\",\"rgba(0,0,0,0.0)\",\"rgba(0,0,0,0.0)\",\"rgba(0,0,0,0.0)\",\"rgba(0,0,0,0.0)\",\"rgba(0,0,0,0.0)\",\"rgba(0,0,0,0.0)\",\"rgb(247, 129, 191)\",\"rgba(0,0,0,0.0)\",\"rgb(228, 26, 28)\",\"rgba(0,0,0,0.0)\",\"rgba(0,0,0,0.0)\",\"rgba(0,0,0,0.0)\",\"rgba(0,0,0,0.0)\",\"rgba(0,0,0,0.0)\",\"rgb(228, 26, 28)\",\"rgba(0,0,0,0.0)\",\"rgba(0,0,0,0.0)\",\"rgba(0,0,0,0.0)\",\"rgba(0,0,0,0.0)\",\"rgba(0,0,0,0.0)\",\"rgba(0,0,0,0.0)\"],\"label\":[\"\",\"\",\"\",\"\",\"\",\"\",\"\",\"\",\"\",\"A3.6\",\"\",\"\",\"\",\"\",\"\",\"\",\"\",\"\",\"\",\"A3.0\",\"\",\"Embed\",\"\",\"\",\"\",\"\",\"\",\"A0.4\",\"\",\"\",\"\",\"\",\"\",\"\"],\"line\":{\"width\":0.0}},\"orientation\":\"h\",\"type\":\"sankey\"},{\"arrangement\":\"perpendicular\",\"domain\":{\"y\":[0.5475373174461349,0.556275219879411]},\"link\":{\"arrowlen\":25,\"color\":[],\"label\":[],\"source\":[],\"target\":[],\"value\":[]},\"node\":{\"color\":[\"rgba(0,0,0,0.0)\",\"rgba(0,0,0,0.0)\",\"rgba(0,0,0,0.0)\",\"rgba(0,0,0,0.0)\",\"rgba(0,0,0,0.0)\",\"rgba(0,0,0,0.0)\",\"rgba(0,0,0,0.0)\",\"rgba(0,0,0,0.0)\",\"rgba(0,0,0,0.0)\",\"rgba(0,0,0,0.0)\",\"rgba(0,0,0,0.0)\",\"rgba(0,0,0,0.0)\",\"rgba(0,0,0,0.0)\",\"rgba(0,0,0,0.0)\",\"rgba(0,0,0,0.0)\",\"rgba(0,0,0,0.0)\",\"rgba(0,0,0,0.0)\",\"rgba(0,0,0,0.0)\",\"rgba(0,0,0,0.0)\",\"rgba(0,0,0,0.0)\",\"rgba(0,0,0,0.0)\",\"rgba(0,0,0,0.0)\",\"rgba(0,0,0,0.0)\",\"rgba(0,0,0,0.0)\",\"rgba(0,0,0,0.0)\",\"rgba(0,0,0,0.0)\",\"rgba(0,0,0,0.0)\",\"rgba(0,0,0,0.0)\",\"rgba(0,0,0,0.0)\",\"rgba(0,0,0,0.0)\",\"rgba(0,0,0,0.0)\",\"rgba(0,0,0,0.0)\",\"rgba(0,0,0,0.0)\",\"rgba(0,0,0,0.0)\"],\"label\":[\"\",\"\",\"\",\"\",\"\",\"\",\"\",\"\",\"\",\"\",\"\",\"\",\"\",\"\",\"\",\"\",\"\",\"\",\"\",\"\",\"\",\"\",\"\",\"\",\"\",\"\",\"\",\"\",\"\",\"\",\"\",\"\",\"\",\"\"],\"line\":{\"width\":0.0}},\"orientation\":\"h\",\"type\":\"sankey\"},{\"arrangement\":\"perpendicular\",\"domain\":{\"y\":[0.5300615125795828,0.5387994150128589]},\"link\":{\"arrowlen\":25,\"color\":[],\"label\":[],\"source\":[],\"target\":[],\"value\":[]},\"node\":{\"color\":[\"rgba(0,0,0,0.0)\",\"rgba(0,0,0,0.0)\",\"rgba(0,0,0,0.0)\",\"rgba(0,0,0,0.0)\",\"rgba(0,0,0,0.0)\",\"rgba(0,0,0,0.0)\",\"rgba(0,0,0,0.0)\",\"rgba(0,0,0,0.0)\",\"rgba(0,0,0,0.0)\",\"rgba(0,0,0,0.0)\",\"rgba(0,0,0,0.0)\",\"rgba(0,0,0,0.0)\",\"rgba(0,0,0,0.0)\",\"rgba(0,0,0,0.0)\",\"rgba(0,0,0,0.0)\",\"rgba(0,0,0,0.0)\",\"rgba(0,0,0,0.0)\",\"rgba(0,0,0,0.0)\",\"rgba(0,0,0,0.0)\",\"rgba(0,0,0,0.0)\",\"rgba(0,0,0,0.0)\",\"rgba(0,0,0,0.0)\",\"rgba(0,0,0,0.0)\",\"rgba(0,0,0,0.0)\",\"rgba(0,0,0,0.0)\",\"rgba(0,0,0,0.0)\",\"rgba(0,0,0,0.0)\",\"rgba(0,0,0,0.0)\",\"rgba(0,0,0,0.0)\",\"rgba(0,0,0,0.0)\",\"rgba(0,0,0,0.0)\",\"rgba(0,0,0,0.0)\",\"rgba(0,0,0,0.0)\",\"rgba(0,0,0,0.0)\"],\"label\":[\"\",\"\",\"\",\"\",\"\",\"\",\"\",\"\",\"\",\"\",\"\",\"\",\"\",\"\",\"\",\"\",\"\",\"\",\"\",\"\",\"\",\"\",\"\",\"\",\"\",\"\",\"\",\"\",\"\",\"\",\"\",\"\",\"\",\"\"],\"line\":{\"width\":0.0}},\"orientation\":\"h\",\"type\":\"sankey\"},{\"arrangement\":\"perpendicular\",\"domain\":{\"y\":[0.5125857077130307,0.5213236101463067]},\"link\":{\"arrowlen\":25,\"color\":[],\"label\":[],\"source\":[],\"target\":[],\"value\":[]},\"node\":{\"color\":[\"rgba(0,0,0,0.0)\",\"rgba(0,0,0,0.0)\",\"rgba(0,0,0,0.0)\",\"rgba(0,0,0,0.0)\",\"rgba(0,0,0,0.0)\",\"rgba(0,0,0,0.0)\",\"rgba(0,0,0,0.0)\",\"rgba(0,0,0,0.0)\",\"rgba(0,0,0,0.0)\",\"rgba(0,0,0,0.0)\",\"rgba(0,0,0,0.0)\",\"rgba(0,0,0,0.0)\",\"rgba(0,0,0,0.0)\",\"rgba(0,0,0,0.0)\",\"rgba(0,0,0,0.0)\",\"rgba(0,0,0,0.0)\",\"rgba(0,0,0,0.0)\",\"rgba(0,0,0,0.0)\",\"rgba(0,0,0,0.0)\",\"rgba(0,0,0,0.0)\",\"rgba(0,0,0,0.0)\",\"rgba(0,0,0,0.0)\",\"rgba(0,0,0,0.0)\",\"rgba(0,0,0,0.0)\",\"rgba(0,0,0,0.0)\",\"rgba(0,0,0,0.0)\",\"rgba(0,0,0,0.0)\",\"rgba(0,0,0,0.0)\",\"rgba(0,0,0,0.0)\",\"rgba(0,0,0,0.0)\",\"rgba(0,0,0,0.0)\",\"rgba(0,0,0,0.0)\",\"rgba(0,0,0,0.0)\",\"rgba(0,0,0,0.0)\"],\"label\":[\"\",\"\",\"\",\"\",\"\",\"\",\"\",\"\",\"\",\"\",\"\",\"\",\"\",\"\",\"\",\"\",\"\",\"\",\"\",\"\",\"\",\"\",\"\",\"\",\"\",\"\",\"\",\"\",\"\",\"\",\"\",\"\",\"\",\"\"],\"line\":{\"width\":0.0}},\"orientation\":\"h\",\"type\":\"sankey\"},{\"arrangement\":\"perpendicular\",\"domain\":{\"y\":[0.49510990284647854,0.5038478052797546]},\"link\":{\"arrowlen\":25,\"color\":[],\"label\":[],\"source\":[],\"target\":[],\"value\":[]},\"node\":{\"color\":[\"rgba(0,0,0,0.0)\",\"rgba(0,0,0,0.0)\",\"rgba(0,0,0,0.0)\",\"rgba(0,0,0,0.0)\",\"rgba(0,0,0,0.0)\",\"rgba(0,0,0,0.0)\",\"rgba(0,0,0,0.0)\",\"rgba(0,0,0,0.0)\",\"rgba(0,0,0,0.0)\",\"rgba(0,0,0,0.0)\",\"rgba(0,0,0,0.0)\",\"rgba(0,0,0,0.0)\",\"rgba(0,0,0,0.0)\",\"rgba(0,0,0,0.0)\",\"rgba(0,0,0,0.0)\",\"rgba(0,0,0,0.0)\",\"rgba(0,0,0,0.0)\",\"rgba(0,0,0,0.0)\",\"rgba(0,0,0,0.0)\",\"rgba(0,0,0,0.0)\",\"rgba(0,0,0,0.0)\",\"rgba(0,0,0,0.0)\",\"rgba(0,0,0,0.0)\",\"rgba(0,0,0,0.0)\",\"rgba(0,0,0,0.0)\",\"rgba(0,0,0,0.0)\",\"rgba(0,0,0,0.0)\",\"rgba(0,0,0,0.0)\",\"rgba(0,0,0,0.0)\",\"rgba(0,0,0,0.0)\",\"rgba(0,0,0,0.0)\",\"rgba(0,0,0,0.0)\",\"rgba(0,0,0,0.0)\",\"rgba(0,0,0,0.0)\"],\"label\":[\"\",\"\",\"\",\"\",\"\",\"\",\"\",\"\",\"\",\"\",\"\",\"\",\"\",\"\",\"\",\"\",\"\",\"\",\"\",\"\",\"\",\"\",\"\",\"\",\"\",\"\",\"\",\"\",\"\",\"\",\"\",\"\",\"\",\"\"],\"line\":{\"width\":0.0}},\"orientation\":\"h\",\"type\":\"sankey\"},{\"arrangement\":\"perpendicular\",\"domain\":{\"y\":[0.4776340979799264,0.48637200041320244]},\"link\":{\"arrowlen\":25,\"color\":[],\"label\":[],\"source\":[],\"target\":[],\"value\":[]},\"node\":{\"color\":[\"rgba(0,0,0,0.0)\",\"rgba(0,0,0,0.0)\",\"rgba(0,0,0,0.0)\",\"rgba(0,0,0,0.0)\",\"rgba(0,0,0,0.0)\",\"rgba(0,0,0,0.0)\",\"rgba(0,0,0,0.0)\",\"rgba(0,0,0,0.0)\",\"rgba(0,0,0,0.0)\",\"rgba(0,0,0,0.0)\",\"rgba(0,0,0,0.0)\",\"rgba(0,0,0,0.0)\",\"rgba(0,0,0,0.0)\",\"rgba(0,0,0,0.0)\",\"rgba(0,0,0,0.0)\",\"rgba(0,0,0,0.0)\",\"rgba(0,0,0,0.0)\",\"rgba(0,0,0,0.0)\",\"rgba(0,0,0,0.0)\",\"rgba(0,0,0,0.0)\",\"rgba(0,0,0,0.0)\",\"rgba(0,0,0,0.0)\",\"rgba(0,0,0,0.0)\",\"rgba(0,0,0,0.0)\",\"rgba(0,0,0,0.0)\",\"rgba(0,0,0,0.0)\",\"rgba(0,0,0,0.0)\",\"rgba(0,0,0,0.0)\",\"rgba(0,0,0,0.0)\",\"rgba(0,0,0,0.0)\",\"rgba(0,0,0,0.0)\",\"rgba(0,0,0,0.0)\",\"rgba(0,0,0,0.0)\",\"rgba(0,0,0,0.0)\"],\"label\":[\"\",\"\",\"\",\"\",\"\",\"\",\"\",\"\",\"\",\"\",\"\",\"\",\"\",\"\",\"\",\"\",\"\",\"\",\"\",\"\",\"\",\"\",\"\",\"\",\"\",\"\",\"\",\"\",\"\",\"\",\"\",\"\",\"\",\"\"],\"line\":{\"width\":0.0}},\"orientation\":\"h\",\"type\":\"sankey\"},{\"arrangement\":\"perpendicular\",\"domain\":{\"y\":[0.4601582931133743,0.46889619554665035]},\"link\":{\"arrowlen\":25,\"color\":[],\"label\":[],\"source\":[],\"target\":[],\"value\":[]},\"node\":{\"color\":[\"rgba(0,0,0,0.0)\",\"rgba(0,0,0,0.0)\",\"rgba(0,0,0,0.0)\",\"rgba(0,0,0,0.0)\",\"rgba(0,0,0,0.0)\",\"rgba(0,0,0,0.0)\",\"rgba(0,0,0,0.0)\",\"rgba(0,0,0,0.0)\",\"rgba(0,0,0,0.0)\",\"rgba(0,0,0,0.0)\",\"rgba(0,0,0,0.0)\",\"rgba(0,0,0,0.0)\",\"rgba(0,0,0,0.0)\",\"rgba(0,0,0,0.0)\",\"rgba(0,0,0,0.0)\",\"rgba(0,0,0,0.0)\",\"rgba(0,0,0,0.0)\",\"rgba(0,0,0,0.0)\",\"rgba(0,0,0,0.0)\",\"rgba(0,0,0,0.0)\",\"rgba(0,0,0,0.0)\",\"rgba(0,0,0,0.0)\",\"rgba(0,0,0,0.0)\",\"rgba(0,0,0,0.0)\",\"rgba(0,0,0,0.0)\",\"rgba(0,0,0,0.0)\",\"rgba(0,0,0,0.0)\",\"rgba(0,0,0,0.0)\",\"rgba(0,0,0,0.0)\",\"rgba(0,0,0,0.0)\",\"rgba(0,0,0,0.0)\",\"rgba(0,0,0,0.0)\",\"rgba(0,0,0,0.0)\",\"rgba(0,0,0,0.0)\"],\"label\":[\"\",\"\",\"\",\"\",\"\",\"\",\"\",\"\",\"\",\"\",\"\",\"\",\"\",\"\",\"\",\"\",\"\",\"\",\"\",\"\",\"\",\"\",\"\",\"\",\"\",\"\",\"\",\"\",\"\",\"\",\"\",\"\",\"\",\"\"],\"line\":{\"width\":0.0}},\"orientation\":\"h\",\"type\":\"sankey\"},{\"arrangement\":\"perpendicular\",\"domain\":{\"y\":[0.44268248824682216,0.4514203906800982]},\"link\":{\"arrowlen\":25,\"color\":[],\"label\":[],\"source\":[],\"target\":[],\"value\":[]},\"node\":{\"color\":[\"rgba(0,0,0,0.0)\",\"rgba(0,0,0,0.0)\",\"rgba(0,0,0,0.0)\",\"rgba(0,0,0,0.0)\",\"rgba(0,0,0,0.0)\",\"rgba(0,0,0,0.0)\",\"rgba(0,0,0,0.0)\",\"rgba(0,0,0,0.0)\",\"rgba(0,0,0,0.0)\",\"rgba(0,0,0,0.0)\",\"rgba(0,0,0,0.0)\",\"rgba(0,0,0,0.0)\",\"rgba(0,0,0,0.0)\",\"rgba(0,0,0,0.0)\",\"rgba(0,0,0,0.0)\",\"rgba(0,0,0,0.0)\",\"rgba(0,0,0,0.0)\",\"rgba(0,0,0,0.0)\",\"rgba(0,0,0,0.0)\",\"rgba(0,0,0,0.0)\",\"rgba(0,0,0,0.0)\",\"rgba(0,0,0,0.0)\",\"rgba(0,0,0,0.0)\",\"rgba(0,0,0,0.0)\",\"rgba(0,0,0,0.0)\",\"rgba(0,0,0,0.0)\",\"rgba(0,0,0,0.0)\",\"rgba(0,0,0,0.0)\",\"rgba(0,0,0,0.0)\",\"rgba(0,0,0,0.0)\",\"rgba(0,0,0,0.0)\",\"rgba(0,0,0,0.0)\",\"rgba(0,0,0,0.0)\",\"rgba(0,0,0,0.0)\"],\"label\":[\"\",\"\",\"\",\"\",\"\",\"\",\"\",\"\",\"\",\"\",\"\",\"\",\"\",\"\",\"\",\"\",\"\",\"\",\"\",\"\",\"\",\"\",\"\",\"\",\"\",\"\",\"\",\"\",\"\",\"\",\"\",\"\",\"\",\"\"],\"line\":{\"width\":0.0}},\"orientation\":\"h\",\"type\":\"sankey\"},{\"arrangement\":\"perpendicular\",\"domain\":{\"y\":[0.42520668338027007,0.4339445858135461]},\"link\":{\"arrowlen\":25,\"color\":[],\"label\":[],\"source\":[],\"target\":[],\"value\":[]},\"node\":{\"color\":[\"rgba(0,0,0,0.0)\",\"rgba(0,0,0,0.0)\",\"rgba(0,0,0,0.0)\",\"rgba(0,0,0,0.0)\",\"rgba(0,0,0,0.0)\",\"rgba(0,0,0,0.0)\",\"rgba(0,0,0,0.0)\",\"rgba(0,0,0,0.0)\",\"rgba(0,0,0,0.0)\",\"rgba(0,0,0,0.0)\",\"rgba(0,0,0,0.0)\",\"rgba(0,0,0,0.0)\",\"rgba(0,0,0,0.0)\",\"rgba(0,0,0,0.0)\",\"rgba(0,0,0,0.0)\",\"rgba(0,0,0,0.0)\",\"rgba(0,0,0,0.0)\",\"rgba(0,0,0,0.0)\",\"rgba(0,0,0,0.0)\",\"rgba(0,0,0,0.0)\",\"rgba(0,0,0,0.0)\",\"rgba(0,0,0,0.0)\",\"rgba(0,0,0,0.0)\",\"rgba(0,0,0,0.0)\",\"rgba(0,0,0,0.0)\",\"rgba(0,0,0,0.0)\",\"rgba(0,0,0,0.0)\",\"rgba(0,0,0,0.0)\",\"rgba(0,0,0,0.0)\",\"rgba(0,0,0,0.0)\",\"rgba(0,0,0,0.0)\",\"rgba(0,0,0,0.0)\",\"rgba(0,0,0,0.0)\",\"rgba(0,0,0,0.0)\"],\"label\":[\"\",\"\",\"\",\"\",\"\",\"\",\"\",\"\",\"\",\"\",\"\",\"\",\"\",\"\",\"\",\"\",\"\",\"\",\"\",\"\",\"\",\"\",\"\",\"\",\"\",\"\",\"\",\"\",\"\",\"\",\"\",\"\",\"\",\"\"],\"line\":{\"width\":0.0}},\"orientation\":\"h\",\"type\":\"sankey\"},{\"arrangement\":\"perpendicular\",\"domain\":{\"y\":[0.4077308785137179,0.41646878094699397]},\"link\":{\"arrowlen\":25,\"color\":[],\"label\":[],\"source\":[],\"target\":[],\"value\":[]},\"node\":{\"color\":[\"rgba(0,0,0,0.0)\",\"rgba(0,0,0,0.0)\",\"rgba(0,0,0,0.0)\",\"rgba(0,0,0,0.0)\",\"rgba(0,0,0,0.0)\",\"rgba(0,0,0,0.0)\",\"rgba(0,0,0,0.0)\",\"rgba(0,0,0,0.0)\",\"rgba(0,0,0,0.0)\",\"rgba(0,0,0,0.0)\",\"rgba(0,0,0,0.0)\",\"rgba(0,0,0,0.0)\",\"rgba(0,0,0,0.0)\",\"rgba(0,0,0,0.0)\",\"rgba(0,0,0,0.0)\",\"rgba(0,0,0,0.0)\",\"rgba(0,0,0,0.0)\",\"rgba(0,0,0,0.0)\",\"rgba(0,0,0,0.0)\",\"rgba(0,0,0,0.0)\",\"rgba(0,0,0,0.0)\",\"rgba(0,0,0,0.0)\",\"rgba(0,0,0,0.0)\",\"rgba(0,0,0,0.0)\",\"rgba(0,0,0,0.0)\",\"rgba(0,0,0,0.0)\",\"rgba(0,0,0,0.0)\",\"rgba(0,0,0,0.0)\",\"rgba(0,0,0,0.0)\",\"rgba(0,0,0,0.0)\",\"rgba(0,0,0,0.0)\",\"rgba(0,0,0,0.0)\",\"rgba(0,0,0,0.0)\",\"rgba(0,0,0,0.0)\"],\"label\":[\"\",\"\",\"\",\"\",\"\",\"\",\"\",\"\",\"\",\"\",\"\",\"\",\"\",\"\",\"\",\"\",\"\",\"\",\"\",\"\",\"\",\"\",\"\",\"\",\"\",\"\",\"\",\"\",\"\",\"\",\"\",\"\",\"\",\"\"],\"line\":{\"width\":0.0}},\"orientation\":\"h\",\"type\":\"sankey\"},{\"arrangement\":\"perpendicular\",\"domain\":{\"y\":[0.39025507364716583,0.3989929760804419]},\"link\":{\"arrowlen\":25,\"color\":[],\"label\":[],\"source\":[],\"target\":[],\"value\":[]},\"node\":{\"color\":[\"rgba(0,0,0,0.0)\",\"rgba(0,0,0,0.0)\",\"rgba(0,0,0,0.0)\",\"rgba(0,0,0,0.0)\",\"rgba(0,0,0,0.0)\",\"rgba(0,0,0,0.0)\",\"rgba(0,0,0,0.0)\",\"rgba(0,0,0,0.0)\",\"rgba(0,0,0,0.0)\",\"rgba(0,0,0,0.0)\",\"rgba(0,0,0,0.0)\",\"rgba(0,0,0,0.0)\",\"rgba(0,0,0,0.0)\",\"rgba(0,0,0,0.0)\",\"rgba(0,0,0,0.0)\",\"rgba(0,0,0,0.0)\",\"rgba(0,0,0,0.0)\",\"rgba(0,0,0,0.0)\",\"rgba(0,0,0,0.0)\",\"rgba(0,0,0,0.0)\",\"rgba(0,0,0,0.0)\",\"rgba(0,0,0,0.0)\",\"rgba(0,0,0,0.0)\",\"rgba(0,0,0,0.0)\",\"rgba(0,0,0,0.0)\",\"rgba(0,0,0,0.0)\",\"rgba(0,0,0,0.0)\",\"rgba(0,0,0,0.0)\",\"rgba(0,0,0,0.0)\",\"rgba(0,0,0,0.0)\",\"rgba(0,0,0,0.0)\",\"rgba(0,0,0,0.0)\",\"rgba(0,0,0,0.0)\",\"rgba(0,0,0,0.0)\"],\"label\":[\"\",\"\",\"\",\"\",\"\",\"\",\"\",\"\",\"\",\"\",\"\",\"\",\"\",\"\",\"\",\"\",\"\",\"\",\"\",\"\",\"\",\"\",\"\",\"\",\"\",\"\",\"\",\"\",\"\",\"\",\"\",\"\",\"\",\"\"],\"line\":{\"width\":0.0}},\"orientation\":\"h\",\"type\":\"sankey\"},{\"arrangement\":\"perpendicular\",\"domain\":{\"y\":[0.37277926878061374,0.3815171712138897]},\"link\":{\"arrowlen\":25,\"color\":[],\"label\":[],\"source\":[],\"target\":[],\"value\":[]},\"node\":{\"color\":[\"rgba(0,0,0,0.0)\",\"rgba(0,0,0,0.0)\",\"rgba(0,0,0,0.0)\",\"rgba(0,0,0,0.0)\",\"rgba(0,0,0,0.0)\",\"rgba(0,0,0,0.0)\",\"rgba(0,0,0,0.0)\",\"rgba(0,0,0,0.0)\",\"rgba(0,0,0,0.0)\",\"rgba(0,0,0,0.0)\",\"rgba(0,0,0,0.0)\",\"rgba(0,0,0,0.0)\",\"rgba(0,0,0,0.0)\",\"rgba(0,0,0,0.0)\",\"rgba(0,0,0,0.0)\",\"rgba(0,0,0,0.0)\",\"rgba(0,0,0,0.0)\",\"rgba(0,0,0,0.0)\",\"rgba(0,0,0,0.0)\",\"rgba(0,0,0,0.0)\",\"rgba(0,0,0,0.0)\",\"rgba(0,0,0,0.0)\",\"rgba(0,0,0,0.0)\",\"rgba(0,0,0,0.0)\",\"rgba(0,0,0,0.0)\",\"rgba(0,0,0,0.0)\",\"rgba(0,0,0,0.0)\",\"rgba(0,0,0,0.0)\",\"rgba(0,0,0,0.0)\",\"rgba(0,0,0,0.0)\",\"rgba(0,0,0,0.0)\",\"rgba(0,0,0,0.0)\",\"rgba(0,0,0,0.0)\",\"rgba(0,0,0,0.0)\"],\"label\":[\"\",\"\",\"\",\"\",\"\",\"\",\"\",\"\",\"\",\"\",\"\",\"\",\"\",\"\",\"\",\"\",\"\",\"\",\"\",\"\",\"\",\"\",\"\",\"\",\"\",\"\",\"\",\"\",\"\",\"\",\"\",\"\",\"\",\"\"],\"line\":{\"width\":0.0}},\"orientation\":\"h\",\"type\":\"sankey\"},{\"arrangement\":\"perpendicular\",\"domain\":{\"y\":[0.3553034639140617,0.3640413663473377]},\"link\":{\"arrowlen\":25,\"color\":[],\"label\":[],\"source\":[],\"target\":[],\"value\":[]},\"node\":{\"color\":[\"rgba(0,0,0,0.0)\",\"rgba(0,0,0,0.0)\",\"rgba(0,0,0,0.0)\",\"rgba(0,0,0,0.0)\",\"rgba(0,0,0,0.0)\",\"rgba(0,0,0,0.0)\",\"rgba(0,0,0,0.0)\",\"rgba(0,0,0,0.0)\",\"rgba(0,0,0,0.0)\",\"rgba(0,0,0,0.0)\",\"rgba(0,0,0,0.0)\",\"rgba(0,0,0,0.0)\",\"rgba(0,0,0,0.0)\",\"rgba(0,0,0,0.0)\",\"rgba(0,0,0,0.0)\",\"rgba(0,0,0,0.0)\",\"rgba(0,0,0,0.0)\",\"rgba(0,0,0,0.0)\",\"rgba(0,0,0,0.0)\",\"rgba(0,0,0,0.0)\",\"rgba(0,0,0,0.0)\",\"rgba(0,0,0,0.0)\",\"rgba(0,0,0,0.0)\",\"rgba(0,0,0,0.0)\",\"rgba(0,0,0,0.0)\",\"rgba(0,0,0,0.0)\",\"rgba(0,0,0,0.0)\",\"rgba(0,0,0,0.0)\",\"rgba(0,0,0,0.0)\",\"rgba(0,0,0,0.0)\",\"rgba(0,0,0,0.0)\",\"rgba(0,0,0,0.0)\",\"rgba(0,0,0,0.0)\",\"rgba(0,0,0,0.0)\"],\"label\":[\"\",\"\",\"\",\"\",\"\",\"\",\"\",\"\",\"\",\"\",\"\",\"\",\"\",\"\",\"\",\"\",\"\",\"\",\"\",\"\",\"\",\"\",\"\",\"\",\"\",\"\",\"\",\"\",\"\",\"\",\"\",\"\",\"\",\"\"],\"line\":{\"width\":0.0}},\"orientation\":\"h\",\"type\":\"sankey\"},{\"arrangement\":\"perpendicular\",\"domain\":{\"y\":[0.33782765904750967,0.34656556148078566]},\"link\":{\"arrowlen\":25,\"color\":[],\"label\":[],\"source\":[],\"target\":[],\"value\":[]},\"node\":{\"color\":[\"rgba(0,0,0,0.0)\",\"rgba(0,0,0,0.0)\",\"rgba(0,0,0,0.0)\",\"rgba(0,0,0,0.0)\",\"rgba(0,0,0,0.0)\",\"rgba(0,0,0,0.0)\",\"rgba(0,0,0,0.0)\",\"rgba(0,0,0,0.0)\",\"rgba(0,0,0,0.0)\",\"rgba(0,0,0,0.0)\",\"rgba(0,0,0,0.0)\",\"rgba(0,0,0,0.0)\",\"rgba(0,0,0,0.0)\",\"rgba(0,0,0,0.0)\",\"rgba(0,0,0,0.0)\",\"rgba(0,0,0,0.0)\",\"rgba(0,0,0,0.0)\",\"rgba(0,0,0,0.0)\",\"rgba(0,0,0,0.0)\",\"rgba(0,0,0,0.0)\",\"rgba(0,0,0,0.0)\",\"rgba(0,0,0,0.0)\",\"rgba(0,0,0,0.0)\",\"rgba(0,0,0,0.0)\",\"rgba(0,0,0,0.0)\",\"rgba(0,0,0,0.0)\",\"rgba(0,0,0,0.0)\",\"rgba(0,0,0,0.0)\",\"rgba(0,0,0,0.0)\",\"rgba(0,0,0,0.0)\",\"rgba(0,0,0,0.0)\",\"rgba(0,0,0,0.0)\",\"rgba(0,0,0,0.0)\",\"rgba(0,0,0,0.0)\"],\"label\":[\"\",\"\",\"\",\"\",\"\",\"\",\"\",\"\",\"\",\"\",\"\",\"\",\"\",\"\",\"\",\"\",\"\",\"\",\"\",\"\",\"\",\"\",\"\",\"\",\"\",\"\",\"\",\"\",\"\",\"\",\"\",\"\",\"\",\"\"],\"line\":{\"width\":0.0}},\"orientation\":\"h\",\"type\":\"sankey\"},{\"arrangement\":\"perpendicular\",\"domain\":{\"y\":[0.32035185418095763,0.3290897566142336]},\"link\":{\"arrowlen\":25,\"color\":[],\"label\":[],\"source\":[],\"target\":[],\"value\":[]},\"node\":{\"color\":[\"rgba(0,0,0,0.0)\",\"rgba(0,0,0,0.0)\",\"rgba(0,0,0,0.0)\",\"rgba(0,0,0,0.0)\",\"rgba(0,0,0,0.0)\",\"rgba(0,0,0,0.0)\",\"rgba(0,0,0,0.0)\",\"rgba(0,0,0,0.0)\",\"rgba(0,0,0,0.0)\",\"rgba(0,0,0,0.0)\",\"rgba(0,0,0,0.0)\",\"rgba(0,0,0,0.0)\",\"rgba(0,0,0,0.0)\",\"rgba(0,0,0,0.0)\",\"rgba(0,0,0,0.0)\",\"rgba(0,0,0,0.0)\",\"rgba(0,0,0,0.0)\",\"rgba(0,0,0,0.0)\",\"rgba(0,0,0,0.0)\",\"rgba(0,0,0,0.0)\",\"rgba(0,0,0,0.0)\",\"rgba(0,0,0,0.0)\",\"rgba(0,0,0,0.0)\",\"rgba(0,0,0,0.0)\",\"rgba(0,0,0,0.0)\",\"rgba(0,0,0,0.0)\",\"rgba(0,0,0,0.0)\",\"rgba(0,0,0,0.0)\",\"rgba(0,0,0,0.0)\",\"rgba(0,0,0,0.0)\",\"rgba(0,0,0,0.0)\",\"rgba(0,0,0,0.0)\",\"rgba(0,0,0,0.0)\",\"rgba(0,0,0,0.0)\"],\"label\":[\"\",\"\",\"\",\"\",\"\",\"\",\"\",\"\",\"\",\"\",\"\",\"\",\"\",\"\",\"\",\"\",\"\",\"\",\"\",\"\",\"\",\"\",\"\",\"\",\"\",\"\",\"\",\"\",\"\",\"\",\"\",\"\",\"\",\"\"],\"line\":{\"width\":0.0}},\"orientation\":\"h\",\"type\":\"sankey\"},{\"arrangement\":\"perpendicular\",\"domain\":{\"y\":[0.3028760493144056,0.3116139517476816]},\"link\":{\"arrowlen\":25,\"color\":[],\"label\":[],\"source\":[],\"target\":[],\"value\":[]},\"node\":{\"color\":[\"rgba(0,0,0,0.0)\",\"rgba(0,0,0,0.0)\",\"rgba(0,0,0,0.0)\",\"rgba(0,0,0,0.0)\",\"rgba(0,0,0,0.0)\",\"rgba(0,0,0,0.0)\",\"rgba(0,0,0,0.0)\",\"rgba(0,0,0,0.0)\",\"rgba(0,0,0,0.0)\",\"rgba(0,0,0,0.0)\",\"rgba(0,0,0,0.0)\",\"rgba(0,0,0,0.0)\",\"rgba(0,0,0,0.0)\",\"rgba(0,0,0,0.0)\",\"rgba(0,0,0,0.0)\",\"rgba(0,0,0,0.0)\",\"rgba(0,0,0,0.0)\",\"rgba(0,0,0,0.0)\",\"rgba(0,0,0,0.0)\",\"rgba(0,0,0,0.0)\",\"rgba(0,0,0,0.0)\",\"rgba(0,0,0,0.0)\",\"rgba(0,0,0,0.0)\",\"rgba(0,0,0,0.0)\",\"rgba(0,0,0,0.0)\",\"rgba(0,0,0,0.0)\",\"rgba(0,0,0,0.0)\",\"rgba(0,0,0,0.0)\",\"rgba(0,0,0,0.0)\",\"rgba(0,0,0,0.0)\",\"rgba(0,0,0,0.0)\",\"rgba(0,0,0,0.0)\",\"rgba(0,0,0,0.0)\",\"rgba(0,0,0,0.0)\"],\"label\":[\"\",\"\",\"\",\"\",\"\",\"\",\"\",\"\",\"\",\"\",\"\",\"\",\"\",\"\",\"\",\"\",\"\",\"\",\"\",\"\",\"\",\"\",\"\",\"\",\"\",\"\",\"\",\"\",\"\",\"\",\"\",\"\",\"\",\"\"],\"line\":{\"width\":0.0}},\"orientation\":\"h\",\"type\":\"sankey\"},{\"arrangement\":\"perpendicular\",\"domain\":{\"y\":[0.28540024444785356,0.29413814688112955]},\"link\":{\"arrowlen\":25,\"color\":[],\"label\":[],\"source\":[],\"target\":[],\"value\":[]},\"node\":{\"color\":[\"rgba(0,0,0,0.0)\",\"rgba(0,0,0,0.0)\",\"rgba(0,0,0,0.0)\",\"rgba(0,0,0,0.0)\",\"rgba(0,0,0,0.0)\",\"rgba(0,0,0,0.0)\",\"rgba(0,0,0,0.0)\",\"rgba(0,0,0,0.0)\",\"rgba(0,0,0,0.0)\",\"rgba(0,0,0,0.0)\",\"rgba(0,0,0,0.0)\",\"rgba(0,0,0,0.0)\",\"rgba(0,0,0,0.0)\",\"rgba(0,0,0,0.0)\",\"rgba(0,0,0,0.0)\",\"rgba(0,0,0,0.0)\",\"rgba(0,0,0,0.0)\",\"rgba(0,0,0,0.0)\",\"rgba(0,0,0,0.0)\",\"rgba(0,0,0,0.0)\",\"rgba(0,0,0,0.0)\",\"rgba(0,0,0,0.0)\",\"rgba(0,0,0,0.0)\",\"rgba(0,0,0,0.0)\",\"rgba(0,0,0,0.0)\",\"rgba(0,0,0,0.0)\",\"rgba(0,0,0,0.0)\",\"rgba(0,0,0,0.0)\",\"rgba(0,0,0,0.0)\",\"rgba(0,0,0,0.0)\",\"rgba(0,0,0,0.0)\",\"rgba(0,0,0,0.0)\",\"rgba(0,0,0,0.0)\",\"rgba(0,0,0,0.0)\"],\"label\":[\"\",\"\",\"\",\"\",\"\",\"\",\"\",\"\",\"\",\"\",\"\",\"\",\"\",\"\",\"\",\"\",\"\",\"\",\"\",\"\",\"\",\"\",\"\",\"\",\"\",\"\",\"\",\"\",\"\",\"\",\"\",\"\",\"\",\"\"],\"line\":{\"width\":0.0}},\"orientation\":\"h\",\"type\":\"sankey\"},{\"arrangement\":\"perpendicular\",\"domain\":{\"y\":[0.2679244395813015,0.2766623420145775]},\"link\":{\"arrowlen\":25,\"color\":[],\"label\":[],\"source\":[],\"target\":[],\"value\":[]},\"node\":{\"color\":[\"rgba(0,0,0,0.0)\",\"rgba(0,0,0,0.0)\",\"rgba(0,0,0,0.0)\",\"rgba(0,0,0,0.0)\",\"rgba(0,0,0,0.0)\",\"rgba(0,0,0,0.0)\",\"rgba(0,0,0,0.0)\",\"rgba(0,0,0,0.0)\",\"rgba(0,0,0,0.0)\",\"rgba(0,0,0,0.0)\",\"rgba(0,0,0,0.0)\",\"rgba(0,0,0,0.0)\",\"rgba(0,0,0,0.0)\",\"rgba(0,0,0,0.0)\",\"rgba(0,0,0,0.0)\",\"rgba(0,0,0,0.0)\",\"rgba(0,0,0,0.0)\",\"rgba(0,0,0,0.0)\",\"rgba(0,0,0,0.0)\",\"rgba(0,0,0,0.0)\",\"rgba(0,0,0,0.0)\",\"rgba(0,0,0,0.0)\",\"rgba(0,0,0,0.0)\",\"rgba(0,0,0,0.0)\",\"rgba(0,0,0,0.0)\",\"rgba(0,0,0,0.0)\",\"rgba(0,0,0,0.0)\",\"rgba(0,0,0,0.0)\",\"rgba(0,0,0,0.0)\",\"rgba(0,0,0,0.0)\",\"rgba(0,0,0,0.0)\",\"rgba(0,0,0,0.0)\",\"rgba(0,0,0,0.0)\",\"rgba(0,0,0,0.0)\"],\"label\":[\"\",\"\",\"\",\"\",\"\",\"\",\"\",\"\",\"\",\"\",\"\",\"\",\"\",\"\",\"\",\"\",\"\",\"\",\"\",\"\",\"\",\"\",\"\",\"\",\"\",\"\",\"\",\"\",\"\",\"\",\"\",\"\",\"\",\"\"],\"line\":{\"width\":0.0}},\"orientation\":\"h\",\"type\":\"sankey\"},{\"arrangement\":\"perpendicular\",\"domain\":{\"y\":[0.2504486347147495,0.2591865371480255]},\"link\":{\"arrowlen\":25,\"color\":[],\"label\":[],\"source\":[],\"target\":[],\"value\":[]},\"node\":{\"color\":[\"rgba(0,0,0,0.0)\",\"rgba(0,0,0,0.0)\",\"rgba(0,0,0,0.0)\",\"rgba(0,0,0,0.0)\",\"rgba(0,0,0,0.0)\",\"rgba(0,0,0,0.0)\",\"rgba(0,0,0,0.0)\",\"rgba(0,0,0,0.0)\",\"rgba(0,0,0,0.0)\",\"rgba(0,0,0,0.0)\",\"rgba(0,0,0,0.0)\",\"rgba(0,0,0,0.0)\",\"rgba(0,0,0,0.0)\",\"rgba(0,0,0,0.0)\",\"rgba(0,0,0,0.0)\",\"rgba(0,0,0,0.0)\",\"rgba(0,0,0,0.0)\",\"rgba(0,0,0,0.0)\",\"rgba(0,0,0,0.0)\",\"rgba(0,0,0,0.0)\",\"rgba(0,0,0,0.0)\",\"rgba(0,0,0,0.0)\",\"rgba(0,0,0,0.0)\",\"rgba(0,0,0,0.0)\",\"rgba(0,0,0,0.0)\",\"rgba(0,0,0,0.0)\",\"rgba(0,0,0,0.0)\",\"rgba(0,0,0,0.0)\",\"rgba(0,0,0,0.0)\",\"rgba(0,0,0,0.0)\",\"rgba(0,0,0,0.0)\",\"rgba(0,0,0,0.0)\",\"rgba(0,0,0,0.0)\",\"rgba(0,0,0,0.0)\"],\"label\":[\"\",\"\",\"\",\"\",\"\",\"\",\"\",\"\",\"\",\"\",\"\",\"\",\"\",\"\",\"\",\"\",\"\",\"\",\"\",\"\",\"\",\"\",\"\",\"\",\"\",\"\",\"\",\"\",\"\",\"\",\"\",\"\",\"\",\"\"],\"line\":{\"width\":0.0}},\"orientation\":\"h\",\"type\":\"sankey\"},{\"arrangement\":\"perpendicular\",\"domain\":{\"y\":[0.23297282984819742,0.24171073228147344]},\"link\":{\"arrowlen\":25,\"color\":[\"rgba(0,0,255,0.3)\",\"rgba(0,0,255,0.3)\"],\"label\":[\"Resid Start-\\u003eA3.0.K\\u003cbr\\u003eNone\\u003cbr\\u003e3.94\",\"Resid Start-\\u003eA1.4.V\\u003cbr\\u003eNone\\u003cbr\\u003e3.54\"],\"source\":[21,21],\"target\":[19,20],\"value\":[3.9423582553863525,3.5375027656555176]},\"node\":{\"color\":[\"rgba(0,0,0,0.0)\",\"rgba(0,0,0,0.0)\",\"rgba(0,0,0,0.0)\",\"rgba(0,0,0,0.0)\",\"rgba(0,0,0,0.0)\",\"rgba(0,0,0,0.0)\",\"rgba(0,0,0,0.0)\",\"rgba(0,0,0,0.0)\",\"rgba(0,0,0,0.0)\",\"rgba(0,0,0,0.0)\",\"rgba(0,0,0,0.0)\",\"rgba(0,0,0,0.0)\",\"rgba(0,0,0,0.0)\",\"rgba(0,0,0,0.0)\",\"rgba(0,0,0,0.0)\",\"rgba(0,0,0,0.0)\",\"rgba(0,0,0,0.0)\",\"rgba(0,0,0,0.0)\",\"rgba(0,0,0,0.0)\",\"rgb(55, 126, 184)\",\"rgb(255, 127, 0)\",\"rgb(255, 127, 0)\",\"rgba(0,0,0,0.0)\",\"rgba(0,0,0,0.0)\",\"rgba(0,0,0,0.0)\",\"rgba(0,0,0,0.0)\",\"rgba(0,0,0,0.0)\",\"rgba(0,0,0,0.0)\",\"rgba(0,0,0,0.0)\",\"rgba(0,0,0,0.0)\",\"rgba(0,0,0,0.0)\",\"rgba(0,0,0,0.0)\",\"rgba(0,0,0,0.0)\",\"rgba(0,0,0,0.0)\"],\"label\":[\"\",\"\",\"\",\"\",\"\",\"\",\"\",\"\",\"\",\"\",\"\",\"\",\"\",\"\",\"\",\"\",\"\",\"\",\"\",\"A3.0\",\"A1.4\",\"Embed\",\"\",\"\",\"\",\"\",\"\",\"\",\"\",\"\",\"\",\"\",\"\",\"\"],\"line\":{\"width\":0.0}},\"orientation\":\"h\",\"type\":\"sankey\"},{\"arrangement\":\"perpendicular\",\"domain\":{\"y\":[0.21549702498164539,0.2242349274149214]},\"link\":{\"arrowlen\":25,\"color\":[],\"label\":[],\"source\":[],\"target\":[],\"value\":[]},\"node\":{\"color\":[\"rgba(0,0,0,0.0)\",\"rgba(0,0,0,0.0)\",\"rgba(0,0,0,0.0)\",\"rgba(0,0,0,0.0)\",\"rgba(0,0,0,0.0)\",\"rgba(0,0,0,0.0)\",\"rgba(0,0,0,0.0)\",\"rgba(0,0,0,0.0)\",\"rgba(0,0,0,0.0)\",\"rgba(0,0,0,0.0)\",\"rgba(0,0,0,0.0)\",\"rgba(0,0,0,0.0)\",\"rgba(0,0,0,0.0)\",\"rgba(0,0,0,0.0)\",\"rgba(0,0,0,0.0)\",\"rgba(0,0,0,0.0)\",\"rgba(0,0,0,0.0)\",\"rgba(0,0,0,0.0)\",\"rgba(0,0,0,0.0)\",\"rgba(0,0,0,0.0)\",\"rgba(0,0,0,0.0)\",\"rgba(0,0,0,0.0)\",\"rgba(0,0,0,0.0)\",\"rgba(0,0,0,0.0)\",\"rgba(0,0,0,0.0)\",\"rgba(0,0,0,0.0)\",\"rgba(0,0,0,0.0)\",\"rgba(0,0,0,0.0)\",\"rgba(0,0,0,0.0)\",\"rgba(0,0,0,0.0)\",\"rgba(0,0,0,0.0)\",\"rgba(0,0,0,0.0)\",\"rgba(0,0,0,0.0)\",\"rgba(0,0,0,0.0)\"],\"label\":[\"\",\"\",\"\",\"\",\"\",\"\",\"\",\"\",\"\",\"\",\"\",\"\",\"\",\"\",\"\",\"\",\"\",\"\",\"\",\"\",\"\",\"\",\"\",\"\",\"\",\"\",\"\",\"\",\"\",\"\",\"\",\"\",\"\",\"\"],\"line\":{\"width\":0.0}},\"orientation\":\"h\",\"type\":\"sankey\"},{\"arrangement\":\"perpendicular\",\"domain\":{\"y\":[0.19802122011509335,0.20675912254836937]},\"link\":{\"arrowlen\":25,\"color\":[],\"label\":[],\"source\":[],\"target\":[],\"value\":[]},\"node\":{\"color\":[\"rgba(0,0,0,0.0)\",\"rgba(0,0,0,0.0)\",\"rgba(0,0,0,0.0)\",\"rgba(0,0,0,0.0)\",\"rgba(0,0,0,0.0)\",\"rgba(0,0,0,0.0)\",\"rgba(0,0,0,0.0)\",\"rgba(0,0,0,0.0)\",\"rgba(0,0,0,0.0)\",\"rgba(0,0,0,0.0)\",\"rgba(0,0,0,0.0)\",\"rgba(0,0,0,0.0)\",\"rgba(0,0,0,0.0)\",\"rgba(0,0,0,0.0)\",\"rgba(0,0,0,0.0)\",\"rgba(0,0,0,0.0)\",\"rgba(0,0,0,0.0)\",\"rgba(0,0,0,0.0)\",\"rgba(0,0,0,0.0)\",\"rgba(0,0,0,0.0)\",\"rgba(0,0,0,0.0)\",\"rgba(0,0,0,0.0)\",\"rgba(0,0,0,0.0)\",\"rgba(0,0,0,0.0)\",\"rgba(0,0,0,0.0)\",\"rgba(0,0,0,0.0)\",\"rgba(0,0,0,0.0)\",\"rgba(0,0,0,0.0)\",\"rgba(0,0,0,0.0)\",\"rgba(0,0,0,0.0)\",\"rgba(0,0,0,0.0)\",\"rgba(0,0,0,0.0)\",\"rgba(0,0,0,0.0)\",\"rgba(0,0,0,0.0)\"],\"label\":[\"\",\"\",\"\",\"\",\"\",\"\",\"\",\"\",\"\",\"\",\"\",\"\",\"\",\"\",\"\",\"\",\"\",\"\",\"\",\"\",\"\",\"\",\"\",\"\",\"\",\"\",\"\",\"\",\"\",\"\",\"\",\"\",\"\",\"\"],\"line\":{\"width\":0.0}},\"orientation\":\"h\",\"type\":\"sankey\"},{\"arrangement\":\"perpendicular\",\"domain\":{\"y\":[0.1805454152485413,0.18928331768181733]},\"link\":{\"arrowlen\":25,\"color\":[],\"label\":[],\"source\":[],\"target\":[],\"value\":[]},\"node\":{\"color\":[\"rgba(0,0,0,0.0)\",\"rgba(0,0,0,0.0)\",\"rgba(0,0,0,0.0)\",\"rgba(0,0,0,0.0)\",\"rgba(0,0,0,0.0)\",\"rgba(0,0,0,0.0)\",\"rgba(0,0,0,0.0)\",\"rgba(0,0,0,0.0)\",\"rgba(0,0,0,0.0)\",\"rgba(0,0,0,0.0)\",\"rgba(0,0,0,0.0)\",\"rgba(0,0,0,0.0)\",\"rgba(0,0,0,0.0)\",\"rgba(0,0,0,0.0)\",\"rgba(0,0,0,0.0)\",\"rgba(0,0,0,0.0)\",\"rgba(0,0,0,0.0)\",\"rgba(0,0,0,0.0)\",\"rgba(0,0,0,0.0)\",\"rgba(0,0,0,0.0)\",\"rgba(0,0,0,0.0)\",\"rgba(0,0,0,0.0)\",\"rgba(0,0,0,0.0)\",\"rgba(0,0,0,0.0)\",\"rgba(0,0,0,0.0)\",\"rgba(0,0,0,0.0)\",\"rgba(0,0,0,0.0)\",\"rgba(0,0,0,0.0)\",\"rgba(0,0,0,0.0)\",\"rgba(0,0,0,0.0)\",\"rgba(0,0,0,0.0)\",\"rgba(0,0,0,0.0)\",\"rgba(0,0,0,0.0)\",\"rgba(0,0,0,0.0)\"],\"label\":[\"\",\"\",\"\",\"\",\"\",\"\",\"\",\"\",\"\",\"\",\"\",\"\",\"\",\"\",\"\",\"\",\"\",\"\",\"\",\"\",\"\",\"\",\"\",\"\",\"\",\"\",\"\",\"\",\"\",\"\",\"\",\"\",\"\",\"\"],\"line\":{\"width\":0.0}},\"orientation\":\"h\",\"type\":\"sankey\"},{\"arrangement\":\"perpendicular\",\"domain\":{\"y\":[0.16306961038198928,0.1718075128152653]},\"link\":{\"arrowlen\":25,\"color\":[],\"label\":[],\"source\":[],\"target\":[],\"value\":[]},\"node\":{\"color\":[\"rgba(0,0,0,0.0)\",\"rgba(0,0,0,0.0)\",\"rgba(0,0,0,0.0)\",\"rgba(0,0,0,0.0)\",\"rgba(0,0,0,0.0)\",\"rgba(0,0,0,0.0)\",\"rgba(0,0,0,0.0)\",\"rgba(0,0,0,0.0)\",\"rgba(0,0,0,0.0)\",\"rgba(0,0,0,0.0)\",\"rgba(0,0,0,0.0)\",\"rgba(0,0,0,0.0)\",\"rgba(0,0,0,0.0)\",\"rgba(0,0,0,0.0)\",\"rgba(0,0,0,0.0)\",\"rgba(0,0,0,0.0)\",\"rgba(0,0,0,0.0)\",\"rgba(0,0,0,0.0)\",\"rgba(0,0,0,0.0)\",\"rgba(0,0,0,0.0)\",\"rgba(0,0,0,0.0)\",\"rgba(0,0,0,0.0)\",\"rgba(0,0,0,0.0)\",\"rgba(0,0,0,0.0)\",\"rgba(0,0,0,0.0)\",\"rgba(0,0,0,0.0)\",\"rgba(0,0,0,0.0)\",\"rgba(0,0,0,0.0)\",\"rgba(0,0,0,0.0)\",\"rgba(0,0,0,0.0)\",\"rgba(0,0,0,0.0)\",\"rgba(0,0,0,0.0)\",\"rgba(0,0,0,0.0)\",\"rgba(0,0,0,0.0)\"],\"label\":[\"\",\"\",\"\",\"\",\"\",\"\",\"\",\"\",\"\",\"\",\"\",\"\",\"\",\"\",\"\",\"\",\"\",\"\",\"\",\"\",\"\",\"\",\"\",\"\",\"\",\"\",\"\",\"\",\"\",\"\",\"\",\"\",\"\",\"\"],\"line\":{\"width\":0.0}},\"orientation\":\"h\",\"type\":\"sankey\"},{\"arrangement\":\"perpendicular\",\"domain\":{\"y\":[0.14559380551543724,0.15433170794871326]},\"link\":{\"arrowlen\":25,\"color\":[],\"label\":[],\"source\":[],\"target\":[],\"value\":[]},\"node\":{\"color\":[\"rgba(0,0,0,0.0)\",\"rgba(0,0,0,0.0)\",\"rgba(0,0,0,0.0)\",\"rgba(0,0,0,0.0)\",\"rgba(0,0,0,0.0)\",\"rgba(0,0,0,0.0)\",\"rgba(0,0,0,0.0)\",\"rgba(0,0,0,0.0)\",\"rgba(0,0,0,0.0)\",\"rgba(0,0,0,0.0)\",\"rgba(0,0,0,0.0)\",\"rgba(0,0,0,0.0)\",\"rgba(0,0,0,0.0)\",\"rgba(0,0,0,0.0)\",\"rgba(0,0,0,0.0)\",\"rgba(0,0,0,0.0)\",\"rgba(0,0,0,0.0)\",\"rgba(0,0,0,0.0)\",\"rgba(0,0,0,0.0)\",\"rgba(0,0,0,0.0)\",\"rgba(0,0,0,0.0)\",\"rgba(0,0,0,0.0)\",\"rgba(0,0,0,0.0)\",\"rgba(0,0,0,0.0)\",\"rgba(0,0,0,0.0)\",\"rgba(0,0,0,0.0)\",\"rgba(0,0,0,0.0)\",\"rgba(0,0,0,0.0)\",\"rgba(0,0,0,0.0)\",\"rgba(0,0,0,0.0)\",\"rgba(0,0,0,0.0)\",\"rgba(0,0,0,0.0)\",\"rgba(0,0,0,0.0)\",\"rgba(0,0,0,0.0)\"],\"label\":[\"\",\"\",\"\",\"\",\"\",\"\",\"\",\"\",\"\",\"\",\"\",\"\",\"\",\"\",\"\",\"\",\"\",\"\",\"\",\"\",\"\",\"\",\"\",\"\",\"\",\"\",\"\",\"\",\"\",\"\",\"\",\"\",\"\",\"\"],\"line\":{\"width\":0.0}},\"orientation\":\"h\",\"type\":\"sankey\"},{\"arrangement\":\"perpendicular\",\"domain\":{\"y\":[1e-06,0.13685590308216122]},\"link\":{\"arrowlen\":25,\"color\":[\"rgba(0,0,255,0.3)\",\"rgba(0,0,255,0.3)\",\"rgba(0,0,255,0.3)\"],\"label\":[\"A1.4-\\u003eA3.0.Q\\u003cbr\\u003eNone\\u003cbr\\u003e5.78\",\"A3.0-\\u003eResid End\\u003cbr\\u003eNone\\u003cbr\\u003e14.20\",\"A3.6-\\u003eResid End\\u003cbr\\u003eNone\\u003cbr\\u003e13.24\"],\"source\":[20,19,9],\"target\":[19,31,31],\"value\":[5.776816368103027,14.201309204101562,13.236793518066406]},\"node\":{\"color\":[\"rgba(0,0,0,0.0)\",\"rgba(0,0,0,0.0)\",\"rgba(0,0,0,0.0)\",\"rgba(0,0,0,0.0)\",\"rgba(0,0,0,0.0)\",\"rgba(0,0,0,0.0)\",\"rgba(0,0,0,0.0)\",\"rgba(0,0,0,0.0)\",\"rgba(0,0,0,0.0)\",\"rgb(77, 175, 74)\",\"rgba(0,0,0,0.0)\",\"rgba(0,0,0,0.0)\",\"rgba(0,0,0,0.0)\",\"rgba(0,0,0,0.0)\",\"rgba(0,0,0,0.0)\",\"rgba(0,0,0,0.0)\",\"rgba(0,0,0,0.0)\",\"rgba(0,0,0,0.0)\",\"rgba(0,0,0,0.0)\",\"rgb(255, 127, 0)\",\"rgb(55, 126, 184)\",\"rgba(0,0,0,0.0)\",\"rgba(0,0,0,0.0)\",\"rgba(0,0,0,0.0)\",\"rgba(0,0,0,0.0)\",\"rgba(0,0,0,0.0)\",\"rgba(0,0,0,0.0)\",\"rgba(0,0,0,0.0)\",\"rgba(0,0,0,0.0)\",\"rgba(0,0,0,0.0)\",\"rgba(0,0,0,0.0)\",\"rgb(77, 175, 74)\",\"rgba(0,0,0,0.0)\",\"rgba(0,0,0,0.0)\"],\"label\":[\"\",\"\",\"\",\"\",\"\",\"\",\"\",\"\",\"\",\"A3.6\",\"\",\"\",\"\",\"\",\"\",\"\",\"\",\"\",\"\",\"A3.0\",\"A1.4\",\"\",\"\",\"\",\"\",\"\",\"\",\"\",\"\",\"\",\"\",\"\",\"\",\"\"],\"line\":{\"width\":0.0}},\"orientation\":\"h\",\"type\":\"sankey\"}],                        {\"height\":7500,\"plot_bgcolor\":\"blue\",\"width\":600,\"template\":{\"data\":{\"histogram2dcontour\":[{\"type\":\"histogram2dcontour\",\"colorbar\":{\"outlinewidth\":0,\"ticks\":\"\"},\"colorscale\":[[0.0,\"#0d0887\"],[0.1111111111111111,\"#46039f\"],[0.2222222222222222,\"#7201a8\"],[0.3333333333333333,\"#9c179e\"],[0.4444444444444444,\"#bd3786\"],[0.5555555555555556,\"#d8576b\"],[0.6666666666666666,\"#ed7953\"],[0.7777777777777778,\"#fb9f3a\"],[0.8888888888888888,\"#fdca26\"],[1.0,\"#f0f921\"]]}],\"choropleth\":[{\"type\":\"choropleth\",\"colorbar\":{\"outlinewidth\":0,\"ticks\":\"\"}}],\"histogram2d\":[{\"type\":\"histogram2d\",\"colorbar\":{\"outlinewidth\":0,\"ticks\":\"\"},\"colorscale\":[[0.0,\"#0d0887\"],[0.1111111111111111,\"#46039f\"],[0.2222222222222222,\"#7201a8\"],[0.3333333333333333,\"#9c179e\"],[0.4444444444444444,\"#bd3786\"],[0.5555555555555556,\"#d8576b\"],[0.6666666666666666,\"#ed7953\"],[0.7777777777777778,\"#fb9f3a\"],[0.8888888888888888,\"#fdca26\"],[1.0,\"#f0f921\"]]}],\"heatmap\":[{\"type\":\"heatmap\",\"colorbar\":{\"outlinewidth\":0,\"ticks\":\"\"},\"colorscale\":[[0.0,\"#0d0887\"],[0.1111111111111111,\"#46039f\"],[0.2222222222222222,\"#7201a8\"],[0.3333333333333333,\"#9c179e\"],[0.4444444444444444,\"#bd3786\"],[0.5555555555555556,\"#d8576b\"],[0.6666666666666666,\"#ed7953\"],[0.7777777777777778,\"#fb9f3a\"],[0.8888888888888888,\"#fdca26\"],[1.0,\"#f0f921\"]]}],\"heatmapgl\":[{\"type\":\"heatmapgl\",\"colorbar\":{\"outlinewidth\":0,\"ticks\":\"\"},\"colorscale\":[[0.0,\"#0d0887\"],[0.1111111111111111,\"#46039f\"],[0.2222222222222222,\"#7201a8\"],[0.3333333333333333,\"#9c179e\"],[0.4444444444444444,\"#bd3786\"],[0.5555555555555556,\"#d8576b\"],[0.6666666666666666,\"#ed7953\"],[0.7777777777777778,\"#fb9f3a\"],[0.8888888888888888,\"#fdca26\"],[1.0,\"#f0f921\"]]}],\"contourcarpet\":[{\"type\":\"contourcarpet\",\"colorbar\":{\"outlinewidth\":0,\"ticks\":\"\"}}],\"contour\":[{\"type\":\"contour\",\"colorbar\":{\"outlinewidth\":0,\"ticks\":\"\"},\"colorscale\":[[0.0,\"#0d0887\"],[0.1111111111111111,\"#46039f\"],[0.2222222222222222,\"#7201a8\"],[0.3333333333333333,\"#9c179e\"],[0.4444444444444444,\"#bd3786\"],[0.5555555555555556,\"#d8576b\"],[0.6666666666666666,\"#ed7953\"],[0.7777777777777778,\"#fb9f3a\"],[0.8888888888888888,\"#fdca26\"],[1.0,\"#f0f921\"]]}],\"surface\":[{\"type\":\"surface\",\"colorbar\":{\"outlinewidth\":0,\"ticks\":\"\"},\"colorscale\":[[0.0,\"#0d0887\"],[0.1111111111111111,\"#46039f\"],[0.2222222222222222,\"#7201a8\"],[0.3333333333333333,\"#9c179e\"],[0.4444444444444444,\"#bd3786\"],[0.5555555555555556,\"#d8576b\"],[0.6666666666666666,\"#ed7953\"],[0.7777777777777778,\"#fb9f3a\"],[0.8888888888888888,\"#fdca26\"],[1.0,\"#f0f921\"]]}],\"mesh3d\":[{\"type\":\"mesh3d\",\"colorbar\":{\"outlinewidth\":0,\"ticks\":\"\"}}],\"scatter\":[{\"fillpattern\":{\"fillmode\":\"overlay\",\"size\":10,\"solidity\":0.2},\"type\":\"scatter\"}],\"parcoords\":[{\"type\":\"parcoords\",\"line\":{\"colorbar\":{\"outlinewidth\":0,\"ticks\":\"\"}}}],\"scatterpolargl\":[{\"type\":\"scatterpolargl\",\"marker\":{\"colorbar\":{\"outlinewidth\":0,\"ticks\":\"\"}}}],\"bar\":[{\"error_x\":{\"color\":\"#2a3f5f\"},\"error_y\":{\"color\":\"#2a3f5f\"},\"marker\":{\"line\":{\"color\":\"#E5ECF6\",\"width\":0.5},\"pattern\":{\"fillmode\":\"overlay\",\"size\":10,\"solidity\":0.2}},\"type\":\"bar\"}],\"scattergeo\":[{\"type\":\"scattergeo\",\"marker\":{\"colorbar\":{\"outlinewidth\":0,\"ticks\":\"\"}}}],\"scatterpolar\":[{\"type\":\"scatterpolar\",\"marker\":{\"colorbar\":{\"outlinewidth\":0,\"ticks\":\"\"}}}],\"histogram\":[{\"marker\":{\"pattern\":{\"fillmode\":\"overlay\",\"size\":10,\"solidity\":0.2}},\"type\":\"histogram\"}],\"scattergl\":[{\"type\":\"scattergl\",\"marker\":{\"colorbar\":{\"outlinewidth\":0,\"ticks\":\"\"}}}],\"scatter3d\":[{\"type\":\"scatter3d\",\"line\":{\"colorbar\":{\"outlinewidth\":0,\"ticks\":\"\"}},\"marker\":{\"colorbar\":{\"outlinewidth\":0,\"ticks\":\"\"}}}],\"scattermapbox\":[{\"type\":\"scattermapbox\",\"marker\":{\"colorbar\":{\"outlinewidth\":0,\"ticks\":\"\"}}}],\"scatterternary\":[{\"type\":\"scatterternary\",\"marker\":{\"colorbar\":{\"outlinewidth\":0,\"ticks\":\"\"}}}],\"scattercarpet\":[{\"type\":\"scattercarpet\",\"marker\":{\"colorbar\":{\"outlinewidth\":0,\"ticks\":\"\"}}}],\"carpet\":[{\"aaxis\":{\"endlinecolor\":\"#2a3f5f\",\"gridcolor\":\"white\",\"linecolor\":\"white\",\"minorgridcolor\":\"white\",\"startlinecolor\":\"#2a3f5f\"},\"baxis\":{\"endlinecolor\":\"#2a3f5f\",\"gridcolor\":\"white\",\"linecolor\":\"white\",\"minorgridcolor\":\"white\",\"startlinecolor\":\"#2a3f5f\"},\"type\":\"carpet\"}],\"table\":[{\"cells\":{\"fill\":{\"color\":\"#EBF0F8\"},\"line\":{\"color\":\"white\"}},\"header\":{\"fill\":{\"color\":\"#C8D4E3\"},\"line\":{\"color\":\"white\"}},\"type\":\"table\"}],\"barpolar\":[{\"marker\":{\"line\":{\"color\":\"#E5ECF6\",\"width\":0.5},\"pattern\":{\"fillmode\":\"overlay\",\"size\":10,\"solidity\":0.2}},\"type\":\"barpolar\"}],\"pie\":[{\"automargin\":true,\"type\":\"pie\"}]},\"layout\":{\"autotypenumbers\":\"strict\",\"colorway\":[\"rgb(55, 126, 184)\",\"rgb(255, 127, 0)\",\"rgb(77, 175, 74)\",\"rgb(247, 129, 191)\",\"rgb(228, 26, 28)\",\"rgb(152, 78, 163)\",\"rgb(166, 86, 40)\",\"rgb(153, 153, 153)\",\"rgb(222, 222, 0)\"],\"font\":{\"color\":\"#2a3f5f\",\"size\":19},\"hovermode\":\"closest\",\"hoverlabel\":{\"align\":\"left\"},\"paper_bgcolor\":\"white\",\"plot_bgcolor\":\"#E5ECF6\",\"polar\":{\"bgcolor\":\"#E5ECF6\",\"angularaxis\":{\"gridcolor\":\"white\",\"linecolor\":\"white\",\"ticks\":\"\"},\"radialaxis\":{\"gridcolor\":\"white\",\"linecolor\":\"white\",\"ticks\":\"\"}},\"ternary\":{\"bgcolor\":\"#E5ECF6\",\"aaxis\":{\"gridcolor\":\"white\",\"linecolor\":\"white\",\"ticks\":\"\"},\"baxis\":{\"gridcolor\":\"white\",\"linecolor\":\"white\",\"ticks\":\"\"},\"caxis\":{\"gridcolor\":\"white\",\"linecolor\":\"white\",\"ticks\":\"\"}},\"coloraxis\":{\"colorbar\":{\"outlinewidth\":0,\"ticks\":\"\"}},\"colorscale\":{\"sequential\":[[0.0,\"#0d0887\"],[0.1111111111111111,\"#46039f\"],[0.2222222222222222,\"#7201a8\"],[0.3333333333333333,\"#9c179e\"],[0.4444444444444444,\"#bd3786\"],[0.5555555555555556,\"#d8576b\"],[0.6666666666666666,\"#ed7953\"],[0.7777777777777778,\"#fb9f3a\"],[0.8888888888888888,\"#fdca26\"],[1.0,\"#f0f921\"]],\"sequentialminus\":[[0.0,\"#0d0887\"],[0.1111111111111111,\"#46039f\"],[0.2222222222222222,\"#7201a8\"],[0.3333333333333333,\"#9c179e\"],[0.4444444444444444,\"#bd3786\"],[0.5555555555555556,\"#d8576b\"],[0.6666666666666666,\"#ed7953\"],[0.7777777777777778,\"#fb9f3a\"],[0.8888888888888888,\"#fdca26\"],[1.0,\"#f0f921\"]],\"diverging\":[[0,\"#8e0152\"],[0.1,\"#c51b7d\"],[0.2,\"#de77ae\"],[0.3,\"#f1b6da\"],[0.4,\"#fde0ef\"],[0.5,\"#f7f7f7\"],[0.6,\"#e6f5d0\"],[0.7,\"#b8e186\"],[0.8,\"#7fbc41\"],[0.9,\"#4d9221\"],[1,\"#276419\"]]},\"xaxis\":{\"gridcolor\":\"white\",\"linecolor\":\"white\",\"ticks\":\"\",\"title\":{\"standoff\":15},\"zerolinecolor\":\"white\",\"automargin\":true,\"zerolinewidth\":2},\"yaxis\":{\"gridcolor\":\"white\",\"linecolor\":\"white\",\"ticks\":\"\",\"title\":{\"standoff\":15},\"zerolinecolor\":\"white\",\"automargin\":true,\"zerolinewidth\":2},\"scene\":{\"xaxis\":{\"backgroundcolor\":\"#E5ECF6\",\"gridcolor\":\"white\",\"linecolor\":\"white\",\"showbackground\":true,\"ticks\":\"\",\"zerolinecolor\":\"white\",\"gridwidth\":2},\"yaxis\":{\"backgroundcolor\":\"#E5ECF6\",\"gridcolor\":\"white\",\"linecolor\":\"white\",\"showbackground\":true,\"ticks\":\"\",\"zerolinecolor\":\"white\",\"gridwidth\":2},\"zaxis\":{\"backgroundcolor\":\"#E5ECF6\",\"gridcolor\":\"white\",\"linecolor\":\"white\",\"showbackground\":true,\"ticks\":\"\",\"zerolinecolor\":\"white\",\"gridwidth\":2}},\"shapedefaults\":{\"line\":{\"color\":\"#2a3f5f\"}},\"annotationdefaults\":{\"arrowcolor\":\"#2a3f5f\",\"arrowhead\":0,\"arrowwidth\":1},\"geo\":{\"bgcolor\":\"white\",\"landcolor\":\"#E5ECF6\",\"subunitcolor\":\"white\",\"showland\":true,\"showlakes\":true,\"lakecolor\":\"white\"},\"title\":{\"x\":0.05},\"mapbox\":{\"style\":\"light\"}}},\"annotations\":[{\"showarrow\":false,\"text\":\"\\u003cb\\u003eA_def\\u003c\\u002fb\\u003e\",\"x\":-0.17,\"xref\":\"paper\",\"y\":0.9907217958820413,\"yref\":\"paper\"},{\"showarrow\":false,\"text\":\"\\u003cb\\u003e,_A\\u003c\\u002fb\\u003e\",\"x\":-0.17,\"xref\":\"paper\",\"y\":0.9683377381141688,\"yref\":\"paper\"},{\"showarrow\":false,\"text\":\"\\u003cb\\u003eB_def\\u003c\\u002fb\\u003e\",\"x\":-0.17,\"xref\":\"paper\",\"y\":0.9344750749797983,\"yref\":\"paper\"},{\"showarrow\":false,\"text\":\"\\u003cb\\u003e,_B\\u003c\\u002fb\\u003e\",\"x\":-0.17,\"xref\":\"paper\",\"y\":0.9006124118454277,\"yref\":\"paper\"},{\"showarrow\":false,\"text\":\"\\u003cb\\u003eC_def\\u003c\\u002fb\\u003e\",\"x\":-0.17,\"xref\":\"paper\",\"y\":0.7262593402541004,\"yref\":\"paper\"},{\"showarrow\":false,\"text\":\"\\u003cb\\u003e,_C\\u003c\\u002fb\\u003e\",\"x\":-0.17,\"xref\":\"paper\",\"y\":0.5519062686627729,\"yref\":\"paper\"},{\"showarrow\":false,\"text\":\"\\u003cb\\u003e number\\u003c\\u002fb\\u003e\",\"x\":-0.17,\"xref\":\"paper\",\"y\":0.5344304637962208,\"yref\":\"paper\"},{\"showarrow\":false,\"text\":\"\\u003cb\\u003e):\\u003c\\u002fb\\u003e\",\"x\":-0.17,\"xref\":\"paper\",\"y\":0.5169546589296687,\"yref\":\"paper\"},{\"showarrow\":false,\"text\":\"\\u003cb\\u003e\\n   \\u003c\\u002fb\\u003e\",\"x\":-0.17,\"xref\":\"paper\",\"y\":0.49947885406311654,\"yref\":\"paper\"},{\"showarrow\":false,\"text\":\"\\u003cb\\u003e \\\"\\\"\\\"\\u003c\\u002fb\\u003e\",\"x\":-0.17,\"xref\":\"paper\",\"y\":0.48200304919656445,\"yref\":\"paper\"},{\"showarrow\":false,\"text\":\"\\u003cb\\u003eunit\\u003c\\u002fb\\u003e\",\"x\":-0.17,\"xref\":\"paper\",\"y\":0.46452724433001236,\"yref\":\"paper\"},{\"showarrow\":false,\"text\":\"\\u003cb\\u003e bone\\u003c\\u002fb\\u003e\",\"x\":-0.17,\"xref\":\"paper\",\"y\":0.44705143946346015,\"yref\":\"paper\"},{\"showarrow\":false,\"text\":\"\\u003cb\\u003e paper\\u003c\\u002fb\\u003e\",\"x\":-0.17,\"xref\":\"paper\",\"y\":0.42957563459690806,\"yref\":\"paper\"},{\"showarrow\":false,\"text\":\"\\u003cb\\u003e\\n\\n   \\u003c\\u002fb\\u003e\",\"x\":-0.17,\"xref\":\"paper\",\"y\":0.41209982973035597,\"yref\":\"paper\"},{\"showarrow\":false,\"text\":\"\\u003cb\\u003e :\\u003c\\u002fb\\u003e\",\"x\":-0.17,\"xref\":\"paper\",\"y\":0.3946240248638039,\"yref\":\"paper\"},{\"showarrow\":false,\"text\":\"\\u003cb\\u003eparam_1\\u003c\\u002fb\\u003e\",\"x\":-0.17,\"xref\":\"paper\",\"y\":0.37714821999725173,\"yref\":\"paper\"},{\"showarrow\":false,\"text\":\"\\u003cb\\u003eA_doc\\u003c\\u002fb\\u003e\",\"x\":-0.17,\"xref\":\"paper\",\"y\":0.3596724151306997,\"yref\":\"paper\"},{\"showarrow\":false,\"text\":\"\\u003cb\\u003e:\\u003c\\u002fb\\u003e\",\"x\":-0.17,\"xref\":\"paper\",\"y\":0.34219661026414766,\"yref\":\"paper\"},{\"showarrow\":false,\"text\":\"\\u003cb\\u003e selection\\u003c\\u002fb\\u003e\",\"x\":-0.17,\"xref\":\"paper\",\"y\":0.3247208053975956,\"yref\":\"paper\"},{\"showarrow\":false,\"text\":\"\\u003cb\\u003e sky\\u003c\\u002fb\\u003e\",\"x\":-0.17,\"xref\":\"paper\",\"y\":0.3072450005310436,\"yref\":\"paper\"},{\"showarrow\":false,\"text\":\"\\u003cb\\u003e\\n   \\u003c\\u002fb\\u003e\",\"x\":-0.17,\"xref\":\"paper\",\"y\":0.28976919566449155,\"yref\":\"paper\"},{\"showarrow\":false,\"text\":\"\\u003cb\\u003e :\\u003c\\u002fb\\u003e\",\"x\":-0.17,\"xref\":\"paper\",\"y\":0.2722933907979395,\"yref\":\"paper\"},{\"showarrow\":false,\"text\":\"\\u003cb\\u003eparam_2\\u003c\\u002fb\\u003e\",\"x\":-0.17,\"xref\":\"paper\",\"y\":0.2548175859313875,\"yref\":\"paper\"},{\"showarrow\":false,\"text\":\"\\u003cb\\u003eB_doc\\u003c\\u002fb\\u003e\",\"x\":-0.17,\"xref\":\"paper\",\"y\":0.23734178106483544,\"yref\":\"paper\"},{\"showarrow\":false,\"text\":\"\\u003cb\\u003e:\\u003c\\u002fb\\u003e\",\"x\":-0.17,\"xref\":\"paper\",\"y\":0.2198659761982834,\"yref\":\"paper\"},{\"showarrow\":false,\"text\":\"\\u003cb\\u003e host\\u003c\\u002fb\\u003e\",\"x\":-0.17,\"xref\":\"paper\",\"y\":0.20239017133173137,\"yref\":\"paper\"},{\"showarrow\":false,\"text\":\"\\u003cb\\u003e action\\u003c\\u002fb\\u003e\",\"x\":-0.17,\"xref\":\"paper\",\"y\":0.18491436646517934,\"yref\":\"paper\"},{\"showarrow\":false,\"text\":\"\\u003cb\\u003e\\n   \\u003c\\u002fb\\u003e\",\"x\":-0.17,\"xref\":\"paper\",\"y\":0.1674385615986273,\"yref\":\"paper\"},{\"showarrow\":false,\"text\":\"\\u003cb\\u003e :\\u003c\\u002fb\\u003e\",\"x\":-0.17,\"xref\":\"paper\",\"y\":0.14996275673207526,\"yref\":\"paper\"},{\"showarrow\":false,\"text\":\"\\u003cb\\u003eparam_3\\u003c\\u002fb\\u003e\",\"x\":-0.17,\"xref\":\"paper\",\"y\":0.06842845154108061,\"yref\":\"paper\"}]},                        {\"responsive\": true}                    ).then(function(){\n",
       "                            \n",
       "var gd = document.getElementById('92a940bc-e74e-488f-9b91-dbae072a84c7');\n",
       "var x = new MutationObserver(function (mutations, observer) {{\n",
       "        var display = window.getComputedStyle(gd).display;\n",
       "        if (!display || display === 'none') {{\n",
       "            console.log([gd, 'removed!']);\n",
       "            Plotly.purge(gd);\n",
       "            observer.disconnect();\n",
       "        }}\n",
       "}});\n",
       "\n",
       "// Listen for the removal of the full notebook cells\n",
       "var notebookContainer = gd.closest('#notebook-container');\n",
       "if (notebookContainer) {{\n",
       "    x.observe(notebookContainer, {childList: true});\n",
       "}}\n",
       "\n",
       "// Listen for the clearing of the current output cell\n",
       "var outputEl = gd.closest('.output');\n",
       "if (outputEl) {{\n",
       "    x.observe(outputEl, {childList: true});\n",
       "}}\n",
       "\n",
       "                        })                };                });            </script>        </div>"
      ]
     },
     "metadata": {},
     "output_type": "display_data"
    }
   ],
   "source": [
    "fig = draw_seq_graph(\n",
    "    model=task.model,\n",
    "    prune_scores=circuit_prune_scores,\n",
    "    score_threshold=threshold,\n",
    "    show_all_seq_pos=True,\n",
    "    orientation=\"h\",\n",
    "    use_abs=conf.use_abs,\n",
    "    display_ipython=is_notebook(),\n",
    "    seq_labels=task.test_loader.seq_labels,\n",
    ")\n",
    "fig.write_image(repo_path_to_abs_path(exp_dir / \"valid_edge_graph.png\"))"
   ]
  },
  {
   "cell_type": "code",
   "execution_count": 19,
   "metadata": {},
   "outputs": [
    {
     "data": {
      "image/png": "[encoded data removed]",
      "text/plain": [
       "<Figure size 1200x600 with 1 Axes>"
      ]
     },
     "metadata": {},
     "output_type": "display_data"
    }
   ],
   "source": [
    "fig, ax = plot_num_ablated_C_gt_M(equiv_results, epsilon=conf.epsilon, min_equiv=min_equiv, side=conf.side)\n",
    "fig.savefig(repo_path_to_abs_path(exp_dir / \"num_ablated_C_gt_M.png\"))"
   ]
  },
  {
   "cell_type": "code",
   "execution_count": 20,
   "metadata": {},
   "outputs": [
    {
     "data": {
      "image/png": "[encoded data removed]",
      "text/plain": [
       "<Figure size 1200x600 with 1 Axes>"
      ]
     },
     "metadata": {},
     "output_type": "display_data"
    }
   ],
   "source": [
    "fig, ax = plot_circuit_and_model_scores(equiv_results, min_equiv)\n",
    "fig.savefig(repo_path_to_abs_path(exp_dir / \"circuit_model_scores.png\"))"
   ]
  },
  {
   "cell_type": "code",
   "execution_count": 26,
   "metadata": {},
   "outputs": [
    {
     "data": {
      "image/png": "[encoded data removed]",
      "text/plain": [
       "<Figure size 640x480 with 1 Axes>"
      ]
     },
     "metadata": {},
     "output_type": "display_data"
    }
   ],
   "source": [
    "# plot attribution scores \n",
    "import numpy as np\n",
    "edge_scores = np.flip(desc_prune_scores(prune_scores, use_abs=conf.use_abs).detach().cpu().numpy())\n",
    "if not conf.use_abs:\n",
    "    edge_scores = edge_scores[edge_scores > 0]\n",
    "kneedle_poly, kneedle_1d = compute_knees(edge_scores)\n",
    "fig, ax = plot_edge_scores_and_knees(edge_scores, kneedle_poly, kneedle_1d, min_equiv)\n",
    "fig.savefig(repo_path_to_abs_path(exp_dir / \"edge_scores_knees.png\"))"
   ]
  },
  {
   "cell_type": "code",
   "execution_count": 28,
   "metadata": {},
   "outputs": [
    {
     "data": {
      "image/png": "[encoded data removed]",
      "text/plain": [
       "<Figure size 640x480 with 1 Axes>"
      ]
     },
     "execution_count": 28,
     "metadata": {},
     "output_type": "execute_result"
    }
   ],
   "source": [
    "# zoom in to attribution scores\n",
    "ax.set_xlim(len(edge_scores) - kneedle_poly.knee + 1,)\n",
    "ax.set_yscale('linear')\n",
    "ax.set_title(\"Edge Scores and Knees (Linear Scale)\")\n",
    "fig.savefig(repo_path_to_abs_path(exp_dir / \"edge_scores_knees_linear.png\"))\n",
    "fig"
   ]
  },
  {
   "cell_type": "markdown",
   "metadata": {},
   "source": [
    "# Minimality Test"
   ]
  },
  {
   "cell_type": "code",
   "execution_count": 137,
   "metadata": {},
   "outputs": [
    {
     "data": {
      "application/vnd.jupyter.widget-view+json": {
       "model_id": "d5ba044df1594a19b2df9bd8143fe679",
       "version_major": 2,
       "version_minor": 0
      },
      "text/plain": [
       "VBox(children=(          | 0/2679 [00:00<?, ?it/s],))"
      ]
     },
     "metadata": {},
     "output_type": "display_data"
    },
    {
     "data": {
      "application/vnd.jupyter.widget-view+json": {
       "model_id": "f4ecd15e4f6e42cf8454118f34d46972",
       "version_major": 2,
       "version_minor": 0
      },
      "text/plain": [
       "VBox(children=(          | 0/2679 [00:00<?, ?it/s],))"
      ]
     },
     "metadata": {},
     "output_type": "display_data"
    }
   ],
   "source": [
    "# build full grap to sample paths\n",
    "node_graph = NodeGraph(task.model.edges, token=task.token_circuit, attn_only=task.model.cfg.attn_only)\n",
    "node_graph.build_graph()"
   ]
  },
  {
   "cell_type": "code",
   "execution_count": 138,
   "metadata": {},
   "outputs": [
    {
     "data": {
      "application/vnd.jupyter.widget-view+json": {
       "model_id": "595703d52fba43f5b8d7d918d47da1c3",
       "version_major": 2,
       "version_minor": 0
      },
      "text/plain": [
       "VBox(children=(          | 0/256 [00:00<?, ?it/s],))"
      ]
     },
     "metadata": {},
     "output_type": "display_data"
    },
    {
     "data": {
      "application/vnd.jupyter.widget-view+json": {
       "model_id": "69d2959120794da6bafed7568d975349",
       "version_major": 2,
       "version_minor": 0
      },
      "text/plain": [
       "VBox(children=(          | 0/256 [00:00<?, ?it/s],))"
      ]
     },
     "metadata": {},
     "output_type": "display_data"
    },
    {
     "data": {
      "text/plain": [
       "(np.float64(3.21875), np.float64(4.93359375))"
      ]
     },
     "execution_count": 138,
     "metadata": {},
     "output_type": "execute_result"
    }
   ],
   "source": [
    "# sample paths to be used for testing\n",
    "n_paths = 256 \n",
    "filtered_paths_walk = sample_paths(node_graph, n_paths, SampleType.WALK, edges_under_test)\n",
    "mean_walk = np.mean([len(path) for path in filtered_paths_walk])\n",
    "filtered_paths_uniform = sample_paths(node_graph, n_paths, SampleType.UNIFORM, edges_under_test)\n",
    "mean_uniform = np.mean([len(path) for path in filtered_paths_uniform])\n",
    "mean_walk, mean_uniform"
   ]
  },
  {
   "cell_type": "code",
   "execution_count": 139,
   "metadata": {},
   "outputs": [
    {
     "data": {
      "application/vnd.jupyter.widget-view+json": {
       "model_id": "36028555345b4259baa8bc7fc70631ee",
       "version_major": 2,
       "version_minor": 0
      },
      "text/plain": [
       "VBox(children=(          | 0/2 [00:00<?, ?it/s],))"
      ]
     },
     "metadata": {},
     "output_type": "display_data"
    },
    {
     "data": {
      "application/vnd.jupyter.widget-view+json": {
       "model_id": "c1d447aa69d444fd91fc8d0f5cb82053",
       "version_major": 2,
       "version_minor": 0
      },
      "text/plain": [
       "VBox(children=(          | 0/2 [00:00<?, ?it/s],))"
      ]
     },
     "metadata": {},
     "output_type": "display_data"
    },
    {
     "data": {
      "application/vnd.jupyter.widget-view+json": {
       "model_id": "37c9efd1cc724b65a7934a141f36361f",
       "version_major": 2,
       "version_minor": 0
      },
      "text/plain": [
       "VBox(children=(          | 0/2 [00:00<?, ?it/s],))"
      ]
     },
     "metadata": {},
     "output_type": "display_data"
    },
    {
     "data": {
      "application/vnd.jupyter.widget-view+json": {
       "model_id": "b141259b8f9f441584edad2efa005846",
       "version_major": 2,
       "version_minor": 0
      },
      "text/plain": [
       "VBox(children=(          | 0/15 [00:00<?, ?it/s],))"
      ]
     },
     "metadata": {},
     "output_type": "display_data"
    },
    {
     "name": "stdout",
     "output_type": "stream",
     "text": [
      "Saving json to /nas/ucb/oliveradk/elk-experiments/output/hypo_test_results/Docstring_Token_Circuit_TOKENWISE_MEAN_CORRUPT_LOGPROB_AVG_VAL_10/False_0.05_0.0_0.9/min_test_results.json\n",
      "Saving json to /nas/ucb/oliveradk/elk-experiments/output/hypo_test_results/Docstring_Token_Circuit_TOKENWISE_MEAN_CORRUPT_LOGPROB_AVG_VAL_10/False_0.05_0.0_0.9/min_test_sampled_results.json\n"
     ]
    }
   ],
   "source": [
    "# run minimality test\n",
    "min_test_results, min_test_sampled_results = minimality_test(\n",
    "    model=task.model, \n",
    "    dataloader=task.test_loader,\n",
    "    prune_scores=circuit_prune_scores,\n",
    "    edges=edges_under_test, \n",
    "    edge_count=len(edges_under_test),\n",
    "    ablation_type=conf.ablation_type,\n",
    "    grad_function=conf.grad_func,\n",
    "    answer_function=conf.answer_func,\n",
    "    filtered_paths=filtered_paths_walk,\n",
    "    use_abs=conf.use_abs,\n",
    "    tokens=task.token_circuit,\n",
    "    alpha=conf.alpha, \n",
    "    q_star=conf.q_star, \n",
    "    max_edges_in_order=conf.max_edges_to_test_in_order,\n",
    "    max_edges_to_sample=conf.max_edges_to_sample,\n",
    ")\n",
    "save_json({e.name: result_to_json(r) for e, r in min_test_results.items()}, exp_dir, \"min_test_results\")\n",
    "save_json({e.name: result_to_json(r) for e, r in min_test_sampled_results.items()}, exp_dir, \"min_test_sampled_results\")"
   ]
  },
  {
   "cell_type": "code",
   "execution_count": 141,
   "metadata": {},
   "outputs": [
    {
     "data": {
      "application/vnd.jupyter.widget-view+json": {
       "model_id": "947bcc5c55e348daab14a12e7b30274c",
       "version_major": 2,
       "version_minor": 0
      },
      "text/plain": [
       "VBox(children=(          | 0/256 [00:00<?, ?it/s],))"
      ]
     },
     "metadata": {},
     "output_type": "display_data"
    },
    {
     "data": {
      "application/vnd.jupyter.widget-view+json": {
       "model_id": "c16277a1973f475fb0fbf8978a69bfc6",
       "version_major": 2,
       "version_minor": 0
      },
      "text/plain": [
       "VBox(children=(          | 0/2 [00:00<?, ?it/s],))"
      ]
     },
     "metadata": {},
     "output_type": "display_data"
    },
    {
     "data": {
      "application/vnd.jupyter.widget-view+json": {
       "model_id": "cdce9ad5fe114992b61cc17d39726e1a",
       "version_major": 2,
       "version_minor": 0
      },
      "text/plain": [
       "VBox(children=(          | 0/2 [00:00<?, ?it/s],))"
      ]
     },
     "metadata": {},
     "output_type": "display_data"
    },
    {
     "data": {
      "application/vnd.jupyter.widget-view+json": {
       "model_id": "8ea78366a7b74db4ad4bb90695b5c5dc",
       "version_major": 2,
       "version_minor": 0
      },
      "text/plain": [
       "VBox(children=(          | 0/2 [00:00<?, ?it/s],))"
      ]
     },
     "metadata": {},
     "output_type": "display_data"
    },
    {
     "data": {
      "application/vnd.jupyter.widget-view+json": {
       "model_id": "961ed445bcb1483191597fccfec72c6d",
       "version_major": 2,
       "version_minor": 0
      },
      "text/plain": [
       "VBox(children=(          | 0/7565 [00:00<?, ?it/s],))"
      ]
     },
     "metadata": {},
     "output_type": "display_data"
    },
    {
     "data": {
      "application/vnd.jupyter.widget-view+json": {
       "model_id": "f03d0d6fc58a489d85679308c1e456dc",
       "version_major": 2,
       "version_minor": 0
      },
      "text/plain": [
       "VBox(children=(          | 0/10 [00:00<?, ?it/s],))"
      ]
     },
     "metadata": {},
     "output_type": "display_data"
    },
    {
     "name": "stdout",
     "output_type": "stream",
     "text": [
      "Saving json to /nas/ucb/oliveradk/elk-experiments/output/hypo_test_results/Docstring_Token_Circuit_TOKENWISE_MEAN_CORRUPT_LOGPROB_AVG_VAL_10/min_test_true_edge_results.json\n",
      "Saving json to /nas/ucb/oliveradk/elk-experiments/output/hypo_test_results/Docstring_Token_Circuit_TOKENWISE_MEAN_CORRUPT_LOGPROB_AVG_VAL_10/min_test_true_edge_sampled_results.json\n"
     ]
    }
   ],
   "source": [
    "# minimality test on true edges\n",
    "min_postfix = f\"{conf.q_star}_{conf.alpha}\"\n",
    "min_postfix_full = f\"{conf.max_edges_to_test_in_order}_{min_postfix}\"\n",
    "# check if already tested \n",
    "true_edges_tested = (score_dir / f\"min_test_true_edge_results_{min_postfix_full}.json\").exists() and not is_notebook()\n",
    "\n",
    "if not true_edges_tested:\n",
    "    true_edge_prune_scores = task.model.circuit_prune_scores(task.true_edges)\n",
    "    filtered_paths_true_edge = sample_paths(node_graph, n_paths, SampleType.WALK, task.true_edges)\n",
    "    min_test_true_edge_results, min_test_true_edge_sampled_results = minimality_test(\n",
    "        model=task.model, \n",
    "        dataloader=task.test_loader,\n",
    "        prune_scores=true_edge_prune_scores,\n",
    "        edges=list(task.true_edges), \n",
    "        edge_count=task.true_edge_count,\n",
    "        ablation_type=conf.ablation_type,\n",
    "        grad_function=conf.grad_func,\n",
    "        answer_function=conf.answer_func,\n",
    "        filtered_paths=filtered_paths_true_edge,\n",
    "        use_abs=conf.use_abs,\n",
    "        tokens=task.token_circuit,\n",
    "        alpha=conf.alpha, \n",
    "        q_star=conf.q_star,\n",
    "        stop_if_failed=False, \n",
    "        max_edges_in_order=conf.max_edges_to_test_in_order,\n",
    "        max_edges_to_sample=conf.max_edges_to_sample,\n",
    "    )\n",
    "    save_json({e.name: result_to_json(r) for e, r in min_test_true_edge_results.items()}, score_dir, f\"min_test_true_edge_results_{min_postfix_full}\")\n",
    "    save_json({e.name: result_to_json(r) for e, r in min_test_true_edge_sampled_results.items()}, score_dir, f\"min_test_true_edge_sampled_results_{conf.max_edges_to_sample}_{min_postfix}\")"
   ]
  },
  {
   "cell_type": "code",
   "execution_count": 142,
   "metadata": {},
   "outputs": [
    {
     "data": {
      "image/png": "[encoded data removed]",
      "text/plain": [
       "<Figure size 1200x200 with 1 Axes>"
      ]
     },
     "metadata": {},
     "output_type": "display_data"
    }
   ],
   "source": [
    "# plot p values``\n",
    "fig, ax = plot_p_values(min_test_results, edges_under_test_scores, alpha=conf.alpha / len(edges_under_test))\n",
    "fig.savefig(repo_path_to_abs_path(exp_dir / \"min_test_p_values.png\"))\n"
   ]
  },
  {
   "cell_type": "code",
   "execution_count": 143,
   "metadata": {},
   "outputs": [
    {
     "data": {
      "image/png": "[encoded data removed]",
      "text/plain": [
       "<Figure size 1200x200 with 1 Axes>"
      ]
     },
     "metadata": {},
     "output_type": "display_data"
    }
   ],
   "source": [
    "if not true_edges_tested:\n",
    "    true_edge_scores = {edge: torch.tensor(1.0) for edge in task.true_edges} # don't actually know\n",
    "    fig, ax = plot_p_values(min_test_true_edge_results, true_edge_scores, alpha=conf.alpha / task.true_edge_count)\n",
    "    fig.savefig(repo_path_to_abs_path(score_dir / f\"min_test_true_edge_p_values_{min_postfix_full}.png\"))"
   ]
  },
  {
   "cell_type": "code",
   "execution_count": 144,
   "metadata": {},
   "outputs": [
    {
     "data": {
      "image/png": "[encoded data removed]",
      "text/plain": [
       "<Figure size 1200x200 with 1 Axes>"
      ]
     },
     "metadata": {},
     "output_type": "display_data"
    }
   ],
   "source": [
    "# plot frac of n \n",
    "batch_size = task.batch_size[1] if isinstance(task.batch_size, tuple) else task.batch_size\n",
    "batch_count = task.batch_count[1] if isinstance(task.batch_count, tuple) else task.batch_count\n",
    "fig, ax = plot_edge_k(min_test_results, edges_under_test_scores, batch_size * batch_count, q_star=conf.q_star)\n",
    "fig.savefig(repo_path_to_abs_path(exp_dir / \"min_test_edge_k.png\"))"
   ]
  },
  {
   "cell_type": "code",
   "execution_count": 145,
   "metadata": {},
   "outputs": [
    {
     "data": {
      "image/png": "[encoded data removed]",
      "text/plain": [
       "<Figure size 1200x200 with 1 Axes>"
      ]
     },
     "metadata": {},
     "output_type": "display_data"
    }
   ],
   "source": [
    "if not true_edges_tested:\n",
    "    batch_size = task.batch_size[1] if isinstance(task.batch_size, tuple) else task.batch_size\n",
    "    batch_count = task.batch_count[1] if isinstance(task.batch_count, tuple) else task.batch_count\n",
    "    fig, ax = plot_edge_k(min_test_true_edge_results, true_edge_scores, batch_size * batch_count, q_star=conf.q_star)\n",
    "    fig.savefig(repo_path_to_abs_path(score_dir / f\"min_test_true_edge_k_{min_postfix_full}.png\"))"
   ]
  },
  {
   "cell_type": "code",
   "execution_count": 146,
   "metadata": {},
   "outputs": [
    {
     "data": {
      "image/png": "[encoded data removed]",
      "text/plain": [
       "<Figure size 1200x400 with 1 Axes>"
      ]
     },
     "metadata": {},
     "output_type": "display_data"
    }
   ],
   "source": [
    "# plot average diff \n",
    "fig, ax = plot_score_quantiles(min_test_results, edges_under_test_scores, quantile_range=[0.00, 1.00])\n",
    "fig.savefig(repo_path_to_abs_path(exp_dir / f\"min_test_score_quantiles.png\"))\n"
   ]
  },
  {
   "cell_type": "code",
   "execution_count": 147,
   "metadata": {},
   "outputs": [
    {
     "data": {
      "image/png": "[encoded data removed]",
      "text/plain": [
       "<Figure size 1200x400 with 1 Axes>"
      ]
     },
     "metadata": {},
     "output_type": "display_data"
    }
   ],
   "source": [
    "if not true_edges_tested:\n",
    "    fig, ax = plot_score_quantiles(min_test_true_edge_results, true_edge_scores, quantile_range=[0.00, 1.00])\n",
    "    fig.savefig(repo_path_to_abs_path(score_dir / f\"min_test_true_edge_score_quantiles_{min_postfix_full}.png\"))"
   ]
  },
  {
   "cell_type": "markdown",
   "metadata": {},
   "source": [
    "# Independence Test\n",
    "Test for completeness - if the circuit contains all the components required to perform the task, then the output of the complement should be independent of the original model\n",
    "\n",
    "$H_0$: Score of complement indepedendent of score of model\n",
    "\n",
    "Hilbert Schmdit Indepednence Criterion - non-parametric measure of independence \n",
    "\n",
    "- Background: (see https://jejjohnson.github.io/research_journal/appendix/similarity/hsic/)\n",
    "\n",
    "Intuition: the trace sums along the interaction terms on each data point, which \n",
    "we expect to be larger then other interaction terms across samples if X, and Y are \n",
    "correlated, fewer of the perumations should be greater, our p-value will be smaller, \n",
    "and thus we're more likely to reject the null\n",
    "\n",
    "\n",
    "Note: the hypothesis paper defines HCIC as  K_{x,y}K_{x,y}, but can also define it as \n",
    "{K_x}{K_y}, b/c that that equality holds in general for Cross Covariance and Auto \n",
    "Covariance \n",
    "\n",
    "The paper uses $\\rho$ = median(||score(complement) - score(model)||), based on this \n",
    "paper https://arxiv.org/pdf/1707.07269\n",
    "\n",
    "\n"
   ]
  },
  {
   "cell_type": "code",
   "execution_count": 148,
   "metadata": {},
   "outputs": [
    {
     "data": {
      "application/vnd.jupyter.widget-view+json": {
       "model_id": "02e8f4e0fc224497a25dcf6570c206a3",
       "version_major": 2,
       "version_minor": 0
      },
      "text/plain": [
       "VBox(children=(          | 0/2 [00:00<?, ?it/s],))"
      ]
     },
     "metadata": {},
     "output_type": "display_data"
    },
    {
     "name": "stdout",
     "output_type": "stream",
     "text": [
      "Saving json to /nas/ucb/oliveradk/elk-experiments/output/hypo_test_results/Docstring_Token_Circuit_TOKENWISE_MEAN_CORRUPT_LOGPROB_AVG_VAL_10/False_0.05_0.0_0.9/indep_result.json\n"
     ]
    }
   ],
   "source": [
    "indep_result = independence_test(\n",
    "    model=task.model, \n",
    "    dataloader=task.test_loader, \n",
    "    prune_scores=circuit_prune_scores, \n",
    "    ablation_type=conf.ablation_type,\n",
    "    grad_function=conf.grad_func,\n",
    "    answer_function=conf.answer_func,\n",
    "    threshold=threshold, \n",
    "    use_abs=conf.use_abs,\n",
    "    B=1000\n",
    ") \n",
    "save_json(result_to_json(indep_result), exp_dir, \"indep_result\")"
   ]
  },
  {
   "cell_type": "code",
   "execution_count": 149,
   "metadata": {},
   "outputs": [
    {
     "data": {
      "application/vnd.jupyter.widget-view+json": {
       "model_id": "6ea4331f0bd54f7b8302b89470aef65f",
       "version_major": 2,
       "version_minor": 0
      },
      "text/plain": [
       "VBox(children=(          | 0/2 [00:00<?, ?it/s],))"
      ]
     },
     "metadata": {},
     "output_type": "display_data"
    },
    {
     "name": "stdout",
     "output_type": "stream",
     "text": [
      "Saving json to /nas/ucb/oliveradk/elk-experiments/output/hypo_test_results/Docstring_Token_Circuit_TOKENWISE_MEAN_CORRUPT_LOGPROB_AVG_VAL_10/False_0.05_0.0_0.9/indep_true_edge_result.json\n"
     ]
    }
   ],
   "source": [
    "indep_true_edge_result = independence_test(\n",
    "    task.model, \n",
    "    task.test_loader, \n",
    "    true_edge_prune_scores, \n",
    "    ablation_type=conf.ablation_type,\n",
    "    grad_function=conf.grad_func,\n",
    "    answer_function=conf.answer_func,\n",
    "    threshold=1.0, \n",
    "    use_abs=True,\n",
    "    alpha=conf.alpha,\n",
    "    B=1000\n",
    ")\n",
    "save_json(result_to_json(indep_true_edge_result), score_dir, f\"indep_true_edge_result\")"
   ]
  }
 ],
 "metadata": {
  "kernelspec": {
   "display_name": "elk-experiments-AZ2LBS3Q-py3.10",
   "language": "python",
   "name": "python3"
  },
  "language_info": {
   "codemirror_mode": {
    "name": "ipython",
    "version": 3
   },
   "file_extension": ".py",
   "mimetype": "text/x-python",
   "name": "python",
   "nbconvert_exporter": "python",
   "pygments_lexer": "ipython3",
   "version": "3.10.14"
  }
 },
 "nbformat": 4,
 "nbformat_minor": 2
}
