{
 "cells": [
  {
   "cell_type": "markdown",
   "metadata": {},
   "source": [
    "# Hypothesis Testing Circuits\n",
    "\n",
    "The primary tests we want to replicate are the faithfulness test (Equiavelance) and the minimality test (Minimality)\n",
    "\n",
    "Faithfulness Test\n",
    "- the full model and ablated model are equally likely to outpeform each other on a task\n",
    "    - probability of the delta of the score function is greater then 0 - 1/2 is less than epsilon\n",
    "    - use a sign test\n",
    "    - test statistic is the # of times C* and M outperform each other \n",
    "    - test statistic is absolue value of the difference between the mean that the ablated model outpeforms the original model and 1/2\n",
    "- P value (value of test statistic such that P(T > T_obs) = alpha) given by binomial distribution P(K > (T_obs + 1/2) * n | \\theta = (1/2) + \\epsilon)\n",
    "    how do we choose epsilon?\n",
    "    set to 0.1\n",
    "\n"
   ]
  },
  {
   "cell_type": "code",
   "execution_count": null,
   "metadata": {},
   "outputs": [],
   "source": [
    "# datasets\n",
    "# indirect object identification\n",
    "# doctring \n",
    "# tracr-P, tracr-R\n"
   ]
  },
  {
   "cell_type": "markdown",
   "metadata": {},
   "source": [
    "# Minimal Faithful Circuit According to Attribution Score Ordering"
   ]
  },
  {
   "cell_type": "code",
   "execution_count": null,
   "metadata": {},
   "outputs": [],
   "source": [
    "# how to compute t_obs \n",
    "# absolue value of mean of samples with ablated C > M - n/2\n",
    "\n",
    "# how to compute the p value given t_obs \n",
    "# binomial of k >= num ablated C > M samples [(t + 1/2) * n] given p = 1/2 + epsilon (epsilon = 0.01)\n",
    "\n",
    "# Bonferroni correction\n",
    "    # divide alpha by number of tests\n",
    "\n",
    "# binary search for smallest number of edges on attribution ordering for which test passes\n",
    "\n",
    "\n"
   ]
  },
  {
   "cell_type": "code",
   "execution_count": 49,
   "metadata": {},
   "outputs": [],
   "source": [
    "from functools import partial\n",
    "import torch\n",
    "\n",
    "from transformer_lens import HookedTransformer\n",
    "\n",
    "from elk_experiments.utils import repo_path_to_abs_path, set_model, repo_path_to_abs_path\n",
    "from elk_experiments.auto_circuit_utils import make_prompt_data_loader, make_mixed_prompt_dataloader, sorted_scores\n",
    "\n",
    "from auto_circuit.types import AblationType, PatchType, CircuitOutputs\n",
    "from auto_circuit.data import PromptPairBatch   \n",
    "from auto_circuit.prune_algos.mask_gradient import mask_gradient_prune_scores\n",
    "from auto_circuit.tasks import DOCSTRING_COMPONENT_CIRCUIT_TASK, docstring_true_edges\n",
    "from auto_circuit.prune import run_circuits"
   ]
  },
  {
   "cell_type": "code",
   "execution_count": 2,
   "metadata": {},
   "outputs": [],
   "source": [
    "task = DOCSTRING_COMPONENT_CIRCUIT_TASK\n",
    "ablation_type = AblationType.RESAMPLE\n",
    "grad_function = \"logit\"\n",
    "answer_function = \"avg_diff\""
   ]
  },
  {
   "cell_type": "code",
   "execution_count": 30,
   "metadata": {},
   "outputs": [
    {
     "data": {
      "text/plain": [
       "torch.Size([128, 30])"
      ]
     },
     "execution_count": 30,
     "metadata": {},
     "output_type": "execute_result"
    }
   ],
   "source": [
    "batch.clean.shape"
   ]
  },
  {
   "cell_type": "code",
   "execution_count": 45,
   "metadata": {},
   "outputs": [
    {
     "data": {
      "application/vnd.jupyter.widget-view+json": {
       "model_id": "6e2fcb9a47b94c58aaacc9a4cf438414",
       "version_major": 2,
       "version_minor": 0
      },
      "text/plain": [
       "VBox(children=(          | 0/11 [00:00<?, ?it/s],))"
      ]
     },
     "metadata": {},
     "output_type": "display_data"
    }
   ],
   "source": [
    "# compute edge scores\n",
    "attribution_scores = mask_gradient_prune_scores(\n",
    "    model=task.model, \n",
    "    dataloader=task.train_loader,\n",
    "    official_edges=None,\n",
    "    grad_function=grad_function,\n",
    "    answer_function=answer_function,\n",
    "    mask_val=None, \n",
    "    ablation_type=AblationType.RESAMPLE,\n",
    "    integrated_grad_samples=10,\n",
    "    clean_corrupt=\"corrupt\"\n",
    ")"
   ]
  },
  {
   "cell_type": "code",
   "execution_count": 4,
   "metadata": {},
   "outputs": [
    {
     "data": {
      "application/vnd.jupyter.widget-view+json": {
       "model_id": "f15717b6625e4c88a1e9ebe50d1db9d0",
       "version_major": 2,
       "version_minor": 0
      },
      "text/plain": [
       "VBox(children=(          | 0/2 [00:00<?, ?it/s],))"
      ]
     },
     "metadata": {},
     "output_type": "display_data"
    }
   ],
   "source": [
    "# staistical test\n",
    "# circuit out \n",
    "circuit_out = run_circuits(\n",
    "    model=task.model, \n",
    "    dataloader=task.test_loader,\n",
    "    test_edge_counts=[len(task.model.edges) // 2],\n",
    "    prune_scores=attribution_scores,\n",
    "    patch_type=PatchType.TREE_PATCH,\n",
    "    ablation_type=ablation_type,\n",
    "    reverse_clean_corrupt=False,\n",
    ")\n",
    "circuit_out = dict(circuit_out[len(task.model.edges) // 2])"
   ]
  },
  {
   "cell_type": "code",
   "execution_count": 5,
   "metadata": {},
   "outputs": [],
   "source": [
    "# model out\n",
    "model_out: CircuitOutputs = {}\n",
    "for batch in task.test_loader:\n",
    "    model_out[batch.key] = task.model(batch.clean)[task.model.out_slice]"
   ]
  },
  {
   "cell_type": "code",
   "execution_count": 46,
   "metadata": {},
   "outputs": [],
   "source": [
    "from auto_circuit.data import PromptDataLoader\n",
    "from scipy.stats import binom\n",
    "import numpy as np\n",
    "def compute_num_C_gt_M(\n",
    "    circ_out: CircuitOutputs, \n",
    "    model_out: CircuitOutputs, \n",
    "    dataloader: PromptDataLoader, \n",
    ") -> tuple[int, int]:\n",
    "    # compute number of samples with ablated C > M\n",
    "    num_ablated_C_gt_M = 0\n",
    "    n = 0\n",
    "    for batch in dataloader:\n",
    "        bs = batch.clean.size(0)\n",
    "        circ_out_batch = circ_out[batch.key]\n",
    "        model_out_batch = model_out[batch.key]\n",
    "        circ_out_answers = torch.gather(circ_out_batch, 1, batch.answers).sum(dim=1)\n",
    "        circ_out_wrong_answers = torch.gather(circ_out_batch, 1, batch.wrong_answers).sum(dim=1)\n",
    "        model_out_answers = torch.gather(model_out_batch, 1, batch.answers).sum(dim=1)\n",
    "        model_out_wrong_answers = torch.gather(model_out_batch, 1, batch.wrong_answers).sum(dim=1)\n",
    "        assert circ_out_answers.ndim == 1, circ_out_answers.shape \n",
    "        assert circ_out_answers.size(0)\n",
    "        assert circ_out_answers.shape == model_out_answers.shape == circ_out_wrong_answers.shape == model_out_wrong_answers.shape\n",
    "        num_ablated_C_gt_M += torch.sum(\n",
    "            circ_out_answers - circ_out_wrong_answers > model_out_answers - model_out_wrong_answers\n",
    "        ).item()\n",
    "        n += bs\n",
    "    return num_ablated_C_gt_M, n \n",
    "\n",
    "def run_non_equiv_test(num_ablated_C_gt_M: int, n: int, alpha: float = 0.05, epsilon: float = 0.1) -> tuple[bool, float]:\n",
    "    #TODO: low vs ghih\n",
    "    theta = 1 / 2 + epsilon\n",
    "    k = num_ablated_C_gt_M\n",
    "    left_tail = binom.cdf(min(n-k, k), n, theta)\n",
    "    right_tail = 1 - binom.cdf(max(n-k, k), n, theta)\n",
    "    p_value = left_tail + right_tail\n",
    "    return p_value < alpha, p_value "
   ]
  },
  {
   "cell_type": "code",
   "execution_count": 7,
   "metadata": {},
   "outputs": [
    {
     "data": {
      "text/plain": [
       "(83, 256, True, 0.005120892411944023)"
      ]
     },
     "execution_count": 7,
     "metadata": {},
     "output_type": "execute_result"
    }
   ],
   "source": [
    "num_ablated_C_gt_M, n = compute_num_C_gt_M(circuit_out, model_out, task.test_loader)\n",
    "not_equiv, p_value = run_non_equiv_test(num_ablated_C_gt_M, n, alpha=0.05, epsilon=0.1)\n",
    "num_ablated_C_gt_M, n, not_equiv, p_value"
   ]
  },
  {
   "cell_type": "code",
   "execution_count": 47,
   "metadata": {},
   "outputs": [
    {
     "name": "stdout",
     "output_type": "stream",
     "text": [
      "cur 641 min 0 max 1281 len 1282\n"
     ]
    },
    {
     "data": {
      "application/vnd.jupyter.widget-view+json": {
       "model_id": "b28bc96f9882416bb5923a0782baa425",
       "version_major": 2,
       "version_minor": 0
      },
      "text/plain": [
       "VBox(children=(          | 0/2 [00:00<?, ?it/s],))"
      ]
     },
     "metadata": {},
     "output_type": "display_data"
    },
    {
     "name": "stdout",
     "output_type": "stream",
     "text": [
      "equiv at 641, decrease edge count\n",
      "cur 320 min 0 max 640 len 641\n"
     ]
    },
    {
     "data": {
      "application/vnd.jupyter.widget-view+json": {
       "model_id": "5363abb59de7447a80564667305252ff",
       "version_major": 2,
       "version_minor": 0
      },
      "text/plain": [
       "VBox(children=(          | 0/2 [00:00<?, ?it/s],))"
      ]
     },
     "metadata": {},
     "output_type": "display_data"
    },
    {
     "name": "stdout",
     "output_type": "stream",
     "text": [
      "equiv at 320, decrease edge count\n",
      "cur 160 min 0 max 319 len 320\n"
     ]
    },
    {
     "data": {
      "application/vnd.jupyter.widget-view+json": {
       "model_id": "6dfb7566d3634edf86599e4ae0939d81",
       "version_major": 2,
       "version_minor": 0
      },
      "text/plain": [
       "VBox(children=(          | 0/2 [00:00<?, ?it/s],))"
      ]
     },
     "metadata": {},
     "output_type": "display_data"
    },
    {
     "name": "stdout",
     "output_type": "stream",
     "text": [
      "equiv at 160, decrease edge count\n",
      "cur 80 min 0 max 159 len 160\n"
     ]
    },
    {
     "data": {
      "application/vnd.jupyter.widget-view+json": {
       "model_id": "757baab2baf94987b040895195a234e9",
       "version_major": 2,
       "version_minor": 0
      },
      "text/plain": [
       "VBox(children=(          | 0/2 [00:00<?, ?it/s],))"
      ]
     },
     "metadata": {},
     "output_type": "display_data"
    },
    {
     "name": "stdout",
     "output_type": "stream",
     "text": [
      "not equiv at 80, increase edge count\n",
      "cur 120 min 81 max 159 len 79\n"
     ]
    },
    {
     "data": {
      "application/vnd.jupyter.widget-view+json": {
       "model_id": "4ede46d98dc1440f9559bd080233d45e",
       "version_major": 2,
       "version_minor": 0
      },
      "text/plain": [
       "VBox(children=(          | 0/2 [00:00<?, ?it/s],))"
      ]
     },
     "metadata": {},
     "output_type": "display_data"
    },
    {
     "name": "stdout",
     "output_type": "stream",
     "text": [
      "not equiv at 120, increase edge count\n",
      "cur 140 min 121 max 159 len 39\n"
     ]
    },
    {
     "data": {
      "application/vnd.jupyter.widget-view+json": {
       "model_id": "1d8229e3b72d43269d38c01f20cfb9ad",
       "version_major": 2,
       "version_minor": 0
      },
      "text/plain": [
       "VBox(children=(          | 0/2 [00:00<?, ?it/s],))"
      ]
     },
     "metadata": {},
     "output_type": "display_data"
    },
    {
     "name": "stdout",
     "output_type": "stream",
     "text": [
      "not equiv at 140, increase edge count\n",
      "cur 150 min 141 max 159 len 19\n"
     ]
    },
    {
     "data": {
      "application/vnd.jupyter.widget-view+json": {
       "model_id": "63a9f9ef3798468d955901acdb2fead1",
       "version_major": 2,
       "version_minor": 0
      },
      "text/plain": [
       "VBox(children=(          | 0/2 [00:00<?, ?it/s],))"
      ]
     },
     "metadata": {},
     "output_type": "display_data"
    },
    {
     "name": "stdout",
     "output_type": "stream",
     "text": [
      "equiv at 150, decrease edge count\n",
      "cur 145 min 141 max 149 len 9\n"
     ]
    },
    {
     "data": {
      "application/vnd.jupyter.widget-view+json": {
       "model_id": "8ea60e9ac7bf439cae8bbf3b591b3432",
       "version_major": 2,
       "version_minor": 0
      },
      "text/plain": [
       "VBox(children=(          | 0/2 [00:00<?, ?it/s],))"
      ]
     },
     "metadata": {},
     "output_type": "display_data"
    },
    {
     "name": "stdout",
     "output_type": "stream",
     "text": [
      "equiv at 145, decrease edge count\n",
      "cur 143 min 141 max 144 len 4\n"
     ]
    },
    {
     "data": {
      "application/vnd.jupyter.widget-view+json": {
       "model_id": "f6d75868096447a59b3944410a1fd500",
       "version_major": 2,
       "version_minor": 0
      },
      "text/plain": [
       "VBox(children=(          | 0/2 [00:00<?, ?it/s],))"
      ]
     },
     "metadata": {},
     "output_type": "display_data"
    },
    {
     "name": "stdout",
     "output_type": "stream",
     "text": [
      "not equiv at 143, increase edge count\n",
      "cur 144 min 144 max 144 len 1\n"
     ]
    },
    {
     "data": {
      "application/vnd.jupyter.widget-view+json": {
       "model_id": "ef6504953aa94197809bc24ab041f59e",
       "version_major": 2,
       "version_minor": 0
      },
      "text/plain": [
       "VBox(children=(          | 0/2 [00:00<?, ?it/s],))"
      ]
     },
     "metadata": {},
     "output_type": "display_data"
    },
    {
     "name": "stdout",
     "output_type": "stream",
     "text": [
      "equiv at 144, decrease edge count\n"
     ]
    }
   ],
   "source": [
    "# binary search for smallest number of edges on attribution ordering for which test passes\n",
    "alpha = 0.05\n",
    "epsilon = 0.1\n",
    "edge_count_interval = [i for i in range(task.model.n_edges + 1)]\n",
    "min_equiv = edge_count_interval[-1]\n",
    "while len(edge_count_interval) > 0:\n",
    "    midpoint = len(edge_count_interval) // 2\n",
    "    edge_count = edge_count_interval[midpoint]\n",
    "    print(\n",
    "        \"cur\", edge_count, \n",
    "        \"min\", edge_count_interval[0], \n",
    "        \"max\", edge_count_interval[-1], \n",
    "        \"len\", len(edge_count_interval)\n",
    "    )\n",
    "    circuit_out = run_circuits(\n",
    "        model=task.model, \n",
    "        dataloader=task.test_loader,\n",
    "        test_edge_counts=[edge_count],\n",
    "        prune_scores=attribution_scores,\n",
    "        patch_type=PatchType.TREE_PATCH,\n",
    "        ablation_type=ablation_type,\n",
    "        reverse_clean_corrupt=False,\n",
    "    )\n",
    "    circuit_out = dict(circuit_out[edge_count])\n",
    "    # model out\n",
    "    model_out: CircuitOutputs = {}\n",
    "    for batch in task.test_loader:\n",
    "        model_out[batch.key] = task.model(batch.clean)[task.model.out_slice]\n",
    "    # run statitiscal test \n",
    "    num_ablated_C_gt_M, n = compute_num_C_gt_M(circuit_out, model_out, task.test_loader)\n",
    "    not_equiv, p_value = run_non_equiv_test(num_ablated_C_gt_M, n, alpha, epsilon)\n",
    "\n",
    "    if not_equiv:\n",
    "        print(f\"not equiv at {edge_count}, increase edge count\")\n",
    "        edge_count_interval = edge_count_interval[midpoint+1:] # more edges \n",
    "    else:\n",
    "        min_equiv = edge_count\n",
    "        print(f\"equiv at {edge_count}, decrease edge count\")\n",
    "        edge_count_interval = edge_count_interval[:midpoint] # less edges\n",
    "    min_equiv\n",
    "# note this itself is not a perfect procedure - there could be a smaller circuit which is more faithful, but in general larger circuits tend to be more faithful\n"
   ]
  },
  {
   "cell_type": "code",
   "execution_count": 48,
   "metadata": {},
   "outputs": [
    {
     "data": {
      "application/vnd.plotly.v1+json": {
       "config": {
        "plotlyServerURL": "https://plot.ly"
       },
       "data": [
        {
         "arrangement": "perpendicular",
         "domain": {
          "y": [
           0,
           1
          ]
         },
         "link": {
          "arrowlen": 25,
          "color": [
           "rgba(0,0,255,0.3)",
           "rgba(255,0,0,0.3)",
           "rgba(255,0,0,0.3)",
           "rgba(255,0,0,0.3)",
           "rgba(255,0,0,0.3)",
           "rgba(255,0,0,0.3)",
           "rgba(255,0,0,0.3)",
           "rgba(255,0,0,0.3)",
           "rgba(0,0,255,0.3)",
           "rgba(0,0,255,0.3)",
           "rgba(0,0,255,0.3)",
           "rgba(255,0,0,0.3)",
           "rgba(0,0,255,0.3)",
           "rgba(0,0,255,0.3)",
           "rgba(0,0,255,0.3)",
           "rgba(0,0,255,0.3)",
           "rgba(255,0,0,0.3)",
           "rgba(0,0,255,0.3)",
           "rgba(0,0,255,0.3)",
           "rgba(0,0,255,0.3)",
           "rgba(0,0,255,0.3)",
           "rgba(0,0,255,0.3)",
           "rgba(0,0,255,0.3)",
           "rgba(255,0,0,0.3)",
           "rgba(255,0,0,0.3)",
           "rgba(255,0,0,0.3)",
           "rgba(255,0,0,0.3)",
           "rgba(255,0,0,0.3)",
           "rgba(255,0,0,0.3)",
           "rgba(0,0,255,0.3)",
           "rgba(0,0,255,0.3)",
           "rgba(0,0,255,0.3)",
           "rgba(255,0,0,0.3)",
           "rgba(0,0,255,0.3)",
           "rgba(0,0,255,0.3)",
           "rgba(255,0,0,0.3)",
           "rgba(0,0,255,0.3)",
           "rgba(255,0,0,0.3)",
           "rgba(0,0,255,0.3)",
           "rgba(0,0,255,0.3)",
           "rgba(0,0,255,0.3)",
           "rgba(255,0,0,0.3)",
           "rgba(0,0,255,0.3)",
           "rgba(0,0,255,0.3)",
           "rgba(255,0,0,0.3)",
           "rgba(0,0,255,0.3)",
           "rgba(255,0,0,0.3)",
           "rgba(0,0,255,0.3)",
           "rgba(0,0,255,0.3)",
           "rgba(255,0,0,0.3)",
           "rgba(255,0,0,0.3)",
           "rgba(255,0,0,0.3)",
           "rgba(0,0,255,0.3)",
           "rgba(0,0,255,0.3)",
           "rgba(255,0,0,0.3)",
           "rgba(0,0,255,0.3)",
           "rgba(0,0,255,0.3)",
           "rgba(0,0,255,0.3)",
           "rgba(0,0,255,0.3)",
           "rgba(0,0,255,0.3)",
           "rgba(255,0,0,0.3)",
           "rgba(255,0,0,0.3)",
           "rgba(0,0,255,0.3)",
           "rgba(0,0,255,0.3)",
           "rgba(0,0,255,0.3)",
           "rgba(0,0,255,0.3)",
           "rgba(0,0,255,0.3)",
           "rgba(255,0,0,0.3)",
           "rgba(0,0,255,0.3)",
           "rgba(255,0,0,0.3)",
           "rgba(0,0,255,0.3)",
           "rgba(255,0,0,0.3)",
           "rgba(0,0,255,0.3)",
           "rgba(0,0,255,0.3)",
           "rgba(255,0,0,0.3)",
           "rgba(0,0,255,0.3)",
           "rgba(0,0,255,0.3)",
           "rgba(0,0,255,0.3)",
           "rgba(255,0,0,0.3)",
           "rgba(255,0,0,0.3)",
           "rgba(255,0,0,0.3)",
           "rgba(0,0,255,0.3)",
           "rgba(0,0,255,0.3)",
           "rgba(0,0,255,0.3)",
           "rgba(255,0,0,0.3)",
           "rgba(0,0,255,0.3)",
           "rgba(0,0,255,0.3)",
           "rgba(0,0,255,0.3)",
           "rgba(0,0,255,0.3)",
           "rgba(0,0,255,0.3)",
           "rgba(0,0,255,0.3)",
           "rgba(0,0,255,0.3)",
           "rgba(0,0,255,0.3)",
           "rgba(255,0,0,0.3)",
           "rgba(0,0,255,0.3)",
           "rgba(0,0,255,0.3)",
           "rgba(255,0,0,0.3)",
           "rgba(0,0,255,0.3)",
           "rgba(0,0,255,0.3)",
           "rgba(0,0,255,0.3)",
           "rgba(255,0,0,0.3)",
           "rgba(0,0,255,0.3)",
           "rgba(0,0,255,0.3)",
           "rgba(255,0,0,0.3)",
           "rgba(0,0,255,0.3)",
           "rgba(0,0,255,0.3)",
           "rgba(255,0,0,0.3)",
           "rgba(255,0,0,0.3)",
           "rgba(255,0,0,0.3)",
           "rgba(0,0,255,0.3)",
           "rgba(0,0,255,0.3)",
           "rgba(255,0,0,0.3)",
           "rgba(0,0,255,0.3)",
           "rgba(255,0,0,0.3)",
           "rgba(0,0,255,0.3)",
           "rgba(255,0,0,0.3)",
           "rgba(0,0,255,0.3)",
           "rgba(255,0,0,0.3)",
           "rgba(255,0,0,0.3)",
           "rgba(255,0,0,0.3)",
           "rgba(0,0,255,0.3)",
           "rgba(0,0,255,0.3)",
           "rgba(0,0,255,0.3)",
           "rgba(255,0,0,0.3)",
           "rgba(0,0,255,0.3)",
           "rgba(0,0,255,0.3)",
           "rgba(0,0,255,0.3)",
           "rgba(0,0,255,0.3)",
           "rgba(0,0,255,0.3)",
           "rgba(255,0,0,0.3)",
           "rgba(0,0,255,0.3)",
           "rgba(0,0,255,0.3)",
           "rgba(0,0,255,0.3)",
           "rgba(0,0,255,0.3)",
           "rgba(0,0,255,0.3)",
           "rgba(0,0,255,0.3)",
           "rgba(0,0,255,0.3)",
           "rgba(0,0,255,0.3)",
           "rgba(0,0,255,0.3)",
           "rgba(0,0,255,0.3)",
           "rgba(255,0,0,0.3)",
           "rgba(255,0,0,0.3)",
           "rgba(255,0,0,0.3)",
           "rgba(0,0,255,0.3)"
          ],
          "label": [
           "A0.1->A1.2.Q<br>None<br>0.70",
           "A0.2->A3.6.K<br>None<br>-0.38",
           "Resid Start->A0.6.K<br>None<br>-6.53",
           "A1.4->A2.2.Q<br>None<br>-2.11",
           "A2.5->A3.6.K<br>None<br>-0.75",
           "A0.2->A1.0.V<br>None<br>-1.54",
           "A1.4->A2.2.K<br>None<br>-1.01",
           "Resid Start->A1.2.K<br>None<br>-0.39",
           "Resid Start->A0.5.Q<br>None<br>0.46",
           "Resid Start->A3.5.V<br>None<br>1.26",
           "A2.2->A3.0.K<br>None<br>0.88",
           "A1.4->A2.2.V<br>None<br>-3.08",
           "A3.0->Resid End<br>None<br>22.40",
           "A0.0->A1.0.K<br>None<br>0.50",
           "A1.0->A3.0.V<br>None<br>0.67",
           "A0.2->A3.0.K<br>None<br>0.36",
           "Resid Start->A1.2.Q<br>None<br>-0.90",
           "A0.4->A3.0.K<br>None<br>0.67",
           "A0.5->A2.0.Q<br>None<br>1.41",
           "A1.1->A2.2.K<br>None<br>0.34",
           "A0.5->A3.0.V<br>None<br>3.28",
           "Resid Start->A0.0.V<br>None<br>3.70",
           "A0.2->A1.1.Q<br>None<br>0.36",
           "A0.2->A2.2.K<br>None<br>-0.60",
           "Resid Start->A2.5.V<br>None<br>-0.69",
           "A0.4->A1.1.Q<br>None<br>-0.47",
           "A2.2->A3.0.Q<br>None<br>-4.43",
           "A0.0->A3.6.K<br>None<br>-0.68",
           "A1.4->A2.0.K<br>None<br>-0.50",
           "Resid Start->A2.3.V<br>None<br>5.69",
           "A1.4->A2.6.V<br>None<br>0.44",
           "A3.3->Resid End<br>None<br>0.55",
           "Resid Start->A0.7.Q<br>None<br>-0.92",
           "A2.3->Resid End<br>None<br>4.76",
           "A2.6->A3.0.Q<br>None<br>0.34",
           "A1.4->A2.4.K<br>None<br>-0.59",
           "Resid Start->A1.0.V<br>None<br>2.12",
           "A0.5->A1.4.K<br>None<br>-2.69",
           "A2.0->A3.0.K<br>None<br>2.06",
           "Resid Start->A2.0.V<br>None<br>0.51",
           "Resid Start->A2.0.Q<br>None<br>4.15",
           "A1.1->A3.6.K<br>None<br>-0.64",
           "A1.0->A2.0.K<br>None<br>0.89",
           "Resid Start->A0.0.Q<br>None<br>0.75",
           "Resid Start->A0.7.K<br>None<br>-4.15",
           "A2.3->A3.6.V<br>None<br>0.57",
           "A0.2->A2.0.K<br>None<br>-1.02",
           "Resid Start->A3.3.V<br>None<br>0.41",
           "A0.5->A1.4.V<br>None<br>2.23",
           "A1.0->A3.0.K<br>None<br>-1.56",
           "Resid Start->A3.6.K<br>None<br>-5.67",
           "A0.1->A1.4.K<br>None<br>-1.29",
           "A2.0->A3.0.Q<br>None<br>0.74",
           "Resid Start->A1.3.V<br>None<br>0.59",
           "A0.5->A3.0.K<br>None<br>-1.65",
           "A0.2->A1.5.Q<br>None<br>0.86",
           "A0.1->A2.0.K<br>None<br>0.53",
           "A2.2->A3.6.K<br>None<br>0.37",
           "A1.4->A3.0.Q<br>None<br>9.74",
           "Resid Start->A0.5.V<br>None<br>9.39",
           "A0.3->A3.6.K<br>None<br>-0.38",
           "A1.0->A2.0.Q<br>None<br>-3.79",
           "Resid Start->A1.0.Q<br>None<br>1.17",
           "Resid Start->A1.1.V<br>None<br>0.63",
           "A2.7->A3.0.K<br>None<br>0.37",
           "Resid Start->A3.0.V<br>None<br>15.51",
           "A2.5->A3.0.Q<br>None<br>0.47",
           "Resid Start->A0.2.K<br>None<br>-4.34",
           "A1.4->A3.6.Q<br>None<br>5.06",
           "A0.7->A1.1.V<br>None<br>-0.43",
           "Resid Start->A2.3.Q<br>None<br>1.47",
           "A2.3->A3.6.K<br>None<br>-1.53",
           "A0.5->A3.6.V<br>None<br>1.54",
           "A2.5->A3.6.V<br>None<br>0.37",
           "Resid Start->A0.3.Q<br>None<br>-1.73",
           "Resid Start->A0.1.K<br>None<br>1.91",
           "Resid Start->A0.3.K<br>None<br>1.16",
           "A1.5->A3.6.K<br>None<br>0.63",
           "A2.0->A3.0.V<br>None<br>-0.36",
           "Resid Start->A1.4.K<br>None<br>-13.35",
           "A0.1->A3.0.K<br>None<br>-0.34",
           "A1.4->A2.1.V<br>None<br>0.58",
           "A0.1->A3.0.V<br>None<br>0.76",
           "A3.5->Resid End<br>None<br>2.08",
           "A0.2->A1.2.Q<br>None<br>-0.38",
           "A0.5->A1.1.K<br>None<br>0.46",
           "A2.0->A3.6.K<br>None<br>0.58",
           "A2.3->A3.0.V<br>None<br>1.44",
           "A0.5->A1.0.K<br>None<br>0.99",
           "Resid Start->A2.0.K<br>None<br>8.48",
           "Resid Start->A0.5.K<br>None<br>0.67",
           "Resid Start->A1.4.V<br>None<br>9.49",
           "A0.0->A3.0.V<br>None<br>1.06",
           "A0.4->A2.0.Q<br>None<br>-1.34",
           "Resid Start->A2.5.K<br>None<br>0.50",
           "Resid Start->A0.4.V<br>None<br>4.12",
           "Resid Start->A3.0.K<br>None<br>-7.22",
           "Resid Start->A0.1.V<br>None<br>1.54",
           "Resid Start->A2.1.K<br>None<br>0.46",
           "Resid Start->A1.1.Q<br>None<br>1.66",
           "A0.5->A3.6.K<br>None<br>-1.09",
           "A0.7->A2.0.Q<br>None<br>0.47",
           "A0.4->A3.6.K<br>None<br>0.43",
           "A1.1->A2.0.Q<br>None<br>-1.62",
           "Resid Start->A0.2.Q<br>None<br>3.55",
           "Resid Start->A0.6.V<br>None<br>0.84",
           "A2.2->A3.6.Q<br>None<br>-2.04",
           "A0.0->A1.4.K<br>None<br>-1.39",
           "A1.0->A2.3.K<br>None<br>-0.83",
           "A1.0->A3.6.V<br>None<br>0.33",
           "A0.0->A2.0.K<br>None<br>0.91",
           "A0.6->A1.4.K<br>None<br>-0.44",
           "Resid Start->A3.6.V<br>None<br>13.41",
           "A2.3->A3.0.K<br>None<br>-1.76",
           "A1.4->A2.5.V<br>None<br>0.44",
           "A0.0->A3.0.K<br>None<br>-1.23",
           "Resid Start->A1.5.K<br>None<br>0.35",
           "A2.2->A3.0.V<br>None<br>-0.75",
           "A2.5->A3.0.K<br>None<br>-1.45",
           "A1.1->A3.0.K<br>None<br>-1.85",
           "A1.4->A2.7.V<br>None<br>0.38",
           "Resid Start->A1.1.K<br>None<br>1.94",
           "A2.3->A3.0.Q<br>None<br>0.43",
           "A0.2->A1.1.V<br>None<br>-0.34",
           "A1.0->A2.0.V<br>None<br>0.55",
           "Resid Start->A1.0.K<br>None<br>4.20",
           "A0.1->A3.6.V<br>None<br>0.85",
           "A1.4->A2.0.V<br>None<br>5.25",
           "Resid Start->A1.5.Q<br>None<br>1.71",
           "A0.1->A1.2.K<br>None<br>-0.43",
           "A3.6->Resid End<br>None<br>19.33",
           "A3.4->Resid End<br>None<br>0.41",
           "A0.5->A1.0.V<br>None<br>0.59",
           "A1.5->A3.0.Q<br>None<br>0.37",
           "Resid Start->A0.4.Q<br>None<br>13.72",
           "A2.3->A3.6.Q<br>None<br>0.35",
           "A0.2->A2.0.Q<br>None<br>3.04",
           "A0.0->A3.6.V<br>None<br>1.59",
           "A0.5->A2.0.K<br>None<br>3.28",
           "Resid Start->A0.6.Q<br>None<br>3.90",
           "A0.4->A2.0.K<br>None<br>-1.23",
           "A1.0->A3.6.K<br>None<br>-1.37",
           "Resid Start->A0.4.K<br>None<br>-9.25",
           "A1.1->A2.3.Q<br>None<br>0.36"
          ],
          "source": [
           10,
           30,
           33,
           22,
           6,
           30,
           22,
           33,
           33,
           33,
           0,
           22,
           12,
           11,
           5,
           30,
           33,
           18,
           31,
           19,
           31,
           33,
           30,
           30,
           33,
           18,
           0,
           11,
           22,
           33,
           22,
           20,
           33,
           26,
           2,
           22,
           33,
           31,
           1,
           33,
           33,
           19,
           5,
           33,
           33,
           26,
           30,
           33,
           31,
           5,
           33,
           10,
           1,
           33,
           31,
           30,
           10,
           0,
           22,
           33,
           9,
           5,
           33,
           33,
           24,
           33,
           6,
           33,
           22,
           28,
           33,
           26,
           31,
           6,
           33,
           33,
           33,
           4,
           1,
           33,
           10,
           22,
           10,
           29,
           30,
           31,
           1,
           26,
           31,
           33,
           33,
           33,
           11,
           18,
           33,
           33,
           33,
           33,
           33,
           33,
           31,
           28,
           18,
           19,
           33,
           33,
           0,
           11,
           5,
           5,
           11,
           13,
           33,
           26,
           22,
           11,
           33,
           0,
           6,
           19,
           22,
           33,
           26,
           30,
           5,
           33,
           10,
           22,
           33,
           10,
           7,
           16,
           31,
           4,
           33,
           26,
           30,
           11,
           31,
           33,
           18,
           5,
           33,
           19
          ],
          "target": [
           21,
           7,
           13,
           0,
           7,
           5,
           0,
           21,
           31,
           29,
           12,
           0,
           25,
           5,
           12,
           12,
           21,
           12,
           1,
           0,
           12,
           11,
           19,
           0,
           6,
           19,
           12,
           7,
           1,
           26,
           2,
           25,
           28,
           25,
           12,
           8,
           5,
           22,
           12,
           1,
           1,
           7,
           1,
           11,
           28,
           7,
           1,
           20,
           22,
           12,
           7,
           22,
           12,
           23,
           12,
           4,
           1,
           7,
           12,
           31,
           7,
           1,
           5,
           19,
           12,
           12,
           12,
           30,
           7,
           19,
           26,
           7,
           7,
           7,
           9,
           10,
           9,
           7,
           12,
           22,
           12,
           14,
           12,
           25,
           21,
           19,
           7,
           12,
           5,
           1,
           31,
           22,
           12,
           1,
           6,
           18,
           12,
           10,
           14,
           19,
           7,
           1,
           7,
           1,
           30,
           13,
           7,
           22,
           26,
           7,
           1,
           22,
           7,
           12,
           6,
           12,
           4,
           12,
           12,
           12,
           24,
           19,
           12,
           19,
           1,
           5,
           7,
           1,
           4,
           21,
           25,
           25,
           5,
           12,
           18,
           7,
           1,
           7,
           1,
           13,
           1,
           7,
           18,
           26
          ],
          "value": [
           0.7008448839187622,
           0.37945836782455444,
           6.530635356903076,
           2.107905149459839,
           0.7476711273193359,
           1.537959098815918,
           1.0137929916381836,
           0.3906249701976776,
           0.4564681053161621,
           1.255532145500183,
           0.8811445832252502,
           3.08447527885437,
           22.403276443481445,
           0.4995114207267761,
           0.6740415692329407,
           0.35935476422309875,
           0.9010440111160278,
           0.6729801893234253,
           1.4109108448028564,
           0.33666369318962097,
           3.280949115753174,
           3.6957688331604004,
           0.3623282015323639,
           0.5998321771621704,
           0.6855050325393677,
           0.46762606501579285,
           4.4319610595703125,
           0.68450927734375,
           0.496321439743042,
           5.690962791442871,
           0.43542027473449707,
           0.5469717979431152,
           0.923527717590332,
           4.763159275054932,
           0.3378011882305145,
           0.5896565914154053,
           2.115412712097168,
           2.69107723236084,
           2.0596022605895996,
           0.5114825367927551,
           4.148349761962891,
           0.640163004398346,
           0.8871228694915771,
           0.7535511255264282,
           4.152388095855713,
           0.5688007473945618,
           1.0182490348815918,
           0.4141637086868286,
           2.228240489959717,
           1.5632070302963257,
           5.6657395362854,
           1.2866923809051514,
           0.7368233799934387,
           0.5927514433860779,
           1.651868224143982,
           0.8630236983299255,
           0.5289473533630371,
           0.37329283356666565,
           9.739590644836426,
           9.387489318847656,
           0.3828914165496826,
           3.7880280017852783,
           1.1720515489578247,
           0.6283656358718872,
           0.37490108609199524,
           15.51341724395752,
           0.47401776909828186,
           4.340054035186768,
           5.061507225036621,
           0.4324989318847656,
           1.4682484865188599,
           1.5309516191482544,
           1.5431126356124878,
           0.3661521375179291,
           1.7283470630645752,
           1.9097105264663696,
           1.1610771417617798,
           0.6270738244056702,
           0.3633735179901123,
           13.346175193786621,
           0.34349048137664795,
           0.5798680782318115,
           0.7584142684936523,
           2.079331159591675,
           0.37712642550468445,
           0.4595378041267395,
           0.5789034962654114,
           1.444417119026184,
           0.9902662038803101,
           8.484285354614258,
           0.6654375195503235,
           9.487262725830078,
           1.0616434812545776,
           1.335864543914795,
           0.5016400218009949,
           4.122209072113037,
           7.221209526062012,
           1.5353529453277588,
           0.45917901396751404,
           1.6641908884048462,
           1.0927598476409912,
           0.4699711799621582,
           0.43300774693489075,
           1.621463656425476,
           3.55259370803833,
           0.8398571014404297,
           2.0402207374572754,
           1.3874788284301758,
           0.8303947448730469,
           0.33075448870658875,
           0.9112473726272583,
           0.4383805990219116,
           13.406575202941895,
           1.7640079259872437,
           0.44175586104393005,
           1.226319432258606,
           0.3534359633922577,
           0.7535982728004456,
           1.453874945640564,
           1.853808045387268,
           0.3763713538646698,
           1.9430320262908936,
           0.4336417019367218,
           0.3444887399673462,
           0.5490589737892151,
           4.202555179595947,
           0.85097336769104,
           5.2542924880981445,
           1.7102324962615967,
           0.42676079273223877,
           19.334535598754883,
           0.4064578413963318,
           0.5934590101242065,
           0.3736873269081116,
           13.717095375061035,
           0.3503085970878601,
           3.038442373275757,
           1.5875588655471802,
           3.28214693069458,
           3.8978705406188965,
           1.2331117391586304,
           1.367004156112671,
           9.250996589660645,
           0.3598802387714386
          ]
         },
         "node": {
          "color": [
           "rgb(55, 126, 184)",
           "rgb(152, 78, 163)",
           "rgb(153, 153, 153)",
           "rgba(0,0,0,0.0)",
           "rgb(153, 153, 153)",
           "rgb(166, 86, 40)",
           "rgb(255, 127, 0)",
           "rgb(166, 86, 40)",
           "rgb(222, 222, 0)",
           "rgb(228, 26, 28)",
           "rgb(247, 129, 191)",
           "rgb(77, 175, 74)",
           "rgb(153, 153, 153)",
           "rgb(228, 26, 28)",
           "rgb(222, 222, 0)",
           "rgba(0,0,0,0.0)",
           "rgb(152, 78, 163)",
           "rgba(0,0,0,0.0)",
           "rgb(153, 153, 153)",
           "rgb(222, 222, 0)",
           "rgb(77, 175, 74)",
           "rgb(247, 129, 191)",
           "rgb(255, 127, 0)",
           "rgb(222, 222, 0)",
           "rgb(247, 129, 191)",
           "rgb(152, 78, 163)",
           "rgb(222, 222, 0)",
           "rgba(0,0,0,0.0)",
           "rgb(77, 175, 74)",
           "rgb(77, 175, 74)",
           "rgb(255, 127, 0)",
           "rgb(247, 129, 191)",
           "rgba(0,0,0,0.0)",
           "rgb(153, 153, 153)"
          ],
          "label": [
           "A2.2",
           "A2.0",
           "A2.6",
           "",
           "A1.5",
           "A1.0",
           "A2.5",
           "A3.6",
           "A2.4",
           "A0.3",
           "A0.1",
           "A0.0",
           "A3.0",
           "A0.6",
           "A2.1",
           "",
           "A3.4",
           "",
           "A0.4",
           "A1.1",
           "A3.3",
           "A1.2",
           "A1.4",
           "A1.3",
           "A2.7",
           "",
           "A2.3",
           "",
           "A0.7",
           "A3.5",
           "A0.2",
           "A0.5",
           "",
           "Embed"
          ],
          "line": {
           "width": 0
          }
         },
         "orientation": "h",
         "type": "sankey"
        }
       ],
       "layout": {
        "annotations": [
         {
          "showarrow": false,
          "text": "<b>All tokens</b>",
          "x": -0.17,
          "xref": "paper",
          "y": 0.5,
          "yref": "paper"
         }
        ],
        "height": 400,
        "plot_bgcolor": "blue",
        "template": {
         "data": {
          "bar": [
           {
            "error_x": {
             "color": "#2a3f5f"
            },
            "error_y": {
             "color": "#2a3f5f"
            },
            "marker": {
             "line": {
              "color": "#E5ECF6",
              "width": 0.5
             },
             "pattern": {
              "fillmode": "overlay",
              "size": 10,
              "solidity": 0.2
             }
            },
            "type": "bar"
           }
          ],
          "barpolar": [
           {
            "marker": {
             "line": {
              "color": "#E5ECF6",
              "width": 0.5
             },
             "pattern": {
              "fillmode": "overlay",
              "size": 10,
              "solidity": 0.2
             }
            },
            "type": "barpolar"
           }
          ],
          "carpet": [
           {
            "aaxis": {
             "endlinecolor": "#2a3f5f",
             "gridcolor": "white",
             "linecolor": "white",
             "minorgridcolor": "white",
             "startlinecolor": "#2a3f5f"
            },
            "baxis": {
             "endlinecolor": "#2a3f5f",
             "gridcolor": "white",
             "linecolor": "white",
             "minorgridcolor": "white",
             "startlinecolor": "#2a3f5f"
            },
            "type": "carpet"
           }
          ],
          "choropleth": [
           {
            "colorbar": {
             "outlinewidth": 0,
             "ticks": ""
            },
            "type": "choropleth"
           }
          ],
          "contour": [
           {
            "colorbar": {
             "outlinewidth": 0,
             "ticks": ""
            },
            "colorscale": [
             [
              0,
              "#0d0887"
             ],
             [
              0.1111111111111111,
              "#46039f"
             ],
             [
              0.2222222222222222,
              "#7201a8"
             ],
             [
              0.3333333333333333,
              "#9c179e"
             ],
             [
              0.4444444444444444,
              "#bd3786"
             ],
             [
              0.5555555555555556,
              "#d8576b"
             ],
             [
              0.6666666666666666,
              "#ed7953"
             ],
             [
              0.7777777777777778,
              "#fb9f3a"
             ],
             [
              0.8888888888888888,
              "#fdca26"
             ],
             [
              1,
              "#f0f921"
             ]
            ],
            "type": "contour"
           }
          ],
          "contourcarpet": [
           {
            "colorbar": {
             "outlinewidth": 0,
             "ticks": ""
            },
            "type": "contourcarpet"
           }
          ],
          "heatmap": [
           {
            "colorbar": {
             "outlinewidth": 0,
             "ticks": ""
            },
            "colorscale": [
             [
              0,
              "#0d0887"
             ],
             [
              0.1111111111111111,
              "#46039f"
             ],
             [
              0.2222222222222222,
              "#7201a8"
             ],
             [
              0.3333333333333333,
              "#9c179e"
             ],
             [
              0.4444444444444444,
              "#bd3786"
             ],
             [
              0.5555555555555556,
              "#d8576b"
             ],
             [
              0.6666666666666666,
              "#ed7953"
             ],
             [
              0.7777777777777778,
              "#fb9f3a"
             ],
             [
              0.8888888888888888,
              "#fdca26"
             ],
             [
              1,
              "#f0f921"
             ]
            ],
            "type": "heatmap"
           }
          ],
          "heatmapgl": [
           {
            "colorbar": {
             "outlinewidth": 0,
             "ticks": ""
            },
            "colorscale": [
             [
              0,
              "#0d0887"
             ],
             [
              0.1111111111111111,
              "#46039f"
             ],
             [
              0.2222222222222222,
              "#7201a8"
             ],
             [
              0.3333333333333333,
              "#9c179e"
             ],
             [
              0.4444444444444444,
              "#bd3786"
             ],
             [
              0.5555555555555556,
              "#d8576b"
             ],
             [
              0.6666666666666666,
              "#ed7953"
             ],
             [
              0.7777777777777778,
              "#fb9f3a"
             ],
             [
              0.8888888888888888,
              "#fdca26"
             ],
             [
              1,
              "#f0f921"
             ]
            ],
            "type": "heatmapgl"
           }
          ],
          "histogram": [
           {
            "marker": {
             "pattern": {
              "fillmode": "overlay",
              "size": 10,
              "solidity": 0.2
             }
            },
            "type": "histogram"
           }
          ],
          "histogram2d": [
           {
            "colorbar": {
             "outlinewidth": 0,
             "ticks": ""
            },
            "colorscale": [
             [
              0,
              "#0d0887"
             ],
             [
              0.1111111111111111,
              "#46039f"
             ],
             [
              0.2222222222222222,
              "#7201a8"
             ],
             [
              0.3333333333333333,
              "#9c179e"
             ],
             [
              0.4444444444444444,
              "#bd3786"
             ],
             [
              0.5555555555555556,
              "#d8576b"
             ],
             [
              0.6666666666666666,
              "#ed7953"
             ],
             [
              0.7777777777777778,
              "#fb9f3a"
             ],
             [
              0.8888888888888888,
              "#fdca26"
             ],
             [
              1,
              "#f0f921"
             ]
            ],
            "type": "histogram2d"
           }
          ],
          "histogram2dcontour": [
           {
            "colorbar": {
             "outlinewidth": 0,
             "ticks": ""
            },
            "colorscale": [
             [
              0,
              "#0d0887"
             ],
             [
              0.1111111111111111,
              "#46039f"
             ],
             [
              0.2222222222222222,
              "#7201a8"
             ],
             [
              0.3333333333333333,
              "#9c179e"
             ],
             [
              0.4444444444444444,
              "#bd3786"
             ],
             [
              0.5555555555555556,
              "#d8576b"
             ],
             [
              0.6666666666666666,
              "#ed7953"
             ],
             [
              0.7777777777777778,
              "#fb9f3a"
             ],
             [
              0.8888888888888888,
              "#fdca26"
             ],
             [
              1,
              "#f0f921"
             ]
            ],
            "type": "histogram2dcontour"
           }
          ],
          "mesh3d": [
           {
            "colorbar": {
             "outlinewidth": 0,
             "ticks": ""
            },
            "type": "mesh3d"
           }
          ],
          "parcoords": [
           {
            "line": {
             "colorbar": {
              "outlinewidth": 0,
              "ticks": ""
             }
            },
            "type": "parcoords"
           }
          ],
          "pie": [
           {
            "automargin": true,
            "type": "pie"
           }
          ],
          "scatter": [
           {
            "fillpattern": {
             "fillmode": "overlay",
             "size": 10,
             "solidity": 0.2
            },
            "type": "scatter"
           }
          ],
          "scatter3d": [
           {
            "line": {
             "colorbar": {
              "outlinewidth": 0,
              "ticks": ""
             }
            },
            "marker": {
             "colorbar": {
              "outlinewidth": 0,
              "ticks": ""
             }
            },
            "type": "scatter3d"
           }
          ],
          "scattercarpet": [
           {
            "marker": {
             "colorbar": {
              "outlinewidth": 0,
              "ticks": ""
             }
            },
            "type": "scattercarpet"
           }
          ],
          "scattergeo": [
           {
            "marker": {
             "colorbar": {
              "outlinewidth": 0,
              "ticks": ""
             }
            },
            "type": "scattergeo"
           }
          ],
          "scattergl": [
           {
            "marker": {
             "colorbar": {
              "outlinewidth": 0,
              "ticks": ""
             }
            },
            "type": "scattergl"
           }
          ],
          "scattermapbox": [
           {
            "marker": {
             "colorbar": {
              "outlinewidth": 0,
              "ticks": ""
             }
            },
            "type": "scattermapbox"
           }
          ],
          "scatterpolar": [
           {
            "marker": {
             "colorbar": {
              "outlinewidth": 0,
              "ticks": ""
             }
            },
            "type": "scatterpolar"
           }
          ],
          "scatterpolargl": [
           {
            "marker": {
             "colorbar": {
              "outlinewidth": 0,
              "ticks": ""
             }
            },
            "type": "scatterpolargl"
           }
          ],
          "scatterternary": [
           {
            "marker": {
             "colorbar": {
              "outlinewidth": 0,
              "ticks": ""
             }
            },
            "type": "scatterternary"
           }
          ],
          "surface": [
           {
            "colorbar": {
             "outlinewidth": 0,
             "ticks": ""
            },
            "colorscale": [
             [
              0,
              "#0d0887"
             ],
             [
              0.1111111111111111,
              "#46039f"
             ],
             [
              0.2222222222222222,
              "#7201a8"
             ],
             [
              0.3333333333333333,
              "#9c179e"
             ],
             [
              0.4444444444444444,
              "#bd3786"
             ],
             [
              0.5555555555555556,
              "#d8576b"
             ],
             [
              0.6666666666666666,
              "#ed7953"
             ],
             [
              0.7777777777777778,
              "#fb9f3a"
             ],
             [
              0.8888888888888888,
              "#fdca26"
             ],
             [
              1,
              "#f0f921"
             ]
            ],
            "type": "surface"
           }
          ],
          "table": [
           {
            "cells": {
             "fill": {
              "color": "#EBF0F8"
             },
             "line": {
              "color": "white"
             }
            },
            "header": {
             "fill": {
              "color": "#C8D4E3"
             },
             "line": {
              "color": "white"
             }
            },
            "type": "table"
           }
          ]
         },
         "layout": {
          "annotationdefaults": {
           "arrowcolor": "#2a3f5f",
           "arrowhead": 0,
           "arrowwidth": 1
          },
          "autotypenumbers": "strict",
          "coloraxis": {
           "colorbar": {
            "outlinewidth": 0,
            "ticks": ""
           }
          },
          "colorscale": {
           "diverging": [
            [
             0,
             "#8e0152"
            ],
            [
             0.1,
             "#c51b7d"
            ],
            [
             0.2,
             "#de77ae"
            ],
            [
             0.3,
             "#f1b6da"
            ],
            [
             0.4,
             "#fde0ef"
            ],
            [
             0.5,
             "#f7f7f7"
            ],
            [
             0.6,
             "#e6f5d0"
            ],
            [
             0.7,
             "#b8e186"
            ],
            [
             0.8,
             "#7fbc41"
            ],
            [
             0.9,
             "#4d9221"
            ],
            [
             1,
             "#276419"
            ]
           ],
           "sequential": [
            [
             0,
             "#0d0887"
            ],
            [
             0.1111111111111111,
             "#46039f"
            ],
            [
             0.2222222222222222,
             "#7201a8"
            ],
            [
             0.3333333333333333,
             "#9c179e"
            ],
            [
             0.4444444444444444,
             "#bd3786"
            ],
            [
             0.5555555555555556,
             "#d8576b"
            ],
            [
             0.6666666666666666,
             "#ed7953"
            ],
            [
             0.7777777777777778,
             "#fb9f3a"
            ],
            [
             0.8888888888888888,
             "#fdca26"
            ],
            [
             1,
             "#f0f921"
            ]
           ],
           "sequentialminus": [
            [
             0,
             "#0d0887"
            ],
            [
             0.1111111111111111,
             "#46039f"
            ],
            [
             0.2222222222222222,
             "#7201a8"
            ],
            [
             0.3333333333333333,
             "#9c179e"
            ],
            [
             0.4444444444444444,
             "#bd3786"
            ],
            [
             0.5555555555555556,
             "#d8576b"
            ],
            [
             0.6666666666666666,
             "#ed7953"
            ],
            [
             0.7777777777777778,
             "#fb9f3a"
            ],
            [
             0.8888888888888888,
             "#fdca26"
            ],
            [
             1,
             "#f0f921"
            ]
           ]
          },
          "colorway": [
           "rgb(55, 126, 184)",
           "rgb(255, 127, 0)",
           "rgb(77, 175, 74)",
           "rgb(247, 129, 191)",
           "rgb(228, 26, 28)",
           "rgb(152, 78, 163)",
           "rgb(166, 86, 40)",
           "rgb(153, 153, 153)",
           "rgb(222, 222, 0)"
          ],
          "font": {
           "color": "#2a3f5f",
           "size": 19
          },
          "geo": {
           "bgcolor": "white",
           "lakecolor": "white",
           "landcolor": "#E5ECF6",
           "showlakes": true,
           "showland": true,
           "subunitcolor": "white"
          },
          "hoverlabel": {
           "align": "left"
          },
          "hovermode": "closest",
          "mapbox": {
           "style": "light"
          },
          "paper_bgcolor": "white",
          "plot_bgcolor": "#E5ECF6",
          "polar": {
           "angularaxis": {
            "gridcolor": "white",
            "linecolor": "white",
            "ticks": ""
           },
           "bgcolor": "#E5ECF6",
           "radialaxis": {
            "gridcolor": "white",
            "linecolor": "white",
            "ticks": ""
           }
          },
          "scene": {
           "xaxis": {
            "backgroundcolor": "#E5ECF6",
            "gridcolor": "white",
            "gridwidth": 2,
            "linecolor": "white",
            "showbackground": true,
            "ticks": "",
            "zerolinecolor": "white"
           },
           "yaxis": {
            "backgroundcolor": "#E5ECF6",
            "gridcolor": "white",
            "gridwidth": 2,
            "linecolor": "white",
            "showbackground": true,
            "ticks": "",
            "zerolinecolor": "white"
           },
           "zaxis": {
            "backgroundcolor": "#E5ECF6",
            "gridcolor": "white",
            "gridwidth": 2,
            "linecolor": "white",
            "showbackground": true,
            "ticks": "",
            "zerolinecolor": "white"
           }
          },
          "shapedefaults": {
           "line": {
            "color": "#2a3f5f"
           }
          },
          "ternary": {
           "aaxis": {
            "gridcolor": "white",
            "linecolor": "white",
            "ticks": ""
           },
           "baxis": {
            "gridcolor": "white",
            "linecolor": "white",
            "ticks": ""
           },
           "bgcolor": "#E5ECF6",
           "caxis": {
            "gridcolor": "white",
            "linecolor": "white",
            "ticks": ""
           }
          },
          "title": {
           "x": 0.05
          },
          "xaxis": {
           "automargin": true,
           "gridcolor": "white",
           "linecolor": "white",
           "ticks": "",
           "title": {
            "standoff": 15
           },
           "zerolinecolor": "white",
           "zerolinewidth": 2
          },
          "yaxis": {
           "automargin": true,
           "gridcolor": "white",
           "linecolor": "white",
           "ticks": "",
           "title": {
            "standoff": 15
           },
           "zerolinecolor": "white",
           "zerolinewidth": 2
          }
         }
        },
        "width": 600
       }
      }
     },
     "metadata": {},
     "output_type": "display_data"
    }
   ],
   "source": [
    "from auto_circuit.visualize import draw_seq_graph\n",
    "from auto_circuit.utils.tensor_ops import prune_scores_threshold\n",
    "fig = draw_seq_graph(\n",
    "    model=task.model,\n",
    "    prune_scores=attribution_scores,\n",
    "    score_threshold=prune_scores_threshold(attribution_scores, min_equiv),\n",
    "    show_all_seq_pos=False,\n",
    "    seq_labels=task.train_loader.seq_labels,\n",
    ")"
   ]
  },
  {
   "cell_type": "code",
   "execution_count": 55,
   "metadata": {},
   "outputs": [
    {
     "data": {
      "text/plain": [
       "[0,\n",
       " 10,\n",
       " 20,\n",
       " 30,\n",
       " 40,\n",
       " 50,\n",
       " 60,\n",
       " 70,\n",
       " 80,\n",
       " 90,\n",
       " 100,\n",
       " 110,\n",
       " 120,\n",
       " 130,\n",
       " 140,\n",
       " 150,\n",
       " 160,\n",
       " 170,\n",
       " 180,\n",
       " 190,\n",
       " 200,\n",
       " 210,\n",
       " 220,\n",
       " 230,\n",
       " 240,\n",
       " 250,\n",
       " 260,\n",
       " 270,\n",
       " 280,\n",
       " 290,\n",
       " 300,\n",
       " 310,\n",
       " 320,\n",
       " 330,\n",
       " 340,\n",
       " 350,\n",
       " 360,\n",
       " 370,\n",
       " 380,\n",
       " 390,\n",
       " 400,\n",
       " 410,\n",
       " 420,\n",
       " 430,\n",
       " 440,\n",
       " 450,\n",
       " 460,\n",
       " 470,\n",
       " 480,\n",
       " 490,\n",
       " 500,\n",
       " 510,\n",
       " 520,\n",
       " 530,\n",
       " 540,\n",
       " 550,\n",
       " 560,\n",
       " 570,\n",
       " 580,\n",
       " 590,\n",
       " 600,\n",
       " 610,\n",
       " 620,\n",
       " 630,\n",
       " 640,\n",
       " 650,\n",
       " 660,\n",
       " 670,\n",
       " 680,\n",
       " 690,\n",
       " 700,\n",
       " 710,\n",
       " 720,\n",
       " 730,\n",
       " 740,\n",
       " 750,\n",
       " 760,\n",
       " 770,\n",
       " 780,\n",
       " 790,\n",
       " 800,\n",
       " 810,\n",
       " 820,\n",
       " 830,\n",
       " 840,\n",
       " 850,\n",
       " 860,\n",
       " 870,\n",
       " 880,\n",
       " 890,\n",
       " 900,\n",
       " 910,\n",
       " 920,\n",
       " 930,\n",
       " 940,\n",
       " 950,\n",
       " 960,\n",
       " 970,\n",
       " 980,\n",
       " 990,\n",
       " 1000,\n",
       " 1010,\n",
       " 1020,\n",
       " 1030,\n",
       " 1040,\n",
       " 1050,\n",
       " 1060,\n",
       " 1070,\n",
       " 1080,\n",
       " 1090,\n",
       " 1100,\n",
       " 1110,\n",
       " 1120,\n",
       " 1130,\n",
       " 1140,\n",
       " 1150,\n",
       " 1160,\n",
       " 1170,\n",
       " 1180,\n",
       " 1190,\n",
       " 1200,\n",
       " 1210,\n",
       " 1220,\n",
       " 1230,\n",
       " 1240,\n",
       " 1250,\n",
       " 1260,\n",
       " 1270,\n",
       " 1280]"
      ]
     },
     "execution_count": 55,
     "metadata": {},
     "output_type": "execute_result"
    }
   ],
   "source": [
    "# compute faithfulness at every 10 edges \n",
    "edge_counts = [i for i in range(0, task.model.n_edges + 1, 10)]\n",
    "\n",
    "circuit_outs = run_circuits(\n",
    "    model=task.model, \n",
    "    dataloader=task.test_loader,\n",
    "    test_edge_counts=[edge_counts],\n",
    "    prune_scores=attribution_scores,\n",
    "    patch_type=PatchType.TREE_PATCH,\n",
    "    ablation_type=ablation_type,\n",
    "    reverse_clean_corrupt=False,\n",
    ")\n",
    "circuit_outs = dict(circuit_outs)\n",
    "# model out\n",
    "model_out: CircuitOutputs = {}\n",
    "for batch in task.test_loader:\n",
    "    model_out[batch.key] = task.model(batch.clean)[task.model.out_slice]\n",
    "# run statitiscal tests for each edge count\n",
    "test_results = {}\n",
    "for edge_count, circuit_out in circuit_outs.items():\n",
    "    num_ablated_C_gt_M, n = compute_num_C_gt_M(circuit_out, model_out, task.test_loader)\n",
    "    not_equiv, p_value = run_non_equiv_test(num_ablated_C_gt_M, n, alpha, epsilon)\n",
    "    test_results[edge_count] = (num_ablated_C_gt_M, n, not_equiv, p_value)\n"
   ]
  },
  {
   "cell_type": "markdown",
   "metadata": {},
   "source": [
    "# Minimality Test"
   ]
  },
  {
   "cell_type": "code",
   "execution_count": 10,
   "metadata": {},
   "outputs": [],
   "source": [
    "q_star = 0.9"
   ]
  },
  {
   "cell_type": "code",
   "execution_count": 12,
   "metadata": {},
   "outputs": [
    {
     "data": {
      "text/plain": [
       "[(SrcNode(name='Resid Start', module_name='blocks.0.hook_resid_pre', layer=0, head_idx=None, head_dim=None, weight='embed.W_E', weight_head_dim=None, src_idx=0),\n",
       "  DestNode(name='A0.7.K', module_name='blocks.0.hook_k_input', layer=1, head_idx=7, head_dim=2, weight='blocks.0.attn.W_K', weight_head_dim=0, min_src_idx=0)),\n",
       " ([SrcNode(name='A0.7', module_name='blocks.0.attn.hook_result', layer=1, head_idx=7, head_dim=2, weight='blocks.0.attn.W_O', weight_head_dim=0, src_idx=8)],\n",
       "  DestNode(name='A1.2.Q', module_name='blocks.1.hook_q_input', layer=2, head_idx=2, head_dim=2, weight='blocks.1.attn.W_Q', weight_head_dim=0, min_src_idx=0)),\n",
       " ([SrcNode(name='A1.2', module_name='blocks.1.attn.hook_result', layer=2, head_idx=2, head_dim=2, weight='blocks.1.attn.W_O', weight_head_dim=0, src_idx=11)],\n",
       "  DestNode(name='A2.6.V', module_name='blocks.2.hook_v_input', layer=3, head_idx=6, head_dim=2, weight='blocks.2.attn.W_V', weight_head_dim=0, min_src_idx=0)),\n",
       " ([SrcNode(name='A2.6', module_name='blocks.2.attn.hook_result', layer=3, head_idx=6, head_dim=2, weight='blocks.2.attn.W_O', weight_head_dim=0, src_idx=23)],\n",
       "  DestNode(name='A3.2.V', module_name='blocks.3.hook_v_input', layer=4, head_idx=2, head_dim=2, weight='blocks.3.attn.W_V', weight_head_dim=0, min_src_idx=0)),\n",
       " ([SrcNode(name='A3.2', module_name='blocks.3.attn.hook_result', layer=4, head_idx=2, head_dim=2, weight='blocks.3.attn.W_O', weight_head_dim=0, src_idx=27)],\n",
       "  DestNode(name='Resid End', module_name='blocks.3.hook_resid_post', layer=5, head_idx=None, head_dim=None, weight='unembed.W_U', weight_head_dim=None, min_src_idx=0))]"
      ]
     },
     "execution_count": 12,
     "metadata": {},
     "output_type": "execute_result"
    }
   ],
   "source": [
    "from itertools import product\n",
    "import random\n",
    "from auto_circuit.types import SrcNode, DestNode\n",
    "# contruct node dictionaries\n",
    "srcs_by_layer = {\n",
    "    layer: {\n",
    "        head_idx: [n for n in task.model.srcs if (n.layer == layer and n.head_idx == head_idx)]\n",
    "        for head_idx in range(task.model.cfg.n_heads)\n",
    "    } \n",
    "    for layer in range(1, task.model.cfg.n_layers+1)\n",
    "}\n",
    "dests_by_layer = {\n",
    "    layer: {\n",
    "        head_idx: {\n",
    "            n.module_name.split(\"_\")[1]: n \n",
    "            for n in task.model.dests if (n.layer == layer and n.head_idx == head_idx)\n",
    "        }\n",
    "        for head_idx in range(task.model.cfg.n_heads)\n",
    "    } \n",
    "    for layer in range(1, task.model.cfg.n_layers+1)\n",
    "}\n",
    "\n",
    "# enumerate all paths\n",
    "layer_dests = product([\"q\", \"k\", \"v\"], range(task.model.cfg.n_heads))\n",
    "layer_dests = list(layer_dests) + [(None, None)]\n",
    "paths = list(product(layer_dests, repeat=task.model.cfg.n_layers))\n",
    "\n",
    "\n",
    "def sample_path() -> list[tuple[SrcNode, DestNode]]:\n",
    "    # sample and contruct path\n",
    "    path_idx = random.choice(paths)\n",
    "    path = []\n",
    "    cur_src = next((n for n in task.model.srcs if n.layer == 0)) # Resid Start\n",
    "    for layer_idx, (attn_in, head_idx) in enumerate(path_idx):\n",
    "        if head_idx == None:\n",
    "            continue  \n",
    "        # get dest \n",
    "        dest = dests_by_layer[layer_idx+1][head_idx][attn_in]\n",
    "        # append to path \n",
    "        path.append((cur_src, dest))\n",
    "        # get next src \n",
    "        cur_src = srcs_by_layer[layer_idx+1][head_idx]\n",
    "    # add final dest\n",
    "    path.append((cur_src, next((n for n in task.model.dests if n.layer == task.model.cfg.n_layers+1)))) # Resid End\n",
    "    return path \n",
    "sample_path()\n"
   ]
  },
  {
   "cell_type": "code",
   "execution_count": 18,
   "metadata": {},
   "outputs": [
    {
     "data": {
      "text/plain": [
       "(tensor([1, 1, 2, 2, 2, 2]), tensor([2, 3, 0, 1, 2, 3]))"
      ]
     },
     "execution_count": 18,
     "metadata": {},
     "output_type": "execute_result"
    }
   ],
   "source": [
    "x = torch.arange(12).reshape(3, 4)\n",
    "mask = x > 5 \n",
    "\n",
    "torch.where(mask)"
   ]
  },
  {
   "cell_type": "code",
   "execution_count": 19,
   "metadata": {},
   "outputs": [
    {
     "data": {
      "text/plain": [
       "tensor([[1, 2],\n",
       "        [1, 3],\n",
       "        [2, 0],\n",
       "        [2, 1],\n",
       "        [2, 2],\n",
       "        [2, 3]])"
      ]
     },
     "execution_count": 19,
     "metadata": {},
     "output_type": "execute_result"
    }
   ],
   "source": [
    "torch.nonzero(mask)"
   ]
  },
  {
   "cell_type": "code",
   "execution_count": 21,
   "metadata": {},
   "outputs": [
    {
     "data": {
      "text/plain": [
       "[(SrcNode(name='Resid Start', module_name='blocks.0.hook_resid_pre', layer=0, head_idx=None, head_dim=None, weight='embed.W_E', weight_head_dim=None, src_idx=0),\n",
       "  DestNode(name='A0.7.V', module_name='blocks.0.hook_v_input', layer=1, head_idx=7, head_dim=2, weight='blocks.0.attn.W_V', weight_head_dim=0, min_src_idx=0)),\n",
       " ([SrcNode(name='A0.7', module_name='blocks.0.attn.hook_result', layer=1, head_idx=7, head_dim=2, weight='blocks.0.attn.W_O', weight_head_dim=0, src_idx=8)],\n",
       "  DestNode(name='A1.3.Q', module_name='blocks.1.hook_q_input', layer=2, head_idx=3, head_dim=2, weight='blocks.1.attn.W_Q', weight_head_dim=0, min_src_idx=0)),\n",
       " ([SrcNode(name='A1.3', module_name='blocks.1.attn.hook_result', layer=2, head_idx=3, head_dim=2, weight='blocks.1.attn.W_O', weight_head_dim=0, src_idx=12)],\n",
       "  DestNode(name='A2.7.Q', module_name='blocks.2.hook_q_input', layer=3, head_idx=7, head_dim=2, weight='blocks.2.attn.W_Q', weight_head_dim=0, min_src_idx=0)),\n",
       " ([SrcNode(name='A2.7', module_name='blocks.2.attn.hook_result', layer=3, head_idx=7, head_dim=2, weight='blocks.2.attn.W_O', weight_head_dim=0, src_idx=24)],\n",
       "  DestNode(name='A3.4.Q', module_name='blocks.3.hook_q_input', layer=4, head_idx=4, head_dim=2, weight='blocks.3.attn.W_Q', weight_head_dim=0, min_src_idx=0)),\n",
       " ([SrcNode(name='A3.4', module_name='blocks.3.attn.hook_result', layer=4, head_idx=4, head_dim=2, weight='blocks.3.attn.W_O', weight_head_dim=0, src_idx=29)],\n",
       "  DestNode(name='Resid End', module_name='blocks.3.hook_resid_post', layer=5, head_idx=None, head_dim=None, weight='unembed.W_U', weight_head_dim=None, min_src_idx=0))]"
      ]
     },
     "execution_count": 21,
     "metadata": {},
     "output_type": "execute_result"
    }
   ],
   "source": [
    "path = sample_path()\n",
    "path\n",
    "# hmm how does indexing with respect to head idx, q, k, v work?"
   ]
  },
  {
   "cell_type": "code",
   "execution_count": null,
   "metadata": {},
   "outputs": [],
   "source": [
    "# to iterate over edges, just get all the indices of the score masks where the value is > threshold \n",
    "edges: list[tuple[str, torch.Tensor]] = []\n",
    "threshold = prune_scores_threshold(attribution_scores, min_equiv)\n",
    "for dest_mod_name, scores in attribution_scores.items():\n",
    "    for src_idx in torch.nonzero(scores > threshold):\n",
    "        edges.append(dest_mod_name, src_idx)\n",
    "\n",
    "# compute circuits out with min_equiv\n",
    "circuit_out = run_circuits(\n",
    "    model=task.model, \n",
    "    dataloader=task.test_loader,\n",
    "    test_edge_counts=[min_equiv],\n",
    "    prune_scores=attribution_scores,\n",
    "    patch_type=PatchType.TREE_PATCH,\n",
    "    ablation_type=ablation_type,\n",
    "    reverse_clean_corrupt=False,\n",
    ")\n",
    "\n",
    "# iterate over edges starting from last \n",
    "for dest_mode_name, src_idx in edges:\n",
    "    # ablate edge \n",
    "    prune_scores_ablated = attribution_scores.copy()\n",
    "    prune_scores_ablated[dest_mod_name][src_idx] = 0.0\n",
    "    # compute circuit out\n",
    "    circuit_out_ablated = run_circuits(\n",
    "        model=task.model, \n",
    "        dataloader=task.test_loader,\n",
    "        test_edge_counts=[min_equiv],\n",
    "        prune_scores=prune_scores_ablated,\n",
    "        patch_type=PatchType.TREE_PATCH,\n",
    "        ablation_type=ablation_type,\n",
    "        reverse_clean_corrupt=False,\n",
    "    )\n",
    "    # sample path \n",
    "    path = sample_path()\n",
    "    # set score to inf if path in edge\n",
    "    prune_scores_inflated = attribution_scores.copy()\n",
    "    for src, dest in path:\n",
    "        prune_scores_inflated[dest.module_name][src_idx] = float(\"inf\")\n",
    "    # run circuit \n",
    "    # randomly sample edge in path \n",
    "    # update score mask\n",
    "    # run circuit \n",
    "\n",
    "    # iterate over dataloader \n",
    "        # compute frequency diff between full circuit and ablated edge is greater than inflated circuit - ablated circuit\n",
    "\n",
    "    # compute p value by binomial test\n",
    "    # p_value = binom.cdf(k, n, q_star) (one sided)\n",
    "    # if p_value < alpha, return edge count"
   ]
  },
  {
   "cell_type": "code",
   "execution_count": 134,
   "metadata": {},
   "outputs": [
    {
     "data": {
      "text/plain": [
       "(1, 5)"
      ]
     },
     "execution_count": 134,
     "metadata": {},
     "output_type": "execute_result"
    }
   ],
   "source": [
    "# get ordered list of src, dest tuples for the same nodes (e.g. src and test for A0.4 (start and stop nodes will have None)\n",
    "# starting with last list (dest stop node), sample whether to incldue the previous layer, and if so which node (1/n layers, and uniform over nodes)\n",
    "# keep sampling until arriving at root\n",
    "\n",
    "# use dests to map to dest wrappers, src_idxs to map to indices in dest wrappers\n",
    "\n",
    "# create dest_wrapper mask \n",
    "# take or with threshold mask\n",
    "\n",
    "# now how to patch with these extra edges\n",
    "# I guess just set the prune scoresthe patch mask before\n"
   ]
  }
 ],
 "metadata": {
  "kernelspec": {
   "display_name": "elk-experiments-AZ2LBS3Q-py3.10",
   "language": "python",
   "name": "python3"
  },
  "language_info": {
   "codemirror_mode": {
    "name": "ipython",
    "version": 3
   },
   "file_extension": ".py",
   "mimetype": "text/x-python",
   "name": "python",
   "nbconvert_exporter": "python",
   "pygments_lexer": "ipython3",
   "version": "3.10.14"
  }
 },
 "nbformat": 4,
 "nbformat_minor": 2
}
