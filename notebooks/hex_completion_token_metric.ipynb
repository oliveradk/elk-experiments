{
 "cells": [
  {
   "cell_type": "code",
   "execution_count": null,
   "metadata": {},
   "outputs": [],
   "source": [
    "import os\n",
    "from pathlib import Path\n",
    "from IPython.display import Image, display\n",
    "os.chdir(\"/Users/oliverdaniels-koch/projects/elk-experiments\")\n",
    "out_dir = Path(\"output\")\n",
    "device = \"mps\""
   ]
  },
  {
   "cell_type": "code",
   "execution_count": null,
   "metadata": {},
   "outputs": [],
   "source": [
    "# train detector\n",
    "import os\n",
    "from functools import partial\n",
    "from pathlib import Path\n",
    "import torch\n",
    "from cupbearer import tasks, detectors, scripts, utils\n",
    "from cupbearer.detectors import ActivationCache\n",
    "from cupbearer.detectors.statistical import MahalanobisDetector\n",
    "from elk_experiments.utils import train_detector_cache\n",
    "from elk_experiments.tiny_natural_mechanisms_utils import get_task_subset, task_data_to_dicts\n",
    "from elk_experiments.eap_detector import EAPDetector, layer_edge_filter"
   ]
  },
  {
   "cell_type": "code",
   "execution_count": null,
   "metadata": {},
   "outputs": [],
   "source": [
    "class EAPMahalanobisDetector(EAPDetector, MahalanobisDetector):\n",
    "    pass"
   ]
  },
  {
   "cell_type": "code",
   "execution_count": null,
   "metadata": {},
   "outputs": [
    {
     "name": "stdout",
     "output_type": "stream",
     "text": [
      "Loaded pretrained model attn-only-1l into HookedTransformer\n",
      "Moving model to device:  mps\n"
     ]
    },
    {
     "name": "stderr",
     "output_type": "stream",
     "text": [
      "/Users/oliverdaniels-koch/Library/Caches/pypoetry/virtualenvs/elk-experiments-AZ2LBS3Q-py3.10/lib/python3.10/site-packages/huggingface_hub/file_download.py:1132: FutureWarning: `resume_download` is deprecated and will be removed in version 1.0.0. Downloads always resume when possible. If you want to force a new download, use `force_download=True`.\n",
      "  warnings.warn(\n",
      "Special tokens have been added in the vocabulary, make sure the associated word embeddings are fine-tuned or trained.\n"
     ]
    },
    {
     "name": "stdout",
     "output_type": "stream",
     "text": [
      "Loaded pretrained model pythia-70m into HookedTransformer\n",
      "Moving model to device:  mps\n"
     ]
    }
   ],
   "source": [
    "task = tasks.tiny_natural_mechanisms(\"hex\", \"mps\", \"pythia-70m\")\n",
    "small_task = get_task_subset(task, 2048, 1024, 1024)\n",
    "small_task = task_data_to_dicts(small_task)"
   ]
  },
  {
   "cell_type": "code",
   "execution_count": null,
   "metadata": {},
   "outputs": [],
   "source": [
    "# TODO: look back at edge attribution example\n",
    "task.model.set_use_split_qkv_input(True)\n",
    "task.model.set_use_attn_result(True)\n",
    "task.model.set_use_hook_mlp_in(True)"
   ]
  },
  {
   "cell_type": "code",
   "execution_count": null,
   "metadata": {},
   "outputs": [],
   "source": [
    "# use mean probability over effect tokens as metric \n",
    "def effect_prob_func(logits, inputs):\n",
    "    assert logits.ndim == 3\n",
    "    assert inputs[\"completion_token\"].shape[0] == logits.shape[0]\n",
    "    # Sum over vocab and batch dim (for now we're just computing attribution values, we'll deal with per data instance later)\n",
    "    probs = logits[:, -1, :].softmax(dim=-1)\n",
    "    out = probs[:, inputs[\"completion_token\"]].mean(dim=-1).mean() # mean over effect tokens, mean over batch\n",
    "    # out = logits[:, -1, effect_tokens].mean()\n",
    "    return out"
   ]
  },
  {
   "cell_type": "code",
   "execution_count": null,
   "metadata": {},
   "outputs": [],
   "source": [
    "detector_dir = out_dir / \"pythia-70m_hex_completion_token\""
   ]
  },
  {
   "cell_type": "code",
   "execution_count": null,
   "metadata": {},
   "outputs": [],
   "source": [
    "detector = EAPMahalanobisDetector(\n",
    "    effect_prob_func=effect_prob_func,\n",
    "    upstream_nodes=[\"head\"],\n",
    "    downstream_nodes=[\"head\"],\n",
    "    edge_filter=lambda x: True,\n",
    "    input_filter = lambda x: x[\"prefix_tokens\"],\n",
    "    layer_aggregation=\"mean\"\n",
    ")"
   ]
  },
  {
   "cell_type": "code",
   "execution_count": null,
   "metadata": {},
   "outputs": [
    {
     "name": "stderr",
     "output_type": "stream",
     "text": [
      "/Users/oliverdaniels-koch/Library/Caches/pypoetry/virtualenvs/elk-experiments-AZ2LBS3Q-py3.10/lib/python3.10/site-packages/torch/nn/modules/module.py:1344: UserWarning: Using a non-full backward hook when the forward contains multiple autograd Nodes is deprecated and will be removed in future versions. This hook will be missing some grad_input. Please use register_full_backward_hook to get the documented behavior.\n",
      "  warnings.warn(\"Using a non-full backward hook when the forward contains multiple autograd Nodes \"\n",
      "\u001b[32m2024-07-02 15:17:39.523\u001b[0m | \u001b[34m\u001b[1mDEBUG   \u001b[0m | \u001b[36mcupbearer.detectors.statistical.statistical\u001b[0m:\u001b[36minit_variables\u001b[0m:\u001b[36m83\u001b[0m - \u001b[34m\u001b[1mActivation sizes: \n",
      "eap_scores: torch.Size([4032])\u001b[0m\n",
      "huggingface/tokenizers: The current process just got forked, after parallelism has already been used. Disabling parallelism to avoid deadlocks...\n",
      "To disable this warning, you can either:\n",
      "\t- Avoid using `tokenizers` before the fork if possible\n",
      "\t- Explicitly set the environment variable TOKENIZERS_PARALLELISM=(true | false)\n",
      "100%|██████████| 32/32 [01:52<00:00,  3.53s/it]\n",
      "\u001b[32m2024-07-02 15:19:44.689\u001b[0m | \u001b[1mINFO    \u001b[0m | \u001b[36mcupbearer.detectors.anomaly_detector\u001b[0m:\u001b[36msave_weights\u001b[0m:\u001b[36m257\u001b[0m - \u001b[1mSaving detector to output/pythia-70m_hex_completion_token/detector\u001b[0m\n"
     ]
    },
    {
     "data": {
      "application/vnd.jupyter.widget-view+json": {
       "model_id": "a123b150232c4915bd67b8b18f2fd52d",
       "version_major": 2,
       "version_minor": 0
      },
      "text/plain": [
       "Evaluating:   0%|          | 0/32 [00:00<?, ?it/s]"
      ]
     },
     "metadata": {},
     "output_type": "display_data"
    },
    {
     "name": "stderr",
     "output_type": "stream",
     "text": [
      "\u001b[32m2024-07-02 15:21:42.895\u001b[0m | \u001b[1mINFO    \u001b[0m | \u001b[36mcupbearer.detectors.anomaly_detector\u001b[0m:\u001b[36meval\u001b[0m:\u001b[36m152\u001b[0m - \u001b[1mAUC_ROC (all): 0.5879\u001b[0m\n",
      "\u001b[32m2024-07-02 15:21:42.896\u001b[0m | \u001b[1mINFO    \u001b[0m | \u001b[36mcupbearer.detectors.anomaly_detector\u001b[0m:\u001b[36meval\u001b[0m:\u001b[36m153\u001b[0m - \u001b[1mAP (all): 0.5750\u001b[0m\n"
     ]
    },
    {
     "data": {
      "text/plain": [
       "(defaultdict(dict,\n",
       "             {'all': {'AUC_ROC': 0.5878582000732422,\n",
       "               'AP': 0.5750469362797803}}),\n",
       " {'all': <Figure size 640x480 with 1 Axes>})"
      ]
     },
     "execution_count": null,
     "metadata": {},
     "output_type": "execute_result"
    },
    {
     "data": {
      "image/png": "[encoded data removed]",
      "text/plain": [
       "<Figure size 640x480 with 1 Axes>"
      ]
     },
     "metadata": {},
     "output_type": "display_data"
    }
   ],
   "source": [
    "train_detector_cache(\n",
    "    detector_dir, \n",
    "    detector, \n",
    "    small_task, \n",
    "    batch_size=64, \n",
    "    eval_batch_size=64, \n",
    "    cache=None, \n",
    "    cache_path=None, \n",
    "    overwrite=True\n",
    ")"
   ]
  }
 ],
 "metadata": {
  "kernelspec": {
   "display_name": "elk-experiments-AZ2LBS3Q-py3.10",
   "language": "python",
   "name": "python3"
  },
  "language_info": {
   "codemirror_mode": {
    "name": "ipython",
    "version": 3
   },
   "file_extension": ".py",
   "mimetype": "text/x-python",
   "name": "python",
   "nbconvert_exporter": "python",
   "pygments_lexer": "ipython3"
  }
 },
 "nbformat": 4,
 "nbformat_minor": 2
}
