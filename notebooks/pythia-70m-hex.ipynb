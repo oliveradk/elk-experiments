{
 "cells": [
  {
   "cell_type": "code",
   "execution_count": 1,
   "metadata": {},
   "outputs": [],
   "source": [
    "import os \n",
    "# set environment variable PYTORCH_ENABLE_MPS_FALLBACK=1\n",
    "os.environ['PYTORCH_ENABLE_MPS_FALLBACK'] = '1'"
   ]
  },
  {
   "cell_type": "code",
   "execution_count": 2,
   "metadata": {},
   "outputs": [],
   "source": [
    "out_dir = \"../output\""
   ]
  },
  {
   "cell_type": "code",
   "execution_count": 3,
   "metadata": {},
   "outputs": [],
   "source": [
    "from functools import partial\n",
    "from tqdm import tqdm\n",
    "import torch \n",
    "import numpy as np\n",
    "\n",
    "import transformer_lens\n",
    "\n",
    "from hex_nn.datasets import get_token_dataset\n",
    "from hex_nn.masking.behaviors import registry as behavior_registry\n",
    "from hex_nn.masking.triggers import registry as trigger_registry\n",
    "from hex_nn.masking.distinctions import get_behavior_examples\n",
    "from hex_nn.datasets import cache_json\n",
    "\n",
    "from cupbearer import tasks, scripts, detectors\n",
    "from cupbearer.tasks.tiny_natural_mechanisms import TinyNaturalMechanismsDataset\n"
   ]
  },
  {
   "cell_type": "markdown",
   "metadata": {},
   "source": [
    "# Hex Dataset with Pythia-70m tokenizer"
   ]
  },
  {
   "cell_type": "markdown",
   "metadata": {},
   "source": [
    "The hex dataset collects 16 token examples where, on the trusted set, the example ends in hexidecimal characters, and on the untrusted set, there are anomolous examples which end in alphanumeric preceeded by a '#' (i.e. a hex color)\n",
    "\n",
    "In the original dataset, they train a \"clean model\" which never sees hex colors, and use the clean model to determine whether hexidecimal prediction is \"caused\" by induction like mechanisms or the hex color\n",
    "\n",
    "However, we can probably get away with discarding the clean model and just treating all hex colors as anomalous (if that's too difficult , we can remove all instances where there are multiple triggers, i.e. multiple hex colors)\n",
    "\n",
    "\"trigger\" is any hexidecimal character following a '#' in the same string\n",
    "\n",
    "\"behavior\" is any hexidecimal character"
   ]
  },
  {
   "cell_type": "code",
   "execution_count": 4,
   "metadata": {},
   "outputs": [
    {
     "name": "stderr",
     "output_type": "stream",
     "text": [
      "/Users/oliverdaniels-koch/Library/Caches/pypoetry/virtualenvs/elk-experiments-AZ2LBS3Q-py3.10/lib/python3.10/site-packages/huggingface_hub/file_download.py:1132: FutureWarning: `resume_download` is deprecated and will be removed in version 1.0.0. Downloads always resume when possible. If you want to force a new download, use `force_download=True`.\n",
      "  warnings.warn(\n",
      "Special tokens have been added in the vocabulary, make sure the associated word embeddings are fine-tuned or trained.\n"
     ]
    },
    {
     "name": "stdout",
     "output_type": "stream",
     "text": [
      "Loaded pretrained model pythia-70m into HookedTransformer\n"
     ]
    }
   ],
   "source": [
    "# download pythia-70m from transformer lens\n",
    "model = transformer_lens.HookedTransformer.from_pretrained(\"pythia-70m\")"
   ]
  },
  {
   "cell_type": "code",
   "execution_count": 5,
   "metadata": {},
   "outputs": [],
   "source": [
    "@cache_json(\"distinctions/{behavior_name}_c4_{c4_n_items}_code_{code_n_items}.json\")\n",
    "def get_distinctions_dataset(\n",
    "    behavior_name, tokenizer, *, c4_n_items=7 * 2**16, code_n_items=2**16\n",
    "):\n",
    "    c4_token_dataset = get_token_dataset(\n",
    "        \"c4\", tokenizer, split=\"train_rev\", n_items=c4_n_items\n",
    "    )\n",
    "    code_token_dataset = get_token_dataset(\n",
    "        \"code\", tokenizer, split=\"train_rev\", n_items=code_n_items\n",
    "    )\n",
    "    token_dataset = c4_token_dataset + code_token_dataset\n",
    "    behavior_masker = behavior_registry[behavior_name](tokenizer)\n",
    "    trigger_masker = trigger_registry[behavior_name](tokenizer)\n",
    "    examples = get_behavior_examples(token_dataset, behavior_masker, trigger_masker)\n",
    "    # models = {\n",
    "    #     \"main\": Transformer.from_pretrained(MAIN_MODEL_PATH),\n",
    "    #     \"clean\": Transformer.from_pretrained(CLEAN_MODEL_PATHS[behavior_name]),\n",
    "    # }\n",
    "    # for model_name, model in models.items():\n",
    "    #     if th.cuda.is_available():\n",
    "    #         model = model.to(\"cuda\")\n",
    "    # TODO: track probaibility of behavior with model (no clean model)\n",
    "    # TODO: use clean model and main model to filter examples, but still return tokens for original model\n",
    "    # TODO: use clean and main model to \n",
    "    #     examples = add_probs(\n",
    "    #         examples,\n",
    "    #         model,\n",
    "    #         behavior_masker.effect_tokens,\n",
    "    #         input_name=\"prefix\",\n",
    "    #         model_name=model_name,\n",
    "    #     )\n",
    "    return examples"
   ]
  },
  {
   "cell_type": "code",
   "execution_count": 6,
   "metadata": {},
   "outputs": [],
   "source": [
    "@cache_json(\"distinctions/{behavior_name}_task.json\")\n",
    "def get_distinctions_task(\n",
    "    behavior_name, tokenizer, *, n_train=2**14, n_anomalous=2**10, c4_n_items=7 * 2**16, \n",
    "    code_n_items=2**16\n",
    "):\n",
    "    examples = get_distinctions_dataset(behavior_name, tokenizer, c4_n_items=c4_n_items, code_n_items=code_n_items)\n",
    "    # for example in examples:\n",
    "    #     example[\"logratio\"] = np.log(\n",
    "    #         example[\"main_probs\"][-1] / example[\"clean_probs\"][-1]\n",
    "    #     )\n",
    "    # logratios = [\n",
    "    #     example[\"logratio\"] for example in examples if not example[\"triggered\"]\n",
    "    # ]\n",
    "    # lower_logratio = np.percentile(logratios, 1)\n",
    "    # upper_logratio = np.percentile(logratios, 99)\n",
    "    non_anomalous_examples = [\n",
    "        example\n",
    "        for example in examples\n",
    "        if not example[\"triggered\"]\n",
    "        # and example[\"logratio\"] >= lower_logratio\n",
    "        # and example[\"logratio\"] <= upper_logratio\n",
    "    ]\n",
    "    anomalous_examples = [\n",
    "        example\n",
    "        for example in examples\n",
    "        if example[\"triggered\"] #and example[\"logratio\"] > upper_logratio\n",
    "    ]\n",
    "    assert len(non_anomalous_examples) >= n_train + n_anomalous\n",
    "    assert len(anomalous_examples) >= n_anomalous\n",
    "\n",
    "    def to_task_example(example):\n",
    "        return {\n",
    "            \"prefix_tokens\": example[\"prefix_tokens\"],\n",
    "            \"completion_token\": example[\"completion_token\"],\n",
    "            # \"effect_prob\": example[\"main_probs\"][-1],\n",
    "            # \"clean_effect_prob\": example[\"clean_probs\"][-1],\n",
    "        }\n",
    "\n",
    "    train_examples = [\n",
    "        to_task_example(example) for example in non_anomalous_examples[:n_train]\n",
    "    ]\n",
    "    test_non_anomalous_examples = [\n",
    "        to_task_example(example)\n",
    "        for example in non_anomalous_examples[n_train : n_train + n_anomalous]\n",
    "    ]\n",
    "    test_anomalous_examples = [\n",
    "        to_task_example(example) for example in anomalous_examples[:n_anomalous]\n",
    "    ]\n",
    "    behavior_masker = behavior_registry[behavior_name](tokenizer)\n",
    "    return {\n",
    "        \"train\": train_examples,\n",
    "        \"test_non_anomalous\": test_non_anomalous_examples,\n",
    "        \"test_anomalous\": test_anomalous_examples,\n",
    "        \"cause_tokens\": sorted(behavior_masker.cause_tokens),\n",
    "        \"effect_tokens\": sorted(behavior_masker.effect_tokens),\n",
    "    }"
   ]
  },
  {
   "cell_type": "code",
   "execution_count": 7,
   "metadata": {},
   "outputs": [],
   "source": [
    "c4_n_items=7 * 2**16\n",
    "code_n_items=2**16\n",
    "# c4_n_items = 2**16\n",
    "# code_n_items = 2**16\n",
    "n_train=2**14 \n",
    "n_anomalous=2**10\n",
    "# n_train=2**8\n",
    "# n_anomalous=2**5\n",
    "behavior_name = \"hex\"\n",
    "tokenizer = model.tokenizer"
   ]
  },
  {
   "cell_type": "code",
   "execution_count": 8,
   "metadata": {},
   "outputs": [],
   "source": [
    "task = get_distinctions_task(behavior_name, tokenizer, n_train=n_train, n_anomalous=n_anomalous, c4_n_items=c4_n_items, code_n_items=code_n_items)"
   ]
  },
  {
   "cell_type": "code",
   "execution_count": 9,
   "metadata": {},
   "outputs": [
    {
     "data": {
      "text/plain": [
       "dict_keys(['train', 'test_non_anomalous', 'test_anomalous', 'cause_tokens', 'effect_tokens'])"
      ]
     },
     "execution_count": 9,
     "metadata": {},
     "output_type": "execute_result"
    }
   ],
   "source": [
    "task.keys()"
   ]
  },
  {
   "cell_type": "code",
   "execution_count": 10,
   "metadata": {},
   "outputs": [
    {
     "data": {
      "text/plain": [
       "(16384, 1024)"
      ]
     },
     "execution_count": 10,
     "metadata": {},
     "output_type": "execute_result"
    }
   ],
   "source": [
    "len(task[\"train\"]), len(task[\"test_anomalous\"])"
   ]
  },
  {
   "cell_type": "code",
   "execution_count": 11,
   "metadata": {},
   "outputs": [
    {
     "data": {
      "text/plain": [
       "'0123456789abcdef'"
      ]
     },
     "execution_count": 11,
     "metadata": {},
     "output_type": "execute_result"
    }
   ],
   "source": [
    "hex_chars = \"\".join(f\"{i:x}\" for i in range(16))\n",
    "hex_chars"
   ]
  },
  {
   "cell_type": "code",
   "execution_count": 12,
   "metadata": {},
   "outputs": [],
   "source": [
    "for cause_token in task[\"cause_tokens\"]:\n",
    "    out = tokenizer.decode([cause_token])\n",
    "    assert all([c in hex_chars for c in out if c != \" \"])"
   ]
  },
  {
   "cell_type": "code",
   "execution_count": 13,
   "metadata": {},
   "outputs": [],
   "source": [
    "for effect_token in task[\"effect_tokens\"]:\n",
    "    out = tokenizer.decode([effect_token])\n",
    "    assert all([c in hex_chars for c in out if c != \" \"])"
   ]
  },
  {
   "cell_type": "markdown",
   "metadata": {},
   "source": [
    "# Construct Cupbearer Task"
   ]
  },
  {
   "cell_type": "code",
   "execution_count": 14,
   "metadata": {},
   "outputs": [],
   "source": [
    "train_data = TinyNaturalMechanismsDataset(task[\"train\"])\n",
    "normal_test_data = TinyNaturalMechanismsDataset(task[\"test_non_anomalous\"])\n",
    "anomalous_test_data = TinyNaturalMechanismsDataset(task[\"test_anomalous\"])\n",
    "\n",
    "cp_task = tasks.Task.from_separate_data(\n",
    "    model=model, \n",
    "    trusted_data=train_data,\n",
    "    clean_test_data=normal_test_data,\n",
    "    anomalous_test_data=anomalous_test_data,\n",
    ")"
   ]
  },
  {
   "cell_type": "code",
   "execution_count": 15,
   "metadata": {},
   "outputs": [],
   "source": [
    "# run malanabois on final layer final token\n",
    "def get_activation_at_last_token(\n",
    "    activation: torch.Tensor, inputs: list[list[int]], name: str\n",
    "):\n",
    "    if activation.ndim == 3:\n",
    "        # Residual stream or equivalent, shape is (batch, seq, hidden)\n",
    "        return activation[:, -1, :]\n",
    "    elif activation.ndim == 4 and activation.shape[-1] == activation.shape[-2]:\n",
    "        # Attention, shape is (batch, num_heads, query, key)\n",
    "        # TODO: this could also be Q/K/V if n_heads happens to be head_dim\n",
    "        return activation[:, :, -1, :].reshape(activation.shape[0], -1)\n",
    "    elif activation.ndim == 4:\n",
    "        # Query/key/value, shape is (batch, seq, num_heads, hidden)\n",
    "        return activation[:, -1, :, :].reshape(activation.shape[0], -1)\n",
    "    else:\n",
    "        raise ValueError(f\"Unexpected activation shape: {activation.shape}\")"
   ]
  },
  {
   "cell_type": "code",
   "execution_count": 16,
   "metadata": {},
   "outputs": [
    {
     "name": "stdout",
     "output_type": "stream",
     "text": [
      "\n",
      "embed\n",
      "hook_embed\n",
      "blocks\n",
      "blocks.0\n",
      "blocks.0.ln1\n",
      "blocks.0.ln1.hook_scale\n",
      "blocks.0.ln1.hook_normalized\n",
      "blocks.0.ln2\n",
      "blocks.0.ln2.hook_scale\n",
      "blocks.0.ln2.hook_normalized\n",
      "blocks.0.attn\n",
      "blocks.0.attn.hook_k\n",
      "blocks.0.attn.hook_q\n",
      "blocks.0.attn.hook_v\n",
      "blocks.0.attn.hook_z\n",
      "blocks.0.attn.hook_attn_scores\n",
      "blocks.0.attn.hook_pattern\n",
      "blocks.0.attn.hook_result\n",
      "blocks.0.attn.hook_rot_k\n",
      "blocks.0.attn.hook_rot_q\n",
      "blocks.0.mlp\n",
      "blocks.0.mlp.hook_pre\n",
      "blocks.0.mlp.hook_post\n",
      "blocks.0.hook_attn_in\n",
      "blocks.0.hook_q_input\n",
      "blocks.0.hook_k_input\n",
      "blocks.0.hook_v_input\n",
      "blocks.0.hook_mlp_in\n",
      "blocks.0.hook_attn_out\n",
      "blocks.0.hook_mlp_out\n",
      "blocks.0.hook_resid_pre\n",
      "blocks.0.hook_resid_post\n",
      "blocks.1\n",
      "blocks.1.ln1\n",
      "blocks.1.ln1.hook_scale\n",
      "blocks.1.ln1.hook_normalized\n",
      "blocks.1.ln2\n",
      "blocks.1.ln2.hook_scale\n",
      "blocks.1.ln2.hook_normalized\n",
      "blocks.1.attn\n",
      "blocks.1.attn.hook_k\n",
      "blocks.1.attn.hook_q\n",
      "blocks.1.attn.hook_v\n",
      "blocks.1.attn.hook_z\n",
      "blocks.1.attn.hook_attn_scores\n",
      "blocks.1.attn.hook_pattern\n",
      "blocks.1.attn.hook_result\n",
      "blocks.1.attn.hook_rot_k\n",
      "blocks.1.attn.hook_rot_q\n",
      "blocks.1.mlp\n",
      "blocks.1.mlp.hook_pre\n",
      "blocks.1.mlp.hook_post\n",
      "blocks.1.hook_attn_in\n",
      "blocks.1.hook_q_input\n",
      "blocks.1.hook_k_input\n",
      "blocks.1.hook_v_input\n",
      "blocks.1.hook_mlp_in\n",
      "blocks.1.hook_attn_out\n",
      "blocks.1.hook_mlp_out\n",
      "blocks.1.hook_resid_pre\n",
      "blocks.1.hook_resid_post\n",
      "blocks.2\n",
      "blocks.2.ln1\n",
      "blocks.2.ln1.hook_scale\n",
      "blocks.2.ln1.hook_normalized\n",
      "blocks.2.ln2\n",
      "blocks.2.ln2.hook_scale\n",
      "blocks.2.ln2.hook_normalized\n",
      "blocks.2.attn\n",
      "blocks.2.attn.hook_k\n",
      "blocks.2.attn.hook_q\n",
      "blocks.2.attn.hook_v\n",
      "blocks.2.attn.hook_z\n",
      "blocks.2.attn.hook_attn_scores\n",
      "blocks.2.attn.hook_pattern\n",
      "blocks.2.attn.hook_result\n",
      "blocks.2.attn.hook_rot_k\n",
      "blocks.2.attn.hook_rot_q\n",
      "blocks.2.mlp\n",
      "blocks.2.mlp.hook_pre\n",
      "blocks.2.mlp.hook_post\n",
      "blocks.2.hook_attn_in\n",
      "blocks.2.hook_q_input\n",
      "blocks.2.hook_k_input\n",
      "blocks.2.hook_v_input\n",
      "blocks.2.hook_mlp_in\n",
      "blocks.2.hook_attn_out\n",
      "blocks.2.hook_mlp_out\n",
      "blocks.2.hook_resid_pre\n",
      "blocks.2.hook_resid_post\n",
      "blocks.3\n",
      "blocks.3.ln1\n",
      "blocks.3.ln1.hook_scale\n",
      "blocks.3.ln1.hook_normalized\n",
      "blocks.3.ln2\n",
      "blocks.3.ln2.hook_scale\n",
      "blocks.3.ln2.hook_normalized\n",
      "blocks.3.attn\n",
      "blocks.3.attn.hook_k\n",
      "blocks.3.attn.hook_q\n",
      "blocks.3.attn.hook_v\n",
      "blocks.3.attn.hook_z\n",
      "blocks.3.attn.hook_attn_scores\n",
      "blocks.3.attn.hook_pattern\n",
      "blocks.3.attn.hook_result\n",
      "blocks.3.attn.hook_rot_k\n",
      "blocks.3.attn.hook_rot_q\n",
      "blocks.3.mlp\n",
      "blocks.3.mlp.hook_pre\n",
      "blocks.3.mlp.hook_post\n",
      "blocks.3.hook_attn_in\n",
      "blocks.3.hook_q_input\n",
      "blocks.3.hook_k_input\n",
      "blocks.3.hook_v_input\n",
      "blocks.3.hook_mlp_in\n",
      "blocks.3.hook_attn_out\n",
      "blocks.3.hook_mlp_out\n",
      "blocks.3.hook_resid_pre\n",
      "blocks.3.hook_resid_post\n",
      "blocks.4\n",
      "blocks.4.ln1\n",
      "blocks.4.ln1.hook_scale\n",
      "blocks.4.ln1.hook_normalized\n",
      "blocks.4.ln2\n",
      "blocks.4.ln2.hook_scale\n",
      "blocks.4.ln2.hook_normalized\n",
      "blocks.4.attn\n",
      "blocks.4.attn.hook_k\n",
      "blocks.4.attn.hook_q\n",
      "blocks.4.attn.hook_v\n",
      "blocks.4.attn.hook_z\n",
      "blocks.4.attn.hook_attn_scores\n",
      "blocks.4.attn.hook_pattern\n",
      "blocks.4.attn.hook_result\n",
      "blocks.4.attn.hook_rot_k\n",
      "blocks.4.attn.hook_rot_q\n",
      "blocks.4.mlp\n",
      "blocks.4.mlp.hook_pre\n",
      "blocks.4.mlp.hook_post\n",
      "blocks.4.hook_attn_in\n",
      "blocks.4.hook_q_input\n",
      "blocks.4.hook_k_input\n",
      "blocks.4.hook_v_input\n",
      "blocks.4.hook_mlp_in\n",
      "blocks.4.hook_attn_out\n",
      "blocks.4.hook_mlp_out\n",
      "blocks.4.hook_resid_pre\n",
      "blocks.4.hook_resid_post\n",
      "blocks.5\n",
      "blocks.5.ln1\n",
      "blocks.5.ln1.hook_scale\n",
      "blocks.5.ln1.hook_normalized\n",
      "blocks.5.ln2\n",
      "blocks.5.ln2.hook_scale\n",
      "blocks.5.ln2.hook_normalized\n",
      "blocks.5.attn\n",
      "blocks.5.attn.hook_k\n",
      "blocks.5.attn.hook_q\n",
      "blocks.5.attn.hook_v\n",
      "blocks.5.attn.hook_z\n",
      "blocks.5.attn.hook_attn_scores\n",
      "blocks.5.attn.hook_pattern\n",
      "blocks.5.attn.hook_result\n",
      "blocks.5.attn.hook_rot_k\n",
      "blocks.5.attn.hook_rot_q\n",
      "blocks.5.mlp\n",
      "blocks.5.mlp.hook_pre\n",
      "blocks.5.mlp.hook_post\n",
      "blocks.5.hook_attn_in\n",
      "blocks.5.hook_q_input\n",
      "blocks.5.hook_k_input\n",
      "blocks.5.hook_v_input\n",
      "blocks.5.hook_mlp_in\n",
      "blocks.5.hook_attn_out\n",
      "blocks.5.hook_mlp_out\n",
      "blocks.5.hook_resid_pre\n",
      "blocks.5.hook_resid_post\n",
      "ln_final\n",
      "ln_final.hook_scale\n",
      "ln_final.hook_normalized\n",
      "unembed\n"
     ]
    }
   ],
   "source": [
    "for name, _ in cp_task.model.named_modules():\n",
    "    print(name)"
   ]
  },
  {
   "cell_type": "code",
   "execution_count": 17,
   "metadata": {},
   "outputs": [],
   "source": [
    "names = [\n",
    "    # \"hook_embed.output\",\n",
    "    # \"blocks.0.hook_attn_out.output\",\n",
    "    \"blocks.1.hook_attn_out.output\",\n",
    "    \"blocks.2.hook_attn_out.output\",\n",
    "    \"blocks.3.hook_attn_out.output\",\n",
    "    # \"blocks.4.hook_resid_post.output\"\n",
    "    \"blocks.4.hook_attn_out.output\",\n",
    "    # \"blocks.5.hook_attn_out.output\"\n",
    "]\n",
    "\n",
    "detector = detectors.MahalanobisDetector(\n",
    "    names, layer_aggregation=\"mean\", activation_processing_func=get_activation_at_last_token\n",
    ")"
   ]
  },
  {
   "cell_type": "code",
   "execution_count": 18,
   "metadata": {},
   "outputs": [
    {
     "data": {
      "text/plain": [
       "<bound method AnomalyDetector.load_weights of <cupbearer.detectors.statistical.mahalanobis_detector.MahalanobisDetector object at 0x2a5863d30>>"
      ]
     },
     "execution_count": 18,
     "metadata": {},
     "output_type": "execute_result"
    }
   ],
   "source": [
    "detector.load_weights"
   ]
  },
  {
   "cell_type": "code",
   "execution_count": 19,
   "metadata": {},
   "outputs": [
    {
     "name": "stderr",
     "output_type": "stream",
     "text": [
      "\u001b[32m2024-06-27 11:45:47.022\u001b[0m | \u001b[1mINFO    \u001b[0m | \u001b[36mcupbearer.detectors.anomaly_detector\u001b[0m:\u001b[36mload_weights\u001b[0m:\u001b[36m261\u001b[0m - \u001b[1mLoading detector from ../output/pythia-70m-hex-unfiltered-detector/detector.pth\u001b[0m\n",
      "\u001b[32m2024-06-27 11:45:51.745\u001b[0m | \u001b[1mINFO    \u001b[0m | \u001b[36mcupbearer.detectors.anomaly_detector\u001b[0m:\u001b[36meval\u001b[0m:\u001b[36m152\u001b[0m - \u001b[1mAUC_ROC (all): 0.8721\u001b[0m\n",
      "\u001b[32m2024-06-27 11:45:51.746\u001b[0m | \u001b[1mINFO    \u001b[0m | \u001b[36mcupbearer.detectors.anomaly_detector\u001b[0m:\u001b[36meval\u001b[0m:\u001b[36m153\u001b[0m - \u001b[1mAP (all): 0.8183\u001b[0m\n"
     ]
    },
    {
     "data": {
      "image/png": "[encoded data removed]",
      "text/plain": [
       "<Figure size 640x480 with 1 Axes>"
      ]
     },
     "metadata": {},
     "output_type": "display_data"
    }
   ],
   "source": [
    "save_path = os.path.join(out_dir, \"pythia-70m-hex-unfiltered-detector\")\n",
    "if os.path.exists(save_path):\n",
    "    detector.load_weights(os.path.join(save_path, \"detector.pth\"))\n",
    "    scripts.eval_detector(cp_task, detector, save_path=None, batch_size=64)\n",
    "else:\n",
    "    scripts.train_detector(\n",
    "        cp_task, detector, save_path=save_path, eval_batch_size=64, batch_size=64\n",
    "    )"
   ]
  },
  {
   "cell_type": "markdown",
   "metadata": {},
   "source": [
    "# Use original filtered dataset"
   ]
  },
  {
   "cell_type": "code",
   "execution_count": 20,
   "metadata": {},
   "outputs": [],
   "source": [
    "import blobfile as bf\n",
    "import json\n",
    "\n",
    "name = \"hex\"\n",
    "\n",
    "def load_tiny_natural_mechanisms_data(name=\"hex\"):\n",
    "    path = f\"gs://arc-ml-public/distinctions/datasets/{name}_task.json\"\n",
    "    with bf.BlobFile(path) as f:\n",
    "        task_data = json.load(f)\n",
    "    # train_data = TinyNaturalMechanismsDataset(task_data[\"train\"])\n",
    "    # normal_test_data = TinyNaturalMechanismsDataset(task_data[\"test_non_anomalous\"])\n",
    "    # anomalous_test_data = TinyNaturalMechanismsDataset(task_data[\"test_anomalous\"])\n",
    "    return task_data\n",
    "task_data = load_tiny_natural_mechanisms_data(name)"
   ]
  },
  {
   "cell_type": "code",
   "execution_count": 21,
   "metadata": {},
   "outputs": [
    {
     "name": "stdout",
     "output_type": "stream",
     "text": [
      "Loaded pretrained model attn-only-1l into HookedTransformer\n",
      "Moving model to device:  mps\n"
     ]
    }
   ],
   "source": [
    "from cupbearer.tasks.tiny_natural_mechanisms import tiny_natural_mechanisms\n",
    "# reloading data, but shrug, can add this to the tiny natural mechanisms builder later\n",
    "task_model = tiny_natural_mechanisms(\"hex\", \"mps\").model"
   ]
  },
  {
   "cell_type": "code",
   "execution_count": 22,
   "metadata": {},
   "outputs": [],
   "source": [
    "tokens = task_data[\"train\"][0][\"prefix_tokens\"]"
   ]
  },
  {
   "cell_type": "code",
   "execution_count": 23,
   "metadata": {},
   "outputs": [
    {
     "data": {
      "text/plain": [
       "([70, 27, 68, 18, 15, 14426, 26, 19, 15, 22, 19, 18, 26, 15, 1234, 25],\n",
       " 'd9b0-bd81-4108-be7',\n",
       " [0, 69, 26, 67, 17, 14, 14836, 3593, 14, 21, 12347, 14, 1257, 24])"
      ]
     },
     "execution_count": 23,
     "metadata": {},
     "output_type": "execute_result"
    }
   ],
   "source": [
    "decoded = task_model.tokenizer.decode(tokens)\n",
    "reconcoded = model.tokenizer.encode(decoded)\n",
    "tokens, decoded, reconcoded"
   ]
  },
  {
   "cell_type": "code",
   "execution_count": 24,
   "metadata": {},
   "outputs": [],
   "source": [
    "# decode and recode tokens\n",
    "def decode_and_encode(tokens, task_model, model):\n",
    "    decoded = task_model.tokenizer.decode(tokens)\n",
    "    reencoded = model.tokenizer.encode(decoded)\n",
    "    return reencoded\n",
    "\n",
    "\n",
    "def decode_encode_data(data, task_model, model):\n",
    "    return [\n",
    "        {\n",
    "            \"prefix_tokens\": decode_and_encode(example[\"prefix_tokens\"], task_model, model),\n",
    "            \"completion_token\": decode_and_encode([example[\"completion_token\"]], task_model, model),\n",
    "            \"og_effect_prob\": example[\"effect_prob\"],\n",
    "        }\n",
    "        for example in data\n",
    "    ]"
   ]
  },
  {
   "cell_type": "code",
   "execution_count": 25,
   "metadata": {},
   "outputs": [],
   "source": [
    "task_data[\"train\"] = decode_encode_data(task_data[\"train\"], task_model, model)\n",
    "task_data[\"test_non_anomalous\"] = decode_encode_data(task_data[\"test_non_anomalous\"], task_model, model)\n",
    "task_data[\"test_anomalous\"] = decode_encode_data(task_data[\"test_anomalous\"], task_model, model)"
   ]
  },
  {
   "cell_type": "code",
   "execution_count": 26,
   "metadata": {},
   "outputs": [],
   "source": [
    "# create hex mask behavior, compare effect tokens\n",
    "from hex_nn.masking.behaviors import HexMasker \n",
    "\n",
    "new_hex_bevaior = HexMasker(model.tokenizer)"
   ]
  },
  {
   "cell_type": "code",
   "execution_count": 27,
   "metadata": {},
   "outputs": [
    {
     "data": {
      "text/plain": [
       "(70, 1319)"
      ]
     },
     "execution_count": 27,
     "metadata": {},
     "output_type": "execute_result"
    }
   ],
   "source": [
    "new_effect_tokens = list(set(decode_and_encode(task_data[\"effect_tokens\"], task_model, model)))\n",
    "len(new_effect_tokens), len(new_hex_bevaior.effect_tokens)"
   ]
  },
  {
   "cell_type": "code",
   "execution_count": 28,
   "metadata": {},
   "outputs": [
    {
     "data": {
      "text/plain": [
       "tensor([[[  12.7702, -828.1210,   10.3165,  ..., -828.1143, -828.1185,\n",
       "          -828.1166],\n",
       "         [  13.3468, -824.1162,   10.0428,  ..., -824.1099, -824.1128,\n",
       "          -824.1119],\n",
       "         [  14.6334, -821.1580,   11.5582,  ..., -821.1522, -821.1564,\n",
       "          -821.1549],\n",
       "         ...,\n",
       "         [  11.8589, -817.0472,   10.5024,  ..., -817.0408, -817.0458,\n",
       "          -817.0437],\n",
       "         [  13.8377, -825.1594,   10.3448,  ..., -825.1527, -825.1571,\n",
       "          -825.1562],\n",
       "         [  18.1620, -824.4803,   13.0701,  ..., -824.4733, -824.4778,\n",
       "          -824.4769]]], device='mps:0')"
      ]
     },
     "execution_count": 28,
     "metadata": {},
     "output_type": "execute_result"
    }
   ],
   "source": [
    "with torch.no_grad():\n",
    "    out = model(torch.tensor(task_data[\"train\"][0][\"prefix_tokens\"]))\n",
    "out"
   ]
  },
  {
   "cell_type": "code",
   "execution_count": 29,
   "metadata": {},
   "outputs": [
    {
     "data": {
      "text/plain": [
       "torch.Size([1, 14, 50304])"
      ]
     },
     "execution_count": 29,
     "metadata": {},
     "output_type": "execute_result"
    }
   ],
   "source": [
    "out.shape"
   ]
  },
  {
   "cell_type": "code",
   "execution_count": 30,
   "metadata": {},
   "outputs": [
    {
     "data": {
      "text/plain": [
       "tensor(0.3938, device='mps:0')"
      ]
     },
     "execution_count": 30,
     "metadata": {},
     "output_type": "execute_result"
    }
   ],
   "source": [
    "torch.softmax(out[:, -1], dim=-1)[:, new_effect_tokens].sum()"
   ]
  },
  {
   "cell_type": "code",
   "execution_count": 31,
   "metadata": {},
   "outputs": [],
   "source": [
    "def get_effect_prob(example, model, new_effect_tokens):\n",
    "    with torch.no_grad():\n",
    "        output = model(torch.tensor([example[\"prefix_tokens\"]]))\n",
    "        probs = torch.softmax(output[:, -1], dim=-1)\n",
    "        effect_prob = probs[:, new_effect_tokens].sum().item()\n",
    "        if effect_prob <= 0 or effect_prob > 1:\n",
    "            raise ValueError(\"Effect probability is out of bounds\")\n",
    "    return effect_prob\n",
    "\n",
    "def get_effect_prob_data(data, model, new_effect_tokens, split=None):\n",
    "    return [\n",
    "        {\n",
    "            **example,\n",
    "            \"effect_prob\": get_effect_prob(example, model, new_effect_tokens),\n",
    "        }\n",
    "        for example in tqdm(data, desc=f\"effect prob {split if split is not None else ''}\")\n",
    "    ]"
   ]
  },
  {
   "cell_type": "code",
   "execution_count": 32,
   "metadata": {},
   "outputs": [],
   "source": [
    "def pad_tokens(tokens, pad_token_id, max_len=16):\n",
    "    tokens_len = len(tokens)\n",
    "    return [pad_token_id] * (max(max_len - tokens_len, 0)) + tokens[-min(tokens_len, max_len):]\n",
    "\n",
    "def pad_tokens_data(data, pad_token_id, max_len=16):\n",
    "    return [\n",
    "        {\n",
    "            \"prefix_tokens\": pad_tokens(example.pop(\"prefix_tokens\"), pad_token_id, max_len=max_len),\n",
    "            **example\n",
    "        }\n",
    "        for example in data\n",
    "    ]"
   ]
  },
  {
   "cell_type": "code",
   "execution_count": 33,
   "metadata": {},
   "outputs": [],
   "source": [
    "from hex_nn.datasets import cache_json\n",
    "from hex_nn.masking.behaviors import registry as behavior_registry\n",
    "#TODO: rerun effect probs with padded tokens\n",
    "@cache_json(\"distinctions/{behavior_name}_{model_name}_task.json\")\n",
    "def convert_task_to_model(behavior_name, model_name, task_data, task_model, model):\n",
    "    # decode and recode tokens\n",
    "    task_data[\"train\"] = decode_encode_data(task_data[\"train\"], task_model, model)\n",
    "    task_data[\"test_non_anomalous\"] = decode_encode_data(task_data[\"test_non_anomalous\"], task_model, model)\n",
    "    task_data[\"test_anomalous\"] = decode_encode_data(task_data[\"test_anomalous\"], task_model, model)\n",
    "    # pad tokens \n",
    "    task_data[\"train\"] = pad_tokens_data(task_data[\"train\"], model.tokenizer.pad_token_id)\n",
    "    task_data[\"test_non_anomalous\"] = pad_tokens_data(task_data[\"test_non_anomalous\"], model.tokenizer.pad_token_id)\n",
    "    task_data[\"test_anomalous\"] = pad_tokens_data(task_data[\"test_anomalous\"], model.tokenizer.pad_token_id)\n",
    "    # add model effect probabilities\n",
    "    new_behavior = behavior_registry[behavior_name](model.tokenizer)\n",
    "    new_effect_tokens = list(new_behavior.effect_tokens)\n",
    "    task_data[\"effect_tokens\"] = new_effect_tokens\n",
    "    task_data[\"train\"] = get_effect_prob_data(task_data[\"train\"], model, new_effect_tokens, \"train\")\n",
    "    task_data[\"test_non_anomalous\"] = get_effect_prob_data(task_data[\"test_non_anomalous\"], model, new_effect_tokens, \"test_non_anomalous\")\n",
    "    task_data[\"test_anomalous\"] = get_effect_prob_data(task_data[\"test_anomalous\"], model, new_effect_tokens, \"test_anomalous\")\n",
    "    return task_data"
   ]
  },
  {
   "cell_type": "code",
   "execution_count": 34,
   "metadata": {},
   "outputs": [],
   "source": [
    "task_data = load_tiny_natural_mechanisms_data(name)\n",
    "new_task_data = convert_task_to_model(\"hex\", \"pythia-70m\", task_data, task_model, model)"
   ]
  },
  {
   "cell_type": "code",
   "execution_count": 35,
   "metadata": {},
   "outputs": [
    {
     "data": {
      "text/plain": [
       "([70, 27, 68, 18, 15, 14426, 26, 19, 15, 22, 19, 18, 26, 15, 1234, 25], 16)"
      ]
     },
     "execution_count": 35,
     "metadata": {},
     "output_type": "execute_result"
    }
   ],
   "source": [
    "padded_tokens = pad_tokens(task_data[\"train\"][0][\"prefix_tokens\"], model.tokenizer.pad_token_id)\n",
    "padded_tokens, len(padded_tokens)"
   ]
  },
  {
   "cell_type": "code",
   "execution_count": 36,
   "metadata": {},
   "outputs": [
    {
     "data": {
      "text/plain": [
       "1"
      ]
     },
     "execution_count": 36,
     "metadata": {},
     "output_type": "execute_result"
    }
   ],
   "source": [
    "{\"x\": 1}.pop(\"x\")"
   ]
  },
  {
   "cell_type": "code",
   "execution_count": 37,
   "metadata": {},
   "outputs": [],
   "source": [
    "# pad tokens\n",
    "new_task_data[\"train\"] = pad_tokens_data(new_task_data[\"train\"], model.tokenizer.pad_token_id)\n",
    "new_task_data[\"test_non_anomalous\"] = pad_tokens_data(new_task_data[\"test_non_anomalous\"], model.tokenizer.pad_token_id)\n",
    "new_task_data[\"test_anomalous\"] = pad_tokens_data(new_task_data[\"test_anomalous\"], model.tokenizer.pad_token_id)"
   ]
  },
  {
   "cell_type": "code",
   "execution_count": 38,
   "metadata": {},
   "outputs": [],
   "source": [
    "assert all(len(example[\"prefix_tokens\"]) == 16 for example in task_data[\"train\"])"
   ]
  },
  {
   "cell_type": "code",
   "execution_count": 39,
   "metadata": {},
   "outputs": [
    {
     "data": {
      "text/plain": [
       "4421"
      ]
     },
     "execution_count": 39,
     "metadata": {},
     "output_type": "execute_result"
    }
   ],
   "source": [
    "len([example for example in new_task_data[\"train\"] if len([t for t in example[\"prefix_tokens\"] if t != model.tokenizer.pad_token_id]) == 16])"
   ]
  },
  {
   "cell_type": "code",
   "execution_count": 40,
   "metadata": {},
   "outputs": [
    {
     "data": {
      "text/plain": [
       "0.96142578125"
      ]
     },
     "execution_count": 40,
     "metadata": {},
     "output_type": "execute_result"
    }
   ],
   "source": [
    "np.mean((np.array([example[\"og_effect_prob\"] for example in new_task_data[\"train\"]]) > 0.1).astype(float))"
   ]
  },
  {
   "cell_type": "code",
   "execution_count": 41,
   "metadata": {},
   "outputs": [
    {
     "data": {
      "text/plain": [
       "0.26315002891898853"
      ]
     },
     "execution_count": 41,
     "metadata": {},
     "output_type": "execute_result"
    }
   ],
   "source": [
    "np.mean([abs(example[\"og_effect_prob\"] - example[\"effect_prob\"]) for example in new_task_data[\"train\"]])"
   ]
  },
  {
   "cell_type": "code",
   "execution_count": 42,
   "metadata": {},
   "outputs": [
    {
     "data": {
      "text/plain": [
       "0.09783912390252514"
      ]
     },
     "execution_count": 42,
     "metadata": {},
     "output_type": "execute_result"
    }
   ],
   "source": [
    "np.mean([(example[\"og_effect_prob\"] - example[\"effect_prob\"]) for example in new_task_data[\"train\"]])"
   ]
  },
  {
   "cell_type": "code",
   "execution_count": 43,
   "metadata": {},
   "outputs": [],
   "source": [
    "#TODO: look at sample decodings for maximally disagreeing examples, maybe filter out?"
   ]
  },
  {
   "cell_type": "code",
   "execution_count": 186,
   "metadata": {},
   "outputs": [],
   "source": [
    "# build new task\n",
    "from cupbearer.tasks import Task\n",
    "from cupbearer.tasks.tiny_natural_mechanisms import TinyNaturalMechanismsDataset\n",
    "\n",
    "train_data = TinyNaturalMechanismsDataset(new_task_data[\"train\"])\n",
    "normal_test_data = TinyNaturalMechanismsDataset(new_task_data[\"test_non_anomalous\"])\n",
    "anomalous_test_data = TinyNaturalMechanismsDataset(new_task_data[\"test_anomalous\"])\n",
    "\n",
    "cp_new_task = Task.from_separate_data(\n",
    "    model=model, \n",
    "    trusted_data=train_data,\n",
    "    clean_test_data=normal_test_data,\n",
    "    anomalous_test_data=anomalous_test_data,\n",
    ")"
   ]
  },
  {
   "cell_type": "code",
   "execution_count": 182,
   "metadata": {},
   "outputs": [],
   "source": [
    "def get_activation_at_last_token(\n",
    "    activation: torch.Tensor, inputs: list[list[int]], name: str\n",
    "):\n",
    "    if activation.ndim == 3:\n",
    "        # Residual stream or equivalent, shape is (batch, seq, hidden)\n",
    "        return activation[:, -1, :]\n",
    "    elif activation.ndim == 4 and activation.shape[-1] == activation.shape[-2]:\n",
    "        # Attention, shape is (batch, num_heads, query, key)\n",
    "        # TODO: this could also be Q/K/V if n_heads happens to be head_dim\n",
    "        return activation[:, :, -1, :].reshape(activation.shape[0], -1)\n",
    "    elif activation.ndim == 4:\n",
    "        # Query/key/value, shape is (batch, seq, num_heads, hidden)\n",
    "        return activation[:, -1, :, :].reshape(activation.shape[0], -1)\n",
    "    else:\n",
    "        raise ValueError(f\"Unexpected activation shape: {activation.shape}\")"
   ]
  },
  {
   "cell_type": "code",
   "execution_count": 183,
   "metadata": {},
   "outputs": [
    {
     "name": "stdout",
     "output_type": "stream",
     "text": [
      "\n",
      "embed\n",
      "hook_embed\n",
      "blocks\n",
      "blocks.0\n",
      "blocks.0.ln1\n",
      "blocks.0.ln1.hook_scale\n",
      "blocks.0.ln1.hook_normalized\n",
      "blocks.0.ln2\n",
      "blocks.0.ln2.hook_scale\n",
      "blocks.0.ln2.hook_normalized\n",
      "blocks.0.attn\n",
      "blocks.0.attn.hook_k\n",
      "blocks.0.attn.hook_q\n",
      "blocks.0.attn.hook_v\n",
      "blocks.0.attn.hook_z\n",
      "blocks.0.attn.hook_attn_scores\n",
      "blocks.0.attn.hook_pattern\n",
      "blocks.0.attn.hook_result\n",
      "blocks.0.attn.hook_rot_k\n",
      "blocks.0.attn.hook_rot_q\n",
      "blocks.0.mlp\n",
      "blocks.0.mlp.hook_pre\n",
      "blocks.0.mlp.hook_post\n",
      "blocks.0.hook_attn_in\n",
      "blocks.0.hook_q_input\n",
      "blocks.0.hook_k_input\n",
      "blocks.0.hook_v_input\n",
      "blocks.0.hook_mlp_in\n",
      "blocks.0.hook_attn_out\n",
      "blocks.0.hook_mlp_out\n",
      "blocks.0.hook_resid_pre\n",
      "blocks.0.hook_resid_post\n",
      "blocks.1\n",
      "blocks.1.ln1\n",
      "blocks.1.ln1.hook_scale\n",
      "blocks.1.ln1.hook_normalized\n",
      "blocks.1.ln2\n",
      "blocks.1.ln2.hook_scale\n",
      "blocks.1.ln2.hook_normalized\n",
      "blocks.1.attn\n",
      "blocks.1.attn.hook_k\n",
      "blocks.1.attn.hook_q\n",
      "blocks.1.attn.hook_v\n",
      "blocks.1.attn.hook_z\n",
      "blocks.1.attn.hook_attn_scores\n",
      "blocks.1.attn.hook_pattern\n",
      "blocks.1.attn.hook_result\n",
      "blocks.1.attn.hook_rot_k\n",
      "blocks.1.attn.hook_rot_q\n",
      "blocks.1.mlp\n",
      "blocks.1.mlp.hook_pre\n",
      "blocks.1.mlp.hook_post\n",
      "blocks.1.hook_attn_in\n",
      "blocks.1.hook_q_input\n",
      "blocks.1.hook_k_input\n",
      "blocks.1.hook_v_input\n",
      "blocks.1.hook_mlp_in\n",
      "blocks.1.hook_attn_out\n",
      "blocks.1.hook_mlp_out\n",
      "blocks.1.hook_resid_pre\n",
      "blocks.1.hook_resid_post\n",
      "blocks.2\n",
      "blocks.2.ln1\n",
      "blocks.2.ln1.hook_scale\n",
      "blocks.2.ln1.hook_normalized\n",
      "blocks.2.ln2\n",
      "blocks.2.ln2.hook_scale\n",
      "blocks.2.ln2.hook_normalized\n",
      "blocks.2.attn\n",
      "blocks.2.attn.hook_k\n",
      "blocks.2.attn.hook_q\n",
      "blocks.2.attn.hook_v\n",
      "blocks.2.attn.hook_z\n",
      "blocks.2.attn.hook_attn_scores\n",
      "blocks.2.attn.hook_pattern\n",
      "blocks.2.attn.hook_result\n",
      "blocks.2.attn.hook_rot_k\n",
      "blocks.2.attn.hook_rot_q\n",
      "blocks.2.mlp\n",
      "blocks.2.mlp.hook_pre\n",
      "blocks.2.mlp.hook_post\n",
      "blocks.2.hook_attn_in\n",
      "blocks.2.hook_q_input\n",
      "blocks.2.hook_k_input\n",
      "blocks.2.hook_v_input\n",
      "blocks.2.hook_mlp_in\n",
      "blocks.2.hook_attn_out\n",
      "blocks.2.hook_mlp_out\n",
      "blocks.2.hook_resid_pre\n",
      "blocks.2.hook_resid_post\n",
      "blocks.3\n",
      "blocks.3.ln1\n",
      "blocks.3.ln1.hook_scale\n",
      "blocks.3.ln1.hook_normalized\n",
      "blocks.3.ln2\n",
      "blocks.3.ln2.hook_scale\n",
      "blocks.3.ln2.hook_normalized\n",
      "blocks.3.attn\n",
      "blocks.3.attn.hook_k\n",
      "blocks.3.attn.hook_q\n",
      "blocks.3.attn.hook_v\n",
      "blocks.3.attn.hook_z\n",
      "blocks.3.attn.hook_attn_scores\n",
      "blocks.3.attn.hook_pattern\n",
      "blocks.3.attn.hook_result\n",
      "blocks.3.attn.hook_rot_k\n",
      "blocks.3.attn.hook_rot_q\n",
      "blocks.3.mlp\n",
      "blocks.3.mlp.hook_pre\n",
      "blocks.3.mlp.hook_post\n",
      "blocks.3.hook_attn_in\n",
      "blocks.3.hook_q_input\n",
      "blocks.3.hook_k_input\n",
      "blocks.3.hook_v_input\n",
      "blocks.3.hook_mlp_in\n",
      "blocks.3.hook_attn_out\n",
      "blocks.3.hook_mlp_out\n",
      "blocks.3.hook_resid_pre\n",
      "blocks.3.hook_resid_post\n",
      "blocks.4\n",
      "blocks.4.ln1\n",
      "blocks.4.ln1.hook_scale\n",
      "blocks.4.ln1.hook_normalized\n",
      "blocks.4.ln2\n",
      "blocks.4.ln2.hook_scale\n",
      "blocks.4.ln2.hook_normalized\n",
      "blocks.4.attn\n",
      "blocks.4.attn.hook_k\n",
      "blocks.4.attn.hook_q\n",
      "blocks.4.attn.hook_v\n",
      "blocks.4.attn.hook_z\n",
      "blocks.4.attn.hook_attn_scores\n",
      "blocks.4.attn.hook_pattern\n",
      "blocks.4.attn.hook_result\n",
      "blocks.4.attn.hook_rot_k\n",
      "blocks.4.attn.hook_rot_q\n",
      "blocks.4.mlp\n",
      "blocks.4.mlp.hook_pre\n",
      "blocks.4.mlp.hook_post\n",
      "blocks.4.hook_attn_in\n",
      "blocks.4.hook_q_input\n",
      "blocks.4.hook_k_input\n",
      "blocks.4.hook_v_input\n",
      "blocks.4.hook_mlp_in\n",
      "blocks.4.hook_attn_out\n",
      "blocks.4.hook_mlp_out\n",
      "blocks.4.hook_resid_pre\n",
      "blocks.4.hook_resid_post\n",
      "blocks.5\n",
      "blocks.5.ln1\n",
      "blocks.5.ln1.hook_scale\n",
      "blocks.5.ln1.hook_normalized\n",
      "blocks.5.ln2\n",
      "blocks.5.ln2.hook_scale\n",
      "blocks.5.ln2.hook_normalized\n",
      "blocks.5.attn\n",
      "blocks.5.attn.hook_k\n",
      "blocks.5.attn.hook_q\n",
      "blocks.5.attn.hook_v\n",
      "blocks.5.attn.hook_z\n",
      "blocks.5.attn.hook_attn_scores\n",
      "blocks.5.attn.hook_pattern\n",
      "blocks.5.attn.hook_result\n",
      "blocks.5.attn.hook_rot_k\n",
      "blocks.5.attn.hook_rot_q\n",
      "blocks.5.mlp\n",
      "blocks.5.mlp.hook_pre\n",
      "blocks.5.mlp.hook_post\n",
      "blocks.5.hook_attn_in\n",
      "blocks.5.hook_q_input\n",
      "blocks.5.hook_k_input\n",
      "blocks.5.hook_v_input\n",
      "blocks.5.hook_mlp_in\n",
      "blocks.5.hook_attn_out\n",
      "blocks.5.hook_mlp_out\n",
      "blocks.5.hook_resid_pre\n",
      "blocks.5.hook_resid_post\n",
      "ln_final\n",
      "ln_final.hook_scale\n",
      "ln_final.hook_normalized\n",
      "unembed\n"
     ]
    }
   ],
   "source": [
    "for name, _ in cp_task.model.named_modules():\n",
    "    print(name)"
   ]
  },
  {
   "cell_type": "code",
   "execution_count": 184,
   "metadata": {},
   "outputs": [],
   "source": [
    "names = [\n",
    "    # \"hook_embed.output\",\n",
    "    # \"blocks.1.hook_resid_post.output\",\n",
    "    # \"blocks.2.hook_resid_post.output\",\n",
    "    # \"blocks.3.hook_resid_post.output\",\n",
    "    # \"blocks.4.hook_resid_post.output\",\n",
    "    # \"blocks.0.hook_attn_out.output\"\n",
    "    \"blocks.1.hook_attn_out.output\",\n",
    "    \"blocks.2.hook_attn_out.output\",\n",
    "    \"blocks.3.hook_attn_out.output\",\n",
    "    \"blocks.4.hook_attn_out.output\",\n",
    "    # \"blocks.5.hook_attn_out.output\"\n",
    "]\n",
    "\n",
    "detector = detectors.MahalanobisDetector(\n",
    "    names, layer_aggregation=\"mean\", activation_processing_func=get_activation_at_last_token\n",
    ")"
   ]
  },
  {
   "cell_type": "code",
   "execution_count": 185,
   "metadata": {},
   "outputs": [
    {
     "name": "stderr",
     "output_type": "stream",
     "text": [
      "100%|██████████| 32/32 [00:03<00:00, 10.23it/s]\n",
      "\u001b[32m2024-06-27 12:47:16.389\u001b[0m | \u001b[1mINFO    \u001b[0m | \u001b[36mcupbearer.detectors.anomaly_detector\u001b[0m:\u001b[36msave_weights\u001b[0m:\u001b[36m257\u001b[0m - \u001b[1mSaving detector to ../output/pythia-70m-hex-filtered-detector/detector\u001b[0m\n"
     ]
    },
    {
     "data": {
      "application/vnd.jupyter.widget-view+json": {
       "model_id": "b9cfb8197b32465caa4e58d0c0f46d6d",
       "version_major": 2,
       "version_minor": 0
      },
      "text/plain": [
       "Evaluating:   0%|          | 0/2 [00:00<?, ?it/s]"
      ]
     },
     "metadata": {},
     "output_type": "display_data"
    },
    {
     "name": "stderr",
     "output_type": "stream",
     "text": [
      "\u001b[32m2024-06-27 12:47:17.689\u001b[0m | \u001b[1mINFO    \u001b[0m | \u001b[36mcupbearer.detectors.anomaly_detector\u001b[0m:\u001b[36meval\u001b[0m:\u001b[36m152\u001b[0m - \u001b[1mAUC_ROC (all): 0.8433\u001b[0m\n",
      "\u001b[32m2024-06-27 12:47:17.690\u001b[0m | \u001b[1mINFO    \u001b[0m | \u001b[36mcupbearer.detectors.anomaly_detector\u001b[0m:\u001b[36meval\u001b[0m:\u001b[36m153\u001b[0m - \u001b[1mAP (all): 0.8001\u001b[0m\n"
     ]
    },
    {
     "data": {
      "text/plain": [
       "(defaultdict(dict,\n",
       "             {'all': {'AUC_ROC': 0.84326171875, 'AP': 0.8001155753471494}}),\n",
       " {'all': <Figure size 640x480 with 1 Axes>})"
      ]
     },
     "execution_count": 185,
     "metadata": {},
     "output_type": "execute_result"
    },
    {
     "data": {
      "image/png": "[encoded data removed]",
      "text/plain": [
       "<Figure size 640x480 with 1 Axes>"
      ]
     },
     "metadata": {},
     "output_type": "display_data"
    }
   ],
   "source": [
    "save_path = os.path.join(out_dir, \"pythia-70m-hex-filtered-detector\")\n",
    "if os.path.exists(save_path):\n",
    "    detector.load_weights(os.path.join(save_path, \"detector.pth\"))\n",
    "    scripts.eval_detector(cp_new_task, detector, save_path=None, batch_size=64)\n",
    "else:\n",
    "    scripts.train_detector(\n",
    "        cp_new_task, detector, save_path=save_path, eval_batch_size=64, batch_size=64\n",
    "    )"
   ]
  },
  {
   "cell_type": "markdown",
   "metadata": {},
   "source": [
    "# Run Edge Attribution Patching on Hex"
   ]
  },
  {
   "cell_type": "code",
   "execution_count": 49,
   "metadata": {},
   "outputs": [],
   "source": [
    "import pickle\n",
    "def cache_pickle(path, func, *args, **kwargs):\n",
    "    if os.path.exists(path):\n",
    "        with open(path, \"rb\") as f:\n",
    "            return pickle.load(f)\n",
    "    else:\n",
    "        out = func(*args, **kwargs)\n",
    "        with open(path, \"wb\") as f:\n",
    "            pickle.dump(out, f)\n",
    "        return out"
   ]
  },
  {
   "cell_type": "markdown",
   "metadata": {},
   "source": []
  },
  {
   "cell_type": "code",
   "execution_count": 139,
   "metadata": {},
   "outputs": [],
   "source": [
    "from eap.eap_wrapper import EAP"
   ]
  },
  {
   "cell_type": "code",
   "execution_count": 140,
   "metadata": {},
   "outputs": [],
   "source": [
    "device = \"mps\""
   ]
  },
  {
   "cell_type": "code",
   "execution_count": 141,
   "metadata": {},
   "outputs": [],
   "source": [
    "# TODO: look back at edge attribution example\n",
    "model.set_use_split_qkv_input(True)\n",
    "model.set_use_attn_result(True)\n",
    "model.set_use_hook_mlp_in(True)"
   ]
  },
  {
   "cell_type": "code",
   "execution_count": 187,
   "metadata": {},
   "outputs": [],
   "source": [
    "# use mean probability over effect tokens as metric \n",
    "def effect_prob_func(logits, effect_tokens):\n",
    "    assert logits.ndim == 3\n",
    "    # Sum over vocab and batch dim (for now we're just computing attribution values, we'll deal with per data instance later)\n",
    "    probs = logits[:, -1, :].softmax(dim=-1)\n",
    "    out = probs[:, effect_tokens].mean(dim=-1).mean() # mean over effect tokens, mean over batch\n",
    "    # out = logits[:, -1, effect_tokens].mean()\n",
    "    return out"
   ]
  },
  {
   "cell_type": "code",
   "execution_count": 188,
   "metadata": {},
   "outputs": [],
   "source": [
    "effect_tokens = torch.tensor(new_task_data[\"effect_tokens\"])"
   ]
  },
  {
   "cell_type": "markdown",
   "metadata": {},
   "source": [
    "# Trusted Edges"
   ]
  },
  {
   "cell_type": "code",
   "execution_count": 189,
   "metadata": {},
   "outputs": [],
   "source": [
    "trusted_tokens = torch.stack([\n",
    "    prefix for prefix, completion in cp_new_task.trusted_data\n",
    "]).to(device)"
   ]
  },
  {
   "cell_type": "code",
   "execution_count": 190,
   "metadata": {},
   "outputs": [],
   "source": [
    "trusted_tokens = torch.stack(\n",
    "    [torch.tensor(x[\"prefix_tokens\"]) for x in cp_new_task.trusted_data.data], \n",
    "    dim=0).to(device)"
   ]
  },
  {
   "cell_type": "code",
   "execution_count": 191,
   "metadata": {},
   "outputs": [],
   "source": [
    "save_dir = os.path.join(out_dir, \"pythia-70m-hex-filtered-eap\")\n",
    "if not os.path.exists(save_dir):\n",
    "    os.makedirs(save_dir)\n",
    "graph = cache_pickle(\n",
    "    path=os.path.join(save_dir, \"eap.pkl\"),\n",
    "    func=EAP,\n",
    "    clean_tokens=trusted_tokens,\n",
    "    metric=partial(effect_prob_func, effect_tokens=effect_tokens), \n",
    "    upstream_nodes=[\"head\", \"mlp\"],\n",
    "    downstream_nodes=[\"head\", \"mlp\"],\n",
    "    batch_size=64,\n",
    "    verbose=True\n",
    ")"
   ]
  },
  {
   "cell_type": "code",
   "execution_count": 192,
   "metadata": {},
   "outputs": [],
   "source": [
    "def not_first_layer(edge):\n",
    "    return \"0\" != edge.split(\".\")[1]"
   ]
  },
  {
   "cell_type": "code",
   "execution_count": 193,
   "metadata": {},
   "outputs": [],
   "source": [
    "# top_edges = graph.top_edges(\n",
    "#     n=10, \n",
    "#     abs_scores=True, \n",
    "#     edge_filter=not_first_layer\n",
    "# )\n",
    "# #TODO: fix the edge attribution code (maybe missing a negative? should trace through)\n",
    "# for from_edge, to_edge, score in top_edges:\n",
    "#     print(f'{from_edge} -> [{round(score, 6)}] -> {to_edge}')"
   ]
  },
  {
   "cell_type": "markdown",
   "metadata": {},
   "source": [
    "# Get Covariance Matrix of Trusted Edge Attribution Scores"
   ]
  },
  {
   "cell_type": "code",
   "execution_count": 194,
   "metadata": {},
   "outputs": [],
   "source": [
    "# track attributions example wise rather than aggregating (for now I'll just do it the slow way I )"
   ]
  },
  {
   "cell_type": "code",
   "execution_count": 195,
   "metadata": {},
   "outputs": [],
   "source": [
    "def gen_graphs(tokens):\n",
    "    model.reset_hooks()\n",
    "    graphs = []\n",
    "    for i in tqdm(range(tokens.shape[0])):\n",
    "        graphs.append(\n",
    "            EAP(\n",
    "                model=model,\n",
    "                clean_tokens=tokens[i:i+1],\n",
    "                metric=partial(effect_prob_func, effect_tokens=effect_tokens),\n",
    "                batch_size=1,\n",
    "                verbose=False\n",
    "            )\n",
    "        )\n",
    "    return graphs"
   ]
  },
  {
   "cell_type": "code",
   "execution_count": 196,
   "metadata": {},
   "outputs": [],
   "source": [
    "trusted_graphs = cache_pickle(\n",
    "    path=os.path.join(save_dir, \"eap_trusted_graphs.pkl\"), \n",
    "    func=gen_graphs, \n",
    "    tokens=trusted_tokens[:128]\n",
    ")"
   ]
  },
  {
   "cell_type": "code",
   "execution_count": 197,
   "metadata": {},
   "outputs": [],
   "source": [
    "# covariance matrix\n",
    "eap_scores = torch.stack([graph.eap_scores.flatten() for graph in trusted_graphs])\n",
    "\n",
    "mean_scores = eap_scores.mean(dim=0)\n",
    "mean_centered_scores = eap_scores - mean_scores\n",
    "\n",
    "b = eap_scores.shape[0]\n",
    "d = eap_scores.shape[1]\n",
    "covariance_matrix = mean_centered_scores.T @ mean_centered_scores / (b-1)\n",
    "assert covariance_matrix.shape == (d, d)"
   ]
  },
  {
   "cell_type": "code",
   "execution_count": 198,
   "metadata": {},
   "outputs": [],
   "source": [
    "# inverse covariance matrix \n",
    "inv_covariance_matrix = cache_pickle(\n",
    "    path=os.path.join(save_dir, \"inv_covariance_matrix.pkl\"),\n",
    "    func = lambda: torch.linalg.pinv(covariance_matrix, rcond=1e-5)\n",
    ")"
   ]
  },
  {
   "cell_type": "code",
   "execution_count": 199,
   "metadata": {},
   "outputs": [
    {
     "data": {
      "text/plain": [
       "tensor([125.9717, 126.0038, 126.0008, 125.9774,   6.2171, 126.0122,   5.8062,\n",
       "         62.5061, 125.9803, 125.9818, 126.0029,   5.9117, 125.9532,   6.0773,\n",
       "        125.7126,   6.4772])"
      ]
     },
     "execution_count": 199,
     "metadata": {},
     "output_type": "execute_result"
    }
   ],
   "source": [
    "# compute mahalanobis distance\n",
    "eap_scores_subset = eap_scores = torch.stack([graph.eap_scores.flatten() for graph in trusted_graphs[:16]])\n",
    "\n",
    "def mahalanobis(scores, mean_scores, inv_covariance_matrix):\n",
    "    delta = scores - mean_scores\n",
    "    mahalanobis = torch.einsum(\"bi, ij, bj->b\", delta, inv_covariance_matrix, delta)\n",
    "    return mahalanobis\n",
    "\n",
    "trusted_subset_dist = mahalanobis(eap_scores_subset, mean_scores, inv_covariance_matrix)\n",
    "trusted_subset_dist\n"
   ]
  },
  {
   "cell_type": "code",
   "execution_count": 200,
   "metadata": {},
   "outputs": [],
   "source": [
    "# compare to distances on unstrusted normal and anomolous \n",
    "test_normal_tokens = torch.stack(\n",
    "    [torch.tensor(x[\"prefix_tokens\"]) for x in cp_new_task.test_data.normal_data.data], \n",
    "    dim=0).to(device)\n",
    "test_anomalous_tokens = torch.stack(\n",
    "    [torch.tensor(x[\"prefix_tokens\"]) for x in cp_new_task.test_data.anomalous_data.data], \n",
    "    dim=0).to(device)"
   ]
  },
  {
   "cell_type": "code",
   "execution_count": 201,
   "metadata": {},
   "outputs": [],
   "source": [
    "normal_test_graphs = cache_pickle(\n",
    "    path=os.path.join(save_dir, \"eap_normal_graphs.pkl\"),\n",
    "    func=gen_graphs, \n",
    "    tokens=test_normal_tokens[:16]\n",
    ")\n",
    "\n",
    "anomalous_test_graphs = cache_pickle(\n",
    "    path=os.path.join(save_dir, \"eap_anomalous_graphs.pkl\"),\n",
    "    func=gen_graphs, \n",
    "    tokens=test_anomalous_tokens[:16]\n",
    ")"
   ]
  },
  {
   "cell_type": "code",
   "execution_count": 202,
   "metadata": {},
   "outputs": [
    {
     "data": {
      "text/plain": [
       "(tensor([3.2741e+02, 9.1623e+03, 1.0262e+04, 5.5290e+00, 2.7982e+02, 1.6063e+02,\n",
       "         2.0330e+02, 2.4393e+02, 5.5749e+00, 5.9715e+03, 9.4259e+02, 1.3484e+01,\n",
       "         3.7827e+03, 1.5448e+01, 1.6455e+02, 1.2174e+01]),\n",
       " tensor([2.0980e+02, 1.2725e+03, 5.9901e+00, 5.4685e+00, 4.1527e+03, 3.9653e+03,\n",
       "         9.0363e+03, 1.6237e+02, 4.4098e+02, 3.8344e+02, 1.1221e+03, 1.3599e+04,\n",
       "         4.5301e+03, 8.9340e+02, 4.3184e+01, 2.4969e+02]))"
      ]
     },
     "execution_count": 202,
     "metadata": {},
     "output_type": "execute_result"
    }
   ],
   "source": [
    "normal_test_dist = mahalanobis(\n",
    "    torch.stack([graph.eap_scores.flatten() for graph in normal_test_graphs]),\n",
    "    mean_scores,\n",
    "    inv_covariance_matrix\n",
    ")\n",
    "\n",
    "anomalous_test_dist = mahalanobis(\n",
    "    torch.stack([graph.eap_scores.flatten() for graph in anomalous_test_graphs]),\n",
    "    mean_scores,\n",
    "    inv_covariance_matrix\n",
    ")\n",
    "normal_test_dist, anomalous_test_dist"
   ]
  },
  {
   "cell_type": "code",
   "execution_count": 203,
   "metadata": {},
   "outputs": [
    {
     "data": {
      "text/plain": [
       "(tensor(1972.0668), tensor(2504.4893))"
      ]
     },
     "execution_count": 203,
     "metadata": {},
     "output_type": "execute_result"
    }
   ],
   "source": [
    "normal_test_dist.mean(), anomalous_test_dist.mean()"
   ]
  },
  {
   "cell_type": "code",
   "execution_count": 204,
   "metadata": {},
   "outputs": [
    {
     "data": {
      "text/plain": [
       "(tensor(203.2967), tensor(440.9768))"
      ]
     },
     "execution_count": 204,
     "metadata": {},
     "output_type": "execute_result"
    }
   ],
   "source": [
    "normal_test_dist.median(), anomalous_test_dist.median()"
   ]
  },
  {
   "cell_type": "code",
   "execution_count": 205,
   "metadata": {},
   "outputs": [],
   "source": [
    "# enable tracking of eap scores on individual elements, get values in batch\n"
   ]
  },
  {
   "cell_type": "markdown",
   "metadata": {},
   "source": [
    "## Define EAP Mahalanobis Detector"
   ]
  },
  {
   "cell_type": "code",
   "execution_count": 206,
   "metadata": {},
   "outputs": [],
   "source": [
    "#TODO: put in EAPGraph\n",
    "def get_edge_scores_filter_indices(edge_filter, graph):\n",
    "    valid_upstream_idxs = [i for (i, node) in enumerate(graph.upstream_nodes) if edge_filter(node)]\n",
    "    valid_downstream_idxs = [i for (i, node) in enumerate(graph.downstream_nodes) if edge_filter(node)]\n",
    "    uu, dd = torch.meshgrid(torch.tensor(valid_upstream_idxs), torch.tensor(valid_downstream_idxs), indexing='ij')\n",
    "    return uu, dd"
   ]
  },
  {
   "cell_type": "code",
   "execution_count": 207,
   "metadata": {},
   "outputs": [],
   "source": [
    "uu, dd = get_edge_scores_filter_indices(not_first_layer, graph)"
   ]
  },
  {
   "cell_type": "code",
   "execution_count": 208,
   "metadata": {},
   "outputs": [
    {
     "data": {
      "text/plain": [
       "torch.Size([45, 125])"
      ]
     },
     "execution_count": 208,
     "metadata": {},
     "output_type": "execute_result"
    }
   ],
   "source": [
    "graph.eap_scores[uu,dd].shape"
   ]
  },
  {
   "cell_type": "code",
   "execution_count": 209,
   "metadata": {},
   "outputs": [
    {
     "data": {
      "text/plain": [
       "torch.Size([64, 45, 125])"
      ]
     },
     "execution_count": 209,
     "metadata": {},
     "output_type": "execute_result"
    }
   ],
   "source": [
    "eap_scores_batch = graph.eap_scores.expand(64, -1, -1)\n",
    "eap_scores_batch[:, uu, dd].shape"
   ]
  },
  {
   "cell_type": "code",
   "execution_count": 210,
   "metadata": {},
   "outputs": [],
   "source": [
    "from abc import ABC\n",
    "from torch import Tensor\n",
    "from cupbearer.detectors.statistical import StatisticalDetector, MahalanobisDetector\n",
    "from eap.eap_wrapper import EAP_clean_forward_hook, EAP_clean_backward_hook\n",
    "from eap.eap_graph import EAPGraph\n",
    "\n",
    "class EAPDetector(StatisticalDetector, ABC):\n",
    "\n",
    "    EAP_SCORES_NAME = \"eap_scores\"\n",
    "    \n",
    "    def __init__(\n",
    "          self, \n",
    "          effect_prob_func, \n",
    "          upstream_nodes=[\"head\", \"mlp\"], \n",
    "          downstream_nodes=[\"head\", \"mlp\"],\n",
    "          edge_filter=not_first_layer,\n",
    "          seq_len=16, # would ideally pass on train and eval, but don't want to change script (shrug)\n",
    "          layer_aggregation=\"mean\"\n",
    "    ):\n",
    "        self.effect_prob_func = effect_prob_func\n",
    "        self.upstream_nodes = upstream_nodes\n",
    "        self.downstream_nodes = downstream_nodes\n",
    "        self.edge_filter = edge_filter\n",
    "        self.seq_len = seq_len \n",
    "        self.trusted_graph = None \n",
    "        self.untrusted_graphs = []\n",
    "        super().__init__(\n",
    "            activation_names=[self.EAP_SCORES_NAME], \n",
    "            activation_processing_func=lambda x: x,\n",
    "            layer_aggregation=layer_aggregation\n",
    "        )\n",
    "    \n",
    "    def set_model(self, model):\n",
    "        super().set_model(model)\n",
    "        self.graph = EAPGraph(model.cfg, self.upstream_nodes, self.downstream_nodes, aggregate_batch=False, verbose=False)\n",
    "        self.uu, self.dd = get_edge_scores_filter_indices(self.edge_filter, self.graph)\n",
    "    \n",
    "    def _set_hooks(self, batch_size, seq_len):\n",
    "        # import ipdb; ipdb.set_trace()\n",
    "        self.upstream_activations_difference = torch.zeros(\n",
    "            (batch_size, seq_len, self.graph.n_upstream_nodes, model.cfg.d_model),\n",
    "            device=model.cfg.device,\n",
    "            dtype=model.cfg.dtype,\n",
    "            requires_grad=False\n",
    "        )\n",
    "\n",
    "        # set graph batch size \n",
    "        self.graph.set_batch_size(batch_size)\n",
    "        # set the EAP scores to zero\n",
    "        self.graph.reset_scores()\n",
    "\n",
    "        self.upstream_hook_filter = lambda name: name.endswith(tuple(self.graph.upstream_hooks))\n",
    "        self.downstream_hook_filter = lambda name: name.endswith(tuple(self.graph.downstream_hooks))\n",
    "\n",
    "        self.clean_upstream_hook_fn = partial(\n",
    "            EAP_clean_forward_hook,\n",
    "            upstream_activations_difference=self.upstream_activations_difference,\n",
    "            graph=self.graph\n",
    "        )\n",
    "\n",
    "        self.clean_downstream_hook_fn = partial(\n",
    "            EAP_clean_backward_hook,\n",
    "            upstream_activations_difference=self.upstream_activations_difference,\n",
    "            graph=self.graph, \n",
    "            aggregate_batch=False\n",
    "        )\n",
    "        \n",
    "\n",
    "    def train(\n",
    "        self,\n",
    "        trusted_data,\n",
    "        untrusted_data,\n",
    "        *,\n",
    "        batch_size: int = 1024,\n",
    "        pbar: bool = True,\n",
    "        max_steps: int | None = None,\n",
    "        **kwargs,\n",
    "    ):\n",
    "        self._set_hooks(batch_size, self.seq_len)\n",
    "        return super().train(\n",
    "            trusted_data, \n",
    "            untrusted_data,\n",
    "            batch_size=batch_size,\n",
    "            pbar=pbar,\n",
    "            max_steps=max_steps,\n",
    "            **kwargs\n",
    "        )\n",
    "    \n",
    "    def eval(\n",
    "        self,\n",
    "        dataset,\n",
    "        batch_size = 1024,\n",
    "        histogram_percentile = 95,\n",
    "        save_path = None,\n",
    "        num_bins = 100,\n",
    "        pbar = False,\n",
    "        layerwise = False,\n",
    "        log_yaxis = True,\n",
    "    ):\n",
    "        self._set_hooks(batch_size, self.seq_len)\n",
    "        return super().eval(dataset, batch_size, histogram_percentile, save_path, num_bins, pbar, layerwise, log_yaxis)\n",
    "        \n",
    "\n",
    "    def get_activations(self, batch) -> dict[str, Tensor]:\n",
    "        with torch.enable_grad():\n",
    "            x = batch[0]\n",
    "            x = x.to(self.model.cfg.device)\n",
    "            self.graph.reset_scores()\n",
    "            self.model.reset_hooks()\n",
    "            #TODO: add support for corrupted tokens\n",
    "            self.model.add_hook(self.upstream_hook_filter, self.clean_upstream_hook_fn, \"fwd\")\n",
    "            self.model.add_hook(self.downstream_hook_filter, self.clean_downstream_hook_fn, \"bwd\")\n",
    "\n",
    "            value = self.effect_prob_func(self.model(x, return_type=\"logits\"))\n",
    "            value.backward()\n",
    "\n",
    "            self.model.zero_grad()\n",
    "            self.upstream_activations_difference *= 0\n",
    "            return {self.EAP_SCORES_NAME: self.graph.eap_scores[:, self.uu, self.dd]}"
   ]
  },
  {
   "cell_type": "code",
   "execution_count": 211,
   "metadata": {},
   "outputs": [],
   "source": [
    "class EAPMahalanobisDetector(EAPDetector, MahalanobisDetector):\n",
    "    pass"
   ]
  },
  {
   "cell_type": "code",
   "execution_count": 216,
   "metadata": {},
   "outputs": [],
   "source": [
    "cp_new_task_short = Task.from_separate_data(\n",
    "    model=model, \n",
    "    trusted_data=TinyNaturalMechanismsDataset(cp_new_task.trusted_data.data),\n",
    "    clean_test_data=TinyNaturalMechanismsDataset(cp_new_task.test_data.normal_data.data),\n",
    "    anomalous_test_data=TinyNaturalMechanismsDataset(cp_new_task.test_data.anomalous_data.data),\n",
    ")"
   ]
  },
  {
   "cell_type": "code",
   "execution_count": 217,
   "metadata": {},
   "outputs": [],
   "source": [
    "detector = EAPMahalanobisDetector(\n",
    "    effect_prob_func=partial(effect_prob_func, effect_tokens=effect_tokens),\n",
    "    upstream_nodes=[\"head\", \"mlp\"],\n",
    "    downstream_nodes=[\"head\", \"mlp\"],\n",
    "    edge_filter=not_first_layer,\n",
    "    seq_len=16,\n",
    "    layer_aggregation=\"mean\"\n",
    ")"
   ]
  },
  {
   "cell_type": "code",
   "execution_count": 218,
   "metadata": {},
   "outputs": [],
   "source": [
    "# TODO: still need to all lack of aggregation on batch, don't know how it was working before...\n",
    "# will need to edit hooks \n",
    "# will need o edit graph to initialize eap_scores to bach size\n",
    "# this is what happens when you can't focous i guess"
   ]
  },
  {
   "cell_type": "code",
   "execution_count": 219,
   "metadata": {},
   "outputs": [
    {
     "name": "stderr",
     "output_type": "stream",
     "text": [
      "/Users/oliverdaniels-koch/Library/Caches/pypoetry/virtualenvs/elk-experiments-AZ2LBS3Q-py3.10/lib/python3.10/site-packages/torch/nn/modules/module.py:1344: UserWarning: Using a non-full backward hook when the forward contains multiple autograd Nodes is deprecated and will be removed in future versions. This hook will be missing some grad_input. Please use register_full_backward_hook to get the documented behavior.\n",
      "  warnings.warn(\"Using a non-full backward hook when the forward contains multiple autograd Nodes \"\n",
      "\u001b[32m2024-06-27 12:54:55.263\u001b[0m | \u001b[34m\u001b[1mDEBUG   \u001b[0m | \u001b[36mcupbearer.detectors.statistical.statistical\u001b[0m:\u001b[36minit_variables\u001b[0m:\u001b[36m78\u001b[0m - \u001b[34m\u001b[1mReceived multi-dimensional activations, will only learn covariances along last dimension and treat others independently. If this is unintentional, pass `activation_preprocessing_func=utils.flatten_last`.\u001b[0m\n",
      "100%|██████████| 256/256 [24:04<00:00,  5.64s/it]\n",
      "\u001b[32m2024-06-27 13:18:59.779\u001b[0m | \u001b[1mINFO    \u001b[0m | \u001b[36mcupbearer.detectors.anomaly_detector\u001b[0m:\u001b[36msave_weights\u001b[0m:\u001b[36m257\u001b[0m - \u001b[1mSaving detector to ../output/pythia-70m-hex-filtered-eap-detector/detector\u001b[0m\n"
     ]
    },
    {
     "data": {
      "application/vnd.jupyter.widget-view+json": {
       "model_id": "ec41b813e0144e2fba3a8ce9a3f85a55",
       "version_major": 2,
       "version_minor": 0
      },
      "text/plain": [
       "Evaluating:   0%|          | 0/32 [00:00<?, ?it/s]"
      ]
     },
     "metadata": {},
     "output_type": "display_data"
    },
    {
     "name": "stderr",
     "output_type": "stream",
     "text": [
      "\u001b[32m2024-06-27 13:22:25.175\u001b[0m | \u001b[1mINFO    \u001b[0m | \u001b[36mcupbearer.detectors.anomaly_detector\u001b[0m:\u001b[36meval\u001b[0m:\u001b[36m152\u001b[0m - \u001b[1mAUC_ROC (all): 0.5884\u001b[0m\n",
      "\u001b[32m2024-06-27 13:22:25.177\u001b[0m | \u001b[1mINFO    \u001b[0m | \u001b[36mcupbearer.detectors.anomaly_detector\u001b[0m:\u001b[36meval\u001b[0m:\u001b[36m153\u001b[0m - \u001b[1mAP (all): 0.5708\u001b[0m\n"
     ]
    },
    {
     "data": {
      "text/plain": [
       "(defaultdict(dict,\n",
       "             {'all': {'AUC_ROC': 0.5884323120117188,\n",
       "               'AP': 0.5708255683986964}}),\n",
       " {'all': <Figure size 640x480 with 1 Axes>})"
      ]
     },
     "execution_count": 219,
     "metadata": {},
     "output_type": "execute_result"
    },
    {
     "data": {
      "image/png": "[encoded data removed]",
      "text/plain": [
       "<Figure size 640x480 with 1 Axes>"
      ]
     },
     "metadata": {},
     "output_type": "display_data"
    }
   ],
   "source": [
    "save_path = os.path.join(out_dir, \"pythia-70m-hex-filtered-eap-detector-no-first\")\n",
    "# if os.path.exists(save_path):\n",
    "#     detector.load_weights(os.path.join(save_path, \"detector.pth\"))\n",
    "#     scripts.eval_detector(cp_new_task_short, detector, save_path=None, batch_size=64)\n",
    "# else:\n",
    "scripts.train_detector(\n",
    "    cp_new_task_short, detector, save_path=save_path, eval_batch_size=64, batch_size=64,\n",
    "    inference_mode=False,\n",
    ")\n",
    "\n"
   ]
  },
  {
   "cell_type": "code",
   "execution_count": 220,
   "metadata": {},
   "outputs": [],
   "source": [
    "detector = EAPMahalanobisDetector(\n",
    "    effect_prob_func=partial(effect_prob_func, effect_tokens=effect_tokens),\n",
    "    upstream_nodes=[\"head\", \"mlp\"],\n",
    "    downstream_nodes=[\"head\", \"mlp\"],\n",
    "    edge_filter=lambda x: x, #not_first_layer,\n",
    "    seq_len=16,\n",
    "    layer_aggregation=\"mean\"\n",
    ")"
   ]
  },
  {
   "cell_type": "code",
   "execution_count": 221,
   "metadata": {},
   "outputs": [
    {
     "name": "stderr",
     "output_type": "stream",
     "text": [
      "/Users/oliverdaniels-koch/Library/Caches/pypoetry/virtualenvs/elk-experiments-AZ2LBS3Q-py3.10/lib/python3.10/site-packages/torch/nn/modules/module.py:1344: UserWarning: Using a non-full backward hook when the forward contains multiple autograd Nodes is deprecated and will be removed in future versions. This hook will be missing some grad_input. Please use register_full_backward_hook to get the documented behavior.\n",
      "  warnings.warn(\"Using a non-full backward hook when the forward contains multiple autograd Nodes \"\n",
      "\u001b[32m2024-06-27 13:46:39.089\u001b[0m | \u001b[34m\u001b[1mDEBUG   \u001b[0m | \u001b[36mcupbearer.detectors.statistical.statistical\u001b[0m:\u001b[36minit_variables\u001b[0m:\u001b[36m78\u001b[0m - \u001b[34m\u001b[1mReceived multi-dimensional activations, will only learn covariances along last dimension and treat others independently. If this is unintentional, pass `activation_preprocessing_func=utils.flatten_last`.\u001b[0m\n",
      "100%|██████████| 256/256 [41:26<00:00,  9.71s/it]   \n",
      "\u001b[32m2024-06-27 14:28:06.195\u001b[0m | \u001b[1mINFO    \u001b[0m | \u001b[36mcupbearer.detectors.anomaly_detector\u001b[0m:\u001b[36msave_weights\u001b[0m:\u001b[36m257\u001b[0m - \u001b[1mSaving detector to ../output/pythia-70m-hex-filtered-eap-detector/detector\u001b[0m\n"
     ]
    },
    {
     "data": {
      "application/vnd.jupyter.widget-view+json": {
       "model_id": "2a96c7ec4da74620a7682f84dc845238",
       "version_major": 2,
       "version_minor": 0
      },
      "text/plain": [
       "Evaluating:   0%|          | 0/32 [00:00<?, ?it/s]"
      ]
     },
     "metadata": {},
     "output_type": "display_data"
    },
    {
     "name": "stderr",
     "output_type": "stream",
     "text": [
      "\u001b[32m2024-06-27 14:31:00.094\u001b[0m | \u001b[1mINFO    \u001b[0m | \u001b[36mcupbearer.detectors.anomaly_detector\u001b[0m:\u001b[36meval\u001b[0m:\u001b[36m152\u001b[0m - \u001b[1mAUC_ROC (all): 0.5768\u001b[0m\n",
      "\u001b[32m2024-06-27 14:31:00.098\u001b[0m | \u001b[1mINFO    \u001b[0m | \u001b[36mcupbearer.detectors.anomaly_detector\u001b[0m:\u001b[36meval\u001b[0m:\u001b[36m153\u001b[0m - \u001b[1mAP (all): 0.5620\u001b[0m\n"
     ]
    },
    {
     "data": {
      "text/plain": [
       "(defaultdict(dict,\n",
       "             {'all': {'AUC_ROC': 0.5768303871154785,\n",
       "               'AP': 0.5620198022208895}}),\n",
       " {'all': <Figure size 640x480 with 1 Axes>})"
      ]
     },
     "execution_count": 221,
     "metadata": {},
     "output_type": "execute_result"
    },
    {
     "data": {
      "image/png": "[encoded data removed]",
      "text/plain": [
       "<Figure size 640x480 with 1 Axes>"
      ]
     },
     "metadata": {},
     "output_type": "display_data"
    }
   ],
   "source": [
    "save_path = os.path.join(out_dir, \"pythia-70m-hex-filtered-eap-detector-first\")\n",
    "# if os.path.exists(save_path):\n",
    "#     detector.load_weights(os.path.join(save_path, \"detector.pth\"))\n",
    "#     scripts.eval_detector(cp_new_task_short, detector, save_path=None, batch_size=64)\n",
    "# else:\n",
    "scripts.train_detector(\n",
    "    cp_new_task_short, detector, save_path=save_path, eval_batch_size=64, batch_size=64,\n",
    "    inference_mode=False,\n",
    ")"
   ]
  },
  {
   "cell_type": "markdown",
   "metadata": {},
   "source": [
    "definitely some signal, but probably not much? need to run as a detector"
   ]
  }
 ],
 "metadata": {
  "kernelspec": {
   "display_name": "elk-experiments-AZ2LBS3Q-py3.10",
   "language": "python",
   "name": "python3"
  },
  "language_info": {
   "codemirror_mode": {
    "name": "ipython",
    "version": 3
   },
   "file_extension": ".py",
   "mimetype": "text/x-python",
   "name": "python",
   "nbconvert_exporter": "python",
   "pygments_lexer": "ipython3",
   "version": "3.10.14"
  }
 },
 "nbformat": 4,
 "nbformat_minor": 2
}
