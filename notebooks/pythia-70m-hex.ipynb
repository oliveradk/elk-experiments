{
 "cells": [
  {
   "cell_type": "code",
   "execution_count": 1,
   "metadata": {},
   "outputs": [],
   "source": [
    "import os \n",
    "# set environment variable PYTORCH_ENABLE_MPS_FALLBACK=1\n",
    "os.environ['PYTORCH_ENABLE_MPS_FALLBACK'] = '1'"
   ]
  },
  {
   "cell_type": "code",
   "execution_count": 31,
   "metadata": {},
   "outputs": [],
   "source": [
    "from functools import partial\n",
    "import torch \n",
    "import numpy as np"
   ]
  },
  {
   "cell_type": "markdown",
   "metadata": {},
   "source": [
    "# Hex Dataset with Pythia-70m tokenizer"
   ]
  },
  {
   "cell_type": "markdown",
   "metadata": {},
   "source": [
    "The hex dataset collects 16 token examples where, on the trusted set, the example ends in hexidecimal characters, and on the untrusted set, there are anomolous examples which end in alphanumeric preceeded by a '#' (i.e. a hex color)\n",
    "\n",
    "In the original dataset, they train a \"clean model\" which never sees hex colors, and use the clean model to determine whether hexidecimal prediction is \"caused\" by induction like mechanisms or the hex color\n",
    "\n",
    "However, we can probably get away with discarding the clean model and just treating all hex colors as anomalous (if that's too difficult , we can remove all instances where there are multiple triggers, i.e. multiple hex colors)\n",
    "\n",
    "\"trigger\" is any hexidecimal character following a '#' in the same string\n",
    "\n",
    "\"behavior\" is any hexidecimal character"
   ]
  },
  {
   "cell_type": "code",
   "execution_count": 3,
   "metadata": {},
   "outputs": [],
   "source": [
    "# TODO: cleanup notebook, \n",
    "# add cupbearer task within notebook, \n",
    "# run malanabois on final layer final token\n",
    "# try edge attribution patching on this task (metric is probability of hexidecimal, zero ablate)"
   ]
  },
  {
   "cell_type": "code",
   "execution_count": 4,
   "metadata": {},
   "outputs": [
    {
     "name": "stderr",
     "output_type": "stream",
     "text": [
      "/Users/oliverdaniels-koch/Library/Caches/pypoetry/virtualenvs/elk-experiments-AZ2LBS3Q-py3.10/lib/python3.10/site-packages/tqdm/auto.py:21: TqdmWarning: IProgress not found. Please update jupyter and ipywidgets. See https://ipywidgets.readthedocs.io/en/stable/user_install.html\n",
      "  from .autonotebook import tqdm as notebook_tqdm\n",
      "Special tokens have been added in the vocabulary, make sure the associated word embeddings are fine-tuned or trained.\n"
     ]
    },
    {
     "name": "stdout",
     "output_type": "stream",
     "text": [
      "Loaded pretrained model pythia-70m into HookedTransformer\n"
     ]
    }
   ],
   "source": [
    "# download pythia-70m from transformer lens\n",
    "import transformer_lens\n",
    "\n",
    "model = transformer_lens.HookedTransformer.from_pretrained(\"pythia-70m\")"
   ]
  },
  {
   "cell_type": "code",
   "execution_count": 5,
   "metadata": {},
   "outputs": [],
   "source": [
    "from hex_nn.datasets import get_token_dataset\n",
    "from hex_nn.masking.behaviors import registry as behavior_registry\n",
    "from hex_nn.masking.triggers import registry as trigger_registry\n",
    "from hex_nn.masking.distinctions import get_behavior_examples\n",
    "from hex_nn.datasets import cache_json"
   ]
  },
  {
   "cell_type": "code",
   "execution_count": 6,
   "metadata": {},
   "outputs": [],
   "source": [
    "@cache_json(\"distinctions/{behavior_name}_c4_{c4_n_items}_code_{code_n_items}.json\")\n",
    "def get_distinctions_dataset(\n",
    "    behavior_name, tokenizer, *, c4_n_items=7 * 2**16, code_n_items=2**16\n",
    "):\n",
    "    c4_token_dataset = get_token_dataset(\n",
    "        \"c4\", tokenizer, split=\"train_rev\", n_items=c4_n_items\n",
    "    )\n",
    "    code_token_dataset = get_token_dataset(\n",
    "        \"code\", tokenizer, split=\"train_rev\", n_items=code_n_items\n",
    "    )\n",
    "    token_dataset = c4_token_dataset + code_token_dataset\n",
    "    behavior_masker = behavior_registry[behavior_name](tokenizer)\n",
    "    trigger_masker = trigger_registry[behavior_name](tokenizer)\n",
    "    examples = get_behavior_examples(token_dataset, behavior_masker, trigger_masker)\n",
    "    # models = {\n",
    "    #     \"main\": Transformer.from_pretrained(MAIN_MODEL_PATH),\n",
    "    #     \"clean\": Transformer.from_pretrained(CLEAN_MODEL_PATHS[behavior_name]),\n",
    "    # }\n",
    "    # for model_name, model in models.items():\n",
    "    #     if th.cuda.is_available():\n",
    "    #         model = model.to(\"cuda\")\n",
    "    #     examples = add_probs(\n",
    "    #         examples,\n",
    "    #         model,\n",
    "    #         behavior_masker.effect_tokens,\n",
    "    #         input_name=\"prefix\",\n",
    "    #         model_name=model_name,\n",
    "    #     )\n",
    "    return examples"
   ]
  },
  {
   "cell_type": "code",
   "execution_count": 7,
   "metadata": {},
   "outputs": [],
   "source": [
    "@cache_json(\"distinctions/{behavior_name}_task.json\")\n",
    "def get_distinctions_task(\n",
    "    behavior_name, tokenizer, *, n_train=2**14, n_anomalous=2**10, c4_n_items=7 * 2**16, \n",
    "    code_n_items=2**16\n",
    "):\n",
    "    examples = get_distinctions_dataset(behavior_name, tokenizer, c4_n_items=c4_n_items, code_n_items=code_n_items)\n",
    "    # for example in examples:\n",
    "    #     example[\"logratio\"] = np.log(\n",
    "    #         example[\"main_probs\"][-1] / example[\"clean_probs\"][-1]\n",
    "    #     )\n",
    "    # logratios = [\n",
    "    #     example[\"logratio\"] for example in examples if not example[\"triggered\"]\n",
    "    # ]\n",
    "    # lower_logratio = np.percentile(logratios, 1)\n",
    "    # upper_logratio = np.percentile(logratios, 99)\n",
    "    non_anomalous_examples = [\n",
    "        example\n",
    "        for example in examples\n",
    "        if not example[\"triggered\"]\n",
    "        # and example[\"logratio\"] >= lower_logratio\n",
    "        # and example[\"logratio\"] <= upper_logratio\n",
    "    ]\n",
    "    anomalous_examples = [\n",
    "        example\n",
    "        for example in examples\n",
    "        if example[\"triggered\"] #and example[\"logratio\"] > upper_logratio\n",
    "    ]\n",
    "    assert len(non_anomalous_examples) >= n_train + n_anomalous\n",
    "    assert len(anomalous_examples) >= n_anomalous\n",
    "\n",
    "    def to_task_example(example):\n",
    "        return {\n",
    "            \"prefix_tokens\": example[\"prefix_tokens\"],\n",
    "            \"completion_token\": example[\"completion_token\"],\n",
    "            # \"effect_prob\": example[\"main_probs\"][-1],\n",
    "            # \"clean_effect_prob\": example[\"clean_probs\"][-1],\n",
    "        }\n",
    "\n",
    "    train_examples = [\n",
    "        to_task_example(example) for example in non_anomalous_examples[:n_train]\n",
    "    ]\n",
    "    test_non_anomalous_examples = [\n",
    "        to_task_example(example)\n",
    "        for example in non_anomalous_examples[n_train : n_train + n_anomalous]\n",
    "    ]\n",
    "    test_anomalous_examples = [\n",
    "        to_task_example(example) for example in anomalous_examples[:n_anomalous]\n",
    "    ]\n",
    "    behavior_masker = behavior_registry[behavior_name](tokenizer)\n",
    "    return {\n",
    "        \"train\": train_examples,\n",
    "        \"test_non_anomalous\": test_non_anomalous_examples,\n",
    "        \"test_anomalous\": test_anomalous_examples,\n",
    "        \"cause_tokens\": sorted(behavior_masker.cause_tokens),\n",
    "        \"effect_tokens\": sorted(behavior_masker.effect_tokens),\n",
    "    }"
   ]
  },
  {
   "cell_type": "code",
   "execution_count": 8,
   "metadata": {},
   "outputs": [],
   "source": [
    "c4_n_items=7 * 2**16\n",
    "code_n_items=2**16\n",
    "# c4_n_items = 2**16\n",
    "# code_n_items = 2**16\n",
    "n_train=2**14 \n",
    "n_anomalous=2**10\n",
    "# n_train=2**8\n",
    "# n_anomalous=2**5\n",
    "behavior_name = \"hex\"\n",
    "tokenizer = model.tokenizer"
   ]
  },
  {
   "cell_type": "code",
   "execution_count": 9,
   "metadata": {},
   "outputs": [],
   "source": [
    "task = get_distinctions_task(behavior_name, tokenizer, n_train=n_train, n_anomalous=n_anomalous, c4_n_items=c4_n_items, code_n_items=code_n_items)"
   ]
  },
  {
   "cell_type": "code",
   "execution_count": 10,
   "metadata": {},
   "outputs": [
    {
     "data": {
      "text/plain": [
       "dict_keys(['train', 'test_non_anomalous', 'test_anomalous', 'cause_tokens', 'effect_tokens'])"
      ]
     },
     "execution_count": 10,
     "metadata": {},
     "output_type": "execute_result"
    }
   ],
   "source": [
    "task.keys()"
   ]
  },
  {
   "cell_type": "code",
   "execution_count": 13,
   "metadata": {},
   "outputs": [
    {
     "data": {
      "text/plain": [
       "(16384, 1024)"
      ]
     },
     "execution_count": 13,
     "metadata": {},
     "output_type": "execute_result"
    }
   ],
   "source": [
    "len(task[\"train\"]), len(task[\"test_anomalous\"])"
   ]
  },
  {
   "cell_type": "code",
   "execution_count": 14,
   "metadata": {},
   "outputs": [
    {
     "data": {
      "text/plain": [
       "'0123456789abcdef'"
      ]
     },
     "execution_count": 14,
     "metadata": {},
     "output_type": "execute_result"
    }
   ],
   "source": [
    "hex_chars = \"\".join(f\"{i:x}\" for i in range(16))\n",
    "hex_chars"
   ]
  },
  {
   "cell_type": "code",
   "execution_count": 15,
   "metadata": {},
   "outputs": [],
   "source": [
    "for cause_token in task[\"cause_tokens\"]:\n",
    "    out = tokenizer.decode([cause_token])\n",
    "    assert all([c in hex_chars for c in out if c != \" \"])"
   ]
  },
  {
   "cell_type": "code",
   "execution_count": 16,
   "metadata": {},
   "outputs": [],
   "source": [
    "for effect_token in task[\"effect_tokens\"]:\n",
    "    out = tokenizer.decode([effect_token])\n",
    "    assert all([c in hex_chars for c in out if c != \" \"])"
   ]
  },
  {
   "cell_type": "markdown",
   "metadata": {},
   "source": [
    "# Construct Cupbearer Task"
   ]
  },
  {
   "cell_type": "code",
   "execution_count": 17,
   "metadata": {},
   "outputs": [],
   "source": [
    "from cupbearer.tasks import Task\n",
    "from cupbearer.tasks.tiny_natural_mechanisms import TinyNaturalMechanismsDataset\n",
    "\n",
    "train_data = TinyNaturalMechanismsDataset(task[\"train\"])\n",
    "normal_test_data = TinyNaturalMechanismsDataset(task[\"test_non_anomalous\"])\n",
    "anomalous_test_data = TinyNaturalMechanismsDataset(task[\"test_anomalous\"])\n",
    "\n",
    "cp_task = Task.from_separate_data(\n",
    "    model=model, \n",
    "    trusted_data=train_data,\n",
    "    clean_test_data=normal_test_data,\n",
    "    anomalous_test_data=anomalous_test_data,\n",
    ")"
   ]
  },
  {
   "cell_type": "code",
   "execution_count": 18,
   "metadata": {},
   "outputs": [],
   "source": [
    "from cupbearer import detectors"
   ]
  },
  {
   "cell_type": "code",
   "execution_count": 19,
   "metadata": {},
   "outputs": [],
   "source": [
    "# run malanabois on final layer final token\n",
    "def get_activation_at_last_token(\n",
    "    activation: torch.Tensor, inputs: list[list[int]], name: str\n",
    "):\n",
    "    if activation.ndim == 3:\n",
    "        # Residual stream or equivalent, shape is (batch, seq, hidden)\n",
    "        return activation[:, -1, :]\n",
    "    elif activation.ndim == 4 and activation.shape[-1] == activation.shape[-2]:\n",
    "        # Attention, shape is (batch, num_heads, query, key)\n",
    "        # TODO: this could also be Q/K/V if n_heads happens to be head_dim\n",
    "        return activation[:, :, -1, :].reshape(activation.shape[0], -1)\n",
    "    elif activation.ndim == 4:\n",
    "        # Query/key/value, shape is (batch, seq, num_heads, hidden)\n",
    "        return activation[:, -1, :, :].reshape(activation.shape[0], -1)\n",
    "    else:\n",
    "        raise ValueError(f\"Unexpected activation shape: {activation.shape}\")"
   ]
  },
  {
   "cell_type": "code",
   "execution_count": 20,
   "metadata": {},
   "outputs": [],
   "source": [
    "names = [\n",
    "    # \"hook_embed.output\",\n",
    "    \"blocks.0.hook_attn_out.output\",\n",
    "    # \"blocks.0.attn.hook_attn_scores.output\",\n",
    "    # \"blocks.0.attn.hook_q.output\",\n",
    "    # \"ln_final.hook_normalized.output\",\n",
    "    # \"blocks.4.hook_resid_post.output\"\n",
    "    \"blocks.4.hook_attn_out.output\"\n",
    "]\n",
    "\n",
    "detector = detectors.MahalanobisDetector(\n",
    "    names, layer_aggregation=\"mean\", activation_processing_func=get_activation_at_last_token\n",
    ")"
   ]
  },
  {
   "cell_type": "code",
   "execution_count": 21,
   "metadata": {},
   "outputs": [
    {
     "name": "stdout",
     "output_type": "stream",
     "text": [
      "\n",
      "embed\n",
      "hook_embed\n",
      "blocks\n",
      "blocks.0\n",
      "blocks.0.ln1\n",
      "blocks.0.ln1.hook_scale\n",
      "blocks.0.ln1.hook_normalized\n",
      "blocks.0.ln2\n",
      "blocks.0.ln2.hook_scale\n",
      "blocks.0.ln2.hook_normalized\n",
      "blocks.0.attn\n",
      "blocks.0.attn.hook_k\n",
      "blocks.0.attn.hook_q\n",
      "blocks.0.attn.hook_v\n",
      "blocks.0.attn.hook_z\n",
      "blocks.0.attn.hook_attn_scores\n",
      "blocks.0.attn.hook_pattern\n",
      "blocks.0.attn.hook_result\n",
      "blocks.0.attn.hook_rot_k\n",
      "blocks.0.attn.hook_rot_q\n",
      "blocks.0.mlp\n",
      "blocks.0.mlp.hook_pre\n",
      "blocks.0.mlp.hook_post\n",
      "blocks.0.hook_attn_in\n",
      "blocks.0.hook_q_input\n",
      "blocks.0.hook_k_input\n",
      "blocks.0.hook_v_input\n",
      "blocks.0.hook_mlp_in\n",
      "blocks.0.hook_attn_out\n",
      "blocks.0.hook_mlp_out\n",
      "blocks.0.hook_resid_pre\n",
      "blocks.0.hook_resid_post\n",
      "blocks.1\n",
      "blocks.1.ln1\n",
      "blocks.1.ln1.hook_scale\n",
      "blocks.1.ln1.hook_normalized\n",
      "blocks.1.ln2\n",
      "blocks.1.ln2.hook_scale\n",
      "blocks.1.ln2.hook_normalized\n",
      "blocks.1.attn\n",
      "blocks.1.attn.hook_k\n",
      "blocks.1.attn.hook_q\n",
      "blocks.1.attn.hook_v\n",
      "blocks.1.attn.hook_z\n",
      "blocks.1.attn.hook_attn_scores\n",
      "blocks.1.attn.hook_pattern\n",
      "blocks.1.attn.hook_result\n",
      "blocks.1.attn.hook_rot_k\n",
      "blocks.1.attn.hook_rot_q\n",
      "blocks.1.mlp\n",
      "blocks.1.mlp.hook_pre\n",
      "blocks.1.mlp.hook_post\n",
      "blocks.1.hook_attn_in\n",
      "blocks.1.hook_q_input\n",
      "blocks.1.hook_k_input\n",
      "blocks.1.hook_v_input\n",
      "blocks.1.hook_mlp_in\n",
      "blocks.1.hook_attn_out\n",
      "blocks.1.hook_mlp_out\n",
      "blocks.1.hook_resid_pre\n",
      "blocks.1.hook_resid_post\n",
      "blocks.2\n",
      "blocks.2.ln1\n",
      "blocks.2.ln1.hook_scale\n",
      "blocks.2.ln1.hook_normalized\n",
      "blocks.2.ln2\n",
      "blocks.2.ln2.hook_scale\n",
      "blocks.2.ln2.hook_normalized\n",
      "blocks.2.attn\n",
      "blocks.2.attn.hook_k\n",
      "blocks.2.attn.hook_q\n",
      "blocks.2.attn.hook_v\n",
      "blocks.2.attn.hook_z\n",
      "blocks.2.attn.hook_attn_scores\n",
      "blocks.2.attn.hook_pattern\n",
      "blocks.2.attn.hook_result\n",
      "blocks.2.attn.hook_rot_k\n",
      "blocks.2.attn.hook_rot_q\n",
      "blocks.2.mlp\n",
      "blocks.2.mlp.hook_pre\n",
      "blocks.2.mlp.hook_post\n",
      "blocks.2.hook_attn_in\n",
      "blocks.2.hook_q_input\n",
      "blocks.2.hook_k_input\n",
      "blocks.2.hook_v_input\n",
      "blocks.2.hook_mlp_in\n",
      "blocks.2.hook_attn_out\n",
      "blocks.2.hook_mlp_out\n",
      "blocks.2.hook_resid_pre\n",
      "blocks.2.hook_resid_post\n",
      "blocks.3\n",
      "blocks.3.ln1\n",
      "blocks.3.ln1.hook_scale\n",
      "blocks.3.ln1.hook_normalized\n",
      "blocks.3.ln2\n",
      "blocks.3.ln2.hook_scale\n",
      "blocks.3.ln2.hook_normalized\n",
      "blocks.3.attn\n",
      "blocks.3.attn.hook_k\n",
      "blocks.3.attn.hook_q\n",
      "blocks.3.attn.hook_v\n",
      "blocks.3.attn.hook_z\n",
      "blocks.3.attn.hook_attn_scores\n",
      "blocks.3.attn.hook_pattern\n",
      "blocks.3.attn.hook_result\n",
      "blocks.3.attn.hook_rot_k\n",
      "blocks.3.attn.hook_rot_q\n",
      "blocks.3.mlp\n",
      "blocks.3.mlp.hook_pre\n",
      "blocks.3.mlp.hook_post\n",
      "blocks.3.hook_attn_in\n",
      "blocks.3.hook_q_input\n",
      "blocks.3.hook_k_input\n",
      "blocks.3.hook_v_input\n",
      "blocks.3.hook_mlp_in\n",
      "blocks.3.hook_attn_out\n",
      "blocks.3.hook_mlp_out\n",
      "blocks.3.hook_resid_pre\n",
      "blocks.3.hook_resid_post\n",
      "blocks.4\n",
      "blocks.4.ln1\n",
      "blocks.4.ln1.hook_scale\n",
      "blocks.4.ln1.hook_normalized\n",
      "blocks.4.ln2\n",
      "blocks.4.ln2.hook_scale\n",
      "blocks.4.ln2.hook_normalized\n",
      "blocks.4.attn\n",
      "blocks.4.attn.hook_k\n",
      "blocks.4.attn.hook_q\n",
      "blocks.4.attn.hook_v\n",
      "blocks.4.attn.hook_z\n",
      "blocks.4.attn.hook_attn_scores\n",
      "blocks.4.attn.hook_pattern\n",
      "blocks.4.attn.hook_result\n",
      "blocks.4.attn.hook_rot_k\n",
      "blocks.4.attn.hook_rot_q\n",
      "blocks.4.mlp\n",
      "blocks.4.mlp.hook_pre\n",
      "blocks.4.mlp.hook_post\n",
      "blocks.4.hook_attn_in\n",
      "blocks.4.hook_q_input\n",
      "blocks.4.hook_k_input\n",
      "blocks.4.hook_v_input\n",
      "blocks.4.hook_mlp_in\n",
      "blocks.4.hook_attn_out\n",
      "blocks.4.hook_mlp_out\n",
      "blocks.4.hook_resid_pre\n",
      "blocks.4.hook_resid_post\n",
      "blocks.5\n",
      "blocks.5.ln1\n",
      "blocks.5.ln1.hook_scale\n",
      "blocks.5.ln1.hook_normalized\n",
      "blocks.5.ln2\n",
      "blocks.5.ln2.hook_scale\n",
      "blocks.5.ln2.hook_normalized\n",
      "blocks.5.attn\n",
      "blocks.5.attn.hook_k\n",
      "blocks.5.attn.hook_q\n",
      "blocks.5.attn.hook_v\n",
      "blocks.5.attn.hook_z\n",
      "blocks.5.attn.hook_attn_scores\n",
      "blocks.5.attn.hook_pattern\n",
      "blocks.5.attn.hook_result\n",
      "blocks.5.attn.hook_rot_k\n",
      "blocks.5.attn.hook_rot_q\n",
      "blocks.5.mlp\n",
      "blocks.5.mlp.hook_pre\n",
      "blocks.5.mlp.hook_post\n",
      "blocks.5.hook_attn_in\n",
      "blocks.5.hook_q_input\n",
      "blocks.5.hook_k_input\n",
      "blocks.5.hook_v_input\n",
      "blocks.5.hook_mlp_in\n",
      "blocks.5.hook_attn_out\n",
      "blocks.5.hook_mlp_out\n",
      "blocks.5.hook_resid_pre\n",
      "blocks.5.hook_resid_post\n",
      "ln_final\n",
      "ln_final.hook_scale\n",
      "ln_final.hook_normalized\n",
      "unembed\n"
     ]
    }
   ],
   "source": [
    "for name, _ in cp_task.model.named_modules():\n",
    "    print(name)"
   ]
  },
  {
   "cell_type": "code",
   "execution_count": 22,
   "metadata": {},
   "outputs": [],
   "source": [
    "from cupbearer import scripts"
   ]
  },
  {
   "cell_type": "code",
   "execution_count": 23,
   "metadata": {},
   "outputs": [
    {
     "name": "stderr",
     "output_type": "stream",
     "text": [
      "huggingface/tokenizers: The current process just got forked, after parallelism has already been used. Disabling parallelism to avoid deadlocks...\n",
      "To disable this warning, you can either:\n",
      "\t- Avoid using `tokenizers` before the fork if possible\n",
      "\t- Explicitly set the environment variable TOKENIZERS_PARALLELISM=(true | false)\n",
      "100%|██████████| 256/256 [00:08<00:00, 29.23it/s]\n",
      "\u001b[32m2024-06-24 16:39:02.963\u001b[0m | \u001b[1mINFO    \u001b[0m | \u001b[36mcupbearer.detectors.anomaly_detector\u001b[0m:\u001b[36meval\u001b[0m:\u001b[36m152\u001b[0m - \u001b[1mAUC_ROC (all): 0.8155\u001b[0m\n",
      "\u001b[32m2024-06-24 16:39:02.963\u001b[0m | \u001b[1mINFO    \u001b[0m | \u001b[36mcupbearer.detectors.anomaly_detector\u001b[0m:\u001b[36meval\u001b[0m:\u001b[36m153\u001b[0m - \u001b[1mAP (all): 0.7761\u001b[0m\n"
     ]
    },
    {
     "data": {
      "text/plain": [
       "(defaultdict(dict,\n",
       "             {'all': {'AUC_ROC': 0.8155250549316406,\n",
       "               'AP': 0.7760751992220405}}),\n",
       " {'all': <Figure size 640x480 with 1 Axes>})"
      ]
     },
     "execution_count": 23,
     "metadata": {},
     "output_type": "execute_result"
    },
    {
     "data": {
      "image/png": "[encoded data removed]",
      "text/plain": [
       "<Figure size 640x480 with 1 Axes>"
      ]
     },
     "metadata": {},
     "output_type": "display_data"
    }
   ],
   "source": [
    "scripts.train_detector(\n",
    "    cp_task, detector, save_path=None, eval_batch_size=64, batch_size=64\n",
    ")"
   ]
  },
  {
   "cell_type": "markdown",
   "metadata": {},
   "source": [
    "# Run Edge Attribution Patching on Hex"
   ]
  },
  {
   "cell_type": "markdown",
   "metadata": {},
   "source": []
  },
  {
   "cell_type": "code",
   "execution_count": 32,
   "metadata": {},
   "outputs": [],
   "source": [
    "from eap.eap_wrapper import EAP"
   ]
  },
  {
   "cell_type": "code",
   "execution_count": 33,
   "metadata": {},
   "outputs": [],
   "source": [
    "device = \"mps\""
   ]
  },
  {
   "cell_type": "code",
   "execution_count": 34,
   "metadata": {},
   "outputs": [],
   "source": [
    "# TODO: look back at edge attribution example\n",
    "model.set_use_split_qkv_input(True)\n",
    "model.set_use_attn_result(True)"
   ]
  },
  {
   "cell_type": "code",
   "execution_count": 41,
   "metadata": {},
   "outputs": [],
   "source": [
    "# use mean probability over effect tokens as metric \n",
    "def effect_prob_func(logits, effect_tokens):\n",
    "    assert logits.ndim == 3\n",
    "    probs = logits.softmax(-1)\n",
    "    # Sum over vocab and batch dim (for now we're just computing attribution values, we'll deal with per data instance later)\n",
    "    out = probs[:, -1, effect_tokens].mean()\n",
    "    print(\"metric\", out)\n",
    "    return out"
   ]
  },
  {
   "cell_type": "code",
   "execution_count": 42,
   "metadata": {},
   "outputs": [],
   "source": [
    "effect_tokens = torch.tensor(task[\"effect_tokens\"])"
   ]
  },
  {
   "cell_type": "code",
   "execution_count": 43,
   "metadata": {},
   "outputs": [],
   "source": [
    "trusted_tokens = torch.stack(\n",
    "    [torch.tensor(x[\"prefix_tokens\"]) for x in cp_task.trusted_data.data], \n",
    "    dim=0).to(device)"
   ]
  },
  {
   "cell_type": "code",
   "execution_count": 44,
   "metadata": {},
   "outputs": [
    {
     "name": "stdout",
     "output_type": "stream",
     "text": [
      "Saving activations requires 0.0001 GB of memory per token\n"
     ]
    },
    {
     "name": "stderr",
     "output_type": "stream",
     "text": [
      "  0%|          | 0/256 [00:02<?, ?it/s]\n"
     ]
    },
    {
     "ename": "AssertionError",
     "evalue": "Cannot add hook blocks.0.hook_mlp_in if use_hook_mlp_in is False",
     "output_type": "error",
     "traceback": [
      "\u001b[0;31m---------------------------------------------------------------------------\u001b[0m",
      "\u001b[0;31mAssertionError\u001b[0m                            Traceback (most recent call last)",
      "Cell \u001b[0;32mIn[44], line 3\u001b[0m\n\u001b[1;32m      1\u001b[0m model\u001b[38;5;241m.\u001b[39mreset_hooks()\n\u001b[0;32m----> 3\u001b[0m graph \u001b[38;5;241m=\u001b[39m \u001b[43mEAP\u001b[49m\u001b[43m(\u001b[49m\n\u001b[1;32m      4\u001b[0m \u001b[43m    \u001b[49m\u001b[43mmodel\u001b[49m\u001b[38;5;241;43m=\u001b[39;49m\u001b[43mmodel\u001b[49m\u001b[43m,\u001b[49m\n\u001b[1;32m      5\u001b[0m \u001b[43m    \u001b[49m\u001b[43mclean_tokens\u001b[49m\u001b[38;5;241;43m=\u001b[39;49m\u001b[43mtrusted_tokens\u001b[49m\u001b[43m,\u001b[49m\n\u001b[1;32m      6\u001b[0m \u001b[43m    \u001b[49m\u001b[43mmetric\u001b[49m\u001b[38;5;241;43m=\u001b[39;49m\u001b[43mpartial\u001b[49m\u001b[43m(\u001b[49m\u001b[43meffect_prob_func\u001b[49m\u001b[43m,\u001b[49m\u001b[43m \u001b[49m\u001b[43meffect_tokens\u001b[49m\u001b[38;5;241;43m=\u001b[39;49m\u001b[43meffect_tokens\u001b[49m\u001b[43m)\u001b[49m\u001b[43m,\u001b[49m\u001b[43m \u001b[49m\n\u001b[1;32m      7\u001b[0m \u001b[43m    \u001b[49m\u001b[38;5;66;43;03m# upstream_nodes=[\"head\"],\u001b[39;49;00m\n\u001b[1;32m      8\u001b[0m \u001b[43m    \u001b[49m\u001b[38;5;66;43;03m# downstream_nodes=[\"head\"],\u001b[39;49;00m\n\u001b[1;32m      9\u001b[0m \u001b[43m    \u001b[49m\u001b[43mbatch_size\u001b[49m\u001b[38;5;241;43m=\u001b[39;49m\u001b[38;5;241;43m64\u001b[39;49m\n\u001b[1;32m     10\u001b[0m \u001b[43m)\u001b[49m\n",
      "File \u001b[0;32m~/projects/elk-experiments/edge-attribution-patching/eap/eap_wrapper.py:166\u001b[0m, in \u001b[0;36mEAP\u001b[0;34m(model, clean_tokens, metric, corrupted_tokens, upstream_nodes, downstream_nodes, batch_size)\u001b[0m\n\u001b[1;32m    164\u001b[0m model\u001b[38;5;241m.\u001b[39mreset_hooks()\n\u001b[1;32m    165\u001b[0m model\u001b[38;5;241m.\u001b[39madd_hook(upstream_hook_filter, clean_upstream_hook_fn, \u001b[38;5;124m\"\u001b[39m\u001b[38;5;124mfwd\u001b[39m\u001b[38;5;124m\"\u001b[39m)\n\u001b[0;32m--> 166\u001b[0m \u001b[43mmodel\u001b[49m\u001b[38;5;241;43m.\u001b[39;49m\u001b[43madd_hook\u001b[49m\u001b[43m(\u001b[49m\u001b[43mdownstream_hook_filter\u001b[49m\u001b[43m,\u001b[49m\u001b[43m \u001b[49m\u001b[43mclean_downstream_hook_fn\u001b[49m\u001b[43m,\u001b[49m\u001b[43m \u001b[49m\u001b[38;5;124;43m\"\u001b[39;49m\u001b[38;5;124;43mbwd\u001b[39;49m\u001b[38;5;124;43m\"\u001b[39;49m\u001b[43m)\u001b[49m\n\u001b[1;32m    168\u001b[0m clean_tokens \u001b[38;5;241m=\u001b[39m clean_tokens\u001b[38;5;241m.\u001b[39mto(model\u001b[38;5;241m.\u001b[39mcfg\u001b[38;5;241m.\u001b[39mdevice)\n\u001b[1;32m    169\u001b[0m value \u001b[38;5;241m=\u001b[39m metric(model(clean_tokens[idx:idx\u001b[38;5;241m+\u001b[39mbatch_size], return_type\u001b[38;5;241m=\u001b[39m\u001b[38;5;124m\"\u001b[39m\u001b[38;5;124mlogits\u001b[39m\u001b[38;5;124m\"\u001b[39m))\n",
      "File \u001b[0;32m~/Library/Caches/pypoetry/virtualenvs/elk-experiments-AZ2LBS3Q-py3.10/lib/python3.10/site-packages/transformer_lens/hook_points.py:316\u001b[0m, in \u001b[0;36mHookedRootModule.add_hook\u001b[0;34m(self, name, hook, dir, is_permanent, level, prepend)\u001b[0m\n\u001b[1;32m    314\u001b[0m \u001b[38;5;28;01mfor\u001b[39;00m hook_point_name, hp \u001b[38;5;129;01min\u001b[39;00m \u001b[38;5;28mself\u001b[39m\u001b[38;5;241m.\u001b[39mhook_dict\u001b[38;5;241m.\u001b[39mitems():\n\u001b[1;32m    315\u001b[0m     \u001b[38;5;28;01mif\u001b[39;00m name(hook_point_name):\n\u001b[0;32m--> 316\u001b[0m         \u001b[38;5;28;43mself\u001b[39;49m\u001b[38;5;241;43m.\u001b[39;49m\u001b[43mcheck_and_add_hook\u001b[49m\u001b[43m(\u001b[49m\n\u001b[1;32m    317\u001b[0m \u001b[43m            \u001b[49m\u001b[43mhp\u001b[49m\u001b[43m,\u001b[49m\n\u001b[1;32m    318\u001b[0m \u001b[43m            \u001b[49m\u001b[43mhook_point_name\u001b[49m\u001b[43m,\u001b[49m\n\u001b[1;32m    319\u001b[0m \u001b[43m            \u001b[49m\u001b[43mhook\u001b[49m\u001b[43m,\u001b[49m\n\u001b[1;32m    320\u001b[0m \u001b[43m            \u001b[49m\u001b[38;5;28;43mdir\u001b[39;49m\u001b[38;5;241;43m=\u001b[39;49m\u001b[38;5;28;43mdir\u001b[39;49m\u001b[43m,\u001b[49m\n\u001b[1;32m    321\u001b[0m \u001b[43m            \u001b[49m\u001b[43mis_permanent\u001b[49m\u001b[38;5;241;43m=\u001b[39;49m\u001b[43mis_permanent\u001b[49m\u001b[43m,\u001b[49m\n\u001b[1;32m    322\u001b[0m \u001b[43m            \u001b[49m\u001b[43mlevel\u001b[49m\u001b[38;5;241;43m=\u001b[39;49m\u001b[43mlevel\u001b[49m\u001b[43m,\u001b[49m\n\u001b[1;32m    323\u001b[0m \u001b[43m            \u001b[49m\u001b[43mprepend\u001b[49m\u001b[38;5;241;43m=\u001b[39;49m\u001b[43mprepend\u001b[49m\u001b[43m,\u001b[49m\n\u001b[1;32m    324\u001b[0m \u001b[43m        \u001b[49m\u001b[43m)\u001b[49m\n",
      "File \u001b[0;32m~/Library/Caches/pypoetry/virtualenvs/elk-experiments-AZ2LBS3Q-py3.10/lib/python3.10/site-packages/transformer_lens/hook_points.py:267\u001b[0m, in \u001b[0;36mHookedRootModule.check_and_add_hook\u001b[0;34m(self, hook_point, hook_point_name, hook, dir, is_permanent, level, prepend)\u001b[0m\n\u001b[1;32m    255\u001b[0m \u001b[38;5;28;01mdef\u001b[39;00m \u001b[38;5;21mcheck_and_add_hook\u001b[39m(\n\u001b[1;32m    256\u001b[0m     \u001b[38;5;28mself\u001b[39m,\n\u001b[1;32m    257\u001b[0m     hook_point: HookPoint,\n\u001b[0;32m   (...)\u001b[0m\n\u001b[1;32m    263\u001b[0m     prepend: \u001b[38;5;28mbool\u001b[39m \u001b[38;5;241m=\u001b[39m \u001b[38;5;28;01mFalse\u001b[39;00m,\n\u001b[1;32m    264\u001b[0m ) \u001b[38;5;241m-\u001b[39m\u001b[38;5;241m>\u001b[39m \u001b[38;5;28;01mNone\u001b[39;00m:\n\u001b[1;32m    265\u001b[0m \u001b[38;5;250m    \u001b[39m\u001b[38;5;124;03m\"\"\"Runs checks on the hook, and then adds it to the hook point\"\"\"\u001b[39;00m\n\u001b[0;32m--> 267\u001b[0m     \u001b[38;5;28;43mself\u001b[39;49m\u001b[38;5;241;43m.\u001b[39;49m\u001b[43mcheck_hooks_to_add\u001b[49m\u001b[43m(\u001b[49m\n\u001b[1;32m    268\u001b[0m \u001b[43m        \u001b[49m\u001b[43mhook_point\u001b[49m\u001b[43m,\u001b[49m\n\u001b[1;32m    269\u001b[0m \u001b[43m        \u001b[49m\u001b[43mhook_point_name\u001b[49m\u001b[43m,\u001b[49m\n\u001b[1;32m    270\u001b[0m \u001b[43m        \u001b[49m\u001b[43mhook\u001b[49m\u001b[43m,\u001b[49m\n\u001b[1;32m    271\u001b[0m \u001b[43m        \u001b[49m\u001b[38;5;28;43mdir\u001b[39;49m\u001b[38;5;241;43m=\u001b[39;49m\u001b[38;5;28;43mdir\u001b[39;49m\u001b[43m,\u001b[49m\n\u001b[1;32m    272\u001b[0m \u001b[43m        \u001b[49m\u001b[43mis_permanent\u001b[49m\u001b[38;5;241;43m=\u001b[39;49m\u001b[43mis_permanent\u001b[49m\u001b[43m,\u001b[49m\n\u001b[1;32m    273\u001b[0m \u001b[43m        \u001b[49m\u001b[43mprepend\u001b[49m\u001b[38;5;241;43m=\u001b[39;49m\u001b[43mprepend\u001b[49m\u001b[43m,\u001b[49m\n\u001b[1;32m    274\u001b[0m \u001b[43m    \u001b[49m\u001b[43m)\u001b[49m\n\u001b[1;32m    275\u001b[0m     hook_point\u001b[38;5;241m.\u001b[39madd_hook(hook, \u001b[38;5;28mdir\u001b[39m\u001b[38;5;241m=\u001b[39m\u001b[38;5;28mdir\u001b[39m, is_permanent\u001b[38;5;241m=\u001b[39mis_permanent, level\u001b[38;5;241m=\u001b[39mlevel, prepend\u001b[38;5;241m=\u001b[39mprepend)\n",
      "File \u001b[0;32m~/Library/Caches/pypoetry/virtualenvs/elk-experiments-AZ2LBS3Q-py3.10/lib/python3.10/site-packages/transformer_lens/HookedTransformer.py:237\u001b[0m, in \u001b[0;36mHookedTransformer.check_hooks_to_add\u001b[0;34m(self, hook_point, hook_point_name, hook, dir, is_permanent, prepend)\u001b[0m\n\u001b[1;32m    233\u001b[0m     \u001b[38;5;28;01massert\u001b[39;00m (\n\u001b[1;32m    234\u001b[0m         \u001b[38;5;28mself\u001b[39m\u001b[38;5;241m.\u001b[39mcfg\u001b[38;5;241m.\u001b[39muse_split_qkv_input\n\u001b[1;32m    235\u001b[0m     ), \u001b[38;5;124mf\u001b[39m\u001b[38;5;124m\"\u001b[39m\u001b[38;5;124mCannot add hook \u001b[39m\u001b[38;5;132;01m{\u001b[39;00mhook_point_name\u001b[38;5;132;01m}\u001b[39;00m\u001b[38;5;124m if use_split_qkv_input is False\u001b[39m\u001b[38;5;124m\"\u001b[39m\n\u001b[1;32m    236\u001b[0m \u001b[38;5;28;01mif\u001b[39;00m hook_point_name\u001b[38;5;241m.\u001b[39mendswith(\u001b[38;5;124m\"\u001b[39m\u001b[38;5;124mmlp_in\u001b[39m\u001b[38;5;124m\"\u001b[39m):\n\u001b[0;32m--> 237\u001b[0m     \u001b[38;5;28;01massert\u001b[39;00m (\n\u001b[1;32m    238\u001b[0m         \u001b[38;5;28mself\u001b[39m\u001b[38;5;241m.\u001b[39mcfg\u001b[38;5;241m.\u001b[39muse_hook_mlp_in\n\u001b[1;32m    239\u001b[0m     ), \u001b[38;5;124mf\u001b[39m\u001b[38;5;124m\"\u001b[39m\u001b[38;5;124mCannot add hook \u001b[39m\u001b[38;5;132;01m{\u001b[39;00mhook_point_name\u001b[38;5;132;01m}\u001b[39;00m\u001b[38;5;124m if use_hook_mlp_in is False\u001b[39m\u001b[38;5;124m\"\u001b[39m\n\u001b[1;32m    240\u001b[0m \u001b[38;5;28;01mif\u001b[39;00m hook_point_name\u001b[38;5;241m.\u001b[39mendswith(\u001b[38;5;124m\"\u001b[39m\u001b[38;5;124mattn_in\u001b[39m\u001b[38;5;124m\"\u001b[39m):\n\u001b[1;32m    241\u001b[0m     \u001b[38;5;28;01massert\u001b[39;00m (\n\u001b[1;32m    242\u001b[0m         \u001b[38;5;28mself\u001b[39m\u001b[38;5;241m.\u001b[39mcfg\u001b[38;5;241m.\u001b[39muse_attn_in\n\u001b[1;32m    243\u001b[0m     ), \u001b[38;5;124mf\u001b[39m\u001b[38;5;124m\"\u001b[39m\u001b[38;5;124mCannot add hook \u001b[39m\u001b[38;5;132;01m{\u001b[39;00mhook_point_name\u001b[38;5;132;01m}\u001b[39;00m\u001b[38;5;124m if use_attn_in is False\u001b[39m\u001b[38;5;124m\"\u001b[39m\n",
      "\u001b[0;31mAssertionError\u001b[0m: Cannot add hook blocks.0.hook_mlp_in if use_hook_mlp_in is False"
     ]
    }
   ],
   "source": [
    "model.reset_hooks()\n",
    "\n",
    "graph = EAP(\n",
    "    model=model,\n",
    "    clean_tokens=trusted_tokens,\n",
    "    metric=partial(effect_prob_func, effect_tokens=effect_tokens), \n",
    "    # upstream_nodes=[\"head\"],\n",
    "    # downstream_nodes=[\"head\"],\n",
    "    batch_size=64\n",
    ")"
   ]
  },
  {
   "cell_type": "code",
   "execution_count": 39,
   "metadata": {},
   "outputs": [],
   "source": [
    "top_edges = graph.top_edges(n=20, abs_scores=True)"
   ]
  },
  {
   "cell_type": "code",
   "execution_count": 40,
   "metadata": {},
   "outputs": [
    {
     "name": "stdout",
     "output_type": "stream",
     "text": [
      "head.2.7 -> [0.0] -> head.3.0.k\n",
      "head.0.6 -> [-0.0] -> head.1.1.v\n",
      "head.2.7 -> [0.0] -> head.3.3.k\n",
      "head.0.6 -> [0.0] -> head.1.0.v\n",
      "head.0.0 -> [0.0] -> head.2.1.v\n",
      "head.0.6 -> [-0.0] -> head.2.7.v\n",
      "head.0.0 -> [-0.0] -> head.3.4.v\n",
      "head.0.6 -> [-0.0] -> head.1.3.v\n",
      "head.0.5 -> [0.0] -> head.1.3.v\n",
      "head.0.0 -> [0.0] -> head.2.7.v\n",
      "head.0.6 -> [-0.0] -> head.2.1.v\n",
      "head.0.0 -> [-0.0] -> head.3.3.v\n",
      "head.1.3 -> [0.0] -> head.2.7.v\n",
      "head.0.6 -> [-0.0] -> head.1.4.v\n",
      "head.0.6 -> [-0.0] -> head.2.5.v\n",
      "head.2.7 -> [0.0] -> head.3.0.q\n",
      "head.0.3 -> [0.0] -> head.2.7.v\n",
      "head.0.3 -> [-0.0] -> head.1.7.v\n",
      "head.1.3 -> [-0.0] -> head.2.5.v\n",
      "head.1.3 -> [0.0] -> head.3.0.q\n"
     ]
    }
   ],
   "source": [
    "#TODO: fix the edge attribution code (maybe missing a negative? should trace through)\n",
    "for from_edge, to_edge, score in top_edges:\n",
    "    print(f'{from_edge} -> [{round(score, 3)}] -> {to_edge}')"
   ]
  },
  {
   "cell_type": "code",
   "execution_count": null,
   "metadata": {},
   "outputs": [],
   "source": []
  }
 ],
 "metadata": {
  "kernelspec": {
   "display_name": "elk-experiments-AZ2LBS3Q-py3.10",
   "language": "python",
   "name": "python3"
  },
  "language_info": {
   "codemirror_mode": {
    "name": "ipython",
    "version": 3
   },
   "file_extension": ".py",
   "mimetype": "text/x-python",
   "name": "python",
   "nbconvert_exporter": "python",
   "pygments_lexer": "ipython3",
   "version": "3.10.14"
  }
 },
 "nbformat": 4,
 "nbformat_minor": 2
}
