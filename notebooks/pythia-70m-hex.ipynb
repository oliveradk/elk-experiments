{
 "cells": [
  {
   "cell_type": "code",
   "execution_count": 1,
   "metadata": {},
   "outputs": [],
   "source": [
    "import os \n",
    "# set environment variable PYTORCH_ENABLE_MPS_FALLBACK=1\n",
    "os.environ['PYTORCH_ENABLE_MPS_FALLBACK'] = '1'"
   ]
  },
  {
   "cell_type": "code",
   "execution_count": 21,
   "metadata": {},
   "outputs": [],
   "source": [
    "from functools import partial\n",
    "from tqdm import tqdm\n",
    "import torch \n",
    "import numpy as np\n",
    "\n",
    "import transformer_lens\n",
    "\n",
    "from hex_nn.datasets import get_token_dataset\n",
    "from hex_nn.masking.behaviors import registry as behavior_registry\n",
    "from hex_nn.masking.triggers import registry as trigger_registry\n",
    "from hex_nn.masking.distinctions import get_behavior_examples\n",
    "from hex_nn.datasets import cache_json\n",
    "\n",
    "from cupbearer import tasks, scripts, detectors\n",
    "from cupbearer.tasks.tiny_natural_mechanisms import TinyNaturalMechanismsDataset\n"
   ]
  },
  {
   "cell_type": "markdown",
   "metadata": {},
   "source": [
    "# Hex Dataset with Pythia-70m tokenizer"
   ]
  },
  {
   "cell_type": "markdown",
   "metadata": {},
   "source": [
    "The hex dataset collects 16 token examples where, on the trusted set, the example ends in hexidecimal characters, and on the untrusted set, there are anomolous examples which end in alphanumeric preceeded by a '#' (i.e. a hex color)\n",
    "\n",
    "In the original dataset, they train a \"clean model\" which never sees hex colors, and use the clean model to determine whether hexidecimal prediction is \"caused\" by induction like mechanisms or the hex color\n",
    "\n",
    "However, we can probably get away with discarding the clean model and just treating all hex colors as anomalous (if that's too difficult , we can remove all instances where there are multiple triggers, i.e. multiple hex colors)\n",
    "\n",
    "\"trigger\" is any hexidecimal character following a '#' in the same string\n",
    "\n",
    "\"behavior\" is any hexidecimal character"
   ]
  },
  {
   "cell_type": "code",
   "execution_count": 3,
   "metadata": {},
   "outputs": [],
   "source": [
    "# TODO: cleanup notebook, \n",
    "# try edge attribution patching on this task (metric is probability of hexidecimal, zero ablate)"
   ]
  },
  {
   "cell_type": "code",
   "execution_count": 22,
   "metadata": {},
   "outputs": [
    {
     "name": "stderr",
     "output_type": "stream",
     "text": [
      "Special tokens have been added in the vocabulary, make sure the associated word embeddings are fine-tuned or trained.\n"
     ]
    },
    {
     "name": "stdout",
     "output_type": "stream",
     "text": [
      "Loaded pretrained model pythia-70m into HookedTransformer\n"
     ]
    }
   ],
   "source": [
    "# download pythia-70m from transformer lens\n",
    "model = transformer_lens.HookedTransformer.from_pretrained(\"pythia-70m\")"
   ]
  },
  {
   "cell_type": "code",
   "execution_count": 23,
   "metadata": {},
   "outputs": [],
   "source": [
    "@cache_json(\"distinctions/{behavior_name}_c4_{c4_n_items}_code_{code_n_items}.json\")\n",
    "def get_distinctions_dataset(\n",
    "    behavior_name, tokenizer, *, c4_n_items=7 * 2**16, code_n_items=2**16\n",
    "):\n",
    "    c4_token_dataset = get_token_dataset(\n",
    "        \"c4\", tokenizer, split=\"train_rev\", n_items=c4_n_items\n",
    "    )\n",
    "    code_token_dataset = get_token_dataset(\n",
    "        \"code\", tokenizer, split=\"train_rev\", n_items=code_n_items\n",
    "    )\n",
    "    token_dataset = c4_token_dataset + code_token_dataset\n",
    "    behavior_masker = behavior_registry[behavior_name](tokenizer)\n",
    "    trigger_masker = trigger_registry[behavior_name](tokenizer)\n",
    "    examples = get_behavior_examples(token_dataset, behavior_masker, trigger_masker)\n",
    "    # models = {\n",
    "    #     \"main\": Transformer.from_pretrained(MAIN_MODEL_PATH),\n",
    "    #     \"clean\": Transformer.from_pretrained(CLEAN_MODEL_PATHS[behavior_name]),\n",
    "    # }\n",
    "    # for model_name, model in models.items():\n",
    "    #     if th.cuda.is_available():\n",
    "    #         model = model.to(\"cuda\")\n",
    "    # TODO: track probaibility of behavior with model (no clean model)\n",
    "    # TODO: use clean model and main model to filter examples, but still return tokens for original model\n",
    "    # TODO: use clean and main model to \n",
    "    #     examples = add_probs(\n",
    "    #         examples,\n",
    "    #         model,\n",
    "    #         behavior_masker.effect_tokens,\n",
    "    #         input_name=\"prefix\",\n",
    "    #         model_name=model_name,\n",
    "    #     )\n",
    "    return examples"
   ]
  },
  {
   "cell_type": "code",
   "execution_count": 24,
   "metadata": {},
   "outputs": [],
   "source": [
    "@cache_json(\"distinctions/{behavior_name}_task.json\")\n",
    "def get_distinctions_task(\n",
    "    behavior_name, tokenizer, *, n_train=2**14, n_anomalous=2**10, c4_n_items=7 * 2**16, \n",
    "    code_n_items=2**16\n",
    "):\n",
    "    examples = get_distinctions_dataset(behavior_name, tokenizer, c4_n_items=c4_n_items, code_n_items=code_n_items)\n",
    "    # for example in examples:\n",
    "    #     example[\"logratio\"] = np.log(\n",
    "    #         example[\"main_probs\"][-1] / example[\"clean_probs\"][-1]\n",
    "    #     )\n",
    "    # logratios = [\n",
    "    #     example[\"logratio\"] for example in examples if not example[\"triggered\"]\n",
    "    # ]\n",
    "    # lower_logratio = np.percentile(logratios, 1)\n",
    "    # upper_logratio = np.percentile(logratios, 99)\n",
    "    non_anomalous_examples = [\n",
    "        example\n",
    "        for example in examples\n",
    "        if not example[\"triggered\"]\n",
    "        # and example[\"logratio\"] >= lower_logratio\n",
    "        # and example[\"logratio\"] <= upper_logratio\n",
    "    ]\n",
    "    anomalous_examples = [\n",
    "        example\n",
    "        for example in examples\n",
    "        if example[\"triggered\"] #and example[\"logratio\"] > upper_logratio\n",
    "    ]\n",
    "    assert len(non_anomalous_examples) >= n_train + n_anomalous\n",
    "    assert len(anomalous_examples) >= n_anomalous\n",
    "\n",
    "    def to_task_example(example):\n",
    "        return {\n",
    "            \"prefix_tokens\": example[\"prefix_tokens\"],\n",
    "            \"completion_token\": example[\"completion_token\"],\n",
    "            # \"effect_prob\": example[\"main_probs\"][-1],\n",
    "            # \"clean_effect_prob\": example[\"clean_probs\"][-1],\n",
    "        }\n",
    "\n",
    "    train_examples = [\n",
    "        to_task_example(example) for example in non_anomalous_examples[:n_train]\n",
    "    ]\n",
    "    test_non_anomalous_examples = [\n",
    "        to_task_example(example)\n",
    "        for example in non_anomalous_examples[n_train : n_train + n_anomalous]\n",
    "    ]\n",
    "    test_anomalous_examples = [\n",
    "        to_task_example(example) for example in anomalous_examples[:n_anomalous]\n",
    "    ]\n",
    "    behavior_masker = behavior_registry[behavior_name](tokenizer)\n",
    "    return {\n",
    "        \"train\": train_examples,\n",
    "        \"test_non_anomalous\": test_non_anomalous_examples,\n",
    "        \"test_anomalous\": test_anomalous_examples,\n",
    "        \"cause_tokens\": sorted(behavior_masker.cause_tokens),\n",
    "        \"effect_tokens\": sorted(behavior_masker.effect_tokens),\n",
    "    }"
   ]
  },
  {
   "cell_type": "code",
   "execution_count": 25,
   "metadata": {},
   "outputs": [],
   "source": [
    "c4_n_items=7 * 2**16\n",
    "code_n_items=2**16\n",
    "# c4_n_items = 2**16\n",
    "# code_n_items = 2**16\n",
    "n_train=2**14 \n",
    "n_anomalous=2**10\n",
    "# n_train=2**8\n",
    "# n_anomalous=2**5\n",
    "behavior_name = \"hex\"\n",
    "tokenizer = model.tokenizer"
   ]
  },
  {
   "cell_type": "code",
   "execution_count": 26,
   "metadata": {},
   "outputs": [],
   "source": [
    "task = get_distinctions_task(behavior_name, tokenizer, n_train=n_train, n_anomalous=n_anomalous, c4_n_items=c4_n_items, code_n_items=code_n_items)"
   ]
  },
  {
   "cell_type": "code",
   "execution_count": 27,
   "metadata": {},
   "outputs": [
    {
     "data": {
      "text/plain": [
       "dict_keys(['train', 'test_non_anomalous', 'test_anomalous', 'cause_tokens', 'effect_tokens'])"
      ]
     },
     "execution_count": 27,
     "metadata": {},
     "output_type": "execute_result"
    }
   ],
   "source": [
    "task.keys()"
   ]
  },
  {
   "cell_type": "code",
   "execution_count": 28,
   "metadata": {},
   "outputs": [
    {
     "data": {
      "text/plain": [
       "(16384, 1024)"
      ]
     },
     "execution_count": 28,
     "metadata": {},
     "output_type": "execute_result"
    }
   ],
   "source": [
    "len(task[\"train\"]), len(task[\"test_anomalous\"])"
   ]
  },
  {
   "cell_type": "code",
   "execution_count": 29,
   "metadata": {},
   "outputs": [
    {
     "data": {
      "text/plain": [
       "'0123456789abcdef'"
      ]
     },
     "execution_count": 29,
     "metadata": {},
     "output_type": "execute_result"
    }
   ],
   "source": [
    "hex_chars = \"\".join(f\"{i:x}\" for i in range(16))\n",
    "hex_chars"
   ]
  },
  {
   "cell_type": "code",
   "execution_count": 30,
   "metadata": {},
   "outputs": [],
   "source": [
    "for cause_token in task[\"cause_tokens\"]:\n",
    "    out = tokenizer.decode([cause_token])\n",
    "    assert all([c in hex_chars for c in out if c != \" \"])"
   ]
  },
  {
   "cell_type": "code",
   "execution_count": 31,
   "metadata": {},
   "outputs": [],
   "source": [
    "for effect_token in task[\"effect_tokens\"]:\n",
    "    out = tokenizer.decode([effect_token])\n",
    "    assert all([c in hex_chars for c in out if c != \" \"])"
   ]
  },
  {
   "cell_type": "markdown",
   "metadata": {},
   "source": [
    "# Construct Cupbearer Task"
   ]
  },
  {
   "cell_type": "code",
   "execution_count": 33,
   "metadata": {},
   "outputs": [],
   "source": [
    "train_data = TinyNaturalMechanismsDataset(task[\"train\"])\n",
    "normal_test_data = TinyNaturalMechanismsDataset(task[\"test_non_anomalous\"])\n",
    "anomalous_test_data = TinyNaturalMechanismsDataset(task[\"test_anomalous\"])\n",
    "\n",
    "cp_task = tasks.Task.from_separate_data(\n",
    "    model=model, \n",
    "    trusted_data=train_data,\n",
    "    clean_test_data=normal_test_data,\n",
    "    anomalous_test_data=anomalous_test_data,\n",
    ")"
   ]
  },
  {
   "cell_type": "code",
   "execution_count": 34,
   "metadata": {},
   "outputs": [],
   "source": [
    "# run malanabois on final layer final token\n",
    "def get_activation_at_last_token(\n",
    "    activation: torch.Tensor, inputs: list[list[int]], name: str\n",
    "):\n",
    "    if activation.ndim == 3:\n",
    "        # Residual stream or equivalent, shape is (batch, seq, hidden)\n",
    "        return activation[:, -1, :]\n",
    "    elif activation.ndim == 4 and activation.shape[-1] == activation.shape[-2]:\n",
    "        # Attention, shape is (batch, num_heads, query, key)\n",
    "        # TODO: this could also be Q/K/V if n_heads happens to be head_dim\n",
    "        return activation[:, :, -1, :].reshape(activation.shape[0], -1)\n",
    "    elif activation.ndim == 4:\n",
    "        # Query/key/value, shape is (batch, seq, num_heads, hidden)\n",
    "        return activation[:, -1, :, :].reshape(activation.shape[0], -1)\n",
    "    else:\n",
    "        raise ValueError(f\"Unexpected activation shape: {activation.shape}\")"
   ]
  },
  {
   "cell_type": "code",
   "execution_count": 39,
   "metadata": {},
   "outputs": [
    {
     "name": "stdout",
     "output_type": "stream",
     "text": [
      "\n",
      "embed\n",
      "hook_embed\n",
      "blocks\n",
      "blocks.0\n",
      "blocks.0.ln1\n",
      "blocks.0.ln1.hook_scale\n",
      "blocks.0.ln1.hook_normalized\n",
      "blocks.0.ln2\n",
      "blocks.0.ln2.hook_scale\n",
      "blocks.0.ln2.hook_normalized\n",
      "blocks.0.attn\n",
      "blocks.0.attn.hook_k\n",
      "blocks.0.attn.hook_q\n",
      "blocks.0.attn.hook_v\n",
      "blocks.0.attn.hook_z\n",
      "blocks.0.attn.hook_attn_scores\n",
      "blocks.0.attn.hook_pattern\n",
      "blocks.0.attn.hook_result\n",
      "blocks.0.attn.hook_rot_k\n",
      "blocks.0.attn.hook_rot_q\n",
      "blocks.0.mlp\n",
      "blocks.0.mlp.hook_pre\n",
      "blocks.0.mlp.hook_post\n",
      "blocks.0.hook_attn_in\n",
      "blocks.0.hook_q_input\n",
      "blocks.0.hook_k_input\n",
      "blocks.0.hook_v_input\n",
      "blocks.0.hook_mlp_in\n",
      "blocks.0.hook_attn_out\n",
      "blocks.0.hook_mlp_out\n",
      "blocks.0.hook_resid_pre\n",
      "blocks.0.hook_resid_post\n",
      "blocks.1\n",
      "blocks.1.ln1\n",
      "blocks.1.ln1.hook_scale\n",
      "blocks.1.ln1.hook_normalized\n",
      "blocks.1.ln2\n",
      "blocks.1.ln2.hook_scale\n",
      "blocks.1.ln2.hook_normalized\n",
      "blocks.1.attn\n",
      "blocks.1.attn.hook_k\n",
      "blocks.1.attn.hook_q\n",
      "blocks.1.attn.hook_v\n",
      "blocks.1.attn.hook_z\n",
      "blocks.1.attn.hook_attn_scores\n",
      "blocks.1.attn.hook_pattern\n",
      "blocks.1.attn.hook_result\n",
      "blocks.1.attn.hook_rot_k\n",
      "blocks.1.attn.hook_rot_q\n",
      "blocks.1.mlp\n",
      "blocks.1.mlp.hook_pre\n",
      "blocks.1.mlp.hook_post\n",
      "blocks.1.hook_attn_in\n",
      "blocks.1.hook_q_input\n",
      "blocks.1.hook_k_input\n",
      "blocks.1.hook_v_input\n",
      "blocks.1.hook_mlp_in\n",
      "blocks.1.hook_attn_out\n",
      "blocks.1.hook_mlp_out\n",
      "blocks.1.hook_resid_pre\n",
      "blocks.1.hook_resid_post\n",
      "blocks.2\n",
      "blocks.2.ln1\n",
      "blocks.2.ln1.hook_scale\n",
      "blocks.2.ln1.hook_normalized\n",
      "blocks.2.ln2\n",
      "blocks.2.ln2.hook_scale\n",
      "blocks.2.ln2.hook_normalized\n",
      "blocks.2.attn\n",
      "blocks.2.attn.hook_k\n",
      "blocks.2.attn.hook_q\n",
      "blocks.2.attn.hook_v\n",
      "blocks.2.attn.hook_z\n",
      "blocks.2.attn.hook_attn_scores\n",
      "blocks.2.attn.hook_pattern\n",
      "blocks.2.attn.hook_result\n",
      "blocks.2.attn.hook_rot_k\n",
      "blocks.2.attn.hook_rot_q\n",
      "blocks.2.mlp\n",
      "blocks.2.mlp.hook_pre\n",
      "blocks.2.mlp.hook_post\n",
      "blocks.2.hook_attn_in\n",
      "blocks.2.hook_q_input\n",
      "blocks.2.hook_k_input\n",
      "blocks.2.hook_v_input\n",
      "blocks.2.hook_mlp_in\n",
      "blocks.2.hook_attn_out\n",
      "blocks.2.hook_mlp_out\n",
      "blocks.2.hook_resid_pre\n",
      "blocks.2.hook_resid_post\n",
      "blocks.3\n",
      "blocks.3.ln1\n",
      "blocks.3.ln1.hook_scale\n",
      "blocks.3.ln1.hook_normalized\n",
      "blocks.3.ln2\n",
      "blocks.3.ln2.hook_scale\n",
      "blocks.3.ln2.hook_normalized\n",
      "blocks.3.attn\n",
      "blocks.3.attn.hook_k\n",
      "blocks.3.attn.hook_q\n",
      "blocks.3.attn.hook_v\n",
      "blocks.3.attn.hook_z\n",
      "blocks.3.attn.hook_attn_scores\n",
      "blocks.3.attn.hook_pattern\n",
      "blocks.3.attn.hook_result\n",
      "blocks.3.attn.hook_rot_k\n",
      "blocks.3.attn.hook_rot_q\n",
      "blocks.3.mlp\n",
      "blocks.3.mlp.hook_pre\n",
      "blocks.3.mlp.hook_post\n",
      "blocks.3.hook_attn_in\n",
      "blocks.3.hook_q_input\n",
      "blocks.3.hook_k_input\n",
      "blocks.3.hook_v_input\n",
      "blocks.3.hook_mlp_in\n",
      "blocks.3.hook_attn_out\n",
      "blocks.3.hook_mlp_out\n",
      "blocks.3.hook_resid_pre\n",
      "blocks.3.hook_resid_post\n",
      "blocks.4\n",
      "blocks.4.ln1\n",
      "blocks.4.ln1.hook_scale\n",
      "blocks.4.ln1.hook_normalized\n",
      "blocks.4.ln2\n",
      "blocks.4.ln2.hook_scale\n",
      "blocks.4.ln2.hook_normalized\n",
      "blocks.4.attn\n",
      "blocks.4.attn.hook_k\n",
      "blocks.4.attn.hook_q\n",
      "blocks.4.attn.hook_v\n",
      "blocks.4.attn.hook_z\n",
      "blocks.4.attn.hook_attn_scores\n",
      "blocks.4.attn.hook_pattern\n",
      "blocks.4.attn.hook_result\n",
      "blocks.4.attn.hook_rot_k\n",
      "blocks.4.attn.hook_rot_q\n",
      "blocks.4.mlp\n",
      "blocks.4.mlp.hook_pre\n",
      "blocks.4.mlp.hook_post\n",
      "blocks.4.hook_attn_in\n",
      "blocks.4.hook_q_input\n",
      "blocks.4.hook_k_input\n",
      "blocks.4.hook_v_input\n",
      "blocks.4.hook_mlp_in\n",
      "blocks.4.hook_attn_out\n",
      "blocks.4.hook_mlp_out\n",
      "blocks.4.hook_resid_pre\n",
      "blocks.4.hook_resid_post\n",
      "blocks.5\n",
      "blocks.5.ln1\n",
      "blocks.5.ln1.hook_scale\n",
      "blocks.5.ln1.hook_normalized\n",
      "blocks.5.ln2\n",
      "blocks.5.ln2.hook_scale\n",
      "blocks.5.ln2.hook_normalized\n",
      "blocks.5.attn\n",
      "blocks.5.attn.hook_k\n",
      "blocks.5.attn.hook_q\n",
      "blocks.5.attn.hook_v\n",
      "blocks.5.attn.hook_z\n",
      "blocks.5.attn.hook_attn_scores\n",
      "blocks.5.attn.hook_pattern\n",
      "blocks.5.attn.hook_result\n",
      "blocks.5.attn.hook_rot_k\n",
      "blocks.5.attn.hook_rot_q\n",
      "blocks.5.mlp\n",
      "blocks.5.mlp.hook_pre\n",
      "blocks.5.mlp.hook_post\n",
      "blocks.5.hook_attn_in\n",
      "blocks.5.hook_q_input\n",
      "blocks.5.hook_k_input\n",
      "blocks.5.hook_v_input\n",
      "blocks.5.hook_mlp_in\n",
      "blocks.5.hook_attn_out\n",
      "blocks.5.hook_mlp_out\n",
      "blocks.5.hook_resid_pre\n",
      "blocks.5.hook_resid_post\n",
      "ln_final\n",
      "ln_final.hook_scale\n",
      "ln_final.hook_normalized\n",
      "unembed\n"
     ]
    }
   ],
   "source": [
    "for name, _ in cp_task.model.named_modules():\n",
    "    print(name)"
   ]
  },
  {
   "cell_type": "code",
   "execution_count": 61,
   "metadata": {},
   "outputs": [],
   "source": [
    "names = [\n",
    "    # \"hook_embed.output\",\n",
    "    # \"blocks.0.hook_attn_out.output\",\n",
    "    \"blocks.1.hook_attn_out.output\",\n",
    "    \"blocks.2.hook_attn_out.output\",\n",
    "    \"blocks.3.hook_attn_out.output\",\n",
    "    # \"blocks.4.hook_resid_post.output\"\n",
    "    \"blocks.4.hook_attn_out.output\",\n",
    "    # \"blocks.5.hook_attn_out.output\"\n",
    "]\n",
    "\n",
    "detector = detectors.MahalanobisDetector(\n",
    "    names, layer_aggregation=\"mean\", activation_processing_func=get_activation_at_last_token\n",
    ")"
   ]
  },
  {
   "cell_type": "code",
   "execution_count": 62,
   "metadata": {},
   "outputs": [
    {
     "name": "stderr",
     "output_type": "stream",
     "text": [
      "100%|██████████| 256/256 [00:09<00:00, 28.24it/s]\n",
      "\u001b[32m2024-06-25 14:35:07.275\u001b[0m | \u001b[1mINFO    \u001b[0m | \u001b[36mcupbearer.detectors.anomaly_detector\u001b[0m:\u001b[36meval\u001b[0m:\u001b[36m152\u001b[0m - \u001b[1mAUC_ROC (all): 0.8721\u001b[0m\n",
      "\u001b[32m2024-06-25 14:35:07.275\u001b[0m | \u001b[1mINFO    \u001b[0m | \u001b[36mcupbearer.detectors.anomaly_detector\u001b[0m:\u001b[36meval\u001b[0m:\u001b[36m153\u001b[0m - \u001b[1mAP (all): 0.8183\u001b[0m\n"
     ]
    },
    {
     "data": {
      "text/plain": [
       "(defaultdict(dict,\n",
       "             {'all': {'AUC_ROC': 0.8721065521240234,\n",
       "               'AP': 0.8183047948669973}}),\n",
       " {'all': <Figure size 640x480 with 1 Axes>})"
      ]
     },
     "execution_count": 62,
     "metadata": {},
     "output_type": "execute_result"
    },
    {
     "data": {
      "image/png": "[encoded data removed]",
      "text/plain": [
       "<Figure size 640x480 with 1 Axes>"
      ]
     },
     "metadata": {},
     "output_type": "display_data"
    }
   ],
   "source": [
    "scripts.train_detector(\n",
    "    cp_task, detector, save_path=None, eval_batch_size=64, batch_size=64\n",
    ")"
   ]
  },
  {
   "cell_type": "markdown",
   "metadata": {},
   "source": [
    "# Use original filtered dataset"
   ]
  },
  {
   "cell_type": "code",
   "execution_count": 63,
   "metadata": {},
   "outputs": [],
   "source": [
    "import blobfile as bf\n",
    "import json\n",
    "\n",
    "name = \"hex\"\n",
    "\n",
    "def load_tiny_natural_mechanisms_data(name=\"hex\"):\n",
    "    path = f\"gs://arc-ml-public/distinctions/datasets/{name}_task.json\"\n",
    "    with bf.BlobFile(path) as f:\n",
    "        task_data = json.load(f)\n",
    "    # train_data = TinyNaturalMechanismsDataset(task_data[\"train\"])\n",
    "    # normal_test_data = TinyNaturalMechanismsDataset(task_data[\"test_non_anomalous\"])\n",
    "    # anomalous_test_data = TinyNaturalMechanismsDataset(task_data[\"test_anomalous\"])\n",
    "    return task_data\n",
    "task_data = load_tiny_natural_mechanisms_data(name)"
   ]
  },
  {
   "cell_type": "code",
   "execution_count": 64,
   "metadata": {},
   "outputs": [
    {
     "name": "stdout",
     "output_type": "stream",
     "text": [
      "Loaded pretrained model attn-only-1l into HookedTransformer\n",
      "Moving model to device:  mps\n"
     ]
    }
   ],
   "source": [
    "from cupbearer.tasks.tiny_natural_mechanisms import tiny_natural_mechanisms\n",
    "# reloading data, but shrug, can add this to the tiny natural mechanisms builder later\n",
    "task_model = tiny_natural_mechanisms(\"hex\", \"mps\").model"
   ]
  },
  {
   "cell_type": "code",
   "execution_count": 65,
   "metadata": {},
   "outputs": [],
   "source": [
    "tokens = task_data[\"train\"][0][\"prefix_tokens\"]"
   ]
  },
  {
   "cell_type": "code",
   "execution_count": 66,
   "metadata": {},
   "outputs": [
    {
     "data": {
      "text/plain": [
       "([70, 27, 68, 18, 15, 14426, 26, 19, 15, 22, 19, 18, 26, 15, 1234, 25],\n",
       " 'd9b0-bd81-4108-be7',\n",
       " [0, 69, 26, 67, 17, 14, 14836, 3593, 14, 21, 12347, 14, 1257, 24])"
      ]
     },
     "execution_count": 66,
     "metadata": {},
     "output_type": "execute_result"
    }
   ],
   "source": [
    "decoded = task_model.tokenizer.decode(tokens)\n",
    "reconcoded = model.tokenizer.encode(decoded)\n",
    "tokens, decoded, reconcoded"
   ]
  },
  {
   "cell_type": "code",
   "execution_count": 67,
   "metadata": {},
   "outputs": [],
   "source": [
    "# decode and recode tokens\n",
    "def decode_and_encode(tokens, task_model, model):\n",
    "    decoded = task_model.tokenizer.decode(tokens)\n",
    "    reencoded = model.tokenizer.encode(decoded)\n",
    "    return reencoded\n",
    "\n",
    "\n",
    "def decode_encode_data(data, task_model, model):\n",
    "    return [\n",
    "        {\n",
    "            \"prefix_tokens\": decode_and_encode(example[\"prefix_tokens\"], task_model, model),\n",
    "            \"completion_token\": decode_and_encode([example[\"completion_token\"]], task_model, model),\n",
    "            \"og_effect_prob\": example[\"effect_prob\"],\n",
    "        }\n",
    "        for example in data\n",
    "    ]"
   ]
  },
  {
   "cell_type": "code",
   "execution_count": 68,
   "metadata": {},
   "outputs": [],
   "source": [
    "task_data[\"train\"] = decode_encode_data(task_data[\"train\"], task_model, model)\n",
    "task_data[\"test_non_anomalous\"] = decode_encode_data(task_data[\"test_non_anomalous\"], task_model, model)\n",
    "task_data[\"test_anomalous\"] = decode_encode_data(task_data[\"test_anomalous\"], task_model, model)"
   ]
  },
  {
   "cell_type": "code",
   "execution_count": 69,
   "metadata": {},
   "outputs": [],
   "source": [
    "# create hex mask behavior, compare effect tokens\n",
    "from hex_nn.masking.behaviors import HexMasker \n",
    "\n",
    "new_hex_bevaior = HexMasker(model.tokenizer)"
   ]
  },
  {
   "cell_type": "code",
   "execution_count": 70,
   "metadata": {},
   "outputs": [
    {
     "data": {
      "text/plain": [
       "(70, 1319)"
      ]
     },
     "execution_count": 70,
     "metadata": {},
     "output_type": "execute_result"
    }
   ],
   "source": [
    "new_effect_tokens = list(set(decode_and_encode(task_data[\"effect_tokens\"], task_model, model)))\n",
    "len(new_effect_tokens), len(new_hex_bevaior.effect_tokens)"
   ]
  },
  {
   "cell_type": "code",
   "execution_count": 71,
   "metadata": {},
   "outputs": [
    {
     "data": {
      "text/plain": [
       "tensor([[[  12.7702, -828.1210,   10.3165,  ..., -828.1143, -828.1185,\n",
       "          -828.1166],\n",
       "         [  13.3468, -824.1162,   10.0428,  ..., -824.1099, -824.1128,\n",
       "          -824.1119],\n",
       "         [  14.6334, -821.1580,   11.5582,  ..., -821.1522, -821.1564,\n",
       "          -821.1549],\n",
       "         ...,\n",
       "         [  11.8589, -817.0472,   10.5024,  ..., -817.0408, -817.0458,\n",
       "          -817.0437],\n",
       "         [  13.8377, -825.1594,   10.3448,  ..., -825.1527, -825.1571,\n",
       "          -825.1562],\n",
       "         [  18.1620, -824.4803,   13.0701,  ..., -824.4733, -824.4778,\n",
       "          -824.4769]]], device='mps:0')"
      ]
     },
     "execution_count": 71,
     "metadata": {},
     "output_type": "execute_result"
    }
   ],
   "source": [
    "with torch.no_grad():\n",
    "    out = model(torch.tensor(task_data[\"train\"][0][\"prefix_tokens\"]))\n",
    "out"
   ]
  },
  {
   "cell_type": "code",
   "execution_count": 72,
   "metadata": {},
   "outputs": [
    {
     "data": {
      "text/plain": [
       "torch.Size([1, 14, 50304])"
      ]
     },
     "execution_count": 72,
     "metadata": {},
     "output_type": "execute_result"
    }
   ],
   "source": [
    "out.shape"
   ]
  },
  {
   "cell_type": "code",
   "execution_count": 73,
   "metadata": {},
   "outputs": [
    {
     "data": {
      "text/plain": [
       "tensor(0.3938, device='mps:0')"
      ]
     },
     "execution_count": 73,
     "metadata": {},
     "output_type": "execute_result"
    }
   ],
   "source": [
    "torch.softmax(out[:, -1], dim=-1)[:, new_effect_tokens].sum()"
   ]
  },
  {
   "cell_type": "code",
   "execution_count": 74,
   "metadata": {},
   "outputs": [],
   "source": [
    "def get_effect_prob(example, model, new_effect_tokens):\n",
    "    with torch.no_grad():\n",
    "        output = model(torch.tensor([example[\"prefix_tokens\"]]))\n",
    "        probs = torch.softmax(output[:, -1], dim=-1)\n",
    "        effect_prob = probs[:, new_effect_tokens].sum().item()\n",
    "        if effect_prob <= 0 or effect_prob > 1:\n",
    "            raise ValueError(\"Effect probability is out of bounds\")\n",
    "    return effect_prob\n",
    "\n",
    "def get_effect_prob_data(data, model, new_effect_tokens, split=None):\n",
    "    return [\n",
    "        {\n",
    "            **example,\n",
    "            \"effect_prob\": get_effect_prob(example, model, new_effect_tokens),\n",
    "        }\n",
    "        for example in tqdm(data, desc=f\"effect prob {split if split is not None else ''}\")\n",
    "    ]"
   ]
  },
  {
   "cell_type": "code",
   "execution_count": 117,
   "metadata": {},
   "outputs": [],
   "source": [
    "def pad_tokens(tokens, pad_token_id, max_len=16):\n",
    "    tokens_len = len(tokens)\n",
    "    return [pad_token_id] * (max(max_len - tokens_len, 0)) + tokens[-min(tokens_len, max_len):]\n",
    "\n",
    "def pad_tokens_data(data, pad_token_id, max_len=16):\n",
    "    return [\n",
    "        {\n",
    "            \"prefix_tokens\": pad_tokens(example.pop(\"prefix_tokens\"), pad_token_id, max_len=max_len),\n",
    "            **example\n",
    "        }\n",
    "        for example in data\n",
    "    ]"
   ]
  },
  {
   "cell_type": "code",
   "execution_count": 118,
   "metadata": {},
   "outputs": [],
   "source": [
    "from hex_nn.datasets import cache_json\n",
    "from hex_nn.masking.behaviors import registry as behavior_registry\n",
    "#TODO: rerun effect probs with padded tokens\n",
    "@cache_json(\"distinctions/{behavior_name}_{model_name}_task.json\")\n",
    "def convert_task_to_model(behavior_name, model_name, task_data, task_model, model):\n",
    "    # decode and recode tokens\n",
    "    task_data[\"train\"] = decode_encode_data(task_data[\"train\"], task_model, model)\n",
    "    task_data[\"test_non_anomalous\"] = decode_encode_data(task_data[\"test_non_anomalous\"], task_model, model)\n",
    "    task_data[\"test_anomalous\"] = decode_encode_data(task_data[\"test_anomalous\"], task_model, model)\n",
    "    # pad tokens \n",
    "    task_data[\"train\"] = pad_tokens_data(task_data[\"train\"], model.tokenizer.pad_token_id)\n",
    "    task_data[\"test_non_anomalous\"] = pad_tokens_data(task_data[\"test_non_anomalous\"], model.tokenizer.pad_token_id)\n",
    "    task_data[\"test_anomalous\"] = pad_tokens_data(task_data[\"test_anomalous\"], model.tokenizer.pad_token_id)\n",
    "    # add model effect probabilities\n",
    "    new_behavior = behavior_registry[behavior_name](model.tokenizer)\n",
    "    new_effect_tokens = list(new_behavior.effect_tokens)\n",
    "    task_data[\"effect_tokens\"] = new_effect_tokens\n",
    "    task_data[\"train\"] = get_effect_prob_data(task_data[\"train\"], model, new_effect_tokens, \"train\")\n",
    "    task_data[\"test_non_anomalous\"] = get_effect_prob_data(task_data[\"test_non_anomalous\"], model, new_effect_tokens, \"test_non_anomalous\")\n",
    "    task_data[\"test_anomalous\"] = get_effect_prob_data(task_data[\"test_anomalous\"], model, new_effect_tokens, \"test_anomalous\")\n",
    "    return task_data"
   ]
  },
  {
   "cell_type": "code",
   "execution_count": 124,
   "metadata": {},
   "outputs": [],
   "source": [
    "task_data = load_tiny_natural_mechanisms_data(name)\n",
    "new_task_data = convert_task_to_model(\"hex\", \"pythia-70m\", task_data, task_model, model)"
   ]
  },
  {
   "cell_type": "code",
   "execution_count": 120,
   "metadata": {},
   "outputs": [
    {
     "data": {
      "text/plain": [
       "([70, 27, 68, 18, 15, 14426, 26, 19, 15, 22, 19, 18, 26, 15, 1234, 25], 16)"
      ]
     },
     "execution_count": 120,
     "metadata": {},
     "output_type": "execute_result"
    }
   ],
   "source": [
    "padded_tokens = pad_tokens(task_data[\"train\"][0][\"prefix_tokens\"], model.tokenizer.pad_token_id)\n",
    "padded_tokens, len(padded_tokens)"
   ]
  },
  {
   "cell_type": "code",
   "execution_count": 121,
   "metadata": {},
   "outputs": [
    {
     "data": {
      "text/plain": [
       "1"
      ]
     },
     "execution_count": 121,
     "metadata": {},
     "output_type": "execute_result"
    }
   ],
   "source": [
    "{\"x\": 1}.pop(\"x\")"
   ]
  },
  {
   "cell_type": "code",
   "execution_count": 125,
   "metadata": {},
   "outputs": [],
   "source": [
    "# pad tokens\n",
    "new_task_data[\"train\"] = pad_tokens_data(new_task_data[\"train\"], model.tokenizer.pad_token_id)\n",
    "new_task_data[\"test_non_anomalous\"] = pad_tokens_data(new_task_data[\"test_non_anomalous\"], model.tokenizer.pad_token_id)\n",
    "new_task_data[\"test_anomalous\"] = pad_tokens_data(new_task_data[\"test_anomalous\"], model.tokenizer.pad_token_id)"
   ]
  },
  {
   "cell_type": "code",
   "execution_count": 102,
   "metadata": {},
   "outputs": [],
   "source": [
    "assert all(len(example[\"prefix_tokens\"]) == 16 for example in task_data[\"train\"])"
   ]
  },
  {
   "cell_type": "code",
   "execution_count": 103,
   "metadata": {},
   "outputs": [
    {
     "data": {
      "text/plain": [
       "4421"
      ]
     },
     "execution_count": 103,
     "metadata": {},
     "output_type": "execute_result"
    }
   ],
   "source": [
    "len([example for example in new_task_data[\"train\"] if len([t for t in example[\"prefix_tokens\"] if t != model.tokenizer.pad_token_id]) == 16])"
   ]
  },
  {
   "cell_type": "code",
   "execution_count": 104,
   "metadata": {},
   "outputs": [
    {
     "data": {
      "text/plain": [
       "0.96142578125"
      ]
     },
     "execution_count": 104,
     "metadata": {},
     "output_type": "execute_result"
    }
   ],
   "source": [
    "np.mean((np.array([example[\"og_effect_prob\"] for example in new_task_data[\"train\"]]) > 0.1).astype(float))"
   ]
  },
  {
   "cell_type": "code",
   "execution_count": 105,
   "metadata": {},
   "outputs": [
    {
     "data": {
      "text/plain": [
       "0.26315002891898853"
      ]
     },
     "execution_count": 105,
     "metadata": {},
     "output_type": "execute_result"
    }
   ],
   "source": [
    "np.mean([abs(example[\"og_effect_prob\"] - example[\"effect_prob\"]) for example in new_task_data[\"train\"]])"
   ]
  },
  {
   "cell_type": "code",
   "execution_count": 106,
   "metadata": {},
   "outputs": [
    {
     "data": {
      "text/plain": [
       "0.09783912390252514"
      ]
     },
     "execution_count": 106,
     "metadata": {},
     "output_type": "execute_result"
    }
   ],
   "source": [
    "np.mean([(example[\"og_effect_prob\"] - example[\"effect_prob\"]) for example in new_task_data[\"train\"]])"
   ]
  },
  {
   "cell_type": "code",
   "execution_count": 107,
   "metadata": {},
   "outputs": [],
   "source": [
    "#TODO: look at sample decodings for maximally disagreeing examples, maybe filter out?"
   ]
  },
  {
   "cell_type": "code",
   "execution_count": 126,
   "metadata": {},
   "outputs": [],
   "source": [
    "# build new task\n",
    "from cupbearer.tasks import Task\n",
    "from cupbearer.tasks.tiny_natural_mechanisms import TinyNaturalMechanismsDataset\n",
    "\n",
    "train_data = TinyNaturalMechanismsDataset(new_task_data[\"train\"])\n",
    "normal_test_data = TinyNaturalMechanismsDataset(new_task_data[\"test_non_anomalous\"])\n",
    "anomalous_test_data = TinyNaturalMechanismsDataset(new_task_data[\"test_anomalous\"])\n",
    "\n",
    "cp_new_task = Task.from_separate_data(\n",
    "    model=model, \n",
    "    trusted_data=train_data,\n",
    "    clean_test_data=normal_test_data,\n",
    "    anomalous_test_data=anomalous_test_data,\n",
    ")"
   ]
  },
  {
   "cell_type": "code",
   "execution_count": 127,
   "metadata": {},
   "outputs": [],
   "source": [
    "def get_activation_at_last_token(\n",
    "    activation: torch.Tensor, inputs: list[list[int]], name: str\n",
    "):\n",
    "    if activation.ndim == 3:\n",
    "        # Residual stream or equivalent, shape is (batch, seq, hidden)\n",
    "        return activation[:, -1, :]\n",
    "    elif activation.ndim == 4 and activation.shape[-1] == activation.shape[-2]:\n",
    "        # Attention, shape is (batch, num_heads, query, key)\n",
    "        # TODO: this could also be Q/K/V if n_heads happens to be head_dim\n",
    "        return activation[:, :, -1, :].reshape(activation.shape[0], -1)\n",
    "    elif activation.ndim == 4:\n",
    "        # Query/key/value, shape is (batch, seq, num_heads, hidden)\n",
    "        return activation[:, -1, :, :].reshape(activation.shape[0], -1)\n",
    "    else:\n",
    "        raise ValueError(f\"Unexpected activation shape: {activation.shape}\")"
   ]
  },
  {
   "cell_type": "code",
   "execution_count": 147,
   "metadata": {},
   "outputs": [
    {
     "name": "stdout",
     "output_type": "stream",
     "text": [
      "\n",
      "embed\n",
      "hook_embed\n",
      "blocks\n",
      "blocks.0\n",
      "blocks.0.ln1\n",
      "blocks.0.ln1.hook_scale\n",
      "blocks.0.ln1.hook_normalized\n",
      "blocks.0.ln2\n",
      "blocks.0.ln2.hook_scale\n",
      "blocks.0.ln2.hook_normalized\n",
      "blocks.0.attn\n",
      "blocks.0.attn.hook_k\n",
      "blocks.0.attn.hook_q\n",
      "blocks.0.attn.hook_v\n",
      "blocks.0.attn.hook_z\n",
      "blocks.0.attn.hook_attn_scores\n",
      "blocks.0.attn.hook_pattern\n",
      "blocks.0.attn.hook_result\n",
      "blocks.0.attn.hook_rot_k\n",
      "blocks.0.attn.hook_rot_q\n",
      "blocks.0.mlp\n",
      "blocks.0.mlp.hook_pre\n",
      "blocks.0.mlp.hook_post\n",
      "blocks.0.hook_attn_in\n",
      "blocks.0.hook_q_input\n",
      "blocks.0.hook_k_input\n",
      "blocks.0.hook_v_input\n",
      "blocks.0.hook_mlp_in\n",
      "blocks.0.hook_attn_out\n",
      "blocks.0.hook_mlp_out\n",
      "blocks.0.hook_resid_pre\n",
      "blocks.0.hook_resid_post\n",
      "blocks.1\n",
      "blocks.1.ln1\n",
      "blocks.1.ln1.hook_scale\n",
      "blocks.1.ln1.hook_normalized\n",
      "blocks.1.ln2\n",
      "blocks.1.ln2.hook_scale\n",
      "blocks.1.ln2.hook_normalized\n",
      "blocks.1.attn\n",
      "blocks.1.attn.hook_k\n",
      "blocks.1.attn.hook_q\n",
      "blocks.1.attn.hook_v\n",
      "blocks.1.attn.hook_z\n",
      "blocks.1.attn.hook_attn_scores\n",
      "blocks.1.attn.hook_pattern\n",
      "blocks.1.attn.hook_result\n",
      "blocks.1.attn.hook_rot_k\n",
      "blocks.1.attn.hook_rot_q\n",
      "blocks.1.mlp\n",
      "blocks.1.mlp.hook_pre\n",
      "blocks.1.mlp.hook_post\n",
      "blocks.1.hook_attn_in\n",
      "blocks.1.hook_q_input\n",
      "blocks.1.hook_k_input\n",
      "blocks.1.hook_v_input\n",
      "blocks.1.hook_mlp_in\n",
      "blocks.1.hook_attn_out\n",
      "blocks.1.hook_mlp_out\n",
      "blocks.1.hook_resid_pre\n",
      "blocks.1.hook_resid_post\n",
      "blocks.2\n",
      "blocks.2.ln1\n",
      "blocks.2.ln1.hook_scale\n",
      "blocks.2.ln1.hook_normalized\n",
      "blocks.2.ln2\n",
      "blocks.2.ln2.hook_scale\n",
      "blocks.2.ln2.hook_normalized\n",
      "blocks.2.attn\n",
      "blocks.2.attn.hook_k\n",
      "blocks.2.attn.hook_q\n",
      "blocks.2.attn.hook_v\n",
      "blocks.2.attn.hook_z\n",
      "blocks.2.attn.hook_attn_scores\n",
      "blocks.2.attn.hook_pattern\n",
      "blocks.2.attn.hook_result\n",
      "blocks.2.attn.hook_rot_k\n",
      "blocks.2.attn.hook_rot_q\n",
      "blocks.2.mlp\n",
      "blocks.2.mlp.hook_pre\n",
      "blocks.2.mlp.hook_post\n",
      "blocks.2.hook_attn_in\n",
      "blocks.2.hook_q_input\n",
      "blocks.2.hook_k_input\n",
      "blocks.2.hook_v_input\n",
      "blocks.2.hook_mlp_in\n",
      "blocks.2.hook_attn_out\n",
      "blocks.2.hook_mlp_out\n",
      "blocks.2.hook_resid_pre\n",
      "blocks.2.hook_resid_post\n",
      "blocks.3\n",
      "blocks.3.ln1\n",
      "blocks.3.ln1.hook_scale\n",
      "blocks.3.ln1.hook_normalized\n",
      "blocks.3.ln2\n",
      "blocks.3.ln2.hook_scale\n",
      "blocks.3.ln2.hook_normalized\n",
      "blocks.3.attn\n",
      "blocks.3.attn.hook_k\n",
      "blocks.3.attn.hook_q\n",
      "blocks.3.attn.hook_v\n",
      "blocks.3.attn.hook_z\n",
      "blocks.3.attn.hook_attn_scores\n",
      "blocks.3.attn.hook_pattern\n",
      "blocks.3.attn.hook_result\n",
      "blocks.3.attn.hook_rot_k\n",
      "blocks.3.attn.hook_rot_q\n",
      "blocks.3.mlp\n",
      "blocks.3.mlp.hook_pre\n",
      "blocks.3.mlp.hook_post\n",
      "blocks.3.hook_attn_in\n",
      "blocks.3.hook_q_input\n",
      "blocks.3.hook_k_input\n",
      "blocks.3.hook_v_input\n",
      "blocks.3.hook_mlp_in\n",
      "blocks.3.hook_attn_out\n",
      "blocks.3.hook_mlp_out\n",
      "blocks.3.hook_resid_pre\n",
      "blocks.3.hook_resid_post\n",
      "blocks.4\n",
      "blocks.4.ln1\n",
      "blocks.4.ln1.hook_scale\n",
      "blocks.4.ln1.hook_normalized\n",
      "blocks.4.ln2\n",
      "blocks.4.ln2.hook_scale\n",
      "blocks.4.ln2.hook_normalized\n",
      "blocks.4.attn\n",
      "blocks.4.attn.hook_k\n",
      "blocks.4.attn.hook_q\n",
      "blocks.4.attn.hook_v\n",
      "blocks.4.attn.hook_z\n",
      "blocks.4.attn.hook_attn_scores\n",
      "blocks.4.attn.hook_pattern\n",
      "blocks.4.attn.hook_result\n",
      "blocks.4.attn.hook_rot_k\n",
      "blocks.4.attn.hook_rot_q\n",
      "blocks.4.mlp\n",
      "blocks.4.mlp.hook_pre\n",
      "blocks.4.mlp.hook_post\n",
      "blocks.4.hook_attn_in\n",
      "blocks.4.hook_q_input\n",
      "blocks.4.hook_k_input\n",
      "blocks.4.hook_v_input\n",
      "blocks.4.hook_mlp_in\n",
      "blocks.4.hook_attn_out\n",
      "blocks.4.hook_mlp_out\n",
      "blocks.4.hook_resid_pre\n",
      "blocks.4.hook_resid_post\n",
      "blocks.5\n",
      "blocks.5.ln1\n",
      "blocks.5.ln1.hook_scale\n",
      "blocks.5.ln1.hook_normalized\n",
      "blocks.5.ln2\n",
      "blocks.5.ln2.hook_scale\n",
      "blocks.5.ln2.hook_normalized\n",
      "blocks.5.attn\n",
      "blocks.5.attn.hook_k\n",
      "blocks.5.attn.hook_q\n",
      "blocks.5.attn.hook_v\n",
      "blocks.5.attn.hook_z\n",
      "blocks.5.attn.hook_attn_scores\n",
      "blocks.5.attn.hook_pattern\n",
      "blocks.5.attn.hook_result\n",
      "blocks.5.attn.hook_rot_k\n",
      "blocks.5.attn.hook_rot_q\n",
      "blocks.5.mlp\n",
      "blocks.5.mlp.hook_pre\n",
      "blocks.5.mlp.hook_post\n",
      "blocks.5.hook_attn_in\n",
      "blocks.5.hook_q_input\n",
      "blocks.5.hook_k_input\n",
      "blocks.5.hook_v_input\n",
      "blocks.5.hook_mlp_in\n",
      "blocks.5.hook_attn_out\n",
      "blocks.5.hook_mlp_out\n",
      "blocks.5.hook_resid_pre\n",
      "blocks.5.hook_resid_post\n",
      "ln_final\n",
      "ln_final.hook_scale\n",
      "ln_final.hook_normalized\n",
      "unembed\n"
     ]
    }
   ],
   "source": [
    "for name, _ in cp_task.model.named_modules():\n",
    "    print(name)"
   ]
  },
  {
   "cell_type": "code",
   "execution_count": 136,
   "metadata": {},
   "outputs": [],
   "source": [
    "names = [\n",
    "    # \"hook_embed.output\",\n",
    "    # \"blocks.1.hook_resid_post.output\",\n",
    "    # \"blocks.2.hook_resid_post.output\",\n",
    "    # \"blocks.3.hook_resid_post.output\",\n",
    "    # \"blocks.4.hook_resid_post.output\",\n",
    "    # \"blocks.0.hook_attn_out.output\"\n",
    "    \"blocks.1.hook_attn_out.output\",\n",
    "    \"blocks.2.hook_attn_out.output\",\n",
    "    \"blocks.3.hook_attn_out.output\",\n",
    "    \"blocks.4.hook_attn_out.output\",\n",
    "    # \"blocks.5.hook_attn_out.output\"\n",
    "]\n",
    "\n",
    "detector = detectors.MahalanobisDetector(\n",
    "    names, layer_aggregation=\"mean\", activation_processing_func=get_activation_at_last_token\n",
    ")"
   ]
  },
  {
   "cell_type": "code",
   "execution_count": 137,
   "metadata": {},
   "outputs": [
    {
     "name": "stderr",
     "output_type": "stream",
     "text": [
      "100%|██████████| 256/256 [00:08<00:00, 29.20it/s]\n",
      "\u001b[32m2024-06-25 14:56:16.832\u001b[0m | \u001b[1mINFO    \u001b[0m | \u001b[36mcupbearer.detectors.anomaly_detector\u001b[0m:\u001b[36meval\u001b[0m:\u001b[36m152\u001b[0m - \u001b[1mAUC_ROC (all): 0.8782\u001b[0m\n",
      "\u001b[32m2024-06-25 14:56:16.832\u001b[0m | \u001b[1mINFO    \u001b[0m | \u001b[36mcupbearer.detectors.anomaly_detector\u001b[0m:\u001b[36meval\u001b[0m:\u001b[36m153\u001b[0m - \u001b[1mAP (all): 0.8273\u001b[0m\n"
     ]
    },
    {
     "data": {
      "text/plain": [
       "(defaultdict(dict,\n",
       "             {'all': {'AUC_ROC': 0.8781576156616211,\n",
       "               'AP': 0.8272973965740064}}),\n",
       " {'all': <Figure size 640x480 with 1 Axes>})"
      ]
     },
     "execution_count": 137,
     "metadata": {},
     "output_type": "execute_result"
    },
    {
     "data": {
      "image/png": "[encoded data removed]",
      "text/plain": [
       "<Figure size 640x480 with 1 Axes>"
      ]
     },
     "metadata": {},
     "output_type": "display_data"
    }
   ],
   "source": [
    "scripts.train_detector(\n",
    "    cp_new_task, detector, save_path=None, eval_batch_size=64, batch_size=64\n",
    ")"
   ]
  },
  {
   "cell_type": "markdown",
   "metadata": {},
   "source": [
    "# Run Edge Attribution Patching on Hex"
   ]
  },
  {
   "cell_type": "markdown",
   "metadata": {},
   "source": []
  },
  {
   "cell_type": "code",
   "execution_count": 32,
   "metadata": {},
   "outputs": [],
   "source": [
    "from eap.eap_wrapper import EAP"
   ]
  },
  {
   "cell_type": "code",
   "execution_count": 33,
   "metadata": {},
   "outputs": [],
   "source": [
    "device = \"mps\""
   ]
  },
  {
   "cell_type": "code",
   "execution_count": 34,
   "metadata": {},
   "outputs": [],
   "source": [
    "# TODO: look back at edge attribution example\n",
    "model.set_use_split_qkv_input(True)\n",
    "model.set_use_attn_result(True)"
   ]
  },
  {
   "cell_type": "code",
   "execution_count": 41,
   "metadata": {},
   "outputs": [],
   "source": [
    "# use mean probability over effect tokens as metric \n",
    "def effect_prob_func(logits, effect_tokens):\n",
    "    assert logits.ndim == 3\n",
    "    probs = logits.softmax(-1)\n",
    "    # Sum over vocab and batch dim (for now we're just computing attribution values, we'll deal with per data instance later)\n",
    "    out = probs[:, -1, effect_tokens].mean()\n",
    "    print(\"metric\", out)\n",
    "    return out"
   ]
  },
  {
   "cell_type": "code",
   "execution_count": 42,
   "metadata": {},
   "outputs": [],
   "source": [
    "effect_tokens = torch.tensor(task[\"effect_tokens\"])"
   ]
  },
  {
   "cell_type": "code",
   "execution_count": 43,
   "metadata": {},
   "outputs": [],
   "source": [
    "trusted_tokens = torch.stack(\n",
    "    [torch.tensor(x[\"prefix_tokens\"]) for x in cp_task.trusted_data.data], \n",
    "    dim=0).to(device)"
   ]
  },
  {
   "cell_type": "code",
   "execution_count": 44,
   "metadata": {},
   "outputs": [
    {
     "name": "stdout",
     "output_type": "stream",
     "text": [
      "Saving activations requires 0.0001 GB of memory per token\n"
     ]
    },
    {
     "name": "stderr",
     "output_type": "stream",
     "text": [
      "  0%|          | 0/256 [00:02<?, ?it/s]\n"
     ]
    },
    {
     "ename": "AssertionError",
     "evalue": "Cannot add hook blocks.0.hook_mlp_in if use_hook_mlp_in is False",
     "output_type": "error",
     "traceback": [
      "\u001b[0;31m---------------------------------------------------------------------------\u001b[0m",
      "\u001b[0;31mAssertionError\u001b[0m                            Traceback (most recent call last)",
      "Cell \u001b[0;32mIn[44], line 3\u001b[0m\n\u001b[1;32m      1\u001b[0m model\u001b[38;5;241m.\u001b[39mreset_hooks()\n\u001b[0;32m----> 3\u001b[0m graph \u001b[38;5;241m=\u001b[39m \u001b[43mEAP\u001b[49m\u001b[43m(\u001b[49m\n\u001b[1;32m      4\u001b[0m \u001b[43m    \u001b[49m\u001b[43mmodel\u001b[49m\u001b[38;5;241;43m=\u001b[39;49m\u001b[43mmodel\u001b[49m\u001b[43m,\u001b[49m\n\u001b[1;32m      5\u001b[0m \u001b[43m    \u001b[49m\u001b[43mclean_tokens\u001b[49m\u001b[38;5;241;43m=\u001b[39;49m\u001b[43mtrusted_tokens\u001b[49m\u001b[43m,\u001b[49m\n\u001b[1;32m      6\u001b[0m \u001b[43m    \u001b[49m\u001b[43mmetric\u001b[49m\u001b[38;5;241;43m=\u001b[39;49m\u001b[43mpartial\u001b[49m\u001b[43m(\u001b[49m\u001b[43meffect_prob_func\u001b[49m\u001b[43m,\u001b[49m\u001b[43m \u001b[49m\u001b[43meffect_tokens\u001b[49m\u001b[38;5;241;43m=\u001b[39;49m\u001b[43meffect_tokens\u001b[49m\u001b[43m)\u001b[49m\u001b[43m,\u001b[49m\u001b[43m \u001b[49m\n\u001b[1;32m      7\u001b[0m \u001b[43m    \u001b[49m\u001b[38;5;66;43;03m# upstream_nodes=[\"head\"],\u001b[39;49;00m\n\u001b[1;32m      8\u001b[0m \u001b[43m    \u001b[49m\u001b[38;5;66;43;03m# downstream_nodes=[\"head\"],\u001b[39;49;00m\n\u001b[1;32m      9\u001b[0m \u001b[43m    \u001b[49m\u001b[43mbatch_size\u001b[49m\u001b[38;5;241;43m=\u001b[39;49m\u001b[38;5;241;43m64\u001b[39;49m\n\u001b[1;32m     10\u001b[0m \u001b[43m)\u001b[49m\n",
      "File \u001b[0;32m~/projects/elk-experiments/edge-attribution-patching/eap/eap_wrapper.py:166\u001b[0m, in \u001b[0;36mEAP\u001b[0;34m(model, clean_tokens, metric, corrupted_tokens, upstream_nodes, downstream_nodes, batch_size)\u001b[0m\n\u001b[1;32m    164\u001b[0m model\u001b[38;5;241m.\u001b[39mreset_hooks()\n\u001b[1;32m    165\u001b[0m model\u001b[38;5;241m.\u001b[39madd_hook(upstream_hook_filter, clean_upstream_hook_fn, \u001b[38;5;124m\"\u001b[39m\u001b[38;5;124mfwd\u001b[39m\u001b[38;5;124m\"\u001b[39m)\n\u001b[0;32m--> 166\u001b[0m \u001b[43mmodel\u001b[49m\u001b[38;5;241;43m.\u001b[39;49m\u001b[43madd_hook\u001b[49m\u001b[43m(\u001b[49m\u001b[43mdownstream_hook_filter\u001b[49m\u001b[43m,\u001b[49m\u001b[43m \u001b[49m\u001b[43mclean_downstream_hook_fn\u001b[49m\u001b[43m,\u001b[49m\u001b[43m \u001b[49m\u001b[38;5;124;43m\"\u001b[39;49m\u001b[38;5;124;43mbwd\u001b[39;49m\u001b[38;5;124;43m\"\u001b[39;49m\u001b[43m)\u001b[49m\n\u001b[1;32m    168\u001b[0m clean_tokens \u001b[38;5;241m=\u001b[39m clean_tokens\u001b[38;5;241m.\u001b[39mto(model\u001b[38;5;241m.\u001b[39mcfg\u001b[38;5;241m.\u001b[39mdevice)\n\u001b[1;32m    169\u001b[0m value \u001b[38;5;241m=\u001b[39m metric(model(clean_tokens[idx:idx\u001b[38;5;241m+\u001b[39mbatch_size], return_type\u001b[38;5;241m=\u001b[39m\u001b[38;5;124m\"\u001b[39m\u001b[38;5;124mlogits\u001b[39m\u001b[38;5;124m\"\u001b[39m))\n",
      "File \u001b[0;32m~/Library/Caches/pypoetry/virtualenvs/elk-experiments-AZ2LBS3Q-py3.10/lib/python3.10/site-packages/transformer_lens/hook_points.py:316\u001b[0m, in \u001b[0;36mHookedRootModule.add_hook\u001b[0;34m(self, name, hook, dir, is_permanent, level, prepend)\u001b[0m\n\u001b[1;32m    314\u001b[0m \u001b[38;5;28;01mfor\u001b[39;00m hook_point_name, hp \u001b[38;5;129;01min\u001b[39;00m \u001b[38;5;28mself\u001b[39m\u001b[38;5;241m.\u001b[39mhook_dict\u001b[38;5;241m.\u001b[39mitems():\n\u001b[1;32m    315\u001b[0m     \u001b[38;5;28;01mif\u001b[39;00m name(hook_point_name):\n\u001b[0;32m--> 316\u001b[0m         \u001b[38;5;28;43mself\u001b[39;49m\u001b[38;5;241;43m.\u001b[39;49m\u001b[43mcheck_and_add_hook\u001b[49m\u001b[43m(\u001b[49m\n\u001b[1;32m    317\u001b[0m \u001b[43m            \u001b[49m\u001b[43mhp\u001b[49m\u001b[43m,\u001b[49m\n\u001b[1;32m    318\u001b[0m \u001b[43m            \u001b[49m\u001b[43mhook_point_name\u001b[49m\u001b[43m,\u001b[49m\n\u001b[1;32m    319\u001b[0m \u001b[43m            \u001b[49m\u001b[43mhook\u001b[49m\u001b[43m,\u001b[49m\n\u001b[1;32m    320\u001b[0m \u001b[43m            \u001b[49m\u001b[38;5;28;43mdir\u001b[39;49m\u001b[38;5;241;43m=\u001b[39;49m\u001b[38;5;28;43mdir\u001b[39;49m\u001b[43m,\u001b[49m\n\u001b[1;32m    321\u001b[0m \u001b[43m            \u001b[49m\u001b[43mis_permanent\u001b[49m\u001b[38;5;241;43m=\u001b[39;49m\u001b[43mis_permanent\u001b[49m\u001b[43m,\u001b[49m\n\u001b[1;32m    322\u001b[0m \u001b[43m            \u001b[49m\u001b[43mlevel\u001b[49m\u001b[38;5;241;43m=\u001b[39;49m\u001b[43mlevel\u001b[49m\u001b[43m,\u001b[49m\n\u001b[1;32m    323\u001b[0m \u001b[43m            \u001b[49m\u001b[43mprepend\u001b[49m\u001b[38;5;241;43m=\u001b[39;49m\u001b[43mprepend\u001b[49m\u001b[43m,\u001b[49m\n\u001b[1;32m    324\u001b[0m \u001b[43m        \u001b[49m\u001b[43m)\u001b[49m\n",
      "File \u001b[0;32m~/Library/Caches/pypoetry/virtualenvs/elk-experiments-AZ2LBS3Q-py3.10/lib/python3.10/site-packages/transformer_lens/hook_points.py:267\u001b[0m, in \u001b[0;36mHookedRootModule.check_and_add_hook\u001b[0;34m(self, hook_point, hook_point_name, hook, dir, is_permanent, level, prepend)\u001b[0m\n\u001b[1;32m    255\u001b[0m \u001b[38;5;28;01mdef\u001b[39;00m \u001b[38;5;21mcheck_and_add_hook\u001b[39m(\n\u001b[1;32m    256\u001b[0m     \u001b[38;5;28mself\u001b[39m,\n\u001b[1;32m    257\u001b[0m     hook_point: HookPoint,\n\u001b[0;32m   (...)\u001b[0m\n\u001b[1;32m    263\u001b[0m     prepend: \u001b[38;5;28mbool\u001b[39m \u001b[38;5;241m=\u001b[39m \u001b[38;5;28;01mFalse\u001b[39;00m,\n\u001b[1;32m    264\u001b[0m ) \u001b[38;5;241m-\u001b[39m\u001b[38;5;241m>\u001b[39m \u001b[38;5;28;01mNone\u001b[39;00m:\n\u001b[1;32m    265\u001b[0m \u001b[38;5;250m    \u001b[39m\u001b[38;5;124;03m\"\"\"Runs checks on the hook, and then adds it to the hook point\"\"\"\u001b[39;00m\n\u001b[0;32m--> 267\u001b[0m     \u001b[38;5;28;43mself\u001b[39;49m\u001b[38;5;241;43m.\u001b[39;49m\u001b[43mcheck_hooks_to_add\u001b[49m\u001b[43m(\u001b[49m\n\u001b[1;32m    268\u001b[0m \u001b[43m        \u001b[49m\u001b[43mhook_point\u001b[49m\u001b[43m,\u001b[49m\n\u001b[1;32m    269\u001b[0m \u001b[43m        \u001b[49m\u001b[43mhook_point_name\u001b[49m\u001b[43m,\u001b[49m\n\u001b[1;32m    270\u001b[0m \u001b[43m        \u001b[49m\u001b[43mhook\u001b[49m\u001b[43m,\u001b[49m\n\u001b[1;32m    271\u001b[0m \u001b[43m        \u001b[49m\u001b[38;5;28;43mdir\u001b[39;49m\u001b[38;5;241;43m=\u001b[39;49m\u001b[38;5;28;43mdir\u001b[39;49m\u001b[43m,\u001b[49m\n\u001b[1;32m    272\u001b[0m \u001b[43m        \u001b[49m\u001b[43mis_permanent\u001b[49m\u001b[38;5;241;43m=\u001b[39;49m\u001b[43mis_permanent\u001b[49m\u001b[43m,\u001b[49m\n\u001b[1;32m    273\u001b[0m \u001b[43m        \u001b[49m\u001b[43mprepend\u001b[49m\u001b[38;5;241;43m=\u001b[39;49m\u001b[43mprepend\u001b[49m\u001b[43m,\u001b[49m\n\u001b[1;32m    274\u001b[0m \u001b[43m    \u001b[49m\u001b[43m)\u001b[49m\n\u001b[1;32m    275\u001b[0m     hook_point\u001b[38;5;241m.\u001b[39madd_hook(hook, \u001b[38;5;28mdir\u001b[39m\u001b[38;5;241m=\u001b[39m\u001b[38;5;28mdir\u001b[39m, is_permanent\u001b[38;5;241m=\u001b[39mis_permanent, level\u001b[38;5;241m=\u001b[39mlevel, prepend\u001b[38;5;241m=\u001b[39mprepend)\n",
      "File \u001b[0;32m~/Library/Caches/pypoetry/virtualenvs/elk-experiments-AZ2LBS3Q-py3.10/lib/python3.10/site-packages/transformer_lens/HookedTransformer.py:237\u001b[0m, in \u001b[0;36mHookedTransformer.check_hooks_to_add\u001b[0;34m(self, hook_point, hook_point_name, hook, dir, is_permanent, prepend)\u001b[0m\n\u001b[1;32m    233\u001b[0m     \u001b[38;5;28;01massert\u001b[39;00m (\n\u001b[1;32m    234\u001b[0m         \u001b[38;5;28mself\u001b[39m\u001b[38;5;241m.\u001b[39mcfg\u001b[38;5;241m.\u001b[39muse_split_qkv_input\n\u001b[1;32m    235\u001b[0m     ), \u001b[38;5;124mf\u001b[39m\u001b[38;5;124m\"\u001b[39m\u001b[38;5;124mCannot add hook \u001b[39m\u001b[38;5;132;01m{\u001b[39;00mhook_point_name\u001b[38;5;132;01m}\u001b[39;00m\u001b[38;5;124m if use_split_qkv_input is False\u001b[39m\u001b[38;5;124m\"\u001b[39m\n\u001b[1;32m    236\u001b[0m \u001b[38;5;28;01mif\u001b[39;00m hook_point_name\u001b[38;5;241m.\u001b[39mendswith(\u001b[38;5;124m\"\u001b[39m\u001b[38;5;124mmlp_in\u001b[39m\u001b[38;5;124m\"\u001b[39m):\n\u001b[0;32m--> 237\u001b[0m     \u001b[38;5;28;01massert\u001b[39;00m (\n\u001b[1;32m    238\u001b[0m         \u001b[38;5;28mself\u001b[39m\u001b[38;5;241m.\u001b[39mcfg\u001b[38;5;241m.\u001b[39muse_hook_mlp_in\n\u001b[1;32m    239\u001b[0m     ), \u001b[38;5;124mf\u001b[39m\u001b[38;5;124m\"\u001b[39m\u001b[38;5;124mCannot add hook \u001b[39m\u001b[38;5;132;01m{\u001b[39;00mhook_point_name\u001b[38;5;132;01m}\u001b[39;00m\u001b[38;5;124m if use_hook_mlp_in is False\u001b[39m\u001b[38;5;124m\"\u001b[39m\n\u001b[1;32m    240\u001b[0m \u001b[38;5;28;01mif\u001b[39;00m hook_point_name\u001b[38;5;241m.\u001b[39mendswith(\u001b[38;5;124m\"\u001b[39m\u001b[38;5;124mattn_in\u001b[39m\u001b[38;5;124m\"\u001b[39m):\n\u001b[1;32m    241\u001b[0m     \u001b[38;5;28;01massert\u001b[39;00m (\n\u001b[1;32m    242\u001b[0m         \u001b[38;5;28mself\u001b[39m\u001b[38;5;241m.\u001b[39mcfg\u001b[38;5;241m.\u001b[39muse_attn_in\n\u001b[1;32m    243\u001b[0m     ), \u001b[38;5;124mf\u001b[39m\u001b[38;5;124m\"\u001b[39m\u001b[38;5;124mCannot add hook \u001b[39m\u001b[38;5;132;01m{\u001b[39;00mhook_point_name\u001b[38;5;132;01m}\u001b[39;00m\u001b[38;5;124m if use_attn_in is False\u001b[39m\u001b[38;5;124m\"\u001b[39m\n",
      "\u001b[0;31mAssertionError\u001b[0m: Cannot add hook blocks.0.hook_mlp_in if use_hook_mlp_in is False"
     ]
    }
   ],
   "source": [
    "model.reset_hooks()\n",
    "\n",
    "graph = EAP(\n",
    "    model=model,\n",
    "    clean_tokens=trusted_tokens,\n",
    "    metric=partial(effect_prob_func, effect_tokens=effect_tokens), \n",
    "    # upstream_nodes=[\"head\"],\n",
    "    # downstream_nodes=[\"head\"],\n",
    "    batch_size=64\n",
    ")"
   ]
  },
  {
   "cell_type": "code",
   "execution_count": 39,
   "metadata": {},
   "outputs": [],
   "source": [
    "top_edges = graph.top_edges(n=20, abs_scores=True)"
   ]
  },
  {
   "cell_type": "code",
   "execution_count": 40,
   "metadata": {},
   "outputs": [
    {
     "name": "stdout",
     "output_type": "stream",
     "text": [
      "head.2.7 -> [0.0] -> head.3.0.k\n",
      "head.0.6 -> [-0.0] -> head.1.1.v\n",
      "head.2.7 -> [0.0] -> head.3.3.k\n",
      "head.0.6 -> [0.0] -> head.1.0.v\n",
      "head.0.0 -> [0.0] -> head.2.1.v\n",
      "head.0.6 -> [-0.0] -> head.2.7.v\n",
      "head.0.0 -> [-0.0] -> head.3.4.v\n",
      "head.0.6 -> [-0.0] -> head.1.3.v\n",
      "head.0.5 -> [0.0] -> head.1.3.v\n",
      "head.0.0 -> [0.0] -> head.2.7.v\n",
      "head.0.6 -> [-0.0] -> head.2.1.v\n",
      "head.0.0 -> [-0.0] -> head.3.3.v\n",
      "head.1.3 -> [0.0] -> head.2.7.v\n",
      "head.0.6 -> [-0.0] -> head.1.4.v\n",
      "head.0.6 -> [-0.0] -> head.2.5.v\n",
      "head.2.7 -> [0.0] -> head.3.0.q\n",
      "head.0.3 -> [0.0] -> head.2.7.v\n",
      "head.0.3 -> [-0.0] -> head.1.7.v\n",
      "head.1.3 -> [-0.0] -> head.2.5.v\n",
      "head.1.3 -> [0.0] -> head.3.0.q\n"
     ]
    }
   ],
   "source": [
    "#TODO: fix the edge attribution code (maybe missing a negative? should trace through)\n",
    "for from_edge, to_edge, score in top_edges:\n",
    "    print(f'{from_edge} -> [{round(score, 3)}] -> {to_edge}')"
   ]
  },
  {
   "cell_type": "code",
   "execution_count": null,
   "metadata": {},
   "outputs": [],
   "source": []
  }
 ],
 "metadata": {
  "kernelspec": {
   "display_name": "elk-experiments-AZ2LBS3Q-py3.10",
   "language": "python",
   "name": "python3"
  },
  "language_info": {
   "codemirror_mode": {
    "name": "ipython",
    "version": 3
   },
   "file_extension": ".py",
   "mimetype": "text/x-python",
   "name": "python",
   "nbconvert_exporter": "python",
   "pygments_lexer": "ipython3",
   "version": "3.10.14"
  }
 },
 "nbformat": 4,
 "nbformat_minor": 2
}
