{
 "cells": [
  {
   "cell_type": "code",
   "execution_count": 1,
   "metadata": {},
   "outputs": [],
   "source": [
    "import torch\n",
    "\n",
    "from cupbearer import tasks, scripts, utils\n",
    "from cupbearer.tasks.tiny_natural_mechanisms import get_effect_tokens\n",
    "from cupbearer.detectors.statistical import MahalanobisDetector\n",
    "from elk_experiments.auto_circuit_detector import AutoCircuitGradScoresDetector, AutoCircuitPruningDetector\n",
    "from elk_experiments.tiny_natural_mechanisms_utils import get_task_subset\n",
    "from elk_experiments.utils import repo_path_to_abs_path\n",
    "from auto_circuit.types import AblationType\n",
    "from auto_circuit.data import PromptPairBatch   "
   ]
  },
  {
   "cell_type": "code",
   "execution_count": 2,
   "metadata": {},
   "outputs": [],
   "source": [
    "class AutoCircuitGradScoresMahalanobis(AutoCircuitGradScoresDetector, MahalanobisDetector):\n",
    "\n",
    "    def train(self, **kwargs):\n",
    "        super().train(**kwargs)\n",
    "        # Post process\n",
    "        with torch.inference_mode():\n",
    "            self.means = self._means\n",
    "            self.covariances = {k: C / (self._ns[k] - 1) for k, C in self._Cs.items()}\n",
    "            if any(torch.count_nonzero(C) == 0 for C in self.covariances.values()):\n",
    "                raise RuntimeError(\"All zero covariance matrix detected.\")\n",
    "\n",
    "            self.post_covariance_training(**kwargs)"
   ]
  },
  {
   "cell_type": "code",
   "execution_count": 3,
   "metadata": {},
   "outputs": [],
   "source": [
    "model_name = \"pythia-70m\"\n",
    "device=\"cpu\"\n",
    "task_name=\"ifelse\""
   ]
  },
  {
   "cell_type": "code",
   "execution_count": 4,
   "metadata": {},
   "outputs": [
    {
     "name": "stdout",
     "output_type": "stream",
     "text": [
      "Loaded pretrained model attn-only-1l into HookedTransformer\n",
      "Moving model to device:  cpu\n"
     ]
    },
    {
     "name": "stderr",
     "output_type": "stream",
     "text": [
      "/Users/oliverdaniels-koch/Library/Caches/pypoetry/virtualenvs/elk-experiments-AZ2LBS3Q-py3.10/lib/python3.10/site-packages/huggingface_hub/file_download.py:1132: FutureWarning: `resume_download` is deprecated and will be removed in version 1.0.0. Downloads always resume when possible. If you want to force a new download, use `force_download=True`.\n",
      "  warnings.warn(\n",
      "Special tokens have been added in the vocabulary, make sure the associated word embeddings are fine-tuned or trained.\n"
     ]
    },
    {
     "name": "stdout",
     "output_type": "stream",
     "text": [
      "Loaded pretrained model pythia-70m into HookedTransformer\n",
      "Moving model to device:  cpu\n"
     ]
    }
   ],
   "source": [
    "task = get_task_subset(tasks.tiny_natural_mechanisms(task_name, device, model_name), 2048, 1024, 1024)"
   ]
  },
  {
   "cell_type": "code",
   "execution_count": 5,
   "metadata": {},
   "outputs": [
    {
     "data": {
      "text/plain": [
       "50254"
      ]
     },
     "execution_count": 5,
     "metadata": {},
     "output_type": "execute_result"
    }
   ],
   "source": [
    "task.model.tokenizer.vocab_size"
   ]
  },
  {
   "cell_type": "code",
   "execution_count": 6,
   "metadata": {},
   "outputs": [],
   "source": [
    "def effect_prob(logits: torch.Tensor, batch: PromptPairBatch):\n",
    "    # logits: [batch, vocab_size]\n",
    "    answers = batch.answers # effect tokens\n",
    "    assert logits.ndim == 2  # batch size, seq len, vocab\n",
    "    \n",
    "    probs = logits.softmax(dim=-1)\n",
    "    effect_prob = probs[:, answers].sum()\n",
    "    return effect_prob"
   ]
  },
  {
   "cell_type": "code",
   "execution_count": 7,
   "metadata": {},
   "outputs": [],
   "source": [
    "detector_path = repo_path_to_abs_path(\"output\") / f\"auto-circuit_mahalanobis_{model_name}_{task_name}_detector\"\n",
    "\n",
    "detector = AutoCircuitGradScoresMahalanobis(\n",
    "    effect_tokens = get_effect_tokens(task_name, task.model), \n",
    "    ablation_type=AblationType.ZERO,\n",
    "    metric=effect_prob,\n",
    "    resid_src=False, \n",
    "    resid_dest=False,\n",
    "    mlp_src=True,\n",
    "    mlp_dest=True,\n",
    "    device=device, \n",
    ")"
   ]
  },
  {
   "cell_type": "code",
   "execution_count": 8,
   "metadata": {},
   "outputs": [
    {
     "name": "stderr",
     "output_type": "stream",
     "text": [
      "\u001b[32m2024-07-12 23:45:35.830\u001b[0m | \u001b[34m\u001b[1mDEBUG   \u001b[0m | \u001b[36mcupbearer.detectors.statistical.statistical\u001b[0m:\u001b[36minit_variables\u001b[0m:\u001b[36m83\u001b[0m - \u001b[34m\u001b[1mActivation sizes: \n",
      "prune_scores: torch.Size([3375])\u001b[0m\n",
      "huggingface/tokenizers: The current process just got forked, after parallelism has already been used. Disabling parallelism to avoid deadlocks...\n",
      "To disable this warning, you can either:\n",
      "\t- Avoid using `tokenizers` before the fork if possible\n",
      "\t- Explicitly set the environment variable TOKENIZERS_PARALLELISM=(true | false)\n",
      "100%|██████████| 32/32 [00:58<00:00,  1.82s/it]\n"
     ]
    },
    {
     "name": "stdout",
     "output_type": "stream",
     "text": [
      "leaving auto_circuit train\n",
      "computing inv_covariances\n",
      "done computing inv cov\n"
     ]
    }
   ],
   "source": [
    "detector.set_model(task.model)\n",
    "detector.train(\n",
    "    trusted_data=task.trusted_data,\n",
    "    untrusted_data=task.untrusted_train_data,\n",
    "    save_path=None,\n",
    "    batch_size=64,\n",
    ")"
   ]
  },
  {
   "cell_type": "code",
   "execution_count": 10,
   "metadata": {},
   "outputs": [
    {
     "name": "stderr",
     "output_type": "stream",
     "text": [
      "\u001b[32m2024-07-12 23:48:19.910\u001b[0m | \u001b[1mINFO    \u001b[0m | \u001b[36mcupbearer.detectors.anomaly_detector\u001b[0m:\u001b[36mplot_scores\u001b[0m:\u001b[36m35\u001b[0m - \u001b[1mAUC_ROC (all): 0.6410\u001b[0m\n",
      "\u001b[32m2024-07-12 23:48:19.910\u001b[0m | \u001b[1mINFO    \u001b[0m | \u001b[36mcupbearer.detectors.anomaly_detector\u001b[0m:\u001b[36mplot_scores\u001b[0m:\u001b[36m36\u001b[0m - \u001b[1mAP (all): 0.5980\u001b[0m\n"
     ]
    },
    {
     "data": {
      "text/plain": [
       "(defaultdict(dict,\n",
       "             {'all': {'AUC_ROC': 0.6409530639648438,\n",
       "               'AP': 0.5979602126988229}}),\n",
       " {'all': <Figure size 640x480 with 1 Axes>})"
      ]
     },
     "execution_count": 10,
     "metadata": {},
     "output_type": "execute_result"
    },
    {
     "data": {
      "image/png": "[encoded data removed]",
      "text/plain": [
       "<Figure size 640x480 with 1 Axes>"
      ]
     },
     "metadata": {},
     "output_type": "display_data"
    }
   ],
   "source": [
    "scripts.eval_detector(\n",
    "    task, \n",
    "    detector, \n",
    "    save_path=None, \n",
    "    pbar=True,\n",
    "    batch_size=64,\n",
    ")"
   ]
  },
  {
   "cell_type": "markdown",
   "metadata": {},
   "source": [
    "TODO:ok, hopefully this is just b/c of the different metric (logit difference between answers and \"wrong\" answers, should just try sum logits and sum probs)"
   ]
  }
 ],
 "metadata": {
  "kernelspec": {
   "display_name": "elk-experiments-AZ2LBS3Q-py3.10",
   "language": "python",
   "name": "python3"
  },
  "language_info": {
   "codemirror_mode": {
    "name": "ipython",
    "version": 3
   },
   "file_extension": ".py",
   "mimetype": "text/x-python",
   "name": "python",
   "nbconvert_exporter": "python",
   "pygments_lexer": "ipython3",
   "version": "3.10.14"
  }
 },
 "nbformat": 4,
 "nbformat_minor": 2
}
