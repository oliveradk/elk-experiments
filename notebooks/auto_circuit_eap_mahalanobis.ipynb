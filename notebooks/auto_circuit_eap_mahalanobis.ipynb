{
 "cells": [
  {
   "cell_type": "code",
   "execution_count": 1,
   "metadata": {},
   "outputs": [],
   "source": [
    "import torch\n",
    "\n",
    "from auto_circuit.types import AblationType\n",
    "from cupbearer import tasks, scripts, utils\n",
    "from cupbearer.tasks.tiny_natural_mechanisms import get_effect_tokens \n",
    "\n",
    "from cupbearer.detectors.extractors.eap_extractor import EAPFeatureExtractor, inverse_tokens\n",
    "\n",
    "from elk_experiments.tiny_natural_mechanisms_utils import get_task_subset\n",
    "from elk_experiments.utils import set_model"
   ]
  },
  {
   "cell_type": "code",
   "execution_count": 2,
   "metadata": {},
   "outputs": [
    {
     "name": "stdout",
     "output_type": "stream",
     "text": [
      "Loaded pretrained model attn-only-1l into HookedTransformer\n",
      "Moving model to device:  cpu\n"
     ]
    },
    {
     "name": "stderr",
     "output_type": "stream",
     "text": [
      "Special tokens have been added in the vocabulary, make sure the associated word embeddings are fine-tuned or trained.\n"
     ]
    },
    {
     "name": "stdout",
     "output_type": "stream",
     "text": [
      "Loaded pretrained model pythia-70m into HookedTransformer\n",
      "Moving model to device:  cpu\n"
     ]
    }
   ],
   "source": [
    "task_name = \"ifelse\"\n",
    "model_name = \"pythia-70m\"\n",
    "device = \"cpu\"\n",
    "\n",
    "task = get_task_subset(tasks.tiny_natural_mechanisms(task_name, device, model_name), 2048, 1024, 1024)\n",
    "set_model(task.model)\n",
    "effect_tokens = torch.tensor(get_effect_tokens(task_name, task.model))\n",
    "other_tokens = inverse_tokens(effect_tokens, task.model.tokenizer.vocab_size)\n"
   ]
  },
  {
   "cell_type": "code",
   "execution_count": 3,
   "metadata": {},
   "outputs": [],
   "source": [
    "eap_feature_extractor = EAPFeatureExtractor(\n",
    "    effect_tokens=get_effect_tokens(task_name, task.model),\n",
    "    model=task.model,\n",
    "    grad_function=\"prob\",\n",
    "    answer_function=\"avg_val\",\n",
    "    ablation_type=AblationType.ZERO,\n",
    "    abs_value=True,\n",
    "    integrated_grad_samples=None,\n",
    "    resid_src=False,\n",
    "    resid_dest=False,\n",
    "    attn=True,\n",
    "    mlp=False\n",
    ")"
   ]
  },
  {
   "cell_type": "code",
   "execution_count": 4,
   "metadata": {},
   "outputs": [],
   "source": [
    "eap_feature_extractor.compute_patch_out(task.trusted_data, batch_size=32)"
   ]
  },
  {
   "cell_type": "code",
   "execution_count": 5,
   "metadata": {},
   "outputs": [],
   "source": [
    "# train detector\n",
    "from cupbearer.detectors.statistical import MahalanobisDetector\n",
    "detector = MahalanobisDetector(\n",
    "    feature_extractor=eap_feature_extractor\n",
    ")"
   ]
  },
  {
   "cell_type": "code",
   "execution_count": 6,
   "metadata": {},
   "outputs": [
    {
     "name": "stderr",
     "output_type": "stream",
     "text": [
      "\u001b[32m2024-07-18 21:23:54.720\u001b[0m | \u001b[34m\u001b[1mDEBUG   \u001b[0m | \u001b[36mcupbearer.detectors.statistical.statistical\u001b[0m:\u001b[36m_train\u001b[0m:\u001b[36m53\u001b[0m - \u001b[34m\u001b[1mCollecting statistics on trusted data\u001b[0m\n",
      "\u001b[32m2024-07-18 21:23:55.914\u001b[0m | \u001b[34m\u001b[1mDEBUG   \u001b[0m | \u001b[36mcupbearer.detectors.statistical.statistical\u001b[0m:\u001b[36minit_variables\u001b[0m:\u001b[36m95\u001b[0m - \u001b[34m\u001b[1mActivation sizes: \n",
      "eap_scores: torch.Size([2880])\u001b[0m\n",
      "  0%|          | 0/64 [00:00<?, ?it/s]huggingface/tokenizers: The current process just got forked, after parallelism has already been used. Disabling parallelism to avoid deadlocks...\n",
      "To disable this warning, you can either:\n",
      "\t- Avoid using `tokenizers` before the fork if possible\n",
      "\t- Explicitly set the environment variable TOKENIZERS_PARALLELISM=(true | false)\n",
      "100%|██████████| 64/64 [01:03<00:00,  1.01it/s]\n"
     ]
    },
    {
     "data": {
      "application/vnd.jupyter.widget-view+json": {
       "model_id": "3b8eeffd32f0492bbe8dcf4d569cad3a",
       "version_major": 2,
       "version_minor": 0
      },
      "text/plain": [
       "VBox(children=(Evaluating:   0%|          | 0/64 [00:00<?, ?it/s],))"
      ]
     },
     "metadata": {},
     "output_type": "display_data"
    },
    {
     "name": "stderr",
     "output_type": "stream",
     "text": [
      "\u001b[32m2024-07-18 21:26:06.781\u001b[0m | \u001b[1mINFO    \u001b[0m | \u001b[36mcupbearer.detectors.anomaly_detector\u001b[0m:\u001b[36mget_eval_results\u001b[0m:\u001b[36m343\u001b[0m - \u001b[1mAUC_ROC (all): 0.6744\u001b[0m\n",
      "\u001b[32m2024-07-18 21:26:06.782\u001b[0m | \u001b[1mINFO    \u001b[0m | \u001b[36mcupbearer.detectors.anomaly_detector\u001b[0m:\u001b[36mget_eval_results\u001b[0m:\u001b[36m344\u001b[0m - \u001b[1mAP (all): 0.6541\u001b[0m\n"
     ]
    },
    {
     "data": {
      "text/plain": [
       "(defaultdict(dict,\n",
       "             {'all': {'AUC_ROC': 0.6744060516357422,\n",
       "               'AP': 0.6540885437001855}}),\n",
       " {'all': <Figure size 640x480 with 1 Axes>})"
      ]
     },
     "execution_count": 6,
     "metadata": {},
     "output_type": "execute_result"
    },
    {
     "data": {
      "image/png": "[encoded data removed]",
      "text/plain": [
       "<Figure size 640x480 with 1 Axes>"
      ]
     },
     "metadata": {},
     "output_type": "display_data"
    }
   ],
   "source": [
    "bs = 32\n",
    "scripts.train_detector(\n",
    "    task, detector, save_path=None,eval_batch_size=bs\n",
    ")"
   ]
  },
  {
   "cell_type": "code",
   "execution_count": null,
   "metadata": {},
   "outputs": [],
   "source": [
    "# ok how do I properly filter edges? \n",
    "\n",
    "# so, prune scores are organized by dest modules, with dest heads and src nodes\n",
    "# so, I think it would make sense to pask masks over the dest modules\n",
    "# to get masks over the dest modules, basically just do the same thresholding thing as with the pruning\n",
    "# lets see "
   ]
  },
  {
   "cell_type": "code",
   "execution_count": 3,
   "metadata": {},
   "outputs": [
    {
     "name": "stderr",
     "output_type": "stream",
     "text": [
      "huggingface/tokenizers: The current process just got forked, after parallelism has already been used. Disabling parallelism to avoid deadlocks...\n",
      "To disable this warning, you can either:\n",
      "\t- Avoid using `tokenizers` before the fork if possible\n",
      "  0%|          | 0/64 [00:00<?, ?it/s]able TOKENIZERS_PARALLELISM=(true | false)\n",
      "100%|██████████| 64/64 [00:48<00:00,  1.33it/s]\n"
     ]
    }
   ],
   "source": [
    "from tqdm import tqdm\n",
    "from collections import defaultdict\n",
    "import numpy as np\n",
    "from torch.utils.data import DataLoader\n",
    "from kneed import DataGenerator, KneeLocator\n",
    "from elk_experiments.utils import set_model\n",
    "from auto_circuit.utils.graph_utils import patchable_model, set_mask_batch_size, train_mask_mode\n",
    "from cupbearer import utils\n",
    "from cupbearer.detectors.extractors.eap_extractor import src_ablations, mask_gradient_batch_prune_scores, expand_patch_src_out\n",
    "model = task.model \n",
    "resid_src = False \n",
    "resid_dest = False\n",
    "attn = True\n",
    "mlp = False\n",
    "\n",
    "ac_model = patchable_model(\n",
    "    model, \n",
    "    factorized=True, \n",
    "    slice_output=\"last_seq\",\n",
    "    separate_qkv=True, \n",
    "    resid_src=False,\n",
    "    resid_dest=resid_dest,\n",
    "    attn_src=attn,\n",
    "    attn_dest=attn,\n",
    "    mlp_src=mlp,\n",
    "    mlp_dest=mlp,\n",
    "    device=device,\n",
    "    \n",
    ")\n",
    "# collect all the prune scores \n",
    "    # collect src patch outs \n",
    "patch_src_out = src_ablations(\n",
    "    ac_model, \n",
    "    sample=task.trusted_data[0][0],\n",
    "    ablation_type=AblationType.ZERO,\n",
    "    device=device\n",
    ")\n",
    "\n",
    "batch_size = 32\n",
    "train_loader = DataLoader(\n",
    "    task.trusted_data,\n",
    "    batch_size=batch_size, \n",
    "    collate_fn=utils.collate_inputs\n",
    ")\n",
    "\n",
    "# get prune scores on batches\n",
    "with set_mask_batch_size(ac_model, batch_size), train_mask_mode(ac_model):\n",
    "    prune_scores: dict[str, list[torch.Tensor]] = defaultdict(list)\n",
    "    for batch in tqdm(train_loader):\n",
    "        scores_batch = mask_gradient_batch_prune_scores(\n",
    "            ac_model, \n",
    "            batch, \n",
    "            patch_src_out=expand_patch_src_out(patch_src_out, batch_size),\n",
    "            grad_function=\"prob\", \n",
    "            answer_function=\"avg_val\",\n",
    "            effect_tokens=effect_tokens,\n",
    "            other_tokens=other_tokens,\n",
    "        )\n",
    "        for dest_module, scores in scores_batch.items():\n",
    "            prune_scores[dest_module].append(scores)"
   ]
  },
  {
   "cell_type": "code",
   "execution_count": 4,
   "metadata": {},
   "outputs": [],
   "source": [
    "# aggregate \n",
    "prune_scores_all = {\n",
    "    dest_module: torch.cat(scores, dim=0)\n",
    "    for dest_module, scores in prune_scores.items()\n",
    "}\n",
    "\n",
    "prune_scores_mean = {\n",
    "    dest_module: scores.mean(dim=0)\n",
    "    for dest_module, scores in prune_scores_all.items()\n",
    "}\n",
    "\n",
    "# flatten, sort, find the knee \n",
    "prune_scores_flat = torch.cat([scores.flatten() for scores in prune_scores_mean.values()])\n",
    "prune_scores_abs = torch.abs(prune_scores_flat)\n",
    "prune_scores_sorted, _ = torch.sort(prune_scores_abs, descending=True)\n"
   ]
  },
  {
   "cell_type": "code",
   "execution_count": 61,
   "metadata": {},
   "outputs": [],
   "source": [
    "# use kneedle to find threshold\n",
    "kneedle = KneeLocator(\n",
    "    np.arange(len(prune_scores_sorted)), \n",
    "    prune_scores_sorted.numpy(), \n",
    "    S=1.0, \n",
    "    curve=\"convex\", \n",
    "    direction=\"decreasing\",\n",
    "    interp_method=\"polynomial\"\n",
    ")\n",
    "\n",
    "threshold = prune_scores_sorted[kneedle.knee]"
   ]
  },
  {
   "cell_type": "code",
   "execution_count": 62,
   "metadata": {},
   "outputs": [
    {
     "data": {
      "text/plain": [
       "<matplotlib.lines.Line2D at 0x2a69ce590>"
      ]
     },
     "execution_count": 62,
     "metadata": {},
     "output_type": "execute_result"
    },
    {
     "data": {
      "image/png": "[encoded data removed]",
      "text/plain": [
       "<Figure size 640x480 with 1 Axes>"
      ]
     },
     "metadata": {},
     "output_type": "display_data"
    }
   ],
   "source": [
    "# plot \n",
    "import matplotlib.pyplot as plt\n",
    "plt.plot(prune_scores_sorted.cpu().numpy())\n",
    "plt.axvline(kneedle.knee, color=\"red\")"
   ]
  },
  {
   "cell_type": "code",
   "execution_count": 63,
   "metadata": {},
   "outputs": [
    {
     "data": {
      "text/plain": [
       "(tensor([[ 1,  6],\n",
       "         [13, 18]]),\n",
       " torch.Size([2, 3, 4]))"
      ]
     },
     "execution_count": 63,
     "metadata": {},
     "output_type": "execute_result"
    }
   ],
   "source": [
    "x = torch.arange(24).reshape(2, 3, 4)\n",
    "mask = torch.zeros((3,4))\n",
    "mask[0, 1] = 1\n",
    "mask[1, 2] = 1\n",
    "x[:, mask.bool()], (x * mask.unsqueeze(0)).shape"
   ]
  },
  {
   "cell_type": "code",
   "execution_count": 64,
   "metadata": {},
   "outputs": [],
   "source": [
    "# set x to 0 if less then 5 \n",
    "mask = prune_scores_flat.abs() > threshold\n"
   ]
  },
  {
   "cell_type": "code",
   "execution_count": 65,
   "metadata": {},
   "outputs": [],
   "source": [
    "# use threshold to generate mask dict \n",
    "mask_dict = {\n",
    "    dest_module: (torch.abs(scores) > threshold)\n",
    "    for dest_module, scores in prune_scores_mean.items()\n",
    "}\n"
   ]
  },
  {
   "cell_type": "code",
   "execution_count": 66,
   "metadata": {},
   "outputs": [
    {
     "data": {
      "text/plain": [
       "tensor(52)"
      ]
     },
     "execution_count": 66,
     "metadata": {},
     "output_type": "execute_result"
    }
   ],
   "source": [
    "total_edges = sum([mask.sum() for mask in mask_dict.values()])\n",
    "total_edges"
   ]
  },
  {
   "cell_type": "code",
   "execution_count": 67,
   "metadata": {},
   "outputs": [],
   "source": [
    "# apply the mask dict to the prune scores\n",
    "eap_feature_extractor = EAPFeatureExtractor(\n",
    "    effect_tokens=get_effect_tokens(task_name, task.model),\n",
    "    model=task.model,\n",
    "    grad_function=\"prob\",\n",
    "    answer_function=\"avg_val\",\n",
    "    ablation_type=AblationType.ZERO,\n",
    "    abs_value=True,\n",
    "    score_mask=None, #mask_dict,\n",
    "    threshold=threshold,\n",
    "    integrated_grad_samples=None,\n",
    "    resid_src=False,\n",
    "    resid_dest=False,\n",
    "    attn=True,\n",
    "    mlp=False\n",
    ")"
   ]
  },
  {
   "cell_type": "code",
   "execution_count": 68,
   "metadata": {},
   "outputs": [],
   "source": [
    "eap_feature_extractor.compute_patch_out(task.trusted_data, batch_size=32)"
   ]
  },
  {
   "cell_type": "code",
   "execution_count": 69,
   "metadata": {},
   "outputs": [],
   "source": [
    "# train detector\n",
    "from cupbearer.detectors.statistical import MahalanobisDetector\n",
    "detector = MahalanobisDetector(\n",
    "    feature_extractor=eap_feature_extractor\n",
    ")"
   ]
  },
  {
   "cell_type": "code",
   "execution_count": 70,
   "metadata": {},
   "outputs": [
    {
     "name": "stderr",
     "output_type": "stream",
     "text": [
      "\u001b[32m2024-07-19 18:04:17.778\u001b[0m | \u001b[34m\u001b[1mDEBUG   \u001b[0m | \u001b[36mcupbearer.detectors.statistical.statistical\u001b[0m:\u001b[36m_train\u001b[0m:\u001b[36m53\u001b[0m - \u001b[34m\u001b[1mCollecting statistics on trusted data\u001b[0m\n",
      "\u001b[32m2024-07-19 18:04:18.711\u001b[0m | \u001b[34m\u001b[1mDEBUG   \u001b[0m | \u001b[36mcupbearer.detectors.statistical.statistical\u001b[0m:\u001b[36minit_variables\u001b[0m:\u001b[36m95\u001b[0m - \u001b[34m\u001b[1mActivation sizes: \n",
      "eap_scores: torch.Size([2880])\u001b[0m\n",
      "100%|██████████| 64/64 [00:57<00:00,  1.12it/s]\n"
     ]
    },
    {
     "data": {
      "application/vnd.jupyter.widget-view+json": {
       "model_id": "840e3ee3ea244edbac764970d5d69a50",
       "version_major": 2,
       "version_minor": 0
      },
      "text/plain": [
       "VBox(children=(Evaluating:   0%|          | 0/64 [00:00<?, ?it/s],))"
      ]
     },
     "metadata": {},
     "output_type": "display_data"
    },
    {
     "name": "stderr",
     "output_type": "stream",
     "text": [
      "\u001b[32m2024-07-19 18:06:18.200\u001b[0m | \u001b[1mINFO    \u001b[0m | \u001b[36mcupbearer.detectors.anomaly_detector\u001b[0m:\u001b[36mget_eval_results\u001b[0m:\u001b[36m343\u001b[0m - \u001b[1mAUC_ROC (all): 0.6636\u001b[0m\n",
      "\u001b[32m2024-07-19 18:06:18.200\u001b[0m | \u001b[1mINFO    \u001b[0m | \u001b[36mcupbearer.detectors.anomaly_detector\u001b[0m:\u001b[36mget_eval_results\u001b[0m:\u001b[36m344\u001b[0m - \u001b[1mAP (all): 0.6463\u001b[0m\n"
     ]
    },
    {
     "data": {
      "text/plain": [
       "(defaultdict(dict,\n",
       "             {'all': {'AUC_ROC': 0.6635637283325195,\n",
       "               'AP': 0.6462960302399883}}),\n",
       " {'all': <Figure size 640x480 with 1 Axes>})"
      ]
     },
     "execution_count": 70,
     "metadata": {},
     "output_type": "execute_result"
    },
    {
     "data": {
      "image/png": "[encoded data removed]",
      "text/plain": [
       "<Figure size 640x480 with 1 Axes>"
      ]
     },
     "metadata": {},
     "output_type": "display_data"
    }
   ],
   "source": [
    "bs = 32\n",
    "scripts.train_detector(\n",
    "    task, detector, save_path=None,eval_batch_size=bs\n",
    ")"
   ]
  },
  {
   "cell_type": "code",
   "execution_count": 52,
   "metadata": {},
   "outputs": [
    {
     "data": {
      "text/plain": [
       "torch.Size([2880])"
      ]
     },
     "execution_count": 52,
     "metadata": {},
     "output_type": "execute_result"
    }
   ],
   "source": [
    "detector._means[\"trusted\"][\"eap_scores\"].shape"
   ]
  }
 ],
 "metadata": {
  "kernelspec": {
   "display_name": "elk-experiments-AZ2LBS3Q-py3.10",
   "language": "python",
   "name": "python3"
  },
  "language_info": {
   "codemirror_mode": {
    "name": "ipython",
    "version": 3
   },
   "file_extension": ".py",
   "mimetype": "text/x-python",
   "name": "python",
   "nbconvert_exporter": "python",
   "pygments_lexer": "ipython3",
   "version": "3.10.14"
  }
 },
 "nbformat": 4,
 "nbformat_minor": 2
}
