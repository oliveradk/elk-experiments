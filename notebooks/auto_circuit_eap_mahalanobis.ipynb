{
 "cells": [
  {
   "cell_type": "code",
   "execution_count": 1,
   "metadata": {},
   "outputs": [],
   "source": [
    "import torch\n",
    "\n",
    "from cupbearer import tasks, scripts, utils\n",
    "from cupbearer.tasks.tiny_natural_mechanisms import get_effect_tokens\n",
    "from cupbearer.detectors.statistical import MahalanobisDetector\n",
    "from elk_experiments.auto_circuit_detector import AutoCircuitGradScoresDetector, AutoCircuitPruningDetector\n",
    "from elk_experiments.tiny_natural_mechanisms_utils import get_task_subset\n",
    "from elk_experiments.utils import repo_path_to_abs_path\n",
    "from auto_circuit.types import AblationType"
   ]
  },
  {
   "cell_type": "code",
   "execution_count": null,
   "metadata": {},
   "outputs": [],
   "source": [
    "class AutoCircuitGradScoresMahalanobis(AutoCircuitGradScoresDetector, MahalanobisDetector):\n",
    "\n",
    "    def train(self, **kwargs):\n",
    "        super().train(**kwargs)\n",
    "        # Post process\n",
    "        with torch.inference_mode():\n",
    "            self.means = self._means\n",
    "            self.covariances = {k: C / (self._ns[k] - 1) for k, C in self._Cs.items()}\n",
    "            if any(torch.count_nonzero(C) == 0 for C in self.covariances.values()):\n",
    "                raise RuntimeError(\"All zero covariance matrix detected.\")\n",
    "\n",
    "            self.post_covariance_training(**kwargs)"
   ]
  },
  {
   "cell_type": "code",
   "execution_count": null,
   "metadata": {},
   "outputs": [],
   "source": [
    "model_name = \"pythia-70m\"\n",
    "device=\"cpu\"\n",
    "task_name=\"ifelse\""
   ]
  },
  {
   "cell_type": "code",
   "execution_count": null,
   "metadata": {},
   "outputs": [],
   "source": [
    "task = get_task_subset(tasks.tiny_natural_mechanisms(task_name, device, model_name), 64, 32, 32)"
   ]
  },
  {
   "cell_type": "code",
   "execution_count": null,
   "metadata": {},
   "outputs": [],
   "source": [
    "detector_path = repo_path_to_abs_path(\"output\") / f\"auto-circuit_mahalanobis_{model_name}_{task_name}_detector\"\n",
    "\n",
    "detector = AutoCircuitGradScoresMahalanobis(\n",
    "    effect_tokens = get_effect_tokens(task_name, task.model), \n",
    "    ablation_type=AblationType.ZERO,\n",
    "    resid_src=False, \n",
    "    resid_dest=False,\n",
    "    mlp_src=False,\n",
    "    mlp_dest=False,\n",
    "    device=device, \n",
    ")"
   ]
  },
  {
   "cell_type": "code",
   "execution_count": null,
   "metadata": {},
   "outputs": [],
   "source": [
    "detector.set_model(task.model)\n",
    "detector.train(\n",
    "    trusted_data=task.trusted_data,\n",
    "    untrusted_data=task.untrusted_train_data,\n",
    "    save_path=None,\n",
    "    batch_size=32,\n",
    ")"
   ]
  },
  {
   "cell_type": "code",
   "execution_count": null,
   "metadata": {},
   "outputs": [],
   "source": [
    "scripts.eval_detector(\n",
    "    task, \n",
    "    detector, \n",
    "    save_path=None, \n",
    "    pbar=True,\n",
    "    batch_size=2,\n",
    ")"
   ]
  },
  {
   "cell_type": "code",
   "execution_count": null,
   "metadata": {},
   "outputs": [],
   "source": []
  }
 ],
 "metadata": {
  "kernelspec": {
   "display_name": "elk-experiments-AZ2LBS3Q-py3.10",
   "language": "python",
   "name": "python3"
  },
  "language_info": {
   "codemirror_mode": {
    "name": "ipython",
    "version": 3
   },
   "file_extension": ".py",
   "mimetype": "text/x-python",
   "name": "python",
   "nbconvert_exporter": "python",
   "pygments_lexer": "ipython3",
   "version": "3.10.14"
  }
 },
 "nbformat": 4,
 "nbformat_minor": 2
}
