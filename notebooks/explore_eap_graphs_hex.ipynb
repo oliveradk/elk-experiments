{
 "cells": [
  {
   "cell_type": "code",
   "execution_count": 1,
   "metadata": {},
   "outputs": [],
   "source": [
    "import os\n",
    "from pathlib import Path\n",
    "from IPython.display import Image, display\n",
    "os.chdir(\"/Users/oliverdaniels-koch/projects/elk-experiments\")\n",
    "out_dir = Path(\"output\")\n",
    "device = \"cpu\""
   ]
  },
  {
   "cell_type": "markdown",
   "metadata": {},
   "source": [
    "# Explore EAP Graphs on Hex\n",
    "\n",
    "I'm curious if we see notable differences when running (aggregated) edge attribution patching \n",
    "on the trusted and untrusted data of the hex task\n",
    "\n",
    "I suspect there's a lot of in-distribution variation, but maybe we'll see two distinct circuits?\n",
    "\n",
    "I also want to create a detector using k-means clustering?\n",
    "\n",
    "I guess there's just a bunch of ways to learn a latent space of the adjacency / score matrix\n",
    "\n",
    "Seems like there should be something smarter "
   ]
  },
  {
   "cell_type": "code",
   "execution_count": 2,
   "metadata": {},
   "outputs": [],
   "source": [
    "from functools import partial\n",
    "\n",
    "\n",
    "import torch \n",
    "import numpy as np\n",
    "\n",
    "from cupbearer import tasks, detectors, scripts, utils\n",
    "from cupbearer.detectors import ActivationCache\n",
    "from cupbearer.detectors.statistical import MahalanobisDetector\n",
    "from cupbearer.tasks.tiny_natural_mechanisms import get_effect_tokens\n",
    "from elk_experiments.utils import train_detector_cache, learn_graph_cache, get_activation_at_last_token\n",
    "from elk_experiments.tiny_natural_mechanisms_utils import get_task_subset\n",
    "from elk_experiments.eap_detector import EAPDetector, layer_edge_filter, effect_prob_func, set_model\n"
   ]
  },
  {
   "cell_type": "code",
   "execution_count": 3,
   "metadata": {},
   "outputs": [],
   "source": [
    "task_name = \"ifelse\"\n",
    "model_name = \"pythia-70m\"\n",
    "nodes = [\"head\", \"mlp\"]"
   ]
  },
  {
   "cell_type": "code",
   "execution_count": 4,
   "metadata": {},
   "outputs": [],
   "source": [
    "graph_dir = out_dir / f\"subset_graphs_{task_name}_{model_name}_{'_'.join(nodes)}\"\n",
    "graph_dir.mkdir(exist_ok=True)"
   ]
  },
  {
   "cell_type": "code",
   "execution_count": 5,
   "metadata": {},
   "outputs": [
    {
     "name": "stdout",
     "output_type": "stream",
     "text": [
      "Loaded pretrained model attn-only-1l into HookedTransformer\n",
      "Moving model to device:  cpu\n"
     ]
    },
    {
     "name": "stderr",
     "output_type": "stream",
     "text": [
      "Special tokens have been added in the vocabulary, make sure the associated word embeddings are fine-tuned or trained.\n"
     ]
    },
    {
     "name": "stdout",
     "output_type": "stream",
     "text": [
      "Loaded pretrained model pythia-70m into HookedTransformer\n",
      "Moving model to device:  cpu\n"
     ]
    }
   ],
   "source": [
    "task = tasks.tiny_natural_mechanisms(task_name, device, model_name)\n"
   ]
  },
  {
   "cell_type": "code",
   "execution_count": 6,
   "metadata": {},
   "outputs": [],
   "source": [
    "def effect_prob_func(logits, effect_tokens, output=None, inputs=None):\n",
    "    assert logits.ndim == 3\n",
    "    # Sum over vocab and batch dim (for now we're just computing attribution values, we'll deal with per data instance later)\n",
    "    probs = logits[:, -1, :].softmax(dim=-1)\n",
    "    out = probs[:, effect_tokens].mean() # mean over effect tokens, mean over batch\n",
    "    # out = logits[:, -1, effect_tokens].mean()\n",
    "    return out"
   ]
  },
  {
   "cell_type": "code",
   "execution_count": 7,
   "metadata": {},
   "outputs": [],
   "source": [
    "task.model.set_use_hook_mlp_in(True)\n",
    "task.model.set_use_split_qkv_input(True)\n",
    "task.model.set_use_attn_result(True)"
   ]
  },
  {
   "cell_type": "code",
   "execution_count": 8,
   "metadata": {},
   "outputs": [],
   "source": [
    "small_task = get_task_subset(task, 2048, 1048, 1024)"
   ]
  },
  {
   "cell_type": "code",
   "execution_count": 10,
   "metadata": {},
   "outputs": [],
   "source": [
    "effect_tokens = task.model.tokenizer.encode(\" else\")[1:]"
   ]
  },
  {
   "cell_type": "code",
   "execution_count": 12,
   "metadata": {},
   "outputs": [],
   "source": [
    "trusted_tokens = torch.stack([torch.tensor(data[\"prefix_tokens\"]) for data in small_task.trusted_data.data])\n",
    "untrusted_clean_tokens = torch.stack([torch.tensor(data[\"prefix_tokens\"]) for data in small_task.test_data.normal_data.data])\n",
    "anomalous_tokens = torch.stack([torch.tensor(data[\"prefix_tokens\"]) for data in small_task.test_data.anomalous_data.data])"
   ]
  },
  {
   "cell_type": "code",
   "execution_count": 13,
   "metadata": {},
   "outputs": [],
   "source": [
    "if task_name == \"ifelse\":\n",
    "    threshold = 2e-6\n",
    "elif task_name == \"hex\":\n",
    "    threshold = 1e-7\n",
    "else: \n",
    "    raise ValueError(\"task not recognized\")"
   ]
  },
  {
   "cell_type": "markdown",
   "metadata": {},
   "source": [
    "## Trusted Data Graph"
   ]
  },
  {
   "cell_type": "code",
   "execution_count": 14,
   "metadata": {},
   "outputs": [
    {
     "data": {
      "text/plain": [
       "PosixPath('output/subset_graphs_ifelse_pythia-70m_head_mlp')"
      ]
     },
     "execution_count": 14,
     "metadata": {},
     "output_type": "execute_result"
    }
   ],
   "source": [
    "graph_dir"
   ]
  },
  {
   "cell_type": "code",
   "execution_count": 12,
   "metadata": {},
   "outputs": [
    {
     "name": "stdout",
     "output_type": "stream",
     "text": [
      "Saving activations requires 0.0001 GB of memory per token\n"
     ]
    }
   ],
   "source": [
    "graph_dir = out_dir / f\"subset_graphs_{task_name}_{model_name}\"\n",
    "clean_graph_path = graph_dir / \"clean_graph.pt\"\n",
    "task.model.reset_hooks()\n",
    "\n",
    "clean_graph = learn_graph_cache(\n",
    "    model=task.model,\n",
    "    tokens=trusted_tokens,\n",
    "    metric=partial(effect_prob_func, effect_tokens=effect_tokens),\n",
    "    upstream_nodes=[\"head\"],\n",
    "    downstream_nodes=[\"head\"],\n",
    "    batch_size=128,\n",
    "    cache_path=clean_graph_path,\n",
    "    verbose=True\n",
    ")"
   ]
  },
  {
   "cell_type": "code",
   "execution_count": 13,
   "metadata": {},
   "outputs": [
    {
     "data": {
      "text/plain": [
       "[('head.0.3', 'head.1.1.v', 5.559661985898856e-06),\n",
       " ('head.0.6', 'head.3.3.v', 5.269548637443222e-06),\n",
       " ('head.0.3', 'head.1.3.v', 5.163328751223162e-06),\n",
       " ('head.0.3', 'head.1.4.v', 3.380461976121296e-06),\n",
       " ('head.0.0', 'head.1.6.v', 2.9738814646407263e-06),\n",
       " ('head.0.6', 'head.1.0.v', 2.856041874110815e-06),\n",
       " ('head.0.0', 'head.3.7.v', 2.6508582777751144e-06),\n",
       " ('head.0.3', 'head.2.0.v', 2.5859685592877213e-06),\n",
       " ('head.0.0', 'head.2.6.v', 2.431959956084029e-06),\n",
       " ('head.0.6', 'head.2.2.v', 2.379960733378539e-06),\n",
       " ('head.0.1', 'head.2.5.v', 2.368967898291885e-06),\n",
       " ('head.0.5', 'head.1.0.v', 2.3241032067744527e-06),\n",
       " ('head.2.0', 'head.3.7.v', 2.320241492270725e-06),\n",
       " ('head.0.3', 'head.1.2.v', 1.991269755308167e-06),\n",
       " ('head.0.0', 'head.2.5.v', 1.9279777916381136e-06),\n",
       " ('head.2.2', 'head.3.2.v', 1.8308096514374483e-06),\n",
       " ('head.0.1', 'head.3.4.v', 1.7554780242790002e-06),\n",
       " ('head.0.0', 'head.1.6.q', 1.7022356360030244e-06),\n",
       " ('head.0.6', 'head.3.1.v', 1.6879980648809578e-06),\n",
       " ('head.0.3', 'head.3.1.v', 1.6774091591287288e-06)]"
      ]
     },
     "execution_count": 13,
     "metadata": {},
     "output_type": "execute_result"
    }
   ],
   "source": [
    "clean_graph.top_edges(n=20, abs_scores=False)"
   ]
  },
  {
   "cell_type": "code",
   "execution_count": 15,
   "metadata": {},
   "outputs": [
    {
     "name": "stderr",
     "output_type": "stream",
     "text": [
      "huggingface/tokenizers: The current process just got forked, after parallelism has already been used. Disabling parallelism to avoid deadlocks...\n",
      "To disable this warning, you can either:\n",
      "\t- Avoid using `tokenizers` before the fork if possible\n",
      "\t- Explicitly set the environment variable TOKENIZERS_PARALLELISM=(true | false)\n"
     ]
    },
    {
     "name": "stdout",
     "output_type": "stream",
     "text": [
      "Saving activations requires 0.0001 GB of memory per token\n"
     ]
    },
    {
     "name": "stderr",
     "output_type": "stream",
     "text": [
      "100%|██████████| 16/16 [00:46<00:00,  2.88s/it]\n"
     ]
    }
   ],
   "source": [
    "graph_dir = out_dir / f\"subset_graphs_{task_name}_{model_name}_{'_'.join(nodes)}\"\n",
    "clean_graph_path = graph_dir / \"clean_graph_16_cpu.pt\"\n",
    "task.model.reset_hooks()\n",
    "\n",
    "clean_graph = learn_graph_cache(\n",
    "    model=task.model,\n",
    "    tokens=trusted_tokens,\n",
    "    metric=partial(effect_prob_func, effect_tokens=effect_tokens),\n",
    "    upstream_nodes=[\"head\"],\n",
    "    downstream_nodes=[\"head\"],\n",
    "    batch_size=128,\n",
    "    cache_path=clean_graph_path,\n",
    "    verbose=True\n",
    ")"
   ]
  },
  {
   "cell_type": "code",
   "execution_count": 16,
   "metadata": {},
   "outputs": [
    {
     "data": {
      "text/plain": [
       "[('head.2.1', 'head.4.2.k', 0.00020726429647766054),\n",
       " ('head.0.7', 'head.1.3.v', 0.00020685970957856625),\n",
       " ('head.0.3', 'head.1.0.v', 0.0001653019862715155),\n",
       " ('head.0.6', 'head.1.0.v', 0.00015572807751595974),\n",
       " ('head.0.3', 'head.1.4.v', 0.00015254637401085347),\n",
       " ('head.0.5', 'head.1.4.v', 0.00014599543646909297),\n",
       " ('head.0.4', 'head.1.3.v', 0.0001414381549693644),\n",
       " ('head.0.3', 'head.1.3.v', 0.00013786180352326483),\n",
       " ('head.0.6', 'head.1.1.v', 0.0001330200320808217),\n",
       " ('head.0.0', 'head.1.7.v', 0.00013047936954535544),\n",
       " ('head.0.1', 'head.1.6.v', 0.00012605820666067302),\n",
       " ('head.0.1', 'head.2.5.v', 0.00011023734987247735),\n",
       " ('head.0.3', 'head.2.7.v', 0.00010331512021366507),\n",
       " ('head.0.3', 'head.1.2.v', 0.0001024979428621009),\n",
       " ('head.0.5', 'head.1.3.v', 0.00010240987467113882),\n",
       " ('head.0.2', 'head.2.0.v', 9.829323244048283e-05),\n",
       " ('head.0.5', 'head.3.7.v', 9.814705117605627e-05),\n",
       " ('head.0.0', 'head.1.6.v', 9.694180334918201e-05),\n",
       " ('head.3.2', 'head.4.2.q', 9.291953028878197e-05),\n",
       " ('head.0.7', 'head.1.0.v', 9.142916678683832e-05)]"
      ]
     },
     "execution_count": 16,
     "metadata": {},
     "output_type": "execute_result"
    }
   ],
   "source": [
    "clean_graph.top_edges(n=20, abs_scores=False)"
   ]
  },
  {
   "cell_type": "code",
   "execution_count": null,
   "metadata": {},
   "outputs": [],
   "source": [
    "fname = \"clean_graph.png\"\n",
    "clean_graph.show(threshold=threshold, abs_scores=False, fdir=graph_dir, fname=fname)\n",
    "display(Image(graph_dir / fname))"
   ]
  },
  {
   "cell_type": "code",
   "execution_count": null,
   "metadata": {},
   "outputs": [],
   "source": [
    "clean_edges = clean_graph.top_edges(threshold=threshold, abs_scores=False)\n",
    "len(clean_edges)"
   ]
  },
  {
   "cell_type": "markdown",
   "metadata": {},
   "source": [
    "## Anomalous Data Graph"
   ]
  },
  {
   "cell_type": "code",
   "execution_count": null,
   "metadata": {},
   "outputs": [],
   "source": [
    "anomalous_graph_path = graph_dir / \"anomalous_graph.pt\"\n",
    "\n",
    "task.model.reset_hooks()\n",
    "\n",
    "anomalous_graph = learn_graph_cache(\n",
    "    model=task.model,\n",
    "    tokens=anomalous_tokens,\n",
    "    metric=partial(effect_prob_func, effect_tokens=effect_tokens),\n",
    "    upstream_nodes=[\"head\"],\n",
    "    downstream_nodes=[\"head\"],\n",
    "    batch_size=128,\n",
    "    cache_path=anomalous_graph_path,\n",
    "    verbose=True\n",
    ")"
   ]
  },
  {
   "cell_type": "code",
   "execution_count": null,
   "metadata": {},
   "outputs": [],
   "source": [
    "fname = \"anom_graph.png\"\n",
    "anomalous_graph.show(threshold=threshold, abs_scores=False, fdir=graph_dir, fname=fname)\n",
    "display(Image(graph_dir / fname))"
   ]
  },
  {
   "cell_type": "code",
   "execution_count": null,
   "metadata": {},
   "outputs": [],
   "source": [
    "anomalous_edges = anomalous_graph.top_edges(threshold=threshold, abs_scores=False)\n",
    "len(anomalous_edges)"
   ]
  },
  {
   "cell_type": "markdown",
   "metadata": {},
   "source": [
    "## Untrusted Clean Data Graph"
   ]
  },
  {
   "cell_type": "code",
   "execution_count": null,
   "metadata": {},
   "outputs": [],
   "source": [
    "task.model.reset_hooks()\n",
    "\n",
    "untrusted_clean_path = graph_dir / \"untrusted_clean_graph.pt\"\n",
    "\n",
    "untrusted_clean_graph = learn_graph_cache(\n",
    "    model=task.model,\n",
    "    tokens=untrusted_clean_tokens,\n",
    "    metric=partial(effect_prob_func, effect_tokens=effect_tokens),\n",
    "    upstream_nodes=[\"head\"],\n",
    "    downstream_nodes=[\"head\"],\n",
    "    batch_size=128,\n",
    "    cache_path=untrusted_clean_path,\n",
    "    verbose=True\n",
    ")"
   ]
  },
  {
   "cell_type": "code",
   "execution_count": null,
   "metadata": {},
   "outputs": [],
   "source": [
    "untrusted_clean_graph.top_edges(threshold=2e-6, abs_scores=False)"
   ]
  },
  {
   "cell_type": "code",
   "execution_count": null,
   "metadata": {},
   "outputs": [],
   "source": [
    "fname = \"untrusted_clean_graph.png\"\n",
    "untrusted_clean_graph.show(threshold=2e-6, abs_scores=False, fdir=graph_dir, fname=fname)\n",
    "display(Image(graph_dir / fname))"
   ]
  },
  {
   "cell_type": "code",
   "execution_count": null,
   "metadata": {},
   "outputs": [],
   "source": [
    "untrusted_clean_edges = untrusted_clean_graph.top_edges(threshold=threshold, abs_scores=False)\n",
    "len(untrusted_clean_edges)"
   ]
  },
  {
   "cell_type": "markdown",
   "metadata": {},
   "source": [
    "## Combined Graph"
   ]
  },
  {
   "cell_type": "code",
   "execution_count": null,
   "metadata": {},
   "outputs": [],
   "source": [
    "all_tokens = torch.cat([trusted_tokens, anomalous_tokens, untrusted_clean_tokens])"
   ]
  },
  {
   "cell_type": "code",
   "execution_count": null,
   "metadata": {},
   "outputs": [],
   "source": [
    "full_graph_path = graph_dir / \"full_graph.pt\"\n",
    "\n",
    "task.model.reset_hooks()\n",
    "\n",
    "full_graph = learn_graph_cache(\n",
    "    task.model,\n",
    "    all_tokens,\n",
    "    partial(effect_prob_func, effect_tokens=effect_tokens),\n",
    "    upstream_nodes=nodes,\n",
    "    downstream_nodes=nodes,\n",
    "    batch_size=128,\n",
    "    cache_path=full_graph_path,\n",
    "    verbose=True\n",
    ")"
   ]
  },
  {
   "cell_type": "code",
   "execution_count": null,
   "metadata": {},
   "outputs": [],
   "source": [
    "fname = \"full_graph.png\"\n",
    "full_graph.show(threshold=threshold, abs_scores=True, fname=fname, fdir=graph_dir)\n",
    "display(Image(graph_dir / fname))"
   ]
  },
  {
   "cell_type": "code",
   "execution_count": null,
   "metadata": {},
   "outputs": [],
   "source": [
    "full_edges = full_graph.top_edges(threshold=threshold, abs_scores=True)\n",
    "len(full_edges)"
   ]
  },
  {
   "cell_type": "markdown",
   "metadata": {},
   "source": [
    "##  Untrusted Combined"
   ]
  },
  {
   "cell_type": "code",
   "execution_count": null,
   "metadata": {},
   "outputs": [],
   "source": [
    "untrusted_tokens = torch.cat([anomalous_tokens, untrusted_clean_tokens])"
   ]
  },
  {
   "cell_type": "code",
   "execution_count": null,
   "metadata": {},
   "outputs": [],
   "source": [
    "untrusted_path = graph_dir / \"untrusted_graph.pt\"\n",
    "\n",
    "task.model.reset_hooks()\n",
    "\n",
    "untrusted_graph = learn_graph_cache(\n",
    "    task.model,\n",
    "    untrusted_tokens,\n",
    "    partial(effect_prob_func, effect_tokens=effect_tokens),\n",
    "    upstream_nodes=[\"head\"],\n",
    "    downstream_nodes=[\"head\"],\n",
    "    batch_size=128,\n",
    "    cache_path=untrusted_path,\n",
    "    verbose=True\n",
    ")"
   ]
  },
  {
   "cell_type": "code",
   "execution_count": null,
   "metadata": {},
   "outputs": [],
   "source": [
    "fname = \"untrusted_graph.png\"\n",
    "untrusted_graph.show(threshold=threshold, abs_scores=False, fname=fname, fdir=graph_dir)\n",
    "display(Image(graph_dir / fname))"
   ]
  },
  {
   "cell_type": "code",
   "execution_count": null,
   "metadata": {},
   "outputs": [],
   "source": [
    "untrusted_edges = untrusted_graph.top_edges(threshold=threshold, abs_scores=False)\n",
    "len(untrusted_edges)"
   ]
  },
  {
   "cell_type": "markdown",
   "metadata": {},
   "source": [
    "# Detectors Using EAP Graphs"
   ]
  },
  {
   "cell_type": "code",
   "execution_count": 14,
   "metadata": {},
   "outputs": [],
   "source": [
    "from elk_experiments.utils import train_detector_cache\n",
    "from elk_experiments.eap_detector import EAPDetector\n",
    "from cupbearer.detectors import ActivationCache\n",
    "from cupbearer.detectors import MahalanobisDetector\n",
    "from cupbearer import utils"
   ]
  },
  {
   "cell_type": "code",
   "execution_count": 15,
   "metadata": {},
   "outputs": [],
   "source": [
    "class EAPMahalanobisDetector(EAPDetector, MahalanobisDetector):\n",
    "    pass"
   ]
  },
  {
   "cell_type": "code",
   "execution_count": 16,
   "metadata": {},
   "outputs": [],
   "source": [
    "def edge_set_filter(edge, edge_set):\n",
    "    return tuple(edge) in edge_set"
   ]
  },
  {
   "cell_type": "markdown",
   "metadata": {},
   "source": [
    "## Standard Detector"
   ]
  },
  {
   "cell_type": "code",
   "execution_count": 17,
   "metadata": {},
   "outputs": [],
   "source": [
    "# maybe the problem is that the psedoinverse basically compresses the dimensions of variation between the training and test data\n",
    "\n",
    "# should try more basic method (number of anomolous edges)"
   ]
  },
  {
   "cell_type": "code",
   "execution_count": 20,
   "metadata": {},
   "outputs": [],
   "source": [
    "# cache = ActivationCache(device)\n",
    "detector_dir = graph_dir / \"standard_detector\"\n",
    "\n",
    "detector = EAPMahalanobisDetector(\n",
    "    effect_prob_func=partial(effect_prob_func, effect_tokens=effect_tokens),\n",
    "    upstream_nodes=[\"head\"],\n",
    "    downstream_nodes=[\"head\"],\n",
    "    edge_filter=lambda x: True,\n",
    "    layer_aggregation=\"mean\", \n",
    "    cache=None\n",
    ")"
   ]
  },
  {
   "cell_type": "code",
   "execution_count": 21,
   "metadata": {},
   "outputs": [
    {
     "name": "stderr",
     "output_type": "stream",
     "text": [
      "\u001b[32m2024-07-13 06:35:09.467\u001b[0m | \u001b[34m\u001b[1mDEBUG   \u001b[0m | \u001b[36mcupbearer.detectors.statistical.statistical\u001b[0m:\u001b[36minit_variables\u001b[0m:\u001b[36m83\u001b[0m - \u001b[34m\u001b[1mActivation sizes: \n",
      "eap_scores: torch.Size([2880])\u001b[0m\n",
      "100%|██████████| 32/32 [01:57<00:00,  3.67s/it]\n",
      "\u001b[32m2024-07-13 06:37:11.410\u001b[0m | \u001b[1mINFO    \u001b[0m | \u001b[36mcupbearer.detectors.anomaly_detector\u001b[0m:\u001b[36msave_weights\u001b[0m:\u001b[36m266\u001b[0m - \u001b[1mSaving detector to output/subset_graphs_ifelse_pythia-70m_head_mlp/standard_detector/detector\u001b[0m\n"
     ]
    },
    {
     "data": {
      "application/vnd.jupyter.widget-view+json": {
       "model_id": "632da0f807fc40f28fa4e9482135bff3",
       "version_major": 2,
       "version_minor": 0
      },
      "text/plain": [
       "Evaluating:   0%|          | 0/32 [00:00<?, ?it/s]"
      ]
     },
     "metadata": {},
     "output_type": "display_data"
    },
    {
     "name": "stderr",
     "output_type": "stream",
     "text": [
      "\u001b[32m2024-07-13 06:39:39.271\u001b[0m | \u001b[1mINFO    \u001b[0m | \u001b[36mcupbearer.detectors.anomaly_detector\u001b[0m:\u001b[36mplot_scores\u001b[0m:\u001b[36m35\u001b[0m - \u001b[1mAUC_ROC (all): 0.9015\u001b[0m\n",
      "\u001b[32m2024-07-13 06:39:39.283\u001b[0m | \u001b[1mINFO    \u001b[0m | \u001b[36mcupbearer.detectors.anomaly_detector\u001b[0m:\u001b[36mplot_scores\u001b[0m:\u001b[36m36\u001b[0m - \u001b[1mAP (all): 0.8757\u001b[0m\n"
     ]
    },
    {
     "data": {
      "text/plain": [
       "(defaultdict(dict,\n",
       "             {'all': {'AUC_ROC': 0.9014835357666016,\n",
       "               'AP': 0.8756506758885498}}),\n",
       " {'all': <Figure size 640x480 with 1 Axes>})"
      ]
     },
     "execution_count": 21,
     "metadata": {},
     "output_type": "execute_result"
    },
    {
     "data": {
      "image/png": "[encoded data removed]",
      "text/plain": [
       "<Figure size 640x480 with 1 Axes>"
      ]
     },
     "metadata": {},
     "output_type": "display_data"
    }
   ],
   "source": [
    "train_detector_cache(\n",
    "    detector_dir=detector_dir,\n",
    "    detector=detector,\n",
    "    task=small_task,\n",
    "    batch_size=64,\n",
    "    eval_batch_size=64,\n",
    "    cache=None,\n",
    "    overwrite=True\n",
    ")"
   ]
  },
  {
   "cell_type": "code",
   "execution_count": 22,
   "metadata": {},
   "outputs": [
    {
     "data": {
      "text/plain": [
       "True"
      ]
     },
     "execution_count": 22,
     "metadata": {},
     "output_type": "execute_result"
    }
   ],
   "source": [
    "task.model.tokenizer.add_bos_token"
   ]
  },
  {
   "cell_type": "code",
   "execution_count": null,
   "metadata": {},
   "outputs": [],
   "source": []
  },
  {
   "cell_type": "code",
   "execution_count": null,
   "metadata": {},
   "outputs": [],
   "source": [
    "trusted_tokens.shape"
   ]
  },
  {
   "cell_type": "code",
   "execution_count": null,
   "metadata": {},
   "outputs": [],
   "source": [
    "# check detector scores varying on batch size\n",
    "scores_batch = detector.scores(trusted_tokens[0:5])"
   ]
  },
  {
   "cell_type": "code",
   "execution_count": null,
   "metadata": {},
   "outputs": [],
   "source": [
    "scores_single = [detector.scores(trusted_tokens[i].unsqueeze(0)) for i in range(5)]\n"
   ]
  },
  {
   "cell_type": "code",
   "execution_count": null,
   "metadata": {},
   "outputs": [],
   "source": [
    "eap_scores_batch = detector.get_activations(trusted_tokens[0:5])"
   ]
  },
  {
   "cell_type": "code",
   "execution_count": null,
   "metadata": {},
   "outputs": [],
   "source": [
    "eap_scores_single = [detector.get_activations(trusted_tokens[i].unsqueeze(0)) for i in range(5)]"
   ]
  },
  {
   "cell_type": "code",
   "execution_count": null,
   "metadata": {},
   "outputs": [],
   "source": [
    "eap_scores_single_reverse = [detector.get_activations(trusted_tokens[5-i-1].unsqueeze(0)) for i in range(5)]"
   ]
  },
  {
   "cell_type": "code",
   "execution_count": null,
   "metadata": {},
   "outputs": [],
   "source": [
    "eap_scores_batch[\"eap_scores\"][0].flatten()"
   ]
  },
  {
   "cell_type": "code",
   "execution_count": null,
   "metadata": {},
   "outputs": [],
   "source": [
    "torch.abs(eap_scores_batch[\"eap_scores\"][0].flatten() - eap_scores_single[0][\"eap_scores\"].flatten()).median()"
   ]
  },
  {
   "cell_type": "code",
   "execution_count": null,
   "metadata": {},
   "outputs": [],
   "source": [
    "torch.where(torch.abs(eap_scores_batch[\"eap_scores\"][0].flatten() - eap_scores_single[0][\"eap_scores\"].flatten()) > 1e-1)"
   ]
  },
  {
   "cell_type": "code",
   "execution_count": null,
   "metadata": {},
   "outputs": [],
   "source": [
    "scores_single, scores_batch"
   ]
  },
  {
   "cell_type": "markdown",
   "metadata": {},
   "source": [
    "## Clean Edges"
   ]
  },
  {
   "cell_type": "markdown",
   "metadata": {},
   "source": [
    "### Pos Only"
   ]
  },
  {
   "cell_type": "code",
   "execution_count": null,
   "metadata": {},
   "outputs": [],
   "source": [
    "clean_edge_names = [(edge[0], edge[1]) for edge in clean_edges]\n",
    "len(clean_edge_names)"
   ]
  },
  {
   "cell_type": "code",
   "execution_count": null,
   "metadata": {},
   "outputs": [],
   "source": [
    "detector_dir = graph_dir / \"clean_edges\""
   ]
  },
  {
   "cell_type": "code",
   "execution_count": null,
   "metadata": {},
   "outputs": [],
   "source": [
    "detector = EAPMahalanobisDetector(\n",
    "    effect_prob_func=partial(effect_prob_func, effect_tokens=effect_tokens),\n",
    "    upstream_nodes=[\"head\"],\n",
    "    downstream_nodes=[\"head\"],\n",
    "    edge_filter=partial(edge_set_filter, edge_set=clean_edge_names),\n",
    "    layer_aggregation=\"mean\", \n",
    "    cache=None, \n",
    ")"
   ]
  },
  {
   "cell_type": "code",
   "execution_count": null,
   "metadata": {},
   "outputs": [],
   "source": [
    "train_detector_cache(\n",
    "    detector_dir, \n",
    "    detector, \n",
    "    small_task, \n",
    "    batch_size=64, \n",
    "    eval_batch_size=64, \n",
    "    cache=None, \n",
    "    cache_path=None,\n",
    "    overwrite=True,\n",
    ")"
   ]
  },
  {
   "cell_type": "markdown",
   "metadata": {},
   "source": [
    "### Abs Value"
   ]
  },
  {
   "cell_type": "code",
   "execution_count": null,
   "metadata": {},
   "outputs": [],
   "source": [
    "clean_graph.show(threshold=threshold, abs_scores=True, fdir=graph_dir, fname=\"clean_graph_abs.png\")\n",
    "display(Image(graph_dir / \"clean_graph_abs.png\"))\n"
   ]
  },
  {
   "cell_type": "code",
   "execution_count": null,
   "metadata": {},
   "outputs": [],
   "source": [
    "clean_abs_edges = clean_graph.top_edges(threshold=threshold, abs_scores=True)\n",
    "clean_abs_edges"
   ]
  },
  {
   "cell_type": "code",
   "execution_count": null,
   "metadata": {},
   "outputs": [],
   "source": [
    "clean_abs_edge_names = [(edge[0], edge[1]) for edge in clean_abs_edges]\n",
    "len(clean_abs_edge_names)"
   ]
  },
  {
   "cell_type": "code",
   "execution_count": null,
   "metadata": {},
   "outputs": [],
   "source": [
    "detector_dir = graph_dir / \"clean_abs_edges\""
   ]
  },
  {
   "cell_type": "code",
   "execution_count": null,
   "metadata": {},
   "outputs": [],
   "source": [
    "detector = EAPMahalanobisDetector(\n",
    "    effect_prob_func=partial(effect_prob_func, effect_tokens=effect_tokens),\n",
    "    upstream_nodes=[\"head\"],\n",
    "    downstream_nodes=[\"head\"],\n",
    "    edge_filter=partial(edge_set_filter, edge_set=clean_abs_edge_names),\n",
    "    layer_aggregation=\"mean\", \n",
    "    cache=None, \n",
    ")"
   ]
  },
  {
   "cell_type": "code",
   "execution_count": null,
   "metadata": {},
   "outputs": [],
   "source": [
    "train_detector_cache(\n",
    "    detector_dir, \n",
    "    detector, \n",
    "    small_task, \n",
    "    batch_size=64, \n",
    "    eval_batch_size=64, \n",
    "    cache=None, \n",
    "    cache_path=None,\n",
    "    overwrite=False,\n",
    ")"
   ]
  },
  {
   "cell_type": "markdown",
   "metadata": {},
   "source": [
    "##  Full Edges"
   ]
  },
  {
   "cell_type": "code",
   "execution_count": null,
   "metadata": {},
   "outputs": [],
   "source": [
    "full_abs_edges = full_graph.top_edges(threshold=threshold, abs_scores=True)\n",
    "len(full_abs_edges)"
   ]
  },
  {
   "cell_type": "code",
   "execution_count": null,
   "metadata": {},
   "outputs": [],
   "source": [
    "full_abs_edges_names = [(edge[0], edge[1]) for edge in full_abs_edges]\n",
    "len(full_abs_edges)"
   ]
  },
  {
   "cell_type": "code",
   "execution_count": null,
   "metadata": {},
   "outputs": [],
   "source": [
    "detector_dir = graph_dir / \"full_abs_edges\""
   ]
  },
  {
   "cell_type": "code",
   "execution_count": null,
   "metadata": {},
   "outputs": [],
   "source": [
    "detector = EAPMahalanobisDetector(\n",
    "    effect_prob_func=partial(effect_prob_func, effect_tokens=effect_tokens),\n",
    "    upstream_nodes=nodes,\n",
    "    downstream_nodes=nodes,\n",
    "    edge_filter=partial(edge_set_filter, edge_set=full_abs_edges_names),\n",
    "    layer_aggregation=\"mean\", \n",
    "    cache=None, \n",
    ")"
   ]
  },
  {
   "cell_type": "code",
   "execution_count": null,
   "metadata": {},
   "outputs": [],
   "source": [
    "train_detector_cache(\n",
    "    detector_dir, \n",
    "    detector, \n",
    "    small_task, \n",
    "    batch_size=128, \n",
    "    eval_batch_size=128, \n",
    "    cache=None, \n",
    "    cache_path=None,\n",
    "    overwrite=True,\n",
    ")"
   ]
  },
  {
   "cell_type": "code",
   "execution_count": null,
   "metadata": {},
   "outputs": [],
   "source": [
    "detector.load_weights(detector_dir / \"detector.pt\")"
   ]
  },
  {
   "cell_type": "code",
   "execution_count": null,
   "metadata": {},
   "outputs": [],
   "source": [
    "import sklearn\n",
    "from torch.utils.data import DataLoader\n",
    "from collections import defaultdict\n",
    "from loguru import logger\n",
    "from tqdm import tqdm"
   ]
  },
  {
   "cell_type": "code",
   "execution_count": null,
   "metadata": {},
   "outputs": [],
   "source": [
    "dataset = small_task.test_data\n",
    "batch_size: int = 128\n",
    "histogram_percentile: float = 95\n",
    "save_path: Path | str | None = None\n",
    "num_bins: int = 100\n",
    "pbar: bool = True\n",
    "layerwise: bool = False\n",
    "log_yaxis: bool = True\n"
   ]
  },
  {
   "cell_type": "code",
   "execution_count": null,
   "metadata": {},
   "outputs": [],
   "source": [
    "detector.set_model(small_task.model)"
   ]
  },
  {
   "cell_type": "code",
   "execution_count": null,
   "metadata": {},
   "outputs": [],
   "source": [
    "test_loader = DataLoader(\n",
    "    dataset,\n",
    "    batch_size=batch_size,\n",
    "    # For some methods, such as adversarial abstractions, it might matter how\n",
    "    # normal/anomalous data is distributed into batches. In that case, we want\n",
    "    # to mix them by default.\n",
    "    shuffle=True,\n",
    ")\n",
    "\n",
    "metrics = defaultdict(dict)\n",
    "assert 0 < histogram_percentile <= 100\n",
    "\n",
    "if pbar:\n",
    "    test_loader = tqdm(test_loader, desc=\"Evaluating\", leave=False)\n",
    "\n",
    "scores = defaultdict(list)\n",
    "labels = defaultdict(list)\n",
    "\n",
    "# It's important we don't use torch.inference_mode() here, since we want\n",
    "# to be able to override this in certain detectors using torch.enable_grad().\n",
    "with torch.no_grad():\n",
    "    for batch in test_loader:\n",
    "        inputs, new_labels = batch\n",
    "        if layerwise:\n",
    "            new_scores = detector.layerwise_scores(inputs)\n",
    "        else:\n",
    "            new_scores = {\"all\": detector.scores(inputs)}\n",
    "        for layer, score in new_scores.items():\n",
    "            if isinstance(score, torch.Tensor):\n",
    "                score = score.cpu().numpy()\n",
    "            assert score.shape == new_labels.shape\n",
    "            scores[layer].append(score)\n",
    "            labels[layer].append(new_labels)\n",
    "scores = {layer: np.concatenate(scores[layer]) for layer in scores}\n",
    "labels = {layer: np.concatenate(labels[layer]) for layer in labels}"
   ]
  },
  {
   "cell_type": "code",
   "execution_count": null,
   "metadata": {},
   "outputs": [],
   "source": [
    "upper_lim = np.percentile(scores[layer], histogram_percentile).item()\n",
    "# Usually there aren't extremely low outliers, so we just use the minimum,\n",
    "# otherwise this tends to weirdly cut of the histogram.\n",
    "lower_lim = scores[layer].min().item()\n",
    "\n",
    "bins = np.linspace(lower_lim, upper_lim, num_bins)"
   ]
  },
  {
   "cell_type": "code",
   "execution_count": null,
   "metadata": {},
   "outputs": [],
   "source": [
    "upper_lim = np.percentile(scores[layer], 100).item()\n",
    "upper_lim"
   ]
  },
  {
   "cell_type": "code",
   "execution_count": null,
   "metadata": {},
   "outputs": [],
   "source": [
    "histogram_percentile = 100"
   ]
  },
  {
   "cell_type": "code",
   "execution_count": null,
   "metadata": {},
   "outputs": [],
   "source": [
    "import matplotlib.pyplot as plt"
   ]
  },
  {
   "cell_type": "code",
   "execution_count": null,
   "metadata": {},
   "outputs": [],
   "source": [
    "figs = {}\n",
    "\n",
    "for layer in scores:\n",
    "    auc_roc = sklearn.metrics.roc_auc_score(\n",
    "        y_true=labels[layer],\n",
    "        y_score=scores[layer],\n",
    "    )\n",
    "    ap = sklearn.metrics.average_precision_score(\n",
    "        y_true=labels[layer],\n",
    "        y_score=scores[layer],\n",
    "    )\n",
    "    logger.info(f\"AUC_ROC ({layer}): {auc_roc:.4f}\")\n",
    "    logger.info(f\"AP ({layer}): {ap:.4f}\")\n",
    "    metrics[layer][\"AUC_ROC\"] = auc_roc\n",
    "    metrics[layer][\"AP\"] = ap\n",
    "\n",
    "    upper_lim = np.percentile(scores[layer], histogram_percentile).item()\n",
    "    # Usually there aren't extremely low outliers, so we just use the minimum,\n",
    "    # otherwise this tends to weirdly cut of the histogram.\n",
    "    lower_lim = scores[layer].min().item()\n",
    "\n",
    "    bins = np.linspace(lower_lim, upper_lim, num_bins)\n",
    "\n",
    "    # Visualizations for anomaly scores\n",
    "    fig, ax = plt.subplots()\n",
    "    for i, name in enumerate([\"Normal\", \"Anomalous\"]):\n",
    "        vals = scores[layer][labels[layer] == i]\n",
    "        ax.hist(\n",
    "            vals,\n",
    "            bins=bins,\n",
    "            alpha=0.5,\n",
    "            label=name,\n",
    "            log=log_yaxis,\n",
    "        )\n",
    "    ax.legend()\n",
    "    ax.set_xlabel(\"Anomaly score\")\n",
    "    ax.set_ylabel(\"Frequency\")\n",
    "    ax.set_title(f\"Anomaly score distribution ({layer})\")\n",
    "    textstr = f\"AUROC: {auc_roc:.1%}\\n AP: {ap:.1%}\"\n",
    "    props = dict(boxstyle=\"round\", facecolor=\"white\")\n",
    "    ax.text(\n",
    "        0.98,\n",
    "        0.80,\n",
    "        textstr,\n",
    "        transform=ax.transAxes,\n",
    "        fontsize=10,\n",
    "        verticalalignment=\"top\",\n",
    "        horizontalalignment=\"right\",\n",
    "        bbox=props,\n",
    "    )\n",
    "    figs[layer] = fig\n"
   ]
  },
  {
   "cell_type": "code",
   "execution_count": null,
   "metadata": {},
   "outputs": [],
   "source": [
    "train_detector_cache(\n",
    "    detector_dir, \n",
    "    detector, \n",
    "    small_task, \n",
    "    batch_size=128, \n",
    "    eval_batch_size=128, \n",
    "    cache=None, \n",
    "    cache_path=None,\n",
    "    overwrite=True,\n",
    ")"
   ]
  },
  {
   "cell_type": "code",
   "execution_count": null,
   "metadata": {},
   "outputs": [],
   "source": [
    "# check for hash tags in training set\n",
    "decoded_train_set = [small_task.model.tokenizer.decode(x[\"prefix_tokens\"]) for x in small_task.trusted_data.data]\n",
    "decoded_clean_untrusted = [small_task.model.tokenizer.decode(x[\"prefix_tokens\"]) for x in small_task.test_data.normal_data.data]\n"
   ]
  },
  {
   "cell_type": "code",
   "execution_count": null,
   "metadata": {},
   "outputs": [],
   "source": [
    "has_hash_train = [x for x in decoded_train_set if \"#\" in x]\n",
    "has_hash_clean_untrusted = [x for x in decoded_clean_untrusted if \"#\" in x]\n",
    "len(has_hash_train), len(has_hash_clean_untrusted)"
   ]
  },
  {
   "cell_type": "code",
   "execution_count": null,
   "metadata": {},
   "outputs": [],
   "source": [
    "has_hash_clean_untrusted_idxs = [i for i, x in enumerate(decoded_clean_untrusted) if \"#\" in x]\n",
    "has_hash_clean_untrusted_tokens = untrusted_clean_tokens[has_hash_clean_untrusted_idxs]"
   ]
  },
  {
   "cell_type": "code",
   "execution_count": null,
   "metadata": {},
   "outputs": [],
   "source": [
    "untrusted_clean_tokens.shape"
   ]
  },
  {
   "cell_type": "code",
   "execution_count": null,
   "metadata": {},
   "outputs": [],
   "source": [
    "has_hash_clean_untrusted_tokens.shape"
   ]
  },
  {
   "cell_type": "code",
   "execution_count": null,
   "metadata": {},
   "outputs": [],
   "source": [
    "detector.set_model(small_task.model)"
   ]
  },
  {
   "cell_type": "code",
   "execution_count": null,
   "metadata": {},
   "outputs": [],
   "source": [
    "task.model(has_hash_clean_untrusted_tokens)[1] "
   ]
  },
  {
   "cell_type": "code",
   "execution_count": null,
   "metadata": {},
   "outputs": [],
   "source": [
    "task.model(has_hash_clean_untrusted_tokens[1].unsqueeze(0))"
   ]
  },
  {
   "cell_type": "code",
   "execution_count": null,
   "metadata": {},
   "outputs": [],
   "source": [
    "sum(hex_scores) / len(hex_scores)"
   ]
  },
  {
   "cell_type": "code",
   "execution_count": null,
   "metadata": {},
   "outputs": [],
   "source": [
    "hex_acts = detector.get_activations(has_hash_clean_untrusted_tokens)"
   ]
  },
  {
   "cell_type": "code",
   "execution_count": null,
   "metadata": {},
   "outputs": [],
   "source": [
    "single_act = detector.get_activations(has_hash_clean_untrusted_tokens[1].unsqueeze(0))"
   ]
  },
  {
   "cell_type": "code",
   "execution_count": null,
   "metadata": {},
   "outputs": [],
   "source": [
    "single_act[\"eap_scores\"].shape"
   ]
  },
  {
   "cell_type": "code",
   "execution_count": null,
   "metadata": {},
   "outputs": [],
   "source": [
    "hex_acts[\"eap_scores\"].shape"
   ]
  },
  {
   "cell_type": "code",
   "execution_count": null,
   "metadata": {},
   "outputs": [],
   "source": [
    "hex_scores = detector.scores(has_hash_clean_untrusted_tokens)"
   ]
  },
  {
   "cell_type": "code",
   "execution_count": null,
   "metadata": {},
   "outputs": [],
   "source": [
    "clean_scores = scores[\"all\"][labels[\"all\"] == 0]\n",
    "anomalous_scores = scores[\"all\"][labels[\"all\"] == 1]"
   ]
  },
  {
   "cell_type": "code",
   "execution_count": null,
   "metadata": {},
   "outputs": [],
   "source": [
    "np.median(clean_scores), np.median(anomalous_scores), np.mean(clean_scores), np.mean(anomalous_scores)"
   ]
  },
  {
   "cell_type": "code",
   "execution_count": null,
   "metadata": {},
   "outputs": [],
   "source": [
    "np.sort(clean_scores)[-10:]"
   ]
  },
  {
   "cell_type": "code",
   "execution_count": null,
   "metadata": {},
   "outputs": [],
   "source": [
    "has_hash_clean_untrusted"
   ]
  },
  {
   "cell_type": "code",
   "execution_count": null,
   "metadata": {},
   "outputs": [],
   "source": [
    "small_task_no_hash = get_task_subset(task, 2048, 1024, 1024)"
   ]
  },
  {
   "cell_type": "code",
   "execution_count": null,
   "metadata": {},
   "outputs": [],
   "source": [
    "len(small_task_no_hash.test_data.normal_data.data)"
   ]
  },
  {
   "cell_type": "code",
   "execution_count": null,
   "metadata": {},
   "outputs": [],
   "source": [
    "small_task_no_hash.test_data.normal_data.data"
   ]
  },
  {
   "cell_type": "code",
   "execution_count": null,
   "metadata": {},
   "outputs": [],
   "source": [
    "filtered_test_data = [x for x in small_task_no_hash.test_data.normal_data.data if \"#\" not in small_task_no_hash.model.tokenizer.decode(x[\"prefix_tokens\"])]"
   ]
  },
  {
   "cell_type": "code",
   "execution_count": null,
   "metadata": {},
   "outputs": [],
   "source": [
    "from cupbearer.data import MixedData\n",
    "from cupbearer.tasks.tiny_natural_mechanisms import TinyNaturalMechanismsDataset"
   ]
  },
  {
   "cell_type": "code",
   "execution_count": null,
   "metadata": {},
   "outputs": [],
   "source": [
    "test_data = MixedData(TinyNaturalMechanismsDataset(filtered_test_data), small_task_no_hash.test_data.anomalous_data, return_anomaly_labels=False)"
   ]
  },
  {
   "cell_type": "code",
   "execution_count": null,
   "metadata": {},
   "outputs": [],
   "source": [
    "small_task_no_hash.test_data = test_data"
   ]
  },
  {
   "cell_type": "code",
   "execution_count": null,
   "metadata": {},
   "outputs": [],
   "source": [
    "num_left_over = len(small_task_no_hash.test_data.normal_data.data) % 64"
   ]
  },
  {
   "cell_type": "code",
   "execution_count": null,
   "metadata": {},
   "outputs": [],
   "source": [
    "small_task_no_hash.test_data.normal_data.data = small_task_no_hash.test_data.normal_data.data[:-num_left_over]"
   ]
  },
  {
   "cell_type": "code",
   "execution_count": null,
   "metadata": {},
   "outputs": [],
   "source": [
    "#TODO: figure out what's going on here"
   ]
  },
  {
   "cell_type": "code",
   "execution_count": null,
   "metadata": {},
   "outputs": [],
   "source": [
    "# eval on untrusted data without hash tags\n",
    "scripts.eval_detector(\n",
    "    small_task_no_hash,\n",
    "    detector,\n",
    "    save_path=Path(str(detector_dir) + \"_no_hash\"),\n",
    "    pbar=True, \n",
    "    batch_size=128\n",
    ")"
   ]
  },
  {
   "cell_type": "markdown",
   "metadata": {},
   "source": [
    "# Filter Detector by Edge Difference Between Untrusted and Trusted"
   ]
  },
  {
   "cell_type": "code",
   "execution_count": null,
   "metadata": {},
   "outputs": [],
   "source": [
    "trusted_edge_names = [edge[:2] for edge in clean_edges]\n",
    "untrusted_edge_names = [edge[:2] for edge in untrusted_edges]\n",
    "edge_diff = set(untrusted_edge_names) - set(trusted_edge_names)\n",
    "len(edge_diff)\n"
   ]
  },
  {
   "cell_type": "code",
   "execution_count": null,
   "metadata": {},
   "outputs": [],
   "source": [
    "edge_diff"
   ]
  },
  {
   "cell_type": "code",
   "execution_count": null,
   "metadata": {},
   "outputs": [],
   "source": [
    "detector_dir = out_dir / \"pythia-70m-hex-small-untrusted_diff\""
   ]
  },
  {
   "cell_type": "code",
   "execution_count": null,
   "metadata": {},
   "outputs": [],
   "source": [
    "cache = ActivationCache(device=device)"
   ]
  },
  {
   "cell_type": "code",
   "execution_count": null,
   "metadata": {},
   "outputs": [],
   "source": [
    "detector = EAPMahalanobisDetector(\n",
    "    effect_prob_func=partial(effect_prob_func, effect_tokens=effect_tokens),\n",
    "    upstream_nodes=[\"head\"],\n",
    "    downstream_nodes=[\"head\"],\n",
    "    edge_filter=partial(edge_set_filter, edge_set=edge_diff),\n",
    "    seq_len=16,\n",
    "    layer_aggregation=\"mean\", \n",
    "    cache=cache\n",
    ")"
   ]
  },
  {
   "cell_type": "code",
   "execution_count": null,
   "metadata": {},
   "outputs": [],
   "source": [
    "train_detector_cache(\n",
    "    detector_dir, detector, small_task, batch_size=128, eval_batch_size=128, cache=cache, \n",
    "    cache_path=None, overwrite=True, overwrite_cache=True\n",
    ")"
   ]
  },
  {
   "cell_type": "code",
   "execution_count": null,
   "metadata": {},
   "outputs": [],
   "source": [
    "detector.means[\"eap_scores\"]"
   ]
  },
  {
   "cell_type": "code",
   "execution_count": null,
   "metadata": {},
   "outputs": [],
   "source": [
    "detector.covariances[\"eap_scores\"].diag()"
   ]
  },
  {
   "cell_type": "markdown",
   "metadata": {},
   "source": [
    "# Try Getting Top Edges across Entire Distribution, filtering anomolies with respect to that"
   ]
  }
 ],
 "metadata": {
  "kernelspec": {
   "display_name": "elk-experiments-AZ2LBS3Q-py3.10",
   "language": "python",
   "name": "python3"
  },
  "language_info": {
   "codemirror_mode": {
    "name": "ipython",
    "version": 3
   },
   "file_extension": ".py",
   "mimetype": "text/x-python",
   "name": "python",
   "nbconvert_exporter": "python",
   "pygments_lexer": "ipython3",
   "version": "3.10.14"
  }
 },
 "nbformat": 4,
 "nbformat_minor": 2
}
