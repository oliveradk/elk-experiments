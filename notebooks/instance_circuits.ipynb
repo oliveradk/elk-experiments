{
 "cells": [
  {
   "cell_type": "markdown",
   "metadata": {},
   "source": [
    "# Instance Circuits\n",
    "\n",
    "Compute prune scores per instance, then using Thresholding algorithms (e.g. knee point),\n",
    "compute per instance sparse circuits, and evaluate circuit performance. \n",
    "\n",
    "Learn circuit with sparsity of average of instance circuit sparsity using edge pruning, \n",
    "compare performance"
   ]
  },
  {
   "cell_type": "code",
   "execution_count": 102,
   "metadata": {},
   "outputs": [],
   "source": [
    "from functools import partial\n",
    "from collections import defaultdict\n",
    "from typing import Dict\n",
    "import math\n",
    "\n",
    "import torch\n",
    "import numpy as np\n",
    "\n",
    "from cupbearer.tasks.tiny_natural_mechanisms import get_effect_tokens\n",
    "\n",
    "from elk_experiments.utils import repo_path_to_abs_path, set_model, repo_path_to_abs_path\n",
    "from elk_experiments.auto_circuit_utils import make_prompt_data_loader, make_mixed_prompt_dataloader, sorted_scores\n",
    "from elk_experiments.mask_gradient_instance import mask_gradient_instance_prune_scores\n",
    "\n",
    "from auto_circuit.types import AblationType, BatchKey, PruneScores\n",
    "from auto_circuit.data import PromptPairBatch   \n",
    "from auto_circuit.prune_algos.mask_gradient import mask_gradient_prune_scores"
   ]
  },
  {
   "cell_type": "code",
   "execution_count": 2,
   "metadata": {},
   "outputs": [],
   "source": [
    "model_name = \"pythia-70m\"\n",
    "device=\"cpu\"\n",
    "task_name=\"ifelse\"\n",
    "resid_pre=False \n",
    "resid_post=False \n",
    "attn=True \n",
    "mlp=False\n",
    "ablation_type = AblationType.ZERO\n",
    "abs_scores = True"
   ]
  },
  {
   "cell_type": "code",
   "execution_count": 3,
   "metadata": {},
   "outputs": [
    {
     "name": "stdout",
     "output_type": "stream",
     "text": [
      "Loaded pretrained model attn-only-1l into HookedTransformer\n",
      "Moving model to device:  cpu\n"
     ]
    },
    {
     "name": "stderr",
     "output_type": "stream",
     "text": [
      "Special tokens have been added in the vocabulary, make sure the associated word embeddings are fine-tuned or trained.\n"
     ]
    },
    {
     "name": "stdout",
     "output_type": "stream",
     "text": [
      "Loaded pretrained model pythia-70m into HookedTransformer\n",
      "Moving model to device:  cpu\n"
     ]
    }
   ],
   "source": [
    "from cupbearer import tasks\n",
    "from elk_experiments.tiny_natural_mechanisms_utils import get_task_subset\n",
    "task = get_task_subset(tasks.tiny_natural_mechanisms(task_name, device, model_name), 2048, 1024, 1024)\n",
    "set_model(task.model, disbale_grad=True)\n",
    "out_dir = repo_path_to_abs_path(f\"output/{task_name}_{model_name}_resid_pre_{resid_pre}_resid_post_{resid_post}_attn_{attn}_mlp_{mlp}\")\n",
    "if not out_dir.exists():\n",
    "    out_dir.mkdir(parents=True)"
   ]
  },
  {
   "cell_type": "code",
   "execution_count": 4,
   "metadata": {},
   "outputs": [],
   "source": [
    "from auto_circuit.utils.graph_utils import patchable_model\n",
    "model = patchable_model(\n",
    "    task.model,\n",
    "    factorized=True,\n",
    "    slice_output=\"last_seq\",\n",
    "    separate_qkv=True,\n",
    "    device=device,\n",
    "    resid_src=resid_pre,\n",
    "    resid_dest=resid_post,\n",
    "    attn_src=attn,\n",
    "    attn_dest=attn,\n",
    "    mlp_src=mlp, \n",
    "    mlp_dest=mlp\n",
    ")"
   ]
  },
  {
   "cell_type": "code",
   "execution_count": 5,
   "metadata": {},
   "outputs": [],
   "source": [
    "batch_size = 32\n",
    "effect_tokens = get_effect_tokens(task_name, task.model)\n",
    "trainloader = make_prompt_data_loader(task.trusted_data, effect_tokens, task.model, batch_size)\n",
    "testloader = make_prompt_data_loader(task.test_data.normal_data, effect_tokens, task.model, batch_size)"
   ]
  },
  {
   "cell_type": "markdown",
   "metadata": {},
   "source": [
    "## Collect Prune Scores"
   ]
  },
  {
   "cell_type": "code",
   "execution_count": 6,
   "metadata": {},
   "outputs": [
    {
     "name": "stderr",
     "output_type": "stream",
     "text": [
      "huggingface/tokenizers: The current process just got forked, after parallelism has already been used. Disabling parallelism to avoid deadlocks...\n",
      "To disable this warning, you can either:\n",
      "\t- Avoid using `tokenizers` before the fork if possible\n",
      "\t- Explicitly set the environment variable TOKENIZERS_PARALLELISM=(true | false)\n"
     ]
    },
    {
     "data": {
      "application/vnd.jupyter.widget-view+json": {
       "model_id": "8241b5d66f7d40f1ac12878876f2f23c",
       "version_major": 2,
       "version_minor": 0
      },
      "text/plain": [
       "VBox(children=(Batch          | 0/64 [00:00<?, ?it/s],))"
      ]
     },
     "metadata": {},
     "output_type": "display_data"
    }
   ],
   "source": [
    "prune_scores = mask_gradient_instance_prune_scores(\n",
    "    model=model,\n",
    "    dataloader=trainloader,\n",
    "    official_edges=None,\n",
    "    grad_function=\"logit\",\n",
    "    answer_function=\"avg_val\",\n",
    "    mask_val=0.0,\n",
    "    ablation_type=ablation_type,\n",
    "    clean_corrupt=None\n",
    ")"
   ]
  },
  {
   "cell_type": "markdown",
   "metadata": {},
   "source": [
    "## Compute Knees"
   ]
  },
  {
   "cell_type": "code",
   "execution_count": 11,
   "metadata": {},
   "outputs": [],
   "source": [
    "# prune scores flat in batch_dict\n",
    "def flatten_instance_prune_scores(prune_scores: Dict[str, Dict[BatchKey, torch.Tensor]]) -> Dict[BatchKey, torch.Tensor]:\n",
    "    batch_keys = next(iter(prune_scores.values())).keys()\n",
    "    return {\n",
    "        batch_key: torch.cat(\n",
    "            [ps_mod[batch_key].flatten(start_dim=1) for ps_mod in prune_scores.values()], \n",
    "            dim=1\n",
    "        ) \n",
    "        for batch_key in batch_keys\n",
    "    }\n"
   ]
  },
  {
   "cell_type": "code",
   "execution_count": 12,
   "metadata": {},
   "outputs": [],
   "source": [
    "prune_scores_flat = flatten_instance_prune_scores(prune_scores)"
   ]
  },
  {
   "cell_type": "code",
   "execution_count": 14,
   "metadata": {},
   "outputs": [],
   "source": [
    "flat_prune_scores = flatten_instance_prune_scores(prune_scores)\n",
    "flat_abs_prune_scores = {batch_key: torch.abs(prune_score) for batch_key, prune_score in flat_prune_scores.items()}\n",
    "flat_sorted_prune_scores = {batch_key: torch.sort(prune_score, dim=1, descending=False).values for batch_key, prune_score in flat_abs_prune_scores.items()}\n",
    "flat_sorted_prune_scores_all = torch.cat([prune_score for prune_score in flat_sorted_prune_scores.values()], dim=0)"
   ]
  },
  {
   "cell_type": "code",
   "execution_count": 15,
   "metadata": {},
   "outputs": [
    {
     "data": {
      "image/png": "[encoded data removed]",
      "text/plain": [
       "<Figure size 640x480 with 1 Axes>"
      ]
     },
     "metadata": {},
     "output_type": "display_data"
    }
   ],
   "source": [
    "# plot the attribution scores for each instance\n",
    "import matplotlib.pyplot as plt\n",
    "for i in range(len(flat_sorted_prune_scores_all)):\n",
    "    plt.plot(flat_sorted_prune_scores_all.cpu().numpy()[i])"
   ]
  },
  {
   "cell_type": "code",
   "execution_count": 21,
   "metadata": {},
   "outputs": [],
   "source": [
    "# here we nedd all the prune scores flattened and sorted by batch \n",
    "# compute knees\n",
    "from kneed import KneeLocator\n",
    "knees_poly, knees_1d = defaultdict(list), defaultdict(list)\n",
    "for batch_key, ps_batch in flat_sorted_prune_scores.items():\n",
    "    for i in range(ps_batch.shape[0]):\n",
    "        kneedle_poly = KneeLocator(\n",
    "            np.arange(len(ps_batch[i])),\n",
    "            ps_batch[i],\n",
    "            S=1.0,\n",
    "            curve=\"convex\",\n",
    "            direction=\"increasing\",\n",
    "            interp_method=\"polynomial\"\n",
    "        )\n",
    "        knees_poly[batch_key].append(kneedle_poly.knee)\n",
    "        kneedle_1d = KneeLocator(\n",
    "            np.arange(len(ps_batch[i])),\n",
    "            ps_batch[i],\n",
    "            S=1.0,\n",
    "            curve=\"convex\",\n",
    "            direction=\"increasing\",\n",
    "            interp_method=\"interp1d\"\n",
    "        )\n",
    "        knees_1d[batch_key].append(kneedle_1d.knee)"
   ]
  },
  {
   "cell_type": "code",
   "execution_count": 22,
   "metadata": {},
   "outputs": [],
   "source": [
    "knees_poly_all = [knee for knees in knees_poly.values() for knee in knees]\n",
    "knees_1d_all = [knee for knees in knees_1d.values() for knee in knees]"
   ]
  },
  {
   "cell_type": "code",
   "execution_count": 23,
   "metadata": {},
   "outputs": [
    {
     "data": {
      "image/png": "[encoded data removed]",
      "text/plain": [
       "<Figure size 640x480 with 1 Axes>"
      ]
     },
     "metadata": {},
     "output_type": "display_data"
    }
   ],
   "source": [
    "import matplotlib.colors as mcolors\n",
    "# plot knees with different colors\n",
    "for i in range(len(flat_sorted_prune_scores_all)):\n",
    "    plt.plot(flat_sorted_prune_scores_all[i])\n",
    "colors = list(mcolors.TABLEAU_COLORS.values())\n",
    "for i, (knee_poly, knee_1d) in enumerate(zip(knees_poly_all, knees_1d_all)):\n",
    "    color = colors[i % len(colors)] \n",
    "    plt.axvline(knee_poly, color=color, alpha=0.1)\n",
    "    plt.axvline(knee_1d, color=color, alpha=0.1)"
   ]
  },
  {
   "cell_type": "code",
   "execution_count": 24,
   "metadata": {},
   "outputs": [
    {
     "name": "stdout",
     "output_type": "stream",
     "text": [
      "mean 343.80078125 75.576171875\n",
      "max 422 190\n",
      "min 305 11\n",
      "range 117 179\n",
      "median 343.0 74.0\n"
     ]
    }
   ],
   "source": [
    "n_edges_poly = {batch_key: [model.n_edges - knee for knee in knees] for batch_key, knees in knees_poly.items()}\n",
    "n_edges_1d = {batch_key: [model.n_edges - knee for knee in knees] for batch_key, knees in knees_1d.items()}\n",
    "n_edges_poly_all = [model.n_edges - knee for knee in knees_poly_all]\n",
    "n_edges_1d_all = [model.n_edges - knee for knee in knees_1d_all]\n",
    "print(\"mean\", np.mean(n_edges_poly_all), np.mean(n_edges_1d_all))\n",
    "print(\"max\", np.max(n_edges_poly_all), np.max(n_edges_1d_all))\n",
    "print(\"min\", np.min(n_edges_poly_all), np.min(n_edges_1d_all))\n",
    "print(\"range\", np.ptp(n_edges_poly_all), np.ptp(n_edges_1d_all)), \n",
    "print(\"median\", np.median(n_edges_poly_all), np.median(n_edges_1d_all))"
   ]
  },
  {
   "cell_type": "markdown",
   "metadata": {},
   "source": [
    "## Run Instance Circuits with Instance Patch Masks For Different Knees"
   ]
  },
  {
   "cell_type": "code",
   "execution_count": 42,
   "metadata": {},
   "outputs": [],
   "source": [
    "# descending prune scores (torch)\n",
    "def desc_prune_scores_batch(prune_scores_batch: PruneScores) -> torch.Tensor:\n",
    "   # prune_scores_batch: mod_name -> [batch, src, dest]\n",
    "   prune_scores_flat = torch.cat([score.flatten(start_dim=1) for score in prune_scores_batch.values()], dim=1)\n",
    "   prune_scores_sorted, _ = prune_scores_flat.abs().sort(dim=1, descending=True)\n",
    "   return prune_scores_sorted"
   ]
  },
  {
   "cell_type": "code",
   "execution_count": 66,
   "metadata": {},
   "outputs": [],
   "source": [
    "from typing import List\n",
    "def prune_scores_threshold_batch(ps_batch_desc: torch.Tensor, n_edges: List[int]) -> torch.Tensor:\n",
    "    assert len(n_edges) == ps_batch_desc.shape[0]\n",
    "    gathered = torch.gather(ps_batch_desc, 1, torch.tensor(n_edges).unsqueeze(0)-1).squeeze(0)\n",
    "    assert gathered.shape == (ps_batch_desc.shape[0],)\n",
    "    return gathered"
   ]
  },
  {
   "cell_type": "code",
   "execution_count": 67,
   "metadata": {},
   "outputs": [],
   "source": [
    "batch = next(iter(trainloader))\n",
    "ps_batch = {mod_name: prune_scores[mod_name][batch.key] for mod_name in prune_scores.keys()}\n",
    "ps_batch_desc = desc_prune_scores_batch(ps_batch)"
   ]
  },
  {
   "cell_type": "code",
   "execution_count": 68,
   "metadata": {},
   "outputs": [],
   "source": [
    "threshold_batch = prune_scores_threshold_batch(ps_batch_desc, n_edges_1d[batch.key])"
   ]
  },
  {
   "cell_type": "code",
   "execution_count": 69,
   "metadata": {},
   "outputs": [
    {
     "data": {
      "text/plain": [
       "tensor([True, True, True,  ..., True, True, True])"
      ]
     },
     "execution_count": 69,
     "metadata": {},
     "output_type": "execute_result"
    }
   ],
   "source": [
    "ps_batch_desc[0] > 0"
   ]
  },
  {
   "cell_type": "code",
   "execution_count": 70,
   "metadata": {},
   "outputs": [
    {
     "data": {
      "text/plain": [
       "[120, 55, 79, 64, 61]"
      ]
     },
     "execution_count": 70,
     "metadata": {},
     "output_type": "execute_result"
    }
   ],
   "source": [
    "n_edges_1d[batch.key][:5]"
   ]
  },
  {
   "cell_type": "code",
   "execution_count": 71,
   "metadata": {},
   "outputs": [
    {
     "data": {
      "text/plain": [
       "tensor(0.0080)"
      ]
     },
     "execution_count": 71,
     "metadata": {},
     "output_type": "execute_result"
    }
   ],
   "source": [
    "ps_batch_desc[0][55]"
   ]
  },
  {
   "cell_type": "code",
   "execution_count": 72,
   "metadata": {},
   "outputs": [
    {
     "data": {
      "text/plain": [
       "tensor(120)"
      ]
     },
     "execution_count": 72,
     "metadata": {},
     "output_type": "execute_result"
    }
   ],
   "source": [
    "(ps_batch_desc[0] > ps_batch_desc[0][120]).sum()"
   ]
  },
  {
   "cell_type": "code",
   "execution_count": 73,
   "metadata": {},
   "outputs": [
    {
     "data": {
      "text/plain": [
       "torch.Size([32, 2880])"
      ]
     },
     "execution_count": 73,
     "metadata": {},
     "output_type": "execute_result"
    }
   ],
   "source": [
    "ps_batch_desc.shape"
   ]
  },
  {
   "cell_type": "code",
   "execution_count": 74,
   "metadata": {},
   "outputs": [],
   "source": [
    "gathered = torch.gather(ps_batch_desc, 1, torch.tensor(n_edges_1d[batch.key]).unsqueeze(0)).squeeze(0)"
   ]
  },
  {
   "cell_type": "code",
   "execution_count": 75,
   "metadata": {},
   "outputs": [
    {
     "data": {
      "text/plain": [
       "tensor([0.0052, 0.0080, 0.0064, 0.0071, 0.0074, 0.0066, 0.0061, 0.0069, 0.0068,\n",
       "        0.0080, 0.0052, 0.0080, 0.0066, 0.0056, 0.0096, 0.0083, 0.0094, 0.0080,\n",
       "        0.0066, 0.0055, 0.0094, 0.0060, 0.0052, 0.0075, 0.0065, 0.0065, 0.0084,\n",
       "        0.0124, 0.0068, 0.0094, 0.0059, 0.0086])"
      ]
     },
     "execution_count": 75,
     "metadata": {},
     "output_type": "execute_result"
    }
   ],
   "source": [
    "gathered"
   ]
  },
  {
   "cell_type": "code",
   "execution_count": 76,
   "metadata": {},
   "outputs": [
    {
     "data": {
      "text/plain": [
       "tensor([0.0052, 0.0083, 0.0065, 0.0072, 0.0075, 0.0066, 0.0061, 0.0070, 0.0069,\n",
       "        0.0080, 0.0052, 0.0080, 0.0066, 0.0056, 0.0097, 0.0084, 0.0094, 0.0083,\n",
       "        0.0068, 0.0056, 0.0094, 0.0061, 0.0052, 0.0076, 0.0066, 0.0066, 0.0086,\n",
       "        0.0126, 0.0069, 0.0094, 0.0060, 0.0086])"
      ]
     },
     "execution_count": 76,
     "metadata": {},
     "output_type": "execute_result"
    }
   ],
   "source": [
    "threshold_batch"
   ]
  },
  {
   "cell_type": "code",
   "execution_count": 77,
   "metadata": {},
   "outputs": [],
   "source": [
    "# TODO: check patch mask - ah right we don't necesserioly expect them to match, we just expect them to match in the end"
   ]
  },
  {
   "cell_type": "code",
   "execution_count": 78,
   "metadata": {},
   "outputs": [
    {
     "name": "stderr",
     "output_type": "stream",
     "text": [
      "Pruning Batch 63: 100%|██████████| 64/64 [00:22<00:00,  2.90it/s]\n",
      "Pruning Batch 63: 100%|██████████| 64/64 [00:19<00:00,  3.21it/s]22.08s/it]\n",
      "Pruning Threshold polynomial: 100%|██████████| 2/2 [00:42<00:00, 21.01s/it]\n"
     ]
    }
   ],
   "source": [
    "from typing import Dict \n",
    "from tqdm import tqdm \n",
    "from auto_circuit.utils.ablation_activations import src_ablations\n",
    "from auto_circuit.utils.graph_utils import patch_mode, set_mask_batch_size\n",
    "from auto_circuit.utils.misc import module_by_name\n",
    "from auto_circuit.utils.tensor_ops import desc_prune_scores, prune_scores_threshold\n",
    "from auto_circuit.types import PatchType, BatchKey\n",
    "from auto_circuit.utils.patch_wrapper import PatchWrapper\n",
    "import torch as t\n",
    "\n",
    "patch_type = PatchType.TREE_PATCH\n",
    "\n",
    "circ_outs: Dict[str, Dict[BatchKey, torch.Tensor]] = {\"inter1d\": {}, \"polynomial\": {}}\n",
    "n_edges = {\"inter1d\": n_edges_1d, \"polynomial\": n_edges_poly}\n",
    "patch_edge_count = {thresh_name: 0 for thresh_name in n_edges.keys()}\n",
    "with set_mask_batch_size(model, batch_size):\n",
    "    for (thresh_name), n_edges_batch in (thresh_pbar := tqdm(n_edges.items())):\n",
    "        thresh_pbar.set_description_str(f\"Pruning Threshold {thresh_name}\", refresh=True)\n",
    "        for batch_idx, batch in enumerate(batch_pbar := tqdm(trainloader)):\n",
    "            batch_pbar.set_description_str(f\"Pruning Batch {batch_idx}\", refresh=True)\n",
    "            \n",
    "            # get patch source outs\n",
    "            patch_src_outs = src_ablations(model, batch.clean, AblationType.ZERO)\n",
    "\n",
    "            assert patch_src_outs is not None\n",
    "            # get descending scores for threshold calculation\n",
    "            ps_batch = {mod_name: prune_scores[mod_name][batch.key] for mod_name in prune_scores.keys()}\n",
    "            ps_batch_desc = desc_prune_scores_batch(ps_batch)\n",
    "            \n",
    "            with patch_mode(model, patch_src_outs):\n",
    "                threshold_batch = prune_scores_threshold_batch(ps_batch_desc, n_edges_batch[batch.key]) #TODO: index by batch key\n",
    "                # When prune_scores are tied we can't prune exactly edge_count edges\n",
    "                for mod_name, patch_mask_dict in prune_scores.items():\n",
    "                    patch_mask = patch_mask_dict[batch.key]\n",
    "                    dest = module_by_name(model, mod_name)\n",
    "                    assert isinstance(dest, PatchWrapper)\n",
    "                    assert dest.is_dest and dest.patch_mask is not None\n",
    "                    if patch_type == PatchType.EDGE_PATCH:\n",
    "                        dest.patch_mask.data = (patch_mask.abs() >= threshold_batch).float() #TODO: debug\n",
    "                        patch_edge_count[thresh_name] += dest.patch_mask.int().sum().item()\n",
    "                    else:\n",
    "                        assert patch_type == PatchType.TREE_PATCH\n",
    "                        # if dest.patch_mask.data.shape != threshold_batch.shape: \n",
    "                        #print(f\"dest.patch_mask.data.shape: {dest.patch_mask.data.shape}, threshold_batch.shape: {threshold_batch.shape}\", \"patch_mask.shape\", patch_mask.shape)\n",
    "                        dest.patch_mask.data = (patch_mask.abs() < threshold_batch.view(threshold_batch.size(0), 1, 1)).float() #TODO: debug\n",
    "                        patch_edge_count[thresh_name] += (1 - dest.patch_mask.int()).sum().item()\n",
    "                        #rint(dest.patch_mask.data.shape)\n",
    "                        #assert model.n_edges * - sum(n_edges_batch[batch.key]) == model.n_edges - patch_edge_count[thresh_name], f\"sum(n_edges_batch[batch.key]): {model.n_edges * 32 -sum(n_edges_batch[batch.key])}, patch_edge_count[thresh_name]: {patch_edge_count[thresh_name]}\"\n",
    "                with t.inference_mode(): \n",
    "                    model_output = model(batch.clean)[model.out_slice]\n",
    "                circ_outs[thresh_name][batch.key] = model_output.detach().clone()\n",
    "        del patch_src_outs"
   ]
  },
  {
   "cell_type": "code",
   "execution_count": 83,
   "metadata": {},
   "outputs": [
    {
     "data": {
      "text/plain": [
       "81.59326171875"
      ]
     },
     "execution_count": 83,
     "metadata": {},
     "output_type": "execute_result"
    }
   ],
   "source": [
    "patch_edge_count[\"inter1d\"] / 2048"
   ]
  },
  {
   "cell_type": "code",
   "execution_count": 85,
   "metadata": {},
   "outputs": [],
   "source": [
    "from elk_experiments.auto_circuit_utils import measure_kl_div"
   ]
  },
  {
   "cell_type": "code",
   "execution_count": 87,
   "metadata": {},
   "outputs": [
    {
     "data": {
      "text/plain": [
       "dict_keys(['inter1d', 'polynomial'])"
      ]
     },
     "execution_count": 87,
     "metadata": {},
     "output_type": "execute_result"
    }
   ],
   "source": [
    "circ_outs.keys()"
   ]
  },
  {
   "cell_type": "code",
   "execution_count": 89,
   "metadata": {},
   "outputs": [
    {
     "data": {
      "application/vnd.jupyter.widget-view+json": {
       "model_id": "f6ba0a8026664d03888343988a1daf54",
       "version_major": 2,
       "version_minor": 0
      },
      "text/plain": [
       "VBox(children=(          | 0/2 [00:00<?, ?it/s],))"
      ]
     },
     "metadata": {},
     "output_type": "display_data"
    }
   ],
   "source": [
    "kl_divs = measure_kl_div(model, trainloader,  circ_outs, over_vals=True)"
   ]
  },
  {
   "cell_type": "code",
   "execution_count": 97,
   "metadata": {},
   "outputs": [
    {
     "name": "stderr",
     "output_type": "stream",
     "text": [
      "100%|██████████| 64/64 [00:09<00:00,  7.00it/s]\n"
     ]
    }
   ],
   "source": [
    "model_outs: Dict[BatchKey, torch.Tensor] = {}\n",
    "with torch.inference_mode():\n",
    "    for batch_idx, batch in enumerate(tqdm(trainloader)):\n",
    "        model_outs[batch.key] = model(batch.clean)[model.out_slice].detach().clone()"
   ]
  },
  {
   "cell_type": "code",
   "execution_count": 99,
   "metadata": {},
   "outputs": [
    {
     "data": {
      "text/plain": [
       "0.2353515625"
      ]
     },
     "execution_count": 99,
     "metadata": {},
     "output_type": "execute_result"
    }
   ],
   "source": [
    "model_out_tensor = torch.cat([model_outs[batch.key] for batch in trainloader], dim=0)\n",
    "model_out_probs = torch.nn.functional.softmax(model_out_tensor, dim=1)\n",
    "acc = torch.sum(model_out_probs.argmax(dim=1) == answer).item() / len(model_out_tensor)\n",
    "acc"
   ]
  },
  {
   "cell_type": "code",
   "execution_count": 96,
   "metadata": {},
   "outputs": [
    {
     "name": "stdout",
     "output_type": "stream",
     "text": [
      "inter1d: Accuracy: 0.0029296875\n",
      "inter1d: Mean Prob: 0.0014886081917211413\n",
      "polynomial: Accuracy: 0.0048828125\n",
      "polynomial: Mean Prob: 0.0037850565277040005\n"
     ]
    }
   ],
   "source": [
    "answer = next(iter(trainloader)).answers[0]\n",
    "answer\n",
    "\n",
    "for thresh_name, circ_out in circ_outs.items():\n",
    "    circ_out_tensor = torch.concat(list(circ_out.values()), dim=0)\n",
    "    circ_out_probs = torch.nn.functional.softmax(circ_out_tensor, dim=1)\n",
    "    acc = torch.sum(circ_out_tensor.argmax(dim=1) == answer) / len(circ_out_tensor)\n",
    "    mean_prob = torch.mean(circ_out_probs[torch.arange(len(circ_out_tensor)), answer])\n",
    "    print(f\"{thresh_name}: Accuracy: {acc}\")\n",
    "    print(f\"{thresh_name}: Mean Prob: {mean_prob}\")\n",
    "\n",
    "\n"
   ]
  },
  {
   "cell_type": "code",
   "execution_count": 95,
   "metadata": {},
   "outputs": [
    {
     "data": {
      "text/plain": [
       "torch.Size([2048, 50304])"
      ]
     },
     "execution_count": 95,
     "metadata": {},
     "output_type": "execute_result"
    }
   ],
   "source": [
    "circ_out_tensor.shape"
   ]
  },
  {
   "cell_type": "markdown",
   "metadata": {},
   "source": [
    "## Box and Wiskers for All Knee Types, KL and Sparcity "
   ]
  },
  {
   "cell_type": "code",
   "execution_count": 118,
   "metadata": {},
   "outputs": [
    {
     "data": {
      "image/png": "[encoded data removed]",
      "text/plain": [
       "<Figure size 640x480 with 1 Axes>"
      ]
     },
     "metadata": {},
     "output_type": "display_data"
    },
    {
     "data": {
      "image/png": "[encoded data removed]",
      "text/plain": [
       "<Figure size 640x480 with 1 Axes>"
      ]
     },
     "metadata": {},
     "output_type": "display_data"
    }
   ],
   "source": [
    "# box and wiskers plot \n",
    "import matplotlib.pyplot as plt\n",
    "for thresh_name, _kl_div_mean, kl_divs_all in kl_divs:\n",
    "    plt.boxplot(kl_divs_all, whis=(0.5, 90))\n",
    "    plt.title(thresh_name)\n",
    "    plt.show()\n",
    "# _kl_div_mean, kl_divs_all = kl_divs[1:]\n",
    "# plt.boxplot(kl_divs_all, whis=(0.5, 99.5))"
   ]
  },
  {
   "cell_type": "markdown",
   "metadata": {},
   "source": [
    "## Compute Aggregate Circuit, Compare"
   ]
  },
  {
   "cell_type": "code",
   "execution_count": 105,
   "metadata": {},
   "outputs": [
    {
     "data": {
      "text/plain": [
       "345.65771484375"
      ]
     },
     "execution_count": 105,
     "metadata": {},
     "output_type": "execute_result"
    }
   ],
   "source": [
    "patch_edge_count['polynomial'] / 2048"
   ]
  },
  {
   "cell_type": "code",
   "execution_count": 107,
   "metadata": {},
   "outputs": [
    {
     "name": "stdout",
     "output_type": "stream",
     "text": [
      "inter1d: 82\n",
      "polynomial: 346\n"
     ]
    }
   ],
   "source": [
    "for thresh_name, edge_count in patch_edge_count.items():\n",
    "    print(f\"{thresh_name}: {math.ceil(edge_count / 2048)}\")"
   ]
  },
  {
   "cell_type": "code",
   "execution_count": 109,
   "metadata": {},
   "outputs": [
    {
     "data": {
      "application/vnd.jupyter.widget-view+json": {
       "model_id": "693c65d39b824e55ac132b77cf59aed9",
       "version_major": 2,
       "version_minor": 0
      },
      "text/plain": [
       "VBox(children=(          | 0/64 [00:00<?, ?it/s],))"
      ]
     },
     "metadata": {},
     "output_type": "display_data"
    }
   ],
   "source": [
    "from auto_circuit.prune import run_circuits\n",
    "# mean over gradients to get aggegrate prune scores\n",
    "prune_scores_mean = {mod_name: torch.mean(torch.concat(list(prune_score.values()), dim=0), dim=0) for mod_name, prune_score in prune_scores.items()}\n",
    "\n",
    "# use mean prune scores to run circuit with rounded mean sparity \n",
    "n_edges = [math.ceil(edge_count / 2048) for edge_count in patch_edge_count.values()]\n",
    "\n",
    "circ_outs_mean = run_circuits(\n",
    "    model=model,\n",
    "    dataloader=trainloader,\n",
    "    test_edge_counts=n_edges,\n",
    "    prune_scores=prune_scores_mean,\n",
    "    ablation_type=ablation_type,\n",
    "    patch_type=PatchType.TREE_PATCH,\n",
    ")"
   ]
  },
  {
   "cell_type": "code",
   "execution_count": 113,
   "metadata": {},
   "outputs": [],
   "source": [
    "circ_outs_mean = circ_out_mean"
   ]
  },
  {
   "cell_type": "code",
   "execution_count": 110,
   "metadata": {},
   "outputs": [
    {
     "data": {
      "application/vnd.jupyter.widget-view+json": {
       "model_id": "d0517dac89104e4bb111d7fb299da440",
       "version_major": 2,
       "version_minor": 0
      },
      "text/plain": [
       "VBox(children=(          | 0/2 [00:00<?, ?it/s],))"
      ]
     },
     "metadata": {},
     "output_type": "display_data"
    }
   ],
   "source": [
    "kl_divs_mean = measure_kl_div(model, trainloader, circ_out_mean, over_vals=True)"
   ]
  },
  {
   "cell_type": "code",
   "execution_count": 114,
   "metadata": {},
   "outputs": [
    {
     "name": "stdout",
     "output_type": "stream",
     "text": [
      "82: Accuracy: 0.01171875\n",
      "82: Mean Prob: 0.005164934787899256\n",
      "346: Accuracy: 0.01025390625\n",
      "346: Mean Prob: 0.005451533943414688\n"
     ]
    }
   ],
   "source": [
    "for thresh_name, circ_out in circ_outs_mean.items():\n",
    "    circ_out_tensor = torch.concat(list(circ_out.values()), dim=0)\n",
    "    circ_out_probs = torch.nn.functional.softmax(circ_out_tensor, dim=1)\n",
    "    acc = torch.sum(circ_out_tensor.argmax(dim=1) == answer) / len(circ_out_tensor)\n",
    "    mean_prob = torch.mean(circ_out_probs[torch.arange(len(circ_out_tensor)), answer])\n",
    "    print(f\"{thresh_name}: Accuracy: {acc}\")\n",
    "    print(f\"{thresh_name}: Mean Prob: {mean_prob}\")"
   ]
  },
  {
   "cell_type": "code",
   "execution_count": 117,
   "metadata": {},
   "outputs": [
    {
     "data": {
      "image/png": "[encoded data removed]",
      "text/plain": [
       "<Figure size 640x480 with 1 Axes>"
      ]
     },
     "metadata": {},
     "output_type": "display_data"
    },
    {
     "data": {
      "image/png": "[encoded data removed]",
      "text/plain": [
       "<Figure size 640x480 with 1 Axes>"
      ]
     },
     "metadata": {},
     "output_type": "display_data"
    }
   ],
   "source": [
    "import matplotlib.pyplot as plt\n",
    "for thresh_name, _kl_div_mean, kl_divs_all in kl_divs_mean:\n",
    "    plt.boxplot(kl_divs_all, whis=(0.5, 90))\n",
    "    plt.title(thresh_name)\n",
    "    plt.show()"
   ]
  },
  {
   "cell_type": "code",
   "execution_count": 123,
   "metadata": {},
   "outputs": [
    {
     "name": "stdout",
     "output_type": "stream",
     "text": [
      "thresh_name inter1d\n",
      "mean 1.1328862354746299 1.2572527267531926\n",
      "std 1.9413395215708182 2.1085655352736343\n",
      "max 12.644675254821777 13.734504699707031\n",
      "min 0.0 0.0\n",
      "range 12.644675254821777 13.734504699707031\n",
      "median 0.1664411574602127 0.18352358788251877\n",
      "thresh_name polynomial\n",
      "mean 0.7444080748110774 0.8089488332838024\n",
      "std 1.2735034312973001 1.4007915662806325\n",
      "max 8.30131721496582 9.402682304382324\n",
      "min 0.0 0.0\n",
      "range 8.30131721496582 9.402682304382324\n",
      "median 0.10230905562639236 0.11599930375814438\n"
     ]
    }
   ],
   "source": [
    "for i in range(len(kl_divs)):\n",
    "    thresh_name = kl_divs[i][0]\n",
    "    kl_divs_all = kl_divs[i][2]\n",
    "    kl_divs_mean_all = kl_divs_mean[i][2]\n",
    "    print(\"thresh_name\", thresh_name)\n",
    "    print(\"mean\", np.mean(kl_divs_mean_all), np.mean(kl_divs_all))\n",
    "    print(\"std\", np.std(kl_divs_mean_all), np.std(kl_divs_all))\n",
    "    print(\"max\", np.max(kl_divs_mean_all), np.max(kl_divs_all))\n",
    "    print(\"min\", np.min(kl_divs_mean_all), np.min(kl_divs_all))\n",
    "    print(\"range\", np.ptp(kl_divs_mean_all), np.ptp(kl_divs_all))\n",
    "    print(\"median\", np.median(kl_divs_mean_all), np.median(kl_divs_all))"
   ]
  },
  {
   "cell_type": "code",
   "execution_count": null,
   "metadata": {},
   "outputs": [],
   "source": [
    "# not sure If I'm implementing this right, also want to try \n",
    "# a. not including negative edges\n",
    "# b. using mean ablation"
   ]
  },
  {
   "cell_type": "code",
   "execution_count": null,
   "metadata": {},
   "outputs": [],
   "source": [
    "# ok I'm not sure what to do with this\n",
    "# one thing would be to investigate the anomalous examples - whether they have a higher or lawer edge count, and whether they are similar across batches \n",
    "# if the anomalous examples tend to have smaller edge counts, then we could set them to the mean, and then compute the new mean\n",
    "# eh, I guess its still a decently intererestign result - you get compareable performance when thresholding instances \n",
    "# TODO: I guess natural next step is to evaluate different faitfulness metrics - accuracy, logit difference\n",
    "# the other thing would be to compare to random pruning, say with the same mean and std"
   ]
  },
  {
   "cell_type": "markdown",
   "metadata": {},
   "source": [
    "## Learn Edge Mask with Same Sparsity for each Edge Type"
   ]
  },
  {
   "cell_type": "markdown",
   "metadata": {},
   "source": [
    "## Box and Wiskers on KL for Both"
   ]
  },
  {
   "cell_type": "markdown",
   "metadata": {},
   "source": []
  }
 ],
 "metadata": {
  "kernelspec": {
   "display_name": "elk-experiments-AZ2LBS3Q-py3.10",
   "language": "python",
   "name": "python3"
  },
  "language_info": {
   "codemirror_mode": {
    "name": "ipython",
    "version": 3
   },
   "file_extension": ".py",
   "mimetype": "text/x-python",
   "name": "python",
   "nbconvert_exporter": "python",
   "pygments_lexer": "ipython3",
   "version": "3.10.14"
  }
 },
 "nbformat": 4,
 "nbformat_minor": 2
}
