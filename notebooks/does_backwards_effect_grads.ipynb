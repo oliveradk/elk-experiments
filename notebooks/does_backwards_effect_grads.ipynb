{
 "cells": [
  {
   "cell_type": "code",
   "execution_count": 1,
   "metadata": {},
   "outputs": [],
   "source": [
    "import torch\n",
    "import torch.nn as nn\n",
    "\n",
    "# Set up a simple model\n",
    "class SimpleModel(nn.Module):\n",
    "    def __init__(self):\n",
    "        super().__init__()\n",
    "        self.linear = nn.Linear(2, 2)\n",
    "    \n",
    "    def forward(self, x):\n",
    "        return self.linear(x)\n",
    "\n",
    "# Initialize model and input\n",
    "model = SimpleModel()\n",
    "x = torch.tensor([[0.0, -3.0], [-1, -2], [1.0, 2.0]], requires_grad=True)\n",
    "\n",
    "model.zero_grad()\n",
    "output1 = model(x)\n",
    "output1.backward(torch.ones_like(output1))\n",
    "grad = model.linear.weight.grad.clone()\n",
    "assert x.shape[0] == grad.shape[0] # False"
   ]
  },
  {
   "cell_type": "code",
   "execution_count": 6,
   "metadata": {},
   "outputs": [],
   "source": [
    "# First approach: using torch.ones_like\n",
    "model.zero_grad()\n",
    "output1 = model(x)\n",
    "output1.backward(torch.ones_like(output1))\n",
    "grad = x.grad.clone()\n",
    "assert x.shape[0] == grad1.shape[0]"
   ]
  },
  {
   "cell_type": "code",
   "execution_count": 7,
   "metadata": {},
   "outputs": [
    {
     "ename": "AssertionError",
     "evalue": "",
     "output_type": "error",
     "traceback": [
      "\u001b[0;31m---------------------------------------------------------------------------\u001b[0m",
      "\u001b[0;31mAssertionError\u001b[0m                            Traceback (most recent call last)",
      "Cell \u001b[0;32mIn[7], line 6\u001b[0m\n\u001b[1;32m      4\u001b[0m output1\u001b[38;5;241m.\u001b[39mbackward(torch\u001b[38;5;241m.\u001b[39mones_like(output1))\n\u001b[1;32m      5\u001b[0m grad1 \u001b[38;5;241m=\u001b[39m model\u001b[38;5;241m.\u001b[39mlinear\u001b[38;5;241m.\u001b[39mweight\u001b[38;5;241m.\u001b[39mgrad\u001b[38;5;241m.\u001b[39mclone()\n\u001b[0;32m----> 6\u001b[0m \u001b[38;5;28;01massert\u001b[39;00m x\u001b[38;5;241m.\u001b[39mshape[\u001b[38;5;241m0\u001b[39m] \u001b[38;5;241m==\u001b[39m grad1\u001b[38;5;241m.\u001b[39mshape[\u001b[38;5;241m0\u001b[39m]\n",
      "\u001b[0;31mAssertionError\u001b[0m: "
     ]
    }
   ],
   "source": [
    "# \n",
    "model.zero_grad()\n",
    "output1 = model(x)\n",
    "output1.backward(torch.ones_like(output1))\n",
    "grad1 = model.linear.weight.grad.clone()\n",
    "assert x.shape[0] == grad1.shape[0]"
   ]
  },
  {
   "cell_type": "code",
   "execution_count": 4,
   "metadata": {},
   "outputs": [
    {
     "data": {
      "text/plain": [
       "(torch.Size([3, 2]),\n",
       " torch.Size([3, 2]),\n",
       " torch.Size([3, 2]),\n",
       " torch.Size([2, 2]))"
      ]
     },
     "execution_count": 4,
     "metadata": {},
     "output_type": "execute_result"
    }
   ],
   "source": [
    "x.shape, output1.shape, grad1.shape, model.linear.weight.grad.shape"
   ]
  },
  {
   "cell_type": "code",
   "execution_count": null,
   "metadata": {},
   "outputs": [],
   "source": []
  },
  {
   "cell_type": "code",
   "execution_count": 14,
   "metadata": {},
   "outputs": [],
   "source": [
    "# Reset gradients\n",
    "x.grad.zero_()\n",
    "model.zero_grad()\n",
    "\n",
    "# Second approach: summing across output\n",
    "output2 = model(x)\n",
    "output2.sum().backward()\n",
    "grad2 = x.grad.clone()"
   ]
  },
  {
   "cell_type": "code",
   "execution_count": 15,
   "metadata": {},
   "outputs": [
    {
     "name": "stdout",
     "output_type": "stream",
     "text": [
      "Output shape: torch.Size([3, 2])\n",
      "Gradient using torch.ones_like(): tensor([[ 0.1794, -0.0231],\n",
      "        [ 0.1794, -0.0231],\n",
      "        [ 0.1794, -0.0231]])\n",
      "Gradient using sum(): tensor([[ 0.1794, -0.0231],\n",
      "        [ 0.1794, -0.0231],\n",
      "        [ 0.1794, -0.0231]])\n",
      "Are gradients equal? True\n"
     ]
    }
   ],
   "source": [
    "\n",
    "# Print results\n",
    "print(\"Output shape:\", output1.shape)\n",
    "print(\"Gradient using torch.ones_like():\", grad1)\n",
    "print(\"Gradient using sum():\", grad2)\n",
    "print(\"Are gradients equal?\", torch.allclose(grad1, grad2))"
   ]
  }
 ],
 "metadata": {
  "kernelspec": {
   "display_name": "elk-experiments-AZ2LBS3Q-py3.10",
   "language": "python",
   "name": "python3"
  },
  "language_info": {
   "codemirror_mode": {
    "name": "ipython",
    "version": 3
   },
   "file_extension": ".py",
   "mimetype": "text/x-python",
   "name": "python",
   "nbconvert_exporter": "python",
   "pygments_lexer": "ipython3",
   "version": "3.10.14"
  }
 },
 "nbformat": 4,
 "nbformat_minor": 2
}
