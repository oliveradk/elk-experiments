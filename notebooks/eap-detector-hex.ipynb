{
 "cells": [
  {
   "cell_type": "code",
   "execution_count": 1,
   "metadata": {},
   "outputs": [],
   "source": [
    "import os\n",
    "from pathlib import Path\n",
    "os.chdir(\"/Users/oliverdaniels-koch/projects/elk-experiments\")\n",
    "out_dir = Path(\"output\")"
   ]
  },
  {
   "cell_type": "markdown",
   "metadata": {},
   "source": [
    "# Edge Attribution Patching Detector"
   ]
  },
  {
   "cell_type": "code",
   "execution_count": 2,
   "metadata": {},
   "outputs": [],
   "source": [
    "import os\n",
    "from pathlib import Path\n",
    "import torch\n",
    "from cupbearer import tasks, detectors, scripts, utils\n",
    "from cupbearer.detectors import ActivationCache\n",
    "from elk_experiments.utils import train_detector_cache"
   ]
  },
  {
   "cell_type": "markdown",
   "metadata": {},
   "source": [
    "## Load Task"
   ]
  },
  {
   "cell_type": "code",
   "execution_count": 3,
   "metadata": {},
   "outputs": [
    {
     "name": "stdout",
     "output_type": "stream",
     "text": [
      "Loaded pretrained model attn-only-1l into HookedTransformer\n",
      "Moving model to device:  mps\n"
     ]
    },
    {
     "name": "stderr",
     "output_type": "stream",
     "text": [
      "/Users/oliverdaniels-koch/Library/Caches/pypoetry/virtualenvs/elk-experiments-AZ2LBS3Q-py3.10/lib/python3.10/site-packages/huggingface_hub/file_download.py:1132: FutureWarning: `resume_download` is deprecated and will be removed in version 1.0.0. Downloads always resume when possible. If you want to force a new download, use `force_download=True`.\n",
      "  warnings.warn(\n",
      "Special tokens have been added in the vocabulary, make sure the associated word embeddings are fine-tuned or trained.\n"
     ]
    },
    {
     "name": "stdout",
     "output_type": "stream",
     "text": [
      "Loaded pretrained model pythia-70m into HookedTransformer\n",
      "Moving model to device:  mps\n"
     ]
    }
   ],
   "source": [
    "task = tasks.tiny_natural_mechanisms(\"hex\", \"mps\", \"pythia-70m\")"
   ]
  },
  {
   "cell_type": "code",
   "execution_count": 4,
   "metadata": {},
   "outputs": [],
   "source": [
    "from cupbearer.tasks.tiny_natural_mechanisms import TinyNaturalMechanismsDataset\n",
    "def get_task_subset(task, train_subset, normal_test_subset, anomalous_test_subset):\n",
    "    train_data = task.trusted_data.data[:train_subset]\n",
    "    normal_test_data = task.test_data.normal_data.data[:normal_test_subset]\n",
    "    anomalous_test_data = task.test_data.anomalous_data.data[:anomalous_test_subset]\n",
    "    return tasks.Task.from_separate_data(\n",
    "        model=task.model, \n",
    "        trusted_data=TinyNaturalMechanismsDataset(train_data),\n",
    "        clean_test_data=TinyNaturalMechanismsDataset(normal_test_data), \n",
    "        anomalous_test_data=TinyNaturalMechanismsDataset(anomalous_test_data)\n",
    "    )"
   ]
  },
  {
   "cell_type": "markdown",
   "metadata": {},
   "source": [
    "## Mahanobis Baseline"
   ]
  },
  {
   "cell_type": "code",
   "execution_count": 5,
   "metadata": {},
   "outputs": [],
   "source": [
    "save_path = out_dir / \"pythia-70m-hex-atten-out-mahalanobis-detector\"\n",
    "cache_path = (save_path / \"activation_cache\").with_suffix(utils.SUFFIX)\n",
    "if os.path.exists(cache_path):\n",
    "    cache = ActivationCache.load(cache_path)\n",
    "else:\n",
    "    cache = ActivationCache()"
   ]
  },
  {
   "cell_type": "code",
   "execution_count": 6,
   "metadata": {},
   "outputs": [],
   "source": [
    "# run malanabois on final layer final token\n",
    "def get_activation_at_last_token(\n",
    "    activation: torch.Tensor, inputs: list[list[int]], name: str\n",
    "):\n",
    "    if activation.ndim == 3:\n",
    "        # Residual stream or equivalent, shape is (batch, seq, hidden)\n",
    "        return activation[:, -1, :]\n",
    "    elif activation.ndim == 4 and activation.shape[-1] == activation.shape[-2]:\n",
    "        # Attention, shape is (batch, num_heads, query, key)\n",
    "        # TODO: this could also be Q/K/V if n_heads happens to be head_dim\n",
    "        return activation[:, :, -1, :].reshape(activation.shape[0], -1)\n",
    "    elif activation.ndim == 4:\n",
    "        # Query/key/value, shape is (batch, seq, num_heads, hidden)\n",
    "        return activation[:, -1, :, :].reshape(activation.shape[0], -1)\n",
    "    else:\n",
    "        raise ValueError(f\"Unexpected activation shape: {activation.shape}\")"
   ]
  },
  {
   "cell_type": "code",
   "execution_count": 7,
   "metadata": {},
   "outputs": [],
   "source": [
    "names = [\n",
    "    # \"hook_embed.output\",\n",
    "    # \"blocks.0.hook_attn_out.output\",\n",
    "    \"blocks.1.hook_attn_out.output\",\n",
    "    \"blocks.2.hook_attn_out.output\",\n",
    "    \"blocks.3.hook_attn_out.output\",\n",
    "    # \"blocks.4.hook_resid_post.output\"\n",
    "    \"blocks.4.hook_attn_out.output\",\n",
    "    # \"blocks.5.hook_attn_out.output\"\n",
    "]\n",
    "\n",
    "detector = detectors.MahalanobisDetector(\n",
    "    names, layer_aggregation=\"mean\", cache=cache, activation_processing_func=get_activation_at_last_token\n",
    ")"
   ]
  },
  {
   "cell_type": "code",
   "execution_count": 8,
   "metadata": {},
   "outputs": [
    {
     "name": "stderr",
     "output_type": "stream",
     "text": [
      "\u001b[32m2024-06-28 13:52:58.887\u001b[0m | \u001b[1mINFO    \u001b[0m | \u001b[36mcupbearer.detectors.anomaly_detector\u001b[0m:\u001b[36mload_weights\u001b[0m:\u001b[36m261\u001b[0m - \u001b[1mLoading detector from output/pythia-70m-hex-atten-out-mahalanobis-detector/detector.pth\u001b[0m\n",
      "huggingface/tokenizers: The current process just got forked, after parallelism has already been used. Disabling parallelism to avoid deadlocks...\n",
      "To disable this warning, you can either:\n",
      "\t- Avoid using `tokenizers` before the fork if possible\n",
      "\t- Explicitly set the environment variable TOKENIZERS_PARALLELISM=(true | false)\n"
     ]
    },
    {
     "data": {
      "application/vnd.jupyter.widget-view+json": {
       "model_id": "e076dc6efab3413db0333a9bcfc9b6e1",
       "version_major": 2,
       "version_minor": 0
      },
      "text/plain": [
       "Evaluating:   0%|          | 0/32 [00:00<?, ?it/s]"
      ]
     },
     "metadata": {},
     "output_type": "display_data"
    },
    {
     "name": "stderr",
     "output_type": "stream",
     "text": [
      "\u001b[32m2024-06-28 13:52:59.394\u001b[0m | \u001b[1mINFO    \u001b[0m | \u001b[36mcupbearer.detectors.anomaly_detector\u001b[0m:\u001b[36meval\u001b[0m:\u001b[36m152\u001b[0m - \u001b[1mAUC_ROC (all): 0.9008\u001b[0m\n",
      "\u001b[32m2024-06-28 13:52:59.394\u001b[0m | \u001b[1mINFO    \u001b[0m | \u001b[36mcupbearer.detectors.anomaly_detector\u001b[0m:\u001b[36meval\u001b[0m:\u001b[36m153\u001b[0m - \u001b[1mAP (all): 0.8555\u001b[0m\n"
     ]
    },
    {
     "data": {
      "text/plain": [
       "(defaultdict(dict,\n",
       "             {'all': {'AUC_ROC': 0.9008159637451172,\n",
       "               'AP': 0.8554785483428201}}),\n",
       " {'all': <Figure size 640x480 with 1 Axes>})"
      ]
     },
     "execution_count": 8,
     "metadata": {},
     "output_type": "execute_result"
    },
    {
     "data": {
      "image/png": "[encoded data removed]",
      "text/plain": [
       "<Figure size 640x480 with 1 Axes>"
      ]
     },
     "metadata": {},
     "output_type": "display_data"
    }
   ],
   "source": [
    "train_detector_cache(save_path, detector, task, batch_size=64, eval_batch_size=64, \n",
    "                     cache=cache, cache_path=cache_path, overwrite=False, overwrite_cache=False,run_eval_from_cached=True)"
   ]
  },
  {
   "cell_type": "markdown",
   "metadata": {},
   "source": [
    "## Edge Attribution Abstract Detector"
   ]
  },
  {
   "cell_type": "code",
   "execution_count": 9,
   "metadata": {},
   "outputs": [],
   "source": [
    "from eap.eap_wrapper import EAP"
   ]
  },
  {
   "cell_type": "code",
   "execution_count": 10,
   "metadata": {},
   "outputs": [],
   "source": [
    "# TODO: look back at edge attribution example\n",
    "task.model.set_use_split_qkv_input(True)\n",
    "task.model.set_use_attn_result(True)\n",
    "task.model.set_use_hook_mlp_in(True)"
   ]
  },
  {
   "cell_type": "code",
   "execution_count": 11,
   "metadata": {},
   "outputs": [],
   "source": [
    "# use mean probability over effect tokens as metric \n",
    "def effect_prob_func(logits, effect_tokens):\n",
    "    assert logits.ndim == 3\n",
    "    # Sum over vocab and batch dim (for now we're just computing attribution values, we'll deal with per data instance later)\n",
    "    probs = logits[:, -1, :].softmax(dim=-1)\n",
    "    out = probs[:, effect_tokens].mean(dim=-1).mean() # mean over effect tokens, mean over batch\n",
    "    # out = logits[:, -1, effect_tokens].mean()\n",
    "    return out"
   ]
  },
  {
   "cell_type": "code",
   "execution_count": 12,
   "metadata": {},
   "outputs": [],
   "source": [
    "from cupbearer.tasks.tiny_natural_mechanisms import get_effect_tokens\n",
    "effect_tokens = get_effect_tokens(\"hex\", task.model)"
   ]
  },
  {
   "cell_type": "code",
   "execution_count": 13,
   "metadata": {},
   "outputs": [],
   "source": [
    "def not_first_layer(edge):\n",
    "    return \"0\" != edge.split(\".\")[1]"
   ]
  },
  {
   "cell_type": "code",
   "execution_count": 14,
   "metadata": {},
   "outputs": [],
   "source": [
    "#TODO: put in EAPGraph\n",
    "def get_edge_scores_filter_indices(edge_filter, graph):\n",
    "    valid_upstream_idxs = [i for (i, node) in enumerate(graph.upstream_nodes) if edge_filter(node)]\n",
    "    valid_downstream_idxs = [i for (i, node) in enumerate(graph.downstream_nodes) if edge_filter(node)]\n",
    "    uu, dd = torch.meshgrid(torch.tensor(valid_upstream_idxs), torch.tensor(valid_downstream_idxs), indexing='ij')\n",
    "    return uu, dd"
   ]
  },
  {
   "cell_type": "code",
   "execution_count": 15,
   "metadata": {},
   "outputs": [],
   "source": [
    "from abc import ABC\n",
    "from functools import partial\n",
    "from torch import Tensor\n",
    "from cupbearer.detectors.statistical import StatisticalDetector, MahalanobisDetector\n",
    "from eap.eap_wrapper import EAP_clean_forward_hook, EAP_clean_backward_hook\n",
    "from eap.eap_graph import EAPGraph\n",
    "\n",
    "from transformer_lens import HookedTransformer\n",
    "\n",
    "class EAPDetector(StatisticalDetector, ABC):\n",
    "\n",
    "    EAP_SCORES_NAME = \"eap_scores\"\n",
    "    \n",
    "    def __init__(\n",
    "          self, \n",
    "          effect_prob_func, \n",
    "          upstream_nodes=[\"head\", \"mlp\"], \n",
    "          downstream_nodes=[\"head\", \"mlp\"],\n",
    "          edge_filter=lambda x : True,\n",
    "          seq_len=16, # would ideally pass on train and eval, but don't want to change script (shrug)\n",
    "          **kwargs\n",
    "    ):\n",
    "        self.effect_prob_func = effect_prob_func\n",
    "        self.upstream_nodes = upstream_nodes\n",
    "        self.downstream_nodes = downstream_nodes\n",
    "        self.edge_filter = edge_filter\n",
    "        self.seq_len = seq_len \n",
    "        self.trusted_graph = None \n",
    "        self.untrusted_graphs = []\n",
    "        super().__init__(\n",
    "            activation_names=[self.EAP_SCORES_NAME], \n",
    "            activation_processing_func=lambda x: x,\n",
    "            **kwargs\n",
    "        )\n",
    "    \n",
    "    def set_model(self, model: HookedTransformer):\n",
    "        super().set_model(model)\n",
    "        self.graph = EAPGraph(model.cfg, self.upstream_nodes, self.downstream_nodes, aggregate_batch=False, verbose=False)\n",
    "        self.uu, self.dd = get_edge_scores_filter_indices(self.edge_filter, self.graph)\n",
    "    \n",
    "    def _set_hooks(self, batch_size, seq_len):\n",
    "        # import ipdb; ipdb.set_trace()\n",
    "        self.upstream_activations_difference = torch.zeros(\n",
    "            (batch_size, seq_len, self.graph.n_upstream_nodes, self.model.cfg.d_model),\n",
    "            device=self.model.cfg.device,\n",
    "            dtype=self.model.cfg.dtype,\n",
    "            requires_grad=False\n",
    "        )\n",
    "\n",
    "        # set the EAP scores to zero\n",
    "        self.graph.reset_scores(batch_size)\n",
    "\n",
    "        self.upstream_hook_filter = lambda name: name.endswith(tuple(self.graph.upstream_hooks))\n",
    "        self.downstream_hook_filter = lambda name: name.endswith(tuple(self.graph.downstream_hooks))\n",
    "\n",
    "        self.clean_upstream_hook_fn = partial(\n",
    "            EAP_clean_forward_hook,\n",
    "            upstream_activations_difference=self.upstream_activations_difference,\n",
    "            graph=self.graph\n",
    "        )\n",
    "\n",
    "        self.clean_downstream_hook_fn = partial(\n",
    "            EAP_clean_backward_hook,\n",
    "            upstream_activations_difference=self.upstream_activations_difference,\n",
    "            graph=self.graph, \n",
    "            aggregate_batch=False\n",
    "        )\n",
    "\n",
    "    def _get_activations_no_cache(self, inputs) -> dict[str, Tensor]:\n",
    "        with torch.enable_grad():\n",
    "            inputs = utils.inputs_to_device(inputs, self.model.cfg.device)\n",
    "            batch_size, seq_len = inputs.shape[:2]\n",
    "            self.model.reset_hooks()\n",
    "            self._set_hooks(batch_size, seq_len=seq_len)\n",
    "            #TODO: add support for corrupted tokens\n",
    "            self.model.add_hook(self.upstream_hook_filter, self.clean_upstream_hook_fn, \"fwd\")\n",
    "            self.model.add_hook(self.downstream_hook_filter, self.clean_downstream_hook_fn, \"bwd\")\n",
    "\n",
    "            value = self.effect_prob_func(self.model(inputs, return_type=\"logits\"))\n",
    "            value.backward()\n",
    "\n",
    "            self.model.zero_grad()\n",
    "            self.upstream_activations_difference *= 0\n",
    "            return {self.EAP_SCORES_NAME: self.graph.eap_scores[:, self.uu, self.dd]}"
   ]
  },
  {
   "cell_type": "code",
   "execution_count": 16,
   "metadata": {},
   "outputs": [],
   "source": [
    "class EAPMahalanobisDetector(EAPDetector, MahalanobisDetector):\n",
    "    pass"
   ]
  },
  {
   "cell_type": "code",
   "execution_count": 17,
   "metadata": {},
   "outputs": [],
   "source": [
    "from cupbearer.detectors import ActivationCache"
   ]
  },
  {
   "cell_type": "code",
   "execution_count": 18,
   "metadata": {},
   "outputs": [],
   "source": [
    "save_path = Path(\"output/pythia-70m-hex-filtered-eap-detector\")"
   ]
  },
  {
   "cell_type": "code",
   "execution_count": 19,
   "metadata": {},
   "outputs": [],
   "source": [
    "cache_path = Path(save_path / \"activation_cache\").with_suffix(utils.SUFFIX)\n",
    "if os.path.exists(cache_path):\n",
    "    eap_cache = ActivationCache.load(cache_path)\n",
    "else:\n",
    "    eap_cache = ActivationCache()"
   ]
  },
  {
   "cell_type": "code",
   "execution_count": 20,
   "metadata": {},
   "outputs": [],
   "source": [
    "detector = EAPMahalanobisDetector(\n",
    "    effect_prob_func=partial(effect_prob_func, effect_tokens=effect_tokens),\n",
    "    upstream_nodes=[\"head\", \"mlp\"],\n",
    "    downstream_nodes=[\"head\", \"mlp\"],\n",
    "    edge_filter=lambda x: True,#not_first_layer,\n",
    "    seq_len=16,\n",
    "    layer_aggregation=\"mean\", \n",
    "    cache=eap_cache\n",
    ")"
   ]
  },
  {
   "cell_type": "code",
   "execution_count": 21,
   "metadata": {},
   "outputs": [
    {
     "name": "stderr",
     "output_type": "stream",
     "text": [
      "/Users/oliverdaniels-koch/Library/Caches/pypoetry/virtualenvs/elk-experiments-AZ2LBS3Q-py3.10/lib/python3.10/site-packages/torch/nn/modules/module.py:1344: UserWarning: Using a non-full backward hook when the forward contains multiple autograd Nodes is deprecated and will be removed in future versions. This hook will be missing some grad_input. Please use register_full_backward_hook to get the documented behavior.\n",
      "  warnings.warn(\"Using a non-full backward hook when the forward contains multiple autograd Nodes \"\n",
      "\u001b[32m2024-06-28 13:53:05.503\u001b[0m | \u001b[34m\u001b[1mDEBUG   \u001b[0m | \u001b[36mcupbearer.detectors.statistical.statistical\u001b[0m:\u001b[36minit_variables\u001b[0m:\u001b[36m77\u001b[0m - \u001b[34m\u001b[1mReceived multi-dimensional activations, will only learn covariances along last dimension and treat others independently. If this is unintentional, pass `activation_preprocessing_func=utils.flatten_last`.\u001b[0m\n",
      "\u001b[32m2024-06-28 13:53:05.504\u001b[0m | \u001b[34m\u001b[1mDEBUG   \u001b[0m | \u001b[36mcupbearer.detectors.statistical.statistical\u001b[0m:\u001b[36minit_variables\u001b[0m:\u001b[36m83\u001b[0m - \u001b[34m\u001b[1mActivation sizes: \n",
      "eap_scores: torch.Size([54, 150])\u001b[0m\n",
      "  4%|▍         | 11/256 [00:50<19:50,  4.86s/it]"
     ]
    }
   ],
   "source": [
    "train_detector_cache(\n",
    "    save_path, detector, task, batch_size=64, eval_batch_size=64, cache=eap_cache, \n",
    "    cache_path=cache_path, overwrite=True, overwrite_cache=True, inference_mode=False\n",
    ")"
   ]
  }
 ],
 "metadata": {
  "kernelspec": {
   "display_name": "elk-experiments-AZ2LBS3Q-py3.10",
   "language": "python",
   "name": "python3"
  },
  "language_info": {
   "codemirror_mode": {
    "name": "ipython",
    "version": 3
   },
   "file_extension": ".py",
   "mimetype": "text/x-python",
   "name": "python",
   "nbconvert_exporter": "python",
   "pygments_lexer": "ipython3",
   "version": "3.10.14"
  }
 },
 "nbformat": 4,
 "nbformat_minor": 2
}
