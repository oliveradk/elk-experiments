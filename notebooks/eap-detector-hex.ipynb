{
 "cells": [
  {
   "cell_type": "code",
   "execution_count": 1,
   "metadata": {},
   "outputs": [],
   "source": [
    "import os\n",
    "from pathlib import Path\n",
    "os.chdir(\"/Users/oliverdaniels-koch/projects/elk-experiments\")\n",
    "out_dir = Path(\"output\")\n",
    "device = \"mps\""
   ]
  },
  {
   "cell_type": "code",
   "execution_count": 2,
   "metadata": {},
   "outputs": [],
   "source": [
    "os.environ[\"PYTORCH_ENABLE_MPS_FALLBACK\"] = \"1\""
   ]
  },
  {
   "cell_type": "code",
   "execution_count": 3,
   "metadata": {},
   "outputs": [],
   "source": [
    "from torch import mps\n",
    "def cur_allocated_memory():\n",
    "    allocated = mps.current_allocated_memory()\n",
    "    print(f\"Currently allocated: {allocated / 1024**2:.2f} MB\")"
   ]
  },
  {
   "cell_type": "code",
   "execution_count": 14,
   "metadata": {},
   "outputs": [],
   "source": [
    "import os\n",
    "from functools import partial\n",
    "from pathlib import Path\n",
    "import torch\n",
    "from cupbearer import tasks, detectors, scripts, utils\n",
    "from cupbearer.detectors import ActivationCache\n",
    "from cupbearer.detectors.statistical import MahalanobisDetector\n",
    "from cupbearer.tasks.tiny_natural_mechanisms import get_effect_tokens\n",
    "from elk_experiments.utils import train_detector_cache, get_activation_at_last_token\n",
    "from elk_experiments.tiny_natural_mechanisms_utils import get_task_subset\n",
    "from elk_experiments.eap_detector import EAPDetector, layer_edge_filter, set_model_hooks, effect_prob_func"
   ]
  },
  {
   "cell_type": "code",
   "execution_count": 9,
   "metadata": {},
   "outputs": [
    {
     "name": "stdout",
     "output_type": "stream",
     "text": [
      "Loaded pretrained model attn-only-1l into HookedTransformer\n",
      "Moving model to device:  mps\n"
     ]
    },
    {
     "name": "stderr",
     "output_type": "stream",
     "text": [
      "/Users/oliverdaniels-koch/Library/Caches/pypoetry/virtualenvs/elk-experiments-AZ2LBS3Q-py3.10/lib/python3.10/site-packages/huggingface_hub/file_download.py:1132: FutureWarning: `resume_download` is deprecated and will be removed in version 1.0.0. Downloads always resume when possible. If you want to force a new download, use `force_download=True`.\n",
      "  warnings.warn(\n",
      "Special tokens have been added in the vocabulary, make sure the associated word embeddings are fine-tuned or trained.\n"
     ]
    },
    {
     "name": "stdout",
     "output_type": "stream",
     "text": [
      "Loaded pretrained model pythia-70m into HookedTransformer\n",
      "Moving model to device:  mps\n"
     ]
    }
   ],
   "source": [
    "task_name = \"ifelse\"\n",
    "model_name = \"pythia-70m\"\n",
    "task = tasks.tiny_natural_mechanisms(\"hex\", device, \"pythia-70m\")\n",
    "set_model_hooks(task.model)"
   ]
  },
  {
   "cell_type": "code",
   "execution_count": 10,
   "metadata": {},
   "outputs": [],
   "source": [
    "small_task = get_task_subset(task, 2048, 1024, 1024)"
   ]
  },
  {
   "cell_type": "code",
   "execution_count": 11,
   "metadata": {},
   "outputs": [],
   "source": [
    "exp_dir = out_dir / \"eap_detector\""
   ]
  },
  {
   "cell_type": "code",
   "execution_count": 15,
   "metadata": {},
   "outputs": [],
   "source": [
    "effect_tokens = get_effect_tokens(task_name, task.model)"
   ]
  },
  {
   "cell_type": "markdown",
   "metadata": {},
   "source": [
    "# Edge Attribution Detector"
   ]
  },
  {
   "cell_type": "code",
   "execution_count": 38,
   "metadata": {},
   "outputs": [],
   "source": [
    "nodes = [\"head\", \"mlp\"]\n",
    "excluded_layers = set()"
   ]
  },
  {
   "cell_type": "code",
   "execution_count": 39,
   "metadata": {},
   "outputs": [
    {
     "data": {
      "text/plain": [
       "PosixPath('output/eap_detector/ifelse_pythia-70m_head_mlp_')"
      ]
     },
     "execution_count": 39,
     "metadata": {},
     "output_type": "execute_result"
    }
   ],
   "source": [
    "detector_dir = exp_dir / f\"{task_name}_{model_name}_{'_'.join(nodes)}_{'_'.join([str(l) for l in excluded_layers])}\"\n",
    "detector_dir"
   ]
  },
  {
   "cell_type": "code",
   "execution_count": 44,
   "metadata": {},
   "outputs": [],
   "source": [
    "cache = ActivationCache(device=device)\n"
   ]
  },
  {
   "cell_type": "code",
   "execution_count": 45,
   "metadata": {},
   "outputs": [],
   "source": [
    "class EAPMahalanobisDetector(EAPDetector, MahalanobisDetector):\n",
    "    pass"
   ]
  },
  {
   "cell_type": "code",
   "execution_count": 46,
   "metadata": {},
   "outputs": [],
   "source": [
    "detector = EAPMahalanobisDetector(\n",
    "    effect_prob_func=partial(effect_prob_func, effect_tokens=effect_tokens),\n",
    "    upstream_nodes=nodes,\n",
    "    downstream_nodes=nodes,\n",
    "    edge_filter=partial(layer_edge_filter, excluded_layers=excluded_layers),\n",
    "    layer_aggregation=\"mean\", \n",
    "    cache=cache\n",
    ")"
   ]
  },
  {
   "cell_type": "code",
   "execution_count": 47,
   "metadata": {},
   "outputs": [
    {
     "name": "stderr",
     "output_type": "stream",
     "text": [
      "/Users/oliverdaniels-koch/Library/Caches/pypoetry/virtualenvs/elk-experiments-AZ2LBS3Q-py3.10/lib/python3.10/site-packages/torch/nn/modules/module.py:1344: UserWarning: Using a non-full backward hook when the forward contains multiple autograd Nodes is deprecated and will be removed in future versions. This hook will be missing some grad_input. Please use register_full_backward_hook to get the documented behavior.\n",
      "  warnings.warn(\"Using a non-full backward hook when the forward contains multiple autograd Nodes \"\n",
      "\u001b[32m2024-07-03 16:02:40.536\u001b[0m | \u001b[34m\u001b[1mDEBUG   \u001b[0m | \u001b[36mcupbearer.detectors.statistical.statistical\u001b[0m:\u001b[36minit_variables\u001b[0m:\u001b[36m83\u001b[0m - \u001b[34m\u001b[1mActivation sizes: \n",
      "eap_scores: torch.Size([4725])\u001b[0m\n",
      "huggingface/tokenizers: The current process just got forked, after parallelism has already been used. Disabling parallelism to avoid deadlocks...\n",
      "To disable this warning, you can either:\n",
      "\t- Avoid using `tokenizers` before the fork if possible\n",
      "\t- Explicitly set the environment variable TOKENIZERS_PARALLELISM=(true | false)\n",
      "100%|██████████| 32/32 [02:27<00:00,  4.61s/it]\n",
      "\u001b[32m2024-07-03 16:05:26.495\u001b[0m | \u001b[1mINFO    \u001b[0m | \u001b[36mcupbearer.detectors.anomaly_detector\u001b[0m:\u001b[36msave_weights\u001b[0m:\u001b[36m257\u001b[0m - \u001b[1mSaving detector to output/eap_detector/ifelse_pythia-70m_head_mlp_/detector\u001b[0m\n"
     ]
    },
    {
     "data": {
      "application/vnd.jupyter.widget-view+json": {
       "model_id": "b04e16f597414392b4a313395297d298",
       "version_major": 2,
       "version_minor": 0
      },
      "text/plain": [
       "Evaluating:   0%|          | 0/32 [00:00<?, ?it/s]"
      ]
     },
     "metadata": {},
     "output_type": "display_data"
    },
    {
     "name": "stderr",
     "output_type": "stream",
     "text": [
      "\u001b[32m2024-07-03 16:08:02.428\u001b[0m | \u001b[1mINFO    \u001b[0m | \u001b[36mcupbearer.detectors.anomaly_detector\u001b[0m:\u001b[36meval\u001b[0m:\u001b[36m152\u001b[0m - \u001b[1mAUC_ROC (all): 0.6534\u001b[0m\n",
      "\u001b[32m2024-07-03 16:08:02.430\u001b[0m | \u001b[1mINFO    \u001b[0m | \u001b[36mcupbearer.detectors.anomaly_detector\u001b[0m:\u001b[36meval\u001b[0m:\u001b[36m153\u001b[0m - \u001b[1mAP (all): 0.6512\u001b[0m\n"
     ]
    },
    {
     "data": {
      "text/plain": [
       "(defaultdict(dict,\n",
       "             {'all': {'AUC_ROC': 0.6534080505371094,\n",
       "               'AP': 0.6511935132041133}}),\n",
       " {'all': <Figure size 640x480 with 1 Axes>})"
      ]
     },
     "execution_count": 47,
     "metadata": {},
     "output_type": "execute_result"
    },
    {
     "data": {
      "image/png": "[encoded data removed]",
      "text/plain": [
       "<Figure size 640x480 with 1 Axes>"
      ]
     },
     "metadata": {},
     "output_type": "display_data"
    }
   ],
   "source": [
    "train_detector_cache(\n",
    "    detector_dir, \n",
    "    detector, \n",
    "    small_task, \n",
    "    batch_size=64, \n",
    "    eval_batch_size=64, \n",
    "    cache=cache, \n",
    "    overwrite=True, \n",
    ")"
   ]
  },
  {
   "cell_type": "code",
   "execution_count": null,
   "metadata": {},
   "outputs": [],
   "source": [
    "# reasons why covariance matrix would be bad\n",
    "# say you had two primary mechanisms for next token alphanumeric \n",
    "# 1. uses atten0.0 -> atten2.1 \n",
    "# 2 uses atten0.5 -> atten2.1\n",
    "\n",
    "# the covariance of "
   ]
  },
  {
   "cell_type": "code",
   "execution_count": null,
   "metadata": {},
   "outputs": [],
   "source": [
    "# first should try to filter out un-used"
   ]
  },
  {
   "cell_type": "code",
   "execution_count": null,
   "metadata": {},
   "outputs": [],
   "source": [
    "eap_detector.set_model(task.model)"
   ]
  },
  {
   "cell_type": "code",
   "execution_count": null,
   "metadata": {},
   "outputs": [],
   "source": [
    "def node_layer(node):\n",
    "    return int(node.split(\".\")[1])"
   ]
  },
  {
   "cell_type": "code",
   "execution_count": null,
   "metadata": {},
   "outputs": [],
   "source": [
    "node_layer(\"head.0.0\")"
   ]
  },
  {
   "cell_type": "code",
   "execution_count": null,
   "metadata": {},
   "outputs": [],
   "source": [
    "eap_scores = torch.zeros(eap_detector.graph.n_upstream_nodes, eap_detector.graph.n_downstream_nodes)"
   ]
  },
  {
   "cell_type": "code",
   "execution_count": null,
   "metadata": {},
   "outputs": [],
   "source": [
    "eap_detector.graph.top"
   ]
  },
  {
   "cell_type": "code",
   "execution_count": null,
   "metadata": {},
   "outputs": [],
   "source": [
    "# get matrix of tuples of upstream and downstream node names\n",
    "edge_names = []\n",
    "for upstream_node_name in eap_detector.graph.upstream_nodes:\n",
    "    edge_names.append([(upstream_node_name, downstream_node_name) for downstream_node_name in eap_detector.graph.downstream_nodes])"
   ]
  },
  {
   "cell_type": "code",
   "execution_count": null,
   "metadata": {},
   "outputs": [],
   "source": [
    "import numpy as np"
   ]
  },
  {
   "cell_type": "code",
   "execution_count": null,
   "metadata": {},
   "outputs": [],
   "source": [
    "torch.tensor(edge_names)"
   ]
  },
  {
   "cell_type": "code",
   "execution_count": null,
   "metadata": {},
   "outputs": [],
   "source": [
    "edge_names_arr = np.array(edge_names)\n",
    "edge_names_arr.shape"
   ]
  },
  {
   "cell_type": "code",
   "execution_count": null,
   "metadata": {},
   "outputs": [],
   "source": [
    "edge_names_arr[0][0]"
   ]
  },
  {
   "cell_type": "code",
   "execution_count": null,
   "metadata": {},
   "outputs": [],
   "source": [
    "def valid_edge(edge):\n",
    "    return node_layer(edge[0]) <= node_layer(edge[1])"
   ]
  },
  {
   "cell_type": "code",
   "execution_count": null,
   "metadata": {},
   "outputs": [],
   "source": [
    "# apply filter to edge names arr to generate boolean mask\n",
    "valid_edge_mask = np.apply_along_axis(valid_edge, 2, edge_names_arr)\n",
    "is_not_layer_zero_mask = np.apply_along_axis(lambda x: (node_layer(x[0]) != 0) and (node_layer(x[1]) != 0), 2, edge_names_arr)"
   ]
  },
  {
   "cell_type": "code",
   "execution_count": null,
   "metadata": {},
   "outputs": [],
   "source": [
    "def valid_edge(edge):\n",
    "    return node_layer(edge[0]) <= node_layer(edge[1])"
   ]
  },
  {
   "cell_type": "code",
   "execution_count": null,
   "metadata": {},
   "outputs": [],
   "source": [
    "torch.apply_along_axis(valid_edge, 2, edge_names_arr)"
   ]
  },
  {
   "cell_type": "code",
   "execution_count": null,
   "metadata": {},
   "outputs": [],
   "source": [
    "(is_not_layer_zero_mask & valid_edge_mask).sum()"
   ]
  },
  {
   "cell_type": "code",
   "execution_count": null,
   "metadata": {},
   "outputs": [],
   "source": [
    "eap_scores = torch.zeros(16, eap_detector.graph.n_upstream_nodes, eap_detector.graph.n_downstream_nodes)"
   ]
  },
  {
   "cell_type": "code",
   "execution_count": null,
   "metadata": {},
   "outputs": [],
   "source": [
    "3375**2 / 8000**2"
   ]
  },
  {
   "cell_type": "code",
   "execution_count": null,
   "metadata": {},
   "outputs": [],
   "source": [
    "eap_scores[:, is_not_layer_zero_mask & valid_edge_mask].shape"
   ]
  },
  {
   "cell_type": "code",
   "execution_count": null,
   "metadata": {},
   "outputs": [],
   "source": [
    "valid_edge_idxs = np.nonzero(valid_edge_mask.flatten())[0]"
   ]
  },
  {
   "cell_type": "code",
   "execution_count": null,
   "metadata": {},
   "outputs": [],
   "source": [
    "eap_scores.shape"
   ]
  },
  {
   "cell_type": "code",
   "execution_count": null,
   "metadata": {},
   "outputs": [],
   "source": [
    "eap_scores[valid_edge_mask & ].shape"
   ]
  },
  {
   "cell_type": "code",
   "execution_count": null,
   "metadata": {},
   "outputs": [],
   "source": [
    "len(valid_edge_idxs)"
   ]
  },
  {
   "cell_type": "code",
   "execution_count": null,
   "metadata": {},
   "outputs": [],
   "source": [
    "valid_edge_mask[eap_detector.graph.upstream_nodes.index(\"head.2.0\")][eap_detector.graph.downstream_nodes.index(\"head.0.7.q\")]"
   ]
  },
  {
   "cell_type": "code",
   "execution_count": null,
   "metadata": {},
   "outputs": [],
   "source": [
    "# TODO: apply back to detector"
   ]
  },
  {
   "cell_type": "code",
   "execution_count": null,
   "metadata": {},
   "outputs": [],
   "source": [
    "eap_detector.graph.eap_cache = eap_cache"
   ]
  },
  {
   "cell_type": "code",
   "execution_count": null,
   "metadata": {},
   "outputs": [],
   "source": [
    "eap_detector.graph.downstream_nodes"
   ]
  },
  {
   "cell_type": "code",
   "execution_count": null,
   "metadata": {},
   "outputs": [],
   "source": [
    "from eap.eap_graph import EAPGraph\n",
    "graph = EAPGraph(task.model.cfg, upstream_nodes=[\"head\", \"mlp\"], downstream_nodes=[\"head\", \"mlp\"], aggregate_batch=False)"
   ]
  },
  {
   "cell_type": "code",
   "execution_count": null,
   "metadata": {},
   "outputs": [],
   "source": []
  },
  {
   "cell_type": "code",
   "execution_count": null,
   "metadata": {},
   "outputs": [],
   "source": [
    "# hmm, I wonder if some clustering algorithm would do better, not sure covariance is really the right thing to look at,\n",
    "# could be some set of distinct mechanisms, get lost in the covariance matrix\n",
    "\n",
    "# see this paper on Gromov-Hausdorff Metric on brain networks\n",
    "# https://link.springer.com/chapter/10.1007/978-3-642-23629-7_37"
   ]
  },
  {
   "cell_type": "code",
   "execution_count": null,
   "metadata": {},
   "outputs": [],
   "source": [
    "# ok how do I filter absent connections"
   ]
  },
  {
   "cell_type": "code",
   "execution_count": null,
   "metadata": {},
   "outputs": [],
   "source": [
    "import numpy as np\n",
    "from sklearn.decomposition import PCA\n",
    "from sklearn.preprocessing import StandardScaler\n",
    "\n",
    "# Function to perform PCA from covariance matrix (from previous response)\n",
    "def pca_from_covariance(cov_matrix, n_components=None):\n",
    "    eigenvalues, eigenvectors = torch.linalg.eigh(cov_matrix)\n",
    "    idx = torch.argsort(eigenvalues)\n",
    "    eigenvalues = eigenvalues[idx]\n",
    "    eigenvectors = eigenvectors[:, idx]\n",
    "    \n",
    "    if n_components is None:\n",
    "        n_components = len(eigenvalues)\n",
    "    \n",
    "    eigenvalues = eigenvalues[:n_components]\n",
    "    eigenvectors = eigenvectors[:, :n_components]\n",
    "    \n",
    "    explained_variance_ratio = eigenvalues / torch.sum(eigenvalues)\n",
    "    \n",
    "    return eigenvectors, eigenvalues, explained_variance_ratio"
   ]
  },
  {
   "cell_type": "code",
   "execution_count": null,
   "metadata": {},
   "outputs": [],
   "source": [
    "\n",
    "# Generate data with the given covariance matrix\n",
    "np.random.seed(42)  # for reproducibility\n",
    "mean = [0, 0]\n",
    "cov_matrix = np.array([[1.0, 0.8], [0.8, 1.0]])\n",
    "n_samples = 10000\n",
    "\n",
    "# Generate the data\n",
    "X = np.random.multivariate_normal(mean, cov_matrix, n_samples)\n",
    "\n",
    "# Verify the covariance of the generated data\n",
    "print(\"Generated data covariance:\")\n",
    "print(np.cov(X, rowvar=False))\n",
    "\n",
    "# Custom PCA from covariance matrix\n",
    "custom_pca_components, custom_eigenvalues, custom_explained_variance_ratio = pca_from_covariance(torch.tensor(cov_matrix), n_components=2)\n",
    "\n",
    "print(\"\\nCustom PCA results:\")\n",
    "print(\"Components:\")\n",
    "print(custom_pca_components)\n",
    "print(\"Explained variance ratio:\")\n",
    "print(custom_explained_variance_ratio)\n",
    "\n",
    "# scikit-learn PCA\n",
    "scaler = StandardScaler()\n",
    "X_scaled = scaler.fit_transform(X)\n",
    "\n",
    "sklearn_pca = PCA(n_components=2)\n",
    "sklearn_pca.fit(X_scaled)\n",
    "\n",
    "print(\"\\nscikit-learn PCA results:\")\n",
    "print(\"Components:\")\n",
    "print(sklearn_pca.components_.T)  # Transposed to match our custom output\n",
    "print(\"Explained variance ratio:\")\n",
    "print(sklearn_pca.explained_variance_ratio_)\n",
    "\n",
    "# Compare results\n",
    "print(\"\\nComparison:\")\n",
    "print(\"Custom PCA explained variance ratio:\", custom_explained_variance_ratio)\n",
    "print(\"scikit-learn PCA explained variance ratio:\", sklearn_pca.explained_variance_ratio_)\n",
    "\n",
    "# Note: The signs of the components might be flipped, but this doesn't affect the results\n",
    "print(\"\\nAbsolute difference in components:\")\n",
    "print(np.abs(np.abs(custom_pca_components) - np.abs(sklearn_pca.components_.T)))"
   ]
  },
  {
   "cell_type": "code",
   "execution_count": null,
   "metadata": {},
   "outputs": [],
   "source": [
    "# I guess PCA detector which just tracks covariance, at the end computes pca components and eigenvalues\n",
    "# but really I just want the covariance, then we can compute extenrally (at least for now)\n",
    "from cupbearer.detectors.statistical import ActivationCovarianceBasedDetector\n",
    "from torch._tensor import Tensor\n",
    "class PCACacheDetector(ActivationCovarianceBasedDetector):\n",
    "\n",
    "    def _get_trained_variables(self, saving: bool = False):\n",
    "        return {\n",
    "            \"means\": self.means,\n",
    "            \"covariances\": self.covariances,\n",
    "        }\n",
    "    \n",
    "    def _individual_layerwise_score(self, name: str, activation: Tensor):\n",
    "        return torch.zeros(activation.shape[0])\n",
    "    \n",
    "    def _set_trained_variables(self, variables):\n",
    "        self.means = variables[\"means\"]\n",
    "        self.covariances = variables[\"covariances\"]\n",
    "        self.pca_components = variables[\"pca_components\"]\n",
    "        self.eigenvalues = variables[\"eigenvalues\"]\n",
    "        self.explained_variance_ratio = variables[\"explained_variance_ratio\"]\n",
    "    \n",
    "    def post_covariance_training(self, **kwargs):\n",
    "        # compute pca components and eigenvalues\n",
    "        self.pca_components = {}\n",
    "        self.eigenvalues = {}\n",
    "        self.explained_variance_ratio = {}\n",
    "        for name, cov in self.covariances.items():\n",
    "            device = cov.device\n",
    "            pca_components, eigenvalues, explained_variance_ratio = pca_from_covariance(cov)\n",
    "            self.pca_components[name] = pca_components\n",
    "            self.eigenvalues[name] = eigenvalues\n",
    "            self.explained_variance_ratio[name] = torch.tensor(explained_variance_ratio)\n",
    "    \n",
    "\n"
   ]
  },
  {
   "cell_type": "code",
   "execution_count": null,
   "metadata": {},
   "outputs": [],
   "source": [
    "class EAPPCACacheDetector(EAPDetector, PCACacheDetector):\n",
    "    pass"
   ]
  },
  {
   "cell_type": "code",
   "execution_count": null,
   "metadata": {},
   "outputs": [],
   "source": [
    "detector_dir = Path(\"output/pythia-70m-hex-filtered-eap-pca-small\")"
   ]
  },
  {
   "cell_type": "code",
   "execution_count": null,
   "metadata": {},
   "outputs": [],
   "source": [
    "eap_pca_cache_path = Path(detector_dir / \"activation_cache\").with_suffix(utils.SUFFIX)\n",
    "eap_pca_cache = ActivationCache(device=device)"
   ]
  },
  {
   "cell_type": "code",
   "execution_count": null,
   "metadata": {},
   "outputs": [],
   "source": [
    "eap_pca_cache_detector = EAPPCACacheDetector(\n",
    "    effect_prob_func=partial(effect_prob_func, effect_tokens=effect_tokens),\n",
    "    upstream_nodes=[\"head\", \"mlp\"],\n",
    "    downstream_nodes=[\"head\", \"mlp\"],\n",
    "    edge_filter=lambda x: True,#not_first_layer,\n",
    "    seq_len=16,\n",
    "    layer_aggregation=\"mean\",\n",
    "    cache=eap_pca_cache\n",
    ")"
   ]
  },
  {
   "cell_type": "code",
   "execution_count": null,
   "metadata": {},
   "outputs": [],
   "source": [
    "small_task = get_task_subset(task, 64, 64, 64)"
   ]
  },
  {
   "cell_type": "code",
   "execution_count": null,
   "metadata": {},
   "outputs": [],
   "source": [
    "from cupbearer.tasks.tiny_natural_mechanisms import TinyNaturalMechanismsDataset\n",
    "def get_add_test_to_trusted(task):\n",
    "    # get subsets\n",
    "    trusted_data = task.trusted_data.data + task.test_data.normal_data.data + task.test_data.anomalous_data.data\n",
    "    normal_test_data = task.test_data.normal_data.data\n",
    "    anomalous_test_data = task.test_data.anomalous_data.data\n",
    "    # construct new task with subsets\n",
    "    return tasks.Task.from_separate_data(\n",
    "        model=task.model, \n",
    "        trusted_data=TinyNaturalMechanismsDataset(trusted_data),\n",
    "        clean_test_data=TinyNaturalMechanismsDataset(normal_test_data), \n",
    "        anomalous_test_data=TinyNaturalMechanismsDataset(anomalous_test_data)\n",
    "    )"
   ]
  },
  {
   "cell_type": "code",
   "execution_count": null,
   "metadata": {},
   "outputs": [],
   "source": [
    "small_pooled_task = get_add_test_to_trusted(small_task)"
   ]
  },
  {
   "cell_type": "code",
   "execution_count": null,
   "metadata": {},
   "outputs": [],
   "source": [
    "train_detector_cache(\n",
    "    detector_dir, eap_pca_cache_detector, small_pooled_task, batch_size=64, eval_batch_size=64, cache=eap_pca_cache, \n",
    "    cache_path=eap_pca_cache_path, overwrite=True, overwrite_cache=True, inference_mode=False\n",
    ")"
   ]
  },
  {
   "cell_type": "code",
   "execution_count": null,
   "metadata": {},
   "outputs": [],
   "source": [
    "torch.symeig"
   ]
  },
  {
   "cell_type": "markdown",
   "metadata": {},
   "source": []
  },
  {
   "cell_type": "code",
   "execution_count": null,
   "metadata": {},
   "outputs": [],
   "source": [
    "eap_pca_cache_detector.covariances[\"eap_scores\"].to(torch.float64)"
   ]
  },
  {
   "cell_type": "code",
   "execution_count": null,
   "metadata": {},
   "outputs": [],
   "source": []
  },
  {
   "cell_type": "code",
   "execution_count": null,
   "metadata": {},
   "outputs": [],
   "source": [
    "torch.linalg.pinv(eap_pca_cache_detector.covariances[\"eap_scores\"].cpu().to(torch.float64))"
   ]
  },
  {
   "cell_type": "code",
   "execution_count": null,
   "metadata": {},
   "outputs": [],
   "source": [
    "torch.linalg.eigh(eap_pca_cache_detector.covariances[\"eap_scores\"].cpu().to(torch.float64))"
   ]
  },
  {
   "cell_type": "code",
   "execution_count": null,
   "metadata": {},
   "outputs": [],
   "source": [
    "np.linalg.eigh(eap_pca_cache_detector.covariances[\"eap_scores\"].cpu().numpy())"
   ]
  },
  {
   "cell_type": "code",
   "execution_count": null,
   "metadata": {},
   "outputs": [],
   "source": [
    "eap_cov_cache_detector.covariances"
   ]
  },
  {
   "cell_type": "code",
   "execution_count": null,
   "metadata": {},
   "outputs": [],
   "source": [
    "principal_components, eigenvalues, explained_variance_ratio = pca_from_covariance(eap_cov_cache_detector.covariances[\"eap_scores\"].cpu().numpy())"
   ]
  },
  {
   "cell_type": "code",
   "execution_count": null,
   "metadata": {},
   "outputs": [],
   "source": [
    "explained_variance_ratio[:20]"
   ]
  },
  {
   "cell_type": "code",
   "execution_count": null,
   "metadata": {},
   "outputs": [],
   "source": [
    "used_components = principal_components[:, :3]"
   ]
  },
  {
   "cell_type": "code",
   "execution_count": null,
   "metadata": {},
   "outputs": [],
   "source": [
    "# now build a detector that loads pca, n components, and means from previous run, computes malanabois on projected data\n",
    "from cupbearer.detectors.activation_based import ActivationBasedDetector\n",
    "from torch._tensor import Tensor\n",
    "class EAPPCAProjectionDetector(EAPDetector):\n",
    "\n",
    "    def __init__(self, n_components, principal_components, means, **kwargs):\n",
    "        self.n_components = n_components\n",
    "        self.principal_components = principal_components\n",
    "        self.full_means = means\n",
    "        super().__init__(**kwargs)\n",
    "    \n",
    "    def _get_activations_no_cache(self, inputs) -> dict[str, Tensor]:\n",
    "        activations = super()._get_activations_no_cache(inputs)\n",
    "        # project activations\n",
    "        proj_activations = {}\n",
    "        for key, activation in activations.items():\n",
    "            b = activation.shape[0]\n",
    "            d_act = activation.shape[-1]\n",
    "            # get principal components and means\n",
    "            pcs = self.principal_components[key][:, :self.n_components]\n",
    "            assert pcs.shape[0] == d_act\n",
    "            means = self.full_means[key] \n",
    "            assert means.shape[0] == d_act, (means.shape, d_act)\n",
    "            # scale activations\n",
    "            scaled_activations = activation - means\n",
    "            assert scaled_activations.shape == (b, d_act), (scaled_activations.shape, b, d_act)\n",
    "            # project activations\n",
    "            proj_activations[key] = torch.matmul(scaled_activations, pcs)\n",
    "            assert proj_activations[key].shape == (b, self.n_components)\n",
    "        return proj_activations"
   ]
  },
  {
   "cell_type": "code",
   "execution_count": null,
   "metadata": {},
   "outputs": [],
   "source": [
    "class EAPPCAProjMalanobisDetector(EAPPCAProjectionDetector, MahalanobisDetector):\n",
    "    pass"
   ]
  },
  {
   "cell_type": "code",
   "execution_count": null,
   "metadata": {},
   "outputs": [],
   "source": [
    "torch.tensor(principal_components)"
   ]
  },
  {
   "cell_type": "code",
   "execution_count": null,
   "metadata": {},
   "outputs": [],
   "source": [
    "detector_dir = Path(\"output/pythia-70m-hex-filtered-eap-pca-small\")"
   ]
  },
  {
   "cell_type": "code",
   "execution_count": null,
   "metadata": {},
   "outputs": [],
   "source": [
    "pca_cache = ActivationCache(device=device)\n",
    "pca_cache_path = Path(detector_dir / \"activation_cache\").with_suffix(utils.SUFFIX)"
   ]
  },
  {
   "cell_type": "code",
   "execution_count": null,
   "metadata": {},
   "outputs": [],
   "source": [
    "detector = EAPPCAProjMalanobisDetector(\n",
    "    effect_prob_func=partial(effect_prob_func, effect_tokens=effect_tokens),\n",
    "    upstream_nodes=[\"head\", \"mlp\"],\n",
    "    downstream_nodes=[\"head\", \"mlp\"],\n",
    "    edge_filter=lambda x: True,#not_first_layer,\n",
    "    seq_len=16,\n",
    "    layer_aggregation=\"mean\",\n",
    "    cache=None,\n",
    "    n_components=3,\n",
    "    principal_components={\"eap_scores\": torch.tensor(principal_components, device=device)}, \n",
    "    means=detector.means\n",
    ")"
   ]
  },
  {
   "cell_type": "code",
   "execution_count": null,
   "metadata": {},
   "outputs": [],
   "source": [
    "train_detector_cache(\n",
    "    detector_dir, detector, small_task, batch_size=64, eval_batch_size=64, cache=None, \n",
    "    pca_cache_path=None, overwrite=True, overwrite_cache=True, inference_mode=False\n",
    ")"
   ]
  },
  {
   "cell_type": "code",
   "execution_count": null,
   "metadata": {},
   "outputs": [],
   "source": [
    "detector.covariances[\"eap_scores\"].shape"
   ]
  },
  {
   "cell_type": "markdown",
   "metadata": {},
   "source": [
    "## Mahanobis Baseline"
   ]
  },
  {
   "cell_type": "code",
   "execution_count": null,
   "metadata": {},
   "outputs": [],
   "source": [
    "detector_dir = out_dir / \"pythia-70m-hex-atten-out-mahalanobis-detector-smal\""
   ]
  },
  {
   "cell_type": "code",
   "execution_count": null,
   "metadata": {},
   "outputs": [],
   "source": [
    "# cache_path = (detector_dir / \"activation_cache\").with_suffix(utils.SUFFIX)\n",
    "# if os.path.exists(cache_path):\n",
    "#     cache = ActivationCache.load(cache_path, device=device)\n",
    "# else:\n",
    "cache = ActivationCache(device=device)"
   ]
  },
  {
   "cell_type": "code",
   "execution_count": null,
   "metadata": {},
   "outputs": [],
   "source": [
    "# run malanabois on final layer final token\n",
    "def get_activation_at_last_token(\n",
    "    activation: torch.Tensor, inputs: list[list[int]], name: str\n",
    "):\n",
    "    if activation.ndim == 3:\n",
    "        # Residual stream or equivalent, shape is (batch, seq, hidden)\n",
    "        return activation[:, -1, :]\n",
    "    elif activation.ndim == 4 and activation.shape[-1] == activation.shape[-2]:\n",
    "        # Attention, shape is (batch, num_heads, query, key)\n",
    "        # TODO: this could also be Q/K/V if n_heads happens to be head_dim\n",
    "        return activation[:, :, -1, :].reshape(activation.shape[0], -1)\n",
    "    elif activation.ndim == 4:\n",
    "        # Query/key/value, shape is (batch, seq, num_heads, hidden)\n",
    "        return activation[:, -1, :, :].reshape(activation.shape[0], -1)\n",
    "    else:\n",
    "        raise ValueError(f\"Unexpected activation shape: {activation.shape}\")"
   ]
  },
  {
   "cell_type": "code",
   "execution_count": null,
   "metadata": {},
   "outputs": [],
   "source": [
    "names = [\n",
    "    # \"hook_embed.output\",\n",
    "    # \"blocks.0.hook_attn_out.output\",\n",
    "    \"blocks.1.hook_attn_out.output\",\n",
    "    \"blocks.2.hook_attn_out.output\",\n",
    "    \"blocks.3.hook_attn_out.output\",\n",
    "    # \"blocks.4.hook_resid_post.output\"\n",
    "    \"blocks.4.hook_attn_out.output\",\n",
    "    # \"blocks.5.hook_attn_out.output\"\n",
    "]\n",
    "\n",
    "detector = detectors.MahalanobisDetector(\n",
    "    names, layer_aggregation=\"mean\", cache=cache, activation_processing_func=get_activation_at_last_token\n",
    ")"
   ]
  },
  {
   "cell_type": "code",
   "execution_count": null,
   "metadata": {},
   "outputs": [],
   "source": [
    "train_detector_cache(detector_dir, detector, small_task, batch_size=64, eval_batch_size=64, \n",
    "                     cache=cache, cache_path=None, overwrite=True, overwrite_cache=True)"
   ]
  }
 ],
 "metadata": {
  "kernelspec": {
   "display_name": "elk-experiments-AZ2LBS3Q-py3.10",
   "language": "python",
   "name": "python3"
  },
  "language_info": {
   "codemirror_mode": {
    "name": "ipython",
    "version": 3
   },
   "file_extension": ".py",
   "mimetype": "text/x-python",
   "name": "python",
   "nbconvert_exporter": "python",
   "pygments_lexer": "ipython3",
   "version": "3.10.14"
  }
 },
 "nbformat": 4,
 "nbformat_minor": 2
}
