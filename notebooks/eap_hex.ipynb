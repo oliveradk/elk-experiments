{
 "cells": [
  {
   "cell_type": "markdown",
   "metadata": {},
   "source": [
    "run edge attribution patching on hex\n",
    "fit multivariate gaussian to attribution scores\n",
    "use malanabois from trusted to untrusted"
   ]
  },
  {
   "cell_type": "markdown",
   "metadata": {},
   "source": [
    "need to figure out which edges to monitor, I guess all MLP and attention for now? \n",
    "in tampering case we can maybe only use streams on the measurment tokens"
   ]
  },
  {
   "cell_type": "markdown",
   "metadata": {},
   "source": [
    "# Run Edge Attribution On ARC Tasks"
   ]
  },
  {
   "cell_type": "code",
   "execution_count": 1,
   "metadata": {},
   "outputs": [
    {
     "name": "stderr",
     "output_type": "stream",
     "text": [
      "/Users/oliverdaniels-koch/Library/Caches/pypoetry/virtualenvs/elk-experiments-AZ2LBS3Q-py3.10/lib/python3.10/site-packages/tqdm/auto.py:21: TqdmWarning: IProgress not found. Please update jupyter and ipywidgets. See https://ipywidgets.readthedocs.io/en/stable/user_install.html\n",
      "  from .autonotebook import tqdm as notebook_tqdm\n"
     ]
    }
   ],
   "source": [
    "import json\n",
    "\n",
    "import torch \n",
    "import einops\n",
    "from jaxtyping import Float\n",
    "\n",
    "from eap.eap_wrapper import EAP\n",
    "from cupbearer import data, detectors, models, scripts, tasks, utils\n",
    "from transformer_lens import HookedTransformer\n"
   ]
  },
  {
   "cell_type": "markdown",
   "metadata": {},
   "source": [
    "## Model and Data Setup"
   ]
  },
  {
   "cell_type": "code",
   "execution_count": 2,
   "metadata": {},
   "outputs": [],
   "source": [
    "task_name = \"hex\"\n",
    "device = \"mps\""
   ]
  },
  {
   "cell_type": "code",
   "execution_count": 3,
   "metadata": {},
   "outputs": [
    {
     "name": "stdout",
     "output_type": "stream",
     "text": [
      "Loaded pretrained model attn-only-2l into HookedTransformer\n",
      "Moving model to device:  mps\n"
     ]
    }
   ],
   "source": [
    "model = HookedTransformer.from_pretrained(\n",
    "    \"attn-only-2l\",\n",
    "    fold_ln=False,\n",
    "    center_writing_weights=False,\n",
    "    center_unembed=False,\n",
    "    fold_value_biases=False,\n",
    ").to(device)"
   ]
  },
  {
   "cell_type": "code",
   "execution_count": 4,
   "metadata": {},
   "outputs": [],
   "source": [
    "model.set_use_split_qkv_input(True)\n",
    "model.set_use_attn_result(True)"
   ]
  },
  {
   "cell_type": "code",
   "execution_count": 5,
   "metadata": {},
   "outputs": [
    {
     "name": "stdout",
     "output_type": "stream",
     "text": [
      "Loaded pretrained model attn-only-1l into HookedTransformer\n",
      "Moving model to device:  mps\n"
     ]
    }
   ],
   "source": [
    "task = tasks.tiny_natural_mechanisms(task_name, device)"
   ]
  },
  {
   "cell_type": "code",
   "execution_count": 6,
   "metadata": {},
   "outputs": [],
   "source": [
    "# model = task.model \n",
    "\n",
    "# # model.set_use_hook_mlp_in(True)\n",
    "# model.set_use_split_qkv_input(True)\n",
    "# model.set_use_attn_result(True)"
   ]
  },
  {
   "cell_type": "markdown",
   "metadata": {},
   "source": [
    "## Metric Setup"
   ]
  },
  {
   "cell_type": "code",
   "execution_count": 7,
   "metadata": {},
   "outputs": [],
   "source": [
    "with open(f\".cupbearer_cache/tiny_natural_mechanisms/{task_name}_task.json\") as f:\n",
    "    task_config = json.load(f)\n",
    "\n",
    "# cpu to avoid MPS issues with tensors that are too large\n",
    "effect_tokens = torch.tensor(\n",
    "    task_config[\"effect_tokens\"], dtype=torch.long, device=\"cpu\"\n",
    ")\n",
    "\n",
    "cause_tokens = torch.tensor(\n",
    "    task_config[\"cause_tokens\"], dtype=torch.long, device=\"cpu\"\n",
    ")"
   ]
  },
  {
   "cell_type": "code",
   "execution_count": 8,
   "metadata": {},
   "outputs": [],
   "source": [
    "# use sum probability over \"effect\" tokens (intended behavior)\n",
    "def effect_prob_func(logits):\n",
    "    assert logits.ndim == 3\n",
    "    probs = logits.softmax(-1)\n",
    "    # Sum over vocab and batch dim (for now we're just computing attribution values, we'll deal with per data instance later)\n",
    "    out = probs[:, -1, effect_tokens].sum()\n",
    "    # print(\"metric\", out)\n",
    "    return out"
   ]
  },
  {
   "cell_type": "markdown",
   "metadata": {},
   "source": [
    "## Run Experiment\n",
    "\n",
    "Going to need to define detector, but for now lets just get it running"
   ]
  },
  {
   "cell_type": "code",
   "execution_count": 9,
   "metadata": {},
   "outputs": [],
   "source": [
    "# tokenize data in batches\n",
    "trusted_tokens = torch.stack([torch.tensor(x[\"prefix_tokens\"]) for x in task.trusted_data.data], dim=0).to(device)"
   ]
  },
  {
   "cell_type": "code",
   "execution_count": 10,
   "metadata": {},
   "outputs": [
    {
     "data": {
      "text/plain": [
       "(torch.Size([16384, 16]), 256.0)"
      ]
     },
     "execution_count": 10,
     "metadata": {},
     "output_type": "execute_result"
    }
   ],
   "source": [
    "trusted_tokens.shape, trusted_tokens.shape[0] / 64"
   ]
  },
  {
   "cell_type": "code",
   "execution_count": 11,
   "metadata": {},
   "outputs": [
    {
     "name": "stderr",
     "output_type": "stream",
     "text": [
      "huggingface/tokenizers: The current process just got forked, after parallelism has already been used. Disabling parallelism to avoid deadlocks...\n",
      "To disable this warning, you can either:\n",
      "\t- Avoid using `tokenizers` before the fork if possible\n",
      "\t- Explicitly set the environment variable TOKENIZERS_PARALLELISM=(true | false)\n"
     ]
    },
    {
     "name": "stdout",
     "output_type": "stream",
     "text": [
      "Saving activations requires 0.0000 GB of memory per token\n"
     ]
    },
    {
     "name": "stderr",
     "output_type": "stream",
     "text": [
      "  0%|          | 0/256 [00:00<?, ?it/s]/Users/oliverdaniels-koch/Library/Caches/pypoetry/virtualenvs/elk-experiments-AZ2LBS3Q-py3.10/lib/python3.10/site-packages/torch/nn/modules/module.py:1344: UserWarning: Using a non-full backward hook when the forward contains multiple autograd Nodes is deprecated and will be removed in future versions. This hook will be missing some grad_input. Please use register_full_backward_hook to get the documented behavior.\n",
      "  warnings.warn(\"Using a non-full backward hook when the forward contains multiple autograd Nodes \"\n"
     ]
    },
    {
     "name": "stdout",
     "output_type": "stream",
     "text": [
      "running backwards hook\n"
     ]
    },
    {
     "name": "stderr",
     "output_type": "stream",
     "text": [
      "  0%|          | 1/256 [00:01<08:25,  1.98s/it]"
     ]
    },
    {
     "name": "stdout",
     "output_type": "stream",
     "text": [
      "running backwards hook\n",
      "running backwards hook\n",
      "running backwards hook\n",
      "running backwards hook\n",
      "running backwards hook\n"
     ]
    },
    {
     "name": "stderr",
     "output_type": "stream",
     "text": [
      "  1%|          | 2/256 [00:03<06:39,  1.57s/it]"
     ]
    },
    {
     "name": "stdout",
     "output_type": "stream",
     "text": [
      "running backwards hook\n",
      "running backwards hook\n",
      "running backwards hook\n",
      "running backwards hook\n",
      "running backwards hook\n",
      "running backwards hook\n"
     ]
    },
    {
     "name": "stderr",
     "output_type": "stream",
     "text": [
      "  1%|          | 3/256 [00:04<05:52,  1.39s/it]"
     ]
    },
    {
     "name": "stdout",
     "output_type": "stream",
     "text": [
      "running backwards hook\n",
      "running backwards hook\n",
      "running backwards hook\n",
      "running backwards hook\n",
      "running backwards hook\n",
      "running backwards hook\n"
     ]
    },
    {
     "name": "stderr",
     "output_type": "stream",
     "text": [
      "  2%|▏         | 4/256 [00:05<05:51,  1.39s/it]"
     ]
    },
    {
     "name": "stdout",
     "output_type": "stream",
     "text": [
      "running backwards hook\n",
      "running backwards hook\n",
      "running backwards hook\n",
      "running backwards hook\n",
      "running backwards hook\n",
      "running backwards hook\n"
     ]
    },
    {
     "name": "stderr",
     "output_type": "stream",
     "text": [
      "  2%|▏         | 5/256 [00:07<05:47,  1.38s/it]"
     ]
    },
    {
     "name": "stdout",
     "output_type": "stream",
     "text": [
      "running backwards hook\n",
      "running backwards hook\n",
      "running backwards hook\n",
      "running backwards hook\n",
      "running backwards hook\n",
      "running backwards hook\n"
     ]
    },
    {
     "name": "stderr",
     "output_type": "stream",
     "text": [
      "  2%|▏         | 6/256 [00:08<05:35,  1.34s/it]"
     ]
    },
    {
     "name": "stdout",
     "output_type": "stream",
     "text": [
      "running backwards hook\n",
      "running backwards hook\n",
      "running backwards hook\n",
      "running backwards hook\n",
      "running backwards hook\n",
      "running backwards hook\n"
     ]
    },
    {
     "name": "stderr",
     "output_type": "stream",
     "text": [
      "  3%|▎         | 7/256 [00:09<05:23,  1.30s/it]"
     ]
    },
    {
     "name": "stdout",
     "output_type": "stream",
     "text": [
      "running backwards hook\n",
      "running backwards hook\n",
      "running backwards hook\n",
      "running backwards hook\n",
      "running backwards hook\n",
      "running backwards hook\n"
     ]
    },
    {
     "name": "stderr",
     "output_type": "stream",
     "text": [
      "  3%|▎         | 8/256 [00:10<05:16,  1.28s/it]"
     ]
    },
    {
     "name": "stdout",
     "output_type": "stream",
     "text": [
      "running backwards hook\n",
      "running backwards hook\n",
      "running backwards hook\n",
      "running backwards hook\n",
      "running backwards hook\n",
      "running backwards hook\n"
     ]
    },
    {
     "name": "stderr",
     "output_type": "stream",
     "text": [
      "  4%|▎         | 9/256 [00:12<05:12,  1.27s/it]"
     ]
    },
    {
     "name": "stdout",
     "output_type": "stream",
     "text": [
      "running backwards hook\n",
      "running backwards hook\n",
      "running backwards hook\n",
      "running backwards hook\n",
      "running backwards hook\n",
      "running backwards hook\n"
     ]
    },
    {
     "name": "stderr",
     "output_type": "stream",
     "text": [
      "  4%|▍         | 10/256 [00:13<05:08,  1.26s/it]"
     ]
    },
    {
     "name": "stdout",
     "output_type": "stream",
     "text": [
      "running backwards hook\n",
      "running backwards hook\n",
      "running backwards hook\n",
      "running backwards hook\n",
      "running backwards hook\n",
      "running backwards hook\n"
     ]
    },
    {
     "name": "stderr",
     "output_type": "stream",
     "text": [
      "  4%|▍         | 11/256 [00:14<05:06,  1.25s/it]"
     ]
    },
    {
     "name": "stdout",
     "output_type": "stream",
     "text": [
      "running backwards hook\n",
      "running backwards hook\n",
      "running backwards hook\n",
      "running backwards hook\n",
      "running backwards hook\n",
      "running backwards hook\n"
     ]
    },
    {
     "name": "stderr",
     "output_type": "stream",
     "text": [
      "  5%|▍         | 12/256 [00:15<05:02,  1.24s/it]"
     ]
    },
    {
     "name": "stdout",
     "output_type": "stream",
     "text": [
      "running backwards hook\n",
      "running backwards hook\n",
      "running backwards hook\n",
      "running backwards hook\n",
      "running backwards hook\n",
      "running backwards hook\n"
     ]
    },
    {
     "name": "stderr",
     "output_type": "stream",
     "text": [
      "  5%|▌         | 13/256 [00:17<04:57,  1.22s/it]"
     ]
    },
    {
     "name": "stdout",
     "output_type": "stream",
     "text": [
      "running backwards hook\n",
      "running backwards hook\n",
      "running backwards hook\n",
      "running backwards hook\n",
      "running backwards hook\n",
      "running backwards hook\n"
     ]
    },
    {
     "name": "stderr",
     "output_type": "stream",
     "text": [
      "  5%|▌         | 14/256 [00:18<04:53,  1.21s/it]"
     ]
    },
    {
     "name": "stdout",
     "output_type": "stream",
     "text": [
      "running backwards hook\n",
      "running backwards hook\n",
      "running backwards hook\n",
      "running backwards hook\n",
      "running backwards hook\n",
      "running backwards hook\n"
     ]
    },
    {
     "name": "stderr",
     "output_type": "stream",
     "text": [
      "  6%|▌         | 15/256 [00:19<04:52,  1.21s/it]"
     ]
    },
    {
     "name": "stdout",
     "output_type": "stream",
     "text": [
      "running backwards hook\n",
      "running backwards hook\n",
      "running backwards hook\n",
      "running backwards hook\n",
      "running backwards hook\n",
      "running backwards hook\n"
     ]
    },
    {
     "name": "stderr",
     "output_type": "stream",
     "text": [
      "  6%|▋         | 16/256 [00:20<04:49,  1.21s/it]"
     ]
    },
    {
     "name": "stdout",
     "output_type": "stream",
     "text": [
      "running backwards hook\n",
      "running backwards hook\n",
      "running backwards hook\n",
      "running backwards hook\n",
      "running backwards hook\n",
      "running backwards hook\n"
     ]
    },
    {
     "name": "stderr",
     "output_type": "stream",
     "text": [
      "  7%|▋         | 17/256 [00:21<04:47,  1.20s/it]"
     ]
    },
    {
     "name": "stdout",
     "output_type": "stream",
     "text": [
      "running backwards hook\n",
      "running backwards hook\n",
      "running backwards hook\n",
      "running backwards hook\n",
      "running backwards hook\n",
      "running backwards hook\n"
     ]
    },
    {
     "name": "stderr",
     "output_type": "stream",
     "text": [
      "  7%|▋         | 18/256 [00:22<04:44,  1.20s/it]"
     ]
    },
    {
     "name": "stdout",
     "output_type": "stream",
     "text": [
      "running backwards hook\n",
      "running backwards hook\n",
      "running backwards hook\n",
      "running backwards hook\n",
      "running backwards hook\n",
      "running backwards hook\n"
     ]
    },
    {
     "name": "stderr",
     "output_type": "stream",
     "text": [
      "  7%|▋         | 19/256 [00:24<04:41,  1.19s/it]"
     ]
    },
    {
     "name": "stdout",
     "output_type": "stream",
     "text": [
      "running backwards hook\n",
      "running backwards hook\n",
      "running backwards hook\n",
      "running backwards hook\n",
      "running backwards hook\n",
      "running backwards hook\n"
     ]
    },
    {
     "name": "stderr",
     "output_type": "stream",
     "text": [
      "  8%|▊         | 20/256 [00:25<04:38,  1.18s/it]"
     ]
    },
    {
     "name": "stdout",
     "output_type": "stream",
     "text": [
      "running backwards hook\n",
      "running backwards hook\n",
      "running backwards hook\n",
      "running backwards hook\n",
      "running backwards hook\n",
      "running backwards hook\n"
     ]
    },
    {
     "name": "stderr",
     "output_type": "stream",
     "text": [
      "  8%|▊         | 21/256 [00:26<04:37,  1.18s/it]"
     ]
    },
    {
     "name": "stdout",
     "output_type": "stream",
     "text": [
      "running backwards hook\n",
      "running backwards hook\n",
      "running backwards hook\n",
      "running backwards hook\n",
      "running backwards hook\n",
      "running backwards hook\n"
     ]
    },
    {
     "name": "stderr",
     "output_type": "stream",
     "text": [
      "  9%|▊         | 22/256 [00:27<04:36,  1.18s/it]"
     ]
    },
    {
     "name": "stdout",
     "output_type": "stream",
     "text": [
      "running backwards hook\n",
      "running backwards hook\n",
      "running backwards hook\n",
      "running backwards hook\n",
      "running backwards hook\n",
      "running backwards hook\n"
     ]
    },
    {
     "name": "stderr",
     "output_type": "stream",
     "text": [
      "  9%|▉         | 23/256 [00:28<04:34,  1.18s/it]"
     ]
    },
    {
     "name": "stdout",
     "output_type": "stream",
     "text": [
      "running backwards hook\n",
      "running backwards hook\n",
      "running backwards hook\n",
      "running backwards hook\n",
      "running backwards hook\n",
      "running backwards hook\n"
     ]
    },
    {
     "name": "stderr",
     "output_type": "stream",
     "text": [
      "  9%|▉         | 24/256 [00:30<04:33,  1.18s/it]"
     ]
    },
    {
     "name": "stdout",
     "output_type": "stream",
     "text": [
      "running backwards hook\n",
      "running backwards hook\n",
      "running backwards hook\n",
      "running backwards hook\n",
      "running backwards hook\n",
      "running backwards hook\n"
     ]
    },
    {
     "name": "stderr",
     "output_type": "stream",
     "text": [
      " 10%|▉         | 25/256 [00:31<04:32,  1.18s/it]"
     ]
    },
    {
     "name": "stdout",
     "output_type": "stream",
     "text": [
      "running backwards hook\n",
      "running backwards hook\n",
      "running backwards hook\n",
      "running backwards hook\n",
      "running backwards hook\n",
      "running backwards hook\n"
     ]
    },
    {
     "name": "stderr",
     "output_type": "stream",
     "text": [
      " 10%|█         | 26/256 [00:32<04:31,  1.18s/it]"
     ]
    },
    {
     "name": "stdout",
     "output_type": "stream",
     "text": [
      "running backwards hook\n",
      "running backwards hook\n",
      "running backwards hook\n",
      "running backwards hook\n",
      "running backwards hook\n",
      "running backwards hook\n"
     ]
    },
    {
     "name": "stderr",
     "output_type": "stream",
     "text": [
      " 11%|█         | 27/256 [00:33<04:30,  1.18s/it]"
     ]
    },
    {
     "name": "stdout",
     "output_type": "stream",
     "text": [
      "running backwards hook\n",
      "running backwards hook\n",
      "running backwards hook\n",
      "running backwards hook\n",
      "running backwards hook\n",
      "running backwards hook\n"
     ]
    },
    {
     "name": "stderr",
     "output_type": "stream",
     "text": [
      " 11%|█         | 28/256 [00:34<04:28,  1.18s/it]"
     ]
    },
    {
     "name": "stdout",
     "output_type": "stream",
     "text": [
      "running backwards hook\n",
      "running backwards hook\n",
      "running backwards hook\n",
      "running backwards hook\n",
      "running backwards hook\n",
      "running backwards hook\n"
     ]
    },
    {
     "name": "stderr",
     "output_type": "stream",
     "text": [
      " 11%|█▏        | 29/256 [00:35<04:26,  1.18s/it]"
     ]
    },
    {
     "name": "stdout",
     "output_type": "stream",
     "text": [
      "running backwards hook\n",
      "running backwards hook\n",
      "running backwards hook\n",
      "running backwards hook\n",
      "running backwards hook\n",
      "running backwards hook\n"
     ]
    },
    {
     "name": "stderr",
     "output_type": "stream",
     "text": [
      " 12%|█▏        | 30/256 [00:37<04:46,  1.27s/it]"
     ]
    },
    {
     "name": "stdout",
     "output_type": "stream",
     "text": [
      "running backwards hook\n",
      "running backwards hook\n",
      "running backwards hook\n",
      "running backwards hook\n",
      "running backwards hook\n",
      "running backwards hook\n"
     ]
    },
    {
     "name": "stderr",
     "output_type": "stream",
     "text": [
      " 12%|█▏        | 31/256 [00:38<04:50,  1.29s/it]"
     ]
    },
    {
     "name": "stdout",
     "output_type": "stream",
     "text": [
      "running backwards hook\n",
      "running backwards hook\n",
      "running backwards hook\n",
      "running backwards hook\n",
      "running backwards hook\n",
      "running backwards hook\n"
     ]
    },
    {
     "name": "stderr",
     "output_type": "stream",
     "text": [
      " 12%|█▎        | 32/256 [00:39<04:45,  1.28s/it]"
     ]
    },
    {
     "name": "stdout",
     "output_type": "stream",
     "text": [
      "running backwards hook\n",
      "running backwards hook\n",
      "running backwards hook\n",
      "running backwards hook\n",
      "running backwards hook\n",
      "running backwards hook\n"
     ]
    },
    {
     "name": "stderr",
     "output_type": "stream",
     "text": [
      " 13%|█▎        | 33/256 [00:41<04:37,  1.25s/it]"
     ]
    },
    {
     "name": "stdout",
     "output_type": "stream",
     "text": [
      "running backwards hook\n",
      "running backwards hook\n",
      "running backwards hook\n",
      "running backwards hook\n",
      "running backwards hook\n",
      "running backwards hook\n"
     ]
    },
    {
     "name": "stderr",
     "output_type": "stream",
     "text": [
      " 13%|█▎        | 34/256 [00:42<04:31,  1.22s/it]"
     ]
    },
    {
     "name": "stdout",
     "output_type": "stream",
     "text": [
      "running backwards hook\n",
      "running backwards hook\n",
      "running backwards hook\n",
      "running backwards hook\n",
      "running backwards hook\n",
      "running backwards hook\n"
     ]
    },
    {
     "name": "stderr",
     "output_type": "stream",
     "text": [
      " 14%|█▎        | 35/256 [00:43<04:27,  1.21s/it]"
     ]
    },
    {
     "name": "stdout",
     "output_type": "stream",
     "text": [
      "running backwards hook\n",
      "running backwards hook\n",
      "running backwards hook\n",
      "running backwards hook\n",
      "running backwards hook\n",
      "running backwards hook\n"
     ]
    },
    {
     "name": "stderr",
     "output_type": "stream",
     "text": [
      " 14%|█▍        | 36/256 [00:44<04:23,  1.20s/it]"
     ]
    },
    {
     "name": "stdout",
     "output_type": "stream",
     "text": [
      "running backwards hook\n",
      "running backwards hook\n",
      "running backwards hook\n",
      "running backwards hook\n",
      "running backwards hook\n",
      "running backwards hook\n"
     ]
    },
    {
     "name": "stderr",
     "output_type": "stream",
     "text": [
      " 14%|█▍        | 37/256 [00:45<04:21,  1.19s/it]"
     ]
    },
    {
     "name": "stdout",
     "output_type": "stream",
     "text": [
      "running backwards hook\n",
      "running backwards hook\n",
      "running backwards hook\n",
      "running backwards hook\n",
      "running backwards hook\n",
      "running backwards hook\n"
     ]
    },
    {
     "name": "stderr",
     "output_type": "stream",
     "text": [
      " 15%|█▍        | 38/256 [00:47<04:17,  1.18s/it]"
     ]
    },
    {
     "name": "stdout",
     "output_type": "stream",
     "text": [
      "running backwards hook\n",
      "running backwards hook\n",
      "running backwards hook\n",
      "running backwards hook\n",
      "running backwards hook\n",
      "running backwards hook\n"
     ]
    },
    {
     "name": "stderr",
     "output_type": "stream",
     "text": [
      " 15%|█▌        | 39/256 [00:48<04:16,  1.18s/it]"
     ]
    },
    {
     "name": "stdout",
     "output_type": "stream",
     "text": [
      "running backwards hook\n",
      "running backwards hook\n",
      "running backwards hook\n",
      "running backwards hook\n",
      "running backwards hook\n",
      "running backwards hook\n"
     ]
    },
    {
     "name": "stderr",
     "output_type": "stream",
     "text": [
      " 16%|█▌        | 40/256 [00:49<04:14,  1.18s/it]"
     ]
    },
    {
     "name": "stdout",
     "output_type": "stream",
     "text": [
      "running backwards hook\n",
      "running backwards hook\n",
      "running backwards hook\n",
      "running backwards hook\n",
      "running backwards hook\n",
      "running backwards hook\n"
     ]
    },
    {
     "name": "stderr",
     "output_type": "stream",
     "text": [
      " 16%|█▌        | 41/256 [00:50<04:13,  1.18s/it]"
     ]
    },
    {
     "name": "stdout",
     "output_type": "stream",
     "text": [
      "running backwards hook\n",
      "running backwards hook\n",
      "running backwards hook\n",
      "running backwards hook\n",
      "running backwards hook\n",
      "running backwards hook\n"
     ]
    },
    {
     "name": "stderr",
     "output_type": "stream",
     "text": [
      " 16%|█▋        | 42/256 [00:51<04:12,  1.18s/it]"
     ]
    },
    {
     "name": "stdout",
     "output_type": "stream",
     "text": [
      "running backwards hook\n",
      "running backwards hook\n",
      "running backwards hook\n",
      "running backwards hook\n",
      "running backwards hook\n",
      "running backwards hook\n"
     ]
    },
    {
     "name": "stderr",
     "output_type": "stream",
     "text": [
      " 17%|█▋        | 43/256 [00:52<04:11,  1.18s/it]"
     ]
    },
    {
     "name": "stdout",
     "output_type": "stream",
     "text": [
      "running backwards hook\n",
      "running backwards hook\n",
      "running backwards hook\n",
      "running backwards hook\n",
      "running backwards hook\n",
      "running backwards hook\n"
     ]
    },
    {
     "name": "stderr",
     "output_type": "stream",
     "text": [
      " 17%|█▋        | 44/256 [00:54<04:12,  1.19s/it]"
     ]
    },
    {
     "name": "stdout",
     "output_type": "stream",
     "text": [
      "running backwards hook\n",
      "running backwards hook\n",
      "running backwards hook\n",
      "running backwards hook\n",
      "running backwards hook\n",
      "running backwards hook\n"
     ]
    },
    {
     "name": "stderr",
     "output_type": "stream",
     "text": [
      " 18%|█▊        | 45/256 [00:55<04:09,  1.18s/it]"
     ]
    },
    {
     "name": "stdout",
     "output_type": "stream",
     "text": [
      "running backwards hook\n",
      "running backwards hook\n",
      "running backwards hook\n",
      "running backwards hook\n",
      "running backwards hook\n",
      "running backwards hook\n"
     ]
    },
    {
     "name": "stderr",
     "output_type": "stream",
     "text": [
      " 18%|█▊        | 46/256 [00:56<04:08,  1.18s/it]"
     ]
    },
    {
     "name": "stdout",
     "output_type": "stream",
     "text": [
      "running backwards hook\n",
      "running backwards hook\n",
      "running backwards hook\n",
      "running backwards hook\n",
      "running backwards hook\n",
      "running backwards hook\n"
     ]
    },
    {
     "name": "stderr",
     "output_type": "stream",
     "text": [
      " 18%|█▊        | 47/256 [00:57<04:07,  1.18s/it]"
     ]
    },
    {
     "name": "stdout",
     "output_type": "stream",
     "text": [
      "running backwards hook\n",
      "running backwards hook\n",
      "running backwards hook\n",
      "running backwards hook\n",
      "running backwards hook\n",
      "running backwards hook\n"
     ]
    },
    {
     "name": "stderr",
     "output_type": "stream",
     "text": [
      " 19%|█▉        | 48/256 [00:58<04:05,  1.18s/it]"
     ]
    },
    {
     "name": "stdout",
     "output_type": "stream",
     "text": [
      "running backwards hook\n",
      "running backwards hook\n",
      "running backwards hook\n",
      "running backwards hook\n",
      "running backwards hook\n",
      "running backwards hook\n"
     ]
    },
    {
     "name": "stderr",
     "output_type": "stream",
     "text": [
      " 19%|█▉        | 49/256 [01:00<04:04,  1.18s/it]"
     ]
    },
    {
     "name": "stdout",
     "output_type": "stream",
     "text": [
      "running backwards hook\n",
      "running backwards hook\n",
      "running backwards hook\n",
      "running backwards hook\n",
      "running backwards hook\n",
      "running backwards hook\n"
     ]
    },
    {
     "name": "stderr",
     "output_type": "stream",
     "text": [
      " 20%|█▉        | 50/256 [01:01<04:03,  1.18s/it]"
     ]
    },
    {
     "name": "stdout",
     "output_type": "stream",
     "text": [
      "running backwards hook\n",
      "running backwards hook\n",
      "running backwards hook\n",
      "running backwards hook\n",
      "running backwards hook\n",
      "running backwards hook\n"
     ]
    },
    {
     "name": "stderr",
     "output_type": "stream",
     "text": [
      " 20%|█▉        | 51/256 [01:02<04:02,  1.18s/it]"
     ]
    },
    {
     "name": "stdout",
     "output_type": "stream",
     "text": [
      "running backwards hook\n",
      "running backwards hook\n",
      "running backwards hook\n",
      "running backwards hook\n",
      "running backwards hook\n",
      "running backwards hook\n"
     ]
    },
    {
     "name": "stderr",
     "output_type": "stream",
     "text": [
      " 20%|██        | 52/256 [01:03<04:00,  1.18s/it]"
     ]
    },
    {
     "name": "stdout",
     "output_type": "stream",
     "text": [
      "running backwards hook\n",
      "running backwards hook\n",
      "running backwards hook\n",
      "running backwards hook\n",
      "running backwards hook\n",
      "running backwards hook\n"
     ]
    },
    {
     "name": "stderr",
     "output_type": "stream",
     "text": [
      " 21%|██        | 53/256 [01:04<03:59,  1.18s/it]"
     ]
    },
    {
     "name": "stdout",
     "output_type": "stream",
     "text": [
      "running backwards hook\n",
      "running backwards hook\n",
      "running backwards hook\n",
      "running backwards hook\n",
      "running backwards hook\n",
      "running backwards hook\n"
     ]
    },
    {
     "name": "stderr",
     "output_type": "stream",
     "text": [
      " 21%|██        | 54/256 [01:05<03:59,  1.19s/it]"
     ]
    },
    {
     "name": "stdout",
     "output_type": "stream",
     "text": [
      "running backwards hook\n",
      "running backwards hook\n",
      "running backwards hook\n",
      "running backwards hook\n",
      "running backwards hook\n",
      "running backwards hook\n"
     ]
    },
    {
     "name": "stderr",
     "output_type": "stream",
     "text": [
      " 21%|██▏       | 55/256 [01:07<03:59,  1.19s/it]"
     ]
    },
    {
     "name": "stdout",
     "output_type": "stream",
     "text": [
      "running backwards hook\n",
      "running backwards hook\n",
      "running backwards hook\n",
      "running backwards hook\n",
      "running backwards hook\n",
      "running backwards hook\n"
     ]
    },
    {
     "name": "stderr",
     "output_type": "stream",
     "text": [
      " 22%|██▏       | 56/256 [01:08<03:57,  1.19s/it]"
     ]
    },
    {
     "name": "stdout",
     "output_type": "stream",
     "text": [
      "running backwards hook\n",
      "running backwards hook\n",
      "running backwards hook\n",
      "running backwards hook\n",
      "running backwards hook\n",
      "running backwards hook\n"
     ]
    },
    {
     "name": "stderr",
     "output_type": "stream",
     "text": [
      " 22%|██▏       | 57/256 [01:09<03:55,  1.18s/it]"
     ]
    },
    {
     "name": "stdout",
     "output_type": "stream",
     "text": [
      "running backwards hook\n",
      "running backwards hook\n",
      "running backwards hook\n",
      "running backwards hook\n",
      "running backwards hook\n",
      "running backwards hook\n"
     ]
    },
    {
     "name": "stderr",
     "output_type": "stream",
     "text": [
      " 23%|██▎       | 58/256 [01:10<03:54,  1.18s/it]"
     ]
    },
    {
     "name": "stdout",
     "output_type": "stream",
     "text": [
      "running backwards hook\n",
      "running backwards hook\n",
      "running backwards hook\n",
      "running backwards hook\n",
      "running backwards hook\n",
      "running backwards hook\n"
     ]
    },
    {
     "name": "stderr",
     "output_type": "stream",
     "text": [
      " 23%|██▎       | 59/256 [01:11<03:52,  1.18s/it]"
     ]
    },
    {
     "name": "stdout",
     "output_type": "stream",
     "text": [
      "running backwards hook\n",
      "running backwards hook\n",
      "running backwards hook\n",
      "running backwards hook\n",
      "running backwards hook\n",
      "running backwards hook\n"
     ]
    },
    {
     "name": "stderr",
     "output_type": "stream",
     "text": [
      " 23%|██▎       | 60/256 [01:13<03:51,  1.18s/it]"
     ]
    },
    {
     "name": "stdout",
     "output_type": "stream",
     "text": [
      "running backwards hook\n",
      "running backwards hook\n",
      "running backwards hook\n",
      "running backwards hook\n",
      "running backwards hook\n",
      "running backwards hook\n"
     ]
    },
    {
     "name": "stderr",
     "output_type": "stream",
     "text": [
      " 24%|██▍       | 61/256 [01:14<03:49,  1.18s/it]"
     ]
    },
    {
     "name": "stdout",
     "output_type": "stream",
     "text": [
      "running backwards hook\n",
      "running backwards hook\n",
      "running backwards hook\n",
      "running backwards hook\n",
      "running backwards hook\n",
      "running backwards hook\n"
     ]
    },
    {
     "name": "stderr",
     "output_type": "stream",
     "text": [
      " 24%|██▍       | 62/256 [01:15<03:48,  1.18s/it]"
     ]
    },
    {
     "name": "stdout",
     "output_type": "stream",
     "text": [
      "running backwards hook\n",
      "running backwards hook\n",
      "running backwards hook\n",
      "running backwards hook\n",
      "running backwards hook\n",
      "running backwards hook\n"
     ]
    },
    {
     "name": "stderr",
     "output_type": "stream",
     "text": [
      " 25%|██▍       | 63/256 [01:16<03:47,  1.18s/it]"
     ]
    },
    {
     "name": "stdout",
     "output_type": "stream",
     "text": [
      "running backwards hook\n",
      "running backwards hook\n",
      "running backwards hook\n",
      "running backwards hook\n",
      "running backwards hook\n",
      "running backwards hook\n"
     ]
    },
    {
     "name": "stderr",
     "output_type": "stream",
     "text": [
      " 25%|██▌       | 64/256 [01:17<03:48,  1.19s/it]"
     ]
    },
    {
     "name": "stdout",
     "output_type": "stream",
     "text": [
      "running backwards hook\n",
      "running backwards hook\n",
      "running backwards hook\n",
      "running backwards hook\n",
      "running backwards hook\n",
      "running backwards hook\n"
     ]
    },
    {
     "name": "stderr",
     "output_type": "stream",
     "text": [
      " 25%|██▌       | 65/256 [01:19<03:55,  1.23s/it]"
     ]
    },
    {
     "name": "stdout",
     "output_type": "stream",
     "text": [
      "running backwards hook\n",
      "running backwards hook\n",
      "running backwards hook\n",
      "running backwards hook\n",
      "running backwards hook\n",
      "running backwards hook\n"
     ]
    },
    {
     "name": "stderr",
     "output_type": "stream",
     "text": [
      " 26%|██▌       | 66/256 [01:20<03:58,  1.26s/it]"
     ]
    },
    {
     "name": "stdout",
     "output_type": "stream",
     "text": [
      "running backwards hook\n",
      "running backwards hook\n",
      "running backwards hook\n",
      "running backwards hook\n",
      "running backwards hook\n",
      "running backwards hook\n"
     ]
    },
    {
     "name": "stderr",
     "output_type": "stream",
     "text": [
      " 26%|██▌       | 67/256 [01:21<03:55,  1.25s/it]"
     ]
    },
    {
     "name": "stdout",
     "output_type": "stream",
     "text": [
      "running backwards hook\n",
      "running backwards hook\n",
      "running backwards hook\n",
      "running backwards hook\n",
      "running backwards hook\n",
      "running backwards hook\n"
     ]
    },
    {
     "name": "stderr",
     "output_type": "stream",
     "text": [
      " 27%|██▋       | 68/256 [01:22<03:58,  1.27s/it]"
     ]
    },
    {
     "name": "stdout",
     "output_type": "stream",
     "text": [
      "running backwards hook\n",
      "running backwards hook\n",
      "running backwards hook\n",
      "running backwards hook\n",
      "running backwards hook\n",
      "running backwards hook\n"
     ]
    },
    {
     "name": "stderr",
     "output_type": "stream",
     "text": [
      " 27%|██▋       | 69/256 [01:24<03:58,  1.28s/it]"
     ]
    },
    {
     "name": "stdout",
     "output_type": "stream",
     "text": [
      "running backwards hook\n",
      "running backwards hook\n",
      "running backwards hook\n",
      "running backwards hook\n",
      "running backwards hook\n",
      "running backwards hook\n"
     ]
    },
    {
     "name": "stderr",
     "output_type": "stream",
     "text": [
      " 27%|██▋       | 70/256 [01:25<03:56,  1.27s/it]"
     ]
    },
    {
     "name": "stdout",
     "output_type": "stream",
     "text": [
      "running backwards hook\n",
      "running backwards hook\n",
      "running backwards hook\n",
      "running backwards hook\n",
      "running backwards hook\n",
      "running backwards hook\n"
     ]
    },
    {
     "name": "stderr",
     "output_type": "stream",
     "text": [
      " 28%|██▊       | 71/256 [01:26<03:52,  1.26s/it]"
     ]
    },
    {
     "name": "stdout",
     "output_type": "stream",
     "text": [
      "running backwards hook\n",
      "running backwards hook\n",
      "running backwards hook\n",
      "running backwards hook\n",
      "running backwards hook\n",
      "running backwards hook\n"
     ]
    },
    {
     "name": "stderr",
     "output_type": "stream",
     "text": [
      " 28%|██▊       | 72/256 [01:27<03:48,  1.24s/it]"
     ]
    },
    {
     "name": "stdout",
     "output_type": "stream",
     "text": [
      "running backwards hook\n",
      "running backwards hook\n",
      "running backwards hook\n",
      "running backwards hook\n",
      "running backwards hook\n",
      "running backwards hook\n"
     ]
    },
    {
     "name": "stderr",
     "output_type": "stream",
     "text": [
      " 29%|██▊       | 73/256 [01:29<03:45,  1.23s/it]"
     ]
    },
    {
     "name": "stdout",
     "output_type": "stream",
     "text": [
      "running backwards hook\n",
      "running backwards hook\n",
      "running backwards hook\n",
      "running backwards hook\n",
      "running backwards hook\n",
      "running backwards hook\n"
     ]
    },
    {
     "name": "stderr",
     "output_type": "stream",
     "text": [
      " 29%|██▉       | 74/256 [01:30<03:41,  1.22s/it]"
     ]
    },
    {
     "name": "stdout",
     "output_type": "stream",
     "text": [
      "running backwards hook\n",
      "running backwards hook\n",
      "running backwards hook\n",
      "running backwards hook\n",
      "running backwards hook\n",
      "running backwards hook\n"
     ]
    },
    {
     "name": "stderr",
     "output_type": "stream",
     "text": [
      " 29%|██▉       | 75/256 [01:31<03:41,  1.22s/it]"
     ]
    },
    {
     "name": "stdout",
     "output_type": "stream",
     "text": [
      "running backwards hook\n",
      "running backwards hook\n",
      "running backwards hook\n",
      "running backwards hook\n",
      "running backwards hook\n",
      "running backwards hook\n"
     ]
    },
    {
     "name": "stderr",
     "output_type": "stream",
     "text": [
      " 30%|██▉       | 76/256 [01:32<03:42,  1.24s/it]"
     ]
    },
    {
     "name": "stdout",
     "output_type": "stream",
     "text": [
      "running backwards hook\n",
      "running backwards hook\n",
      "running backwards hook\n",
      "running backwards hook\n",
      "running backwards hook\n",
      "running backwards hook\n"
     ]
    },
    {
     "name": "stderr",
     "output_type": "stream",
     "text": [
      " 30%|███       | 77/256 [01:34<03:38,  1.22s/it]"
     ]
    },
    {
     "name": "stdout",
     "output_type": "stream",
     "text": [
      "running backwards hook\n",
      "running backwards hook\n",
      "running backwards hook\n",
      "running backwards hook\n",
      "running backwards hook\n",
      "running backwards hook\n"
     ]
    },
    {
     "name": "stderr",
     "output_type": "stream",
     "text": [
      " 30%|███       | 78/256 [01:35<03:45,  1.27s/it]"
     ]
    },
    {
     "name": "stdout",
     "output_type": "stream",
     "text": [
      "running backwards hook\n",
      "running backwards hook\n",
      "running backwards hook\n",
      "running backwards hook\n",
      "running backwards hook\n",
      "running backwards hook\n"
     ]
    },
    {
     "name": "stderr",
     "output_type": "stream",
     "text": [
      " 31%|███       | 79/256 [01:36<03:41,  1.25s/it]"
     ]
    },
    {
     "name": "stdout",
     "output_type": "stream",
     "text": [
      "running backwards hook\n",
      "running backwards hook\n",
      "running backwards hook\n",
      "running backwards hook\n",
      "running backwards hook\n",
      "running backwards hook\n"
     ]
    },
    {
     "name": "stderr",
     "output_type": "stream",
     "text": [
      " 31%|███▏      | 80/256 [01:37<03:39,  1.24s/it]"
     ]
    },
    {
     "name": "stdout",
     "output_type": "stream",
     "text": [
      "running backwards hook\n",
      "running backwards hook\n",
      "running backwards hook\n",
      "running backwards hook\n",
      "running backwards hook\n",
      "running backwards hook\n"
     ]
    },
    {
     "name": "stderr",
     "output_type": "stream",
     "text": [
      " 32%|███▏      | 81/256 [01:39<03:35,  1.23s/it]"
     ]
    },
    {
     "name": "stdout",
     "output_type": "stream",
     "text": [
      "running backwards hook\n",
      "running backwards hook\n",
      "running backwards hook\n",
      "running backwards hook\n",
      "running backwards hook\n",
      "running backwards hook\n"
     ]
    },
    {
     "name": "stderr",
     "output_type": "stream",
     "text": [
      " 32%|███▏      | 82/256 [01:40<03:37,  1.25s/it]"
     ]
    },
    {
     "name": "stdout",
     "output_type": "stream",
     "text": [
      "running backwards hook\n",
      "running backwards hook\n",
      "running backwards hook\n",
      "running backwards hook\n",
      "running backwards hook\n",
      "running backwards hook\n"
     ]
    },
    {
     "name": "stderr",
     "output_type": "stream",
     "text": [
      " 32%|███▏      | 83/256 [01:41<03:39,  1.27s/it]"
     ]
    },
    {
     "name": "stdout",
     "output_type": "stream",
     "text": [
      "running backwards hook\n",
      "running backwards hook\n",
      "running backwards hook\n",
      "running backwards hook\n",
      "running backwards hook\n",
      "running backwards hook\n"
     ]
    },
    {
     "name": "stderr",
     "output_type": "stream",
     "text": [
      " 33%|███▎      | 84/256 [01:42<03:33,  1.24s/it]"
     ]
    },
    {
     "name": "stdout",
     "output_type": "stream",
     "text": [
      "running backwards hook\n",
      "running backwards hook\n",
      "running backwards hook\n",
      "running backwards hook\n",
      "running backwards hook\n",
      "running backwards hook\n"
     ]
    },
    {
     "name": "stderr",
     "output_type": "stream",
     "text": [
      " 33%|███▎      | 85/256 [01:44<03:32,  1.24s/it]"
     ]
    },
    {
     "name": "stdout",
     "output_type": "stream",
     "text": [
      "running backwards hook\n",
      "running backwards hook\n",
      "running backwards hook\n",
      "running backwards hook\n",
      "running backwards hook\n",
      "running backwards hook\n"
     ]
    },
    {
     "name": "stderr",
     "output_type": "stream",
     "text": [
      " 34%|███▎      | 86/256 [01:45<03:29,  1.23s/it]"
     ]
    },
    {
     "name": "stdout",
     "output_type": "stream",
     "text": [
      "running backwards hook\n",
      "running backwards hook\n",
      "running backwards hook\n",
      "running backwards hook\n",
      "running backwards hook\n",
      "running backwards hook\n"
     ]
    },
    {
     "name": "stderr",
     "output_type": "stream",
     "text": [
      " 34%|███▍      | 87/256 [01:46<03:29,  1.24s/it]"
     ]
    },
    {
     "name": "stdout",
     "output_type": "stream",
     "text": [
      "running backwards hook\n",
      "running backwards hook\n",
      "running backwards hook\n",
      "running backwards hook\n",
      "running backwards hook\n",
      "running backwards hook\n"
     ]
    },
    {
     "name": "stderr",
     "output_type": "stream",
     "text": [
      " 34%|███▍      | 88/256 [01:47<03:23,  1.21s/it]"
     ]
    },
    {
     "name": "stdout",
     "output_type": "stream",
     "text": [
      "running backwards hook\n",
      "running backwards hook\n",
      "running backwards hook\n",
      "running backwards hook\n",
      "running backwards hook\n",
      "running backwards hook\n"
     ]
    },
    {
     "name": "stderr",
     "output_type": "stream",
     "text": [
      " 35%|███▍      | 89/256 [01:48<03:20,  1.20s/it]"
     ]
    },
    {
     "name": "stdout",
     "output_type": "stream",
     "text": [
      "running backwards hook\n",
      "running backwards hook\n",
      "running backwards hook\n",
      "running backwards hook\n",
      "running backwards hook\n",
      "running backwards hook\n"
     ]
    },
    {
     "name": "stderr",
     "output_type": "stream",
     "text": [
      " 35%|███▌      | 90/256 [01:50<03:18,  1.20s/it]"
     ]
    },
    {
     "name": "stdout",
     "output_type": "stream",
     "text": [
      "running backwards hook\n",
      "running backwards hook\n",
      "running backwards hook\n",
      "running backwards hook\n",
      "running backwards hook\n",
      "running backwards hook\n"
     ]
    },
    {
     "name": "stderr",
     "output_type": "stream",
     "text": [
      " 36%|███▌      | 91/256 [01:51<03:16,  1.19s/it]"
     ]
    },
    {
     "name": "stdout",
     "output_type": "stream",
     "text": [
      "running backwards hook\n",
      "running backwards hook\n",
      "running backwards hook\n",
      "running backwards hook\n",
      "running backwards hook\n",
      "running backwards hook\n"
     ]
    },
    {
     "name": "stderr",
     "output_type": "stream",
     "text": [
      " 36%|███▌      | 92/256 [01:52<03:16,  1.20s/it]"
     ]
    },
    {
     "name": "stdout",
     "output_type": "stream",
     "text": [
      "running backwards hook\n",
      "running backwards hook\n",
      "running backwards hook\n",
      "running backwards hook\n",
      "running backwards hook\n",
      "running backwards hook\n"
     ]
    },
    {
     "name": "stderr",
     "output_type": "stream",
     "text": [
      " 36%|███▋      | 93/256 [01:53<03:14,  1.20s/it]"
     ]
    },
    {
     "name": "stdout",
     "output_type": "stream",
     "text": [
      "running backwards hook\n",
      "running backwards hook\n",
      "running backwards hook\n",
      "running backwards hook\n",
      "running backwards hook\n",
      "running backwards hook\n"
     ]
    },
    {
     "name": "stderr",
     "output_type": "stream",
     "text": [
      " 37%|███▋      | 94/256 [01:54<03:13,  1.19s/it]"
     ]
    },
    {
     "name": "stdout",
     "output_type": "stream",
     "text": [
      "running backwards hook\n",
      "running backwards hook\n",
      "running backwards hook\n",
      "running backwards hook\n",
      "running backwards hook\n",
      "running backwards hook\n"
     ]
    },
    {
     "name": "stderr",
     "output_type": "stream",
     "text": [
      " 37%|███▋      | 95/256 [01:56<03:10,  1.19s/it]"
     ]
    },
    {
     "name": "stdout",
     "output_type": "stream",
     "text": [
      "running backwards hook\n",
      "running backwards hook\n",
      "running backwards hook\n",
      "running backwards hook\n",
      "running backwards hook\n",
      "running backwards hook\n"
     ]
    },
    {
     "name": "stderr",
     "output_type": "stream",
     "text": [
      " 38%|███▊      | 96/256 [01:57<03:09,  1.19s/it]"
     ]
    },
    {
     "name": "stdout",
     "output_type": "stream",
     "text": [
      "running backwards hook\n",
      "running backwards hook\n",
      "running backwards hook\n",
      "running backwards hook\n",
      "running backwards hook\n",
      "running backwards hook\n"
     ]
    },
    {
     "name": "stderr",
     "output_type": "stream",
     "text": [
      " 38%|███▊      | 97/256 [01:58<03:08,  1.19s/it]"
     ]
    },
    {
     "name": "stdout",
     "output_type": "stream",
     "text": [
      "running backwards hook\n",
      "running backwards hook\n",
      "running backwards hook\n",
      "running backwards hook\n",
      "running backwards hook\n",
      "running backwards hook\n"
     ]
    },
    {
     "name": "stderr",
     "output_type": "stream",
     "text": [
      " 38%|███▊      | 98/256 [01:59<03:10,  1.20s/it]"
     ]
    },
    {
     "name": "stdout",
     "output_type": "stream",
     "text": [
      "running backwards hook\n",
      "running backwards hook\n",
      "running backwards hook\n",
      "running backwards hook\n",
      "running backwards hook\n",
      "running backwards hook\n"
     ]
    },
    {
     "name": "stderr",
     "output_type": "stream",
     "text": [
      " 39%|███▊      | 99/256 [02:00<03:09,  1.20s/it]"
     ]
    },
    {
     "name": "stdout",
     "output_type": "stream",
     "text": [
      "running backwards hook\n",
      "running backwards hook\n",
      "running backwards hook\n",
      "running backwards hook\n",
      "running backwards hook\n",
      "running backwards hook\n"
     ]
    },
    {
     "name": "stderr",
     "output_type": "stream",
     "text": [
      " 39%|███▉      | 100/256 [02:02<03:08,  1.21s/it]"
     ]
    },
    {
     "name": "stdout",
     "output_type": "stream",
     "text": [
      "running backwards hook\n",
      "running backwards hook\n",
      "running backwards hook\n",
      "running backwards hook\n",
      "running backwards hook\n",
      "running backwards hook\n"
     ]
    },
    {
     "name": "stderr",
     "output_type": "stream",
     "text": [
      " 39%|███▉      | 101/256 [02:03<03:11,  1.24s/it]"
     ]
    },
    {
     "name": "stdout",
     "output_type": "stream",
     "text": [
      "running backwards hook\n",
      "running backwards hook\n",
      "running backwards hook\n",
      "running backwards hook\n",
      "running backwards hook\n",
      "running backwards hook\n"
     ]
    },
    {
     "name": "stderr",
     "output_type": "stream",
     "text": [
      " 40%|███▉      | 102/256 [02:04<03:20,  1.30s/it]"
     ]
    },
    {
     "name": "stdout",
     "output_type": "stream",
     "text": [
      "running backwards hook\n",
      "running backwards hook\n",
      "running backwards hook\n",
      "running backwards hook\n",
      "running backwards hook\n",
      "running backwards hook\n"
     ]
    },
    {
     "name": "stderr",
     "output_type": "stream",
     "text": [
      " 40%|████      | 103/256 [02:06<03:16,  1.28s/it]"
     ]
    },
    {
     "name": "stdout",
     "output_type": "stream",
     "text": [
      "running backwards hook\n",
      "running backwards hook\n",
      "running backwards hook\n",
      "running backwards hook\n",
      "running backwards hook\n",
      "running backwards hook\n"
     ]
    },
    {
     "name": "stderr",
     "output_type": "stream",
     "text": [
      " 41%|████      | 104/256 [02:07<03:10,  1.25s/it]"
     ]
    },
    {
     "name": "stdout",
     "output_type": "stream",
     "text": [
      "running backwards hook\n",
      "running backwards hook\n",
      "running backwards hook\n",
      "running backwards hook\n",
      "running backwards hook\n",
      "running backwards hook\n"
     ]
    },
    {
     "name": "stderr",
     "output_type": "stream",
     "text": [
      " 41%|████      | 105/256 [02:08<03:06,  1.24s/it]"
     ]
    },
    {
     "name": "stdout",
     "output_type": "stream",
     "text": [
      "running backwards hook\n",
      "running backwards hook\n",
      "running backwards hook\n",
      "running backwards hook\n",
      "running backwards hook\n",
      "running backwards hook\n"
     ]
    },
    {
     "name": "stderr",
     "output_type": "stream",
     "text": [
      " 41%|████▏     | 106/256 [02:09<03:04,  1.23s/it]"
     ]
    },
    {
     "name": "stdout",
     "output_type": "stream",
     "text": [
      "running backwards hook\n",
      "running backwards hook\n",
      "running backwards hook\n",
      "running backwards hook\n",
      "running backwards hook\n",
      "running backwards hook\n"
     ]
    },
    {
     "name": "stderr",
     "output_type": "stream",
     "text": [
      " 42%|████▏     | 107/256 [02:10<03:05,  1.25s/it]"
     ]
    },
    {
     "name": "stdout",
     "output_type": "stream",
     "text": [
      "running backwards hook\n",
      "running backwards hook\n",
      "running backwards hook\n",
      "running backwards hook\n",
      "running backwards hook\n",
      "running backwards hook\n"
     ]
    },
    {
     "name": "stderr",
     "output_type": "stream",
     "text": [
      " 42%|████▏     | 108/256 [02:12<03:04,  1.24s/it]"
     ]
    },
    {
     "name": "stdout",
     "output_type": "stream",
     "text": [
      "running backwards hook\n",
      "running backwards hook\n",
      "running backwards hook\n",
      "running backwards hook\n",
      "running backwards hook\n",
      "running backwards hook\n"
     ]
    },
    {
     "name": "stderr",
     "output_type": "stream",
     "text": [
      " 43%|████▎     | 109/256 [02:13<02:59,  1.22s/it]"
     ]
    },
    {
     "name": "stdout",
     "output_type": "stream",
     "text": [
      "running backwards hook\n",
      "running backwards hook\n",
      "running backwards hook\n",
      "running backwards hook\n",
      "running backwards hook\n",
      "running backwards hook\n"
     ]
    },
    {
     "name": "stderr",
     "output_type": "stream",
     "text": [
      " 43%|████▎     | 110/256 [02:14<02:56,  1.21s/it]"
     ]
    },
    {
     "name": "stdout",
     "output_type": "stream",
     "text": [
      "running backwards hook\n",
      "running backwards hook\n",
      "running backwards hook\n",
      "running backwards hook\n",
      "running backwards hook\n",
      "running backwards hook\n"
     ]
    },
    {
     "name": "stderr",
     "output_type": "stream",
     "text": [
      " 43%|████▎     | 111/256 [02:15<02:53,  1.20s/it]"
     ]
    },
    {
     "name": "stdout",
     "output_type": "stream",
     "text": [
      "running backwards hook\n",
      "running backwards hook\n",
      "running backwards hook\n",
      "running backwards hook\n",
      "running backwards hook\n",
      "running backwards hook\n"
     ]
    },
    {
     "name": "stderr",
     "output_type": "stream",
     "text": [
      " 44%|████▍     | 112/256 [02:17<03:03,  1.27s/it]"
     ]
    },
    {
     "name": "stdout",
     "output_type": "stream",
     "text": [
      "running backwards hook\n",
      "running backwards hook\n",
      "running backwards hook\n",
      "running backwards hook\n",
      "running backwards hook\n",
      "running backwards hook\n"
     ]
    },
    {
     "name": "stderr",
     "output_type": "stream",
     "text": [
      " 44%|████▍     | 113/256 [02:18<03:00,  1.26s/it]"
     ]
    },
    {
     "name": "stdout",
     "output_type": "stream",
     "text": [
      "running backwards hook\n",
      "running backwards hook\n",
      "running backwards hook\n",
      "running backwards hook\n",
      "running backwards hook\n",
      "running backwards hook\n"
     ]
    },
    {
     "name": "stderr",
     "output_type": "stream",
     "text": [
      " 45%|████▍     | 114/256 [02:19<02:55,  1.24s/it]"
     ]
    },
    {
     "name": "stdout",
     "output_type": "stream",
     "text": [
      "running backwards hook\n",
      "running backwards hook\n",
      "running backwards hook\n",
      "running backwards hook\n",
      "running backwards hook\n",
      "running backwards hook\n"
     ]
    },
    {
     "name": "stderr",
     "output_type": "stream",
     "text": [
      " 45%|████▍     | 115/256 [02:20<02:51,  1.22s/it]"
     ]
    },
    {
     "name": "stdout",
     "output_type": "stream",
     "text": [
      "running backwards hook\n",
      "running backwards hook\n",
      "running backwards hook\n",
      "running backwards hook\n",
      "running backwards hook\n",
      "running backwards hook\n"
     ]
    },
    {
     "name": "stderr",
     "output_type": "stream",
     "text": [
      " 45%|████▌     | 116/256 [02:21<02:52,  1.23s/it]"
     ]
    },
    {
     "name": "stdout",
     "output_type": "stream",
     "text": [
      "running backwards hook\n",
      "running backwards hook\n",
      "running backwards hook\n",
      "running backwards hook\n",
      "running backwards hook\n",
      "running backwards hook\n"
     ]
    },
    {
     "name": "stderr",
     "output_type": "stream",
     "text": [
      " 46%|████▌     | 117/256 [02:23<02:49,  1.22s/it]"
     ]
    },
    {
     "name": "stdout",
     "output_type": "stream",
     "text": [
      "running backwards hook\n",
      "running backwards hook\n",
      "running backwards hook\n",
      "running backwards hook\n",
      "running backwards hook\n",
      "running backwards hook\n"
     ]
    },
    {
     "name": "stderr",
     "output_type": "stream",
     "text": [
      " 46%|████▌     | 118/256 [02:24<02:46,  1.20s/it]"
     ]
    },
    {
     "name": "stdout",
     "output_type": "stream",
     "text": [
      "running backwards hook\n",
      "running backwards hook\n",
      "running backwards hook\n",
      "running backwards hook\n",
      "running backwards hook\n",
      "running backwards hook\n"
     ]
    },
    {
     "name": "stderr",
     "output_type": "stream",
     "text": [
      " 46%|████▋     | 119/256 [02:25<02:47,  1.22s/it]"
     ]
    },
    {
     "name": "stdout",
     "output_type": "stream",
     "text": [
      "running backwards hook\n",
      "running backwards hook\n",
      "running backwards hook\n",
      "running backwards hook\n",
      "running backwards hook\n",
      "running backwards hook\n"
     ]
    },
    {
     "name": "stderr",
     "output_type": "stream",
     "text": [
      " 47%|████▋     | 120/256 [02:26<02:45,  1.22s/it]"
     ]
    },
    {
     "name": "stdout",
     "output_type": "stream",
     "text": [
      "running backwards hook\n",
      "running backwards hook\n",
      "running backwards hook\n",
      "running backwards hook\n",
      "running backwards hook\n",
      "running backwards hook\n"
     ]
    },
    {
     "name": "stderr",
     "output_type": "stream",
     "text": [
      " 47%|████▋     | 121/256 [02:28<02:42,  1.21s/it]"
     ]
    },
    {
     "name": "stdout",
     "output_type": "stream",
     "text": [
      "running backwards hook\n",
      "running backwards hook\n",
      "running backwards hook\n",
      "running backwards hook\n",
      "running backwards hook\n",
      "running backwards hook\n"
     ]
    },
    {
     "name": "stderr",
     "output_type": "stream",
     "text": [
      " 48%|████▊     | 122/256 [02:29<02:40,  1.20s/it]"
     ]
    },
    {
     "name": "stdout",
     "output_type": "stream",
     "text": [
      "running backwards hook\n",
      "running backwards hook\n",
      "running backwards hook\n",
      "running backwards hook\n",
      "running backwards hook\n",
      "running backwards hook\n"
     ]
    },
    {
     "name": "stderr",
     "output_type": "stream",
     "text": [
      " 48%|████▊     | 123/256 [02:30<02:42,  1.22s/it]"
     ]
    },
    {
     "name": "stdout",
     "output_type": "stream",
     "text": [
      "running backwards hook\n",
      "running backwards hook\n",
      "running backwards hook\n",
      "running backwards hook\n",
      "running backwards hook\n",
      "running backwards hook\n"
     ]
    },
    {
     "name": "stderr",
     "output_type": "stream",
     "text": [
      " 48%|████▊     | 124/256 [02:31<02:44,  1.25s/it]"
     ]
    },
    {
     "name": "stdout",
     "output_type": "stream",
     "text": [
      "running backwards hook\n",
      "running backwards hook\n",
      "running backwards hook\n",
      "running backwards hook\n",
      "running backwards hook\n",
      "running backwards hook\n"
     ]
    },
    {
     "name": "stderr",
     "output_type": "stream",
     "text": [
      " 49%|████▉     | 125/256 [02:33<02:43,  1.25s/it]"
     ]
    },
    {
     "name": "stdout",
     "output_type": "stream",
     "text": [
      "running backwards hook\n",
      "running backwards hook\n",
      "running backwards hook\n",
      "running backwards hook\n",
      "running backwards hook\n",
      "running backwards hook\n"
     ]
    },
    {
     "name": "stderr",
     "output_type": "stream",
     "text": [
      " 49%|████▉     | 126/256 [02:34<02:42,  1.25s/it]"
     ]
    },
    {
     "name": "stdout",
     "output_type": "stream",
     "text": [
      "running backwards hook\n",
      "running backwards hook\n",
      "running backwards hook\n",
      "running backwards hook\n",
      "running backwards hook\n",
      "running backwards hook\n"
     ]
    },
    {
     "name": "stderr",
     "output_type": "stream",
     "text": [
      " 50%|████▉     | 127/256 [02:35<02:40,  1.25s/it]"
     ]
    },
    {
     "name": "stdout",
     "output_type": "stream",
     "text": [
      "running backwards hook\n",
      "running backwards hook\n",
      "running backwards hook\n",
      "running backwards hook\n",
      "running backwards hook\n",
      "running backwards hook\n"
     ]
    },
    {
     "name": "stderr",
     "output_type": "stream",
     "text": [
      " 50%|█████     | 128/256 [02:36<02:36,  1.22s/it]"
     ]
    },
    {
     "name": "stdout",
     "output_type": "stream",
     "text": [
      "running backwards hook\n",
      "running backwards hook\n",
      "running backwards hook\n",
      "running backwards hook\n",
      "running backwards hook\n",
      "running backwards hook\n"
     ]
    },
    {
     "name": "stderr",
     "output_type": "stream",
     "text": [
      " 50%|█████     | 129/256 [02:37<02:33,  1.21s/it]"
     ]
    },
    {
     "name": "stdout",
     "output_type": "stream",
     "text": [
      "running backwards hook\n",
      "running backwards hook\n",
      "running backwards hook\n",
      "running backwards hook\n",
      "running backwards hook\n",
      "running backwards hook\n"
     ]
    },
    {
     "name": "stderr",
     "output_type": "stream",
     "text": [
      " 51%|█████     | 130/256 [02:39<02:30,  1.20s/it]"
     ]
    },
    {
     "name": "stdout",
     "output_type": "stream",
     "text": [
      "running backwards hook\n",
      "running backwards hook\n",
      "running backwards hook\n",
      "running backwards hook\n",
      "running backwards hook\n",
      "running backwards hook\n"
     ]
    },
    {
     "name": "stderr",
     "output_type": "stream",
     "text": [
      " 51%|█████     | 131/256 [02:40<02:30,  1.20s/it]"
     ]
    },
    {
     "name": "stdout",
     "output_type": "stream",
     "text": [
      "running backwards hook\n",
      "running backwards hook\n",
      "running backwards hook\n",
      "running backwards hook\n",
      "running backwards hook\n",
      "running backwards hook\n"
     ]
    },
    {
     "name": "stderr",
     "output_type": "stream",
     "text": [
      " 52%|█████▏    | 132/256 [02:41<02:28,  1.20s/it]"
     ]
    },
    {
     "name": "stdout",
     "output_type": "stream",
     "text": [
      "running backwards hook\n",
      "running backwards hook\n",
      "running backwards hook\n",
      "running backwards hook\n",
      "running backwards hook\n",
      "running backwards hook\n"
     ]
    },
    {
     "name": "stderr",
     "output_type": "stream",
     "text": [
      " 52%|█████▏    | 133/256 [02:42<02:26,  1.19s/it]"
     ]
    },
    {
     "name": "stdout",
     "output_type": "stream",
     "text": [
      "running backwards hook\n",
      "running backwards hook\n",
      "running backwards hook\n",
      "running backwards hook\n",
      "running backwards hook\n",
      "running backwards hook\n"
     ]
    },
    {
     "name": "stderr",
     "output_type": "stream",
     "text": [
      " 52%|█████▏    | 134/256 [02:43<02:24,  1.18s/it]"
     ]
    },
    {
     "name": "stdout",
     "output_type": "stream",
     "text": [
      "running backwards hook\n",
      "running backwards hook\n",
      "running backwards hook\n",
      "running backwards hook\n",
      "running backwards hook\n",
      "running backwards hook\n"
     ]
    },
    {
     "name": "stderr",
     "output_type": "stream",
     "text": [
      " 53%|█████▎    | 135/256 [02:44<02:23,  1.18s/it]"
     ]
    },
    {
     "name": "stdout",
     "output_type": "stream",
     "text": [
      "running backwards hook\n",
      "running backwards hook\n",
      "running backwards hook\n",
      "running backwards hook\n",
      "running backwards hook\n",
      "running backwards hook\n"
     ]
    },
    {
     "name": "stderr",
     "output_type": "stream",
     "text": [
      " 53%|█████▎    | 136/256 [02:46<02:21,  1.18s/it]"
     ]
    },
    {
     "name": "stdout",
     "output_type": "stream",
     "text": [
      "running backwards hook\n",
      "running backwards hook\n",
      "running backwards hook\n",
      "running backwards hook\n",
      "running backwards hook\n",
      "running backwards hook\n"
     ]
    },
    {
     "name": "stderr",
     "output_type": "stream",
     "text": [
      " 54%|█████▎    | 137/256 [02:47<02:18,  1.17s/it]"
     ]
    },
    {
     "name": "stdout",
     "output_type": "stream",
     "text": [
      "running backwards hook\n",
      "running backwards hook\n",
      "running backwards hook\n",
      "running backwards hook\n",
      "running backwards hook\n",
      "running backwards hook\n"
     ]
    },
    {
     "name": "stderr",
     "output_type": "stream",
     "text": [
      " 54%|█████▍    | 138/256 [02:48<02:17,  1.16s/it]"
     ]
    },
    {
     "name": "stdout",
     "output_type": "stream",
     "text": [
      "running backwards hook\n",
      "running backwards hook\n",
      "running backwards hook\n",
      "running backwards hook\n",
      "running backwards hook\n",
      "running backwards hook\n"
     ]
    },
    {
     "name": "stderr",
     "output_type": "stream",
     "text": [
      " 54%|█████▍    | 139/256 [02:49<02:16,  1.17s/it]"
     ]
    },
    {
     "name": "stdout",
     "output_type": "stream",
     "text": [
      "running backwards hook\n",
      "running backwards hook\n",
      "running backwards hook\n",
      "running backwards hook\n",
      "running backwards hook\n",
      "running backwards hook\n"
     ]
    },
    {
     "name": "stderr",
     "output_type": "stream",
     "text": [
      " 55%|█████▍    | 140/256 [02:50<02:15,  1.17s/it]"
     ]
    },
    {
     "name": "stdout",
     "output_type": "stream",
     "text": [
      "running backwards hook\n",
      "running backwards hook\n",
      "running backwards hook\n",
      "running backwards hook\n",
      "running backwards hook\n",
      "running backwards hook\n"
     ]
    },
    {
     "name": "stderr",
     "output_type": "stream",
     "text": [
      " 55%|█████▌    | 141/256 [02:51<02:15,  1.17s/it]"
     ]
    },
    {
     "name": "stdout",
     "output_type": "stream",
     "text": [
      "running backwards hook\n",
      "running backwards hook\n",
      "running backwards hook\n",
      "running backwards hook\n",
      "running backwards hook\n",
      "running backwards hook\n"
     ]
    },
    {
     "name": "stderr",
     "output_type": "stream",
     "text": [
      " 55%|█████▌    | 142/256 [02:53<02:13,  1.17s/it]"
     ]
    },
    {
     "name": "stdout",
     "output_type": "stream",
     "text": [
      "running backwards hook\n",
      "running backwards hook\n",
      "running backwards hook\n",
      "running backwards hook\n",
      "running backwards hook\n",
      "running backwards hook\n"
     ]
    },
    {
     "name": "stderr",
     "output_type": "stream",
     "text": [
      " 56%|█████▌    | 143/256 [02:54<02:12,  1.17s/it]"
     ]
    },
    {
     "name": "stdout",
     "output_type": "stream",
     "text": [
      "running backwards hook\n",
      "running backwards hook\n",
      "running backwards hook\n",
      "running backwards hook\n",
      "running backwards hook\n",
      "running backwards hook\n"
     ]
    },
    {
     "name": "stderr",
     "output_type": "stream",
     "text": [
      " 56%|█████▋    | 144/256 [02:55<02:11,  1.17s/it]"
     ]
    },
    {
     "name": "stdout",
     "output_type": "stream",
     "text": [
      "running backwards hook\n",
      "running backwards hook\n",
      "running backwards hook\n",
      "running backwards hook\n",
      "running backwards hook\n",
      "running backwards hook\n"
     ]
    },
    {
     "name": "stderr",
     "output_type": "stream",
     "text": [
      " 57%|█████▋    | 145/256 [02:56<02:10,  1.17s/it]"
     ]
    },
    {
     "name": "stdout",
     "output_type": "stream",
     "text": [
      "running backwards hook\n",
      "running backwards hook\n",
      "running backwards hook\n",
      "running backwards hook\n",
      "running backwards hook\n",
      "running backwards hook\n"
     ]
    },
    {
     "name": "stderr",
     "output_type": "stream",
     "text": [
      " 57%|█████▋    | 146/256 [02:57<02:08,  1.17s/it]"
     ]
    },
    {
     "name": "stdout",
     "output_type": "stream",
     "text": [
      "running backwards hook\n",
      "running backwards hook\n",
      "running backwards hook\n",
      "running backwards hook\n",
      "running backwards hook\n",
      "running backwards hook\n"
     ]
    },
    {
     "name": "stderr",
     "output_type": "stream",
     "text": [
      " 57%|█████▋    | 147/256 [02:58<02:07,  1.17s/it]"
     ]
    },
    {
     "name": "stdout",
     "output_type": "stream",
     "text": [
      "running backwards hook\n",
      "running backwards hook\n",
      "running backwards hook\n",
      "running backwards hook\n",
      "running backwards hook\n",
      "running backwards hook\n"
     ]
    },
    {
     "name": "stderr",
     "output_type": "stream",
     "text": [
      " 58%|█████▊    | 148/256 [03:00<02:06,  1.17s/it]"
     ]
    },
    {
     "name": "stdout",
     "output_type": "stream",
     "text": [
      "running backwards hook\n",
      "running backwards hook\n",
      "running backwards hook\n",
      "running backwards hook\n",
      "running backwards hook\n",
      "running backwards hook\n"
     ]
    },
    {
     "name": "stderr",
     "output_type": "stream",
     "text": [
      " 58%|█████▊    | 149/256 [03:01<02:06,  1.18s/it]"
     ]
    },
    {
     "name": "stdout",
     "output_type": "stream",
     "text": [
      "running backwards hook\n",
      "running backwards hook\n",
      "running backwards hook\n",
      "running backwards hook\n",
      "running backwards hook\n",
      "running backwards hook\n"
     ]
    },
    {
     "name": "stderr",
     "output_type": "stream",
     "text": [
      " 59%|█████▊    | 150/256 [03:02<02:04,  1.17s/it]"
     ]
    },
    {
     "name": "stdout",
     "output_type": "stream",
     "text": [
      "running backwards hook\n",
      "running backwards hook\n",
      "running backwards hook\n",
      "running backwards hook\n",
      "running backwards hook\n",
      "running backwards hook\n"
     ]
    },
    {
     "name": "stderr",
     "output_type": "stream",
     "text": [
      " 59%|█████▉    | 151/256 [03:03<02:03,  1.17s/it]"
     ]
    },
    {
     "name": "stdout",
     "output_type": "stream",
     "text": [
      "running backwards hook\n",
      "running backwards hook\n",
      "running backwards hook\n",
      "running backwards hook\n",
      "running backwards hook\n",
      "running backwards hook\n"
     ]
    },
    {
     "name": "stderr",
     "output_type": "stream",
     "text": [
      " 59%|█████▉    | 152/256 [03:04<02:01,  1.17s/it]"
     ]
    },
    {
     "name": "stdout",
     "output_type": "stream",
     "text": [
      "running backwards hook\n",
      "running backwards hook\n",
      "running backwards hook\n",
      "running backwards hook\n",
      "running backwards hook\n",
      "running backwards hook\n"
     ]
    },
    {
     "name": "stderr",
     "output_type": "stream",
     "text": [
      " 60%|█████▉    | 153/256 [03:06<02:02,  1.19s/it]"
     ]
    },
    {
     "name": "stdout",
     "output_type": "stream",
     "text": [
      "running backwards hook\n",
      "running backwards hook\n",
      "running backwards hook\n",
      "running backwards hook\n",
      "running backwards hook\n",
      "running backwards hook\n"
     ]
    },
    {
     "name": "stderr",
     "output_type": "stream",
     "text": [
      " 60%|██████    | 154/256 [03:07<02:00,  1.18s/it]"
     ]
    },
    {
     "name": "stdout",
     "output_type": "stream",
     "text": [
      "running backwards hook\n",
      "running backwards hook\n",
      "running backwards hook\n",
      "running backwards hook\n",
      "running backwards hook\n",
      "running backwards hook\n"
     ]
    },
    {
     "name": "stderr",
     "output_type": "stream",
     "text": [
      " 61%|██████    | 155/256 [03:08<02:06,  1.25s/it]"
     ]
    },
    {
     "name": "stdout",
     "output_type": "stream",
     "text": [
      "running backwards hook\n",
      "running backwards hook\n",
      "running backwards hook\n",
      "running backwards hook\n",
      "running backwards hook\n",
      "running backwards hook\n"
     ]
    },
    {
     "name": "stderr",
     "output_type": "stream",
     "text": [
      " 61%|██████    | 156/256 [03:09<02:06,  1.27s/it]"
     ]
    },
    {
     "name": "stdout",
     "output_type": "stream",
     "text": [
      "running backwards hook\n",
      "running backwards hook\n",
      "running backwards hook\n",
      "running backwards hook\n",
      "running backwards hook\n",
      "running backwards hook\n"
     ]
    },
    {
     "name": "stderr",
     "output_type": "stream",
     "text": [
      " 61%|██████▏   | 157/256 [03:11<02:03,  1.25s/it]"
     ]
    },
    {
     "name": "stdout",
     "output_type": "stream",
     "text": [
      "running backwards hook\n",
      "running backwards hook\n",
      "running backwards hook\n",
      "running backwards hook\n",
      "running backwards hook\n",
      "running backwards hook\n"
     ]
    },
    {
     "name": "stderr",
     "output_type": "stream",
     "text": [
      " 62%|██████▏   | 158/256 [03:12<01:59,  1.22s/it]"
     ]
    },
    {
     "name": "stdout",
     "output_type": "stream",
     "text": [
      "running backwards hook\n",
      "running backwards hook\n",
      "running backwards hook\n",
      "running backwards hook\n",
      "running backwards hook\n",
      "running backwards hook\n"
     ]
    },
    {
     "name": "stderr",
     "output_type": "stream",
     "text": [
      " 62%|██████▏   | 159/256 [03:13<01:56,  1.20s/it]"
     ]
    },
    {
     "name": "stdout",
     "output_type": "stream",
     "text": [
      "running backwards hook\n",
      "running backwards hook\n",
      "running backwards hook\n",
      "running backwards hook\n",
      "running backwards hook\n",
      "running backwards hook\n"
     ]
    },
    {
     "name": "stderr",
     "output_type": "stream",
     "text": [
      " 62%|██████▎   | 160/256 [03:14<01:55,  1.20s/it]"
     ]
    },
    {
     "name": "stdout",
     "output_type": "stream",
     "text": [
      "running backwards hook\n",
      "running backwards hook\n",
      "running backwards hook\n",
      "running backwards hook\n",
      "running backwards hook\n",
      "running backwards hook\n"
     ]
    },
    {
     "name": "stderr",
     "output_type": "stream",
     "text": [
      " 63%|██████▎   | 161/256 [03:15<01:52,  1.19s/it]"
     ]
    },
    {
     "name": "stdout",
     "output_type": "stream",
     "text": [
      "running backwards hook\n",
      "running backwards hook\n",
      "running backwards hook\n",
      "running backwards hook\n",
      "running backwards hook\n",
      "running backwards hook\n"
     ]
    },
    {
     "name": "stderr",
     "output_type": "stream",
     "text": [
      " 63%|██████▎   | 162/256 [03:16<01:50,  1.17s/it]"
     ]
    },
    {
     "name": "stdout",
     "output_type": "stream",
     "text": [
      "running backwards hook\n",
      "running backwards hook\n",
      "running backwards hook\n",
      "running backwards hook\n",
      "running backwards hook\n",
      "running backwards hook\n"
     ]
    },
    {
     "name": "stderr",
     "output_type": "stream",
     "text": [
      " 64%|██████▎   | 163/256 [03:18<01:48,  1.16s/it]"
     ]
    },
    {
     "name": "stdout",
     "output_type": "stream",
     "text": [
      "running backwards hook\n",
      "running backwards hook\n",
      "running backwards hook\n",
      "running backwards hook\n",
      "running backwards hook\n",
      "running backwards hook\n"
     ]
    },
    {
     "name": "stderr",
     "output_type": "stream",
     "text": [
      " 64%|██████▍   | 164/256 [03:19<01:47,  1.16s/it]"
     ]
    },
    {
     "name": "stdout",
     "output_type": "stream",
     "text": [
      "running backwards hook\n",
      "running backwards hook\n",
      "running backwards hook\n",
      "running backwards hook\n",
      "running backwards hook\n",
      "running backwards hook\n"
     ]
    },
    {
     "name": "stderr",
     "output_type": "stream",
     "text": [
      " 64%|██████▍   | 165/256 [03:20<01:46,  1.17s/it]"
     ]
    },
    {
     "name": "stdout",
     "output_type": "stream",
     "text": [
      "running backwards hook\n",
      "running backwards hook\n",
      "running backwards hook\n",
      "running backwards hook\n",
      "running backwards hook\n",
      "running backwards hook\n"
     ]
    },
    {
     "name": "stderr",
     "output_type": "stream",
     "text": [
      " 65%|██████▍   | 166/256 [03:21<01:45,  1.17s/it]"
     ]
    },
    {
     "name": "stdout",
     "output_type": "stream",
     "text": [
      "running backwards hook\n",
      "running backwards hook\n",
      "running backwards hook\n",
      "running backwards hook\n",
      "running backwards hook\n",
      "running backwards hook\n"
     ]
    },
    {
     "name": "stderr",
     "output_type": "stream",
     "text": [
      " 65%|██████▌   | 167/256 [03:22<01:44,  1.18s/it]"
     ]
    },
    {
     "name": "stdout",
     "output_type": "stream",
     "text": [
      "running backwards hook\n",
      "running backwards hook\n",
      "running backwards hook\n",
      "running backwards hook\n",
      "running backwards hook\n",
      "running backwards hook\n"
     ]
    },
    {
     "name": "stderr",
     "output_type": "stream",
     "text": [
      " 66%|██████▌   | 168/256 [03:23<01:43,  1.17s/it]"
     ]
    },
    {
     "name": "stdout",
     "output_type": "stream",
     "text": [
      "running backwards hook\n",
      "running backwards hook\n",
      "running backwards hook\n",
      "running backwards hook\n",
      "running backwards hook\n",
      "running backwards hook\n"
     ]
    },
    {
     "name": "stderr",
     "output_type": "stream",
     "text": [
      " 66%|██████▌   | 169/256 [03:25<01:42,  1.17s/it]"
     ]
    },
    {
     "name": "stdout",
     "output_type": "stream",
     "text": [
      "running backwards hook\n",
      "running backwards hook\n",
      "running backwards hook\n",
      "running backwards hook\n",
      "running backwards hook\n",
      "running backwards hook\n"
     ]
    },
    {
     "name": "stderr",
     "output_type": "stream",
     "text": [
      " 66%|██████▋   | 170/256 [03:26<01:40,  1.17s/it]"
     ]
    },
    {
     "name": "stdout",
     "output_type": "stream",
     "text": [
      "running backwards hook\n",
      "running backwards hook\n",
      "running backwards hook\n",
      "running backwards hook\n",
      "running backwards hook\n",
      "running backwards hook\n"
     ]
    },
    {
     "name": "stderr",
     "output_type": "stream",
     "text": [
      " 67%|██████▋   | 171/256 [03:27<01:39,  1.17s/it]"
     ]
    },
    {
     "name": "stdout",
     "output_type": "stream",
     "text": [
      "running backwards hook\n",
      "running backwards hook\n",
      "running backwards hook\n",
      "running backwards hook\n",
      "running backwards hook\n",
      "running backwards hook\n"
     ]
    },
    {
     "name": "stderr",
     "output_type": "stream",
     "text": [
      " 67%|██████▋   | 172/256 [03:28<01:41,  1.20s/it]"
     ]
    },
    {
     "name": "stdout",
     "output_type": "stream",
     "text": [
      "running backwards hook\n",
      "running backwards hook\n",
      "running backwards hook\n",
      "running backwards hook\n",
      "running backwards hook\n",
      "running backwards hook\n"
     ]
    },
    {
     "name": "stderr",
     "output_type": "stream",
     "text": [
      " 68%|██████▊   | 173/256 [03:30<01:40,  1.21s/it]"
     ]
    },
    {
     "name": "stdout",
     "output_type": "stream",
     "text": [
      "running backwards hook\n",
      "running backwards hook\n",
      "running backwards hook\n",
      "running backwards hook\n",
      "running backwards hook\n",
      "running backwards hook\n"
     ]
    },
    {
     "name": "stderr",
     "output_type": "stream",
     "text": [
      " 68%|██████▊   | 174/256 [03:31<01:37,  1.19s/it]"
     ]
    },
    {
     "name": "stdout",
     "output_type": "stream",
     "text": [
      "running backwards hook\n",
      "running backwards hook\n",
      "running backwards hook\n",
      "running backwards hook\n",
      "running backwards hook\n",
      "running backwards hook\n"
     ]
    },
    {
     "name": "stderr",
     "output_type": "stream",
     "text": [
      " 68%|██████▊   | 175/256 [03:32<01:36,  1.19s/it]"
     ]
    },
    {
     "name": "stdout",
     "output_type": "stream",
     "text": [
      "running backwards hook\n",
      "running backwards hook\n",
      "running backwards hook\n",
      "running backwards hook\n",
      "running backwards hook\n",
      "running backwards hook\n"
     ]
    },
    {
     "name": "stderr",
     "output_type": "stream",
     "text": [
      " 69%|██████▉   | 176/256 [03:33<01:35,  1.19s/it]"
     ]
    },
    {
     "name": "stdout",
     "output_type": "stream",
     "text": [
      "running backwards hook\n",
      "running backwards hook\n",
      "running backwards hook\n",
      "running backwards hook\n",
      "running backwards hook\n",
      "running backwards hook\n"
     ]
    },
    {
     "name": "stderr",
     "output_type": "stream",
     "text": [
      " 69%|██████▉   | 177/256 [03:34<01:33,  1.18s/it]"
     ]
    },
    {
     "name": "stdout",
     "output_type": "stream",
     "text": [
      "running backwards hook\n",
      "running backwards hook\n",
      "running backwards hook\n",
      "running backwards hook\n",
      "running backwards hook\n",
      "running backwards hook\n"
     ]
    },
    {
     "name": "stderr",
     "output_type": "stream",
     "text": [
      " 70%|██████▉   | 178/256 [03:35<01:34,  1.21s/it]"
     ]
    },
    {
     "name": "stdout",
     "output_type": "stream",
     "text": [
      "running backwards hook\n",
      "running backwards hook\n",
      "running backwards hook\n",
      "running backwards hook\n",
      "running backwards hook\n",
      "running backwards hook\n"
     ]
    },
    {
     "name": "stderr",
     "output_type": "stream",
     "text": [
      " 70%|██████▉   | 179/256 [03:37<01:33,  1.21s/it]"
     ]
    },
    {
     "name": "stdout",
     "output_type": "stream",
     "text": [
      "running backwards hook\n",
      "running backwards hook\n",
      "running backwards hook\n",
      "running backwards hook\n",
      "running backwards hook\n",
      "running backwards hook\n"
     ]
    },
    {
     "name": "stderr",
     "output_type": "stream",
     "text": [
      " 70%|███████   | 180/256 [03:38<01:31,  1.20s/it]"
     ]
    },
    {
     "name": "stdout",
     "output_type": "stream",
     "text": [
      "running backwards hook\n",
      "running backwards hook\n",
      "running backwards hook\n",
      "running backwards hook\n",
      "running backwards hook\n",
      "running backwards hook\n"
     ]
    },
    {
     "name": "stderr",
     "output_type": "stream",
     "text": [
      " 71%|███████   | 181/256 [03:39<01:29,  1.19s/it]"
     ]
    },
    {
     "name": "stdout",
     "output_type": "stream",
     "text": [
      "running backwards hook\n",
      "running backwards hook\n",
      "running backwards hook\n",
      "running backwards hook\n",
      "running backwards hook\n",
      "running backwards hook\n"
     ]
    },
    {
     "name": "stderr",
     "output_type": "stream",
     "text": [
      " 71%|███████   | 182/256 [03:40<01:27,  1.19s/it]"
     ]
    },
    {
     "name": "stdout",
     "output_type": "stream",
     "text": [
      "running backwards hook\n",
      "running backwards hook\n",
      "running backwards hook\n",
      "running backwards hook\n",
      "running backwards hook\n",
      "running backwards hook\n"
     ]
    },
    {
     "name": "stderr",
     "output_type": "stream",
     "text": [
      " 71%|███████▏  | 183/256 [03:41<01:26,  1.19s/it]"
     ]
    },
    {
     "name": "stdout",
     "output_type": "stream",
     "text": [
      "running backwards hook\n",
      "running backwards hook\n",
      "running backwards hook\n",
      "running backwards hook\n",
      "running backwards hook\n",
      "running backwards hook\n"
     ]
    },
    {
     "name": "stderr",
     "output_type": "stream",
     "text": [
      " 72%|███████▏  | 184/256 [03:43<01:25,  1.18s/it]"
     ]
    },
    {
     "name": "stdout",
     "output_type": "stream",
     "text": [
      "running backwards hook\n",
      "running backwards hook\n",
      "running backwards hook\n",
      "running backwards hook\n",
      "running backwards hook\n",
      "running backwards hook\n"
     ]
    },
    {
     "name": "stderr",
     "output_type": "stream",
     "text": [
      " 72%|███████▏  | 185/256 [03:44<01:24,  1.18s/it]"
     ]
    },
    {
     "name": "stdout",
     "output_type": "stream",
     "text": [
      "running backwards hook\n",
      "running backwards hook\n",
      "running backwards hook\n",
      "running backwards hook\n",
      "running backwards hook\n",
      "running backwards hook\n"
     ]
    },
    {
     "name": "stderr",
     "output_type": "stream",
     "text": [
      " 73%|███████▎  | 186/256 [03:45<01:22,  1.18s/it]"
     ]
    },
    {
     "name": "stdout",
     "output_type": "stream",
     "text": [
      "running backwards hook\n",
      "running backwards hook\n",
      "running backwards hook\n",
      "running backwards hook\n",
      "running backwards hook\n",
      "running backwards hook\n"
     ]
    },
    {
     "name": "stderr",
     "output_type": "stream",
     "text": [
      " 73%|███████▎  | 187/256 [03:46<01:22,  1.19s/it]"
     ]
    },
    {
     "name": "stdout",
     "output_type": "stream",
     "text": [
      "running backwards hook\n",
      "running backwards hook\n",
      "running backwards hook\n",
      "running backwards hook\n",
      "running backwards hook\n",
      "running backwards hook\n"
     ]
    },
    {
     "name": "stderr",
     "output_type": "stream",
     "text": [
      " 73%|███████▎  | 188/256 [03:47<01:19,  1.17s/it]"
     ]
    },
    {
     "name": "stdout",
     "output_type": "stream",
     "text": [
      "running backwards hook\n",
      "running backwards hook\n",
      "running backwards hook\n",
      "running backwards hook\n",
      "running backwards hook\n",
      "running backwards hook\n"
     ]
    },
    {
     "name": "stderr",
     "output_type": "stream",
     "text": [
      " 74%|███████▍  | 189/256 [03:48<01:18,  1.18s/it]"
     ]
    },
    {
     "name": "stdout",
     "output_type": "stream",
     "text": [
      "running backwards hook\n",
      "running backwards hook\n",
      "running backwards hook\n",
      "running backwards hook\n",
      "running backwards hook\n",
      "running backwards hook\n"
     ]
    },
    {
     "name": "stderr",
     "output_type": "stream",
     "text": [
      " 74%|███████▍  | 190/256 [03:50<01:21,  1.23s/it]"
     ]
    },
    {
     "name": "stdout",
     "output_type": "stream",
     "text": [
      "running backwards hook\n",
      "running backwards hook\n",
      "running backwards hook\n",
      "running backwards hook\n",
      "running backwards hook\n",
      "running backwards hook\n"
     ]
    },
    {
     "name": "stderr",
     "output_type": "stream",
     "text": [
      " 75%|███████▍  | 191/256 [03:51<01:18,  1.21s/it]"
     ]
    },
    {
     "name": "stdout",
     "output_type": "stream",
     "text": [
      "running backwards hook\n",
      "running backwards hook\n",
      "running backwards hook\n",
      "running backwards hook\n",
      "running backwards hook\n",
      "running backwards hook\n"
     ]
    },
    {
     "name": "stderr",
     "output_type": "stream",
     "text": [
      " 75%|███████▌  | 192/256 [03:52<01:21,  1.28s/it]"
     ]
    },
    {
     "name": "stdout",
     "output_type": "stream",
     "text": [
      "running backwards hook\n",
      "running backwards hook\n",
      "running backwards hook\n",
      "running backwards hook\n",
      "running backwards hook\n",
      "running backwards hook\n"
     ]
    },
    {
     "name": "stderr",
     "output_type": "stream",
     "text": [
      " 75%|███████▌  | 193/256 [03:54<01:18,  1.25s/it]"
     ]
    },
    {
     "name": "stdout",
     "output_type": "stream",
     "text": [
      "running backwards hook\n",
      "running backwards hook\n",
      "running backwards hook\n",
      "running backwards hook\n",
      "running backwards hook\n",
      "running backwards hook\n"
     ]
    },
    {
     "name": "stderr",
     "output_type": "stream",
     "text": [
      " 76%|███████▌  | 194/256 [03:55<01:15,  1.22s/it]"
     ]
    },
    {
     "name": "stdout",
     "output_type": "stream",
     "text": [
      "running backwards hook\n",
      "running backwards hook\n",
      "running backwards hook\n",
      "running backwards hook\n",
      "running backwards hook\n",
      "running backwards hook\n"
     ]
    },
    {
     "name": "stderr",
     "output_type": "stream",
     "text": [
      " 76%|███████▌  | 195/256 [03:56<01:13,  1.20s/it]"
     ]
    },
    {
     "name": "stdout",
     "output_type": "stream",
     "text": [
      "running backwards hook\n",
      "running backwards hook\n",
      "running backwards hook\n",
      "running backwards hook\n",
      "running backwards hook\n",
      "running backwards hook\n"
     ]
    },
    {
     "name": "stderr",
     "output_type": "stream",
     "text": [
      " 77%|███████▋  | 196/256 [03:57<01:12,  1.20s/it]"
     ]
    },
    {
     "name": "stdout",
     "output_type": "stream",
     "text": [
      "running backwards hook\n",
      "running backwards hook\n",
      "running backwards hook\n",
      "running backwards hook\n",
      "running backwards hook\n",
      "running backwards hook\n"
     ]
    },
    {
     "name": "stderr",
     "output_type": "stream",
     "text": [
      " 77%|███████▋  | 197/256 [03:58<01:11,  1.21s/it]"
     ]
    },
    {
     "name": "stdout",
     "output_type": "stream",
     "text": [
      "running backwards hook\n",
      "running backwards hook\n",
      "running backwards hook\n",
      "running backwards hook\n",
      "running backwards hook\n",
      "running backwards hook\n"
     ]
    },
    {
     "name": "stderr",
     "output_type": "stream",
     "text": [
      " 77%|███████▋  | 198/256 [04:00<01:10,  1.21s/it]"
     ]
    },
    {
     "name": "stdout",
     "output_type": "stream",
     "text": [
      "running backwards hook\n",
      "running backwards hook\n",
      "running backwards hook\n",
      "running backwards hook\n",
      "running backwards hook\n",
      "running backwards hook\n"
     ]
    },
    {
     "name": "stderr",
     "output_type": "stream",
     "text": [
      " 78%|███████▊  | 199/256 [04:01<01:09,  1.23s/it]"
     ]
    },
    {
     "name": "stdout",
     "output_type": "stream",
     "text": [
      "running backwards hook\n",
      "running backwards hook\n",
      "running backwards hook\n",
      "running backwards hook\n",
      "running backwards hook\n",
      "running backwards hook\n"
     ]
    },
    {
     "name": "stderr",
     "output_type": "stream",
     "text": [
      " 78%|███████▊  | 200/256 [04:02<01:08,  1.22s/it]"
     ]
    },
    {
     "name": "stdout",
     "output_type": "stream",
     "text": [
      "running backwards hook\n",
      "running backwards hook\n",
      "running backwards hook\n",
      "running backwards hook\n",
      "running backwards hook\n",
      "running backwards hook\n"
     ]
    },
    {
     "name": "stderr",
     "output_type": "stream",
     "text": [
      " 79%|███████▊  | 201/256 [04:03<01:06,  1.20s/it]"
     ]
    },
    {
     "name": "stdout",
     "output_type": "stream",
     "text": [
      "running backwards hook\n",
      "running backwards hook\n",
      "running backwards hook\n",
      "running backwards hook\n",
      "running backwards hook\n",
      "running backwards hook\n"
     ]
    },
    {
     "name": "stderr",
     "output_type": "stream",
     "text": [
      " 79%|███████▉  | 202/256 [04:04<01:04,  1.19s/it]"
     ]
    },
    {
     "name": "stdout",
     "output_type": "stream",
     "text": [
      "running backwards hook\n",
      "running backwards hook\n",
      "running backwards hook\n",
      "running backwards hook\n",
      "running backwards hook\n",
      "running backwards hook\n"
     ]
    },
    {
     "name": "stderr",
     "output_type": "stream",
     "text": [
      " 79%|███████▉  | 203/256 [04:06<01:02,  1.19s/it]"
     ]
    },
    {
     "name": "stdout",
     "output_type": "stream",
     "text": [
      "running backwards hook\n",
      "running backwards hook\n",
      "running backwards hook\n",
      "running backwards hook\n",
      "running backwards hook\n",
      "running backwards hook\n"
     ]
    },
    {
     "name": "stderr",
     "output_type": "stream",
     "text": [
      " 80%|███████▉  | 204/256 [04:07<01:01,  1.18s/it]"
     ]
    },
    {
     "name": "stdout",
     "output_type": "stream",
     "text": [
      "running backwards hook\n",
      "running backwards hook\n",
      "running backwards hook\n",
      "running backwards hook\n",
      "running backwards hook\n",
      "running backwards hook\n"
     ]
    },
    {
     "name": "stderr",
     "output_type": "stream",
     "text": [
      " 80%|████████  | 205/256 [04:08<01:00,  1.18s/it]"
     ]
    },
    {
     "name": "stdout",
     "output_type": "stream",
     "text": [
      "running backwards hook\n",
      "running backwards hook\n",
      "running backwards hook\n",
      "running backwards hook\n",
      "running backwards hook\n",
      "running backwards hook\n"
     ]
    },
    {
     "name": "stderr",
     "output_type": "stream",
     "text": [
      " 80%|████████  | 206/256 [04:09<00:58,  1.18s/it]"
     ]
    },
    {
     "name": "stdout",
     "output_type": "stream",
     "text": [
      "running backwards hook\n",
      "running backwards hook\n",
      "running backwards hook\n",
      "running backwards hook\n",
      "running backwards hook\n",
      "running backwards hook\n"
     ]
    },
    {
     "name": "stderr",
     "output_type": "stream",
     "text": [
      " 81%|████████  | 207/256 [04:10<00:57,  1.18s/it]"
     ]
    },
    {
     "name": "stdout",
     "output_type": "stream",
     "text": [
      "running backwards hook\n",
      "running backwards hook\n",
      "running backwards hook\n",
      "running backwards hook\n",
      "running backwards hook\n",
      "running backwards hook\n"
     ]
    },
    {
     "name": "stderr",
     "output_type": "stream",
     "text": [
      " 81%|████████▏ | 208/256 [04:11<00:56,  1.18s/it]"
     ]
    },
    {
     "name": "stdout",
     "output_type": "stream",
     "text": [
      "running backwards hook\n",
      "running backwards hook\n",
      "running backwards hook\n",
      "running backwards hook\n",
      "running backwards hook\n",
      "running backwards hook\n"
     ]
    },
    {
     "name": "stderr",
     "output_type": "stream",
     "text": [
      " 82%|████████▏ | 209/256 [04:13<00:55,  1.18s/it]"
     ]
    },
    {
     "name": "stdout",
     "output_type": "stream",
     "text": [
      "running backwards hook\n",
      "running backwards hook\n",
      "running backwards hook\n",
      "running backwards hook\n",
      "running backwards hook\n",
      "running backwards hook\n"
     ]
    },
    {
     "name": "stderr",
     "output_type": "stream",
     "text": [
      " 82%|████████▏ | 210/256 [04:14<00:54,  1.18s/it]"
     ]
    },
    {
     "name": "stdout",
     "output_type": "stream",
     "text": [
      "running backwards hook\n",
      "running backwards hook\n",
      "running backwards hook\n",
      "running backwards hook\n",
      "running backwards hook\n",
      "running backwards hook\n"
     ]
    },
    {
     "name": "stderr",
     "output_type": "stream",
     "text": [
      " 82%|████████▏ | 211/256 [04:15<00:52,  1.18s/it]"
     ]
    },
    {
     "name": "stdout",
     "output_type": "stream",
     "text": [
      "running backwards hook\n",
      "running backwards hook\n",
      "running backwards hook\n",
      "running backwards hook\n",
      "running backwards hook\n",
      "running backwards hook\n"
     ]
    },
    {
     "name": "stderr",
     "output_type": "stream",
     "text": [
      " 83%|████████▎ | 212/256 [04:16<00:51,  1.18s/it]"
     ]
    },
    {
     "name": "stdout",
     "output_type": "stream",
     "text": [
      "running backwards hook\n",
      "running backwards hook\n",
      "running backwards hook\n",
      "running backwards hook\n",
      "running backwards hook\n",
      "running backwards hook\n"
     ]
    },
    {
     "name": "stderr",
     "output_type": "stream",
     "text": [
      " 83%|████████▎ | 213/256 [04:17<00:50,  1.18s/it]"
     ]
    },
    {
     "name": "stdout",
     "output_type": "stream",
     "text": [
      "running backwards hook\n",
      "running backwards hook\n",
      "running backwards hook\n",
      "running backwards hook\n",
      "running backwards hook\n",
      "running backwards hook\n"
     ]
    },
    {
     "name": "stderr",
     "output_type": "stream",
     "text": [
      " 84%|████████▎ | 214/256 [04:18<00:49,  1.18s/it]"
     ]
    },
    {
     "name": "stdout",
     "output_type": "stream",
     "text": [
      "running backwards hook\n",
      "running backwards hook\n",
      "running backwards hook\n",
      "running backwards hook\n",
      "running backwards hook\n",
      "running backwards hook\n"
     ]
    },
    {
     "name": "stderr",
     "output_type": "stream",
     "text": [
      " 84%|████████▍ | 215/256 [04:20<00:48,  1.18s/it]"
     ]
    },
    {
     "name": "stdout",
     "output_type": "stream",
     "text": [
      "running backwards hook\n",
      "running backwards hook\n",
      "running backwards hook\n",
      "running backwards hook\n",
      "running backwards hook\n",
      "running backwards hook\n"
     ]
    },
    {
     "name": "stderr",
     "output_type": "stream",
     "text": [
      " 84%|████████▍ | 216/256 [04:21<00:47,  1.18s/it]"
     ]
    },
    {
     "name": "stdout",
     "output_type": "stream",
     "text": [
      "running backwards hook\n",
      "running backwards hook\n",
      "running backwards hook\n",
      "running backwards hook\n",
      "running backwards hook\n",
      "running backwards hook\n"
     ]
    },
    {
     "name": "stderr",
     "output_type": "stream",
     "text": [
      " 85%|████████▍ | 217/256 [04:22<00:46,  1.18s/it]"
     ]
    },
    {
     "name": "stdout",
     "output_type": "stream",
     "text": [
      "running backwards hook\n",
      "running backwards hook\n",
      "running backwards hook\n",
      "running backwards hook\n",
      "running backwards hook\n",
      "running backwards hook\n"
     ]
    },
    {
     "name": "stderr",
     "output_type": "stream",
     "text": [
      " 85%|████████▌ | 218/256 [04:23<00:44,  1.18s/it]"
     ]
    },
    {
     "name": "stdout",
     "output_type": "stream",
     "text": [
      "running backwards hook\n",
      "running backwards hook\n",
      "running backwards hook\n",
      "running backwards hook\n",
      "running backwards hook\n",
      "running backwards hook\n"
     ]
    },
    {
     "name": "stderr",
     "output_type": "stream",
     "text": [
      " 86%|████████▌ | 219/256 [04:24<00:43,  1.18s/it]"
     ]
    },
    {
     "name": "stdout",
     "output_type": "stream",
     "text": [
      "running backwards hook\n",
      "running backwards hook\n",
      "running backwards hook\n",
      "running backwards hook\n",
      "running backwards hook\n",
      "running backwards hook\n"
     ]
    },
    {
     "name": "stderr",
     "output_type": "stream",
     "text": [
      " 86%|████████▌ | 220/256 [04:26<00:42,  1.19s/it]"
     ]
    },
    {
     "name": "stdout",
     "output_type": "stream",
     "text": [
      "running backwards hook\n",
      "running backwards hook\n",
      "running backwards hook\n",
      "running backwards hook\n",
      "running backwards hook\n",
      "running backwards hook\n"
     ]
    },
    {
     "name": "stderr",
     "output_type": "stream",
     "text": [
      " 86%|████████▋ | 221/256 [04:27<00:41,  1.19s/it]"
     ]
    },
    {
     "name": "stdout",
     "output_type": "stream",
     "text": [
      "running backwards hook\n",
      "running backwards hook\n",
      "running backwards hook\n",
      "running backwards hook\n",
      "running backwards hook\n",
      "running backwards hook\n"
     ]
    },
    {
     "name": "stderr",
     "output_type": "stream",
     "text": [
      " 87%|████████▋ | 222/256 [04:28<00:40,  1.19s/it]"
     ]
    },
    {
     "name": "stdout",
     "output_type": "stream",
     "text": [
      "running backwards hook\n",
      "running backwards hook\n",
      "running backwards hook\n",
      "running backwards hook\n",
      "running backwards hook\n",
      "running backwards hook\n"
     ]
    },
    {
     "name": "stderr",
     "output_type": "stream",
     "text": [
      " 87%|████████▋ | 223/256 [04:29<00:39,  1.19s/it]"
     ]
    },
    {
     "name": "stdout",
     "output_type": "stream",
     "text": [
      "running backwards hook\n",
      "running backwards hook\n",
      "running backwards hook\n",
      "running backwards hook\n",
      "running backwards hook\n",
      "running backwards hook\n"
     ]
    },
    {
     "name": "stderr",
     "output_type": "stream",
     "text": [
      " 88%|████████▊ | 224/256 [04:30<00:37,  1.18s/it]"
     ]
    },
    {
     "name": "stdout",
     "output_type": "stream",
     "text": [
      "running backwards hook\n",
      "running backwards hook\n",
      "running backwards hook\n",
      "running backwards hook\n",
      "running backwards hook\n",
      "running backwards hook\n"
     ]
    },
    {
     "name": "stderr",
     "output_type": "stream",
     "text": [
      " 88%|████████▊ | 225/256 [04:31<00:36,  1.18s/it]"
     ]
    },
    {
     "name": "stdout",
     "output_type": "stream",
     "text": [
      "running backwards hook\n",
      "running backwards hook\n",
      "running backwards hook\n",
      "running backwards hook\n",
      "running backwards hook\n",
      "running backwards hook\n"
     ]
    },
    {
     "name": "stderr",
     "output_type": "stream",
     "text": [
      " 88%|████████▊ | 226/256 [04:33<00:35,  1.18s/it]"
     ]
    },
    {
     "name": "stdout",
     "output_type": "stream",
     "text": [
      "running backwards hook\n",
      "running backwards hook\n",
      "running backwards hook\n",
      "running backwards hook\n",
      "running backwards hook\n",
      "running backwards hook\n"
     ]
    },
    {
     "name": "stderr",
     "output_type": "stream",
     "text": [
      " 89%|████████▊ | 227/256 [04:34<00:34,  1.18s/it]"
     ]
    },
    {
     "name": "stdout",
     "output_type": "stream",
     "text": [
      "running backwards hook\n",
      "running backwards hook\n",
      "running backwards hook\n",
      "running backwards hook\n",
      "running backwards hook\n",
      "running backwards hook\n"
     ]
    },
    {
     "name": "stderr",
     "output_type": "stream",
     "text": [
      " 89%|████████▉ | 228/256 [04:35<00:33,  1.18s/it]"
     ]
    },
    {
     "name": "stdout",
     "output_type": "stream",
     "text": [
      "running backwards hook\n",
      "running backwards hook\n",
      "running backwards hook\n",
      "running backwards hook\n",
      "running backwards hook\n",
      "running backwards hook\n"
     ]
    },
    {
     "name": "stderr",
     "output_type": "stream",
     "text": [
      " 89%|████████▉ | 229/256 [04:36<00:31,  1.18s/it]"
     ]
    },
    {
     "name": "stdout",
     "output_type": "stream",
     "text": [
      "running backwards hook\n",
      "running backwards hook\n",
      "running backwards hook\n",
      "running backwards hook\n",
      "running backwards hook\n",
      "running backwards hook\n"
     ]
    },
    {
     "name": "stderr",
     "output_type": "stream",
     "text": [
      " 90%|████████▉ | 230/256 [04:37<00:30,  1.19s/it]"
     ]
    },
    {
     "name": "stdout",
     "output_type": "stream",
     "text": [
      "running backwards hook\n",
      "running backwards hook\n",
      "running backwards hook\n",
      "running backwards hook\n",
      "running backwards hook\n",
      "running backwards hook\n"
     ]
    },
    {
     "name": "stderr",
     "output_type": "stream",
     "text": [
      " 90%|█████████ | 231/256 [04:39<00:29,  1.19s/it]"
     ]
    },
    {
     "name": "stdout",
     "output_type": "stream",
     "text": [
      "running backwards hook\n",
      "running backwards hook\n",
      "running backwards hook\n",
      "running backwards hook\n",
      "running backwards hook\n",
      "running backwards hook\n"
     ]
    },
    {
     "name": "stderr",
     "output_type": "stream",
     "text": [
      " 91%|█████████ | 232/256 [04:40<00:28,  1.19s/it]"
     ]
    },
    {
     "name": "stdout",
     "output_type": "stream",
     "text": [
      "running backwards hook\n",
      "running backwards hook\n",
      "running backwards hook\n",
      "running backwards hook\n",
      "running backwards hook\n",
      "running backwards hook\n"
     ]
    },
    {
     "name": "stderr",
     "output_type": "stream",
     "text": [
      " 91%|█████████ | 233/256 [04:41<00:27,  1.19s/it]"
     ]
    },
    {
     "name": "stdout",
     "output_type": "stream",
     "text": [
      "running backwards hook\n",
      "running backwards hook\n",
      "running backwards hook\n",
      "running backwards hook\n",
      "running backwards hook\n",
      "running backwards hook\n"
     ]
    },
    {
     "name": "stderr",
     "output_type": "stream",
     "text": [
      " 91%|█████████▏| 234/256 [04:42<00:26,  1.18s/it]"
     ]
    },
    {
     "name": "stdout",
     "output_type": "stream",
     "text": [
      "running backwards hook\n",
      "running backwards hook\n",
      "running backwards hook\n",
      "running backwards hook\n",
      "running backwards hook\n",
      "running backwards hook\n"
     ]
    },
    {
     "name": "stderr",
     "output_type": "stream",
     "text": [
      " 92%|█████████▏| 235/256 [04:43<00:24,  1.18s/it]"
     ]
    },
    {
     "name": "stdout",
     "output_type": "stream",
     "text": [
      "running backwards hook\n",
      "running backwards hook\n",
      "running backwards hook\n",
      "running backwards hook\n",
      "running backwards hook\n",
      "running backwards hook\n"
     ]
    },
    {
     "name": "stderr",
     "output_type": "stream",
     "text": [
      " 92%|█████████▏| 236/256 [04:45<00:23,  1.18s/it]"
     ]
    },
    {
     "name": "stdout",
     "output_type": "stream",
     "text": [
      "running backwards hook\n",
      "running backwards hook\n",
      "running backwards hook\n",
      "running backwards hook\n",
      "running backwards hook\n",
      "running backwards hook\n"
     ]
    },
    {
     "name": "stderr",
     "output_type": "stream",
     "text": [
      " 93%|█████████▎| 237/256 [04:46<00:22,  1.18s/it]"
     ]
    },
    {
     "name": "stdout",
     "output_type": "stream",
     "text": [
      "running backwards hook\n",
      "running backwards hook\n",
      "running backwards hook\n",
      "running backwards hook\n",
      "running backwards hook\n",
      "running backwards hook\n"
     ]
    },
    {
     "name": "stderr",
     "output_type": "stream",
     "text": [
      " 93%|█████████▎| 238/256 [04:47<00:21,  1.18s/it]"
     ]
    },
    {
     "name": "stdout",
     "output_type": "stream",
     "text": [
      "running backwards hook\n",
      "running backwards hook\n",
      "running backwards hook\n",
      "running backwards hook\n",
      "running backwards hook\n",
      "running backwards hook\n"
     ]
    },
    {
     "name": "stderr",
     "output_type": "stream",
     "text": [
      " 93%|█████████▎| 239/256 [04:48<00:19,  1.17s/it]"
     ]
    },
    {
     "name": "stdout",
     "output_type": "stream",
     "text": [
      "running backwards hook\n",
      "running backwards hook\n",
      "running backwards hook\n",
      "running backwards hook\n",
      "running backwards hook\n",
      "running backwards hook\n"
     ]
    },
    {
     "name": "stderr",
     "output_type": "stream",
     "text": [
      " 94%|█████████▍| 240/256 [04:49<00:19,  1.19s/it]"
     ]
    },
    {
     "name": "stdout",
     "output_type": "stream",
     "text": [
      "running backwards hook\n",
      "running backwards hook\n",
      "running backwards hook\n",
      "running backwards hook\n",
      "running backwards hook\n",
      "running backwards hook\n"
     ]
    },
    {
     "name": "stderr",
     "output_type": "stream",
     "text": [
      " 94%|█████████▍| 241/256 [04:50<00:17,  1.19s/it]"
     ]
    },
    {
     "name": "stdout",
     "output_type": "stream",
     "text": [
      "running backwards hook\n",
      "running backwards hook\n",
      "running backwards hook\n",
      "running backwards hook\n",
      "running backwards hook\n",
      "running backwards hook\n"
     ]
    },
    {
     "name": "stderr",
     "output_type": "stream",
     "text": [
      " 95%|█████████▍| 242/256 [04:52<00:16,  1.19s/it]"
     ]
    },
    {
     "name": "stdout",
     "output_type": "stream",
     "text": [
      "running backwards hook\n",
      "running backwards hook\n",
      "running backwards hook\n",
      "running backwards hook\n",
      "running backwards hook\n",
      "running backwards hook\n"
     ]
    },
    {
     "name": "stderr",
     "output_type": "stream",
     "text": [
      " 95%|█████████▍| 243/256 [04:53<00:15,  1.19s/it]"
     ]
    },
    {
     "name": "stdout",
     "output_type": "stream",
     "text": [
      "running backwards hook\n",
      "running backwards hook\n",
      "running backwards hook\n",
      "running backwards hook\n",
      "running backwards hook\n",
      "running backwards hook\n"
     ]
    },
    {
     "name": "stderr",
     "output_type": "stream",
     "text": [
      " 95%|█████████▌| 244/256 [04:54<00:14,  1.19s/it]"
     ]
    },
    {
     "name": "stdout",
     "output_type": "stream",
     "text": [
      "running backwards hook\n",
      "running backwards hook\n",
      "running backwards hook\n",
      "running backwards hook\n",
      "running backwards hook\n",
      "running backwards hook\n"
     ]
    },
    {
     "name": "stderr",
     "output_type": "stream",
     "text": [
      " 96%|█████████▌| 245/256 [04:55<00:13,  1.19s/it]"
     ]
    },
    {
     "name": "stdout",
     "output_type": "stream",
     "text": [
      "running backwards hook\n",
      "running backwards hook\n",
      "running backwards hook\n",
      "running backwards hook\n",
      "running backwards hook\n",
      "running backwards hook\n"
     ]
    },
    {
     "name": "stderr",
     "output_type": "stream",
     "text": [
      " 96%|█████████▌| 246/256 [04:56<00:11,  1.18s/it]"
     ]
    },
    {
     "name": "stdout",
     "output_type": "stream",
     "text": [
      "running backwards hook\n",
      "running backwards hook\n",
      "running backwards hook\n",
      "running backwards hook\n",
      "running backwards hook\n",
      "running backwards hook\n"
     ]
    },
    {
     "name": "stderr",
     "output_type": "stream",
     "text": [
      " 96%|█████████▋| 247/256 [04:58<00:10,  1.18s/it]"
     ]
    },
    {
     "name": "stdout",
     "output_type": "stream",
     "text": [
      "running backwards hook\n",
      "running backwards hook\n",
      "running backwards hook\n",
      "running backwards hook\n",
      "running backwards hook\n",
      "running backwards hook\n"
     ]
    },
    {
     "name": "stderr",
     "output_type": "stream",
     "text": [
      " 97%|█████████▋| 248/256 [04:59<00:09,  1.18s/it]"
     ]
    },
    {
     "name": "stdout",
     "output_type": "stream",
     "text": [
      "running backwards hook\n",
      "running backwards hook\n",
      "running backwards hook\n",
      "running backwards hook\n",
      "running backwards hook\n",
      "running backwards hook\n"
     ]
    },
    {
     "name": "stderr",
     "output_type": "stream",
     "text": [
      " 97%|█████████▋| 249/256 [05:00<00:08,  1.18s/it]"
     ]
    },
    {
     "name": "stdout",
     "output_type": "stream",
     "text": [
      "running backwards hook\n",
      "running backwards hook\n",
      "running backwards hook\n",
      "running backwards hook\n",
      "running backwards hook\n",
      "running backwards hook\n"
     ]
    },
    {
     "name": "stderr",
     "output_type": "stream",
     "text": [
      " 98%|█████████▊| 250/256 [05:01<00:07,  1.19s/it]"
     ]
    },
    {
     "name": "stdout",
     "output_type": "stream",
     "text": [
      "running backwards hook\n",
      "running backwards hook\n",
      "running backwards hook\n",
      "running backwards hook\n",
      "running backwards hook\n",
      "running backwards hook\n"
     ]
    },
    {
     "name": "stderr",
     "output_type": "stream",
     "text": [
      " 98%|█████████▊| 251/256 [05:02<00:05,  1.19s/it]"
     ]
    },
    {
     "name": "stdout",
     "output_type": "stream",
     "text": [
      "running backwards hook\n",
      "running backwards hook\n",
      "running backwards hook\n",
      "running backwards hook\n",
      "running backwards hook\n",
      "running backwards hook\n"
     ]
    },
    {
     "name": "stderr",
     "output_type": "stream",
     "text": [
      " 98%|█████████▊| 252/256 [05:04<00:04,  1.19s/it]"
     ]
    },
    {
     "name": "stdout",
     "output_type": "stream",
     "text": [
      "running backwards hook\n",
      "running backwards hook\n",
      "running backwards hook\n",
      "running backwards hook\n",
      "running backwards hook\n",
      "running backwards hook\n"
     ]
    },
    {
     "name": "stderr",
     "output_type": "stream",
     "text": [
      " 99%|█████████▉| 253/256 [05:05<00:03,  1.19s/it]"
     ]
    },
    {
     "name": "stdout",
     "output_type": "stream",
     "text": [
      "running backwards hook\n",
      "running backwards hook\n",
      "running backwards hook\n",
      "running backwards hook\n",
      "running backwards hook\n",
      "running backwards hook\n"
     ]
    },
    {
     "name": "stderr",
     "output_type": "stream",
     "text": [
      " 99%|█████████▉| 254/256 [05:06<00:02,  1.19s/it]"
     ]
    },
    {
     "name": "stdout",
     "output_type": "stream",
     "text": [
      "running backwards hook\n",
      "running backwards hook\n",
      "running backwards hook\n",
      "running backwards hook\n",
      "running backwards hook\n",
      "running backwards hook\n"
     ]
    },
    {
     "name": "stderr",
     "output_type": "stream",
     "text": [
      "100%|█████████▉| 255/256 [05:07<00:01,  1.19s/it]"
     ]
    },
    {
     "name": "stdout",
     "output_type": "stream",
     "text": [
      "running backwards hook\n",
      "running backwards hook\n",
      "running backwards hook\n",
      "running backwards hook\n",
      "running backwards hook\n",
      "running backwards hook\n"
     ]
    },
    {
     "name": "stderr",
     "output_type": "stream",
     "text": [
      "100%|██████████| 256/256 [05:08<00:00,  1.21s/it]"
     ]
    },
    {
     "name": "stdout",
     "output_type": "stream",
     "text": [
      "running backwards hook\n",
      "running backwards hook\n",
      "running backwards hook\n",
      "running backwards hook\n",
      "running backwards hook\n",
      "running backwards hook\n"
     ]
    },
    {
     "name": "stderr",
     "output_type": "stream",
     "text": [
      "\n"
     ]
    }
   ],
   "source": [
    "model.reset_hooks()\n",
    "# The problem is that this is a one-layer attention only model\n",
    "# TODO: extend EAP to QK OV?\n",
    "# or just try this on a larger model\n",
    "graph = EAP(\n",
    "    model=model,\n",
    "    clean_tokens=trusted_tokens,\n",
    "    metric=effect_prob_func, \n",
    "    upstream_nodes=[\"head\"],\n",
    "    downstream_nodes=[\"head\"],\n",
    "    batch_size=64\n",
    ")"
   ]
  },
  {
   "cell_type": "code",
   "execution_count": null,
   "metadata": {},
   "outputs": [],
   "source": [
    "# I guess maybe stay away from transformer lens until automatic huggingface stuff is supported?\n",
    "# seems like a shame\n",
    "# alternatively could \n",
    "    # figure how to load the base model state dict into transformer lens\n",
    "    # factor out the probes, such that you could easily load the probes seperately and use them for a metric\n",
    "\n",
    "\n",
    "\n",
    "# use the transformer lens version as the base model \n",
    "# use"
   ]
  },
  {
   "cell_type": "code",
   "execution_count": 18,
   "metadata": {},
   "outputs": [],
   "source": [
    "top_edges = graph.top_edges(n=20, abs_scores=True)"
   ]
  },
  {
   "cell_type": "code",
   "execution_count": 19,
   "metadata": {},
   "outputs": [
    {
     "name": "stdout",
     "output_type": "stream",
     "text": [
      "head.0.0 -> [0.095] -> head.1.6.k\n",
      "head.0.3 -> [-0.07] -> head.1.6.k\n",
      "head.0.4 -> [-0.067] -> head.1.6.k\n",
      "head.0.2 -> [-0.022] -> head.1.6.v\n",
      "head.0.1 -> [-0.022] -> head.1.6.v\n",
      "head.0.3 -> [-0.018] -> head.1.6.v\n",
      "head.0.4 -> [-0.017] -> head.1.6.q\n",
      "head.0.5 -> [-0.016] -> head.1.4.v\n",
      "head.0.2 -> [-0.014] -> head.1.5.v\n",
      "head.0.1 -> [0.014] -> head.1.6.k\n",
      "head.0.2 -> [-0.014] -> head.1.6.q\n",
      "head.0.1 -> [-0.013] -> head.1.6.q\n",
      "head.0.2 -> [-0.012] -> head.1.6.k\n",
      "head.0.0 -> [-0.011] -> head.1.4.k\n",
      "head.0.1 -> [-0.011] -> head.1.4.v\n",
      "head.0.1 -> [-0.011] -> head.1.4.q\n",
      "head.0.2 -> [-0.011] -> head.1.2.v\n",
      "head.0.1 -> [0.01] -> head.1.2.v\n",
      "head.0.3 -> [0.01] -> head.1.5.q\n",
      "head.0.6 -> [-0.01] -> head.1.3.v\n"
     ]
    }
   ],
   "source": [
    "for from_edge, to_edge, score in top_edges:\n",
    "    print(f'{from_edge} -> [{round(score, 3)}] -> {to_edge}')"
   ]
  },
  {
   "cell_type": "code",
   "execution_count": null,
   "metadata": {},
   "outputs": [],
   "source": [
    "# TODO: follow notebook setup but using arc task model\n"
   ]
  }
 ],
 "metadata": {
  "kernelspec": {
   "display_name": "elk-experiments-AZ2LBS3Q-py3.10",
   "language": "python",
   "name": "python3"
  },
  "language_info": {
   "codemirror_mode": {
    "name": "ipython",
    "version": 3
   },
   "file_extension": ".py",
   "mimetype": "text/x-python",
   "name": "python",
   "nbconvert_exporter": "python",
   "pygments_lexer": "ipython3",
   "version": "3.10.14"
  }
 },
 "nbformat": 4,
 "nbformat_minor": 2
}
