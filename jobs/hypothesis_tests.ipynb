{
 "cells": [
  {
   "cell_type": "code",
   "execution_count": 1,
   "metadata": {},
   "outputs": [],
   "source": [
    "import itertools\n",
    "from datetime import datetime\n",
    "\n",
    "import submitit \n",
    "\n",
    "from elk_experiments.utils import repo_path_to_abs_path, OUTPUT_DIR\n",
    "from auto_circuit.tasks import (\n",
    "    IOI_TOKEN_CIRCUIT_TASK, \n",
    "    IOI_COMPONENT_CIRCUIT_TASK, \n",
    "    IOI_GPT2_AUTOENCODER_COMPONENT_CIRCUIT_TASK, \n",
    "    DOCSTRING_TOKEN_CIRCUIT_TASK, \n",
    "    DOCSTRING_COMPONENT_CIRCUIT_TASK, \n",
    "    GREATERTHAN_COMPONENT_CIRCUIT_TASK, \n",
    "    GREATERTHAN_GPT2_AUTOENCODER_COMPONENT_CIRCUIT_TASK, \n",
    "    ANIMAL_DIET_GPT2_AUTOENCODER_COMPONENT_CIRCUIT_TASK\n",
    ")\n",
    "from auto_circuit.types import AblationType\n",
    "from elk_experiments.auto_circuit.score_funcs import GradFunc, AnswerFunc"
   ]
  },
  {
   "cell_type": "markdown",
   "metadata": {},
   "source": [
    "# Specify Settings / Hyperpameters"
   ]
  },
  {
   "cell_type": "code",
   "execution_count": 2,
   "metadata": {},
   "outputs": [],
   "source": [
    "#specify the hyperparameters\n",
    "tasks = [\n",
    "    IOI_TOKEN_CIRCUIT_TASK, \n",
    "    IOI_COMPONENT_CIRCUIT_TASK, \n",
    "    DOCSTRING_TOKEN_CIRCUIT_TASK, \n",
    "    DOCSTRING_COMPONENT_CIRCUIT_TASK, \n",
    "    GREATERTHAN_COMPONENT_CIRCUIT_TASK, \n",
    "    # IOI_GPT2_AUTOENCODER_COMPONENT_CIRCUIT_TASK, \n",
    "    # GREATERTHAN_GPT2_AUTOENCODER_COMPONENT_CIRCUIT_TASK, \n",
    "    # ANIMAL_DIET_GPT2_AUTOENCODER_COMPONENT_CIRCUIT_TASK\n",
    "]\n",
    "use_abs = [True, False]\n",
    "ablation_types = [\n",
    "    AblationType.RESAMPLE, \n",
    "    AblationType.TOKENWISE_MEAN_CLEAN,\n",
    "    AblationType.TOKENWISE_MEAN_CORRUPT, \n",
    "    AblationType.TOKENWISE_MEAN_CLEAN_AND_CORRUPT,\n",
    "    AblationType.ZERO\n",
    "]\n",
    "grad_funcs = [\n",
    "    GradFunc.LOGIT, \n",
    "    GradFunc.LOGPROB\n",
    "]\n",
    "answer_funcs = [\n",
    "    AnswerFunc.MAX_DIFF, \n",
    "    AnswerFunc.AVG_VAL\n",
    "]\n",
    "\n",
    "use_abs_to_epsilon = {\n",
    "    True: [0.1], \n",
    "    False: [0.0, -0.4]\n",
    "}\n",
    "\n",
    "# generate all combinations\n",
    "combinations = [\n",
    "    {\n",
    "        \"task\": f\"'{task.key}'\",\n",
    "        \"use_abs\": use_ab,\n",
    "        \"ablation_type\": ablation_type.name,\n",
    "        \"grad_func\": grad_func.name,\n",
    "        \"answer_func\": answer_func.name,\n",
    "        \"epsilon\": epsilon\n",
    "    }\n",
    "    for task, use_ab, ablation_type, grad_func, answer_func in itertools.product(\n",
    "        tasks,\n",
    "        use_abs,\n",
    "        ablation_types,\n",
    "        grad_funcs,\n",
    "        answer_funcs\n",
    "    )\n",
    "    for epsilon in use_abs_to_epsilon[use_ab]\n",
    "]\n",
    "\n",
    "# combinations = [\n",
    "#     {\n",
    "#         \"task\": f\"'{IOI_TOKEN_CIRCUIT_TASK.key}'\",\n",
    "#         \"use_abs\": False,\n",
    "#         \"ablation_type\": AblationType.TOKENWISE_MEAN_CORRUPT.name,\n",
    "#         \"grad_func\": GradFunc.LOGPROB.name,\n",
    "#         \"answer_func\": AnswerFunc.AVG_VAL.name,\n",
    "#         \"epsilon\": 0.0\n",
    "#     }\n",
    "# ]"
   ]
  },
  {
   "cell_type": "markdown",
   "metadata": {},
   "source": [
    "# Setup Executor and Run"
   ]
  },
  {
   "cell_type": "code",
   "execution_count": 3,
   "metadata": {},
   "outputs": [
    {
     "name": "stderr",
     "output_type": "stream",
     "text": [
      "/nas/ucb/oliveradk/miniforge3/envs/elk-experiments/lib/python3.10/site-packages/submitit/auto/auto.py:23: UserWarning: Setting 'gres' is deprecated. Use 'slurm_gres' instead.\n",
      "  warnings.warn(f\"Setting '{arg}' is deprecated. Use '{new_arg}' instead.\")\n"
     ]
    }
   ],
   "source": [
    "# setup the executor\n",
    "out_dir = repo_path_to_abs_path(OUTPUT_DIR / \"hypo_test_out_logs\" / datetime.now().strftime(\"%Y-%m-%d_%H-%M-%S\"))\n",
    "out_dir.mkdir(exist_ok=True, parents=True)\n",
    "executor = submitit.AutoExecutor(folder=out_dir)\n",
    "executor.update_parameters(\n",
    "    timeout_min=60*24,\n",
    "    mem_gb=40,\n",
    "    gres=\"gpu:1\",\n",
    "    cpus_per_task=8,\n",
    "    nodes=1,\n",
    "    slurm_qos=\"high\", \n",
    "    slurm_array_parallelism=4\n",
    ")\n"
   ]
  },
  {
   "cell_type": "code",
   "execution_count": 4,
   "metadata": {},
   "outputs": [],
   "source": [
    "# run the jobs\n",
    "with executor.batch():\n",
    "    jobs = []\n",
    "    for combo in combinations:\n",
    "        function = submitit.helpers.CommandFunction(\n",
    "            [\"python\", \"scripts/hypothesis_tests.py\"] + [\n",
    "                f\"{key}={value}\" for key, value in combo.items()\n",
    "            ], \n",
    "            cwd=repo_path_to_abs_path(\".\")\n",
    "        )\n",
    "        jobs.append(executor.submit(function))"
   ]
  },
  {
   "cell_type": "code",
   "execution_count": 5,
   "metadata": {},
   "outputs": [],
   "source": [
    "from submitit.slurm.slurm import SlurmJob\n",
    "from pathlib import Path    \n",
    "def get_std_out_error_paths(job: SlurmJob):\n",
    "    prefix = f\"{job._paths._folder}/{job.job_id}_{job.task_id}_log\"\n",
    "    return Path(prefix + \".out\"), Path(prefix + \".err\")"
   ]
  },
  {
   "cell_type": "code",
   "execution_count": 7,
   "metadata": {},
   "outputs": [],
   "source": [
    "std_out, std_err = get_std_out_error_paths(jobs[0])"
   ]
  },
  {
   "cell_type": "code",
   "execution_count": 23,
   "metadata": {},
   "outputs": [
    {
     "name": "stdout",
     "output_type": "stream",
     "text": [
      "submitit INFO (2024-08-09 00:40:25,337) - Starting with JobEnvironment(job_id=421909_0, hostname=sac.ist.berkeley.edu, local_rank=0(1), node=0(1), global_rank=0(1))\n",
      "submitit INFO (2024-08-09 00:40:25,337) - Loading pickle: /nas/ucb/oliveradk/elk-experiments/output/hypo_test_out_logs/2024-08-08_17-40-22/421909_0_submitted.pkl\n",
      "The following command is sent: \"python scripts/hypothesis_tests.py task='Indirect Object Identification Token Circuit' use_abs=True ablation_type=RESAMPLE grad_func=LOGIT answer_func=MAX_DIFF epsilon=0.1\"\n",
      "Loaded pretrained model gpt2-small into HookedTransformer\n",
      "seq_len before divergence 15\n",
      "seq_len after divergence 13\n",
      "Saving cache to /nas/ucb/oliveradk/elk-experiments/output/hypo_test_results/Indirect_Object_Identification_Token_Circuit_RESAMPLE_LOGIT_MAX_DIFF_10/True_0.05_0.1_0.9/prune_scores-09-08-2024_00-40-49.pkl\n",
      "interval: 0 - 422383\n",
      "width 10000\n",
      "interval: 0 - 10000\n",
      "width 1000\n",
      "interval: 0 - 1000\n",
      "width 100\n",
      "interval: 0 - 100\n",
      "width 10\n",
      "interval: 90 - 100\n",
      "width 1\n",
      "Saving json to /nas/ucb/oliveradk/elk-experiments/output/hypo_test_results/Indirect_Object_Identification_Token_Circuit_RESAMPLE_LOGIT_MAX_DIFF_10/True_0.05_0.1_0.9/equiv_results.json\n",
      "Saving json to /nas/ucb/oliveradk/elk-experiments/output/hypo_test_results/Indirect_Object_Identification_Token_Circuit_RESAMPLE_LOGIT_MAX_DIFF_10/True_0.05_0.1_0.9/equiv_test_result.json\n",
      "Saving json to /nas/ucb/oliveradk/elk-experiments/output/hypo_test_results/Indirect_Object_Identification_Token_Circuit_RESAMPLE_LOGIT_MAX_DIFF_10/True_0.05_0.1_0.9/edges.json\n",
      "Saving json to /nas/ucb/oliveradk/elk-experiments/output/hypo_test_results/Indirect_Object_Identification_Token_Circuit_RESAMPLE_LOGIT_MAX_DIFF_10/True_0.05_0.1_0.9/valid_edges_equiv_result.json\n",
      "Saving json to /nas/ucb/oliveradk/elk-experiments/output/hypo_test_results/Indirect_Object_Identification_Token_Circuit_RESAMPLE_LOGIT_MAX_DIFF_10/True_0.05_0.1_0.9/min_test_results.json\n",
      "Saving json to /nas/ucb/oliveradk/elk-experiments/output/hypo_test_results/Indirect_Object_Identification_Token_Circuit_RESAMPLE_LOGIT_MAX_DIFF_10/True_0.05_0.1_0.9/min_test_sampled_results.json\n",
      "Saving json to /nas/ucb/oliveradk/elk-experiments/output/hypo_test_results/Indirect_Object_Identification_Token_Circuit_RESAMPLE_LOGIT_MAX_DIFF_10/min_test_true_edge_results_100_0.9_0.05.json\n",
      "Saving json to /nas/ucb/oliveradk/elk-experiments/output/hypo_test_results/Indirect_Object_Identification_Token_Circuit_RESAMPLE_LOGIT_MAX_DIFF_10/min_test_true_edge_sampled_results_100_0.9_0.05.json\n",
      "Saving json to /nas/ucb/oliveradk/elk-experiments/output/hypo_test_results/Indirect_Object_Identification_Token_Circuit_RESAMPLE_LOGIT_MAX_DIFF_10/True_0.05_0.1_0.9/indep_result.json\n",
      "Saving json to /nas/ucb/oliveradk/elk-experiments/output/hypo_test_results/Indirect_Object_Identification_Token_Circuit_RESAMPLE_LOGIT_MAX_DIFF_10/indep_true_edge_result.json\n",
      "submitit INFO (2024-08-09 00:43:52,715) - Job completed successfully\n",
      "submitit INFO (2024-08-09 00:43:52,717) - Exiting after successful completion\n",
      "\n"
     ]
    }
   ],
   "source": [
    "# read stdout and stderr\n",
    "print(std_out.read_text())"
   ]
  },
  {
   "cell_type": "code",
   "execution_count": 29,
   "metadata": {},
   "outputs": [
    {
     "data": {
      "text/plain": [
       "6.25"
      ]
     },
     "execution_count": 29,
     "metadata": {},
     "output_type": "execute_result"
    }
   ],
   "source": [
    "len(combinations) / 4 * 5 / 60 # roughly 6 hours"
   ]
  },
  {
   "cell_type": "markdown",
   "metadata": {},
   "source": [
    "# Analysize Results"
   ]
  },
  {
   "cell_type": "markdown",
   "metadata": {},
   "source": [
    "## Pathologies of Ablations and Score Functions\n",
    "\n",
    "- explore some examples on IOI in depth, show how e.g. mean clean ablation just attends from source to test for avg val, similar for max value\n",
    "- zero ablation requires almost every edge, too out of distribution\n",
    "- mean corrupt leads to more \"task identification\" mechanisms\n",
    "- resample ablation allows for patching edges not reached by input, is in this sense more natural (someone has said this before), but also higher variance and less general (constructing contrast pairs is expensive)"
   ]
  },
  {
   "cell_type": "markdown",
   "metadata": {},
   "source": [
    "## Synergies Between Score Functions and Ablation Methodologies"
   ]
  },
  {
   "cell_type": "code",
   "execution_count": 5,
   "metadata": {},
   "outputs": [],
   "source": [
    "# I want to plot fraction of edges required for faithfulness, with bar plot seperated by ablation methodology and and score func (\n",
    "    # generate different plot per answer function"
   ]
  },
  {
   "cell_type": "code",
   "execution_count": 6,
   "metadata": {},
   "outputs": [],
   "source": [
    "from auto_circuit.tasks import Task\n",
    "def get_exp_dir(\n",
    "    task: Task, \n",
    "    ablation_type: AblationType,\n",
    "    grad_func: GradFunc,\n",
    "    answer_func: AnswerFunc,\n",
    "    ig_samples: int, \n",
    "    use_abs: bool,\n",
    "    alpha: float,\n",
    "    epsilon: float,\n",
    "    q_star: float\n",
    "):\n",
    "    return repo_path_to_abs_path(\n",
    "        OUTPUT_DIR / \"hypo_test_results\" / f\"{task.key.replace(' ', '_')}_{ablation_type.name}_{grad_func.name}_{answer_func.name}_{ig_samples}\" / f\"{use_abs}_{alpha}_{epsilon}_{q_star}\"\n",
    "    )"
   ]
  },
  {
   "cell_type": "code",
   "execution_count": 39,
   "metadata": {},
   "outputs": [],
   "source": [
    "import json\n",
    "from collections import defaultdict\n",
    "use_abs_default = True \n",
    "ig_default = 10\n",
    "alpha_default = 0.05\n",
    "q_star_default = 0.9\n",
    "epsilon_default = use_abs_to_epsilon[use_abs_default][0]\n",
    "grad_func_default = GradFunc.LOGPROB\n",
    "considered_tasks = [IOI_TOKEN_CIRCUIT_TASK, DOCSTRING_TOKEN_CIRCUIT_TASK]\n",
    "considered_answer_funcs = [AnswerFunc.MAX_DIFF, AnswerFunc.AVG_VAL]\n",
    "considered_ablation_types = [AblationType.RESAMPLE, AblationType.TOKENWISE_MEAN_CORRUPT]\n",
    "\n",
    "# log frac of total edges needed \n",
    "\n",
    "frac_total_edges = defaultdict(dict) # dictionary from \n",
    "for task in considered_tasks: \n",
    "    for ablation_type, answer_func in itertools.product(considered_ablation_types, considered_answer_funcs):\n",
    "        # get path to results \n",
    "        exp_path = get_exp_dir(task, ablation_type, grad_func_default, answer_func, ig_default, use_abs_default, alpha_default, epsilon_default, q_star_default)\n",
    "        # load equiv test results \n",
    "        with open(exp_path / \"equiv_results.json\", \"r\") as f:\n",
    "            equiv_test_results: dict[int, dict] = json.load(f)\n",
    "        min_equiv = min([int(edge_count) for edge_count, result in equiv_test_results.items() if not result[\"not_equiv\"]])\n",
    "        total_edges = max([int(edge_count) for edge_count in equiv_test_results.keys()])\n",
    "        frac_total_edges[task.key][(ablation_type, answer_func)] = (min_equiv / total_edges, min_equiv, total_edges)\n"
   ]
  },
  {
   "cell_type": "code",
   "execution_count": 40,
   "metadata": {},
   "outputs": [
    {
     "data": {
      "image/png": "[encoded data removed]",
      "text/plain": [
       "<Figure size 1000x600 with 1 Axes>"
      ]
     },
     "metadata": {},
     "output_type": "display_data"
    }
   ],
   "source": [
    "import matplotlib.pyplot as plt\n",
    "import numpy as np\n",
    "# Preparing data for plotting\n",
    "ablation_answer_combinations = list(itertools.product(considered_ablation_types, considered_answer_funcs))\n",
    "n_tasks = len(considered_tasks)\n",
    "n_combinations = len(ablation_answer_combinations)\n",
    "\n",
    "# Plotting\n",
    "fig, ax = plt.subplots(figsize=(10, 6))\n",
    "index = np.arange(n_tasks)\n",
    "bar_width = 0.2\n",
    "opacity = 0.8\n",
    "\n",
    "for i, combination in enumerate(ablation_answer_combinations):\n",
    "    values = [frac_total_edges[task.key][combination][0] for task in considered_tasks]\n",
    "    labels = [frac_total_edges[task.key][combination][1] for task in considered_tasks]\n",
    "    bars = plt.bar(index + i * bar_width, values, bar_width,\n",
    "            alpha=opacity,\n",
    "            label=f'{combination[0]} & {combination[1]}')\n",
    "\n",
    "    # Adding labels above each bar\n",
    "    for bar, label in zip(bars, labels):\n",
    "        plt.text(bar.get_x() + bar.get_width() / 2, bar.get_height(), label,\n",
    "                ha='center', va='bottom')\n",
    "\n",
    "# Labels and titles\n",
    "plt.xlabel('Tasks')\n",
    "plt.ylabel('Fraction of Total Edges')\n",
    "plt.title('Fraction of Total Edges by Task and Ablation/Answer Func Combination')\n",
    "plt.xticks(index + bar_width * (n_combinations / 2), [t.key for t in considered_tasks])\n",
    "plt.legend()\n",
    "\n",
    "plt.yscale('log')\n",
    "\n",
    "plt.tight_layout()\n",
    "plt.show()"
   ]
  },
  {
   "cell_type": "code",
   "execution_count": 16,
   "metadata": {},
   "outputs": [
    {
     "data": {
      "text/plain": [
       "defaultdict(dict,\n",
       "            {'Indirect Object Identification Token Circuit': {(<AblationType.RESAMPLE: 1>,\n",
       "               <AnswerFunc.MAX_DIFF: 'max_diff'>): 0.00022254683545502543,\n",
       "              (<AblationType.RESAMPLE: 1>,\n",
       "               <AnswerFunc.AVG_VAL: 'avg_val'>): 0.015559338325642841,\n",
       "              (<AblationType.TOKENWISE_MEAN_CORRUPT: 4>,\n",
       "               <AnswerFunc.MAX_DIFF: 'max_diff'>): 0.00012547853488421645,\n",
       "              (<AblationType.TOKENWISE_MEAN_CORRUPT: 4>,\n",
       "               <AnswerFunc.AVG_VAL: 'avg_val'>): 0.010293974899557985},\n",
       "             'Docstring Token Circuit': {(<AblationType.RESAMPLE: 1>,\n",
       "               <AnswerFunc.MAX_DIFF: 'max_diff'>): 0.02505854800936768,\n",
       "              (<AblationType.RESAMPLE: 1>,\n",
       "               <AnswerFunc.AVG_VAL: 'avg_val'>): 0.13570127504553733,\n",
       "              (<AblationType.TOKENWISE_MEAN_CORRUPT: 4>,\n",
       "               <AnswerFunc.MAX_DIFF: 'max_diff'>): 0.08683320322664585,\n",
       "              (<AblationType.TOKENWISE_MEAN_CORRUPT: 4>,\n",
       "               <AnswerFunc.AVG_VAL: 'avg_val'>): 0.08683320322664585}})"
      ]
     },
     "execution_count": 16,
     "metadata": {},
     "output_type": "execute_result"
    }
   ],
   "source": [
    "# pl\n",
    "frac_total_edges"
   ]
  },
  {
   "cell_type": "markdown",
   "metadata": {},
   "source": [
    "## Minimality / Completeness Tradeoff"
   ]
  },
  {
   "cell_type": "markdown",
   "metadata": {},
   "source": []
  }
 ],
 "metadata": {
  "kernelspec": {
   "display_name": "elk-experiments",
   "language": "python",
   "name": "python3"
  },
  "language_info": {
   "codemirror_mode": {
    "name": "ipython",
    "version": 3
   },
   "file_extension": ".py",
   "mimetype": "text/x-python",
   "name": "python",
   "nbconvert_exporter": "python",
   "pygments_lexer": "ipython3",
   "version": "3.10.14"
  }
 },
 "nbformat": 4,
 "nbformat_minor": 2
}
